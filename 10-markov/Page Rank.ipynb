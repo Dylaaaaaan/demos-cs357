{
 "cells": [
  {
   "cell_type": "code",
   "execution_count": null,
   "metadata": {
    "collapsed": true
   },
   "outputs": [],
   "source": [
    "import numpy as np\n",
    "import numpy.linalg as la\n",
    "import graph\n",
    "import matplotlib.pyplot as plt\n",
    "%matplotlib inline"
   ]
  },
  {
   "cell_type": "code",
   "execution_count": null,
   "metadata": {},
   "outputs": [],
   "source": [
    "edges = np.array([\n",
    "    [0,1], [0,5],\n",
    "    [1,2], [1,3],\n",
    "    [2,3], [2,4], [2,5],\n",
    "    [3,0],\n",
    "    [4,5],\n",
    "    [5,0],\n",
    "])\n",
    "mat = np.zeros((6,6))\n",
    "for i, j in edges:\n",
    "    mat[j, i] = 1\n",
    "print(mat)"
   ]
  },
  {
   "cell_type": "code",
   "execution_count": null,
   "metadata": {
    "collapsed": true
   },
   "outputs": [],
   "source": [
    "page_names = ['Google', 'Facebook', 'Amazon','Wikipedia','Twitter','YouTube']"
   ]
  },
  {
   "cell_type": "markdown",
   "metadata": {},
   "source": [
    "## Make the Google (modified transition) matrix"
   ]
  },
  {
   "cell_type": "code",
   "execution_count": null,
   "metadata": {
    "scrolled": true
   },
   "outputs": [],
   "source": [
    "A = np.copy(mat)\n",
    "\n",
    "alpha = 1#0.85\n",
    "n = A.shape[0]\n",
    "\n",
    "M = alpha * A / A.sum(axis=0) # + (1-alpha) * np.ones((n,n)) / n\n",
    "print(M)"
   ]
  },
  {
   "cell_type": "code",
   "execution_count": null,
   "metadata": {},
   "outputs": [],
   "source": [
    "graph.graph_matrix(A, page_names, show_weights=False)"
   ]
  },
  {
   "cell_type": "code",
   "execution_count": null,
   "metadata": {
    "collapsed": true
   },
   "outputs": [],
   "source": [
    "#graph.graph_matrix(M, page_names)"
   ]
  },
  {
   "cell_type": "code",
   "execution_count": null,
   "metadata": {},
   "outputs": [],
   "source": [
    "x0 = np.array([0.1,0.2,0.1,0.3,0.1,0.2])\n",
    "\n",
    "x1=M@x0\n",
    "print(x1)\n",
    "print(la.norm(x1,1))"
   ]
  },
  {
   "cell_type": "code",
   "execution_count": null,
   "metadata": {},
   "outputs": [],
   "source": [
    "x0 = np.random.rand((6))\n",
    "x0N=x0/la.norm(x0,1)\n",
    "\n",
    "x = x0N.copy()\n",
    "its = 20\n",
    "allx = np.zeros((6,its))\n",
    "allx[:,0] = x\n",
    "\n",
    "for k in range(1,its):\n",
    "    x = M.dot(x)\n",
    "    allx[:,k] = x\n",
    "    \n",
    "plt.plot(allx.T)\n",
    "plt.legend(page_names)\n",
    "\n",
    "print(\"x = \",x)"
   ]
  },
  {
   "cell_type": "markdown",
   "metadata": {},
   "source": [
    "## Make the Google (modified transition) matrix when one (or more) pages does not have outgoing links"
   ]
  },
  {
   "cell_type": "code",
   "execution_count": null,
   "metadata": {},
   "outputs": [],
   "source": [
    "A = np.copy(mat)\n",
    "A[:,-1] = 0\n",
    "graph.graph_matrix(A, page_names, show_weights=False)"
   ]
  },
  {
   "cell_type": "code",
   "execution_count": null,
   "metadata": {},
   "outputs": [],
   "source": [
    "A[:,-1] = 1\n",
    "graph.graph_matrix(A, page_names, show_weights=False)"
   ]
  },
  {
   "cell_type": "code",
   "execution_count": null,
   "metadata": {},
   "outputs": [],
   "source": [
    "alpha = 1# 0.85\n",
    "n = A.shape[0]\n",
    "\n",
    "M = alpha * A / A.sum(axis=0)  #+ (1-alpha) * np.ones((n,n)) / n\n",
    "print(M)"
   ]
  },
  {
   "cell_type": "code",
   "execution_count": null,
   "metadata": {
    "collapsed": true
   },
   "outputs": [],
   "source": [
    "x0 = np.random.rand((6))\n",
    "x0N=x0/la.norm(x0,1)\n",
    "\n",
    "x = x0N.copy()\n",
    "its = 20\n",
    "allx = np.zeros((6,its))\n",
    "allx[:,0] = x\n",
    "\n",
    "for k in range(1,its):\n",
    "    x = M.dot(x)\n",
    "    allx[:,k] = x\n",
    "    \n",
    "plt.plot(allx.T)\n",
    "plt.legend(page_names)\n",
    "\n",
    "print(\"x = \",x)"
   ]
  },
  {
   "cell_type": "code",
   "execution_count": null,
   "metadata": {
    "collapsed": true
   },
   "outputs": [],
   "source": []
  }
 ],
 "metadata": {
  "kernelspec": {
   "display_name": "Python 3",
   "language": "python",
   "name": "python3"
  },
  "language_info": {
   "codemirror_mode": {
    "name": "ipython",
    "version": 3
   },
   "file_extension": ".py",
   "mimetype": "text/x-python",
   "name": "python",
   "nbconvert_exporter": "python",
   "pygments_lexer": "ipython3",
   "version": "3.6.3"
  }
 },
 "nbformat": 4,
 "nbformat_minor": 2
}
