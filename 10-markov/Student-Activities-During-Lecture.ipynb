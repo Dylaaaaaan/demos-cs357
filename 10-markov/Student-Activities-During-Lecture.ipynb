{
 "cells": [
  {
   "cell_type": "code",
   "execution_count": null,
   "metadata": {
    "collapsed": true
   },
   "outputs": [],
   "source": [
    "import numpy as np\n",
    "import numpy.linalg as la\n",
    "import matplotlib.pyplot as plt\n",
    "%matplotlib inline\n",
    "import graph"
   ]
  },
  {
   "cell_type": "markdown",
   "metadata": {},
   "source": [
    "<img src=\"StudentLecture.png\" alt=\"Sparse\" style=\"width: 500px;\"/>"
   ]
  },
  {
   "cell_type": "markdown",
   "metadata": {},
   "source": [
    "After one time step...  ($x_1 \\leftarrow A x_0$)"
   ]
  },
  {
   "cell_type": "code",
   "execution_count": null,
   "metadata": {
    "collapsed": true
   },
   "outputs": [],
   "source": [
    "A  = np.array([\n",
    "    [0.6,  0.4, 0.2, 0.3],\n",
    "    [0.2, 0.5, 0.1, 0.2],\n",
    "    [0.15, 0.1,  0.7, 0.0],\n",
    "    [0.05, 0, 0  , 0.5]\n",
    "])"
   ]
  },
  {
   "cell_type": "code",
   "execution_count": null,
   "metadata": {
    "collapsed": true
   },
   "outputs": [],
   "source": [
    "activity_names = ['lecture', 'web', 'hw', 'text']"
   ]
  },
  {
   "cell_type": "code",
   "execution_count": null,
   "metadata": {},
   "outputs": [],
   "source": [
    "graph.graph_matrix(A,activity_names)"
   ]
  },
  {
   "cell_type": "code",
   "execution_count": null,
   "metadata": {},
   "outputs": [],
   "source": [
    "x0 = np.array([0.8, 0.1, 0.0, 0.1])\n",
    "x1=A@x0\n",
    "print(\"x1 = \",x1)"
   ]
  },
  {
   "cell_type": "markdown",
   "metadata": {},
   "source": [
    "What about after five time steps?"
   ]
  },
  {
   "cell_type": "code",
   "execution_count": null,
   "metadata": {},
   "outputs": [],
   "source": [
    "x = np.array([0.8, 0.1, 0.0, 0.1])\n",
    "#x = np.array([0, 0.2, 0.1, 0.7])\n",
    "print(x)\n",
    "for k in range(5):\n",
    "    x=A@x\n",
    "    print(\"x = \",x)"
   ]
  },
  {
   "cell_type": "markdown",
   "metadata": {},
   "source": [
    "What happens in the long run?"
   ]
  },
  {
   "cell_type": "code",
   "execution_count": null,
   "metadata": {},
   "outputs": [],
   "source": [
    "x0 = np.array([0.8, 0.1, 0.0, 0.1])\n",
    "\n",
    "x = x0.copy()\n",
    "its = 40\n",
    "allx = np.zeros((4,its))\n",
    "allx[:,0] = x\n",
    "\n",
    "print(\"x0 = \",x)\n",
    "\n",
    "for k in range(1,its):\n",
    "    x = A.dot(x)\n",
    "    allx[:,k] = x\n",
    "    \n",
    "plt.plot(allx.T)\n",
    "plt.legend(activity_names)\n",
    "plt.grid()\n",
    "\n",
    "print(\"x = \",x)"
   ]
  },
  {
   "cell_type": "code",
   "execution_count": null,
   "metadata": {
    "collapsed": true
   },
   "outputs": [],
   "source": []
  }
 ],
 "metadata": {
  "kernelspec": {
   "display_name": "Python 3",
   "language": "python",
   "name": "python3"
  },
  "language_info": {
   "codemirror_mode": {
    "name": "ipython",
    "version": 3
   },
   "file_extension": ".py",
   "mimetype": "text/x-python",
   "name": "python",
   "nbconvert_exporter": "python",
   "pygments_lexer": "ipython3",
   "version": "3.6.3"
  }
 },
 "nbformat": 4,
 "nbformat_minor": 2
}
