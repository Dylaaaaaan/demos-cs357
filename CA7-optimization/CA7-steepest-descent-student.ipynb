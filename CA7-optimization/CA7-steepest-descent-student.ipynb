{
  "cells": [
    {
      "cell_type": "code",
      "execution_count": null,
      "metadata": {
        "collapsed": true
      },
      "outputs": [],
      "source": [
        "import numpy as np\n",
        "import numpy.linalg as la\n",
        "import scipy.optimize as opt\n",
        "import matplotlib.pyplot as plt"
      ]
    },
    {
      "cell_type": "markdown",
      "metadata": {},
      "source": [
        "# Steepest Descent in Machine Learning"
      ]
    },
    {
      "cell_type": "markdown",
      "metadata": {},
      "source": [
        "Recall that steepest descent is an optimization algorithm that computes the minimum of a function by\n",
        "$$x_{k+1} = x_k - \\alpha_k \\nabla f(x_k),$$\n",
        "where $x_k$ is the solution at step $k$, and $\\alpha_k$ is a line search parameter that is computed by solving the 1-dimensional optimization problem\n",
        "$$\n",
        "\\alpha_k = \\min_{\\alpha_k} f(x_k - \\alpha_k \\nabla f(x_k))\n",
        "$$\n",
        "\n",
        "We will explore how we can use steepest descent in machine learning."
      ]
    },
    {
      "cell_type": "markdown",
      "metadata": {},
      "source": [
        "## 1) Example 1: Linear Regression\n",
        "\n",
        "In this first example, we will use steepest descent to compute a linear regression (line of best fit) model over some data.\n",
        "\n",
        "(This isn't the only way of computing the line of best fit and later on in the course we will explore other methods for accomplishing this same task.)"
      ]
    },
    {
      "cell_type": "markdown",
      "metadata": {},
      "source": [
        "The data that we will be working with is an $n \\times 2$ numpy array where each row represents an $(x_i,y_i)$ pair."
      ]
    },
    {
      "cell_type": "code",
      "execution_count": null,
      "metadata": {
        "collapsed": true
      },
      "outputs": [],
      "source": [
        "data = np.genfromtxt('data.csv', delimiter=',')"
      ]
    },
    {
      "cell_type": "markdown",
      "metadata": {},
      "source": [
        "Plot the data to see what it looks like."
      ]
    },
    {
      "cell_type": "code",
      "execution_count": null,
      "metadata": {},
      "outputs": [],
      "source": [
        "plt.scatter(data[:,0], data[:,1])\n",
        "plt.xlabel('x')\n",
        "plt.ylabel('y')\n",
        "plt.show()"
      ]
    },
    {
      "cell_type": "markdown",
      "metadata": {},
      "source": [
        "The first step in applying steepest descent is to formulate a function that we want to minimize.\n",
        "\n",
        "To compute the line of best fit, we want to construct a line ($y = mx+b$) and minimize the error between this line and the data points. Therefore, we want to minimize the sum of square error:\n",
        "$$\n",
        "E(m,b) = \\frac{1}{N} \\sum_{i=1}^N (y_i - (mx_i+b))^2\n",
        "$$\n",
        "\n",
        "that can be written as a unconstrained optimization problem:\n",
        "\n",
        "$$\\min_{m,b} E(m,b) $$"
      ]
    },
    {
      "cell_type": "markdown",
      "metadata": {},
      "source": [
        "Since we will be using steepest descent to solve this optimization problem, we need to be able to evaluate $E$ and $\\nabla E$. \n",
        "\n",
        "a) Let's write a function to compute the error $E(m,b)$. The function will have the following signature:\n",
        "\n",
        "```python\n",
        "def E(mb, data):\n",
        "    # Compute error in the linear regression model using the sum of square error formula\n",
        "    # mb: Numpy array of length 2 with first entry as m and second entry as b\n",
        "    # data: 2D Numpy array of length nx2 where each row represents an (xi,yi) pair with n data points  \n",
        "    # totalError: Scalar output of sum of square error formula\n",
        "    totalError = ...\n",
        "    return totalError\n",
        "```"
      ]
    },
    {
      "cell_type": "code",
      "execution_count": null,
      "metadata": {
        "collapsed": true
      },
      "outputs": [],
      "source": []
    },
    {
      "cell_type": "markdown",
      "metadata": {},
      "source": [
        "You can try $m=1$ and $b=2$ as arguments to help debugging your code snippet. Your function should return `594.259213603709`."
      ]
    },
    {
      "cell_type": "code",
      "execution_count": null,
      "metadata": {},
      "outputs": [],
      "source": []
    },
    {
      "cell_type": "markdown",
      "metadata": {},
      "source": [
        "b) Now that we the function that we want to minimize, we need to compute it's gradient $\\nabla E$.\n",
        "\n",
        "You should compute the analytical form of these derivatives by hand (it is a good practice!) You can also later compare your results with SymPy. Note that the independent variables are m and b. The function should have the following signature:\n",
        "\n",
        "```python\n",
        "def gradE(mb, data):\n",
        "    # Compute the gradient of the error in the linear regression model\n",
        "    # mb: Numpy array of length 2 with first entry as m and second entry as b\n",
        "    # data: 2D Numpy array of length nx2 where each row represents an (xi,yi) pair with n data points\n",
        "    \n",
        "    # grad: Numpy array of length 2 with first entry as partial derivative with respect to m\n",
        "    #       and second entry as partial derivative with respect to b    \n",
        "    m_gradient = ...\n",
        "    b_gradient = ...   \n",
        "    grad = np.array([m_gradient, b_gradient])\n",
        "    return grad\n",
        "```"
      ]
    },
    {
      "cell_type": "code",
      "execution_count": null,
      "metadata": {
        "collapsed": true
      },
      "outputs": [],
      "source": []
    },
    {
      "cell_type": "markdown",
      "metadata": {},
      "source": [
        "You can try $m=1$ and $b=2$ as arguments to help debugging your code snippet. Your function should return `[-2192.94722958   -43.55341818]`.\n"
      ]
    },
    {
      "cell_type": "code",
      "execution_count": null,
      "metadata": {},
      "outputs": [],
      "source": [
        "mb = np.array([1.,2.])\n",
        "print(gradE(mb,data))"
      ]
    },
    {
      "cell_type": "markdown",
      "metadata": {},
      "source": [
        "The last thing that we need before we can write a function for steepest descent, is to solve a 1-dimensional optimization problem to solve for the line search parameter. However, in machine learning we want to avoid this and employ a heuristic approach.\n",
        "\n",
        "Instead, we will pick a \"learning rate\" and use that instead of a line search parameter."
      ]
    },
    {
      "cell_type": "code",
      "execution_count": null,
      "metadata": {
        "collapsed": true
      },
      "outputs": [],
      "source": [
        "learning_rate = 0.0001"
      ]
    },
    {
      "cell_type": "markdown",
      "metadata": {},
      "source": [
        "We should now have everything that we need to use steepest descent.\n",
        "\n",
        "### Steepest descent using a fixed learning rate\n",
        "\n",
        "Let's write a function for steepest descent with the following signature:\n",
        "```python\n",
        "def steepest_descent(mb, learning_rate, data, num_iterations):\n",
        "    # mb: Numpy array of length 2 containing initial guess for parameters m and b\n",
        "    # learning_rate: Scalar with the learning rate that will be applied to steepest descent\n",
        "    # data: 2D Numpy array of length nx2 where each row represents an (xi,yi) pair with n data points\n",
        "    # num_iterations: Integer with the number of iterations to run steepest descent        \n",
        "    # mb_list: list that contains the history of values [m,b] for each iteration\n",
        "    return mb_list\n",
        "```\n",
        "\n",
        "Note that in the above, we are not imposing a tolerance as stopping criteria, but instead letting the algorithm iterates for a fixed number of steps (`num_iterations`)."
      ]
    },
    {
      "cell_type": "code",
      "execution_count": null,
      "metadata": {
        "collapsed": true
      },
      "outputs": [],
      "source": [
        "\n",
        "\n"
      ]
    },
    {
      "cell_type": "markdown",
      "metadata": {},
      "source": [
        "Now, we have everything we need to compute a line of best fit for a given data set."
      ]
    },
    {
      "cell_type": "markdown",
      "metadata": {},
      "source": [
        "Let's assume that our initial guess for the linear regression model is 0, meaning that\n",
        "\n",
        "```python\n",
        "m = 0.\n",
        "b = 0.\n",
        "```\n",
        "\n",
        "Let's plot the data again but now with our model to see what the initial line of best fit looks like."
      ]
    },
    {
      "cell_type": "code",
      "execution_count": null,
      "metadata": {},
      "outputs": [],
      "source": [
        "# Initial guess for m and b\n",
        "mb_initial = np.array([0.,0.])\n",
        "\n",
        "# Line y = mx + b\n",
        "xs = np.linspace(20,70,num=1000)\n",
        "ys = mb_initial[0]*xs + mb_initial[1]\n",
        "\n",
        "plt.scatter(data[:,0], data[:,1], label = 'data')\n",
        "plt.plot(xs,ys,'r', label = 'Initial model')\n",
        "plt.legend()\n",
        "plt.xlabel('x')\n",
        "plt.ylabel('y')\n",
        "plt.show()"
      ]
    },
    {
      "cell_type": "markdown",
      "metadata": {},
      "source": [
        "Perform 100 iterations of steepest descent and plot the model (line) with the optimized values of $m$ and $b$."
      ]
    },
    {
      "cell_type": "code",
      "execution_count": null,
      "metadata": {},
      "outputs": [],
      "source": [
        "\n",
        "\n"
      ]
    },
    {
      "cell_type": "markdown",
      "metadata": {},
      "source": [
        "Let's investigate the error in the model to see how steepest descent is minimizing the function.\n",
        "Compute the error (using the function `E`) for each update of `m` and `b` that was stored as a return value in `steepest_descent`. Store the error for each iteration in the list `errors`. *Note: you could have included this calculation inside your `steepest_descent` function.*"
      ]
    },
    {
      "cell_type": "code",
      "execution_count": null,
      "metadata": {
        "collapsed": true
      },
      "outputs": [],
      "source": [
        "\n"
      ]
    },
    {
      "cell_type": "markdown",
      "metadata": {},
      "source": [
        "Plot the error at each iteration. "
      ]
    },
    {
      "cell_type": "code",
      "execution_count": null,
      "metadata": {},
      "outputs": [],
      "source": [
        "errors = np.array(errors)\n",
        "plt.semilogy(errors, label = 'error')\n",
        "plt.xlabel('iteration')\n",
        "plt.legend()\n",
        "plt.show()"
      ]
    },
    {
      "cell_type": "markdown",
      "metadata": {},
      "source": [
        "It looks like the algorithm didn't need all the 100 iterations. Can you think of a better stopping criteria? Try that later (for now, let's just move on to the next section)."
      ]
    },
    {
      "cell_type": "markdown",
      "metadata": {},
      "source": [
        "### Steepest descent - what happens when we change the learning rate?"
      ]
    },
    {
      "cell_type": "markdown",
      "metadata": {},
      "source": [
        "For all these experiments, we stated that learning_rate $= 0.0001$. What would happen if we were to increase or decrease the learning rate?\n",
        "\n",
        "Run the steps above for the learning rates `[1e-6, 1e-5, 1e-4]`. Save the values of `m` and `b` obtained for the three different learning rates.\n",
        "\n",
        "1) Plot the data and the model (lines) for the three different values of `learning_rate`\n",
        "\n",
        "2) Plot the error for the three different values of `learning_rate`\n"
      ]
    },
    {
      "cell_type": "code",
      "execution_count": null,
      "metadata": {},
      "outputs": [],
      "source": [
        "\n",
        "\n"
      ]
    },
    {
      "cell_type": "markdown",
      "metadata": {},
      "source": [
        "As we can see from the above plots, the number of steps for convergence will change depending on the `learning_rate`. "
      ]
    },
    {
      "cell_type": "markdown",
      "metadata": {},
      "source": [
        "### Steepest descent using golden-section search"
      ]
    },
    {
      "cell_type": "markdown",
      "metadata": {},
      "source": [
        "In class, we learned about golden-section search for solving for the line search parameter. How can we use it to compute the parameter $\\alpha$ in steepest descent for this example?\n",
        "\n",
        "We need to first create a wrapper function so that we can minimize $f(x_k - \\alpha \\nabla f(x_k))$ with respect to $\\alpha$."
      ]
    },
    {
      "cell_type": "code",
      "execution_count": null,
      "metadata": {
        "collapsed": true
      },
      "outputs": [],
      "source": [
        "def objective_1d(alpha, mb, data):\n",
        "    mb_next = mb - alpha * gradE(mb, data)\n",
        "    return E(mb_next, data)"
      ]
    },
    {
      "cell_type": "markdown",
      "metadata": {},
      "source": [
        "Create a new steepest descent function to compute the line search parameter. Use `scipy.optimize.golden` to compute $\\alpha$.\n",
        "```python\n",
        "alpha = opt.golden(objective_1d, args = (mb,data))\n",
        "```\n",
        "The steepest descent function signature should be:\n",
        "\n",
        "```python\n",
        "def steepest_descent_gss(mb, data, num_iterations):\n",
        "    # mb: Numpy array of length 2 containing initial guess for parameters m and b\n",
        "    # data: 2D Numpy array of length nx2 where each row represents an (xi,yi) pair with n data points\n",
        "    # num_iterations: Integer with the number of iterations to run steepest descent        \n",
        "    # mb_list: list that contains the history of values [m,b] for each iteration\n",
        "    return mb_list\n",
        "```"
      ]
    },
    {
      "cell_type": "code",
      "execution_count": null,
      "metadata": {
        "collapsed": true
      },
      "outputs": [],
      "source": [
        "\n"
      ]
    },
    {
      "cell_type": "markdown",
      "metadata": {},
      "source": [
        "Plot the error of using golden-section search for the line search parameter and compare the results with using a learning rate. Does this improve the convergence? How many iterations does it take for steepest descent to converge?"
      ]
    },
    {
      "cell_type": "code",
      "execution_count": null,
      "metadata": {},
      "outputs": [],
      "source": [
        "\n",
        "\n"
      ]
    },
    {
      "cell_type": "markdown",
      "metadata": {},
      "source": [
        "In practice, we don't use golden-section search in machine learning and instead we employ the heuristic that we described earlier of using a learning rate (note that the learning rate is not fixed, but updated using different methods). Why would we want use a learning rate over a line search parameter?"
      ]
    },
    {
      "cell_type": "markdown",
      "metadata": {},
      "source": [
        "## Example 2: Location of Cities\n",
        "http://www.benfrederickson.com/numerical-optimization/"
      ]
    },
    {
      "cell_type": "markdown",
      "metadata": {},
      "source": [
        "In this example, given data on the distance between different cities, we want map out the cities by finding their locations in a 2-dimensional coordinate system.\n",
        "\n",
        "Below is an example of distance data that we may have available that will allow us to map a list of cities."
      ]
    },
    {
      "cell_type": "markdown",
      "metadata": {},
      "source": [
        "![Table of Distances Between Various Cities](city_table.png)"
      ]
    },
    {
      "cell_type": "markdown",
      "metadata": {},
      "source": [
        "Let's load the data that we will be working with in this example.\n",
        "`city_data` is an $n \\times n$ numpy array where $n$ is the number of cities. `city_data` will store the table of distances between cities similar to the one above."
      ]
    },
    {
      "cell_type": "code",
      "execution_count": null,
      "metadata": {
        "collapsed": true
      },
      "outputs": [],
      "source": [
        "city_data = np.load('city_data.npy')"
      ]
    },
    {
      "cell_type": "markdown",
      "metadata": {},
      "source": [
        "Before we start working with the data, we need to normalize the data by dividing by the largest element. This will allow us to more easily generate an initial guess for the location of each city."
      ]
    },
    {
      "cell_type": "code",
      "execution_count": null,
      "metadata": {
        "collapsed": true
      },
      "outputs": [],
      "source": [
        "city_data = city_data/np.max(city_data)"
      ]
    },
    {
      "cell_type": "markdown",
      "metadata": {},
      "source": [
        "Below is a list of cities that we want to locate on a map."
      ]
    },
    {
      "cell_type": "code",
      "execution_count": null,
      "metadata": {
        "collapsed": true
      },
      "outputs": [],
      "source": [
        "city_names = [\n",
        "    \"Vancouver\", \n",
        "    \"Portland\", \n",
        "    \"New York\", \n",
        "    \"Miami\", \n",
        "    \"Mexico City\", \n",
        "    \"Los Angeles\", \n",
        "    \"Toronto\", \n",
        "    \"Panama City\", \n",
        "    \"Winnipeg\", \n",
        "    \"Montreal\", \n",
        "    \"San Francisco\", \n",
        "    \"Calgary\", \n",
        "    \"Chicago\", \n",
        "    \"Halifax\", \n",
        "    \"New Orleans\", \n",
        "    \"Saskatoon\", \n",
        "    \"Guatemala City\", \n",
        "    \"Santa Fe\", \n",
        "    \"Austin\", \n",
        "    \"Edmonton\", \n",
        "    \"Washington\", \n",
        "    \"Phoenix\", \n",
        "    \"Atlanta\", \n",
        "    \"Seattle\", \n",
        "    \"Denver\"\n",
        "  ]"
      ]
    },
    {
      "cell_type": "markdown",
      "metadata": {},
      "source": [
        "Similar to the first example, the first step is to define the function that we need to minimize."
      ]
    },
    {
      "cell_type": "markdown",
      "metadata": {},
      "source": [
        "One way to formulate this problem is using the following loss function:\n",
        "\n",
        "$$\n",
        "loss({\\bf X}) = \\sum_i \\sum_j (({\\bf X}_i - {\\bf X}_j)^T({\\bf X}_i - {\\bf X}_j) - D_{ij}^2)^2\n",
        "$$\n",
        "\n",
        "- ${\\bf X}_i$ and ${\\bf X}_j$ are the positions for cities $i$ and $j$. Each position ${\\bf X}$ has two components, the $x$ and $y$ coordinates. ** These are the variables we want to find! **\n",
        "\n",
        "- $({\\bf X}_i - {\\bf X}_j)^T({\\bf X}_i - {\\bf X}_j)$ is the squared-distance between cities $i$ and $j$, given the positions ${\\bf X}_i$ and ${\\bf X}_j$.\n",
        "\n",
        "- $D_{ij}$ is the known distance between cities $i$ and $j$. ** These are the given (known) variables provided in `city_data`.**\n",
        "\n",
        "The loss function measures how much the actual location and the guess location differ. The optimization problem becomes:\n",
        "\n",
        "$$ \\min_{{\\bf X}} loss({\\bf X}) $$"
      ]
    },
    {
      "cell_type": "markdown",
      "metadata": {},
      "source": [
        "Assume that the location of cities is stored as `city_loc`, a 1D numpy array of size $2n$, such that the x-coordinate of a given city is stored first followed by it's y-coordinate.\n",
        "\n",
        "I.e.\n",
        "$$\n",
        "\\text{city_loc} = \n",
        "\\begin{bmatrix}\n",
        "X_1[0]\\\\\n",
        "X_1[1]\\\\\n",
        "\\vdots \\\\\n",
        "X_n[0]\\\\\n",
        "X_n[1]\n",
        "\\end{bmatrix}\n",
        "$$\n",
        "\n",
        "For example, if we had the cities Los Angeles, San Francisco and Chicago with their locations $(0.2,0.1),(0.2,0.5),(0.6,0.7)$, respectively, then `city_loc` would be\n",
        "$$\n",
        "\\text{city_loc} = \n",
        "\\begin{bmatrix}\n",
        "0.2\\\\\n",
        "0.1\\\\\n",
        "0.2 \\\\\n",
        "0.5\\\\\n",
        "0.6\\\\\n",
        "0.7\n",
        "\\end{bmatrix}\n",
        ".\n",
        "$$"
      ]
    },
    {
      "cell_type": "markdown",
      "metadata": {},
      "source": [
        "Write the loss function defined above, with the following signature:\n",
        "```python\n",
        "def loss(city_loc, city_data):\n",
        "    # city_loc: Numpy array of length 2n containing the x- and y-coordinates of all the cities\n",
        "    # city_data: 2D Numpy array of length nxn containing the table of distances between cities  \n",
        "    # totalLoss: Scalar with the output of the loss function for a given set of locations of cities\n",
        "    return totalLoss\n",
        "```"
      ]
    },
    {
      "cell_type": "code",
      "execution_count": null,
      "metadata": {
        "collapsed": true
      },
      "outputs": [],
      "source": [
        "\n",
        "\n"
      ]
    },
    {
      "cell_type": "markdown",
      "metadata": {},
      "source": [
        "Before we move on, let's check that our loss function is correct.\n",
        "\n",
        "Check the output of your function on the following inputs. The loss function should evaluate to `0.2691297854852331`."
      ]
    },
    {
      "cell_type": "code",
      "execution_count": null,
      "metadata": {},
      "outputs": [],
      "source": [
        "city_loc = np.array([0.2,0.1,0.2,0.5,0.6,0.7])\n",
        "print(loss(city_loc,city_data[:3,:3]))"
      ]
    },
    {
      "cell_type": "markdown",
      "metadata": {},
      "source": [
        "Now that we have the function that we want to minimize, we need to compute it's gradient to use steepest descent.\n",
        "\n",
        "$$\n",
        "\\begin{align}\n",
        "\\frac{\\partial loss}{\\partial X_k} =& \\sum_i -4 ((X_i-X_k)^T(X_i-X_k) - D_{ik}^2) (X_i-X_k)\n",
        "\\\\+& \\sum_j 4 ((X_k-X_j)^T(X_k-X_j) D_{kj}^2) (X_k-X_j)\n",
        "\\end{align}\n",
        "$$"
      ]
    },
    {
      "cell_type": "markdown",
      "metadata": {},
      "source": [
        "We will give you one way to evaluate the gradient below. After lecture, make sure you can write this function for yourself. It is important to know how to obtain gradient of functions."
      ]
    },
    {
      "cell_type": "code",
      "execution_count": null,
      "metadata": {
        "collapsed": true
      },
      "outputs": [],
      "source": [
        "def gradientLoss(city_loc, city_data):\n",
        "    n = len(city_loc)\n",
        "    grad = np.zeros(n)\n",
        "    \n",
        "    for k in range(n//2):\n",
        "        for i in range(n//2):\n",
        "            xik = city_loc[2*i:2*i+2] - city_loc[2*k:2*k+2]\n",
        "            grad[2*k:2*k+2] += -4 * (np.dot(xik,xik) - city_data[i,k]**2) * xik\n",
        "\n",
        "        for j in range(n//2):\n",
        "            xkj = city_loc[2*k:2*k+2] - city_loc[2*j:2*j+2]\n",
        "            grad[2*k:2*k+2] += 4 * (np.dot(xkj,xkj) - city_data[k,j]**2) * xkj\n",
        "    return grad"
      ]
    },
    {
      "cell_type": "markdown",
      "metadata": {},
      "source": [
        "Let's check that our gradient function is correct. Using the same input as we used in testing our loss function, the resulting gradient should be\n",
        "\n",
        "`[ 0.14328835 -0.27303188  1.05797149  1.01695016 -1.20125985 -0.74391827]`."
      ]
    },
    {
      "cell_type": "code",
      "execution_count": null,
      "metadata": {},
      "outputs": [],
      "source": [
        "city_loc = np.array([0.2,0.1,0.2,0.5,0.6,0.7])\n",
        "print(gradientLoss(city_loc, city_data[:3,:3]))"
      ]
    },
    {
      "cell_type": "markdown",
      "metadata": {},
      "source": [
        "We should now have everything that we need to use steepest descent if we use a learning rate instead of a line search parameter.\n",
        "\n",
        "### Steepest descent using learning rate\n",
        "Write a function to run steepest descent for this problem. \n",
        "\n",
        "- Store the solution after each iteration of steepest descent in a list called `city_loc_history`. To make plotting easier, we will reshape `city_loc` when we store it so that it is of shape $n \\times 2$ instead of $2n$.\n",
        "\n",
        "- Store the loss function after each iteration in a list called `loss_history`.\n",
        "\n",
        "- Your algorithm should not exceed a given maximum number of iterations. \n",
        "\n",
        "- In addition, you should add a convergence stopping criteria. Here assume that the change in the loss function from one iteration to the other should be smaller than a given tolerance `tol`.\n",
        "\n",
        "```python\n",
        "def steepest_descent(city_loc, learning_rate, city_data, num_iterations, tol):\n",
        "    # compute num_iterations of steepest_descent\n",
        "    city_loc_history = [city_loc.reshape(-1,2)]\n",
        "    loss_history = []\n",
        "    \n",
        "    for i in range(num_iterations):\n",
        "    \n",
        "        # write step of steepest descent here\n",
        "        \n",
        "        loss_history.append( ... )\n",
        "       \n",
        "        city_loc_history.append(city_loc.reshape(-1,2))\n",
        "        \n",
        "        if (check if tolerance is reached):\n",
        "            break\n",
        "        \n",
        "    return city_loc_history, loss_history\n",
        "```"
      ]
    },
    {
      "cell_type": "code",
      "execution_count": null,
      "metadata": {
        "collapsed": true
      },
      "outputs": [],
      "source": [
        "\n",
        "\n",
        "\n"
      ]
    },
    {
      "cell_type": "markdown",
      "metadata": {},
      "source": [
        "Using your `steepest_descent` function, find the location of each city.\n",
        "Use a random initial guess for the location of each of the cities and use the following parameters.\n",
        "\n",
        "```python\n",
        "learning_rate = 0.005\n",
        "num_iterations = 300\n",
        "tol = 1e-8\n",
        "```"
      ]
    },
    {
      "cell_type": "code",
      "execution_count": null,
      "metadata": {
        "collapsed": true
      },
      "outputs": [],
      "source": [
        "\n",
        "\n"
      ]
    },
    {
      "cell_type": "markdown",
      "metadata": {},
      "source": [
        "We can use the `np.dstack` function to change the list of city locations into a numpy array.\n",
        "We will have a 3D numpy array with dimensions $n \\times 2 \\times num\\_iterations$."
      ]
    },
    {
      "cell_type": "code",
      "execution_count": null,
      "metadata": {
        "collapsed": true
      },
      "outputs": [],
      "source": [
        "city_loc_history = np.dstack(city_loc_history)"
      ]
    },
    {
      "cell_type": "markdown",
      "metadata": {},
      "source": [
        "Now let's display the location of each of the cities.\n",
        "Note, you can use `plt.text` to display the name of the city on the plot next to its location instead of using a legend. The following code snippet will plot the final location of the cities if we assume that we stored the result of steepest descent as `city_loc_history`."
      ]
    },
    {
      "cell_type": "code",
      "execution_count": null,
      "metadata": {},
      "outputs": [],
      "source": [
        "num_cities = city_loc_history.shape[0]\n",
        "\n",
        "for i in range(num_cities):\n",
        "    plt.scatter(city_loc_history[i,0,-1], city_loc_history[i,1,-1])\n",
        "    plt.text(city_loc_history[i,0,-1], city_loc_history[i,1,-1], city_names[i])\n",
        "plt.show()"
      ]
    },
    {
      "cell_type": "markdown",
      "metadata": {},
      "source": [
        "Does your plot make sense? Keep in mind that we aren't keeping track of orientation (we don't have a fixed point for the origin) so you may need to \"rotate\" or \"invert\" your plot (mentally) for it to make sense.  Or if you want an extra challenge for after class, you can modify the optimization problem to include a fixed origin :-)"
      ]
    },
    {
      "cell_type": "markdown",
      "metadata": {},
      "source": [
        "You can plot the history of the loss function, and observe the convergence of the optimization (you can also try with `semilogy`)"
      ]
    },
    {
      "cell_type": "code",
      "execution_count": null,
      "metadata": {},
      "outputs": [],
      "source": [
        "plt.plot(loss_history, label = 'loss')\n",
        "plt.xlabel('iteration')\n",
        "plt.legend()\n",
        "plt.show()"
      ]
    },
    {
      "cell_type": "markdown",
      "metadata": {},
      "source": [
        "Let's also include how location of each of the cities changes throughout the optimization iterations. The following code snippet assumes that the output for steepest descent is stored in `city_loc_history` and is a numpy array of shape $n \\times 2 \\times num\\_iterations$"
      ]
    },
    {
      "cell_type": "code",
      "execution_count": null,
      "metadata": {},
      "outputs": [],
      "source": [
        "num_cities = city_loc_history.shape[0]\n",
        "\n",
        "for i in range(num_cities):\n",
        "    plt.plot(city_loc_history[i,0,:], city_loc_history[i,1,:])\n",
        "    plt.text(city_loc_history[i,0,-1], city_loc_history[i,1,-1], city_names[i])\n",
        "plt.show()"
      ]
    },
    {
      "cell_type": "markdown",
      "metadata": {},
      "source": [
        "The plot looks too cluttered, right?\n",
        "Repeat the same experiment but use a smaller number of cities. But don't forget to normalize the smaller data set. Use 10 cities for this smaller experiment."
      ]
    },
    {
      "cell_type": "code",
      "execution_count": null,
      "metadata": {},
      "outputs": [],
      "source": [
        "\n",
        "\n",
        "\n"
      ]
    },
    {
      "cell_type": "markdown",
      "metadata": {},
      "source": [
        "Let's see how the loss changes after each iteration. Plot the `loss_history` variable."
      ]
    },
    {
      "cell_type": "code",
      "execution_count": null,
      "metadata": {},
      "outputs": [],
      "source": [
        "plt.plot(loss_hist_2, label = 'loss')\n",
        "plt.xlabel('iteration')\n",
        "plt.legend()\n",
        "plt.show()"
      ]
    },
    {
      "cell_type": "markdown",
      "metadata": {},
      "source": [
        "Repeat the same experiment but try different values for the learning rate.\n",
        "What happens when we decrease the learning rate? Do we need more iterations?\n",
        "What happens when we increase the learning rate? Do we need more or less iterations?"
      ]
    },
    {
      "cell_type": "markdown",
      "metadata": {},
      "source": [
        "### Steepest descent with golden-section search\n",
        "\n",
        "Now, let's use golden-section search again for computing the line search parameter instead of a learning rate.\n",
        "\n",
        "Wrap the function that we are minimzing so that $\\alpha$ is a parameter. "
      ]
    },
    {
      "cell_type": "code",
      "execution_count": null,
      "metadata": {
        "collapsed": true
      },
      "outputs": [],
      "source": [
        "def objective_1d(alpha, city_loc, city_data):\n",
        "    return loss(city_loc - alpha * gradientLoss(city_loc,city_data), city_data)"
      ]
    },
    {
      "cell_type": "markdown",
      "metadata": {},
      "source": [
        "Rewrite your steepest descent function so that it uses `scipy.optimize.golden`."
      ]
    },
    {
      "cell_type": "code",
      "execution_count": null,
      "metadata": {
        "collapsed": true
      },
      "outputs": [],
      "source": [
        "\n",
        "\n",
        "\n"
      ]
    },
    {
      "cell_type": "markdown",
      "metadata": {},
      "source": [
        "Use your new function for steepest descent with line search to find the location of the cities and plot the result. You can use the code snippets for plotting that we provided above."
      ]
    },
    {
      "cell_type": "code",
      "execution_count": null,
      "metadata": {},
      "outputs": [],
      "source": [
        "num_iterations = 300\n",
        "tol = 1e-8\n",
        "\n",
        "city_hist3, loss_hist3 = sd_line(city_loc2, city_data2, num_iterations, tol)\n",
        "city_hist3 = np.dstack(city_hist3)\n",
        "\n",
        "num_cities = city_hist3.shape[0]\n",
        "\n",
        "for i in range(num_cities):\n",
        "    plt.plot(city_hist3[i,0,:], city_hist3[i,1,:])\n",
        "    plt.text(city_hist3[i,0,-1], city_hist3[i,1,-1], city_names[i])\n",
        "plt.show()"
      ]
    },
    {
      "cell_type": "markdown",
      "metadata": {},
      "source": [
        "What do you notice about how the solution evolves? Do you expect using a line search method that the solution will converge faster or slower? Will using a line search method increase the cost per iteration of steepest descent?\n",
        "\n",
        "Plot the loss function at each iteration to see if it converges in fewer number of iterations."
      ]
    },
    {
      "cell_type": "code",
      "execution_count": null,
      "metadata": {},
      "outputs": [],
      "source": [
        "plt.semilogy(loss_hist3, label = 'loss')\n",
        "plt.xlabel('iteration')\n",
        "plt.legend()\n",
        "plt.show()"
      ]
    },
    {
      "cell_type": "markdown",
      "metadata": {},
      "source": [
        "### Using scipy function"
      ]
    },
    {
      "cell_type": "markdown",
      "metadata": {},
      "source": [
        "We can now compare the functions you defined above with the `minimize` function from `scipy`"
      ]
    },
    {
      "cell_type": "code",
      "execution_count": null,
      "metadata": {
        "collapsed": true
      },
      "outputs": [],
      "source": [
        "import scipy.optimize as sopt\n",
        "\n",
        "num_cities = 6\n",
        "tol = 1e-5\n",
        "\n",
        "city_data_small = city_data[:num_cities,:num_cities]/np.max(city_data[:num_cities,:num_cities])\n",
        "x0 = np.random.rand(2*city_data_small.shape[0])"
      ]
    },
    {
      "cell_type": "code",
      "execution_count": null,
      "metadata": {},
      "outputs": [],
      "source": [
        "# Providing only the function to the optimization algorithm \n",
        "# Note that it takes a lot more function evaluations for the optimization, since\n",
        "# gradient and Hessians are approximated in the backend\n",
        "res1 = sopt.minimize(loss, x0, args=(city_data_small), tol=tol )\n",
        "xopt1 = res1.x.reshape(num_cities,2)\n",
        "print(xopt1)\n",
        "print('Optimized loss value is ', res1.fun)\n",
        "print('converged in', res1.nit, 'iteration with', res1.nfev, 'function evaluations' )"
      ]
    },
    {
      "cell_type": "code",
      "execution_count": null,
      "metadata": {},
      "outputs": [],
      "source": [
        "# Providing function and gradient to the optimization algorithm\n",
        "# Note that the number of function evaluations are reduced, since only Hessian are now approximated\n",
        "res2 = sopt.minimize(loss, x0, args=(city_data_small) , jac=gradientLoss, tol = tol )\n",
        "xopt2 = res2.x.reshape(num_cities,2)\n",
        "print(xopt2)\n",
        "print('Optimized loss value is ', res2.fun)\n",
        "print('converged in', res2.nit, 'iteration with', res2.nfev, 'function evaluations' )"
      ]
    },
    {
      "cell_type": "code",
      "execution_count": null,
      "metadata": {},
      "outputs": [],
      "source": [
        "xhist,loss_hist = sd_line(x0, city_data_6_cities, 400, tol)\n",
        "xopt3 = xhist[-1]\n",
        "print(xopt3)\n",
        "print('Optimized loss value is ', loss_hist[-1])\n",
        "print('convergend in ', len(loss_hist),'iterations')"
      ]
    },
    {
      "cell_type": "code",
      "execution_count": null,
      "metadata": {},
      "outputs": [],
      "source": [
        "xhist,loss_hist = steepest_descent(x0, 0.01,  city_data_6_cities, 400, tol)\n",
        "xopt3 = xhist[-1]\n",
        "print(xopt3)\n",
        "print('Optimized loss value is ', loss_hist[-1])\n",
        "print('convergend in ', len(loss_hist),'iterations')"
      ]
    },
    {
      "cell_type": "code",
      "execution_count": null,
      "metadata": {},
      "outputs": [],
      "source": [
        "num_cities = 6\n",
        "for i in range(num_cities):\n",
        "    plt.scatter(xopt1[i,0], xopt1[i,1])\n",
        "    plt.text(xopt1[i,0], xopt1[i,1], city_names[i])\n",
        "plt.show()"
      ]
    },
    {
      "cell_type": "code",
      "execution_count": null,
      "metadata": {},
      "outputs": [],
      "source": [
        "num_cities = 6\n",
        "for i in range(num_cities):\n",
        "    plt.scatter(xopt3[i,0], xopt3[i,1])\n",
        "    plt.text(xopt3[i,0], xopt3[i,1], city_names[i])\n",
        "plt.show()"
      ]
    },
    {
      "cell_type": "code",
      "execution_count": null,
      "metadata": {
        "collapsed": true
      },
      "outputs": [],
      "source": []
    }
  ],
  "metadata": {
    "kernelspec": {
      "display_name": "Python 3",
      "language": "python",
      "name": "python3"
    },
    "language_info": {
      "codemirror_mode": {
        "name": "ipython",
        "version": 3
      },
      "file_extension": ".py",
      "mimetype": "text/x-python",
      "name": "python",
      "nbconvert_exporter": "python",
      "pygments_lexer": "ipython3",
      "version": "3.6.9"
    }
  },
  "nbformat": 4,
  "nbformat_minor": 2
}