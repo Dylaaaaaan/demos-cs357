{
 "cells": [
  {
   "cell_type": "code",
   "execution_count": 1,
   "metadata": {
    "collapsed": true
   },
   "outputs": [],
   "source": [
    "import numpy.linalg as la\n",
    "import numpy as np"
   ]
  },
  {
   "cell_type": "code",
   "execution_count": 2,
   "metadata": {
    "collapsed": true
   },
   "outputs": [],
   "source": [
    "ndim = np.array([2,3,8,11,14])"
   ]
  },
  {
   "cell_type": "markdown",
   "metadata": {},
   "source": [
    "Let's perform linear solves for matrices with increasing size \"n\", for a problem in which we know what the solution would be."
   ]
  },
  {
   "cell_type": "code",
   "execution_count": 3,
   "metadata": {},
   "outputs": [
    {
     "name": "stdout",
     "output_type": "stream",
     "text": [
      "------ N = 2 ----------\n",
      "Norm of error =  0.0\n",
      "------ N = 3 ----------\n",
      "Norm of error =  2.49738493867e-15\n",
      "------ N = 8 ----------\n",
      "Norm of error =  1.93070305749e-14\n",
      "------ N = 11 ----------\n",
      "Norm of error =  7.40194940931e-15\n",
      "------ N = 14 ----------\n",
      "Norm of error =  5.30007960288e-15\n"
     ]
    }
   ],
   "source": [
    "for nd in ndim:\n",
    "    ## This is the vector 'x' that we want to obtain (the exact one)\n",
    "    x = np.ones(nd)\n",
    "    ## Create a matrix with random values between 0 and 1\n",
    "    A = np.random.rand(nd,nd)\n",
    "    ## We compute the matrix-vector multiplication \n",
    "    ## to find the right-hand side b\n",
    "    b = A @ x\n",
    "    ## We now use the linear algebra pack to compute Ax = b and solve for x\n",
    "    x_solve = la.solve(A,b)\n",
    "    ## What do we expect? \n",
    "    print(\"------ N =\", nd, \"----------\")\n",
    "    error = x_solve-x\n",
    "    print(\"Norm of error = \", la.norm(error,2)) "
   ]
  },
  {
   "cell_type": "markdown",
   "metadata": {},
   "source": [
    "Now we will perform the same computation, but for a special matrix, known as the Hilbert matrix"
   ]
  },
  {
   "cell_type": "code",
   "execution_count": 4,
   "metadata": {
    "collapsed": true
   },
   "outputs": [],
   "source": [
    "def Hilbert(n):\n",
    "    \n",
    "    H = np.zeros((n, n))    \n",
    "    for i in range(n):        \n",
    "        for j in range(n):        \n",
    "            H[i,j] = 1.0/(j+i+1)    \n",
    "    return H"
   ]
  },
  {
   "cell_type": "code",
   "execution_count": 5,
   "metadata": {},
   "outputs": [
    {
     "name": "stdout",
     "output_type": "stream",
     "text": [
      "------ N = 2 ----------\n",
      "Norm of error =  8.00593208497e-16\n",
      "------ N = 3 ----------\n",
      "Norm of error =  1.38955400221e-14\n",
      "------ N = 8 ----------\n",
      "Norm of error =  5.0350659022e-07\n",
      "------ N = 11 ----------\n",
      "Norm of error =  0.0195918096324\n",
      "------ N = 14 ----------\n",
      "Norm of error =  6.99974791536\n"
     ]
    }
   ],
   "source": [
    "for nd in ndim:\n",
    "    ## This is the vector 'x' that we want to obtain (the exact one)\n",
    "    x = np.ones(nd)\n",
    "    ## Create the Hilbert matrix\n",
    "    A = Hilbert(nd)\n",
    "    ## We compute the matrix-vector multiplication \n",
    "    ## to find the right-hand side b\n",
    "    b = A @ x\n",
    "    \n",
    "    ## We now use the linear algebra pack to compute Ax = b and solve for x\n",
    "    x_solve = la.solve(A,b)\n",
    "    ## What do we expect? \n",
    "    print(\"------ N =\", nd, \"----------\")\n",
    "    error = x_solve-x\n",
    "    print(\"Norm of error = \", la.norm(error,2)) "
   ]
  },
  {
   "cell_type": "code",
   "execution_count": 6,
   "metadata": {},
   "outputs": [
    {
     "name": "stdout",
     "output_type": "stream",
     "text": [
      "[ 0.99999985  1.00002076  0.99927926  1.01069926  0.91619132  1.38032247\n",
      " -0.02036746  2.47417863  0.56641165 -1.35352445  5.55922945 -2.98137159\n",
      "  2.77700163  0.67192909]\n"
     ]
    }
   ],
   "source": [
    "print(x_solve)"
   ]
  },
  {
   "cell_type": "markdown",
   "metadata": {},
   "source": [
    "### What went wrong?"
   ]
  },
  {
   "cell_type": "code",
   "execution_count": 7,
   "metadata": {},
   "outputs": [
    {
     "data": {
      "text/plain": [
       "array([ 0.99999985,  1.00002076,  0.99927926,  1.01069926,  0.91619132,\n",
       "        1.38032247, -0.02036746,  2.47417863,  0.56641165, -1.35352445,\n",
       "        5.55922945, -2.98137159,  2.77700163,  0.67192909])"
      ]
     },
     "execution_count": 7,
     "metadata": {},
     "output_type": "execute_result"
    }
   ],
   "source": [
    "x_solve"
   ]
  },
  {
   "cell_type": "markdown",
   "metadata": {},
   "source": [
    "## Condition number"
   ]
  },
  {
   "cell_type": "markdown",
   "metadata": {},
   "source": [
    "The solution to this linear system is extremely sensitive to small changes in the matrix entries and the right-hand side entries. What is the condition number of the Hilbert matrix?"
   ]
  },
  {
   "cell_type": "code",
   "execution_count": 8,
   "metadata": {},
   "outputs": [
    {
     "name": "stdout",
     "output_type": "stream",
     "text": [
      "------ N = 2 ----------\n",
      "Norm of error =  8.00593208497e-16\n",
      "Condition number =  19.2814700679\n",
      "------ N = 3 ----------\n",
      "Norm of error =  1.38955400221e-14\n",
      "Condition number =  524.056777586\n",
      "------ N = 8 ----------\n",
      "Norm of error =  5.0350659022e-07\n",
      "Condition number =  15257574847.2\n",
      "------ N = 11 ----------\n",
      "Norm of error =  0.0195918096324\n",
      "Condition number =  5.2171239291e+14\n",
      "------ N = 14 ----------\n",
      "Norm of error =  6.99974791536\n",
      "Condition number =  6.98091758497e+17\n"
     ]
    }
   ],
   "source": [
    "for nd in ndim:\n",
    "    ## This is the vector 'x' that we want to obtain (the exact one)\n",
    "    x = np.ones(nd)\n",
    "    ## Create the Hilbert matrix\n",
    "    A = Hilbert(nd)\n",
    "    ## We compute the matrix-vector multiplication \n",
    "    ## to find the right-hand side b\n",
    "    b = A @ x\n",
    "    ## We now use the linear algebra pack to compute Ax = b and solve for x\n",
    "    x_solve = la.solve(A,b)\n",
    "    ## What do we expect? \n",
    "    print(\"------ N =\", nd, \"----------\")\n",
    "    error = x_solve-x\n",
    "    print(\"Norm of error = \", la.norm(error,2)) \n",
    "    print(\"Condition number = \", la.cond(A,2))"
   ]
  },
  {
   "cell_type": "markdown",
   "metadata": {
    "collapsed": true
   },
   "source": [
    "## Residual"
   ]
  },
  {
   "cell_type": "code",
   "execution_count": null,
   "metadata": {
    "collapsed": true
   },
   "outputs": [],
   "source": [
    "for nd in ndim:\n",
    "    ## This is the vector 'x' that we want to obtain (the exact one)\n",
    "    x = np.ones(nd)\n",
    "    ## Create the Hilbert matrix\n",
    "    A = Hilbert(nd)\n",
    "    ## We compute the matrix-vector multiplication \n",
    "    ## to find the right-hand side b\n",
    "    b = A @ x\n",
    "    ## We now use the linear algebra pack to compute Ax = b and solve for x\n",
    "    x_solve = la.solve(A,b)\n",
    "    ## What do we expect? \n",
    "    print(\"------ N =\", nd, \"----------\")\n",
    "    error = x_solve-x\n",
    "    residual = A@x_solve - b\n",
    "    print(\"Error norm = \", la.norm(error,2)) \n",
    "    print(\"Residual norm = \", la.norm(residual,2)) \n",
    "    print(\"Condition number = \", la.cond(A,2))"
   ]
  },
  {
   "cell_type": "markdown",
   "metadata": {},
   "source": [
    "## Rule of thumb"
   ]
  },
  {
   "cell_type": "code",
   "execution_count": 18,
   "metadata": {},
   "outputs": [
    {
     "name": "stdout",
     "output_type": "stream",
     "text": [
      "------ N = 2 ----------\n",
      "Error norm =  8.00593208497e-16\n",
      "|dx| <  2.72681164725e-15\n",
      "Condition number =  19.2814700679\n",
      "[ 1.  1.]\n",
      "------ N = 3 ----------\n",
      "Error norm =  1.38955400221e-14\n",
      "|dx| <  9.0769296483e-14\n",
      "Condition number =  524.056777586\n",
      "[ 1.  1.  1.]\n",
      "------ N = 8 ----------\n",
      "Error norm =  5.0350659022e-07\n",
      "|dx| <  4.31549385556e-06\n",
      "Condition number =  15257574847.2\n",
      "[ 1.          1.          1.00000002  0.99999991  1.00000024  0.99999965\n",
      "  1.00000025  0.99999993]\n",
      "------ N = 11 ----------\n",
      "Error norm =  0.0195918096324\n",
      "|dx| <  0.173032425576\n",
      "Condition number =  5.2171239291e+14\n",
      "[ 1.00000001  0.9999993   1.00001798  0.99979966  1.00119081  0.99582023\n",
      "  1.00908942  0.98762041  1.01027538  0.99524871  1.00093811]\n",
      "------ N = 14 ----------\n",
      "Error norm =  6.99974791536\n",
      "|dx| <  261.202018483\n",
      "Condition number =  6.98091758497e+17\n",
      "[ 0.99999985  1.00002076  0.99927926  1.01069926  0.91619132  1.38032247\n",
      " -0.02036746  2.47417863  0.56641165 -1.35352445  5.55922945 -2.98137159\n",
      "  2.77700163  0.67192909]\n"
     ]
    }
   ],
   "source": [
    "for nd in ndim:\n",
    "    ## This is the vector 'x' that we want to obtain (the exact one)\n",
    "    x = np.ones(nd)\n",
    "    ## Create the Hilbert matrix\n",
    "    A = Hilbert(nd)\n",
    "    ## We compute the matrix-vector multiplication \n",
    "    ## to find the right-hand side b\n",
    "    b = A @ x\n",
    "    ## We now use the linear algebra pack to compute Ax = b and solve for x\n",
    "    x_solve = la.solve(A,b)\n",
    "    ## What do we expect? \n",
    "    print(\"------ N =\", nd, \"----------\")\n",
    "    error = x_solve-x\n",
    "    residual = A@x_solve - b\n",
    "    print(\"Error norm = \", la.norm(error,2)) \n",
    "    print(\"|dx| < \", la.norm(x)*la.cond(A,2)*10**(-16))\n",
    "    print(\"Condition number = \", la.cond(A,2))\n",
    "    print(x_solve)"
   ]
  },
  {
   "cell_type": "code",
   "execution_count": null,
   "metadata": {
    "collapsed": true
   },
   "outputs": [],
   "source": []
  }
 ],
 "metadata": {
  "kernelspec": {
   "display_name": "Python 3",
   "language": "python",
   "name": "python3"
  },
  "language_info": {
   "codemirror_mode": {
    "name": "ipython",
    "version": 3
   },
   "file_extension": ".py",
   "mimetype": "text/x-python",
   "name": "python",
   "nbconvert_exporter": "python",
   "pygments_lexer": "ipython3",
   "version": "3.6.3"
  }
 },
 "nbformat": 4,
 "nbformat_minor": 2
}
