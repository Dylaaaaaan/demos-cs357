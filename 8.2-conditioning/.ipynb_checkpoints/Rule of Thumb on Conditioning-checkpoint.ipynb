{
 "cells": [
  {
   "cell_type": "code",
   "execution_count": 1,
   "metadata": {
    "collapsed": true
   },
   "outputs": [],
   "source": [
    "import numpy as np\n",
    "import numpy.linalg as la\n",
    "import matplotlib.pyplot as plt\n",
    "\n",
    "# print(plt.style.available) # uncomment to print all styles\n",
    "import seaborn as sns\n",
    "sns.set(font_scale=2)\n",
    "plt.style.use('seaborn-whitegrid')\n",
    "plt.rcParams['figure.figsize'] = (8,6.0)\n",
    "%matplotlib inline"
   ]
  },
  {
   "cell_type": "markdown",
   "metadata": {},
   "source": [
    "### Let's make a matrix\n",
    "\n",
    "Make the second column nearly linearly indepent to the first"
   ]
  },
  {
   "cell_type": "code",
   "execution_count": 14,
   "metadata": {},
   "outputs": [
    {
     "name": "stdout",
     "output_type": "stream",
     "text": [
      "cond = 2.7854e+17\n"
     ]
    }
   ],
   "source": [
    "n = 10\n",
    "A = np.random.rand(n,n)\n",
    "\n",
    "delta = 1e-16\n",
    "\n",
    "A[:,1] = A[:,0] + delta*A[:,1]\n",
    "print(\"cond = %g\" % np.linalg.cond(A))"
   ]
  },
  {
   "cell_type": "markdown",
   "metadata": {},
   "source": [
    "### Make a problem we know the answer to:\n",
    "\n",
    "Let $x={\\bf 1}$, then $x$ solves the problem\n",
    "$$\n",
    "A x = b\n",
    "$$\n",
    "where $b = A {\\bf 1}$."
   ]
  },
  {
   "cell_type": "code",
   "execution_count": 15,
   "metadata": {
    "collapsed": true
   },
   "outputs": [],
   "source": [
    "x = np.ones((n,))\n",
    "b = A.dot(x)"
   ]
  },
  {
   "cell_type": "code",
   "execution_count": 16,
   "metadata": {
    "collapsed": true
   },
   "outputs": [],
   "source": [
    "xnum = np.linalg.solve(A, b)"
   ]
  },
  {
   "cell_type": "markdown",
   "metadata": {},
   "source": [
    "## Residual Versus Error\n",
    "$$\n",
    "r = b - A x\n",
    "$$\n",
    "whereas\n",
    "$$\n",
    "e = x_{exact} - x\n",
    "$$"
   ]
  },
  {
   "cell_type": "code",
   "execution_count": 17,
   "metadata": {},
   "outputs": [
    {
     "name": "stdout",
     "output_type": "stream",
     "text": [
      "norm of residual =  3.20237283399e-15\n",
      "norm of the error =  5.80523300221\n"
     ]
    }
   ],
   "source": [
    "print(\"norm of residual = \", np.linalg.norm(b - A.dot(xnum)))\n",
    "print(\"norm of the error = \", np.linalg.norm(x - xnum))"
   ]
  },
  {
   "cell_type": "code",
   "execution_count": 18,
   "metadata": {},
   "outputs": [
    {
     "data": {
      "text/plain": [
       "array([ 1.,  1.,  1.,  1.,  1.,  1.,  1.,  1.,  1.,  1.])"
      ]
     },
     "execution_count": 18,
     "metadata": {},
     "output_type": "execute_result"
    }
   ],
   "source": [
    "x"
   ]
  },
  {
   "cell_type": "code",
   "execution_count": 19,
   "metadata": {},
   "outputs": [
    {
     "data": {
      "text/plain": [
       "array([ 5.10491962, -3.10491962,  1.        ,  1.        ,  1.        ,\n",
       "        1.        ,  1.        ,  1.        ,  1.        ,  1.        ])"
      ]
     },
     "execution_count": 19,
     "metadata": {},
     "output_type": "execute_result"
    }
   ],
   "source": [
    "xnum"
   ]
  },
  {
   "cell_type": "markdown",
   "metadata": {},
   "source": [
    "## Let's do a test\n",
    "\n",
    "We'll do the following steps\n",
    "1. Make a matrix $A$\n",
    "2. Find it's smallest eigenvalue $\\lambda$, then $A - \\lambda I$ would be singular\n",
    "3. Instead, let's make B = $A - \\lambda \\cdot c\\cdot I$ where c is a parameter in $[0,1]$.  This will make the problem closer and closer to singular.\n",
    "4. Plot the condition number versus the error."
   ]
  },
  {
   "cell_type": "code",
   "execution_count": null,
   "metadata": {
    "collapsed": true
   },
   "outputs": [],
   "source": [
    "n = 10\n",
    "A = np.random.rand(n,n)\n",
    "A = A.dot(A.T)  # make it symmetric\n",
    "v, _ = np.linalg.eig(A)\n",
    "lmbda = np.min(np.abs(v))\n",
    "I = np.eye(n,n)\n",
    "print(lmbda)\n",
    "print(np.linalg.cond(A - lmbda*I))"
   ]
  },
  {
   "cell_type": "code",
   "execution_count": null,
   "metadata": {
    "collapsed": true
   },
   "outputs": [],
   "source": [
    "x = np.ones((n,))\n",
    "b = A.dot(x)\n",
    "\n",
    "cond = []\n",
    "error = []\n",
    "clist = 1.0-1.0/np.logspace(0,15,int(100))\n",
    "clist.sort()\n",
    "for c in clist:\n",
    "    B = A - lmbda * c * I\n",
    "    xnum = np.linalg.solve(B, b)\n",
    "    cond.append(np.linalg.cond(B))\n",
    "    error.append(np.linalg.norm(x-xnum))"
   ]
  },
  {
   "cell_type": "code",
   "execution_count": null,
   "metadata": {
    "collapsed": true
   },
   "outputs": [],
   "source": [
    "plt.plot(np.log10(cond),15-np.log10(error), 'o', label='error')\n",
    "plt.plot(np.log10(cond),15-np.log10(cond), 'o', label='rule')\n",
    "plt.axis('equal')\n",
    "plt.legend()"
   ]
  },
  {
   "cell_type": "code",
   "execution_count": null,
   "metadata": {
    "collapsed": true
   },
   "outputs": [],
   "source": [
    "import random\n",
    "lambda1 = random.randint(3,12)\n",
    "while 1:\n",
    "    lambda2 = random.randint(5,20)\n",
    "    if lambda2 != lambda1:\n",
    "        break\n",
    "\n",
    "A = np.array([[lambda1,0],[random.randint(-4,4),lambda2]])"
   ]
  },
  {
   "cell_type": "code",
   "execution_count": null,
   "metadata": {},
   "outputs": [],
   "source": [
    "A"
   ]
  },
  {
   "cell_type": "code",
   "execution_count": null,
   "metadata": {
    "collapsed": true
   },
   "outputs": [],
   "source": []
  }
 ],
 "metadata": {
  "kernelspec": {
   "display_name": "Python 3",
   "language": "python",
   "name": "python3"
  },
  "language_info": {
   "codemirror_mode": {
    "name": "ipython",
    "version": 3
   },
   "file_extension": ".py",
   "mimetype": "text/x-python",
   "name": "python",
   "nbconvert_exporter": "python",
   "pygments_lexer": "ipython3",
   "version": "3.6.3"
  }
 },
 "nbformat": 4,
 "nbformat_minor": 2
}
