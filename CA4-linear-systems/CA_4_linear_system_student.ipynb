{
  "cells": [
    {
      "cell_type": "code",
      "execution_count": 1,
      "metadata": {
        "collapsed": true
      },
      "outputs": [],
      "source": [
        "%matplotlib inline\n",
        "import matplotlib.pyplot as plt\n",
        "import numpy as np\n",
        "from CA_4_support import *"
      ]
    },
    {
      "cell_type": "markdown",
      "metadata": {},
      "source": [
        "# Steady-State Advection Diffusion Equation\n",
        "\n",
        "Consider the following ordinary differential equation (ODE) for $x$ in the interval $[-1,1]$:\n",
        "\n",
        "$$-u''(x) + u'(x) = f(x)$$\n",
        "\n",
        "With boundary conditions\n",
        "\n",
        "$$u(-1) = u(1) = 0$$\n",
        "           \n",
        "Here, $f(x)$ is a known function and $u(x)$ is the unknown that we are trying to solve for."
      ]
    },
    {
      "cell_type": "markdown",
      "metadata": {},
      "source": [
        "### Spectral Element Approximation\n",
        "The spectral element method (SEM) is a way to solve such an ODE numerically.  In the simplest case, SEM approximates $u(x)$ by a polynomial of degree $N$.\n",
        "\n",
        "A polynomial can be uniquely described by $P = N+1$ points on the interval $[-1,1]$.  So the SEM introduces a set of $P$ discrete points\n",
        "\n",
        "$-1 = x_0 < x_1 < x_2 < \\dots < x_{N-1} < x_N = 1$\n",
        "\n",
        "and constructs a linear system\n",
        "\n",
        "$\\mathbf{A}\\mathbf{u} = \\mathbf{b}$\n",
        "\n",
        "that is solved to obtain the value of $u$ at each point.\n",
        "\n",
        "Here, the vector $\\mathbf{u} = [u_1,u_2,\\dots,u_{N-1}]^T$, where $u_i = u(x_i)$ for $i = 1,2,\\dots,N-1$.\n",
        "\n",
        "We exclude the points $x_0=-1$ and $x_N = 1$ because we already know the value of $u$ because of the boundary conditions.\n",
        "\n",
        "$\\mathbf{b}$ is a vector that depends on the function $f$."
      ]
    },
    {
      "cell_type": "markdown",
      "metadata": {},
      "source": [
        "We'll provide a function that takes a polynomial order $N$ as input and creates both the partition points $x_i$ defined in the interval $([-1,1]$, and the system matrix $\\mathbf{A}$.  We'll also provide a function that takes the  points $x_i$ and a known function $f(x)$ and returns the vector $\\mathbf{b}$. The function signatures are defined below:\n",
        "\n",
        "```python\n",
        "A,x =  SEM_system_1(N)\n",
        "\n",
        "def f(z):\n",
        "    # define the function f as a function of z\n",
        "    return f\n",
        "  \n",
        "b = SEM_rhs_1(f,x)\n",
        "```\n",
        "Generate the arrays $\\mathbf{A}$, $\\mathbf{b}$, and $\\mathbf{x}$ using the provided functions. Use for example `N = 30`\n",
        "\n",
        "For the function $f$, use $f(x) = 2(x-1)$"
      ]
    },
    {
      "cell_type": "code",
      "execution_count": 2,
      "metadata": {
        "collapsed": true
      },
      "outputs": [],
      "source": []
    },
    {
      "cell_type": "markdown",
      "metadata": {},
      "source": [
        "Check out the shapes of all 3 objects"
      ]
    },
    {
      "cell_type": "code",
      "execution_count": 3,
      "metadata": {},
      "outputs": [],
      "source": [
        "print(A.shape)\n",
        "print(x.shape)\n",
        "print(b.shape)"
      ]
    },
    {
      "cell_type": "markdown",
      "metadata": {},
      "source": [
        "The array of points $\\mathbf{x}$ is of size $N+1$ but the matrix and right hand side lead to a linear system of size $(N-1) \\times (N-1)$.  This is because we don't need to solve for the value of $u$ at the two endpoints."
      ]
    },
    {
      "cell_type": "markdown",
      "metadata": {},
      "source": [
        "Use $\\mathbf{A}$, $\\mathbf{b}$, and $\\mathbf{x}$ to solve for $\\mathbf{u}$.  Check your solution against the exact solution $u_e(x) = x^2 - 1$.  Don't forget to add zeros to the start and end of the vector to account for the boundary conditions.  Do the two solutions match up?"
      ]
    },
    {
      "cell_type": "code",
      "execution_count": 4,
      "metadata": {
        "collapsed": true
      },
      "outputs": [],
      "source": [
        "\n"
      ]
    },
    {
      "cell_type": "code",
      "execution_count": 1,
      "metadata": {
        "collapsed": true
      },
      "outputs": [],
      "source": [
        "#Obtain u, u_exact and plot \n"
      ]
    },
    {
      "cell_type": "markdown",
      "metadata": {},
      "source": [
        "You can run the cells above changing the number of points. Use larger and smaller values. What do you notice?"
      ]
    },
    {
      "cell_type": "markdown",
      "metadata": {},
      "source": [
        "The solution will change for different right hand sides.  Experiment with different functions $f(x)$ and see what the solution looks like. For example, try the function:\n",
        "\n",
        "$$ f(x) = \\sin(1.5 \\pi x) $$\n",
        "\n",
        "Note that since your ODE has not changed, your system matrix  $\\mathbf{A}$ is still the same! You only need to redefine the vector $\\mathbf{b}$."
      ]
    },
    {
      "cell_type": "code",
      "execution_count": 6,
      "metadata": {
        "collapsed": true
      },
      "outputs": [],
      "source": [
        "#Define b\n"
      ]
    },
    {
      "cell_type": "code",
      "execution_count": 2,
      "metadata": {
        "collapsed": true
      },
      "outputs": [],
      "source": [
        "#Obtain u and plot \n"
      ]
    },
    {
      "cell_type": "markdown",
      "metadata": {},
      "source": [
        "# Time-Dependent Advection Diffusion\n",
        "\n",
        "Now we'll look at the time-dependent advection diffusion equation, which is a partial differential equation (PDE)\n",
        "\n",
        "$$\\frac{\\partial u}{\\partial t} + \\frac{\\partial u}{\\partial x} - D\\frac{\\partial^2 u}{\\partial x^2} = 0$$\n",
        "\n",
        "with boundary conditions:\n",
        "\n",
        "$$u(-1,t) = 0 = \\frac{\\partial u}{\\partial x}(1,t)$$\n",
        "\n",
        "Where $D = 0.1$ is the diffusion coefficient.  Notice how the boundary condition at the right hand side is a little different than the first equation.\n",
        "\n",
        "In order to solve this equation we again use the SEM.  However, the equation is time dependent, so we also partition the time dimension:\n",
        "\n",
        "$$0 = t_0 < t_1 < t_2 < \\dots$$.\n",
        "\n",
        "We assume the $t_i$'s are evenly spaced with distance $\\Delta t$."
      ]
    },
    {
      "cell_type": "markdown",
      "metadata": {},
      "source": [
        "Now, the solution $u$ depends on both space and time: $u(x,t)$.  For each time $t_n$, we can define a vector of values of $u$ like above:\n",
        "\n",
        "$\\mathbf{u}^{(n)} = [u_1^{(n)},\\dots, u_N^{(n)}]^T$.  Here $u_i^{(n)} = u(x_i,t_n)$.  We assume we know $u(x,0)$ so that $\\mathbf{u}^{(n)}$ is known.  Then we get a *timestepping scheme*:\n",
        "\n",
        "\\begin{align}\n",
        "\\mathbf{A}\\mathbf{u}^{(1)} &= \\mathbf{b}^{(0)}\\\\\n",
        "\\mathbf{A}\\mathbf{u}^{(2)} &= \\mathbf{b}^{(1)}\\\\\n",
        "\\mathbf{A}\\mathbf{u}^{(3)} &= \\mathbf{b}^{(2)}\\\\\n",
        "&\\ \\vdots\\\\\n",
        "\\mathbf{A}\\mathbf{u}^{(n+1)} &= \\mathbf{b}^{(n)}\n",
        "\\end{align}\n",
        "\n",
        "Here $\\mathbf{b}^{(n)}$ is a vector that depends on $\\mathbf{u}^{(n)}$."
      ]
    },
    {
      "cell_type": "markdown",
      "metadata": {},
      "source": [
        "Now, the solution $u$ depends on both space and time: $u(x,t)$.  For each time $t_n$, we can define a vector of values of $u$ like above:\n",
        "\n",
        "$\\mathbf{u}^{(n)} = [u_1^{(n)},\\dots, u_N^{(n)}]^T$.  Here $u_i^{(n)} = u(x_i,t_n)$.  We assume we know $u(x,0)$ so that $\\mathbf{u}^{(0)}$ is known.  Then we get a *timestepping scheme*:\n",
        "\n",
        "\\begin{align}\n",
        "\\mathbf{A}\\mathbf{u}^{(1)} &= \\mathbf{b}^{(0)}\\\\\n",
        "\\mathbf{A}\\mathbf{u}^{(2)} &= \\mathbf{b}^{(1)}\\\\\n",
        "\\mathbf{A}\\mathbf{u}^{(3)} &= \\mathbf{b}^{(2)}\\\\\n",
        "&\\ \\vdots\\\\\n",
        "\\mathbf{A}\\mathbf{u}^{(n+1)} &= \\mathbf{b}^{(n)}\n",
        "\\end{align}\n",
        "\n",
        "Here $\\mathbf{b}^{(n)}$ is a vector that depends on $\\mathbf{u}^{(n)}$, and can be obtained using the helper function:\n",
        "```\n",
        "b = SEM_rhs_2(un)\n",
        "```\n",
        "We'll select a value of $\\Delta t = 0.01$ and take 200 timesteps."
      ]
    },
    {
      "cell_type": "code",
      "execution_count": 8,
      "metadata": {
        "collapsed": true
      },
      "outputs": [],
      "source": [
        "dt = 0.01        # time increment\n",
        "timesteps = 200  # number of time steps\n",
        "N = 50           # polynomial order"
      ]
    },
    {
      "cell_type": "markdown",
      "metadata": {},
      "source": [
        "The matrix $\\mathbf{A}$ depends not just on the polynomial order $N$ but also the value of $\\Delta t$. We provide the helper function:\n",
        "\n",
        "```python\n",
        "A,x = SEM_system_2(N,dt)\n",
        "```\n",
        "Generate the arrays $\\mathbf{A}$, and $\\mathbf{x}$."
      ]
    },
    {
      "cell_type": "code",
      "execution_count": 9,
      "metadata": {
        "collapsed": true
      },
      "outputs": [],
      "source": []
    },
    {
      "cell_type": "markdown",
      "metadata": {},
      "source": [
        "We also provide a function that defines the initial condition $u(x,0)$. "
      ]
    },
    {
      "cell_type": "code",
      "execution_count": 10,
      "metadata": {
        "collapsed": true
      },
      "outputs": [],
      "source": [
        "def u_initial(z):\n",
        "    a = -10*(z+1)*z**6*(z-1)*(z< 0)\n",
        "    return a"
      ]
    },
    {
      "cell_type": "markdown",
      "metadata": {},
      "source": [
        "We will store all the vectors $\\mathbf{u}^{(0)}$, $\\mathbf{u}^{(1)}$, $\\mathbf{u}^{(2)}$,$\\dots$ as columns of a matrix. Initialize with zeros the 2d numpy array (matrix) $\\mathbf{u}$ with the appropriate shape. Update the first column with the initial condition using the function `u_initial`."
      ]
    },
    {
      "cell_type": "code",
      "execution_count": 11,
      "metadata": {
        "collapsed": true
      },
      "outputs": [],
      "source": [
        "\n"
      ]
    },
    {
      "cell_type": "code",
      "execution_count": 12,
      "metadata": {},
      "outputs": [],
      "source": [
        "# plot initial condition\n",
        "\n",
        "...\n",
        "plt.xlabel('$x$')\n",
        "plt.ylabel('$u$')\n",
        "plt.title('Initial Condition')\n",
        "plt.show()"
      ]
    },
    {
      "cell_type": "markdown",
      "metadata": {},
      "source": [
        "Generate the array $\\mathbf{b}$ corresponding to the initial condition `u[:,0]`"
      ]
    },
    {
      "cell_type": "code",
      "execution_count": 13,
      "metadata": {
        "collapsed": true
      },
      "outputs": [],
      "source": [
        "\n"
      ]
    },
    {
      "cell_type": "markdown",
      "metadata": {},
      "source": [
        "Let's take the first time step and store the solution in `u[:,1]`. Make sure you are handling the size of your arrays correctly and are adding back the boundary condition at $x = 0$"
      ]
    },
    {
      "cell_type": "code",
      "execution_count": 14,
      "metadata": {
        "collapsed": true
      },
      "outputs": [],
      "source": [
        "\n"
      ]
    },
    {
      "cell_type": "markdown",
      "metadata": {},
      "source": [
        "Now you can take the second time step, and store your solution in `u[:,2]`"
      ]
    },
    {
      "cell_type": "code",
      "execution_count": 15,
      "metadata": {
        "collapsed": true
      },
      "outputs": [],
      "source": [
        "\n"
      ]
    },
    {
      "cell_type": "markdown",
      "metadata": {},
      "source": [
        "Let's plot what you have so far:"
      ]
    },
    {
      "cell_type": "code",
      "execution_count": 16,
      "metadata": {},
      "outputs": [],
      "source": [
        "plt.plot(x,u[:,0],label = '$\\mathbf{u}^{(0)}$')\n",
        "plt.plot(x,u[:,1],label ='$\\mathbf{u}^{(1)}$' )\n",
        "plt.plot(x,u[:,2],label = '$\\mathbf{u}^{(2)}$')\n",
        "plt.xlabel('$x$')\n",
        "plt.ylabel('$u$')\n",
        "plt.legend()\n",
        "plt.show()"
      ]
    },
    {
      "cell_type": "markdown",
      "metadata": {},
      "source": [
        "Only 198 time steps to go...\n",
        "We'll obviously want to do this in a loop.  But calling `np.linalg.solve` every time step is too expensive.  We'll want to use the LU decomposition of $A$ to make computing the solution less expensive.  Here $\\mathbf{A} = \\mathbf{PLU}$, where $\\mathbf{P}^{-1} = \\mathbf{P}^T$ and $\\mathbf{L}$ and $\\mathbf{U}$ are lower and upper diagonal matrices\n",
        "\n",
        "The equation\n",
        "\n",
        "$\\mathbf{A}\\mathbf{u}^{(n+1)} = \\mathbf{b}^{(n)}$\n",
        "\n",
        "is transformed into \n",
        "\n",
        "$\\mathbf{PLUu}^{(n+1)} = \\mathbf{b}^{(n)}$\n",
        "\n",
        "so \n",
        "\n",
        "$\\mathbf{u}^{(n+1)} = \\mathbf{U}^{-1}\\mathbf{L}^{-1}\\mathbf{P}^T\\mathbf{b}^{(n)}$"
      ]
    },
    {
      "cell_type": "markdown",
      "metadata": {},
      "source": [
        "Compute the LU factorization of $\\mathbf{A}$ using `scipy.linalg.lu` and invert $\\mathbf{L}$ and $\\mathbf{U}$ using `scipy.linalg.solve_triangular`\n",
        "\n",
        "Check out the documentation for `scipy.linalg.solve_triangular` before you use them.  In particular, pay attention to the argument `lower`, and `unit_diagonal`"
      ]
    },
    {
      "cell_type": "code",
      "execution_count": 17,
      "metadata": {
        "collapsed": true
      },
      "outputs": [],
      "source": [
        "import scipy.linalg as sla"
      ]
    },
    {
      "cell_type": "code",
      "execution_count": 18,
      "metadata": {
        "collapsed": true
      },
      "outputs": [],
      "source": [
        "\n"
      ]
    },
    {
      "cell_type": "markdown",
      "metadata": {},
      "source": [
        "Use `plt.spy` to plot the non-zero pattern of each matrix"
      ]
    },
    {
      "cell_type": "code",
      "execution_count": 19,
      "metadata": {},
      "outputs": [],
      "source": [
        "plt.figure()\n",
        "plt.spy(P)\n",
        "plt.figure()\n",
        "plt.spy(L)\n",
        "plt.figure()\n",
        "plt.spy(U)"
      ]
    },
    {
      "cell_type": "markdown",
      "metadata": {},
      "source": [
        "We can plot the time history of the solution using a movie:"
      ]
    },
    {
      "cell_type": "code",
      "execution_count": 20,
      "metadata": {},
      "outputs": [],
      "source": [
        "from matplotlib import animation,rc\n",
        "from IPython.display import HTML\n",
        "\n",
        "fig,ax = plt.subplots()\n",
        "ax.set_xlim((-1,1))\n",
        "ax.set_ylim((0,1.0))\n",
        "line, = ax.plot([],[],lw=2)\n",
        "\n",
        "def init():\n",
        "    line.set_data([],[])\n",
        "    return (line,)\n",
        "\n",
        "def animate(i):\n",
        "    y = u[:,i]\n",
        "    line.set_data(x,y)\n",
        "    return (line,)\n",
        "\n",
        "anim = animation.FuncAnimation(fig, animate, init_func=init,\n",
        "                               frames=200, interval=50, blit=True)\n",
        "\n",
        "rc('animation',html='html5')\n",
        "anim"
      ]
    },
    {
      "cell_type": "markdown",
      "metadata": {},
      "source": [
        "# Time-Dependent Diffusion Equation\n",
        "Now we'll look at the closely related time-dependent diffusion equation\n",
        "\n",
        "$$\\frac{\\partial u}{\\partial t} - D\\frac{\\partial^2 u}{\\partial x^2} = 0$$\n",
        "\n",
        "with boundary conditions:\n",
        "\n",
        "$$u(-1,t) = 0 = u(1,t)$$\n",
        "\n",
        "We'll get another time-stepping scheme of the same form:\n",
        "\\begin{align}\n",
        "\\mathbf{A}\\mathbf{u}^{(1)} &= \\mathbf{b}^{(0)}\\\\\n",
        "\\mathbf{A}\\mathbf{u}^{(2)} &= \\mathbf{b}^{(1)}\\\\\n",
        "\\mathbf{A}\\mathbf{u}^{(3)} &= \\mathbf{b}^{(2)}\\\\\n",
        "&\\ \\vdots\\\\\n",
        "\\mathbf{A}\\mathbf{u}^{(n+1)} &= \\mathbf{b}^{(n)}\n",
        "\\end{align}"
      ]
    },
    {
      "cell_type": "markdown",
      "metadata": {},
      "source": [
        "We will again define the number of time steps, the time increment, the polynomial degree and use a helper function to construct the matrix $\\mathbf{A}$:"
      ]
    },
    {
      "cell_type": "code",
      "execution_count": 21,
      "metadata": {
        "collapsed": true
      },
      "outputs": [],
      "source": [
        "dt = 0.01\n",
        "timesteps = 200\n",
        "N = 50\n",
        "A,x = SEM_system_3(N,dt)"
      ]
    },
    {
      "cell_type": "markdown",
      "metadata": {},
      "source": [
        "The diffusion equation leads to a *symmetric positive-definite* matrix.  This means that $\\mathbf{A} = \\mathbf{A}^T$ and the eigenvalues of $\\mathbf{A}$ are positive. (You'll learn about eigenvalues next week).\n",
        "\n",
        "- Check if the matrix is symmetric:\n",
        "- Check if the matrix has all positive eigenvalues (you can use np.linalg.eigvals(A))"
      ]
    },
    {
      "cell_type": "code",
      "execution_count": 22,
      "metadata": {},
      "outputs": [],
      "source": [
        "\n",
        "\n"
      ]
    },
    {
      "cell_type": "markdown",
      "metadata": {},
      "source": [
        "Instead of an LU factorization, we'll use the Cholesky factorization: $\\mathbf{A} = \\mathbf{U}^T\\mathbf{U}$, where $\\mathbf{U}$ is an upper triangular matrix. This is a more efficient factorization method for symmetric positive-definite matrices) - about half the number of floating operations of LU factorization.\n",
        "\n",
        "Let's compare the computational time for both methods using large $N$:"
      ]
    },
    {
      "cell_type": "code",
      "execution_count": 23,
      "metadata": {
        "collapsed": true
      },
      "outputs": [],
      "source": [
        "N = 200\n",
        "A,x = SEM_system_3(N,dt)"
      ]
    },
    {
      "cell_type": "code",
      "execution_count": 24,
      "metadata": {},
      "outputs": [],
      "source": [
        "%timeit sla.cholesky(A)"
      ]
    },
    {
      "cell_type": "code",
      "execution_count": 25,
      "metadata": {},
      "outputs": [],
      "source": [
        "%timeit sla.lu(A)"
      ]
    },
    {
      "cell_type": "markdown",
      "metadata": {},
      "source": [
        "For the time evolution we'll set `N = 50`, we have the following system matrix $\\mathbf{A}$ and initial condition:"
      ]
    },
    {
      "cell_type": "code",
      "execution_count": 26,
      "metadata": {
        "collapsed": true
      },
      "outputs": [],
      "source": [
        "N = 50\n",
        "A,x = SEM_system_3(N,dt)\n",
        "\n",
        "def u_initial(z):\n",
        "    a = -10*(z+1)*z**6*(z-1)*(z< 0)\n",
        "    return a"
      ]
    },
    {
      "cell_type": "markdown",
      "metadata": {},
      "source": [
        "We will store all the vectors $\\mathbf{u}^{(0)}$, $\\mathbf{u}^{(1)}$, $\\mathbf{u}^{(2)}$,$\\dots$ as columns of a matrix. Initialize with zeros the 2d numpy array (matrix) $\\mathbf{u}$ with the appropriate shape. Update the first column with the initial condition using the function `u_initial`."
      ]
    },
    {
      "cell_type": "code",
      "execution_count": 27,
      "metadata": {
        "collapsed": true
      },
      "outputs": [],
      "source": [
        "\n"
      ]
    },
    {
      "cell_type": "markdown",
      "metadata": {},
      "source": [
        "Use `scipy.linalg.cholesky` and `scipy.linalg.solve_triangular` to evolve the solution forward.  Use the helper function \n",
        "```python \n",
        "b = SEM_rhs_3(un)\n",
        "```\n",
        "to create the right hand side as before."
      ]
    },
    {
      "cell_type": "code",
      "execution_count": 28,
      "metadata": {
        "collapsed": true
      },
      "outputs": [],
      "source": [
        "\n"
      ]
    },
    {
      "cell_type": "markdown",
      "metadata": {},
      "source": [
        "Again, we'll plot the solution using a movie:"
      ]
    },
    {
      "cell_type": "code",
      "execution_count": 29,
      "metadata": {},
      "outputs": [],
      "source": [
        "fig,ax = plt.subplots()\n",
        "ax.set_xlim((-1,1))\n",
        "ax.set_ylim((0,1.0))\n",
        "line, = ax.plot([],[],lw=2)\n",
        "\n",
        "def init():\n",
        "    line.set_data([],[])\n",
        "    return (line,)\n",
        "\n",
        "def animate(i):\n",
        "    y = u[:,i]\n",
        "    line.set_data(x,y)\n",
        "    return (line,)\n",
        "\n",
        "anim = animation.FuncAnimation(fig, animate, init_func=init,\n",
        "                               frames=100, interval=50, blit=True)\n",
        "\n",
        "rc('animation',html='html5')\n",
        "anim"
      ]
    },
    {
      "cell_type": "markdown",
      "metadata": {},
      "source": [
        "# Diffusion Equation Finite Difference equation\n",
        "\n",
        "The spectral element method is useful, but these simple 1D problems can be solved with the much cheaper finite difference method.\n",
        "\n",
        "The finite difference method replaces the second derivative with a *centered* difference approximation:\n",
        "\n",
        "$$\\frac{\\partial^2 u}{\\partial x^2} \\approx \\frac{u(x-\\Delta x) - 2u(x) + u(x+\\Delta x)}{\\Delta x^2}$$\n",
        "\n",
        "This leads to the following *tri-diagonal* matrix:\n",
        "\n",
        "$$\\mathbf{A} = \\begin{bmatrix} a & b & \\ \\\\\n",
        "b & a & b \\\\\n",
        "\\ & b & a & b \\\\\n",
        "\\ & \\ & \\ddots & \\ddots & \\ddots\\\\\n",
        "\\ & \\ & \\ &b & a & b\\\\\n",
        "\\ & \\ & \\ & \\ & b & a\\end{bmatrix}$$\n",
        "\n",
        "where \n",
        "\n",
        "$$ a = 1 +  \\frac{\\Delta t}{5(\\Delta x)^2}$$\n",
        "\n",
        "\n",
        "$$ b = \\frac{-\\Delta t}{10(\\Delta x)^2}$$\n",
        "\n",
        "(the empty spaces are zeros)"
      ]
    },
    {
      "cell_type": "markdown",
      "metadata": {},
      "source": [
        "We'll define the number of interior points $N$, as well as $\\Delta t$, $\\Delta x$, and the number of timesteps."
      ]
    },
    {
      "cell_type": "code",
      "execution_count": 30,
      "metadata": {
        "collapsed": true
      },
      "outputs": [],
      "source": [
        "N = 50\n",
        "x = np.linspace(-1,1,N+2)  # N+2 because of the two boundary points\n",
        "dx = x[1] - x[0]\n",
        "\n",
        "dt = 0.01\n",
        "timesteps = 200"
      ]
    },
    {
      "cell_type": "markdown",
      "metadata": {},
      "source": [
        "Build the $N \\times N$ finite difference matrix $\\mathbf{A}$ specified above as a `numpy` array.  You may find `numpy.diag` useful"
      ]
    },
    {
      "cell_type": "code",
      "execution_count": 31,
      "metadata": {
        "collapsed": true
      },
      "outputs": [],
      "source": [
        "\n"
      ]
    },
    {
      "cell_type": "markdown",
      "metadata": {},
      "source": [
        "Use `plt.spy` to see structure of the matrix"
      ]
    },
    {
      "cell_type": "code",
      "execution_count": 32,
      "metadata": {},
      "outputs": [],
      "source": [
        "plt.spy(A,markersize = 1)"
      ]
    },
    {
      "cell_type": "markdown",
      "metadata": {},
      "source": [
        "This is a tri-diagonal matrix, which is a special case of a *banded* linear system.  We'll use `scipy.linalg.solve_banded` which takes advantage of this structure to solve this system.\n",
        "\n",
        "However, this function does not take the full matrix $\\mathbf{A}$, but only it's diagonals stored in a `numpy` array:\n",
        "\n",
        "$$\\mathbf{A} \\to \\begin{bmatrix} \\ & b & b & b & \\dots & b & b\\\\\n",
        "a & a & a & a & \\dots & a & a\\\\\n",
        "b & b & b & b & \\dots & b & \\ \\end{bmatrix}$$\n",
        "\n",
        "Declare a new `numpy` array that stores the entries of $\\mathbf{A}$ in this manner."
      ]
    },
    {
      "cell_type": "code",
      "execution_count": 33,
      "metadata": {
        "collapsed": true
      },
      "outputs": [],
      "source": [
        "\n"
      ]
    },
    {
      "cell_type": "markdown",
      "metadata": {},
      "source": [
        "We will store all the vectors $\\mathbf{u}^{(0)}$, $\\mathbf{u}^{(1)}$, $\\mathbf{u}^{(2)}$,$\\dots$ as columns of a matrix. Initialize with zeros the 2d numpy array (matrix) $\\mathbf{u}$ with the appropriate shape. Update the first column with the initial condition using the function `u_initial`."
      ]
    },
    {
      "cell_type": "code",
      "execution_count": 34,
      "metadata": {
        "collapsed": true
      },
      "outputs": [],
      "source": [
        "def u_initial(z):\n",
        "    a = -10*(z+1)*z**6*(z-1)*(z< 0)\n",
        "    return a\n",
        "\n",
        "\n"
      ]
    },
    {
      "cell_type": "markdown",
      "metadata": {},
      "source": [
        "For the finite difference method, it turns out the right hand side is just the previous solution:\n",
        "\n",
        "$$ \\mathbf{A}\\mathbf{u}^{(n+1)} = \\mathbf{u}^{(n)}$$\n",
        "\n",
        "Use `scipy.linalg.solve_banded` to evolve the solution forward."
      ]
    },
    {
      "cell_type": "code",
      "execution_count": 35,
      "metadata": {
        "collapsed": true
      },
      "outputs": [],
      "source": [
        "\n"
      ]
    },
    {
      "cell_type": "markdown",
      "metadata": {},
      "source": [
        "We can plot it again in a movie.  It should look the same as the spectral element solution that was computed previously."
      ]
    },
    {
      "cell_type": "code",
      "execution_count": 36,
      "metadata": {},
      "outputs": [],
      "source": [
        "fig,ax = plt.subplots()\n",
        "ax.set_xlim((-1,1))\n",
        "ax.set_ylim((0,1.0))\n",
        "line, = ax.plot([],[],lw=2)\n",
        "\n",
        "def init():\n",
        "    line.set_data([],[])\n",
        "    return (line,)\n",
        "\n",
        "def animate(i):\n",
        "    y = u[:,i]\n",
        "    line.set_data(x,y)\n",
        "    return (line,)\n",
        "\n",
        "anim = animation.FuncAnimation(fig, animate, init_func=init,\n",
        "                               frames=100, interval=50, blit=True)\n",
        "\n",
        "rc('animation',html='html5')\n",
        "anim"
      ]
    }
  ],
  "metadata": {
    "kernelspec": {
      "display_name": "Python 3",
      "language": "python",
      "name": "python3"
    },
    "language_info": {
      "codemirror_mode": {
        "name": "ipython",
        "version": 3
      },
      "file_extension": ".py",
      "mimetype": "text/x-python",
      "name": "python",
      "nbconvert_exporter": "python",
      "pygments_lexer": "ipython3",
      "version": "3.6.9"
    }
  },
  "nbformat": 4,
  "nbformat_minor": 2
}