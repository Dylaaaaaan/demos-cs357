{
 "cells": [
  {
   "cell_type": "markdown",
   "metadata": {},
   "source": [
    "# Sounds as Vectors"
   ]
  },
  {
   "cell_type": "code",
   "execution_count": null,
   "metadata": {
    "collapsed": true
   },
   "outputs": [],
   "source": [
    "import numpy as np\n",
    "import matplotlib.pyplot as plt\n",
    "%matplotlib inline\n",
    "import seaborn as sns\n",
    "sns.set(font_scale=2)\n",
    "plt.style.use('seaborn-whitegrid')\n",
    "plt.rcParams['figure.figsize'] = (10.0, 8.0)\n",
    "\n",
    "from html5_audio import DEFAULT_RATE, get_html5_wave_player"
   ]
  },
  {
   "cell_type": "markdown",
   "metadata": {},
   "source": [
    "### Make a sound profile\n",
    "\n",
    "This is a function that produces a 'beep' with a parabola as an 'envelope':\n",
    "\n",
    "`DEFAULT_RATE = 44100` means 44100 samples per second of sound."
   ]
  },
  {
   "cell_type": "code",
   "execution_count": null,
   "metadata": {
    "collapsed": true
   },
   "outputs": [],
   "source": [
    "def make_beep(freq, duration=0.3):\n",
    "    nsamples = int(DEFAULT_RATE * duration)\n",
    "\n",
    "    # make a time sequence\n",
    "    t = np.linspace(0, duration, nsamples)\n",
    "    \n",
    "    # make a (sine) sound wave with a certain frequency\n",
    "    data = np.sin(freq*2*np.pi*t)\n",
    "\n",
    "    # make the wave ramp down (diminish)\n",
    "    ramp = np.linspace(0, 1, nsamples)\n",
    "\n",
    "    data = data * (1-ramp)**2\n",
    "    \n",
    "    return data"
   ]
  },
  {
   "cell_type": "markdown",
   "metadata": {},
   "source": [
    "### Try one\n",
    "\n",
    "We'll make a `beep` with a certain frequency.\n",
    "\n",
    "https://en.wikipedia.org/wiki/Piano_key_frequencies"
   ]
  },
  {
   "cell_type": "code",
   "execution_count": null,
   "metadata": {
    "collapsed": true
   },
   "outputs": [],
   "source": [
    "beep = make_beep(440)  # this is an A note, 440 Hz"
   ]
  },
  {
   "cell_type": "markdown",
   "metadata": {},
   "source": [
    "It's just a numpy array:"
   ]
  },
  {
   "cell_type": "code",
   "execution_count": null,
   "metadata": {},
   "outputs": [],
   "source": [
    "type(beep)"
   ]
  },
  {
   "cell_type": "markdown",
   "metadata": {},
   "source": [
    "A pretty long one though:"
   ]
  },
  {
   "cell_type": "code",
   "execution_count": null,
   "metadata": {},
   "outputs": [],
   "source": [
    "beep.shape"
   ]
  },
  {
   "cell_type": "markdown",
   "metadata": {},
   "source": [
    "Let's take a look:"
   ]
  },
  {
   "cell_type": "code",
   "execution_count": null,
   "metadata": {},
   "outputs": [],
   "source": [
    "plt.plot(beep)\n",
    "plt.ylabel('Amplitude')\n",
    "plt.xlabel('Time sample')\n",
    "\n",
    "get_html5_wave_player(beep)"
   ]
  },
  {
   "cell_type": "markdown",
   "metadata": {},
   "source": [
    "-----------------------\n",
    "Can we compose some simple 'music' with this? Let's shoot for three seconds..."
   ]
  },
  {
   "cell_type": "code",
   "execution_count": null,
   "metadata": {},
   "outputs": [],
   "source": [
    "beep1 = make_beep(880, duration=1.0)\n",
    "beep2 = make_beep(880 * 1.5, duration=1.0)\n",
    "beep3 = make_beep(880 * 2, duration=1.0)\n",
    "print(beep1.shape)"
   ]
  },
  {
   "cell_type": "code",
   "execution_count": null,
   "metadata": {},
   "outputs": [],
   "source": [
    "music = np.hstack((beep1, 0.1*beep2, 2*beep3))\n",
    "print(music.shape)"
   ]
  },
  {
   "cell_type": "code",
   "execution_count": null,
   "metadata": {},
   "outputs": [],
   "source": [
    "get_html5_wave_player(0.3*music)"
   ]
  },
  {
   "cell_type": "markdown",
   "metadata": {},
   "source": [
    "![snowman](snowman.png)"
   ]
  },
  {
   "cell_type": "markdown",
   "metadata": {},
   "source": [
    "note | count | freq\n",
    "--- | --- | --- \n",
    "G | 0.5 | 392.0\n",
    "G | 0.5 | 392.0\n",
    "G | 0.5 | 392.0\n",
    "D | 0.5 | 293.66\n",
    "G | 0.5 | 392.0\t\n",
    "B | 0.5 | 493.88\n",
    "A | 1 | 440.0\n",
    "B | 3 | 493.88"
   ]
  },
  {
   "cell_type": "code",
   "execution_count": null,
   "metadata": {
    "collapsed": true
   },
   "outputs": [],
   "source": [
    "notes = \\\n",
    "[[0.5,392],\n",
    " [0.5,392],\n",
    " [0.5,392],\n",
    " [0.5,293.66],\n",
    " [0.5,392],\n",
    " [0.5,493.88],\n",
    " [1,440],\n",
    " [3,493.88],]"
   ]
  },
  {
   "cell_type": "code",
   "execution_count": null,
   "metadata": {},
   "outputs": [],
   "source": [
    "music = []\n",
    "frac = 0.5\n",
    "for note in notes:\n",
    "    beep = make_beep(note[1], note[0]*frac)\n",
    "    music.append(beep)\n",
    "music = np.hstack(list(music))"
   ]
  },
  {
   "cell_type": "code",
   "execution_count": null,
   "metadata": {},
   "outputs": [],
   "source": [
    "get_html5_wave_player(0.3*music)"
   ]
  },
  {
   "cell_type": "code",
   "execution_count": null,
   "metadata": {
    "collapsed": true
   },
   "outputs": [],
   "source": []
  }
 ],
 "metadata": {
  "kernelspec": {
   "display_name": "Python 3",
   "language": "python",
   "name": "python3"
  },
  "language_info": {
   "codemirror_mode": {
    "name": "ipython",
    "version": 3
   },
   "file_extension": ".py",
   "mimetype": "text/x-python",
   "name": "python",
   "nbconvert_exporter": "python",
   "pygments_lexer": "ipython3",
   "version": "3.6.3"
  }
 },
 "nbformat": 4,
 "nbformat_minor": 1
}
