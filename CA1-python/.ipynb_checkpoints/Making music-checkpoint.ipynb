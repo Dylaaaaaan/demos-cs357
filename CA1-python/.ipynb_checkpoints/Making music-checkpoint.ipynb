{
 "cells": [
  {
   "cell_type": "code",
   "execution_count": 1,
   "metadata": {
    "collapsed": true
   },
   "outputs": [],
   "source": [
    "import random\n",
    "import matplotlib.pyplot as plt\n",
    "%matplotlib inline\n",
    "import numpy as np\n",
    "\n",
    "import scipy.io.wavfile as wav\n",
    "import IPython.display as ipd"
   ]
  },
  {
   "cell_type": "markdown",
   "metadata": {},
   "source": [
    "# Some introductory functions"
   ]
  },
  {
   "cell_type": "markdown",
   "metadata": {},
   "source": [
    "### List comprehensions"
   ]
  },
  {
   "cell_type": "markdown",
   "metadata": {},
   "source": [
    "List comprehensions are a versatile syntax for mapping a function (or\n",
    "expression) across all elements of a list."
   ]
  },
  {
   "cell_type": "code",
   "execution_count": 2,
   "metadata": {
    "collapsed": true
   },
   "outputs": [],
   "source": [
    "# The function below accepts a list L\n",
    "# and returns another list with elements of L three times as large\n",
    "def three_ize(L):\n",
    "    # this is an example of a list comprehension\n",
    "    LC = [3 * x for x in L]\n",
    "    return LC"
   ]
  },
  {
   "cell_type": "markdown",
   "metadata": {},
   "source": [
    "What is the return value of `three_ize(list1)`?"
   ]
  },
  {
   "cell_type": "code",
   "execution_count": 3,
   "metadata": {
    "collapsed": true
   },
   "outputs": [],
   "source": [
    "list1 = [1,4,5,10]"
   ]
  },
  {
   "cell_type": "code",
   "execution_count": 4,
   "metadata": {},
   "outputs": [
    {
     "data": {
      "text/plain": [
       "[3, 12, 15, 30]"
      ]
     },
     "execution_count": 4,
     "metadata": {},
     "output_type": "execute_result"
    }
   ],
   "source": [
    "#clear\n",
    "three_ize(list1)"
   ]
  },
  {
   "cell_type": "markdown",
   "metadata": {},
   "source": [
    "### Write the function `scale`"
   ]
  },
  {
   "cell_type": "markdown",
   "metadata": {},
   "source": [
    "The function should have the following signature:"
   ]
  },
  {
   "cell_type": "code",
   "execution_count": 5,
   "metadata": {
    "collapsed": true
   },
   "outputs": [],
   "source": [
    "def scale(L, scale_factor):\n",
    "    '''\n",
    "    returns a list similar to L, except that each element has been\n",
    "    multiplied by scale_factor.\n",
    "    '''  "
   ]
  },
  {
   "cell_type": "code",
   "execution_count": 6,
   "metadata": {
    "collapsed": true
   },
   "outputs": [],
   "source": [
    "#clear\n",
    "def scale(L, scale_factor):\n",
    "    '''\n",
    "    returns a list similar to L, except that each element has been\n",
    "    multiplied by scale_factor.\n",
    "    '''\n",
    "    LC = [scale_factor * x for x in L]\n",
    "    return LC    "
   ]
  },
  {
   "cell_type": "code",
   "execution_count": 7,
   "metadata": {},
   "outputs": [
    {
     "name": "stdout",
     "output_type": "stream",
     "text": [
      "[4, 16, 20, 40]\n"
     ]
    }
   ],
   "source": [
    "#clear\n",
    "list4 = scale(list1,4)\n",
    "print(list4)"
   ]
  },
  {
   "cell_type": "markdown",
   "metadata": {},
   "source": [
    "### Write the function `add_2`:"
   ]
  },
  {
   "cell_type": "markdown",
   "metadata": {},
   "source": [
    "The function should have the following signature:"
   ]
  },
  {
   "cell_type": "code",
   "execution_count": 8,
   "metadata": {
    "collapsed": true
   },
   "outputs": [],
   "source": [
    "def add_2(L, M):\n",
    "    '''\n",
    "    takes two lists L and M and\n",
    "    returns a single list that is an element-by-element sum of the two arguments\n",
    "    If the arguments are different lengths, the function add_2 should \n",
    "    return a list that is as long as the shorter of the two. \n",
    "    Just ignore the extra elements from the longer list.\n",
    "    '''"
   ]
  },
  {
   "cell_type": "code",
   "execution_count": 9,
   "metadata": {
    "collapsed": true
   },
   "outputs": [],
   "source": [
    "#clear\n",
    "def add_2(L, M):\n",
    "    '''\n",
    "    takes two lists L and M and\n",
    "    returns a single list that is an element-by-element sum of the two arguments\n",
    "    If the arguments are different lengths, the function add_2 should \n",
    "    return a list that is as long as the shorter of the two. \n",
    "    Just ignore the extra elements from the longer list.\n",
    "    '''\n",
    "    N = min(len(L),len(M))\n",
    "    list_add = []\n",
    "    for i in range(N):\n",
    "        list_add.append(L[i]+M[i])\n",
    "    return(list_add)"
   ]
  },
  {
   "cell_type": "code",
   "execution_count": 10,
   "metadata": {},
   "outputs": [
    {
     "data": {
      "text/plain": [
       "[5, 20, 25, 50]"
      ]
     },
     "execution_count": 10,
     "metadata": {},
     "output_type": "execute_result"
    }
   ],
   "source": [
    "#clearn\n",
    "add_2(list1,list4)"
   ]
  },
  {
   "cell_type": "markdown",
   "metadata": {},
   "source": [
    "### Write the function `add_scale_2`:"
   ]
  },
  {
   "cell_type": "markdown",
   "metadata": {},
   "source": [
    "The function should have the following signature:"
   ]
  },
  {
   "cell_type": "code",
   "execution_count": 11,
   "metadata": {
    "collapsed": true
   },
   "outputs": [],
   "source": [
    "def add_scale_2(L, M, scale1, scale2):\n",
    "    '''\n",
    "    takes two lists L and M and two floating-point numbers L_scale and M_scale. \n",
    "    These stand for scale for L and scale for M, respectively.\n",
    "    Returns a single list that is an element-by-element sum of the two inputs, \n",
    "    each scaled by its respective floating-point value. \n",
    "    If the inputs are different lengths, your add_scale_2 should return a list that is\n",
    "    as long as the shorter of the two. Again, just drop any extra elements.\n",
    "     '''"
   ]
  },
  {
   "cell_type": "code",
   "execution_count": 12,
   "metadata": {
    "collapsed": true
   },
   "outputs": [],
   "source": [
    "#clear\n",
    "def add_scale_2(L, M, scale1, scale2):\n",
    "    '''\n",
    "    takes two lists L and M and two floating-point numbers L_scale and M_scale. \n",
    "    These stand for scale for L and scale for M, respectively.\n",
    "    Returns a single list that is an element-by-element sum of the two inputs, \n",
    "    each scaled by its respective floating-point value. \n",
    "    If the inputs are different lengths, your add_scale_2 should return a list that is\n",
    "    as long as the shorter of the two. Again, just drop any extra elements.\n",
    "     '''\n",
    "    N = min(len(L),len(M))\n",
    "    list_add = []\n",
    "    for i in range(N):\n",
    "        list_add.append(scale1*L[i]+scale2*M[i])\n",
    "    return(list_add)"
   ]
  },
  {
   "cell_type": "code",
   "execution_count": 13,
   "metadata": {},
   "outputs": [
    {
     "data": {
      "text/plain": [
       "[11, 9, 22, 16]"
      ]
     },
     "execution_count": 13,
     "metadata": {},
     "output_type": "execute_result"
    }
   ],
   "source": [
    "#clear\n",
    "L1 = [1,3,5,2]\n",
    "L2 = [3,1,4,4]\n",
    "add_scale_2(L1,L2,2,3)"
   ]
  },
  {
   "cell_type": "markdown",
   "metadata": {},
   "source": [
    "### How can you obtain the same result using numpy arrays?"
   ]
  },
  {
   "cell_type": "code",
   "execution_count": 14,
   "metadata": {},
   "outputs": [
    {
     "data": {
      "text/plain": [
       "array([11,  9, 22, 16])"
      ]
     },
     "execution_count": 14,
     "metadata": {},
     "output_type": "execute_result"
    }
   ],
   "source": [
    "#clear\n",
    "M1 = np.array(L1)\n",
    "M2 = np.array(L2)\n",
    "2*M1+3*M2"
   ]
  },
  {
   "cell_type": "markdown",
   "metadata": {},
   "source": [
    "### Helper function `add_noise`"
   ]
  },
  {
   "cell_type": "code",
   "execution_count": 15,
   "metadata": {
    "collapsed": true
   },
   "outputs": [],
   "source": [
    "def add_noise(x, chance_of_replacing, noise):\n",
    "    \"\"\"add_noise accepts an original value, x\n",
    "       and a fraction named chance_of_replacing.\n",
    "\n",
    "       With the \"chance_of_replacing\" chance, it\n",
    "       returns the number x + noise\n",
    "\n",
    "       Otherwise, it should return x\n",
    "    \"\"\"\n",
    "    r = random.uniform(0, 1)\n",
    "    if r < chance_of_replacing:\n",
    "        return x + noise\n",
    "    else:\n",
    "        return x"
   ]
  },
  {
   "cell_type": "markdown",
   "metadata": {},
   "source": [
    "### Create the function `array_add_noise`"
   ]
  },
  {
   "cell_type": "raw",
   "metadata": {
    "collapsed": true
   },
   "source": [
    "# Replace entries in a numpy array using the helper function randomize:\n",
    "\n",
    "def array_add_noise(L,prob,noise):"
   ]
  },
  {
   "cell_type": "code",
   "execution_count": 16,
   "metadata": {
    "collapsed": true
   },
   "outputs": [],
   "source": [
    "#clear\n",
    "# Replace entries in a numpy array using the helper function randomize\n",
    "def array_add_noise(L,prob,noise):\n",
    "    for i in range(len(L)):\n",
    "        L[i] = add_noise(L[i],prob,noise)"
   ]
  },
  {
   "cell_type": "code",
   "execution_count": 17,
   "metadata": {},
   "outputs": [
    {
     "name": "stdout",
     "output_type": "stream",
     "text": [
      "[ 4.2  2.   5.   6.2  9. ]\n"
     ]
    }
   ],
   "source": [
    "#clear\n",
    "L = np.array([4,2,5,6,9],dtype=float)\n",
    "array_add_noise(L,0.4,0.1*min(L))\n",
    "print(L)"
   ]
  },
  {
   "cell_type": "markdown",
   "metadata": {},
   "source": [
    "Modify the function `array_add_noise` defined above to take an optional parameter `inplace` which by default is True. \n",
    "When `inplace` is False, the function will instead return a numpy array with the modified values, \n",
    "but it won't replace the entries in the original array."
   ]
  },
  {
   "cell_type": "code",
   "execution_count": 18,
   "metadata": {
    "collapsed": true
   },
   "outputs": [],
   "source": [
    "#clear\n",
    "# Replace entries in a numpy array using the helper function randomize\n",
    "def array_add_noise(L,prob,noise,inplace=True):\n",
    "    if inplace: \n",
    "        for i in range(len(L)):\n",
    "            L[i] = add_noise(L[i],prob,noise)\n",
    "        return\n",
    "    else:\n",
    "        newL = np.copy(L)\n",
    "        for i in range(len(L)):\n",
    "            newL[i] = add_noise(L[i],prob,noise)\n",
    "        return newL"
   ]
  },
  {
   "cell_type": "code",
   "execution_count": 19,
   "metadata": {},
   "outputs": [
    {
     "name": "stdout",
     "output_type": "stream",
     "text": [
      "[1, 3, 5, 2]\n",
      "[1 3 5 2]\n"
     ]
    }
   ],
   "source": [
    "#clear\n",
    "L2 = array_add_noise(L1,0.5,0.1,inplace=False)\n",
    "print(L1)\n",
    "print(L2)"
   ]
  },
  {
   "cell_type": "markdown",
   "metadata": {},
   "source": [
    "# Let's start playing with sounds"
   ]
  },
  {
   "cell_type": "markdown",
   "metadata": {},
   "source": [
    "### Create a sinusoidal sound"
   ]
  },
  {
   "cell_type": "code",
   "execution_count": 20,
   "metadata": {
    "collapsed": true
   },
   "outputs": [],
   "source": [
    "# Define the duration of the sound we want to create:\n",
    "# duration in seconds\n",
    "duration = 5"
   ]
  },
  {
   "cell_type": "code",
   "execution_count": 21,
   "metadata": {
    "collapsed": true
   },
   "outputs": [],
   "source": [
    "# Define the rate of the sound, which is the number of sample points per second\n",
    "DEFAULT_RATE = 44100"
   ]
  },
  {
   "cell_type": "code",
   "execution_count": 22,
   "metadata": {
    "collapsed": true
   },
   "outputs": [],
   "source": [
    "# The total number of sample points that define your sound is:\n",
    "nsamples = int(DEFAULT_RATE*duration)"
   ]
  },
  {
   "cell_type": "code",
   "execution_count": 23,
   "metadata": {
    "collapsed": true
   },
   "outputs": [],
   "source": [
    "# Then create a numpy array that define the range of the sound, i.e., \n",
    "# nsamples points equaly spaced in the range (0,duration) [s]\n",
    "t = np.linspace(0,duration,nsamples)"
   ]
  },
  {
   "cell_type": "markdown",
   "metadata": {},
   "source": [
    "Create a sound array corresponding to the function\n",
    "\n",
    "$ f(t) = \\sin(220 (2 \\pi t)) + \\sin(224 (2 \\pi t))$"
   ]
  },
  {
   "cell_type": "raw",
   "metadata": {},
   "source": [
    "data = ..."
   ]
  },
  {
   "cell_type": "code",
   "execution_count": 24,
   "metadata": {
    "collapsed": true
   },
   "outputs": [],
   "source": [
    "#clear\n",
    "data = np.sin(2*np.pi*220*t) + np.sin(2*np.pi*224*t)"
   ]
  },
  {
   "cell_type": "markdown",
   "metadata": {},
   "source": [
    "Use `plt.plot(t,data)` to plot your function:"
   ]
  },
  {
   "cell_type": "code",
   "execution_count": 25,
   "metadata": {},
   "outputs": [
    {
     "data": {
      "text/plain": [
       "[<matplotlib.lines.Line2D at 0x10e605860>]"
      ]
     },
     "execution_count": 25,
     "metadata": {},
     "output_type": "execute_result"
    },
    {
     "data": {
      "image/png": "[encoded data removed]",
      "text/plain": [
       "<matplotlib.figure.Figure at 0x108f5b240>"
      ]
     },
     "metadata": {},
     "output_type": "display_data"
    }
   ],
   "source": [
    "#clear\n",
    "# Plot the sound\n",
    "plt.plot(t,data)"
   ]
  },
  {
   "cell_type": "markdown",
   "metadata": {},
   "source": [
    "Check the sound you just created!"
   ]
  },
  {
   "cell_type": "code",
   "execution_count": 26,
   "metadata": {},
   "outputs": [],
   "source": [
    "#ipd.Audio(data,rate=DEFAULT_RATE)"
   ]
  },
  {
   "cell_type": "markdown",
   "metadata": {},
   "source": [
    "You can also try different functions!"
   ]
  },
  {
   "cell_type": "markdown",
   "metadata": {},
   "source": [
    "### Create a music note"
   ]
  },
  {
   "cell_type": "markdown",
   "metadata": {},
   "source": [
    "Let's make the sound of the A5 note. (https://en.wikipedia.org/wiki/Piano_key_frequencies)"
   ]
  },
  {
   "cell_type": "code",
   "execution_count": 27,
   "metadata": {},
   "outputs": [],
   "source": [
    "# We want to have the note played for 0.5 seconds\n",
    "duration = 0.5\n",
    "# Define the rate\n",
    "rate = DEFAULT_RATE\n",
    "# The number of samples needed is\n",
    "nsamples = int(rate*duration)\n",
    "# # The frequency of A5 is 880. \n",
    "freq = 880\n",
    "t = np.linspace(0, duration, nsamples)\n",
    "data = np.sin(freq*2*np.pi*t)\n",
    "#ipd.Audio(data,rate=rate)"
   ]
  },
  {
   "cell_type": "markdown",
   "metadata": {},
   "source": [
    "### Write a function `make_note` "
   ]
  },
  {
   "cell_type": "code",
   "execution_count": 28,
   "metadata": {
    "collapsed": true
   },
   "outputs": [],
   "source": [
    "def make_note(freq, duration=0.3, rate=DEFAULT_RATE):\n",
    "    '''\n",
    "    receives as arguments:\n",
    "        - frequency of the note (freq)\n",
    "        - duration of the sound (set as default equal to 0.3)\n",
    "        - rate (samples per second)\n",
    "    and returns:\n",
    "        - np.array data with the beep\n",
    "    '''"
   ]
  },
  {
   "cell_type": "code",
   "execution_count": 29,
   "metadata": {
    "collapsed": true
   },
   "outputs": [],
   "source": [
    "#clear\n",
    "def make_note(freq, duration=0.3, rate=DEFAULT_RATE):\n",
    "    '''\n",
    "    receives as arguments:\n",
    "        - frequency of the note (freq)\n",
    "        - duration of the sound (set as default equal to 0.3)\n",
    "        - rate (samples per second)\n",
    "    and returns:\n",
    "        - np.array data with the beep\n",
    "    '''\n",
    "    nsamples = int(rate * duration)\n",
    "    # make a time sequence\n",
    "    t = np.linspace(0, duration, nsamples)    \n",
    "    # make a (sine) sound wave with frequency = freq\n",
    "    data = np.sin(freq*2*np.pi*t)\n",
    "    \n",
    "    return data"
   ]
  },
  {
   "cell_type": "code",
   "execution_count": 30,
   "metadata": {},
   "outputs": [],
   "source": [
    "note_A5 = make_note(440)\n",
    "# plt.plot(note_A5)\n",
    "# ipd.Audio(note_A5,rate=DEFAULT_RATE)"
   ]
  },
  {
   "cell_type": "markdown",
   "metadata": {},
   "source": [
    "### Modify the function `make_note`  so that it parabolically decays to zero over the time duration of the sound"
   ]
  },
  {
   "cell_type": "code",
   "execution_count": 31,
   "metadata": {
    "collapsed": true
   },
   "outputs": [],
   "source": [
    "# We need a ramp function, which starts with value equal to 1 and finishes with value of zero,\n",
    "# and includes nsamples data points\n",
    "ramp = np.linspace(0, 1, nsamples)\n",
    "# Here is the linear decay\n",
    "# plt.plot(1-ramp)"
   ]
  },
  {
   "cell_type": "code",
   "execution_count": 32,
   "metadata": {
    "collapsed": true
   },
   "outputs": [],
   "source": [
    "# Here is the parabolical decay\n",
    "# plt.plot((1-ramp)**2)"
   ]
  },
  {
   "cell_type": "markdown",
   "metadata": {},
   "source": [
    "Modify the function `make_note` so that it applies the decay above to the data array"
   ]
  },
  {
   "cell_type": "code",
   "execution_count": 33,
   "metadata": {
    "collapsed": true
   },
   "outputs": [],
   "source": [
    "#clear\n",
    "def make_note(freq, duration=0.3, rate=DEFAULT_RATE):\n",
    "    '''\n",
    "    receives as arguments:\n",
    "        - frequency of the note (freq)\n",
    "        - duration of the sound (set as default equal to 0.3)\n",
    "        - rate (samples per second)\n",
    "    and returns:\n",
    "        - np.array data with the beep\n",
    "    '''\n",
    "    nsamples = int(rate * duration)\n",
    "    # make a time sequence\n",
    "    t = np.linspace(0, duration, nsamples)    \n",
    "    # make a (sine) sound wave with frequency = freq\n",
    "    data = np.sin(freq*2*np.pi*t)\n",
    "    ramp = np.linspace(0, 1, nsamples)\n",
    "    \n",
    "    return data*(1-ramp)**2"
   ]
  },
  {
   "cell_type": "markdown",
   "metadata": {},
   "source": [
    "Use your function to create the note A8 (freq=7040) with duration of 2 seconds"
   ]
  },
  {
   "cell_type": "code",
   "execution_count": 34,
   "metadata": {},
   "outputs": [],
   "source": [
    "data_A1 = make_note(7040,duration=2)\n",
    "# plt.plot(data_A1)\n",
    "# ipd.Audio(data_A1,rate=DEFAULT_RATE)"
   ]
  },
  {
   "cell_type": "markdown",
   "metadata": {},
   "source": [
    "### Make music"
   ]
  },
  {
   "cell_type": "markdown",
   "metadata": {},
   "source": [
    "You can use numpy.hstack to combine notes to make music.\n",
    "Try to make a music by using the frequencies in `freq_example` consecutively, using the same duration for all notes. Store the combined array in the variable `music`."
   ]
  },
  {
   "cell_type": "code",
   "execution_count": 35,
   "metadata": {
    "collapsed": true
   },
   "outputs": [],
   "source": [
    "freq_example = [261.6256,293.6648,329.6276,349.2282,391.9954,440.0000,493.8833,523.2511]"
   ]
  },
  {
   "cell_type": "code",
   "execution_count": 36,
   "metadata": {
    "collapsed": true
   },
   "outputs": [],
   "source": [
    "music = ..."
   ]
  },
  {
   "cell_type": "code",
   "execution_count": 37,
   "metadata": {
    "collapsed": true
   },
   "outputs": [],
   "source": [
    "#clear\n",
    "music = np.array([])\n",
    "for fr in freq_example:\n",
    "    music = np.hstack( (music, make_note(fr,duration=0.5)) )\n"
   ]
  },
  {
   "cell_type": "code",
   "execution_count": 38,
   "metadata": {},
   "outputs": [],
   "source": [
    "# ipd.Audio(music,rate=DEFAULT_RATE)"
   ]
  },
  {
   "cell_type": "markdown",
   "metadata": {},
   "source": [
    "What did you get?"
   ]
  },
  {
   "cell_type": "markdown",
   "metadata": {},
   "source": [
    "### Name the music!"
   ]
  },
  {
   "cell_type": "markdown",
   "metadata": {},
   "source": [
    "note | count | freq\n",
    "--- | --- | --- \n",
    "G | 0.5 | 392.0\n",
    "G | 0.5 | 392.0\n",
    "G | 0.5 | 392.0\n",
    "D | 0.5 | 293.66\n",
    "G | 0.5 | 392.0\t\n",
    "B | 0.5 | 493.88\n",
    "A | 1 | 440.0\n",
    "B | 3 | 493.88"
   ]
  },
  {
   "cell_type": "code",
   "execution_count": 39,
   "metadata": {
    "collapsed": true
   },
   "outputs": [],
   "source": [
    "#clear\n",
    "# Do you want to build a snow man\n",
    "notes = [[0.5,392],\n",
    " [0.5,392],\n",
    " [0.5,392],\n",
    " [0.5,293.66],\n",
    " [0.5,392],\n",
    " [0.5,493.88],\n",
    " [1,440],\n",
    " [3,493.88]]\n",
    "# You should use duration = 0.5*count"
   ]
  },
  {
   "cell_type": "code",
   "execution_count": 40,
   "metadata": {
    "collapsed": true
   },
   "outputs": [],
   "source": [
    "#clear\n",
    "# Take me up to the ball game\n",
    "notes = [\n",
    "    [2,261.626],\n",
    " [1,523.251],\n",
    " [1,440.000],\n",
    " [1,391.995],\n",
    " [1,329.628],\n",
    " [3,391.995],\n",
    " [3,293.665]]"
   ]
  },
  {
   "cell_type": "code",
   "execution_count": 41,
   "metadata": {
    "collapsed": true
   },
   "outputs": [],
   "source": [
    "#clear\n",
    "# Take me up to the ball game\n",
    "notes = [[0.5,659.2551],\n",
    "         [0.5,659.2551],\n",
    "        [0.5,659.2551],\n",
    "        [1,587.3295],\n",
    "        [4.5,493.8833],\n",
    "         [1,0],\n",
    "         [0.5,523.2511],\n",
    "         [0.5,523.2511],\n",
    "         [0.5,523.2511],\n",
    "         [0.5,523.2511],\n",
    "         [0.5,523.2511],\n",
    "         [0.5,523.2511],\n",
    "         [0.5,523.2511],\n",
    "        [1,493.8833],\n",
    "         [2.5,440.0000]\n",
    "]"
   ]
  },
  {
   "cell_type": "code",
   "execution_count": 42,
   "metadata": {
    "collapsed": true
   },
   "outputs": [],
   "source": [
    "#clear\n",
    "music = np.array([])\n",
    "for note in notes:\n",
    "    music = np.hstack( (music, make_note(note[1],duration=0.5*note[0])) )\n",
    "# ipd.Audio(music,rate=DEFAULT_RATE)"
   ]
  },
  {
   "cell_type": "markdown",
   "metadata": {},
   "source": [
    "### Let's listen to movie sound clips"
   ]
  },
  {
   "cell_type": "code",
   "execution_count": 43,
   "metadata": {},
   "outputs": [],
   "source": [
    "# Name the movie!\n",
    "# ipd.Audio(\"swnotry.wav\")"
   ]
  },
  {
   "cell_type": "code",
   "execution_count": 44,
   "metadata": {},
   "outputs": [],
   "source": [
    "# Name the movie!\n",
    "# ipd.Audio(\"honest.wav\")"
   ]
  },
  {
   "cell_type": "markdown",
   "metadata": {},
   "source": [
    "### Inspect the type of the data in `music_data`"
   ]
  },
  {
   "cell_type": "code",
   "execution_count": 45,
   "metadata": {},
   "outputs": [
    {
     "name": "stdout",
     "output_type": "stream",
     "text": [
      "The sound has rate (in samples per second) =  11025\n",
      "The data has 32470 sample points\n",
      "<class 'numpy.ndarray'>\n"
     ]
    }
   ],
   "source": [
    "# scipy.io.wavfile.read: return the sample rate (in samples/sec) and data from a WAV file\n",
    "filename = \"honest.wav\"\n",
    "rate, music_data = wav.read(filename)\n",
    "print(\"The sound has rate (in samples per second) = \", rate)\n",
    "print(\"The data has\", len(music_data), \"sample points\")\n",
    "print(type(music_data))"
   ]
  },
  {
   "cell_type": "code",
   "execution_count": 46,
   "metadata": {},
   "outputs": [],
   "source": [
    "sound = np.array(music_data,dtype=float)\n",
    "#plt.plot(sound)\n",
    "# ipd.Audio(sound, rate=rate) "
   ]
  },
  {
   "cell_type": "markdown",
   "metadata": {},
   "source": [
    "### Change the speed of the sound"
   ]
  },
  {
   "cell_type": "markdown",
   "metadata": {},
   "source": [
    "Make it twice as fast"
   ]
  },
  {
   "cell_type": "code",
   "execution_count": 47,
   "metadata": {},
   "outputs": [
    {
     "data": {
      "text/html": [
       "\n",
       "                <audio controls=\"controls\" >\n",
       "                    <source src=\"data:audio/wav;base64,UklGRtD9AABXQVZFZm10IBAAAAABAAEAIlYAAESsAAACABAAZGF0Yaz9AADJa8lryWvJa8lryWvJa8lryWvJa8lryWvJa8lryWvJa8lryWvJa8lryWvJa8lryWvJa8lryWvJa8lryWvJa8lryWvJa8lryWvJa8lryWvJa8lryWvJa8lryWvJa8lryWvJa8lryWvJa8lryWvJa8lryWvJa8lryWvJa8lryWvJa8lryWvJa8lryWvJa8lryWvJa8lryWvJa8lryWvJa8lryWvJa8lryWvJa8lryWvJa8lryWvJa8lryWvJa8lryWvJa8lryWvJa8lryWvJa8lryWvJa8lryWvJa8lryWvJa8lryWvJa8lryWvJa8lryWvJa8lryWvJa8lryWvJa8lryWvJa8lryWvJa8lryWvJa8lryWvJa8lryWvJa8lryWvJa8lryWvJa8lryWvJa8lryWvJa8lryWvJa8lryWvJa8lryWvJa8lryWvJa8lryWvJa8lryWvJa8lryWvJa8lryWvJa8lryWvJa8lryWvJa8lryWvJa8lryWvJa8lryWvJa8lryWvJa8lryWvJa8lryWvJa8lryWvJa8lryWvJa8lryWvJa8lryWvJa8lryWvJa8lryWvJa8lryWvJa8lryWvJa8lryWvJa8lryWvJa8lryWvJa8lryWvJa8lryWvJa8lryWvJa8lryWvJa8lryWvJa8lryWvJa8lryWvJa8lryWvJa8lryWvJa8lryWvJa8lryWvJa8lryWvJa8lryWvJa8lryWvJa8lryWvJa8lryWvJa8lryWvJa8lryWvJa8lryWvJa8lryWvJa8lryWvJa8lryWvJa8lryWvJa8lryWvJa8lryWvJa8lryWvJa8lryWvJa8lryWvJa8lryWvJa8lryWvJa8lryWvJa8lryWvJa8lryWvJa8lryWvJa8lryWvJa8lryWvJa8lryWvJa8lryWvJa8lryWvJa8lryWvJa8lryWvJa8lryWvJa8lryWvJa8lryWvJa8lryWvJa8lryWvJa8lryWvJa8lryWvJa8lryWvJa8lryWvJa8lryWvJa8lryWvJa8lryWvJa8lryWvJa8lryWvJa8lryWvJa8lryWvJa8lryWvJa8lryWvJa8lryWvJa8lryWvJa8lryWvJa8lryWvJa8lryWvJa8lryWvJa8lryWvJa8lryWvJa8lryWvJa8lryWvJa8lryWvJa8lryWvJa8lryWvJa8lryWvJa8lryWvJa8lryWvJa8lryWvJa8lryWvJa8lryWvJa8lryWvJa8lryWvJa8lryWvJa8lryWvJa8lryWvJa8lryWvJa8lryWvJa8lryWvJa8lryWvJa8lryWvJa8lryWvJa8lryWvJa8lryWvJa8lryWvJa8lryWvJa8lryWvJa8lryWvJa8lryWvJa8lryWvJa8lryWvJa8lryWvJa8lryWvxaslryWvJa8lryWvJa8lryWvJa8lryWvJa8lryWvJa8lryWvJa8lryWvJa8lryWvJa8lryWvJa8lryWvJa8lryWvJa8lryWvJa8lryWvJa8lryWvJa8lryWvJa8lryWvJa8lryWvJa8lryWvJa8lryWvJa8lryWvJa8lryWvJa8lryWvJa8lryWvJa8lryWvJa8lryWvJa8lryWvJa8lryWvJa8lryWvJa8lryWvJa8lryWvJa8lryWvJa8lryWvJa8lryWvJa8lryWvJa8lryWvJa8lryWvJa8lryWvJa8lryWvJa8lryWvJa8lryWvJa8lryWvJa8lryWvJa8lryWvJa8lryWvJa8lryWvJa8lryWvJa8lryWvJa8lryWvJa8lryWvJa8lryWvJa8lryWvJa8lryWvJa8lryWvJa8lryWvJa8lryWvJa8lryWvJa8lryWvJa8lryWvJa8lryWvJa8lryWvJa8lryWvJa8lryWvJa8lryWvJa8lryWvJa8lryWvJa8lryWvxaslr8WrJa8lryWvJa8lr8WrJa8lryWvJa8lr8WrJa8lryWvxaslryWvxaslryWvJa8lryWvJa8lryWvJa8lryWvJa8lryWvJa8lryWvJa8lryWvJa8lryWvJa8lryWvJa8lryWvJa8lryWvJa8lryWvJa/Fq8WrxavFq8WrJa8lryWvJa8lryWvJa8lryWvJa8lryWvJa8lryWvJa8lryWvJa8lryWvJa8lryWvJa/FqyWvJa8lryWvJa8lryWvJa8lryWvJa/FqyWvJa8lryWvJa8lryWvxaslryWvJa8lryWvJa8lryWvJa8lryWvJa8lr8WrJa8lryWvJa8lryWvJa/FqyWvJa8lr8WrJa8lryWvJa8lryWvJa8lryWvJa8lryWvJa8lryWvxaslr8WrJa/FqyWvJa8lryWvJa8lryWvJa8lr8WrJa8lryWvJa8lryWvJa/FqyWvJa8lryWvJa8lryWvxavFqyWvJa8lryWvJa8lryWvJa8lryWvJa8lryWvJa8lryWvJa8lryWvJa8lryWvJa8lryWvJa8lryWvxaslryWvJa8lryWvJa8lryWvJa8lryWvJa8lryWvJa/FqyWvxaslryWvJa8lryWvJa8lryWvJa8lryWvJa8lryWvJa8lryWvJa8lryWvJa8lryWvJa8lryWvJa/Fq8WrJa8lryWvJa8lryWvJa/FqyWvJa/FqyWvxaslryWvxavFq8WrJa/Fq8WrJa/FqyWvxaslryWvxaslr8WrxavFq8WrxavFqyWvJa8lryWvJa8lryWvxaslryWvJa8lryWvJa8lr8WrJa/FqyWvJa8lryWvJa/Fq8WrxavFq8WrxaslryWvJa8lr8WrJa/FqyWvJa8lryWvJa8lr8WrxaslryWvJa/FqyWvxaslr8WrxavFq8WrxavFqyWvxaslryWvxavFqyWvxaslr8Wrxaslr8WrJa/FqyWvJa8lr8WrJa/FqyWvJa8lryWvJa/FqyWvxaslryWvJa/Fq8WrJa8lr8WrJa8lryWvxaslryWvJa8lryWvJa8lryWvxaslryWvJa8lryWvJa8lr8WrJa8lryWvJa8lryWvxaslryWvJa/FqyWvxaslryWvJa8lryWvxaslr8WrxavFqyWvJa8lryWvxaslryWvJa8lr8Wrxaslr8Wrxaslr8WrxaslryWvJa8lryWvJa8lryWvJa8lryWvxaslryWvxaslr8WrJa8lryWvJa8lryWvJa8lryWvJa8lryWvJa/FqyWvJa/FqyWvxaslr8WrxaslryWvxavFq8WrxavFqyWvxaslr8WrJa/FqyWvJa8lryWvxaslryWvJa/Fq8WrxaslryWvJa/Fq8WrJa8lryWvxaslryWvJa8lr8WrJa/FqyWvxaslr8WrJa/FqyWvxaslryWvxaslr8WrJa8lryWvJa8lryWvJa8lryWvJa/FqyWvxaslr8WrJa8lr8WrJa8lryWvJa8lryWvJa8lryWvxaslr8WrJa/Fq8WrxaslryWvxaslr8WrJa8lryWvxaslryWvxaslr8WrxavFqyWvxavFq8WrJa8lryWvJa8lryWvJa/FqyWvJa8lryWvJa/FqyWvxavFq8WrxavFqyWvxavFq8WoaavFq8WrxaslryWvJa8lr8WrxavFqyWvJa8lryWvJa8lryWvxavFq8WrJa8lryWvJa/Fq8WrxavFq8WrxavFq8WrJa8lryWvxaslr8WrJa8lryWvJa8lryWvxaslryWvxaslryWvxavFq8WrJa8lr8WrJa/FqyWvxaslr8WrxavFq8WrJa8lryWvxaslr8WrJa/Fq8WrxavFqyWvJa/FqyWvxaslryWvJa8lr8WrJa8lr8Wrxaslr8WrxaslryWvJa8lr8WrJa8lr8WrJa8lr8WrJa8lr8WrxaslryWvJa/Fq8WrJa/Fq8WrJa/FqyWvxaslryWvxavFqyWvxavFq8Wrxaslr8WrxaslryWvJa8lr8WrJa8lryWvJa8lryWvJa/FqyWvxaslryWvJa/Fq8WrxavFq8WrxavFqyWvJa8lr8WrJa/FqyWvJa8lryWvJa8lr8WrxavFqyWvJa8lryWvJa8lr8WrJa8lr8Wrxaslr8WrJa8lr8WrJa8lryWvJa8lr8WrxaslryWvxavFq8WrxavFq8WrJa8lryWvJa/Fq8WrJa8lryWvxavFq8WrxavFq8WrxavFqyWvJa8lryWvJa/Fq8WrJa8lryWvJa8lr8WrxaslryWvJa8lryWvJa8lr8WrxavFq8WrJa/FqyWvxaslryWvJa8lr8WrJa/Fq8WrxaslryWvJa8lryWvxaslr8WrJa8lr8WrJa8lryWvxaslryWvJa8lr8Wrxaslr8WrxaslryWvJa/FqyWvxavFq8WrxavFq8WrxaslryWvJa/FqyWvxavFq8WrJa8lr8WrxavFqyWvxaslr8WrxavFqyWvxaslr8Wrxaslr8WrJa8lryWvJa8lr8WrJa8lr8WrJa8lr8WrxavFqyWvxaslr8Wrxaslr8WrJa8lryWvxaslryWvxaslryWvJa8lr8WrxavFqyWvxaslryWvJa8lryWvJa8lryWvJa/FqyWvxaslryWvxavFqyWvxavFq8WrJa8lryWvxavFq8WrJa8lryWvJa8lryWvJa/FqyWvJa8lryWvJa/Fq8WrxavFq8WrxavFq8WrxaslryWvJa/Fq8WrxavFqyWvxaslr8WrxaslryWvxavFqyWvJa/Fq8WrxaslryWvJa8lryWvxavFqyWvJa/Fq8WrJa/FqyWvJa8lryWvJa8lryWvJa/Fq8WrJa8lryWvxaslryWvxaslryWvxavFqyWvJa8lr8WrJa8lr8WrxaslryWvxaslryWvxavFq8WrJa/Fq8WrJa8lr8WrxavFq8WrxavFq8WrxavFq8WrxavFq8Wrxaslr8WrxavFq8WrxavFq8WrxavFq8WrxavFq8WrxavFqyWvxavFq8WrxaslryWvJa8lr8WrxavFq8WrJa8lryWvxavFqyWvxavFqyWvxavFq8WrJa8lryWvxavFq8WrJa8lryWvxaslr8WrJa8lryWvxaslryWvxaslryWvJa/Fq8WrJa8lryWvJa/FqyWvxavFq8WrxavFq8WrxavFq8WrxavFq8WrxavFq8WrxavFq8WrxaslryWvJa8lryWvJa8lryWvxavFqGmoaahpqGmoaahpq8WrxavFq8WrxavFq8WrxaslryWvxavFqyWvxaslr8WrJa/Fq8WrxavFq8WrxavFq8WrJa/FqyWvJa/Fq8WrxaslryWvJa/Fq8WrJa8lryWvJa8lryWvJa8lr8Wrxaslr8WrJa8lryWvJa/Fq8WrxavFqyWvJa8lryWvxavFqGmoaavFq8WrJa8lr8WrxahpqGmoaavFqyWvJa8lryWvJa8lr8WrJa8lryWvJa/Fq8WoaakJpQmlCaRpqyWvJa8lryWvJa/Fq8WrxavFqyWvJa8lryWvJa8lr8WrxahpqGmoaahpqGmrxavFqyWvJa8lryWvxavFq8WrxavFq8WrJa8lryWvJa8lryWvJa/Fq8WrxavFq8WrJa/FqyWvJa8lryWvJa8lr8WrxavFq8WrxavFq8WrxavFq8WrxavFq8WrxaslryWvxavFqGmoaahpq8WrJa6BsoGygbKBsoGzxahpqamhqaGpoQmkaaslryWugbMlryWvxahpqGmoaavFqyWvJa6BsoGygbMlr8WoaakJpQmlCaRpq8WrJa6BsoGzJa/FqGmpCaUJpQmkaavFqoGx4bU9ueG2gbPFqGmpCaUJpGmrxaqBsoGygbKBsyWvJa/Fq8WrxavFq8Wrxaslr8WrxavFqGmrxavFqyWvJa8lryWvJa/FqGmoaahpqGmoaavFqyWugbKBsoGygbMlr8WoaahpqGmoaahpq8WrJa8lryWvxavFq8WrxavFqyWugbKBseG2gbPFqQmlqaGpoamhCafFqoGx4bXhtoGzJa/FqQmlqaGpoQmnxaslroGx4bXhtoGzJa8lr8WrxavFq8WrxavFqyWvxaslryWvJa8lryWugbMlr8WoaakJpQmlCaRpqyWugbKBsoGzJaxpqQmmTZ2po8WqgbE9uJ29PbqBs8WpqaJNnu2aTZxpqoGx4bU9ueG3JaxpqQmlqaEJp8WrJa6BsyWvJa/Fq8WpCaUJpGmrxaslryWvxavFq8WrxaslryWvJa8lryWvJa/FqGmoaavFqyWvJa6BsyWvJa8lr8WrxavFq8WrJa/FqyWvJa8lryWvxavFq8WrxavFqyWvJa/Fq8WrxavFq8WrxahpqGmrxavFqyWvJa/FqyWvJa8lr8WoaahpqGmoaahpqGmoaavFqyWugbMlryWvJa8lr8WrxahpqGmoaavFqyWvxavFq8WrxavFqyWvxavFq8WrxavFq8WrxavFqyWvJa8lryWvJa/Fq8WrxavFqyWvxaslryWvJa8lr8WrJa/FqyWvJa6BsyWvxahpqGmoaavFq8WrJa8lryWvxavFqQmkaahpqyWugbMlryWvxavFqGmoaakJp8WrJa8lryWvxahpqGmoaavFq8WrxavFq8WrxavFqyWvxaslr8WrxavFqGmoaahpqGmoaavFqyWvJa8lr8WoaahpqyWugbHhtoGzJa/FqGmrxavFq8WrJa6BsoGzJa/Fq8WrxaslryWvJa6BsyWvxahpqQmlCafFqyWvJa8lryWvxahpqGmoaavFqyWvxavFqGmoaahpq8WrJa6BsyWvJa/FqGmpCaUJpGmoaavFqyWugbKBsyWvxahpqQmlCaUJp8WrJa6BsoGygbMlryWvxahpqGmoaaslroGygbMlryWvJa8lryWvJa6BseG1PbqBs8WqTZ5Nnk2dCafFqoGx4baBsyWsaampoamhqaEJp8WrJa8lr8Woaahpq8WrxaslryWugbMlryWsaahpq8WrJa8lryWugbKBsoGzxavFqGmrJa8lryWsaahpq8WrJa8lrGmrxahpqyWvxavFqQmkaaslreG0nbydveG3Ja2po5GXkZbtmQmmgbE9ueG2gbMlr8WoaavFq8WrJa8lr8WpCaWpok2dCaRpqyWvJa8lryWvxahpqQmnxavFqyWvxavFq8WrxavFqyWugbHhteG14baBsyWsaahpqQmnxaslroGygbKBsyWvJa8lr8WrJaxpqoGxCafFqamhCaWpoGmoaaslryWvJa/FqyWvJa/Fq8WpCaUJpQmnxavFqyWvJa6BsGmrxahpq8WoaavFqGmrxavFqyWvxavFqyWvxaslr8WrxakJpGmrxaqBsyWvJa/FqyWvJa8lryWvJa6BsoGygbBpqGmoaaslreG1PbidvoGzxapNnu2a7ZkJp8WqgbKBsoGzJaxpqQmlCaUJpamhCaRpqyWvJa6BsoGzxahpqGmoaavFqoGxPbk9uyWtCaUJpQmnJa8lreG3Ja3htoGzxavFqGmrJa/FqamhqaGpoyWt4bU9ueG2gbBpqQmmTZ2po8WqgbE9uT24nb8lrGmqTZ2poamjJa8lryWvJa8lroGzJa8lrGmrJa/Fq8WoaakJpGmoaavFqGmpCafFqyWugbPFq8WoaahpqGmrxavFqyWvxahpqGmrxanhtJ29PbqBs8WpCaWpoQmnxak9uT24nb8lryWsaaslrGmpCaWpoyWvJa8lryWsaaslrQmnxampoGmoaavFqyWvxavFq8WrJaxpq8WrxaqBsyWsaakJpamjxaslreG2gbKBsyWsaakJpGmrxaslryWvxavFqGmrxaslreG3Ja/Fqk2dCaUJpyWvJa6BsoGzJaxpqQmlqaEJpGmrxaslryWugbKBsyWugbKBsyWsaahpqGmqgbHhtoGzJa/FqoGygbKBsamhCaWpoyWvxaqBsGmoaahpqT25dc9ZwoGwMZTVkhWLkZbtmyWtPbv9vJ2/JaxpqQmnxaslryWsaampok2dqaBpqyWt4bXhtoGzxavFqQmnxaslryWvJa8lr8WoaavFq8WrJa8lroGzxavFqQmkaahpqyWvJa6BsoGzxanhtyWugbGpooGzJa6BsQmlqaEJp8Wonb0JpQmk1ZDR0/39qeHhtrmH/X3hd5GVqaE9uJ2+ucSdv8Wq7ZmpoyWtPbqBsk2ddYzVkamigbP9v/29Pbhpqu2bkZbtm8WqgbHht8WoaahpqoGwnbydveG1Cabtm5GVCaaBsT27/bydveG1CaWpok2caaslroGzJa8lroGygbKBsoGygbMlrGmqTZ5NnamjxaslrGmrJa/9vNHSucRpqDGVdY+Rlk2dCaclreG1Pbnht8WrxavFqyWvJa/Fqami7ZpNnGmqgbHhtT27Ja8lrQmlqaEJpGmrxaslryWvxaslryWt4baBsyWtCaUJpQmnxaqBsoGygbPFqyWvxaqBs8WrJa8lryWvJaxpq8WpCaaBsyWvJa0Jp8WrxahpqyWsnbwx1J29Caa5hXWMMZfFqoGxPbnhtoGzJaxpq8WrJa6Bs8WqTZwxlDGVqaMlrT27/b/9vT27xapNn5GXkZWpoGmrJa8lroGx4bU9ueG3JaxpqamhCaWpoyWugbHhtoGzJa8lryWugbBpqyWvJa6Bs8WrxavFqyWvJa8lryWvxavFqamiTZxpqhXKTd9ZwDGX/X65hu2bxaqBsJ2//bydv8WqTZ2po8WqgbMlramjkZQxlamigbP9v1nAnb8lrami7ZuRlQmnxaslr8WrJa6BsoGx4bclryWtCaWpou2YaavFqT254bSdvT26gbPFqamhCaUJpoGwaavFqyWtPbk9ueG2gbPFqGmpqaGpoamhCaUJpQmnxaq5xk3c0dBpqhWLWYF1jDGVCaaBs/2//b09u8WoaahpqyWugbPFqk2cMZQxlk2egbNZwrnH/b6BsamjkZeRlk2dCafFqyWt4bU9ueG14bclr8WpqaJNnamjxaqBsT24nb09uyWtCaUJp8WqgbMlr8WoaaslryWtPbnhtoGzxahpqamiTZ0JpGmp4bclroGygbP9vT27Ja5Nnk2eTZ2poamgaaqBseG14bclr8WoaavFqQmlCaWpoQmlCaclroGxPbnhtyWtCabtmk2dqaPFqyWt4bclroGzJa8lryWvJa/FqamiTZ2pooGwnb/9veG2gbEJpGmoaavFq8WrxaqBs8WrJa8lryWugbKBseG0aampok2dCaUJpQmlCaU9uNHQMdSdvu2Y1ZDVk5GW7ZkJpyWt4bU9ueG3Ja/FqyWugbMlrGmq7ZuRlu2ZCaclreG14bXht8Woaahpq8WoaavFqGmrxavFqyWvJa6BsoGzxavFqQmnxaqBsT26gbBpqQmkaaqBsoGx4bclr8WrxahpqGmrxaslryWvJa6BsoGzJa0JpQmlqaBpq8WrxaslryWvxakJpGmqgbE9uT27Jaxpqu2aTZ7tm8WrJa6BsyWvJa6BsyWugbPFqGmpqaEJpQmnxaslryWvxavFqGmoaahpq8WoaahpqGmrxaslroGygbMlroGxCaclrk2fJa8lrJ294bclr8WpCaaBsoGwnb/Fq8WrxahpqyWvJa09uoGwaakJpamjJaxpqoGxCafFqQmkaaslrJ2/WcE9uGmoMZQxlDGVCafFqoGx4bXhtoGzJa8lryWugbMlrami7Zgxlk2caanhtT254baBs8WrxahpqGmpCaRpq8WrxaslroGygbHhtyWvJa2poamhCafFqT25PbidvyWsaahpqGmrJaxpqyWtCaaBsyWugbHhtoGzJa0JpGmpCafFq8WrJa8lr8Wrxahpq8WqgbMlr8WpqaGpoQmnxaslr8WoaampoQmlCafFqyWt4bclr8Woaahpq8WrJa8lryWugbPFqQmmTZ/FqyWtPbk9uJ29Pbk9uoGzxampou2a7ZrtmGmqgbHhteG3Ja8lr8Woaampou2a7ZkJp8WrxavFqyWugbE9uT27Ja2po5GXkZRpqT27WcP9vyWvxahpq8WrJa8lr8WoaakJp8WoaaslroGx4bclrami7ZpNnQmnxaslrJ29dcwx1/2/xajVk1mCFYgxlGmp4ba5x/29PbqBs8WrxaslryWvxampoNWQ1ZLtmyWsnbydveG3xahpqamiTZ2poGmrJa/FqyWvxanhtoGygbMlryWsaampoQmnJa3hteG14baBsoGzJa/FqoGx4bfFqQmkaaqBseG2gbMlr8WrxahpqQmlCaUJpGmrxaslryWvJa6Bs8WoaapNnamhqaGpoamjxanhtoGzxaslryWvJa8lramgaapNnoGwaaslroGygbHhtyWt4bRpqoGzJa6Bs8Woaaslr8WrJaxpq8WrJa8lrGmrJa/FqeG1qaBpqamjxaqBsQmnxakJpyWvxampoeG3Ja6Bs8WqTZ/FqQmnJa0JpoGzxaqBsoGzJa6BsamjxapNnamgaahpqT27Ja8lr8WrJa6Bs8WoaahpqamjxavFqeG14bXhtoGzxakJpGmrxaqBsoGwaavFqGmrJa8lroGwaakJpk2dCaUJpoGx4baBsQmkaahpqGmrJa/Fq8WpqaMlrQmmgbKBseG3JaxpqQmlCaXhtT25PbqBsoGwaavFqamjxapNneG0aavFqQmnxaslryWt4bRpqoGxqaGpo5GVCaclryWvJa/Fq8WrJa0JpGmrxanhtoGzxahpqamjxahpq8WqgbE9ueG0aaslryWugbKBsGmq7ZmpoQmmgbHhtJ29PbslroGzxartm5GVqaMlryWugbPFqyWvxaslryWtqaPFqk2caapNnyWvJa6BsT26gbKBsGmoaakJp8WqgbE9uoGzJa/Fq8WrJa/FqyWsaavFqGmrxahpqyWvxavFqQmlqaEJpamgaavFqyWvJa/FqGmoaavFqyWvxaslr8WrJa8lroGx4bUJpGmpqaCdveG14bclryWvJa8lreG0aavFqQmnxakJpyWvJa/FqGmrxavFqGmpCafFq8Wrxahpq8WoaahpqyWvxavFqGmpCafFqyWugbMlryWvJa/FqyWugbHhtGmoaavFqGmrJa0JpT254baBsyWtCaXht8WqgbMlr8WoaampoQmlCaclroGzJa/FqQmkaampo8WrJa8lryWvxavFqamjJa6BsyWsaakJpamjJa6BseG3Ja6BsT25CaaBsyWtCaV1j8WqgbMlroGxPbk9uyWt4bZNnu2aTZ2poGmqgbCdvoGxPbk9uGmpCaWpoamhqaEJpQmkaaslr/2/kdRl6hXLxaoVieF0nXzVk8Wonb65xrnEnb6BsyWsaakJpQmm7Zl1jXWOTZ6Bs/2+ucf9vyWuTZ+Rl5GVqaBpqyWt4bU9uT25Pbnht8WpqaLtmk2caaslreG1PbtZwJ2+gbMlrGmoaakJpGmoaakJpGmrxaslreG1Pbk9u8WpqaLtmDGVqaEJpeG3Ja6BsyWsaanhtGmrxampoamgaavFqeG2gbGpo8WpCaclryWvJa8lr8WqgbPFq8WrJa/FqyWvxaslrGmrxahpqamjJa/FqyWtCaclroGzxaqBsyWsaavFqGmrxahpqyWvJa8lrJ28nb/9voGzxampok2dCaWpoyWugbE9uT26gbMlrGmoaakJpk2dCaUJpGmrJa8lryWvxaslrGmoaahpqQmlCaUJp8WrJa3htT26gbKBsGmqTZxpqyWtPbslroGzJa6BseG2gbMlrGmrxahpq8Wp4bclroGwaavFqGmpCaclryWugbPFqGmq7ZkJpGmrxaslryWvJa/Fq8Woaahpq8WrxakJpGmrxaqBsoGzJa/FqamgaavFq8WrJaxpqGmpCaRpqyWugbKBsyWvJa/FqGmoaavFqoGygbKBsyWugbKBs8WrxavFq8WrxavFqGmrxavFqyWvxavFq8WrxavFq8Woaahpq8WoaavFqGmoaavFq8WrxaslryWvxavFqGmoaavFqoGygbMlr8Wrxaslr8WoaahpqyWsnb8lr8WqTZxpqyWugbCdvyWvxampo8WrxaslryWtCaWpoGmrJa6BsoGx4bXhtyWvxagxlu2a7ZhpqyWvJa3htyWvJa/FqyWvJaxpqami7ZuRlGmqgbCdvT254bclrGmoaampo8WrxaslryWvJa8lryWugbKBsyWvxahpq8WrJa8lreG1PbnhtyWtqaJNnamhCafFqyWt4bXhtoGzJa8lr8WpCaWpoamhqaEJpGmrJa6BseG2gbPFqQmlqaEJpGmrxaslryWugbMlr8WrJa6BsoGwaavFqGmrJa6BsyWugbKBsoGygbKBsyWtCaUJp8WrJa8lryWvxaslryWvxaslryWugbEJpQmnkZWpoGmqgbHhtoGzJa5NnamhqaBpqGmrxavFq8WoaavFq8WqgbMlr8WpCaZNn8WrxaqBs8WrJa6BsyWugbPFq8WrxavFqyWvxaqBsyWugbKBsoGzxahpq8WoaavFqyWvxaslr8WrJa/FqGmrxahpq8WoaakJpGmpCaclr8WrJaxpqGmrxavFq8WrJa8lryWvxahpqGmrxaqBsT26gbMlrGmrJa/FqyWvJa0Jp8WrxaslrGmp4bU9uoGzJaxpqQmmTZ/FqyWsaaqBsyWvJa8lrGmrxapNnyWsaakJp8WoaaslrGmrJa8lr8WrxahpqGmpqaPFqyWvJa6BsyWvxahpq8WrxavFq8Wrxahpq8WrJa8lroGygbPFqGmpCaRpq8WrxaslryWvJa6BsyWvJaxpqQmlCafFq8WoaahpqoGxPbslroGzxaqBs8WpCaclrQmnJa8lryWvJa8lryWvxaqBs8WpqaJNnamgaavFqoGzJa8lryWvJa/FqGmrxavFqGmoaakJp8WrJa6BsoGzJa8lrGmoaahpqGmrxavFqGmrJa/FqyWvJa/FqyWvxavFqQmkaavFq8WrJa6BsyWsaaslr8WrxaslroGx4bRpqGmpCaRpqeG3Ja6BsyWvJa8lrQmkaahpqGmrJa/Fq8WrxaslreG3Ja/FqGmoaahpqGmoaavFq8Woaaslr8WrJa/FqGmrJa/FqGmpCaRpq8WoaaslryWugbMlr8WoaavFq8Wrxaslr8WrJa/FqyWvxaslryWvxavFq8Woaahpq8WrxavFqQmnxavFqyWugbMlryWvxavFqGmoaavFq8WrxaslryWvJa8lryWvJa/Fq8WoaakJp8WrJa8lryWugbPFqGmoaavFqyWsaaslrGmrJa8lryWvxavFq8WpCaUJpGmonb9ZwJ2+gbGpou2a7ZpNnQmnJa3hteG14bclr8WrxavFqGmpCaWpoQmlCafFqoGwnb/9voGwaauRl5GWTZ/FqoGx4bXhtoGzxakJpGmrJa8lryWvxapNnyWugbCdveG3Ja/Fqk2dCafFqeG2gbKBsoGzJa8lryWvJa8lryWvxapNnQmlCaclroGzJa8lrGmoaakJpQmlCaRpqGmoaavFqyWvJa8lryWvxahpqGmoaahpqGmrJa6BsoGygbMlr8WrJa8lryWvJa8lroGzJa8lroGzJa/Fq8WoaavFqyWvJa8lryWugbMlryWvxahpqQmlCaUJp8WrxaslroGzJa8lrQmlCaUJpQmkaavFq8WrJa8lryWvJa8lryWvxakJpGmoaavFqoGx4bXhtoGzJa/FqGmrxavFqyWvJa8lryWvJa6BsT26gbMlr8WoaakJpk2dCaRpqyWugbKBsoGzJa/FqGmpCaWpoQmkaavFqyWvJa6BsoGzJa/FqQmlqaGpoGmrxaslroGygbKBsyWvxahpq8WrJa8lr8WoaaslryWugbKBsyWvxahpqyWvJa8lroGzJa/FqyWvJa8lryWvxaslr8WrxavFqGmrxavFq8Wrxahpq8WrxavFq8Wrxahpq8WrxaslryWvJa/FqQmlqaGpoQmnxavFqyWugbKBsyWvxavFq8Wrxaslr8WoaavFqyWvJa6BseG1PbslryWvJaxpqGmrxahpqQmnJa3htyWvJa8lroGygbHhtyWtCabtmu2aTZ0JpyWt4baBsoGygbPFqQmlqaGpoQmlCafFqyWvJa6BsoGzJaxpqQmlqaEJp8WrxaslroGx4bXhtoGzJa/Fq8WrxavFqyWugbKBsyWvJa8lryWvxavFq8WrxavFq8WrJa8lryWvJa8lr8WoaakJpamhCafFqyWugbMlr8WoaakJpGmoaavFq8WrxavFq8WrJa8lryWvJa/FqGmoaavFqoGzJa6BsoGygbMlryWvJa/Fq8WrxavFq8WrJa8lreG14baBsGmoaakJpQmkaaslryWvJa8lryWvxaslr8WrxahpqGmoaampoQmnxavFqyWvJa8lrGmoaahpq8WoaavFq8WrxaslryWvJa8lroGzxahpqGmrxavFq8WrxaslroGygbMlrGmoaaslryWvxavFqyWvJa8lryWvxaslr8WrxavFq8WoaavFq8WrJa8lr8WrxavFq8WoaavFqGmrxahpq8WrxavFq8WoaavFqyWvJa8lr8WpCaUJpamjJa8lroGzJa8lryWvxavFq8WrxavFqyWvJa6BsyWvJa8lryWvJa8lryWvxavFq8WrJa6BsyWvxakJpGmrxaslryWvJa/FqGmoaahpqGmrxaslr8Woaahpq8WrxavFqyWvxavFqGmoaahpq8WrxavFq8WrJa8lryWvJa8lryWvxahpq8WrJa8lryWugbKBs8Wrxaslr8WrxaslryWvJa/Fq8WrxahpqyWvxaslr8Woaahpq8WrxaslryWvxahpqGmoaahpq8WrxavFq8WrxahpqQmkaavFqyWvJa8lr8WoaavFqyWvxaslryWvJa/FqyWvJa8lryWugbMlr8WrxavFqyWt4bclryWsaavFqyWvJa8lryWvJaxpqGmpCafFqyWvJa8lryWvxaslr8WrxahpqQmlCaWpoQmnxaqBsoGygbMlr8WoaakJpQmkaahpqyWvJa8lryWugbMlryWvJa/FqGmoaavFq8WqgbHhteG2gbPFq8Woaahpq8Wrxaslr8WrJa6BsyWvJa8lr8WoaahpqGmrxavFqyWvJa/Fq8WrxahpqGmoaavFq8WrJa/Fq8WrxavFqGmoaahpq8WrJa/FqyWvJa6BsyWvxahpqGmrxavFq8WrJa8lryWvxavFq8WrxavFq8Woaahpq8WrxaslryWvJa8lr8WrJa/Fq8WoaahpqGmrJa8lreG14baBs8WoaavFqGmoaavFq8WrxaslreG2gbMlryWvxahpqGmoaahpqGmrxavFqGmrJa6BsyWvJa/FqGmpCaUJpGmrxavFqyWvJa8lryWvJa/FqGmoaavFqyWvxavFqyWugbMlryWvJaxpq8WrxavFq8WrJa6BsyWvJa/FqGmrxavFqyWvJa8lryWvxavFq8WrJa/FqyWvxavFqGmoaavFq8WrJa8lryWvxahpqGmoaavFq8WrJa8lr8Wrxahpq8Wrxaslr8WoaahpqGmrxaslroGygbPFqGmpCafFqyWvxaslryWtPbqBsyWvxahpqGmrJa/FqyWvJa3htoGzJa/Fq8WrJa/Fq8WoaavFqyWugbMlr8WpCaUJpQmkaahpqyWvJa8lryWvxaslr8WoaahpqGmoaavFq8WrJa8lryWvJa8lr8WrxahpqGmoaavFqoGzJa8lryWugbMlr8WoaahpqGmrJaxpq8WrJa3hteG3JaxpqGmrJa8lr8WoaavFqyWvJa8lr8WrJa8lr8Woaahpq8WrJa6BsoGzxahpqGmoaahpq8WrxaslryWvJa8lryWvxavFqGmoaahpqGmrxavFqyWvJa8lryWvxahpqGmoaavFqyWvJa8lr8WrxaslryWvJa/Fq8WrxahpqQmkaaslrT25PbqBsyWvxavFqQmlqaPFq8WqgbKBseG3Jaxpq8WrxavFqGmrxavFq8WrJa8lr8WrxavFqyWvxavFqyWvxavFqGmoaampoGmrxaslroGzJa/Fq8WoaavFqGmoaavFqyWvxavFqyWvJa8lryWvxahpq8WrxavFq8WrJa8lr8WrJa8lryWvJa/FqGmoaahpqyWvJa8lryWvJa/Fq8WrxavFq8WrxavFq8WrxavFq8Wrxaslr8WrJa/Fq8WrxavFq8WrxavFq8WrxavFq8WrxavFq8WrxavFq8Wrxaslr8WrxavFq8WrxavFq8WrxavFq8WrxavFqyWvxavFqyWvJa/Fq8WoaaslryWvJa/Fq8WrxaslryWvJa8lr8WrxavFq8WrxaslryWugbMlr8WpCaUJpGmrxaqBsoGzJa/Fq8Woaahpq8WrxaslryWvxavFqGmrxaslr8Woaahpq8WoaavFqyWvJa8lryWvxahpqGmrxavFqyWvxavFqyWvJa8lr8WrxavFq8WrxaslryWvxaslr8WrJa8lryWvJa/Fq8WrJa8lr8WrJa/FqyWvJa8lr8WrxavFq8WrxavFqyWsaavFq8WrJa8lryWvJa/Fq8Woaahpq8WrxaslryWvxavFq8WoaavFq8Wrxahpq8Woaahpq8Wrxaslr8Wrxahpq8WrxavFq8WoaavFq8WrJa8lr8WrxavFq8WrxavFq8WrJa8lryWvJa8lryWvJa8lr8Woaahpq8WrJa8lr8WrJa8lryWvxahpq8Wrxaslr8WrxavFqyWvJa/FqGmrxavFq8WrxavFq8WrxavFqyWvxavFq8WrxahpqGmoaahpqyWvJa8lryWvxahpqGmrxavFq8WrxavFq8WrJa8lryWvxaslr8WrxahpqGmrxaslryWvJa8lr8WrJa/FqQmkaahpqyWugbKBsyWvJa/Fq8Woaahpq8WrJa8lr8WrJa/FqyWvJa8lr8WrxavFqGmrxaslryWvJa/FqGmoaavFq8WrJa/Fq8WrJa/FqGmrxavFqyWvJa/Fq8WoaavFq8WrJa/FqyWvJa8lr8WrxavFq8WrJa/Fq8WrxavFq8WrxavFq8WrJa/Fq8WrxavFqyWvxahpq8WrJa8lr8WrxavFq8WrJa8lr8Wrxaslr8WrxavFq8Wrxaslr8Wrxahpq8WrxavFq8WrJa8lr8WrxahpqGmrxaslryWvxavFq8WrxavFq8WrxaslryWvxahpq8WrJa8lryWvJa/FqyWvJa/FqGmrxavFqyWvxavFqyWvxaslr8Woaahpq8WrJa8lr8Wrxahpq8Wrxaslr8WrxavFqGmrxavFqyWvJa/Fq8WrxavFqyWvxaslryWvJa8lr8WrxavFq8WrxavFq8WrxavFq8WrxavFq8WrxavFq8WrxavFq8WrxavFq8Wrxaslr8WrxavFq8WrJa8lr8WrJa8lryWvxavFqyWvxavFq8WrxavFqyWvJa/Fq8WrxavFqyWvxavFqyWvxavFq8WrxavFqyWvxaslryWvxavFq8WrxavFq8WrJa8lryWvJa8lryWvxavFqGmoaavFqyWvJa8lryWvJa/Fq8Wrxahpq8Wrxaslr8WrJa8lryWvJa/FqGmoaahpq8WrxaslryWvJa8lr8Woaahpq8WrJa/FqyWvJa8lr8WoaavFq8WrxavFq8WrxavFq8WrJa8lryWvJa8lrGmrxavFq8WrxaslryWvJa8lryWvxavFq8WrxavFqyWvxavFq8Wrxaslr8WrJa/FqGmrxavFq8WrJa/Fq8WrxaslryWvJa/Fq8WrJa8lr8WrxavFqyWvxavFq8WrxaslryWvxavFq8WrJa/FqyWvJa/Fq8WrxavFq8WrxavFq8WrJa/Fq8WrxavFq8WrxaslryWvJa8lr8WrxavFq8WrxaslryWvxavFq8Wrxaslr8WrJa8lr8WrxavFq8WrxavFq8WrJa8lr8WrxavFq8WrxavFq8WrJa8lr8WrJa8lryWvxavFq8WrxavFq8Wrxaslr8WrJa/FqyWvxahpqGmoaavFqyWvJa8lryWvJa/FqGmoaahpq8WrJa8lryWvxavFq8WrxavFq8WrJa/Fq8WrxavFqyWvJa6BsyWvxahpqQmkaavFqyWvJa8lryWvxahpqGmoaavFqyWugbMlryWvxahpqGmoaahpq8WrJa8lryWvJa/Fq8WrxavFq8WrxavFq8WrxavFq8WrJa8lryWvxavFqGmoaahpq8WrJa8lryWvJa8lryWvxavFq8WrxavFqyWvJa8lr8WrJa/Fq8WrxavFq8WrxavFq8WrJa8lryWvJa/FqyWvxahpqGmrxavFqyWvxavFqyWvJa/Fq8WoaavFq8WrJa/Fq8WrxaslryWvxavFq8WrxavFq8Wrxaslr8WrJa8lryWvxahpqGmoaavFqyWvxavFqGmrxaslryWvxahpq8WrxavFq8WrxavFqyWvJa/Fq8WrxavFq8WoaavFq8WrxaslryWvJa8lr8WrxavFq8WrxavFq8WrJa8lr8WrxavFqyWvxavFq8WrxavFqyWvJa8lr8WrxavFqyWvxavFq8WrxavFq8WrxavFqyWvJa/Fq8WrxavFq8WrJa/Fq8WrJa8lr8Wrxahpq8Wrxaslr8WrJa8lr8WrxavFq8Wrxaslr8WrxavFqyWvxaslr8WrxavFqyWvxavFq8WrxavFqyWvxaslryWvxavFq8WrxavFq8WrxavFqyWvxaslryWvxavFq8WrxavFq8WrxavFq8WrJa8lryWvJa/Fq8WrxavFqGmrxaslr8WrJa8lr8WrxavFq8WrxavFq8Wrxaslr8Wrxaslr8WrJa/Fq8WrxavFq8WrJa/FqyWvxaslryWvxavFq8WrxavFq8WrJa/FqyWvJa/FqyWvJa8lr8WrxavFq8WrxavFq8WrxavFq8WrxavFq8WrxavFq8WrxavFq8WrxavFq8WrxavFq8WrxavFqyWvxavFq8WrxavFq8WrJa/FqyWvxaslr8WrxavFq8WrxavFq8WrxavFq8WrxaslryWvJa/Fq8Wrxaslr8WrxavFq8WrxavFqyWvxavFq8Wrxaslr8WrJa8lryWvxavFq8WrJa/Fq8WrJa/Fq8Wrxaslr8WrxavFq8WrJa/Fq8WrxavFqyWvxavFq8WrxavFqyWvJa/Fq8WrxavFq8WrxavFqyWvxavFq8WrJa/Fq8WrxavFq8WrxavFqyWvxaslryWvxavFq8WrJa/Fq8WrJa/Fq8WrJa8lryWvxavFq8WrJa/Fq8WrxavFq8WrxaslryWvJa/Fq8WrxavFq8WrxavFqyWvJa8lr8WrxavFq8WrxavFqyWvxavFq8WrxavFq8WrxavFqyWvJa/Fq8WrxavFq8WrJa8lryWvxavFq8WrJa/Fq8WrxavFqyWvJa/Fq8WrxavFqyWvxavFqyWvxavFq8WrxavFq8WrxavFqyWvJa/Fq8WrxavFq8WrJa/FqyWvxavFq8WrxavFq8WrJa/FqyWvxavFqyWvxavFq8WrxavFq8WrJa/Fq8Wrxaslr8WrJa8lr8WrxavFq8Wrxaslr8WrxaslryWvxavFq8Wrxaslr8WrJa/Fq8WrJa8lryWvxavFqyWvxavFq8WrJa/FqyWvJa/FqyWvJa/Fq8WrxavFq8WrxaslryWvxaslr8Wrxaslr8WrJa/Fq8WrJa/Fq8WrxavFq8WrJa/Fq8WrxavFqyWvJa/Fq8WrxavFq8WrJa/Fq8Wrxaslr8WrxavFqyWvxaslryWvxaslr8WrJa8lr8WrxavFqyWvJa8lr8WrxaslryWvxaslryWvxavFqyWvJa/Fq8Wrxaslr8WrxaslryWvJa/Fq8WrJa8lryWvxavFq8Wrxaslr8WrxavFq8WrJa8lryWvxaslryWvJa/FqyWvJa8lryWvxaslryWvxaslr8WrJa8lr8WrxaslryWvJa8lryWvJa8lryWvxavFqyWvxavFqyWvxavFq8WrxavFq8WrxaslryWvxaslryWvJa/FqyWvJa8lr8WrJa8lryWvxavFqyWvxaslr8WrJa8lr8WrJa/Fq8WrJa8lryWvJa8lr8Wrxaslr8WrJa/FqyWvJa8lryWvxaslryWvxavFqyWvxaslryWvxaslryWvJa/Fq8WrxavFq8WrJa8lr8WrJa/FqyWvJa8lryWvxavFqyWvxavFqyWvxaslryWvxavFq8Wrxaslr8WrJa8lryWvxaslr8WrxavFq8WrJa8lryWvJa8lryWvxavFq8WrxavFqyWvJa8lr8WrxavFqyWvJa/FqyWvxavFq8WrJa8lryWvJa8lryWvxavFq8WrJa8lryWvJa/FqyWvxaslryWvxaslr8WrxavFqyWvxaslryWvxaslr8WrxavFq8WrxaslryWvJa8lr8WrJa/Fq8WrxavFq8Wrxaslr8WrJa/FqyWvJa/Fq8WrxavFq8WrxavFqyWvJa/Fq8WrxavFq8WrxaslryWvJa/Fq8WrJa8lr8WrxavFq8Wrxaslr8WrJa8lryWvJa8lryWvxavFq8WrJa8lr8WrJa8lryWvxaslryWvxavFqyWvJa/FqyWvJa/FqyWvxaslr8WrJa8lryWvxaslr8WrJa/Fq8WrxaslryWvxavFq8WrJa/Fq8WrxavFq8WrxavFq8WrxavFq8WrJa8lr8Wrxaslr8Wrxaslr8WrJa8lr8WrxavFqyWvJa/Fq8WrxavFq8WrxaslryWvJa/FqyWvxavFq8WrxaslryWvxaslr8WrJa8lryWvxavFq8WrxavFq8WrxaslryWvJa8lryWvJa8lr8WrJa8lryWvxavFq8WrJa8lr8WrxavFq8WrJa/FqyWvJa8lr8WrJa/FqyWvJa/Fq8WrxavFq8WrJa8lr8WrxaslryWvxaslr8WrJa/Fq8WrxavFq8WrJa/Fq8WrJa/FqyWvxaslr8Wrxaslr8Wrxaslr8Wrxaslr8Wrxaslr8Wrxaslr8WrxaslryWvJa8lr8WrxavFq8WrJa/FqyWvJa8lryWvJa8lr8WrJa/Fq8WrJa8lr8WrJa/Fq8WrJa/FqyWvJa8lryWvJa/Fq8WrJa8lr8WrxavFqyWvxavFq8WrJa/Fq8WrxavFq8WrJa8lryWvJa8lryWvxavFqGmrxavFqyWvJa8lryWvxaslryWvxavFqyWvxavFq8WrxaslryWvxavFqyWvxavFq8Wrxaslr8WrJa/FqyWvJa/Fq8WrxavFqyWvJa8lryWvxaslryWvJa/FqyWvJa8lryWvxavFq8WrxaslryWvxaslr8WrxaslryWvxaslryWvJa8lryWvJa/FqyWvJa/Fq8WrxaslryWvxavFqyWvJa/Fq8Wrxaslr8Wrxaslr8WrxaslryWvxavFqyWvJa8lr8WrJa8lryWvxavFq8WrJa8lryWvxavFq8WrxavFqyWvJa/Fq8WrJa/FqyWvJa8lryWvxaslr8WrxavFq8WrJa8lryWvxavFq8WrJa8lr8WrxavFqyWvJa/FqyWvxaslr8Wrxaslr8WrxaslryWvxavFqyWvJa8lr8WrJa/FqyWvJa/FqyWvJa8lryWvJa/FqyWvJa8lryWvJa8lr8WrJa8lr8WrJa8lr8WrJa8lryWvxavFqyWvxavFqyWvxaslryWvJa8lryWvJa/FqyWvJa/FqyWvxaslr8WrJa/FqyWvJa8lr8WrJa/FqyWvxaslr8WrxavFqyWvxavFqyWvJa8lryWvxaslr8WrJa8lr8WrxavFqyWvJa8lr8WrJa8lr8WrJa8lr8WrJa8lryWvxaslryWvxavFq8WrJa/Fq8WrxaslryWvJa8lr8Wrxaslr8WrJa8lryWvxavFqyWvJa8lryWvxavFqyWvJa/FqyWvxavFq8WrJa/FqyWvxaslryWvJa8lryWvxaslryWvJa8lryWvxaslryWvJa8lryWvJa8lryWvJa8lr8WrJa8lryWvxaslryWvxaslr8WrJa8lryWvxaslr8WrJa8lryWvxaslryWvJa8lryWvJa8lr8WrJa8lr8WrJa8lr8WrJa8lryWvxaslryWvJa8lryWvJa/Fq8Wrxaslr8WrxavFqyWvJa/FqyWvJa8lryWvJa/Fq8WrJa8lryWvxaslryWvJa/FqyWvJa8lryWvJa8lryWvJa8lryWvxaslryWvJa8lryWvxavFq8WrJa8lryWvJa8lr8WrJa/FqyWvJa8lr8WrxaslryWvJa8lryWvxaslryWvJa8lryWvxavFqyWvJa8lryWvxaslryWvJa8lr8WrJa/Fq8WrJa8lryWvJa/FqyWvxaslryWvJa8lryWvJa/Fq8WrJa8lryWvxaslryWvJa8lr8WrJa8lr8WrxavFq8WrJa8lryWvxaslryWvxaslryWvJa/FqyWvJa8lryWvJa8lryWvJa8lryWvJa8lryWvJa8lryWvJa8lryWvJa8lryWvxaslr8WrJa8lryWvJa8lryWvJa8lryWvJa8lryWvJa8lryWvJa8lr8WrJa8lryWvJa8lryWvJa8lryWvJa8lryWvJa8lr8WrJa8lryWvJa8lryWvJa8lryWvxaslryWvJa8lryWvJa8lryWvJa8lryWvJa8lryWvJa8lryWvxavFqyWvJa8lr8WrJa8lryWvJa8lryWvJa8lr8WrJa8lryWvJa8lryWvJa8lryWvxaslryWvJa8lryWvJa8lryWvJa8lr8WrJa8lryWvxaslryWvJa8lryWvJa8lryWvJa8lr8WrJa8lryWvJa8lryWvJa8lryWvJa8lryWvJa8lryWvJa8lryWvJa8lryWvJa8lryWvJa8lryWvJa8lryWvJa8lryWvJa8lryWvJa8lryWvJa8lryWvJa8lryWvJa8lryWvJa8lryWvJa8lryWvJa8lryWvJa8lryWvxaslryWvJa8lr8WrJa8lryWvJa8lr8WrJa8lryWvxaslryWvJa8lr8WrJa8lryWvJa8lr8WrJa8lryWvJa8lryWvJa8lr8WrJa8lryWvJa8lryWvJa8lryWvJa8lryWvJa8lryWvJa8lryWvJa8lryWvJa8lryWvJa8lryWvJa8lryWvJa8lr8WrJa8lryWvJa8lryWvJa8lryWvJa8lryWvJa8lryWvJa8lryWvJa8lryWvJa8lr8WrJa8lryWvJa8lryWvJa8lr8WrJa8lryWvJa8lr8WrJa8lryWvJa/FqyWvJa8lr8WrJa8lryWvJa8lr8WrJa8lryWvJa/FqyWvJa8lryWvJa8lryWvJa8lryWvJa8lryWvJa8lryWvJa8lryWvJa8lryWvJa8lryWvJa8lryWvJa8lryWvJa8lryWvJa8lryWvJa8lryWvJa8lryWvJa8lryWvJa8lryWvJa8lryWvJa8lryWvJa8lryWvJa8lryWvJa8lryWvJa8lryWvJa8lryWvJa8lryWvJa8lryWvJa8lryWvJa8lryWvJa8lryWvJa8lryWvJa8lryWvJa8lryWvJa8lryWvJa8lryWvJa8lryWvJa8lryWvJa8lryWvJa8lryWvJa8lryWvJa8lryWvJa8lryWvJa8lryWvJa8lryWvJa8lryWvJa8lryWvJa8lryWvJa8lryWvJa8lryWvJa8lryWvJa8lryWvJa8lryWvJa8lryWvJa8lryWvJa8lryWvJa8lryWvJa8lryWvJa8lryWvJa8lryWvJa8lryWvJa8lryWvJa8lryWvJa8lryWvJa8lryWvJa8lryWvJa8lryWvJa8lryWvJa8lryWvJa8lryWvJa8lryWvJa8lryWvJa8lryWvJa8lryWvJa8lryWvJa8lryWvJa8lryWvJa8lryWvJa8lryWvJa8lryWvJa8lryWvJa8lryWvJa8lryWvJa8lryWvJa8lryWvJa8lryWvJa8lryWvJa8lryWvJa8lryWvJa8lryWvJa8lryWvJa8lryWvJa8lryWvJa8lryWvJa8lryWvJa8lryWvJa8lryWvJa8lryWvJa8lryWvJa8lryWvJa8lryWvJa8lryWvJa8lryWvJa8lryWvJa8lryWvJa8lryWvJa8lryWvJa8lryWvJa8lryWvJa8lryWvJa8lryWvJa8lryWvJa8lryWvJa8lryWvJa8lryWvJa8lryWvJa8lryWvJa8lryWvJa8lryWvJa8lryWvJa8lryWvJa8lryWvJa8lryWvJa8lryWvJa8lryWvJa8lryWvJa8lryWvJa8lryWvJa8lryWvJa/FqyWvJa8lryWvJa8lryWvJa8lryWvJa8lryWvJa8lryWvJa8lryWvJa8lryWvJa8lryWvJa8lryWvJa8lryWvJa8lryWvJa8lryWvJa8lryWvJa8lryWvJa8lryWvJa/FqyWvJa8lryWvJa8lryWvJa8lryWvJa8lryWvJa8lryWvJa8lryWvJa8lryWvJa8lryWvJa8lryWvJa8lryWvJa8lryWvJa8lryWvJa8lryWvJa8lryWvJa8lryWvJa8lryWvJa8lryWvJa8lryWvJa8lryWvJa8lryWvJa8lryWvJa8lryWvJa8lryWvJa8lryWvJa8lryWvJa8lryWvJa8lryWvJa8lryWvJa8lryWvJa8lryWvJa8lryWvJa8lryWvJa8lryWvJa8lryWvJa8lryWvJa8lryWvJa8lryWvJa8lryWvJa8lryWvJa8lryWvJa8lryWvJa8lryWvJa8lryWvJa8lryWvJa8lryWvJa8lryWvJa8lryWvJa8lryWvJa8lryWvJa8lryWvJa8lryWvJa8lryWvJa8lryWvJa8lryWvJa8lryWvJa8lryWvJa8lryWvJa8lryWvJa8lryWvJa8lryWvJa8lryWvJa8lryWvJa8lryWvJa8lryWvJa8lryWvJa8lryWvJa8lryWvJa8lryWvJa8lryWvJa8lryWvJa8lryWvJa8lryWvJa8lryWvJa8lryWvJa8lryWvJa8lryWvJa8lryWvJa8lryWvJa8lryWvJa8lryWvJa8lryWvJa8lryWvJa8lryWvJa8lryWvJa8lryWvJa8lryWvJa8lryWvJa8lryWvJa8lryWvJa8lryWvJa8lryWvJa8lryWvJa8lryWvJa8lryWvJa8lryWvJa8lryWvJa8lryWvJa8lryWvJa8lryWvJa8lryWvJa8lryWvJa8lryWvJa8lryWvJa8lryWvJa8lryWvJa8lryWvJa8lryWvJa8lryWvJa8lryWvJa8lryWvJa8lryWvJa8lryWvJa8lryWvJa8lryWvJa8lryWvJa8lryWvJa8lryWvJa8lryWvJa8lryWvJa8lryWvJa8lryWvJa8lryWvJa8lryWvJa8lryWvJa8lryWvJa8lryWvJa8lryWvJa8lryWvJa8lryWvJa8lryWvJa8lryWvJa8lryWvJa8lryWvJa8lryWvJa8lryWvJa8lryWvJa8lryWvJa8lryWvJa8lryWvJa8lryWvJa8lryWvJa8lryWvJa8lryWvJa8lryWvJa8lryWvJa8lryWvJa8lryWvJa8lryWvJa8lryWvJa8lryWvJa8lryWvJa8lryWvJa8lryWvJa8lryWvJa8lryWvJa8lryWvJa8lryWvJa8lryWvJa8lryWvJa8lryWvJa8lryWvJa8lryWvJa8lryWvJa8lryWvJa8lryWvJa8lryWvJa8lryWvJa8lryWvJa8lryWvJa8lryWvJa8lryWvJa8lryWvJa8lryWvJa8lryWvJa8lryWvJa8lryWvJa8lryWvJa8lryWvJa8lryWvJa8lryWvJa8lryWvJa8lryWvJa8lryWvJa8lryWvJa8lryWvJa8lryWvJa8lryWvJa8lryWvJa8lryWvJa8lryWvJa8lryWvJa8lryWvJa8lryWvJa8lryWvJa8lryWvJa8lryWvJa8lryWvJa8lryWvJa8lryWvJa8lryWvJa8lryWvJa8lryWvJa8lryWvJa8lryWvJa8lryWvJa8lryWvJa8lryWvJa8lryWvJa8lryWvJa8lryWvJa8lryWvJa8lryWvJa8lryWvJa8lryWvJa8lryWvJa8lryWvJa8lryWvJa8lryWvJa8lryWvJa8lryWvJa8lryWvJa8lryWvJa8lryWvJa8lryWvJa8lryWvJa8lryWvJa8lryWvJa8lryWvJa8lryWvJa8lryWvJa8lryWvJa8lryWvJa8lryWvJa8lryWvJa8lryWvJa8lryWvJa8lryWvJa8lryWvJa8lryWvJa8lryWvJa8lryWvJa8lryWvJa8lryWvJa8lryWvJa8lryWvJa8lryWvJa8lryWvJa8lryWvJa/FqyWvJa8lryWvJa/Fq8WrJa8lryWvJa8lr8WrJa/FqyWvJa/FqyWvJa8lr8WrJa8lryWvJa/Fq8WrJa8lryWvJa/Fq8WrJa/FqyWvJa8lr8WrJa/FqyWvJa8lryWvxavFq8WrJa/FqyWvJa/Fq8WrxavFq8WrxavFq8WrxavFq8WrJa8lryWvJa8lryWvJa8lr8WrxavFq8WrxavFq8WrxaslryWvxaslryWvJa/FqyWvxaslr8WrxavFq8Wrxaslr8WrxaslryWvxavFqyWvxaslryWvxaslryWvJa8lr8Wrxaslr8WrJa8lryWvJa8lryWvxaslryWvxaslryWvxaslryWvJa8lryWvJa8lryWvxaslryWvxaslryWvJa8lryWvxaslryWvJa8lryWvJa8lryWvJa8lryWvJa8lryWvJa8lryWvJa8lryWvJa8lryWvJa8lryWvJa8lryWvJa8lryWvJa8lryWvJa8lryWvJa8lryWvJa8lryWvJa8lryWvJa8lryWvJa8lryWvJa8lryWvJa8lryWvJa8lryWvJa8lryWvJa8lryWvJa8lryWvJa8lryWvJa8lryWvJa8lryWvJa8lryWvJa8lryWvJa8lryWvJa8lryWvJa8lryWvJa8lryWvJa8lryWvJa8lryWvJa8lryWvJa8lryWvJa8lryWvJa8lryWvJa8lryWvJa8lryWvJa8lryWvJa8lryWvJa8lryWvJa8lryWvJa8lryWvJa8lryWvJa8lryWvJa8lryWvJa8lryWvJa8lryWvJa8lryWvJa8lryWvJa8lryWvJa8lryWvJa8lryWvJa8lryWvJa8lryWvJa8lryWvJa8lryWvJa8lryWvJa8lryWvJa8lryWvJa8lryWvJa8lryWvJa8lryWvJa8lryWvJa8lryWvJa8lryWvJa8lryWvJa8lryWvJa8lryWvJa8lryWvJa8lryWvJa8lryWvJa8lryWvJa8lryWvJa8lryWvJa8lryWvJa8lryWvJa8lryWvJa8lryWvJa8lryWvJa8lryWvJa8lryWvJa8lryWvJa8lryWvJa8lryWvJa8lryWvJa8lryWvJa8lryWvJa8lryWvJa8lryWvJa8lryWvJa8lryWvJa8lryWvJa8lryWvJa8lryWvJa8lryWvJa8lryWvJa8lryWvJa8lryWvJa8lryWvJa8lryWvJa8lryWvJa8lryWvJa8lryWvJa8lryWvJa8lryWvJa8lryWvJa8lryWvJa8lryWvJa8lryWvJa8lryWvJa8lryWvJa8lryWvJa8lryWvJa8lryWvJa8lryWvJa8lryWvJa8lryWvJa8lryWvJa8lryWvJa8lryWvJa8lryWvJa8lryWvJa8lryWvJa8lryWvJa8lryWvJa8lryWvJa8lryWvJa8lryWvJa8lryWvJa8lryWvJa8lryWvJa8lryWvJa8lryWvJa8lryWvJa8lryWvJa8lryWvJa8lryWvJa8lryWvJa8lryWvJa8lryWvJa8lryWvJa8lryWvJa8lryWvJa8lryWvJa8lryWvJa8lryWvJa8lryWvJa8lryWvJa8lryWvJa8lryWvJa8lryWvJa8lryWvJa8lryWvJa8lryWvJa8lryWvJa8lryWvJa8lryWvJa8lryWvJa8lryWvJa8lryWvJa8lryWvJa8lryWvJa8lryWvJa8lryWvJa8lryWvJa8lryWvJa8lryWvJa8lryWvJa8lryWvJa8lryWvJa8lryWvJa8lryWvJa8lryWvJa8lryWvJa8lryWvJa8lryWvJa8lryWvJa8lryWvJa8lryWvJa8lryWvJa8lryWvJa8lryWvJa8lryWvJa8lryWvJa8lryWvJa8lryWvJa8lryWvJa8lryWvJa8lryWvJa8lryWvJa8lryWvJa8lryWvJa8lryWvJa8lryWvJa8lryWvJa8lryWvJa8lryWvJa8lryWvJa8lryWvJa8lryWvJa8lryWvJa8lryWvJa8lryWvJa8lryWvJa8lryWvJa8lryWvJa8lryWvJa8lryWvJa8lryWvJa8lryWvJa8lryWvJa8lryWvJa8lryWvJa8lryWvJa8lryWvJa8lryWvJa8lryWvJa8lryWvJa8lryWvJa8lryWvJa8lryWvJa8lryWvJa8lryWvJa8lryWvJa8lryWvJa8lryWvJa8lryWvJa8lryWvJa8lryWvJa8lryWvJa8lryWvJa8lryWvJa8lryWvJa8lryWvJa8lryWvJa8lryWvJa8lryWvJa8lryWvJa8lryWvJa8lryWvJa8lryWvJa8lryWvJa8lryWvJa8lryWvJa8lryWvJa8lryWvJa8lryWvJa8lryWvJa8lryWvJa8lryWvJa8lryWvJa8lryWvJa8lryWvJa8lryWvJa8lryWvJa8lryWvJa8lryWvJa8lryWvJa8lryWvJa8lryWvJa8lryWvJa8lryWvJa8lryWvJa8lryWvJa8lryWvJa8lryWvJa8lryWvJa8lryWvJa8lryWvJa8lryWvJa8lryWvJa8lryWvJa8lryWvJa8lryWvJa8lryWvJa8lryWvJa8lryWvJa8lryWvJa8lryWvJa8lryWvJa8lryWvJa8lryWvJa8lryWvJa8lryWvJa8lryWvJa8lryWvJa8lryWvJa8lryWvJa8lryWvJa8lryWvJa8lryWvJa8lryWvJa8lryWvJa8lryWvJa8lryWvJa8lryWvJa8lryWvJa8lryWvJa8lryWvJa8lryWvJa8lryWvJa8lryWvJa8lryWvJa8lryWvJa8lryWvJa8lryWvJa8lryWvJa8lryWvJa8lryWvJa8lryWvJa8lryWvJa8lryWvJa8lryWvJa8lryWvJa8lryWvJa8lryWvJa8lryWvJa8lryWvJa8lryWvJa8lryWvJa8lryWvJa8lryWvJa8lryWvJa8lryWvJa8lryWvJa8lryWvJa8lryWvJa8lryWvJa8lryWvJa8lryWvJa8lryWvJa8lryWvJa8lryWvJa8lryWvJa8lryWvJa8lryWvJa8lryWvJa8lryWvJa8lryWvJa8lryWvJa8lryWvJa8lryWvJa8lryWvJa8lryWvJa8lryWvJa8lryWvJa8lryWvJa8lryWvJa8lryWvJa8lryWvJa8lryWvJa8lryWvJa8lryWvJa8lryWvJa8lryWvJa8lryWvJa8lryWvJa8lryWvJa8lryWvJa8lryWvJa8lryWvJa8lryWvJa8lryWvJa8lryWvJa8lryWvJa8lryWvJa8lryWvJa8lryWvJa8lryWvJa8lryWvJa8lryWvJa8lryWvJa8lryWvJa8lryWvJa8lryWvJa8lryWvJa8lryWvJa8lryWvJa8lryWvJa8lryWvJa8lryWvJa8lryWvJa8lryWvJa8lryWvJa8lryWvJa8lryWvJa8lryWvJa8lryWvJa8lryWvJa8lryWvJa8lryWvJa8lryWvJa8lryWvJa8lryWvJa8lryWvJa8lryWvJa8lryWvJa8lryWvJa8lryWvJa8lryWvJa8lryWvJa8lryWvJa8lryWvJa8lryWvJa8lryWvJa8lryWvJa8lryWvJa8lryWvJa8lryWvJa8lryWvJa8lryWvJa8lryWvJa8lryWvJa8lryWvJa8lryWvJa8lryWvJa8lryWvJa8lryWvJa8lryWvJa8lryWvJa8lryWvJa8lryWvJa8lryWvJa8lryWvJa8lryWvJa8lryWvJa8lryWvJa8lryWvJa8lryWvJa8lryWvJa8lryWvJa8lryWvJa8lryWvJa8lryWvJa8lryWvJa8lryWvJa8lryWvJa8lryWvJa8lryWvJa8lryWvJa8lryWvJa8lryWvJa8lryWvJa8lryWvJa8lryWvJa8lryWvJa8lryWvJa8lryWvJa8lryWvJa8lryWvJa8lryWvJa8lryWvJa8lryWvJa8lryWvJa8lryWvJa8lryWvJa8lryWvJa8lryWvJa8lryWvJa8lryWvJa8lryWvJa8lryWvJa8lryWvJa8lryWvJa8lryWvJa8lryWvJa8lryWvJa8lryWvJa8lryWvJa8lryWvJa8lryWvJa8lryWvJa8lryWvJa8lryWvJa8lryWvJa8lryWvJa8lryWvJa8lryWvJa8lryWvJa8lryWvJa8lryWvJa8lryWvJa8lryWvJa8lryWvJa8lryWvJa8lryWvJa8lryWvJa8lryWvJa8lryWvJa8lryWvJa8lryWvJa8lryWvJa8lryWvJa8lryWvJa8lryWvJa8lryWvJa8lryWvJa8lryWvJa8lryWvJa8lryWvJa/FqyWvJa8lryWvJa8lryWvJa8lryWvJa8lryWvJa8lryWvJa8lryWvJa8lryWvJa8lryWvJa8lryWvJa8lryWvJa8lryWvJa8lryWvJa8lryWvJa8lryWvJa8lryWvJa8lryWvJa8lryWvJa8lryWvJa8lryWvJa8lryWvJa8lryWvJa8lryWvJa8lryWvJa8lryWvxaslryWvJa8lryWvJa8lryWvJa8lryWvJa8lryWvJa8lryWvJa8lryWvJa8lryWvJa8lryWvJa/Fq8WrxaslryWvJa8lryWvxaslryWvJa8lryWvJa8lryWvJa8lryWvJa8lryWvJa8lr8WrJa8lryWvxaslryWvJa8lryWvJa8lryWvJa8lryWvJa8lryWvJa8lryWvxaslryWvJa8lryWvJa8lryWvxaslryWvJa/FqyWvJa8lryWvJa8lryWvJa8lr8WrJa8lryWvJa/FqyWvJa/FqyWvJa8lr8WrJa8lryWvJa8lryWvJa8lr8WrJa8lr8WrJa8lr8WrJa8lr8WrJa8lr8WrxaslryWvJa8lryWvJa8lr8WrJa8lryWvJa8lryWvJa8lryWvJa8lryWvJa/FqyWvJa8lr8WrJa/FqyWvJa8lryWvJa8lr8WrJa8lryWvJa8lryWvJa8lryWvxavFqyWvJa/FqyWvJa8lryWvJa8lr8WrJa/FqyWvJa/FqyWvJa/FqyWvJa8lryWvJa8lr8WrJa8lr8WrJa8lryWvJa8lryWvxaslryWvxaslryWvJa8lryWvxavFqyWvJa/FqyWvxavFq8WrJa/FqyWvJa/Fq8WrxaslryWvJa8lr8Wrxaslr8WrxavFq8WrxavFq8WrxavFqyWvxavFqyWvxaslr8WrJa/FqyWvJa8lryWvJa/FqyWvJa8lryWvxavFq8WrJa8lryWvxaslr8WrJa8lryWvJa/FqyWvxavFqyWvJa8lryWvJa8lryWvJa8lr8WrJa/FqyWvJa8lr8WrJa8lryWvJa8lryWvJa8lryWvJa8lryWvxaslr8WrJa8lryWvxavFq8WoaahpqGmoaavFq8WrxaslryWvJa8lryWvxavFqyWvxavFqyWvxavFq8WrxavFqyWvJa/FqyWvJa/FqyWvJa8lryWvxaslr8WrJa/Fq8WrJa/Fq8Wrxaslr8WrJa8lryWvxaslr8WrxavFq8WrxavFq8WrJa8lr8WrxavFq8WrxaslryWugbHhteG14bXhtoGzxahpqQmlqaGpoQmkaahpq8WrJa8lryWvxavFq8Woaahpq8WrJa8lr8WrxahpqQmlCaUJpQmkaavFqyWvJa6BsyWugbMlryWvxavFq8WrxavFq8WrJa8lr8WrxavFq8WrxaslryWugbMlryWvxavFqGmoaahpqGmrxaslryWvJa8lryWvxahpqQmlCaRpq8WqgbHhtJ2/WcIVy/294baBs8Wq7Zl1jDGWTZ2poamjJa09uT27Ja8lr8WpCaWpoQmnxavFqyWugbMlrGmpCaWpou2a7ZmpoGmrJa6BsT24nb09uoGzxavFqGmpCaRpq8WqgbKBsyWvJa/FqGmpCaUJpGmrxaslroGx4bXhtyWvxakJpamhqaGpoQmnxaqBsoGzJa/FqGmpqaJNnamjxaidvDHXkdV1zhXJdc3htNWT/X11jNWSFYuRleG3WcP9vJ29PbslramiTZ7tmk2caanhteG2gbKBsyWtqaAxlNWTkZZNnQmnJa/9vrnGucU9uoGzJa0Jpu2aTZxpqyWugbHhteG14bRpqamiTZ0Jp8WrxaqBsJ2//b3ht8WpCaWpou2bkZZNnGmrxaslryWvJa8lrGmrxaidvXXOFcq5xDHXkdXhtDGU1ZORlhWInXzVkyWt4bXht/2/WcHht8WpCaZNn5GVqaPFq8WrxanhteG0aauRl5GW7Zrtmu2Yaak9u/2//bydv/294bclrQmlqaGpoQmlCaRpqGmrJa/Fq8WoaaslroGzJa6BsT254bfFqGmoaakJpu2a7ZmpoQmkaavFqyWtPbl1z5HWucf9vXXM0dBpqrmEMZUJpNWT/X5NnT254bclreG1PbslrGmpCaWpoQmnJa6Bs8WrJa3htyWu7Zgxlu2ZqaORlu2bxaidvJ29Pbidv1nAnb8lrQmlCaRpqami7ZpNnGmrxahpqGmp4bSdvT26gbHhteG3Ja2poamhCaWpou2ZqaPFqyWvJa9Zw5HU0dCdv1nA0dKBshWKFYkJpu2bWYORl/28nb/FqoGwnb8lrk2dqaEJpk2dCaXhteG2gbHhteG0aauRl5GWTZ+RlDGVCaU9uT254bSdvrnEnb8lrQmkaampo5GUMZZNnQmkaavFqoGx4bU9ueG3Ja8lryWvxampoamhCaUJpQmkaaslr1nC7dgx1/2+uceR1J2+FYtZgk2fkZSdfXWN4bSdvoGygbCdvoGxCaWpou2bkZUJpyWvJa8lrJ2/WcMlrk2dqaEJp5GVdY5NnoGxPbk9u/2+ucf9voGxCaZNnu2YMZTVk5GVCaaBsoGygbE9uJ294bfFqGmrxakJpk2dqaBpqyWvJaydv5HXkddZwrnHkdf9vDGWFYpNnu2b/X11joGxPbslroGz/b3htQmlqaGpou2aTZ/Fq8WrJa09uJ2+gbEJpQmlCaZNnDGWTZ8lroGx4bU9u/28nb8lrQmmTZ7tm5GW7ZpNnGmrJa6BsoGx4bXhtyWsaakJpGmpqaEJpyWvJa3htXXOTd65xT240dAx1amjWYLtmGmpdY/9fQmknb6BsyWtPbk9u8WpCaWpok2eTZ/FqyWsaaqBs/294bWpok2caampoDGW7ZslreG2gbE9u1nAnb8lrQmmTZ7tm5GXkZZNnQmmgbKBsoGx4bXhtyWtqaJNnQmkaampoGmpPbjR0u3aucf9vNHQ0dEJprmEMZUJpNWT/X2poJ294bclreG1PbslrQmlqaJNnk2fxaslrGmqgbP9veG1qaGpoGmpqaAxl5GXxaqBsoGxPbv9vJ2+gbBpqQmmTZ7tm5GW7ZkJpyWvJa3htoGygbBpqu2aTZxpqamhCaSdvk3fkddZwXXOTdydvDGU1ZJNnNWTWYF1jyWvJa8lrJ29PbqBs8Woaartm5GVCafFqGmrxav9v/2/Jaxpq8WpCaeRl5GWTZxpq8WqgbE9uJ29PbqBs8WpqaJNnk2e7ZpNn8WqgbMlryWvJa8lrQmlqaEJpamjxaq5xNHSucYVyk3ddc/Fqk2caartm/19dY0JpGmoaaqBsJ29Pbslr8WpqaORlk2dCaZNnQmlPbv9veG3Ja3htoGxqaLtmk2dqaGpoQmnJa3hteG14baBsyWsaakJpamhCaRpqGmrJa/Fq8WrJa/FqamhCaaBs/29Pbk9uXXO7dv9v8WrJa6BsamhdYwxlQmlCaWpo8WqgbHhtoGzxakJpQmkaakJpu2ZCaXhteG3Ja6BsT26gbEJpk2dCaWpok2dqaPFqyWvJa8lryWvJa/FqGmpCaUJp8WoaakJp8WrJa8lrGmrxaidv1nBPbnhtrnE0dCdvGmoaaqBsamgMZbtmGmoaahpqGmrJa8lr8WpCaWpoQmkaakJpQmkaanhtT27Ja8lroGygbEJpk2dqaBpqQmlqaBpqyWvJaxpqGmrxavFqQmlCaRpq8WpCaRpq8WrJaxpqGmqgbP9v/29Pbv9vXXOFcqBs8WqgbPFqu2bkZWpoQmkaavFq8WrJa8lr8WpqaJNnQmkaakJpGmqgbHhteG3Ja8lryWvxampok2eTZxpqQmlCafFqoGzxavFqGmrxavFqQmlCaRpqGmoaakJp8WrJa/FqyWvWcNZwJ2//bzR0XXOgbBpqoGzxauRl5GVqaEJpQmkaaslryWvxavFqQmlqaEJpGmpCaUJp8Wp4bXhtyWvJa6BsyWtCaWpoQmkaakJpamgaavFq8WoaavFq8WoaampoGmoaakJpQmkaavFqyWvJa09urnHWcE9urnE0dK5xyWsaanht8WrkZeRlGmoaakJpQmnxaslrGmpCaUJpamhCaRpqQmkaaslreG2gbMlryWugbMlrQmlqaBpqGmpqaGpo8WrxakJpGmrxaslrGmpCafFq8WpCaUJp8WrJa/FqoGzWcK5xT27/bwx1XXPJa0JpeG2gbLtm5GXxaslrGmpCafFqyWvxampoamiTZ2poamhqaPFqyWugbE9ueG2gbKBs8WpCaWpok2dqaGpok2caaslryWsaahpqyWsaapNnamgaakJpQmkaaslroGxPbq5xrnFPbtZwNHTWcPFqQmlPbqBsk2e7ZslreG3xampoGmrJa0JpDGW7ZmpoQmlqaEJpyWt4baBsoGygbKBsyWsaahpqQmlqaEJpQmlqaEJp8WrxakJpGmrxahpqamhqaEJpQmkaakJp8WqgbK5xhXJPbk9uDHU0dMlrQmmgbE9uGmq7ZkJpT26gbEJpamjJa6BsamgMZbtmGmpqaLtmamigbE9uoGzJa6BsT27Ja2poQmlCaRpqamhqaEJp8WrJa0JpQmnxavFqQmmTZ2poGmoaampoQmnJaydvhXL/b09uhXIMdf9vGmpCaU9ueG2TZ7tmoGwnb6Bsk2dqaKBsyWu7Zl1jamigbEJp5GVCaXhtT27xahpqeG1PbslrQmlqaPFq8WpqaLtmQmnJa/FqamhCaclr8WpqaJNnQmnJa0Jpk2caav9vhXInb6Bs1nC7dv9vGmoaaidvJ29CaeRlGmpPbqBsk2fkZfFqeG1qaAxlu2bxavFqk2eTZ8lrJ2+gbBpq8WpPbqBsQmlqaPFqoGzxapNnamjxavFqu2bkZUJpyWtqaLtmQmnJa/Fqk2caak9uhXInb3hthXIMda5xGmrJa9Zw/2/xampooGzWcHhtk2fkZfFq8WrkZV1j5GXxavFqk2eTZ6BseG0aampo8Wp4baBsGmoaaslreG0aapNnQmnxahpqk2eTZ/Fq8WpqaLtmQmkaakJpamjxav9vrnF4bU9uhXJdcydvyWt4bdZwJ2/xavFqeG1Pbslrk2dqaEJpamjkZQxlu2ZqaEJpamhCafFqoGzJa/Fq8WrJa8lryWsaavFqoGzJa0JpamhCaUJpamhqaEJpGmpCaZNnk2dCaUJpamjJaydv1nAnb/9vhXKucSdveG1PbidvJ294baBsT25PbslrQmlqaGpok2e7ZuRlu2ZCaRpqamhqaBpq8WoaahpqGmrJa3htoGzxaslroGzxampoamgaahpqQmlCaUJp8WpCaZNnk2dCaWpoGmp4bf9vJ2//b9ZwrnEnb09ueG1PbidvJ294bXhtT254bRpqQmlqaJNnami7Zrtmk2dCaWpou2aTZ2poQmkaakJp8WqgbHhtyWvxaslryWvxakJpQmkaavFq8WpCaWpoQmlCaZNnk2dqaEJpoGwnbydvT27/b9Zw/29PbnhtT27/b9ZwT254bU9uT27xakJpamhCaUJpQmmTZ5NnQmlCabtm5GWTZ2poGmoaahpqyWugbMlrGmoaavFq8WrxavFq8WrxavFqGmpqaGpoQmlCaWpoQmkaavFqT25PbqBsT27/b9ZwJ294bU9uJ2/WcP9veG14bU9uoGwaampoQmkaavFqQmm7ZpNnQmmTZ+Rlu2ZqaEJpGmoaakJp8WrJaxpqamgaaslryWvxavFq8WrJaxpqamhqaBpqGmpCaRpqGmrJa3hteG3Ja6BsJ2//b09uT25Pbv9v1nAnb6BseG1Pbk9uyWsaahpq8Wrxahpqk2eTZ0JpQmm7ZrtmamhCafFqamhqaEJp8WoaampoQmnxaslr8WoaakJp8WrJa0JpamgaavFq8WpqaBpq8Wp4bXhtyWvJa09uJ294bXhteG0nb/9v/294baBsT254baBsyWvxavFqyWvxampok2dqaGpok2eTZ5NnamhCaUJpk2eTZxpqGmpqaGpoQmkaavFq8WpCaRpq8WrxahpqGmrxavFq8WrxavFqeG14baBsyWugbE9uT254bXhteG0nb/9vT254bXhteG14baBsyWvJa8lryWsaampoamhCaWpok2dqaGpoQmlCaWpok2dqaEJpQmlqaGpoQmkaahpqQmlqaBpq8WoaahpqGmoaavFq8WoaaslrJ29PbqBsoGx4bU9uT25PbnhtT27WcK5xeG2gbHhteG2gbKBsyWvxaslroGxqaJNnQmkaakJpk2dqaGpoQmkaampok2dCaRpqQmlqaEJpQmkaahpqamiTZ/FqGmpqaEJpGmoaakJpGmpCaRpq1nCucaBsyWtPbidvJ28nb09uT27WcK5xeG0aaqBsT254bclr8WpCaUJpyWtqaORlk2fJaxpqk2eTZ5NnQmmgbPFqamjxaslrGmpCaRpqGmoaavFqamjkZWpo8WqTZ5NnamhCaUJpQmlqaJNnyWs0dF1zeG3JaydvhXKucdZw/2//b65x1nDxapNnoGz/b8lrami7ZuRlk2dCaZNnNWS7ZslramgMZZNnGmqgbCdvoGxCaclrT27JaxpqoGzJa0JpQmmTZwxlGmrJa+RlDGWTZ2pok2dqaEJpk2egbAx1XXNPbslr1nAMdQx1rnH/b/9v1nD/b8lramigbCdvamg1ZDVk5GW7ZpNnk2ddYwxl8WpqaORlGmqgbHhtT26gbBpqeG3WcHhtQmnJa8lramhCaUJpu2aTZxpqDGU1ZJNnGmpqaLtmamhqaPFqNHQMdU9uyWuuceR1NHSucdZwJ28nb/9vyWtCaaBsT267Zl1jDGW7Zrtmk2fkZYViDGXxakJpu2bxaqBsoGx4bXhtyWtPbtZwoGxqaMlroGxCaUJpQmnkZZNnQmnkZQxlamgaartmu2ZCaUJpyWs0dAx1eG1CadZwk3cMddZw1nB4bXhtrnF4bUJpyWt4bQxlhWK7ZkJpu2a7ZuRlrmEMZaBs8Wq7ZkJpyWvxanhtJ2+gbHht/2/Ja2poeG1PbkJpk2dCabtmamjxampoNWSTZxpqk2eTZ/FqGmpCaf9vDHX/b0JpJ2+7dgx1/2//b09uT27WcP9vamhCaXhtamhdY7tmQmm7Zgxl5GVdYwxlyWvJa+Rlk2fJa8lroGwnb3htyWtPbnhtGmp4bf9vGmrkZRpqGmpCafFqQmk1ZLtm8WpCaZNnGmoaartmyWs0dF1zoGzxatZwDHWFcv9vJ294bU9u/2+gbBpqoGygbORlNWRqaBpqu2YMZQxlXWOTZ8lrQmkMZWpo8WrJa6BsJ2+gbMlreG2gbKBs/29PbmpoamjJa/FqGmrxapNnDGVqaMlramhqaBpqk2e7Zk9uNHTWcBpqGmrWcAx1hXJPbk9uT24nb/9vT27Ja6Bs8WrkZQxl8WrxauRlXWM1ZAxlamjxartmNWSTZ/Fq8Wp4bU9uoGzxaqBseG0nb/9veG1qaBpqeG2gbPFqGmq7ZuRlQmnxampou2ZqaLtmamgnbzR0T26TZ/FqXXM0dNZw/28nb3htJ2+ucXhtoGx4bUJpNWSTZ8lramg1ZDVkXWMMZUJpGmoMZTVkamgaaslrT25PbslryWtPbidv/2//b8lramjJa09uoGzxampo5GWTZ/FqGmqTZ7tmk2e7ZhpqhXKucRpqu2Ynb+R1hXInb9ZwT254ba5x1nCgbHhtoGzkZTVk8WrJawxlhWJdY11ju2bxapNnXWPkZRpqyWugbCdveG3Ja3htJ2//b9ZwT24aakJpeG1PbvFqQmmTZ+RlamjxakJp5GW7ZpNnk2egbDR01nCTZ0JphXLkda5x/28nb3htT26ucf9vyWugbBpqNWTkZclrGmpdY4ViXWM1ZGpo8Wq7ZjVkk2fJa8lrT27/b3htyWt4bf9v1nDWcHhtamhCaXhteG0aampo5GXkZUJp8WpqaLtmu2aTZ2pooGyFcoVy8WqTZydvk3c0dCdvT254bXht/2//b/FqQmlCaQxlNWRCaRpqNWSuYTVkNWSTZ/FqGmrkZZNnyWt4bU9u1nAnb/FqoGwnb/9vJ294bWpok2fJa6BsGmqTZ+Rl5GWTZ/FqGmqTZ5NnQmlCaclrJ280dK5xGmrxaoVyu3aucXhtoGzJa6BsJ2+gbJNnamiTZzVkDGVCaUJpNWQ1ZORlu2YaaqBsGmqTZ/FqeG1Pbv9v/294bclreG1PbnhteG0aartmk2fxavFqQmm7ZuRlu2ZCafFqGmpCaRpqQmnxanht1nA0dNZwQmnxal1z5HUnb8lryWsaavFqeG3xapNnami7Zl1j5GXxahpqDGXkZZNnk2fJa09u8WoaaslreG1PbidvJ2+gbPFqoGzJa8lroGxCaeRlamhCaRpqQmlqaJNnk2dCafFq8WrJa8lrGmrxaqBs1nC7dtZwu2ZCaV1zNHSgbMlroGxqaEJpoGwaartmQmlqaDVkDGXxavFqk2eTZ0Jpk2fxaidvoGzxaslroGygbHhtJ2+gbPFq8WrxavFqyWvxapNnk2dqaBpq8WoaakJpamhCafFqyWugbMlrGmoaavFqT27kdV1zk2fkZSdvDHV4bRpqoGzxapNnyWvxapNnGmrJa7tmXWNCaaBsQmmTZ0JpamhCaXhteG3xaslroGzJa/FqeG0nb8lr8Woaahpq8WrJaxpqamhqaEJpGmrxavFqGmpCafFq8WrxaqBsyWsaakJpGmqgbAx1NHRqaF1jT240dE9uGmp4bfFqamjxavFqk2fxanhtk2eFYpNnoGwaakJpGmqTZ5NnoGx4bfFqyWt4bclrGmqgbE9uoGygbPFqQmkaaqBsyWtCaWpoQmlCafFqyWtCaWpo8WrxahpqyWugbBpqGmrxahpqeG27doVy5GXkZdZwXXOgbMlreG0aampoyWsaampoyWvJawxlXWNCaclrQmlCaUJpk2dCaaBsoGzxaqBseG3Ja8lroGx4bXhtoGzxahpqyWvJaxpqQmlCaUJp8WoaakJpamgaavFqGmrxaslryWvxaslr8WoaaslrXXM0dPFqDGWgbF1z/28aaslryWtCaRpqGmpqaEJpeG1CaV1jDGXxavFqQmkaakJpk2caaqBsyWvJa6BseG3Ja8lroGx4bXhtyWsaavFqyWvxakJpQmlCaRpqGmpCaWpoGmrxahpqGmrxaslryWvJa6Bs8WrJa6Bs1nCFcqBs5GXJa4Vy/28aavFqeG3xakJp8WpCaUJpoGzxagxlDGXJa/FqamhqaBpqamhCaclryWsaaqBseG3JaxpqyWt4bXhtyWvxaslryWsaahpq8WrxavFqGmpCaUJp8WrJaxpqQmnxaslr8WrxaslryWvJa6BsyWvxak9u/2/xapNnoGwnb8lrGmqgbMlrGmrJa8lrQmkaanhtyWuTZ0JpyWsaampoGmoaakJp8WrJa0JpQmnJa8lrGmoaaslryWvxavFq8WrxaslryWvxavFqyWvJa/Fq8WrxaslryWvxaslryWvxavFq8WrxaslryWvJa/Fq8WrJa8lr8WrJa8lryWvJa8lryWvJa8lryWvJa8lryWvJa/Fq8WrxavFq8WrxavFqGmrxavFqGmoaavFq8Woaahpq8WrxavFq8WrxavFqyWvJa/Fq8WrJa8lr8WrJa8lr8WrxavFq8WrJa8lr8WoaavFqyWvJa/FqyWvxaslryWvJa8lryWvJa/Fq8WrJa8lryWvJa8lryWvJa8lryWvxaslryWvxavFq8WrxavFq8WrxavFqyWvxavFq8WrJa8lr8WrJa/FqyWvJa/Fq8Wrxaslr8Wrxaslr8Wrxahpq8WrxavFq8WrxavFq8WrxavFq8WrxaslryWvxaslryWvJa8lryWvJa8lryWvJa/Fq8WrJa/FqyWvJa/FqyWvxaslryWvxaslryWvJa8lryWvJa8lr8WrJa8lryWvxavFq8WrJa/Fq8WrxaslryWvxavFq8WrxavFq8WrxavFq8WrxavFq8WrxavFqyWvxavFq8WrJa/Fq8WrJa/FqyWvxavFq8WrJa/FqyWvxaslr8WrJa/FqyWvJa/FqyWvxaslr8WrJa8lryWvJa8lryWvxaslryWvJa/Fq8WrJa8lr8Wrxaslr8WrJa/FqyWvJa/Fq8WrxaslryWvxaslr8WrJa8lr8WrJa8lryWvxaslr8WrJa8lr8WrxavFqyWvJa8lr8WrJa8lr8WrJa8lryWvxaslr8WrJa/FqyWvJa8lryWvJa8lr8WrJa8lr8Wrxaslr8WrJa/Fq8WrxaslryWvJa/Fq8WrJa8lr8WrxaslryWvxaslryWvxaslryWvxaslryWvJa/FqyWvxavFq8WrJa8lr8WrxavFqyWvxavFqyWvxavFq8WrJa8lryWvJa/Fq8WrxavFq8WrJa8lryWvJa8lr8WrJa/Fq8WrxaslryWvJa/Fq8WrJa/Fq8WrxavFq8WrxaslryWvJa8lryWvJa8lryWvxavFqyWvxaslr8WrxavFq8WrJa8lryWvxavFqyWvJa8lryWvxavFq8WrxaslryWvJa8lryWvxavFqyWvJa8lryWvJa/Fq8WrJa/Fq8WrxavFqyWvJa8lr8WrxaslryWvJa8lryWvJa8lryWvxaslryWvxavFq8WrJa/FqyWvJa/Fq8WrJa8lryWvxavFq8WrJa/FqyWvJa8lr8WrJa/FqyWvxaslryWvJa8lryWvJa8lryWvxaslr8WrJa8lryWvJa8lryWvJa8lryWvxavFq8WrJa8lr8WrxavFq8WrxavFqyWvxaslryWvJa/Fq8WrxavFq8WrJa8lryWvxaslryWvJa8lryWvxavFq8WrJa8lr8WrJa8lryWvJa/Fq8WrxavFqyWvJa8lryWvxaslryWvxavFq8WrxavFq8WrJa8lryWvxavFqyWvJa8lr8WrJa8lryWvxavFq8WrJa/FqyWvJa/FqyWvJa/Fq8WrxaslryWvxaslryWvJa/FqyWvJa8lr8WrxaslryWvJa8lryWvJa/Fq8WrJa8lryWvJa8lryWvxaslr8WrxavFqyWvJa8lryWvJa/FqyWvxaslr8WrJa8lryWvJa8lr8WrJa8lryWvxaslr8WrJa/FqyWvxavFqyWvxavFq8WrxavFq8WrJa8lryWvJa/Fq8Wrxaslr8WrJa/FqyWvxavFqyWvJa/FqyWvJa8lr8WrxaslryWvxavFq8WrxavFqyWvxavFqyWvxaslr8WrJa/FqyWvxaslryWvJa8lr8Wrxaslr8Wrxaslr8Wrxaslr8WrJa/FqyWvxaslryWvxavFq8WrxaslryWvxaslr8WrJa/FqyWvJa8lr8WrxavFqyWvJa/Fq8WrxavFq8Wrxaslr8WrJa8lr8WrxavFq8WrxavFq8WrxavFq8WrxavFq8WrxavFqyWvxavFq8WrxavFq8WqgbBpqyWsaaslr8WrxavFq8WrJa/FqyWvxaqBsQmmgbBpqoGzxaslrGmrJa8lrGmrJa8lrGmrJaxpqoGwaahpqyWvxaslrGmrJa8lrQmnJaxpqyWvxavFqyWsaavFq8WoaanhtQmmgbEJpyWvxavFq8WoaaqBsamigbPFqoGyTZ6Bs8WrxahpqoGxCaaBsamigbMlrQmnJa/FqyWvxavFq8WrxahpqyWtCaclryWsaavFqoGyTZ6BsyWsaaslrQmnJa8lryWtCaclryWsaavFqeG3xavFqyWtqaHhtQmmgbEJpeG1Caclr8WoaaslrGmqgbPFqGmrJa/FqGmrJa/FqoGyTZydvamgnb0Jpamh4bUJpeG0aavFqQmmgbBpqQml4bRpqQmnxanhtGmrxahpqoGzxakJpoGwaaqBs5GVPbhpq8WpCaaBsyWsaaqBsQmnJa/FqyWtqaKBsoGzJa/Fqk2fJa8lroGzJa0JpGmrJa/FqyWtCaSdv5GXxaslreG2TZydvu2agbMlr8WrJa8lrQmnxanhtQmnxak9uk2fJa09uGmqgbAxleG2gbBpq8WpCafFq8Wp4bUJp8WrxaslryWvxavFqamh4bfFqoGxqaKBsamigbMlroGwaapNnT25CaaBsyWu7ZqBs8WqgbPFq8WrJa/FqGmrWcORlyWvxanht8WrxahpqamiuceRlJ2+TZ6BsyWvJa2pooGwaahpqyWvJa/Fq8WrJa2poJ2/Ja8lru2bxaslreG0nb65hoGygbBpqyWt4bZNnQmnWcPFqamhCaclrGmp4bclrQmnJa2poeG14beRlJ2+TZ09uamh4bWpo8WrxanhtyWvkZfFqyWvJa3htGmrxaslryWtCaUJp/28aavFqGmoaaqBs8WrJa/FqyWsMZf9vQmnxaslroGw1ZKBsoGyucTVkQml4bU9uT27WYP9vamh4bUJpyWvxahpqT25CaUJp8Wp4bfFqyWtCafFqoGzxaslrGmpCaaBs/2+7ZslrQmnxanhtu2Z4bZNnGmonb6Bsu2Z4bUJpT25qaPFqyWvxahpqyWugbBpqamh4bclrGmpPbhpqyWtCaaBs8Wp4bQxl1nAMZaBsyWsaaslrGmpqaPFqT26TZ6Bsk2dPbslr8WpCaRpqeG0aaqBsQmkaanhtoGzJa5NnoGzxaqBsoGzxampo8Wp4bfFqoGy7ZvFqeG14beRlyWvJaxpqyWvxaslrQmmgbKBsGmpCaUJpJ28aaslru2Z4bclryWsaakJpamjJaydvGmpCafFqyWvJa8lramigbEJpoGxPbvFqamjJa6BsyWuTZ8lrGmp4bfFqGmrxavFqeG1qaMlrQmnJaydvamjxapNn/29qaE9uu2YaaqBsyWvxahpqyWsaaqBsGmpCaclroGzJa8lrGmrxanhtyWvJa0JpoGzJa3htGmoaaslryWugbEJpGmrxaslrQmkaakJp8WrxahpqQmkaahpqGmrxahpqk2fxaslryWvxavFq8WrJa8lr8WrJa6BsoGwnb6BsoGx4bXhtoGzJa8lryWugbMlrGmoaavFqGmpqaGpok2dCaWpoamiTZ+Rlk2dqaEJpamiTZxpq8WpCafFqoGzWcCdvJ28nbydv1nCucV1zrnEnb3htT254baBsyWvJa0JpamiTZ7tm5GU1ZIVihWJdY11j5GU1ZAxlNWRqaGpoGmoaak9urnFdc65xXXM0dDR0XXNdczR0DHWFcv9veG3Ja/Fq8WpCaeRlNWSFYoVi1mDWYP9f1mCFYl1jXWM1ZAxlk2eTZ6BsrnEMdV1zrnEMdZN3DHVdcwx15HU0dIVy/2+gbEJpGmrxakJpDGWFYq5hrmGuYdZg1mDWYIViDGUMZTVk5GVqaMlrJ280dAx1XXOFcgx1DHVdc11zNHQ0dIVyJ2+gbEJpamhCaWpo5GU1ZIVirmHWYNZgrmGFYjVk5GXkZeRlk2dCaU9uhXIMdTR0hXI0dAx1NHSFcq5xNHRdcydvyWtqaJNnk2eTZ7tmNWRdY4VihWKuYa5hhWI1ZLtmk2dqaGpo8Wonbwx15HU0dDR0XXNdc9ZwrnGFcq5x1nBPbhpqk2e7Zrtm5GUMZTVkXWOFYq5h1mBdY11jDGWTZ0JpGmrJa9ZwNHRdc4VyhXJdc11zXXMMdQx1rnFPbqBsGmqTZ5Nnk2cMZTVkNWQ1ZIVi1mCuYa5hhWLkZWpo8WqgbCdvhXLWcNZwhXKFcl1zNHTkdQx1rnFPbqBs8WpCaWpoamjkZQxlNWRdY4VirmGFYoViXWPkZWpo8WqgbCdv1nD/b/9vrnGucYVyXXPkdTR0rnEnb8lrQmlqaEJpamiTZ+RlDGU1ZF1jrmGFYq5hNWS7ZhpqoGxPbidvT25Pbv9v1nCucV1zNHRdc65x/294bRpqQmlqaEJpami7ZgxlNWRdY4VihWKFYjVku2ZCaaBsJ28nb09uT24nb9ZwrnFdcwx1XXPWcE9uyWtCaWpoamhCaWpoamjkZTVkhWKuYYViNWSTZxpqoGxPbk9ueG14bU9u/2+FcoVyhXLWcE9uoGzxahpqGmpCaUJpQmmTZ+RlXWOFYjVku2YaaqBseG3Ja8lryWugbCdvJ2//bydvT25PbqBs8WpCaRpq8WoaakJp5GUMZeRlamjxavFq8WoaavFqyWt4bSdveG14bU9uT24nb6Bs8WpCaWpoGmpCaUJpu2YMZeRlamjxavFq8WoaahpqyWt4bSdvT25Pbv9v/2/WcE9uyWtCaZNnGmrxahpqamjkZTVkNWS7ZkJp8WoaavFqyWvJa8lroGx4bU9u1nCuca5xJ2+gbPFqQmlCaUJpQmlCaZNnk2fkZQxlDGXkZWpo8Wp4bU9ueG2gbKBseG0nbydv1nDWcNZwT254bRpqk2e7ZpNnamhqaJNnu2YMZTVkDGVqaBpqyWt4bU9uJ29PbidvT24nb/9v1nD/bydvoGzxampok2eTZ5Nnk2eTZ7tm5GU1ZAxl5GVqaMlreG0nbydvJ28nbydv/28nb9Zw/2//b09uyWtCaZNnu2a7Zrtmu2a7Zrtm5GXkZbtmamgaavFqoGwnb/9v1nDWcP9vJ29Pbk9uT254baBs8WoaakJpk2e7ZgxlNWQ1ZORlamgaavFqyWvxaslroGx4bSdv/2/WcNZw/29PbqBsyWsaahpqQmlCaUJpk2e7ZuRl5GWTZ2poGmrxaqBsoGx4bXhteG1PbidvJ28nb09ueG3Ja/FqGmpCaWpok2e7Zrtmu2aTZ2poQmlCaRpqyWugbKBseG1Pbidv/2//b/9vJ294baBs8WoaakJpamiTZ5Nnu2bkZQxl5GW7ZkJp8WrJa6BsoGx4bXhtT24nbydvrnGuca5xJ294bclrQmlqaLtmu2a7Zrtmk2fkZeRlNWQMZbtmQmnJa6BsT27/b/9v1nD/bydvJ2//b9Zw/29PbqBs8WpCaZNn5GXkZQxl5GXkZeRlDGXkZeRlamjxaqBsT24nb/9vrnHWcNZw/2//b/9vJ29Pbslr8WpCaWpou2a7ZuRl5GUMZQxlNWQMZeRlamgaaslrT24nb/9v/2//b9Zw1nD/b/9vJ29PbqBsGmpCaWpok2e7Zrtmu2bkZeRlDGXkZbtmQmnxaslrT24nbydv/2//bydvJ29PbidvT254bclr8WpCaWpou2a7Zrtm5GW7ZpNnk2dCaRpq8WrxaslrT25PbidvJ2//bydv/29PbnhtyWvxakJpQmlqaGpoami7ZpNn5GXkZbtmamhCaclroGx4bU9uJ29PbidvT24nbydv1nBPbnhthXLJW9Zw5GW7ZpNnDGVqaDVkoGxdY7tmk2e7ZqBs8Wp4bSdv/2+Fcnht8XpqaK5x/2/xav9v5GXJaxpq5GVqaLtmamjkZbtmu2YMZbtmDGW7ZmpooGxPbnhthXInb65x1nAnbydvJ29Pbv9veG1PbkJp8WqTZ5Nn5GXkZbtm5GWTZ7tmk2e7ZpNnamhqaPFqeG1Pbv9vrnGucdZwrnH/bydvT26gbHhtyWvxavFqGmpCaZNnamgMZQxlNWQ1ZAxl5GVqaGpo8WqgbKBsJ29Pbidv/29Pbv9vJ29Pbk9ueG14bfFq8WpCaUJpk2e7Zrtm5GWTZ7tmk2dqaGpo8WrxaslrT25Pbv9vJ2/WcCdvJ294bXhtoGzxavFqGmrxahpqQmlCaZNnu2a7ZrtmDGVqaLtm8WrxaslreG3JaydvT25PbidvoGwnb6BsT26gbKBsyWvJa/FqQmlqaGpok2dqaJNnamiTZ5NnamhqaEJpGmrJa6BseG1PbidvT24nbydvT254bXhtyWugbMlr8WrxakJpQmlqaJNnami7Zmpoami7ZkJpamhCaRpqyWtPbnhtT27/b/9vT27/b3htT27Ja8lroGwaaslrQmnJa/FqQmlqaGpok2eTZ5Nnk2eTZ2poGmpqaPFqGmqgbHhteG3/b3ht1nB4bSdvoGygbMlr8WrxavFq8WrxavFqGmpCaUJpu2ZqaORlamiTZ2poQmlCaclryWugbE9uT27/b/9vT254bXht8Wp4bclryWvJa/FqoGzxavFqGmpqaEJpamjxartm8WqTZ/FqGmrxak9u5GWgbGpoyWsaavFqyWsaaslr8WqgbMlroGx4baBsT27Ja6BsyWvxavFqQmkaakJpamhCaRpqQmnxahpq8WrxavFqyWvJa8lroGzJa6BsoGygbKBsoGygbKBsoGygbMlr8WrxahpqGmoaakJpQmlCaWpoQmlCaRpqGmoaahpq8WoaavFq8WrJa8lryWugbKBsoGygbHhtoGygbMlryWvJa/Fq8WoaahpqGmpCaRpqGmoaahpqGmoaavFq8WoaavFqyWvJa8lryWvJa8lr8WrJa8lryWvJa/Fq8WoaavFqGmrxavFq8WrxavFqyWvxaslryWvxaslr8WrJa/Fq8WrJa8lryWvJa8lr8WrJa8lr8WrJaxpq8WoaahpqGmoaahpqGmrxahpq8Woaahpq8WoaavFqGmrxavFqGmrJa8lryWvJa8lryWvJa8lryWvJa8lryWvJa8lryWvJa8lryWvJa8lryWvJa8lr8WrxavFqGmoaahpqQmkaahpqQmkaahpqGmoaavFq8WrJa8lryWvJa8lryWvJa8lr8WrxavFq8Wrxahpq8WoaavFq8Wrxaslr8WrJa/Fq8WrJa8lr8WrJa8lr8WrJa8lryWvJa8lroGzJa8lryWvJa8lr8WrxahpqGmpCaRpqQmlCaRpqQmkaahpqGmrxavFq8WrJa8lr8WrJa8lryWvxaslryWvJa8lryWvxaslryWvJa8lryWvxavFq8WrxavFq8WrxavFqyWvJa8lryWvJa8lryWvJa8lryWvJa/FqyWvxavFq8WrxavFqGmrxahpq8Woaahpq8WoaavFq8Wrxahpq8WrxavFq8WrJa8lr8Wrxaslr8WrxavFq8WrJa/Fq8WrJa/Fq8WrJa8lr8WrxavFq8WrxavFq8WrxavFq8WrxavFq8WrxavFq8WrJa/Fq8WrxavFq8WrxavFq8WrxavFq8WrxavFq8WrxavFq8Wrxahpq8Wrxaslr8WrJaxpq8Wrxaslr8Wrxaslr8WrxavFq8WrJa/FqyWvJa8lrGmrJa/FqyWvJa/Fq8WrxavFqGmrJa/Fq8WrxavFqGmrxavFq8WrxavFq8WrxahpqGmrxavFq8WrxavFqGmrxavFq8Wrxaslr8Wrxaslr8WrJa/Fq8WrJa/FqyWvJa8lr8WrJa/FqyWvJa8lryWvxaslryWvxavFq8WrxavFq8WrxaslrGmrJa/Fq8WrJa8lr8WrxavFq8Wrxaslr8WrJa/Fq8WrxavFq8WrxavFq8WrxavFq8WoaavFq8WrxavFqyWvxavFqGmrxaslryWvxavFq8WrxavFqyWvJa/FqyWvxavFq8WrxavFq8Wrxahpq8WrJa8lryWvxavFq8WrxavFqyWvxavFqyWvJa/Fq8WrxavFq8WrJa8lr8Wrxahpq8WrxavFqyWsaavFq8WrxavFq8WrxavFqyWvxavFqyWvxaslr8WrxavFqyWvxavFqyWvxavFq8WrJa/FqyWvJa/Fq8WoaavFq8WrJa/Fq8WrxavFq8WoaaslrGmrJa8lr8WrxahpqyWvxaslryWvxaslr8WrJa8lryWvJa8lr8WrxavFq8WrxavFqGmoaaslr8WrxavFq8WrxavFqyWvxavFqyWvJa8lr8WrJa/FqyWvxaslryWvxahpq8WrxavFqGmrxahpq8WrxahpqGmrxavFqyWvxavFq8WrxavFq8WrJa/Fq8WrxavFq8WrxavFq8WrxavFqyWvxaslryWvJa/Fq8WrJa8lr8Wrxaslr8WrJa/Fq8WrJa8lr8WrxaslryWvxaslr8WrJa8lryWvJa/FqyWvxavFqyWvxavFq8WrxavFq8WrxavFqyWvxaslr8WrxahpqyWvxavFq8WrxavFq8Wrxaslr8WrJa/FqyWvxavFq8WrJa/Fq8WrxavFq8WrJa8lryWvxavFqyWvJa/FqyWvxavFq8WrJa/FqyWvxaslr8WrJa/Fq8WrJa/FqyWvxavFq8WrJa/FqyWvJa/Fq8WrxavFq8WrJa8lr8WrJa/FqyWvxaslr8WrJa/Fq8WrJa8lryWvxaslr8Wrxaslr8WrxavFq8Wrxaslr8WrxavFq8WrJa/FqyWvxaslryWvJa/Fq8WrxavFq8WrJa8lryWvxaslryWvJa/Fq8WrJa8lr8Wrxahpq8WrJa8lr8WrJa/Fq8WrJa8lr8WrxavFqyWvxaslr8WrxaslryWvJa/FqyWvxavFqyWvxavFqyWvJa8lr8WrxavFq8WrxavFqyWvxavFq8WrJa/Fq8WrxaslryWvJa/FqyWvxaslryWvxavFq8WrJa/FqyWvxaslr8WrxaslryWvJa/Fq8WrxavFq8WrJa/FqyWvJa/Fq8WrJa/FqyWvxavFq8WrxaslryWvJaxpq8Wrxaslr8WrxavFq8Wrxaslr8WrxavFqyWvJa/FqyWvJa/FqyWvxavFq8WrJa8lr8WrxavFq8WrJa/Fq8WrJa/FqyWvxaslryWvJa/Fq8WrxavFqyWvJa8lr8WrxavFq8WrJa/Fq8WrxavFq8WrxavFqyWvxaslr8WrJa8lryWvxavFqyWvxaslr8Wrxaslr8WrxavFq8Wrxaslr8WrxavFqyWvxaslr8Wrxaslr8Wrxaslr8WrxaslryWvJa8lr8WrxavFq8WrxavFqyWvJa8lr8Wrxaslr8WrxavFqyWvxavFq8WrxavFq8WrJa8lr8WrxavFq8WrJa/FqyWvxaslr8WrJaxpqyWsaaslr8WrJa/Fq8WrxaslryWvJa/Fq8WrJa/FqyWvxavFqGmrxaslryWvJa/Fq8WoaavFq8WrJa8lryWsaakJpGmrJa8lr8WrxavFqyWvJa/FqyWvxaslr8Wrxaslr8WrxavFqyWvJa8lr8WrxavFqyWvJa8lr8WrJa/FqyWvxahpq8WrJa8lr8WrxavFq8WrxaslroGzJaxpqQmnxavFq8Wrxaslr8Wrxahpq8WrJa8lr8WoaavFq8WrJa/FqGmrxaslryWvxavFq8WrJa/Fq8WrJa8lr8WrJa/Fq8WrxavFqyWvJa8lryWvxavFqyWvxavFqyWvxavFq8WrxavFq8Wrxahpq8WrJa/Fq8WoaaqBsyWvJa0JpyWvxaqBsamjxaslryWvJa8lr8WoaavFqyWvJa8lryWtCaclr8WrJa2po8WrJa3ht8WoaakJp8WrxaslroGzJa8lramgaavFqyWvJa/FqyWvxavFq8WrxaslryWvxavFqQmnxahpqoGzxavFqQmnJa/FqyWtCaclr8Wonb5Nn8WrxaidvyWsaakJp8WqgbKBsyWuTZ/Fq8WqgbBpqyWvxavFq8WrJaxpq8WpCaaBs8WrJaxpqyWsaavFqQmmgbMlryWtCafFqGmrJa/FqyWsaaslrGmrJaxpqyWvxaslr8WrJa/Fq8WrxavFqGmrJa8lryWtCaRpq8WrJa/Fq8Wrxahpq8WqgbPFq8WoaaqBsyWvJaxpq8WrxaslryWvJa8lryWvJa/FqyWvJa8lr8WrJa/FqyWvxaslr8WrxavFq8WrJa/Fq8WoaavFq8WoaavFq8WrxahpqGmoaahpqyWvxavFqQmnxavFqyWvxaslryWvxaslryWvxaslryWvJa8lryWvxaslryWvJa8lryWvJa8lryWvJa8lryWvxavFqyWvJa/FqGmrxavFqGmoaahpqGmoaakJp8WoaavFqGmoaahpqGmrxahpq8WrxavFq8WrxaslroGzJa8lryWvJa8lryWvJa8lryWvJa8lroGzJa6BsyWvJa8lryWvxaslr8WrxavFq8WrxavFqGmrxahpqGmpCaRpqGmrxahpqGmoaahpqGmpCaRpqQmkaakJpGmrxavFqyWvJa8lroGzJa8lryWvJa6BsoGygbKBsoGygbKBsoGygbKBsoGzJa8lryWvJa/FqyWvxavFq8WrxahpqGmoaahpqGmoaahpqGmoaakJpGmpCaUJpQmlCaUJpQmlCaUJpGmrxaslryWugbMlryWvJa8lryWugbKBsoGygbKBsoGx4bXhteG3Ja/Fq8WrJa8lryWvJa8lr8WrJa8lr8WoaakJpQmlCaUJpGmpCaUJpGmoaakJpGmpCaUJpamhqaJNnamhCafFqoGx4bXhtoGzJa8lr8WqgbHhteG14bXhteG1Pbk9uT26gbPFqGmoaavFqyWvJa/Fq8WoaaslryWvxakJpQmlqaBpqGmrJaxpqGmoaavFqQmlCaWpoQmm7Zrtm5GWTZ2poeG3WcNZweG3JaxpqQmnJaydvrnH/b3htyWugbKBseG2gbMlramhCaUJpoGwaampo5GVCafFqeG2gbPFqu2aTZ2pooGx4baBsQmlCaUJp8WoaakJp5GUMZeRlu2ZCaSdvDHVdc6BsamhqaBpqT25dcwx1/28aampoyWt4bXhtyWsaampok2dqaEJpQmmTZ7tmamjxaqBs8WoaampoGmrxanhteG2gbBpqQmnxavFqQmlqaLtm5GUMZWpo/2/kdV1z8Wq7ZmpoeG2ucQx1NHRPbrtmk2egbP9veG0aapNnu2a7ZpNnamhCaWpoamgaaslr8WpCaRpqyWugbMlroGzJa/FqGmrxavFqGmq7Zrtm5GXkZeRloGwMdWp4eG27ZpNn/2+Fcgx1NHT/b7tm5GVCaSdveG3xartmu2bkZeRl5GUaavFqGmoaaslryWsaaslrT25PbvFqQmkaaslryWvJaxpqamjkZeRl5GW7Zgxl5GXJa7t2anhPbgxlQmmuceR1DHWucaBs5GXkZaBs1nCgbLtmNWS7Zmpok2e7ZkJpyWvxahpq8WrJa6BseG0nb3htGmqTZ0JpoGxPbvFqk2fkZbtmamhCaZNnNWQ1ZJNn/29qeOR18WrkZXht5HU0dP9voGwaapNnGmp4baBsk2cMZeRlQmlCaZNnu2bxanhtoGzxaqBsoGx4bXhtT27Ja2poamjxaslrGmqTZ5NnQmlCaWpok2dqaLtm5GVqaPFqJ2+7drt2yWsMZaBsDHWFcnht8WpqaLtmQmmgbPFqk2e7ZpNnGmrxampoamh4bf9voGwaaqBs/28nb6Bs8WrxampoQmkaavFqQmlqaEJpGmpCaWpoamgaakJpk2dqaEJpamgaagx1yXv/b11j5GWucQx1T25CaUJpQmlCaclroGwaampoQmnxaslrGmpqaMlrJ294bWpoQml4bU9ueG14bfFqu2a7ZslrT26gbJNnu2ZqaPFqyWvxakJpamiTZ0JpyWvxampok2caatZwk3eucQxlNWT/b7t2T25qaPFqyWsaavFqeG3JaxpqGmrxahpqQmlCaclreG3Ja2poQml4bXht8WrxaslryWvxahpq8WrxakJpGmrxahpqQmkaahpqGmpCaUJpGmrxahpqamhCaRpq8Wonb+R1hXLkZTVk/2+7dv9vGmpCaUJpGmp4bU9u8WpCaUJpQmlCafFq8WrJa6Bs8WpqaGpooGwnb6Bs8WpCaRpq8WrJa8lryWtCaWpoQmkaahpq8WoaahpqamhCafFqyWsaakJpQmkaavFqGmqgbAx1DHWTZ11jT26Td9ZwQmlCaRpq8WqgbKBsGmpCaUJpQmlCafFqyWsaavFqoGxqaGpooGxPbslrQmlqaBpqyWt4bclrQmmTZ0Jp8WrJa/FqQmlCaUJpQmkaaslr8WpCaUJpGmoaaslr8WpCaclrNHS7dhpqhWJ4bbt2rnHxakJpQmkaaqBsoGwaapNnGmoaampoQmnxavFqyWvJaxpqQmnxanhtoGzxakJpQmnxaqBsyWsaakJpamgaaslr8WoaampoQmkaaslryWvxahpqQmkaavFqyWvJaxpqamhCaU9u5HUMdWpoDGVPbjR0/2/JaxpqamhqaKBsyWtqaGpoGmpqaGpoyWvJa0Jp8WqgbBpqQmnJa3htyWvxakJpamgaaqBsoGzxampoamgaaslryWsaakJpGmoaavFqyWvJa8lr8Woaahpq8WrJa/FqQmlCaUJpJ2/kdTR0amgMZXhtNHTWcMlramiTZ/FqeG3Ja2poamgaampoQmnxakJpQmnJa6BsQmlCafFqoGygbMlrQmlqaPFqeG3JaxpqamhCaRpqyWvxahpqGmrxavFq8WrJa8lr8WrxavFqGmrxaslr8WpCaUJpQmnJa4Vyu3Ynb+RlamjWcF1z1nCgbJNnu2bJa3htGmpqaBpqami7Zhpq8WpqaBpqoGzxampoQmnxaqBseG3Ja2poamjxaqBsoGzxahpqQmkaaslr8Woaahpq8WrxavFqyWvxavFq8WrJa/Fq8WrJa/Fq8Woaahpq8WpPbl1zNHQaartmoGyucdZwJ28aartmamh4baBsQmlqaEJpk2eTZxpqQmlqaPFqyWsaakJp8WrxaslreG3Ja0JpQmnJa6BsoGzxahpqQmkaaslryWsaahpq8WrxaslryWvxavFqyWvxavFqyWvxaslr8WrxavFqGmrJa09urnH/b/FqQmmgbP9vJ294bfFqk2dCaXhtyWtqaEJpQmmTZ0Jp8WpCaZNnGmrJaxpqGmrxahpq8WqgbKBsGmoaaslryWvJa8lrGmoaavFqyWvxahpqGmrxavFqyWvJaxpq8WrJa/Fq8WrJaxpqGmrJa8lr8WrJa8lryWtPbq5xT24aavFqeG14bXhteG3xampo8WrJaxpqGmrxampok2dCafFqQmlqaBpqGmoaaslr8WpCaUJpyWugbPFq8WrxahpqyWugbMlr8WrxavFqGmrxaslryWvxavFq8WrJa/Fq8WrxavFq8WrxavFq8WrxavFqyWvJa8lryWvJa8lroGygbMlryWugbKBsoGzJa/FqyWugbKBsyWvxaslryWvJa8lr8WrxavFq8WoaakJpQmkaahpqGmpCaUJpGmoaahpqGmoaavFq8WrxaslryWvxaslryWvJa8lryWvJa8lr8WrJa8lr8WrJa/Fq8WrxavFq8WrxaslryWvJa8lryWvxaslroGx4baBsyWvJa8lroGygbKBsoGygbMlryWvxaslryWvxavFqGmrxavFqGmpCaUJpQmlCaUJpQmlCaUJpGmoaahpqGmoaavFq8WrxavFq8Wrxaslr8WrxavFq8WrxavFqyWvJa8lr8WrJa8lr8WrxavFq8WrxaslryWvxaslryWvJa8lr8WrJa8lroGygbMlryWugbKBsoGygbMlryWvJa8lr8WrJa/Fq8WrxavFqGmoaahpqGmoaakJpQmlCaRpqGmpCaUJpQmkaahpqGmoaavFq8WrxavFqyWvJa8lryWvJa/FqyWvJa8lryWvJa/FqyWvJa/FqyWvJa8lryWvJa8lr8WrJa8lryWvJa8lryWvJa6BsoGzJa8lryWugbKBsoGzJa8lryWvJa8lryWvxaslryWvxahpqGmoaahpqQmlCaUJpQmlCaUJpQmlCaUJpGmoaahpq8WrxavFq8WrxaslryWvJa8lryWvJa8lryWvJa8lryWvJa/FqyWvJa/Fq8WrJa8lr8WrxavFq8WrxavFqyWvJa/FqyWvJa8lroGygbMlroGygbKBsoGzJa6BsyWvJa8lr8WrJa8lr8WrxahpqGmoaahpqQmlCaUJpQmlCaRpqQmlCaUJpGmoaavFq8WrxavFq8WrJa/Fq8WrJa8lryWvJa/FqyWvJa8lryWvxaslryWvxaslryWvxavFq8Wrxaslr8WrxaslryWvJa8lryWvJa6BsoGygbMlryWugbMlryWvJa8lroGzJa8lryWvxaslr8WrxahpqGmoaahpqGmpCaUJpQmlCaUJpQmkaahpqGmoaahpq8WrxavFq8WrxavFqyWvJa8lr8WrJa8lryWvJa8lryWvJa8lryWvJa8lryWvJa8lryWvJa/FqyWvxaslr8WrxavFqyWvJa6BsoGzJa8lryWugbMlryWvJa8lryWvJa8lryWvJa/Fq8WrxavFq8WrxahpqGmpCaUJpQmlCaUJpQmlCaUJpQmlCaRpqGmoaahpq8Wrxaslr8WrJa8lryWvxaslryWvJa8lryWvJa8lryWvJa8lryWvJa8lr8Wrxaslr8WrJa8lr8WrxavFqyWvJa8lryWvJa6BsoGzJa8lryWvJa8lryWvJa8lryWvJa8lr8WrJa/Fq8WrxahpqGmoaahpqQmlCaUJpQmlCaUJpQmlCaRpqGmoaahpq8WrxavFqyWvxaslryWvJa8lryWvJa8lryWvJa/FqyWvJa8lryWvJa/FqyWvJa/FqyWvxavFqyWvJa8lryWvxaslryWvJa8lryWvJa8lroGzJa8lryWvJa8lryWvJa8lryWvJa8lr8WrxavFqGmoaahpqGmoaakJpQmlCaRpqQmlCaUJpGmoaahpqGmoaavFq8Wrxaslr8WrJa8lryWvJa8lryWvJa/FqyWvJa8lryWvxaslr8WrJa8lr8WrJa8lr8WrxavFq8WrJa8lr8WrxavFqyWvJa6BsyWvJa8lroGzJa8lryWvJa8lroGzJa/FqyWvJa/Fq8WrxahpqGmrxavFqGmpCaUJpQmlCaUJpQmlCaRpqGmoaahpqGmrxavFqyWvJa8lr8WrJa8lryWvJa8lryWvJa8lryWvxaslryWvJa8lryWvJa/Fq8WrJa8lryWvJa8lryWvxaslryWvxavFq8WrJa6BsyWvJa6BsoGygbMlr8WrJa8lryWvJa8lryWvxavFqGmoaahpqGmoaahpqGmoaakJpQmlCaRpqQmlCaRpqGmrxavFq8WrxavFqyWvJa/FqyWvxaslryWvJa/FqyWvxavFqyWvxavFq8Wrxaslr8WrJa/FqyWvxavFqyWvJa8lr8WrJa8lr8WrxavFq8WrxaslroGygbKBsoGygbKBsyWvJa8lryWvJa8lryWvxavFqGmoaahpqGmpCaUJpGmpCaUJpQmlCaRpqGmoaahpqGmrxaslr8WrJa/FqyWvJa8lryWvxaslryWvJa8lr8Wrxaslr8WrxavFq8WrJa8lr8WrJa/FqyWvxavFq8WrxaslryWvxaslr8WrJa/Fq8WoaavFqoGx4bXhteG14bXhteG2gbMlr8WrJa8lr8WrxahpqGmoaahpqQmlqaJNnamhCaWpoamhCaRpq8WrxavFq8WrJa8lryWvJa8lryWvJa8lryWvJa/Fq8WrJa/Fq8Woaahpq8WrxavFqGmrxaslryWvJa8lr8WrJa/Fq8WrxavFqyWvxavFq8WrxahpqGmoaavFqeG0nbydvT24nbydveG3Ja/Fq8WrxaslryWvxahpqGmpCaZNnu2bkZeRlk2dCaRpqGmrxavFqyWvJa/Fq8WrJa6BseG14baBsyWvJa/Fq8WpCaUJpGmrxavFq8WrxavFq8WrxavFq8WrxaslroGygbKBsyWvJa/FqGmoaavFq8WrxavFqGmoaakJpGmoaaslrJ2+Fcv9vT24nbydvoGzxavFqyWugbHhtoGwaapNnu2bkZeRl5GW7ZpNnGmrJa/FqGmpCaUJp8WqgbKBsoGxPbk9ueG2gbPFqQmlCafFq8WoaahpqGmoaahpqQmlCaRpq8WqgbKBsoGygbMlryWvJa/Fq8WrJa6BsyWvxahpqGmpCaUJpQmlCaRpq8WrJa6Bs/29dc/9voGxPbidveG2gbHhtoGzJa6BsyWtqaAxl5GXkZbtmamiTZ7tmamhCaWpoQmkaaslroGxPbk9uoGzJa6BsoGygbKBs8WoaavFq8WpqaJNnamhCafFqyWvJa/Fq8WrJa8lryWvJa6BseG2gbKBsyWsaavFqyWvxahpqQmkaahpqQmlCaUJpQmnxaslreG2ucTR0J2/Ja3htJ29PbnhtT26gbPFqyWsaauRlNWTkZZNnk2dCabtmNWTkZUJpGmrxaslroGx4bU9ueG3Ja8lroGx4bXhtoGzxampoamhCaUJpQmlCaRpq8WrxahpqQmkaaslroGx4bXhtoGygbMlroGzJa8lr8WrJa8lrGmpCaUJpQmkaavFq8Woaahpq8Wp4bYVyXXNPbvFqeG0nb09uT254bclr8WqgbBpq5GUMZbtmk2dqaEJp5GVdYwxlQmkaavFqyWvxaslroGx4baBsoGx4bSdvT254bfFqQmlCafFqyWvxakJpamhCaUJpQmkaahpq8WrJa8lryWvxavFqyWvJa3htoGzJa/Fq8WrJa8lr8WoaavFq8WrxahpqQmnxak9urnH/b8lrQmmgbE9uJ28nb3ht8WrJa6Bs8WpqaGpoQmlCaRpqQmm7Zgxlu2ZCaRpqGmoaampoamjxaslryWvxaslryWugbKBsyWvxavFqyWugbKBsyWsaahpqGmrJa8lr8Woaahpq8Wrxaslr8Woaahpq8WrJa8lryWvxavFqyWvJa8lr8WrxaslryWvxaslryWvJa8lryWugbKBs8WoaavFqyWugbKBsyWvxavFqyWvJa8lr8WrxavFq8WrxavFqGmoaahpq8WoaahpqQmlCaUJpQmkaahpqGmoaahpqGmoaavFq8WrJa8lryWvJa8lryWvJa8lryWvJa8lryWvJa/Fq8WrJa8lryWvJa8lr8Wrxaslr8WrxaslryWvxavFq8WoaavFq8WrxaslryWvxavFq8WrJa8lr8WrJa8lryWvJa8lryWvJa8lryWvJa8lryWvJa8lr8WrxavFqGmoaahpqGmoaakJpQmlCaUJpQmkaahpqGmoaahpqGmrxavFq8WrxavFq8WrJa8lryWvJa8lryWvJa8lr8WrJa/FqyWvJa8lr8WrJa8lr8WrJa/Fq8Wrxaslr8WrxavFq8WrxavFqyWvxavFq8WrJa8lryWvJa8lryWvJa8lryWvJa8lryWvJa8lryWvJa8lr8WrxavFqGmoaahpqGmoaahpqQmlCaUJpQmkaahpqGmoaahpqGmoaavFq8WrJa/FqyWvJa8lryWvJa8lryWvJa8lryWvxaslryWvxavFqyWvJa/FqyWvJa8lr8WrJa/FqyWvJa/Fq8WrJa/FqyWvJa8lr8WrJa8lr8WrxaslryWvJa8lryWvJa8lryWvJa8lryWvJa/FqyWvxavFq8WrxahpqGmoaahpqGmoaahpqGmoaahpqGmoaahpqGmrxavFq8WrxavFqyWvJa8lryWvJa/FqyWvxaslryWvJa/FqyWvJa/Fq8WrxaslryWvJa8lryWvJa/FqyWvxaslr8WrxaslryWvxaslryWvJa8lryWvxaslryWvxavFq8Wrxaslr8WrJa8lryWvxaslr8WrxavFq8WrxavFq8WrxavFq8WrxavFqGmoaahpqGmoaavFqGmrxavFq8WrxavFq8WrxavFq8WrJa8lryWvJa/Fq8WrJa8lr8WrJa/FqyWvxavFqyWvJa/Fq8WrJa/FqyWvJa8lryWvxaslr8Wrxaslr8Wrxaslr8WrJa8lryWvJa8lr8WrJa8lr8WrxavFqyWvJa8lryWvJa8lryWvJa8lryWvJa/Fq8WrxavFq8WrxavFq8WrxahpqGmoaahpqGmrxavFq8WrxavFq8WrxavFq8WrxaslryWvJa/FqyWvJa8lr8WrJa8lr8WrxavFqyWvJa/Fq8WrxavFqyWvJa8lr8WrJa8lryWvJa8lryWvJa8lryWvJa8lryWvJa8lryWvJa/FqyWvxaslr8WrJa8lr8WrJa/Fq8WrJa8lr8WrJa8lryWvJa8lr8WrxavFq8WrxavFq8WrxavFq8WrxavFqGmrxavFq8WrxavFq8WrxavFq8WrxavFq8WrxavFq8WrxaslryWvJa8lryWvJa/FqyWvJa/FqyWvJa/Fq8WrxavFqyWvxavFqyWvxaslryWvxaslryWvxaslryWvJa/FqyWvJa/FqyWvJa8lryWvJa8lryWvxavFqyWvxavFq8Wrxaslr8WrJa8lr8WrJa8lr8WrxavFq8WrxavFq8WrxavFq8WrxavFq8WrxavFq8WrxavFqGmrxavFq8WrxavFq8WrxavFq8WrJa/Fq8WrJa8lr8WrxavFq8Wrxaslr8WrJa8lryWvJa/Fq8WrJa8lryWvxaslryWvxaslryWvxaslryWvxaslr8WrJa/Fq8WrJa8lryWvJa8lryWvxaslr8WrxavFq8WrJa8lryWvxaslryWvJa8lryWvJa8lr8WrxavFq8WrxavFqGmoaavFq8WoaahpqGmoaavFq8WoaahpqGmrxavFq8WrxavFq8WrxaslryWvxavFq8Wrxaslr8WrJa8lryWvJa/FqyWvJa/Fq8Wrxaslr8WrJa8lryWvJa8lryWvJa8lryWvxaslr8Wrxaslr8WrxavFqyWvJa8lryWvJa8lryWvJa8lryWvJa8lryWvJa/Fq8WrxavFq8WrxavFqGmoaahpqGmoaahpqGmoaahpqGmoaahpqGmoaavFq8WrxavFq8WrJa/Fq8WrJa8lryWvJa8lryWvJa8lryWvxaslryWvJa8lryWvJa/Fq8WrxaslryWvJa/Fq8WrxaslryWvxavFq8WrxaslroGzJa/FqyWvJa6BsoGygbKBs8WrJa6BsoGzJa/Fq8WrJa/Fq8WoaakJpQmkaahpqQmlqaGpoQmlCaRpqQmlCaUJpGmrxaslr8WoaavFq8WrJa8lroGzJa8lroGygbMlryWvJa8lr8WrJa8lr8WrxavFqyWvxahpqGmrxavFq8WrxavFqGmrxavFqyWtPbk9u8WpCaaBs1nAnb6BsyWvJa8lrT26ucXhtk2dqaMlroGzxahpqu2YMZWpoyWtCaQxlDGWTZ0JpQmlqaGpok2dCaclryWvxaslreG2gbKBseG14bXhtoGx4bXhtoGzJa6BsoGwaahpq8WoaakJpQmlCaWpoamgaahpqQmkaavFq8Wrxanht1nBPbmpoGmpdcwx1eG0aanhtJ28nb/9vT25qaLtmeG0nb0Jp5GW7ZuRl5GVCaUJpNWSFYpNnami7ZmpoQmmTZ7tmyWsnb6Bs8WrJa3htT27/b/9voGzJa09u/29PbvFq8WrJa/Fq8WrxakJpu2ZqaBpqQmmTZ2poamhCafFq8WoaavFq/2//b0JpQmldc7t2eG2TZydvXXP/b3htT27Ja2pooGxPbkJpu2ZqaLtmNWRqaPFqNWTWYORlGmqTZ7tmk2fkZbtmoGwnb/FqQmmgbCdvJ28nb09uoGx4bf9v/294bRpqoGzxaqBsyWtCaWpok2dCaRpqQmm7ZpNnQmkaavFqamgaanhtJ2/Ja7tmT27kdf9vk2egbAx1/2/Jaydv/28aavFqT27xampoGmpqaDVkamigbAxl/1/kZRpqu2bkZZNn5GW7ZvFqoGxCaUJpoGx4bXhtJ29PbqBsoGz/bydveG2gbKBsoGygbHht8WpqaEJp8WoaakJpamhqaEJpGmpCaWpoGmpPbnhtamhqaK5xNHTJa5Nn1nA0dHhtyWvWcCdvQmnJa09uyWtqaBpqu2bkZclr8WquYYViGmpCaQxlu2ZqaORlk2fJa/FqQmnxaslryWtPbidvyWvJa09u/294bXhteG3Ja8lrT26gbBpqQmnxahpqGmoaampok2caavFqamhqaPFqT254bWpoQmn/b11zyWuTZ9ZwXXPJa8lrrnEnb2poyWsnb8lrQmkaartmu2bJaxpqhWI1ZPFqk2cMZWpoQmkMZZNnyWvxakJp8WrxaslrJ28nb8lr8Wonb/9veG14baBsyWvJa09uyWsaahpqGmpCaRpqGmqTZ7tm8WrJa0JpamgaavFqyWv/b3htk2fxajR0hXIaaslrrnHWcMlreG3WcMlramjJa3htGmpCaWpoDGWTZ8lramiFYgxlQmmTZ7tmamhqaORlk2egbMlr8WrJa8lroGwnb/9veG3Ja3htJ29Pbk9uoGzJa8lroGygbBpqQmlCaUJp8WpCaZNnk2dCaRpqGmrxahpqGmrJa3ht/29Pbslr8Wr/bwx1J28aak9u1nBPbnhtJ2/Ja2poQmnJa/FqGmq7Zl1j5GXxakJphWJdY7tmamiTZ0Jpk2e7ZkJpyWugbHhtoGzxaqBs/2+Fck9uyWugbCdvJ29PbslrQmnxaqBs8Wrxampou2aTZ/Fq8WqTZ7tmk2dCaclryWvxakJpQmk0dGpou3bJa8lr8WoMdeR1yWvxak9u/294baBseG1qaGpo8WpCaUJpk2e7Zq5hu2bxampoXWM1ZLtmQmmTZ/Fqami7ZvFqT26gbCdvoGzJa6Bs/2+ucU9uyWsaaidvT24nb0Jpk2dCafFqyWsaapNnu2ZqaEJpGmpCaUJpk2dCaaBseG3Ja8lryWt4bSdv/2+ucXht8Wp4bTR0XXPJa5NnoGwnb3htoGxCabtmu2bxakJpu2a7ZgxlrmG7ZvFqamg1ZAxlu2ZCaclryWtqaGpooGwnbydv/294bclreG2ucdZwT27JaxpqoGwnb09uQmmTZ5NnGmrJa/Fq5GXkZZNnGmoaavFqQmlqaBpqeG1PbnhtyWvJa3htT27/b9ZwJ29CaUJp1nAMdSdvamgaaslreG0nb8lr5GXkZRpq8WpqaEJpk2c1ZAxlamhCaWpok2fkZTVkQml4baBsGmpqaPFqeG3/bydvoGzJa3htT27/b09uoGxCafFqoGygbMlrGmq7ZpNn8WrJa/FqamhqaEJpyWugbMlrQmnxaslroGygbHhtoGxCaaBseG3/bydvyWtqaKBs1nD/b8lrGmoaahpqeG14bRpqQmkaakJpamgaahpqamjkZbtmamgaampoQmnkZZNnGmoaahpq8WpCaUJpoGzJa09ueG3Ja8lroGx4bU9ueG3Ja8lrQmnJa8lryWsaahpqyWsaak9uGmqgbPFqyWvJa8lrGmoaavFq8Wrxahpq8WpqaPFqQmnxaqBsoGzJa/FqoGx4bU9uoGzJa/FqyWt4bXhtyWsaavFqyWvJaxpqGmpCaRpqGmoaampoamgaakJpamhqaEJpGmpCaRpqGmrxavFqyWvxavFqyWugbKBsoGzJa8lroGygbMlryWvJa6BsoGygbKBsyWvJa6BsyWvxavFq8WrxavFqGmoaahpqGmpCaUJpGmoaahpqGmoaahpqyWugbKBsQmkaaslroGzJa8lryWvxaslroGzJa/Fq8Wrxaslr8WrxavFqyWvxahpqGmoaavFq8WrxakJpGmrxavFqGmrxahpqGmrxavFqGmoaavFq8WrxavFqyWvxavFqyWvJa8lryWvJa8lr8WrxavFq8WrxavFq8WrxavFq8WrxavFqyWvxavFq8WrxavFq8WrJa/FqGmoaahpqGmrJa6Bs8WpqaBpqoGx4bclryWvxaslroGx4bclr8WqgbKBsyWvxavFqyWvxahpqQmlqaBpqGmoaampoamhCaRpqQmlCaUJpQmnxavFq8WrxaslryWvJa8lryWvJa8lroGzJa8lryWvJa8lryWvxaslr8WrJa/FqyWvxavFq8WoaavFq8WrxahpqGmoaahpqGmrxahpqGmoaavFqoGwnb3htamgaak9u1nBPbqBsoGzJa3htT26gbBpq8WrxahpqamhqaBpqQmlqaLtmu2ZqaBpqGmqTZ5NnQmnxavFq8WrxaslryWugbMlroGxPbk9uyWsaaslroGxPbslrQmlCaclryWvxahpqGmoaavFqGmoaaslroGzxakJp8WrJa8lr8Woaahpq8WrJa/Fq8WpPboVy1nCTZ7tm1nDkdSdvQmlCaclrT25PbvFqu2ZqaEJpu2YMZWpoGmqTZ11jXWOTZ8lroGwaartmamh4bSdveG2gbKBsoGzJa6BsoGxPbk9uGmrkZWpooGx4bfFqu2YMZUJpoGzJa/FqyWvxakJpyWtPbidveG3xakJp8Wp4bXhtyWtqaJNnGmrJa0JpyWvkdQx1XWPWYIVy8Xr/b2pok2fxanhtT27Ja0Jpk2e7ZuRl5GVCaclramjWYIVi8WpPbqBs8WpCaWpoeG3WcE9ueG1PbvFqk2fxanhteG3Ja7tmXWNqaHhtyWsaakJpu2ZqaHhtT254bXht8WpCaaBs1nAnb8lrQmlqaBpqoGzJa0JpGmq7Zrtm8WrxahpqrnGTd3hthWJCaRl6anjJawxlQmlPbqBsGmpCaWpoDGU1ZAxlk2fxaqBs5GXWYEJprnH/b8lryWvxaslrJ29PbslroGzxagxl5GXxaqBsGmq7ZjVkk2egbHhtyWvJa8lrGmrJaydvJ29Pbslramgaak9uT24aampoamhqaBpq8WpCaRpqyWtqaEJpeG14bUJpT25qeLt2u2auYa5x8Xonb65hDGXJa/Fqu2aTZ0Jpu2YMZbtmQmmgbCdvyWu7Zmpo/2+ucXhtyWvxakJpQmnxahpqQmlCaeRlNWRqaKBsyWtCaUJp8Wp4bU9ueG1Pbnht8WoaavFqoGzJa/Fqk2e7ZhpqyWvxahpq8Woaahpq8WqgbKBsoGzJa8lroGygbMlrQmmgbLt2u3bkZclboGzxeq5x1mCuYaBsT26TZ7tmoGygbLtm5GXxanhtT26gbGpou2bJa/9voGxCaRpqGmpqaEJpyWvJa/FqQmmTZ2pooGwnb6Bs8WoaavFqeG2gbKBsyWtCaWpoGmrxaslryWvxampoQmnJa3htoGzxahpqGmrxaqBsoGzJa/FqGmrxavFqGmpCaU9uQnnkdYVieF3/b3h9/28nX65hT25PbgxlDGV4baBsDGU1ZPFqJ29PbslrQmlqaMlrT254bclrQmlqaJNnQmnJa/FqGmpqaJNnQml4bSdveG2gbPFqGmrJa6BsyWsaampok2dCaclryWvxahpqGmrxaqBseG14bclrQmlCafFqeG2gbPFqGmpCafFqoGxqaGpoXXPJe3htoFyFYrt2GXqTZ6Bc5GX/b/FqhWKTZ/9vyWs1ZLtmT27/b3htyWsaakJpGmp4baBsGmqTZ5Nnk2caaslryWvxakJpQmnJaydv/29PbhpqamhCaclroGzxampou2ZqaMlrT254bfFq8WrxaslroGygbMlrGmpqaGpoyWt4baBsGmpCaUJpQmkaav9vQnm7duRloFzxakJ5rnGuYdZg8WrxajVku2b/bydvu2YMZclr1nAnb3htyWtCaZNnGmqgbPFqQmmTZ7tmk2fxanhtoGzJa/FqGmqgbP9vJ2/Ja5Nnu2ZqaPFq8Woaampou2ZCaU9u/294bfFq8WrxaslryWvJa/FqQmmTZ2poyWtPbqBsGmqTZ5Nn8Wq7dqB8T25QXoViXXPkdZNn/19qaHhtu2ZdY8lrhXKgbLtmQml4bXhteG1PbvFqu2aTZ/FqGmoaahpqQmmTZ2poyWtPbk9uoGzJa8lreG14bclrGmqTZ5NnQmlCaRpqyWvxahpqyWtPbk9ueG3Jaxpq8Wrxahpq8WrJa/FqQmlCaclreG3Ja5Nn8WpqeMl78WqgXLtmu3aFcl1j1mDxaqBsDGUMZXht/28aakJpoGygbPFqT24nbxpqu2ZqaBpqQmlCaRpqQmlCaRpq8WqgbE9uT26gbMlryWvJa/FqGmpqaGpoamhqaBpqyWvxavFqyWugbE9ueG3Ja0JpQmnxavFqGmrxaslrGmpCaUJpGmpPbmp4anhqaCdfGmrkdf9vNWQMZfFqamhdY2poJ2+gbEJp8WrxakJpoGzWcE9uQmlqaEJpQmlCaclrGmpqaEJpQmkaaqBsT25PbqBs8WrxaslroGzxakJpk2eTZ0Jp8WrJa/FqyWvJa6BseG1PbslrQmmTZ0JpyWt4bclramiTZ2po1nDxejR0XWOFYtZwNHQaauRlyWvJa+RlDGUaaslryWvJaxpqamgaak9uT26gbPFqGmpCafFq8WpCaUJp8WpCabtmGmp4bU9uyWvxaslryWugbMlrGmpqaEJpQmkaavFqyWvxahpqGmrxaqBseG3Ja0JpQmnxaslryWsaakJp1nAZejR0XWOFYq5x5HXJawxlamhCabtmamjJa/FqGmoaakJpamjJaydveG3xavFqGmpCaaBseG1CaZNnGmpCaZNn8WpPbqBsQmlCaclreG2gbMlrGmpqaEJp8WrJa/FqGmpCaUJp8WrJa/FqyWvJaxpqGmrxaslrGmrJa+R1GXrJa/9fGmqTd4VyamiTZ2pok2dCaRpqamhCafFqamgMZUJpT254bfFqoGzxampooGz/b3htamgaavFqGmoaavFqGmpqaGpoQmnxaqBsyWtCaWpoGmrJa6Bs8WoaakJpQmkaaslryWsaahpq8WrJaxpqamhPbmp4u3a7Zq5hJ29qeP9vQmkaakJpamjJa8lramhCaUJpDGU1ZBpqoGwaampoGmpCaUJpoGz/b3htGmrJa3htyWvxaqBsyWtCaWpoamgaaqBs8WqTZ7tmGmqgbKBsGmpCafFq8WrJa8lr8WrxavFqyWvJa/Fq8WonbzR0/2/kZZNn1nBdc3ht8WoaakJpyWt4bRpqk2fxaslru2bkZUJp8WpCaRpqGmpqaJNnyWt4bfFqGmrxaslryWvxaslr8WrxavFq8WrxaslryWvxahpq8WrJa/Fq8WrxavFq8Wrxaslr8WrxavFq8WrJa8lryWvJa6BsyWvxaslrT26gbBpqQmnJa6BseG2gbMlrQmnJa6BsoGwaahpq8WoaahpqGmpCaUJpGmrJaxpqQmkaavFq8WrxavFqGmoaavFqyWvxavFqyWvxavFq8WrxavFqyWvJa8lryWvxaslr8WrJa/FqyWvJa/FqGmrxaslr8WrxaslryWvJa8lryWvJa8lryWvJa6BseG3JaxpqGmrJa6BsoGzJaxpqQmnJa6BsoGwaakJpGmrxaslrGmpCaUJpGmrxavFqGmoaavFq8WrJa/Fq8WrJa8lryWvxavFq8WrJa/Fq8WrxavFqyWvxahpq8WrJa8lryWvJa/Fq8WrJa/FqGmrxaslryWvxaslryWvJa8lroGzJa8lryWvJa/FqyWvJa/Fq8WrxavFqyWvJa/Fq8WrxavFq8WrJa8lr8WoaavFq8WrxavFqGmpCaRpq8WrxavFq8Woaahpq8WrJa8lryWvxavFq8WrxavFqyWvxavFq8WrJa8lryWvJa8lryWvJa8lryWvJa8lryWvJa/FqyWvJa8lryWvJa8lryWvJa8lryWvJa/Fq8WrxavFqyWvxavFq8WrxavFqyWvxavFqyWvxavFq8WrxavFqyWvxahpq8WrxavFq8WrxavFq8WrxaslryWvxavFq8WrxavFq8WrxavFq8WrxavFqyWvxavFq8WrxaslryWvJa8lryWvJa8lr8WrJa8lr8WrxavFqyWvJa/FqyWvJa8lr8WrxavFq8WrJa/FqyWvJa/Fq8WrxavFq8WrxavFqyWvxavFqyWvxaslr8WrxavFq8WrxavFq8WrxavFqyWvxavFq8WrxaslryWvJa/Fq8WrxavFq8WrxavFq8WrxaslryWvxaslr8WrxavFqyWvxaslryWvxavFq8Wrxaslr8WrJa/Fq8WrJa8lryWvJa8lr8WrxavFqyWvJa/Fq8WrxavFqyWvJa8lryWvxavFq8WrJa8lr8Wrxaslr8WrxavFq8WrJa8lr8WrxavFq8Wrxaslr8WrJa/Fq8WrJa8lr8Wrxaslr8WrxaslryWvJa/Fq8WrJa8lr8WrxavFq8WrJa/Fq8WrxavFq8WrJa8lr8WrxavFqyWvJa/Fq8WrxavFqyWvxaslryWvxavFqyWvJa/FqyWvJa/Fq8WrJa8lryWvJa8lr8WrJa/Fq8WrJa8lr8WrxavFq8WrJa/FqyWvJa/FqyWvxaslr8WrxavFq8WrJa/FqyWvJa/FqyWvJa/FqyWvJa/FqyWvJa/Fq8WrJa8lryWvJa/FqyWvJa8lr8WrJa8lryWvJa8lr8WrJa8lryWvJa8lryWvJa8lryWvJa8lr8WrJa8lr8WrxavFqyWvxaslryWvxaslr8WrJa/Fq8WrxavFq8WrJa/Fq8WrxavFqyWvJa8lryWvJa8lr8WrJa8lryWvJa8lryWvxaslryWvxaslryWvJa/FqyWvJa/FqyWvJa/FqyWvJa8lr8WrJa/FqyWvJa8lr8WrJa/FqyWvxaslryWvJa8lryWvJa8lryWvJa/FqyWvxaslr8WrJa8lryWvJa8lryWvJa/FqyWvJa8lr8WrJa8lryWvJa8lr8WrJa8lryWvJa/FqyWvJa8lr8WrJa8lr8WrJa8lryWvJa8lr8WrJa/FqyWvxavFq8WrJa8lryWvxavFqyWvJa8lryWvxavFqyWvxavFqyWvJa8lr8WrJa/FqyWvJa8lr8Wrxaslr8WrJa/Fq8WrxavFq8WrJa8lr8WrJa/Fq8WrxavFqyWvxaslryWvJa/Fq8Wrxaslr8WrJa/Fq8WrxavFqyWvJa8lr8WrJa8lr8WrxavFq8WrxavFq8WrxaslryWvxavFqyWvJa8lr8WrJa8lryWvJa/Fq8WrxavFqyWvJa8lryWvxaslr8WrxaslryWvxavFqyWvxaslr8Wrxahpq8WrJa8lr8Wrxaslr8WrJa/FqyWvxavFqyWvxavFq8WrxavFq8WrxaslryWvJa/FqyWvxavFq8WrJa/FqyWvxavFqyWvxavFq8WrxavFq8WrxavFq8Wrxaslr8WrxavFqyWvxavFq8Wrxaslr8WrxavFq8WrJa8lr8WrxavFqyWvxaslr8WrJa8lr8WrxavFq8Wrxaslr8WrJa/Fq8WrxaslryWvxavFq8WrxaslryWvJaxpqyWsaaslr8WrxavFq8Woaaslr8WrJa8lr8WrxavFq8WrJa/FqGmoaavFq8Wrxaslr8WrJa8lr8WrxaslryWvxavFq8Wrxaslr8WoaaslrGmqgbMlr8WrxavFqyWvJa/Fq8Woaahpq8WrJa/Fq8WoaaslryWvJaxpqyWvxavFqyWvxaslryWvxaslryWvJa6Bs8WrJa/Fq8WpCafFqQmnxakJp8WrxavFq8WoaaslryWvJa8lrGmrJaxpqyWtCaclr8WrxavFq8WrxaslrQmnJa0JpyWvxaslr8WrxavFq8WrxaslryWvJa8lryWvJa8lr8WrJa/FqoGzJa/Fq8WpCaclr8WrJaxpq8Wrxaslr8WrJa0JpyWsaaqBs8Wrxaslr8WqgbPFqyWvxaslryWvxavFqGmrJaxpqyWvxavFqGmoaahpq8WrxavFqQmnxahpqyWtCaclrGmrxavFqGmrJa/FqyWvJa/FqyWvxaqBs8WqgbBpqoGwaaslryWvJa6BsGmoaavFqyWugbPFq8WoaaslryWvxaslr8WrJa/Fq8WrxahpqoGzxaslrGmoaavFqyWvJa8lr8WpCafFq8WrxavFqGmrxahpq8WrxavFqGmoaavFq8WoaaqBsGmrJa0JpyWvxavFqyWvJa8lryWvxavFq8WrJa8lryWsaavFqGmrxaslr8WrxavFqQmnxaslrGmrxanhtQmmgbPFqQmlPbhpqeG0aaslryWugbPFqyWsaaslryWvJa8lryWsaak9u8WpPbvFqyWtCaclrGmrxakJpQmnxavFqGmpCaUJpGmoaampoQmlCaWpoQmkaahpqGmoaampo8WrxavFq8WrJa6BsoGygbKBseG14baBseG14bU9uoGygbKBsoGx4bXhtoGygbMlryWvJa/FqyWvJa/FqyWvJa/Fq8WrxavFqyWsaavFq8WrxaslrGmoaavFq8WrxavFqGmpCaUJpQmlCaUJpQmlCaUJpQmlqaGpoGmpCaRpq8WoaavFq8WrxavFqyWvxavFqyWvJa8lryWvJa8lryWvJa8lroGzJa6BsoGzJa8lr8WrJa8lr8WrJa8lryWvJa6Bs8WrxavFqyWugbKBsyWvxahpqGmrJa/FqyWvxavFqGmoaahpq8Wrxaslr8WrxavFqGmoaavFqyWugbMlr8WrJa/Fq8WrxaslryWvxaslryWvxavFq8Woaaslr8WrJa/Fq8WrxakJp8WrxavFqyWsaavFqGmrJa/FqyWvJa/Fq8WrxavFq8WrJa/FqyWvJa/Fq8WrxahpqyWvxaslr8WrxavFq8WoaavFqGmrxaslryWvxahpqQmnxavFqyWvJa/Fq8WrxavFqyWvxaslr8WrJa/Fq8WrxavFqyWvxaslr8WrxaslryWvxavFqyWvJa8lryWvJa/Fq8WrxavFqyWvJa8lryWvxaslr8WrxavFq8WrxavFqGmrxahpq8WrxavFqGmrxavFqyWvxavFq8Wrxahpq8WrxavFq8WrxavFq8WrxavFq8WrxavFq8WrxavFq8WrxavFq8WoaavFq8WrJa8lryWvJa8lryWvJa8lr8WrJa8lryWvJa8lryWvxaslryWvJa8lryWvJa8lryWvxaslryWvJa8lryWvJa8lr8WrxavFq8WrxavFq8WoaakJpQmlCaUJpQmlCaUJpQmlCaUJpQmlCaRpqGmrxavFqyWvxavFq8WrJa8lryWugbKBsoGzJa8lryWvJa6BsoGygbKBsyWvJa8lreG0nbydvT254bclr8WrxaslreG14bXhtoGzJaxpqQmlCaUJpamhqaEJpQmlqaJNnk2e7Zrtmk2dqaEJpGmoaakJpGmoaavFq8WrJa8lryWvJa8lryWvxavFq8WrJa8lryWvJa8lryWvJa8lryWvxaslryWt4bSdvrnGFctZwJ294baBsoGx4bf9v/28nb3htyWtCaWpou2a7Zrtmu2a7ZpNnu2bkZQxlNWQ1ZAxlk2dCafFqyWvJa/Fq8WrxaslroGx4bU9uT254baBsyWvxahpqGmoaahpq8WrxavFqGmpCaUJpQmkaavFqoGxPbtZwhXKFctZw/29Pbk9uT27/b9ZwrnH/b09uyWtCaZNnu2bkZeRlDGUMZeRl5GU1ZF1jhWJdYzVku2ZCafFqoGygbKBsoGygbKBsT24nbydvJ29Pbk9uoGzJa/FqQmlCaUJpGmoaahpqQmlqaJNnk2dqaEJp8WqgbE9u1nCucYVyrnHWcP9v/2//b/9v1nD/bydvT27Jaxpqk2fkZTVkNWQ1ZDVkNWQMZTVkNWSFYl1jNWS7ZkJp8WqgbHhtT24nbydvJ28nbydvJ28nbydvT25PbqBs8WpCaWpok2eTZ2poamhqaGpoamhqaGpoQmkaaslreG3/b4VyXXNdc4VyrnH/bydv/2//b/9vJ29PbqBs8WpqaORlNWSFYoViXWM1ZDVkDGU1ZDVkNWQMZbtmamgaaqBsT27/b9Zw1nD/bydvJ29Pbk9uT25PbnhtoGzJaxpqami7Zrtmu2a7ZpNnk2dqaGpoamhCaRpq8WrJaydvrnE0dDR0XXOFcq5x/2//b/9vJ29PbnhteG3Ja0Jpu2Y1ZIVirmGuYV1jXWM1ZDVkDGXkZbtmk2eTZ0JpyWtPbtZwrnGFcq5x/2//bydveG14baBsoGygbMlr8WpCabtmDGUMZQxlu2a7ZpNnamhCaRpq8WrxaslroGz/b11zDHUMdTR0XXOucf9vJ29PbnhtoGygbKBsyWtqaORlXWOuYdZg1mCFYl1jNWQMZbtmk2dqaGpoQmnxaqBsJ2/WcIVyhXKucdZw/29PbqBs8WoaavFq8Wrxahpqk2e7ZgxlDGUMZeRlu2aTZ0Jp8WrJa6BsoGygbHht1nA0dAx1NHQ0dF1zhXLWcE9ueG3Ja/Fq8WrJa/Fqk2cMZV1jrmGuYa5hhWJdYzVku2ZqaEJpGmoaahpq8Wp4bf9v1nCuca5xrnHWcCdveG3xakJpQmlCaRpqGmpqaJNnu2a7ZuRl5GXkZbtmamgaaslroGx4bXhteG14bf9vXXMMdV1zhXJdc11z1nCgbMlryWvxavFq8Woaampo5GU1ZDVkhWKFYq5hXWPkZZNnamhCaRpq8WrxaslreG0nb/9v/2/WcK5x1nBPbqBs8WpCaWpoamhqaGpoamhqaJNnk2e7Zgxlu2aTZ0JpGmrJa6BseG14bXhteG0nb65xNHQ0dIVyhXJdc65xoGzxavFq8WoaakJpGmpCabtmDGUMZV1jhWKFYjVk5GVqaEJpGmrxaqBsyWvJa6BseG0nbydv1nCucdZwJ294bclrQmmTZ7tmk2dqaGpoamhqaJNnu2bkZbtmamhqaBpqyWugbHhteG1PbnhteG0nb4VyNHSFctZwhXKFck9uQmkaaslr8WpCaUJpQmlqaLtm5GUMZV1jhWI1ZORlk2dCaRpqyWugbMlr8WrJa6BseG1Pbv9v1nDWcCdveG2gbPFqami7ZpNnamhqaGpoQmlCaZNnu2aTZ5NnamhCafFqoGygbHhtT25PbqBseG3/b11zXXPWcNZwXXOucclrQmnxaslrQmlqaBpqGmqTZ7tmu2Y1ZK5hXWO7Zrtmk2dCaclroGzJa/Fq8WqgbKBsoGxPbv9v1nD/b09ueG3Ja0Jpk2eTZ5Nnk2dqaEJpQmlqaJNnk2eTZ2poQmkaaslryWugbHhteG14baBsT27WcF1zrnH/b65xXXMnbxpqGmqgbPFqamhCafFqQmmTZ5Nnu2ZdY4Vi5GWTZ+Rlu2bxaslr8WrxavFqyWvJa8lreG1Pbidv/2//b09uoGzJaxpqamiTZ2poamhCaUJpQmlCaWpoamhqaGpoQmkaavFqyWvJa6BsoGx4bXhtT27WcIVy/28nb65xhXJ4bRpqyWt4bRpqQmnxavFqk2eTZ0Jp5GWFYgxlk2fkZQxlamjxahpqQmnxaslrGmrxanhteG2gbCdv1nAnb3hteG14bRpqamhCaUJpamhCaRpqQmlCaUJpamiTZ2poQmkaahpq8WrJa6BsoGygbHhtJ2/WcK5x/2//b4Vy1nCgbMlreG3Jaxpq8WrJa0Jpk2caampoXWNdY5Nnu2Y1ZORlGmpCaWpoGmrxakJpQml4baBs8WpPbq5x/294bU9uJ2/xahpq8WoaampoGmrxahpqamhCaUJpk2eTZ0JpQmlqaBpqyWvxavFqoGygbKBs/2+ucf9vJ2+uca5xT26gbHhteG3xaqBsoGwaampoGmpCaQxlNWS7ZrtmNWTkZWpoamiTZ0JpQmmTZ2poyWugbMlreG3/b/9vT24nb09uyWvJa6Bs8WoaavFqyWsaampoQmlCaZNnk2dCaUJpamgaavFqGmoaaslryWugbCdv1nD/bydv1nDWcE9uoGxPbnhtoGx4bXhtyWsaavFqQmkMZQxlu2a7ZuRlu2ZqaJNnk2eTZ5Nnu2ZqaPFqyWvJa3htJ28nb09uT254baBsyWt4baBs8WqgbKBsGmpCaUJpQmmTZ2poQmlCaWpoGmoaakJpQmnxaslreG3/b9ZwJ2//b9ZwJ2/Ja6BsT25PbnhtJ29PbvFqQmlCaZNnDGW7Zmpok2fkZZNnk2fkZeRlk2eTZ7tm8Wp4bclryWtPbidvoGx4bU9ueG2gbHhteG3xavFqoGwaampoQmnxampoamgaahpqamhqaBpqQmlqaBpqoGwnb65x1nB4bU9u1nAnb8lreG3/bydvT24nb8lru2ZqaBpqu2YMZUJp8Wq7Zgxlu2a7ZgxlamjxakJpQml4bXhtGmrxak9uJ294bSdvT27xavFqyWtCaZNn8WqgbEJpk2caakJpk2dqaBpqQmlCaclr8WpCaRpqyWugbK5x5HWucclrJ2+ucaBsGmpPbtZweG2gbKBs5GVdY2poGmrkZeRl8WoaajVkDGWTZ7tmQmlPbk9uQmnxak9uyWsaak9urnEnb3htoGxCaZNnGmrxapNnamjJaxpqu2aTZ0JpQmkaaslr8WpCafFqyWtCaRpqoGxPbq5xu3aFckJpGmqucf9v8Wp4bdZwoGwaavFqu2ZdY2poeG1qaDVkk2dCaQxlDGVCaRpqGmp4bU9uamiTZ09u/2+gbHht/29Pbslr8WpCaUJpyWugbGpo5GVqaEJpk2eTZ0Jp8WrxavFqQmlCafFqoGzJa/FqyWugbK5xu3aFckJp8WqFcq5xyWugbCdvoGzxavFqu2ZdY0JpT25qaIVi5GVCabtmu2YaakJpQml4bXhtamhqaCdvrnF4baBsT254bclryWvxahpq8WrJa5NnDGVqaBpqQmmTZ5NnamgaahpqQmlCaclroGzJa8lr8WrJa65xaniFcmpoQmmFcoVyeG2gbHhtyWvxavFqu2YMZRpqT26TZ65hNWRqaGpoamgaampok2fJa6BsQmkaav9vrnF4bclroGx4bXhteG3Ja0JpGmrxapNnu2ZCafFqQmmTZ7tmk2caaslrGmpCafFqyWvxahpq8WrJa9Zwk3eFcpNnamiFcjR0J2+gbKBsGmrxaqBsGmrkZRpqeG2TZ9ZgNWRqaEJpamhCabtmDGUaanht8Woaak9u/2+gbPFqT24nb/9vT24aampo8WqgbBpqu2ZCaRpqQmm7ZpNnQmnxahpqamhqaEJpyWvJaxpqGmrJa3hthXIMdU9uk2d4bQx1hXKgbKBsoGzxaqBsoGxqaLtmyWvxajVkhWKTZxpqk2e7ZpNn5GWTZ8lreG1CafFqJ29PbslreG3/bydvT26gbPFqGmqgbHhtQmmTZxpqQmmTZ2poQmlCaWpoamhqaGpo8WrJa/FqGmrxaslroGzWcDR0/29qaMlrNHRdc09uoGygbBpqyWtPbvFqu2ZCafFq5GWFYpNnGmqTZ+Rlu2bkZZNnoGx4bRpqamigbE9ueG2gbCdv/294bclryWvJa09ueG1CaeRlQmnJaxpqamhqaGpoamhCaUJpQmlCaRpqGmoaavFqyWvJa6BsrnE0dE9uk2egbOR1NHSgbPFqyWvxanhtJ29CaeRlQmnxartmDGVqaEJp5GXkZbtmu2ZCaaBsyWuTZ2poeG0nb3hteG2gbKBsT24nb6BsyWugbMlrQmlCafFq8WpCaWpoamhCafFq8WpCaZNnQmkaavFq8WrxahpqGmrJa09uhXKFcslrk2cnb+R1rnHxavFqyWvJa3hteG1qaORlGmoaagxlu2bxakJpDGW7ZkJpQmnxaqBsGmq7ZhpqJ29PbqBsoGzJa8lrT24nb6BsGmrJa/FqGmrxaslrQmmTZ0JpQmnxavFqGmpqaGpoGmrxavFq8WoaahpqGmrJa3ht1nCFcslr5GV4bZN3XXMaakJpyWvJa09uJ29CaQxlamjxampou2Yaahpq5GXkZUJpGmoaaslrGmq7ZkJpJ2//b8lrGmrJa6BsoGxPbk9u8WpCaRpq8WqgbMlrQmm7ZpNn8WqgbMlrQmmTZ0JpyWugbPFqQmlCaRpqyWugbMlrGmpPbjR0/2+TZ5NnXXO7dnhtk2caaqBsT25PbvFq5GXkZclr8Wq7ZpNnQmmTZ+RlamjxavFq8WoaampoQml4bf9voGxCafFqeG1PbnhtoGzxahpqyWvxahpq8WrJa2pok2caaslr8WoaakJpQmnxaqBs8WpCaRpq8WrJa6Bs8WpCaUJpyWvWcF1zoGzkZfFq5HU0dBpqamigbKBsoGx4bRpq5GWTZ8lrQmm7ZkJpGmq7ZuRlQmnJa/FqGmoaampo8WonbydvyWtCaclreG2gbMlryWsaakJpyWvJaxpqGmoaakJpQmnxaslrGmoaavFqyWvJa8lr8WoaavFqyWvJa8lrGmpCaRpqyWvJa3ht1nD/b2pok2fWcLt2T267ZkJpeG14bXhtoGy7ZgxlGmrJa5Nnk2caampoDGVqaMlryWsaahpqQmkaanht/294bUJpGmp4bXhtyWvJa/FqamhCaclroGzxakJpamhqaPFqeG3Ja0JpQmnxaqBsoGzJaxpqGmrxaslryWsaakJpQmnxaslr8WrxaidvhXJPbrtmGmo0dAx1yWu7ZhpqeG1PbnhtGmrkZbtm8Woaartmk2dCaZNn5GVCaaBsoGzxahpqQmnJaydv/2+gbEJp8Wp4baBsyWvxakJpamhCaRpqGmrxavFqamhqaMlrT254bRpqQmlCaaBsT26gbBpqGmrxaslryWvxahpqQmkaavFqGmpCaRpqoGyuca5xGmq7Zidvk3eucZNnu2bJa6BsoGzxapNnNWSTZ/FqQmmTZxpqGmqTZ2poeG0nb6BsyWvJa/FqoGz/b3htQmlqaBpq8WoaakJpQmmTZ5NnQmkaavFqoGx4bfFqGmrJaydvJ2+gbBpqQmnJa3htyWsaakJpGmrxavFqGmoaahpqamhCafFqyWsaakJp8Wp4ba5xXXPJa+RloGzkda5xk2e7ZvFqyWvxavFqQmm7Zmpo8WoaampoyWugbEJpamjJa09ueG3xahpqamhCaaBsoGxqaLtmamhCaUJp8Wrxahpq8WrJa8lroGwnb09uoGygbKBsoGygbKBs8WpqaJNnQmkaahpqGmpCaUJpGmrxaslryWvxahpqQmnxaqBsyWtCaUJp8Wp4ba5xXXOgbORl8Wo0dIVyGmq7ZhpqyWvxavFqGmpqaGpoGmpCaUJpyWugbEJpk2caaqBsoGzJaxpqQmlCaclroGwaakJpGmpCaUJp8WqgbKBsGmoaahpqoGxPbk9u8WoaaqBseG3Ja0JpGmrxahpqamhCafFqyWvxahpq8WrJa6BsoGzJa/Fq8WrxavFq8WrxahpqQmlCaRpq8WonbzR0/2/kZeRlhXK7dslrNWSTZ8lryWvxavFqamiTZxpqGmpCafFqT27Ja2poQml4bXhtyWsaampok2caavFqQmlqaEJpQmlqaBpqoGx4baBs8WrxaslrT24nb6BsGmrxaqBseG2gbBpqamgaaslryWvJa/FqyWvxaslryWvJa6BsyWsaakJpGmrxahpqQmlqaEJpQmkaahpq8WrxaqBshXK7dtZw5GVqaDR0NHRCaTVkamjxampoamgaakJpamgaakJpQmmgbCdvyWtqaBpqoGzJa/FqQmlqaJNnGmoaampoQmnJa/FqQmnxanhtT254baBs8WrJa3hteG3JaxpqQmkaavFqyWugbPFqGmoaaslryWvJa8lr8Woaahpq8WrJa8lr8WpCaUJp8WrxahpqQmkaakJpGmrxaslryWugbMlroGyFcpN31nAMZeRl1nCucWpoNWRqaBpqk2dCaclryWvxaslr8WpCaclrJ2/Ja5NnamgaakJpQmlCaUJpamhCafFqGmrxanhtoGzxavFqeG14baBsyWvxahpq8WrJa/FqGmrxavFq8WrxanhtT27Jaxpq8WrJa8lr8WoaahpqGmpCaUJpyWvJa/FqGmoaavFqyWvxavFqGmrxaslr8WrJa8lryWvxaslroGxPboVyXXMaal1jGmrWcKBs5GW7ZvFqQmmTZ/FqoGzxavFq8WpCaUJpeG14bUJpamgaahpqamgaavFqGmoaavFq8WoaaqBseG3Ja/FqyWugbMlroGzJa/Fq8WrxavFq8WrxaslryWvxavFqoGxPbqBsGmpCaRpq8WrxahpqGmoaahpqGmrJa8lroGzJaxpqGmrxaslryWvJa/FqGmoaavFqyWvJa/Fq8WrxavFqeG1dczR08WpdY2po/2+gbLtmamjxakJpk2fxanhtyWugbKBsQmlqaMlroGxCaWpo8WpCabtmQmnJa8lr8WrJa/FqGmrJa3ht8Wrxaslr8WrxaslryWsaahpqyWvxahpq8WrJa8lryWugbMlryWt4bU9u8WpqaEJpyWvxahpqGmrxaslr8WrxaslryWvJa/FqGmoaaslryWvJa8lryWvxavFqyWvxavFqyWvxavFq8WrJa3htrnE0dHhtNWTkZXhteG27ZpNnyWvxampoQmnJa6BseG2gbBpqamgaavFqQmlCafFqyWtCaWpo8WrJa/FqyWvxahpqGmrJa8lr8WrJa8lr8WoaaslryWvJa8lryWsaahpqyWvJa/FqyWvJa8lryWt4baBsGmpCaRpq8WrxavFq8Wrxaslr8WrxaslryWvxahpqGmrxaslryWvJa8lryWvJa/Fq8WrJa8lr8WrxaslryWvxahpq8Wonb4Vy1nBCaQxlGmqgbEJpu2bxaqBs8WpCafFqoGygbKBs8WpCaUJpGmoaakJpGmrJa/FqQmlCaclryWvJa8lr8WoaavFq8WrxavFqyWvJa/Fq8WrJa/Fq8Wrxaslr8WrxavFqyWvJa8lryWvxavFqyWugbKBs8WoaahpqGmrxavFqyWvJa/Fq8WrxavFqyWvxahpqGmrxaslryWvJa8lryWvxaslryWvJa8lr8WrxavFqyWvJa6Bs8WoaavFqT27/b09uGmqTZ0Jp8WpCaWpo8WqgbPFqGmrxaqBsoGzJa/FqGmpCaUJpQmkaavFqyWvxahpqGmrxaslr8WrJa/Fq8WrxavFq8WrxaslryWvxaslryWvJa8lryWvxavFq8WrxaslryWvJa/FqyWvJa/FqyWugbKBs8Woaahpq8WrxavFq8WrJa8lr8WrxavFqyWvxahpqGmoaavFqyWvJa8lryWvxavFq8WrxaslryWvxavFq8WrxaslryWvJa8lr8WrJa3htJ294bfFqamhCaRpqQmlCafFqyWvJaxpqGmrxaslryWvxahpqGmoaakJpGmrxaslr8Woaahpq8WrJa/Fq8WrJa/Fq8Woaahpq8WrxaslryWvJa8lryWvJa8lryWvJa/Fq8WrxaslryWvJa8lryWvxavFqyWugbKBs8WoaavFqyWvJa/Fq8WrJa/FqGmoaavFqyWvxavFq8Wrxaslr8WrJa8lr8WrxavFq8WrJa8lryWvJa8lr8WrJa8lryWvxavFq8WrJa8lroGxPbk9u8WpqaGpo8WrxakJpGmrJa8lrGmoaaslryWvJaxpqGmoaahpqQmkaavFqyWvxahpqGmrxavFq8Wrxaslr8WrxavFq8WrJa/Fq8WrxavFqyWvxavFq8WrxaslryWvxaslryWvJa/FqyWvxavFq8WrxaslryWvJa8lr8WrxavFqyWvxavFqyWvxahpqGmrxaslr8WrxavFq8WrxavFq8WrJa/Fq8WrxavFqyWvJa8lryWvJa8lr8WrxavFqyWvxavFq8WrJa8lryWugbHhteG3Ja0JpamgaavFqGmpCafFqyWvxahpq8WqgbMlr8WoaahpqGmoaahpq8WrxavFq8WoaavFqyWvJa/Fq8WrJa/Fq8WrxavFqyWvJa8lryWvJa8lryWvJa8lryWvJa8lryWvJa8lryWvJa8lr8WrJa8lryWvxaslryWvJa/Fq8WrxaslryWvxavFqGmoaahpq8WrxavFq8WrxavFq8WrxavFq8WrxavFq8WrxavFqyWvJa8lryWvJa8lryWvxavFqyWvxaslryWvJa8lryWvJa8lryWvJa8lryWvxakJpGmrxavFq8Wrxaslr8WrxavFq8WrxahpqGmoaahpqGmoaahpq8WrxavFq8WrJa8lryWvxavFq8WrxavFq8WrxavFqyWvxaslryWvJa/FqyWvJa/FqyWvJa8lryWvJa/FqyWvJa8lr8WrxavFqyWvJa/FqyWvJa8lr8WrxavFq8WrxavFqGmrxavFqGmoaavFqyWvJa/Fq8Wrxaslr8WrxavFq8WrxavFq8WrJa8lryWvJa8lryWvxaslryWvJa8lr8WrxavFq8Wrxaslr8WrxaslryWvxaslryWvJa/FqGmrxavFqGmoaavFq8Wrxahpq8WrxaslryWvxavFqyWvxahpq8WrxavFqyWvxavFq8WrxavFq8WrJa8lryWvxavFqyWvJa8lryWvxaslryWvJa8lryWvJa8lryWvxaslr8WrJa8lryWvxaslryWvxavFq8WrxavFq8Wrxaslr8WrxavFq8WrxavFq8WrxavFq8WoaavFqyWvxavFq8WrJa8lr8WrxaslryWvJa/Fq8WrJa8lryWvJa8lryWvJa/Fq8WrJa/FqyWvJa/Fq8Wrxaslr8WrxavFqyWvJa8lr8Wrxaslr8WrxaslryWvxavFq8WrJa/Fq8WrxavFq8WrxavFq8WrJa/Fq8WrxaslryWvxaslryWvJa8lr8WrJa/FqyWvJa/FqyWvJa/Fq8WrJa/Fq8WrJa8lr8WrJa/FqyWvxavFqyWvxavFqyWvJa8lryWvJa8lr8WrJa/FqyWvJa/Fq8Wrxaslr8WrxavFqyWvxaslr8WrxavFqyWvJa/FqyWvxaslryWvxavFqyWvJa/FqyWvJa8lryWvJa8lryWvJa8lryWvxavFqyWvJa8lryWvJa8lryWvJa8lryWvJa/FqyWvJa8lryWvJa8lryWvxaslryWvxavFqyWvJa/FqyWvxavFq8WrJa/FqyWvxavFq8WrJa8lryWvxaslr8WrxaslryWvJa8lryWvJa8lryWvJa/Fq8WrJa8lryWvJa8lryWvJa8lryWvJa/FqyWvJa8lryWvxaslryWvJa/FqyWvJa/FqyWvJa8lryWvJa/FqyWvJa8lryWvJa8lryWvJa8lryWvJa/FqyWvJa8lryWvxaslryWvxaslryWvxavFqyWvJa/FqyWvJa/FqyWvJa8lr8WrJa8lryWvxaslr8WrJa8lryWvJa8lr8WrJa8lryWvJa8lryWvxavFqyWvxaslryWvJa8lryWvJa8lryWvxavFqyWvJa8lryWvJa8lryWvxaslr8WrxaslryWvJa8lryWvJa8lryWvJa8lryWvJa/FqyWvxaslr8WrJa8lryWvxaslryWvJa8lryWvJa8lryWvJa/FqyWvxaslr8WrJa8lryWvJa8lryWvJa8lryWvxaslr8WrJa8lr8WrJa/FqyWvJa8lr8Wrxaslr8WrJa/Fq8WrJa8lryWvJa8lr8WrJa8lryWvJa8lr8WrxaslryWvJa/FqyWvxavFq8WrJa8lryWvJa8lryWvxaslr8WrxavFq8Wrxaslr8WrxaslryWvxavFqyWvxaslr8WrxavFq8WrJa8lryWvxaslryWvxaslryWvJa8lryWvxavFq8WrJa8lr8WrJa8lryWvxaslryWvJa/FqyWvJa8lryWvJa/FqyWvJa8lryWvxaslr8WrxaslryWvJa/FqyWvJa/FqyWvxaslryWvxaslryWvJa8lr8WrxaslryWvxaslr8WrJa8lryWvxavFqyWvxaslr8Wrxaslr8WrxavFqyWvxavFqyWvxaslr8WrJa8lryWvJa8lr8Wrxaslr8WrxavFq8WrJa/Fq8WrJa8lr8WrJa8lr8WrxavFq8WrxavFq8Wrxahpq8WrxavFq8WrJa/FqyWvxaslr8WrJa8lryWvxaslr8WrJa/Fq8WrxaslryWvxaslryWvJa8lryWvJa/Fq8WrJa/FqyWvJa/FqyWvxaslryWvxavFqyWvJa8lr8WrxaslryWvxaslryWvxaslryWvxaslryWvxaslr8WrxavFq8WrxaslryWvJa/FqyWvJa8lr8WrJa8lryWvxaslr8WrxavFq8WrxavFq8WrxavFq8WrJa8lr8WrxaslryWvJa8lr8WrJa8lr8WrJa/Fq8WrxavFq8Wrxaslr8WrxavFqyWvJa8lryWvJa/FqyWvJa/Fq8WrJa/Fq8WrxavFq8WrxavFq8WrxavFq8WrxaslryWvJa8lr8WrxavFq8Wrxaslr8WrJa8lr8WrJa/FqyWvxavFqyWvxaslryWvxavFq8WrJa/Fq8WrJa8lr8WrxavFqyWvxaslryWvJa/FqyWvJa8lryWvxavFq8WrxaslryWvJa/FqyWvJa8lr8WrJa/Fq8WrxaslryWvJa8lryWvJa/FqyWvJa/Fq8WrJa8lryWvJa8lryWvJa8lryWvxaslryWvJa/Fq8WrJa/Fq8WrxavFqyWvxavFq8WrxaslryWvJa8lr8WrJa8lr8WrJa/Fq8WrxavFqyWvxavFqyWvxaslr8WrxavFq8WrxavFq8WrxavFq8WrxavFqyWvJa/Fq8WrxavFqyWvxaslryWvxavFqyWvxavFqyWvxavFq8WrJa8lryWvJa8lr8Wrxaslr8Wrxaslr8WrxavFqyWvxavFq8WrxavFq8Wrxaslr8WrxavFq8WrJa8lryWvxavFqyWvJa/Fq8WrJa/Fq8WrJa8lryWvJa/Fq8WrxaslryWvxaslryWvJa8lryWvxavFqyWvxaslr8WrJa/Fq8WrxaslryWvxaslryWvJa8lryWvJa8lryWvxavFq8WrJa/FqyWvxavFqyWvJa/Fq8WrxavFqyWvJa8lryWvJa/Fq8WrJa/Fq8WrJa/Fq8WrJa8lr8WrJa8lr8WrJa8lryWvJa8lr8WrJa/Fq8WrJa8lryWvJa8lr8WrxavFqyWvJa/Fq8WrxavFq8WrxaslryWvxavFq8WrJa8lryWvJa/Fq8WrJa/Fq8WrxavFqyWvJa/FqyWvJa8lryWvJa8lryWvxavFq8WrJa8lr8WrxaslryWvJa/FqyWvJa8lr8WrJa/Fq8Wrxaslr8WrxaslryWvxavFq8WrJa/Fq8WrJa8lr8WrJa8lr8WrJa/Fq8WrJa/FqyWvxavFqyWvJa/FqyWvxavFq8WrJa/Fq8WrJa8lryWvxavFqyWvxavFq8WrJa/Fq8WrJa8lryWvxaslr8WrxavFq8WrJa/Fq8Wrxaslr8WrxavFq8WrJa/Fq8WrxavFq8WrJa8lr8WrxavFq8WrxaslryWvJa8lr8WrJa/Fq8Wrxaslr8WrxavFqyWvxaslr8WrxavFq8WrJa/Fq8WrxavFq8Wrxaslr8WrJa/FqyWvxavFq8WrxavFqyWvxaslr8WrxavFq8WrJa/FqyWvxavFq8WrJaxpqyWvxaslrGmrJa/FqyWsaavFq8Woaaslr8WrJaxpqyWsaaslr8WrxahpqyWvxavFqyWsaavFqyWsaaqBsGmoaaqBsGmqgbGpoyWsaaslryWsaaslr8Wrxaslr8WrxavFq8WrxavFq8Wrxahpq8WrxavFq8WrxavFq8WrxavFq8Wrxaslr8WoaaslrGmrxahpq8WrxavFq8WrxavFq8WrxavFqyWvxavFq8WqgbBpqGmrJaxpq8WrJa/FqGmrxaslr8WrxaslrGmrxavFqyWvxaslr8WoaavFqyWsaavFqyWvxahpq8WrJaxpqyWvxaslr8WrJaxpq8WrxavFqGmrJa/Fq8WrxavFq8Woaaslr8WoaaslryWsaaslrQmnJa/FqyWtCaaBsQmnJa/Fq8Woaaslr8WrJa8lr8WpCaclr8WrJa8lrQmnxavFqyWsaavFqGmrJaxpqyWvxaslrQmnxavFqyWvxaqBsGmrxaslr8WoaaslrGmrxaslr8WrJa/FqyWvxavFqQmnJa8lreG0aavFqamjJa6BsoGwaavFq8WrJa6BsQmkaavFqyWvJa8lryWvxahpq8Woaaslr8WqgbMlrQmnxavFqyWvJa/FqQmnJa8lryWvJa/FqQmnJa/FqyWvxaslr8WrJaxpq8WrJa8lr8WrxavFqGmrJa8lr8WrxahpqyWugbPFqGmrxahpq8Wp4bfFqyWvJa/FqyWtCaUJpyWugbPFq8WrJaxpqyWvxahpqGmrxaqBseG3Ja/FqGmrJaxpqoGzJa/Fq8WrxahpqGmrxaslryWvJa/FqyWvJa/FqyWvxavFq8WrJa/Fq8WoaavFq8WrJa/FqyWvJa8lryWvJa/Fq8WrJa/Fq8WrxavFq8WrJaxpq8WrxaslryWvxaslryWvxaslr8WrJa/FqyWvxavFq8WoaaslrGmrxahpqyWvxaqBsyWvJa/Fq8WrxaslryWugbPFqQmnxavFq8WrxavFq8WrJa/FqyWvxaslrGmrJa6Bs8WrxavFqQmnxavFq8WrJa8lroGzJa8lryWvJa8lroGzJa0Jp8WoaavFqoGwaakJpGmpCaclryWvJa/Fq8WrxaslryWugbMlr8WrxaslrGmrxaslr8WrJa/Fq8WrJa/Fq8WrxavFqoGzJa8lr8WoaavFqyWvJa8lr8WrJa8lryWugbBpqamjxaslr8WrxahpqGmrxaslrGmrJa/FqyWugbMlryWvJa8lryWvxavFqyWsaavFq8WoaavFq8WoaavFqQmnxaslr8WrJa8lrQmnJa8lr8WrJa8lr8WrJa/FqQmnxahpqyWvJa8lrGmrxavFq8WrJa/FqGmrJa/Fq8WrJa/Fq8WoaaqBs8Wp4baBs8WrJa8lrGmqgbPFqGmrJaxpq8WrxampoQmnxampo8WoaavFqyWvJa8lroGzJa6BsoGygbKBsyWvJaxpqGmoaahpqGmpCaUJp8WpCafFqyWugbKBsoGx4bXhtoGzJa8lr8WoaahpqamiTZ2poamgaaslrGmrJa/FqoGx4bXhteG14bclroGzJa/Fq8WoaakJpGmpqaGpo8WoaavFqyWvJa8lreG2gbKBsyWvJa/FqGmpqaEJpGmoaavFq8WrJa8lroGygbE9ueG14bfFqQmlqaJNnGmoaahpqQmkaaslroGx4bXhtyWvJa/FqGmrxaslrGmrxavFqGmrxavFqyWugbMlryWvJa/Fq8WrxavFqQmnJa8lr8Wrxahpq8WrJaxpqQmkaaslreG3Ja6Bs8WrJa8lryWsaavFq8WrxahpqamjxavFqGmrJaxpqyWt4bclryWtCaRpq8WrJa8lr8WrxavFqyWvxahpq8WrJa/FqyWvxavFqyWvxavFqyWsaakJpoGygbE9uGmpCaUJpGmrJa3ht8WrJaxpqyWugbPFqGmpqaGpo8WrJa6BsyWvxaslrGmrxavFqyWugbMlr8WoaakJp8WqgbHhtGmqTZxpqyWsnb/FqGmoaaslryWvxavFq8WrJa8lrGmrxavFqyWt4bUJp8WrJa8lryWvxapNnGmqgbHht8WpCaZNn8WqgbPFqyWvJa/FqyWvJa0JpyWvxaqBsoGwaartmamjJa09uT27xartmGmpCaclreG14bfFqQmlCaUJpeG3Ja8lr8WpCafFqGmoaaqBseG2gbBpq8WpqaBpqoGygbMlr8WpCaWpoGmrJa6BsoGzJa5NnQmkaaqBsoGzJaxpqyWuTZxpq8WqgbMlr8WrxaslrGmrJa/FqyWvJaxpq8WrxavFq8WrJa/Fq8WoaaslryWvJaxpq8WrJa/FqGmqgbPFqQmnxavFqeG3xavFq8WpCafFqoGygbPFqk2egbMlr8WoaavFq8WoaavFqT27JaxpqGmoaavFq8WrJa6BsoGwaampo8WqgbMlr8WpCaUJpoGygbMlr8WpCaUJpyWugbMlr8WoaaslryWsaahpq8WrJa8lr8WrxavFqyWvxavFqQmnJa3ht8WoaavFq8WrJa/FqyWtCaRpq8Wp4bclrQmnJa8lrQmnxavFqoGzJaxpqoGwaaslrGmrxaslryWvxahpqQmknb/FqGmoaavFqoGzJaxpqGmrJa8lr8WrxavFq8WrJa/FqyWvJa0Jp8WrJa6Bs8WpCaclroGzxahpqyWvJa/FqyWvxaslrGmpCaclryWvxaslr8WpCaclryWsaaslr8WoaavFqyWvJaxpqk2fxak9u8WpCaclrQmnJa8lr8WrJaxpq8WrJa3htyWtqaMlrT27xahpqQmmgbKBs8WoaavFqyWtCaclr8WpCaclryWvxaslrQmmgbBpqGmrJa/FqyWsaaslroGxqaBpqoGzJa3htk2fxaqBsGmoaaslrGmrJa/Fq8WrxavFq8WoaaqBsyWvxaslramjJa8lrGmrxaqBsyWsaavFqyWvxaqBs8WoaavFq8WrJa8lramjJa8lr8WrxavFq8WrxaqBs8WpCaclrGmrJa/FqamhPbhpqQmkaaslreG0aampoyWvJa8lr5GWgbHhtGmpCafFqyWvJa/FqyWvJaxpq8WrxavFqoGzxavFqyWvxaqBsGmpqaMlr8WrJa8lrQmnxaslrGmrxaslrQmnJa/Fq8WrxakJpoGzJa5Nn8WqgbMlrGmpCaaBsGmrxavFqyWsaakJpyWvxavFqoGxCaRpqoGzxaslrGmrxanhtGmrxavFq8WrJa/FqGmoaaqBs8WpCaclr8WrxaqBsGmrxavFqyWvJaxpqQmnJa8lr8WrxavFqGmrxaslr8WrJaxpqyWvxaslryWsaavFqyWvxavFqyWvxahpq8WrJa8lrGmrJa8lrGmrJa8lr8WrxavFqyWvxaslryWsaavFq8WrJa8lr8WoaaslrGmrJa8lrGmrxaslrGmrJa8lrGmrJa/Fq8Wrxaslr8WoaavFqyWvJa/Fq8WrJa8lr8WrJa/Fq8WrJa8lrGmrxavFq8WrxavFq8Wrxaslr8WrJa/Fq8WrJa/Fq8WrJa/Fq8WrJa/Fq8WrJa/Fq8Wrxaslr8WrxavFqyWvxavFqyWvJa8lr8WrJa/Fq8WrJa/Fq8WrJa8lryWvJa/Fq8WrxavFqyWvxavFqyWvxaslr8Wrxaslr8WrJa/FqyWvxavFqyWvJa/FqyWvJa/Fq8WrJa/FqyWvxaslryWvJa8lr8WrJa/Fq8WrJa8lr8WrxavFqyWvxaslryWvJa8lryWvJa/FqyWvxaslryWvxaslr8Wrxaslr8WrJa8lr8WrJa8lr8WrJa8lr8WrJa8lr8WrxaslryWvJa8lryWvJa8lryWvJa8lr8WrJa/FqyWvJa8lr8WrJa8lryWvJa8lryWvJa8lryWvJa8lr8WrJa/FqyWvxaslr8WrxaslryWvJa8lryWvJa8lryWvxaslryWvJa8lryWvJa8lryWvJa8lr8WrJa8lryWvxavFqyWvJa/Fq8WrJa/FqyWvJa8lr8WrxaslryWvJa/FqyWvxaslryWvJa8lr8WrxaslryWvJa8lryWvJa/Fq8WrxavFqyWvJa8lryWvJa8lryWvJa/FqyWvxaslryWvJa8lryWvJa8lryWvJa/FqyWvJa8lr8WrJa8lryWvxaslryWvJa8lr8WrJa8lr8WrxavFqyWvJa8lryWvJa8lryWvJa/FqyWvxavFqyWvJa8lryWvJa/Fq8WrJa8lryWvJa/FqyWvJa8lryWvxaslryWvxaslryWvxaslryWvJa/FqyWvJa8lryWvJa/Fq8WrJa8lr8WrxavFq8WrJa8lryWvJa8lr8WrJa8lr8WrJa8lryWvJa8lryWvJa/Fq8WrxaslryWvxaslr8WrJa/FqyWvJa8lr8WrJa/FqyWvJa/FqyWvJa8lr8WrxavFq8Wrxaslr8WrxaslryWvxaslr8WrJa/FqyWvJa/Fq8WrxavFq8WrxavFq8WrxavFq8WrxavFq8WrxavFq8WrxavFq8WrxavFqyWvxavFqyWvxaslr8WrJa8lryWvJa8lryWvJa8lryWvJa/FqyWvxaslryWvxavFq8WrxavFq8WrxavFq8WrxavFq8WrxavFq8WrxavFq8WrxaslryWvxaslryWvJa8lryWvJa/FqyWvxavFqyWvxavFq8WrxavFq8WrxavFq8WrxavFqyWvJa8lr8WrJa8lryWvJa8lryWvJa8lr8WrJa/Fq8WrxavFq8WrxavFq8Wrxahpq8WrxavFqyWvJa8lryWvJa8lryWugbKBsoGygbKBsyWvJa8lryWvJa8lr8WrxavFq8WoaahpqGmoaahpqGmoaahpqGmoaavFq8WrxavFqyWvJa8lryWvJa8lryWvJa8lryWvJa/Fq8WrxahpqGmoaahpqGmoaahpqGmoaahpqGmoaavFq8WrxaslryWvJa6BsoGygbKBsoGygbKBseG2gbA==\" type=\"audio/wav\" />\n",
       "                    Your browser does not support the audio element.\n",
       "                </audio>\n",
       "              "
      ],
      "text/plain": [
       "<IPython.lib.display.Audio object>"
      ]
     },
     "execution_count": 47,
     "metadata": {},
     "output_type": "execute_result"
    }
   ],
   "source": [
    "#clear\n",
    "ipd.Audio(sound, rate=2*rate) "
   ]
  },
  {
   "cell_type": "markdown",
   "metadata": {},
   "source": [
    "Make it twice as slow"
   ]
  },
  {
   "cell_type": "code",
   "execution_count": 48,
   "metadata": {},
   "outputs": [
    {
     "data": {
      "text/html": [
       "\n",
       "                <audio controls=\"controls\" >\n",
       "                    <source src=\"data:audio/wav;base64,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\" type=\"audio/wav\" />\n",
       "                    Your browser does not support the audio element.\n",
       "                </audio>\n",
       "              "
      ],
      "text/plain": [
       "<IPython.lib.display.Audio object>"
      ]
     },
     "execution_count": 48,
     "metadata": {},
     "output_type": "execute_result"
    }
   ],
   "source": [
    "#clear\n",
    "ipd.Audio(sound, rate=0.5*rate) "
   ]
  },
  {
   "cell_type": "markdown",
   "metadata": {},
   "source": [
    "### Add noise to the sound"
   ]
  },
  {
   "cell_type": "markdown",
   "metadata": {},
   "source": [
    "Let's modify at random some of the elements of the numpy array. Use the function `array_add_noise` to create the variable `noisy_sound`"
   ]
  },
  {
   "cell_type": "code",
   "execution_count": 49,
   "metadata": {},
   "outputs": [
    {
     "data": {
      "text/plain": [
       "[<matplotlib.lines.Line2D at 0x10efe4898>]"
      ]
     },
     "execution_count": 49,
     "metadata": {},
     "output_type": "execute_result"
    },
    {
     "data": {
      "image/png": "[encoded data removed]",
      "text/plain": [
       "<matplotlib.figure.Figure at 0x10efabba8>"
      ]
     },
     "metadata": {},
     "output_type": "display_data"
    }
   ],
   "source": [
    "#clear\n",
    "noise_level = 0.01*min(sound)\n",
    "prob = 0.4\n",
    "noisy_sound = array_add_noise(sound,prob,noise_level,inplace=False)\n",
    "plt.plot(noisy_sound)"
   ]
  },
  {
   "cell_type": "code",
   "execution_count": 59,
   "metadata": {},
   "outputs": [],
   "source": [
    "# ipd.Audio(noisy_sound, rate=rate) "
   ]
  },
  {
   "cell_type": "markdown",
   "metadata": {},
   "source": [
    "### Scramble the sound!"
   ]
  },
  {
   "cell_type": "markdown",
   "metadata": {},
   "source": [
    "Check this one out! You can play with the number of splits."
   ]
  },
  {
   "cell_type": "code",
   "execution_count": 51,
   "metadata": {
    "collapsed": true
   },
   "outputs": [],
   "source": [
    "split_sound = np.array_split(sound, 8)\n",
    "np.random.shuffle(split_sound)\n",
    "flat_list = [item for sublist in split_sound for item in sublist]"
   ]
  },
  {
   "cell_type": "code",
   "execution_count": 52,
   "metadata": {},
   "outputs": [],
   "source": [
    "# ipd.Audio(np.array(flat_list), rate=rate) "
   ]
  },
  {
   "cell_type": "markdown",
   "metadata": {},
   "source": [
    "### Combine two different sounds"
   ]
  },
  {
   "cell_type": "code",
   "execution_count": 53,
   "metadata": {
    "collapsed": true
   },
   "outputs": [],
   "source": [
    "filename1 = \"odds.wav\"\n",
    "sr1, data1 = wav.read(filename1)\n",
    "sound1 = np.array(data1,dtype=float)"
   ]
  },
  {
   "cell_type": "code",
   "execution_count": 54,
   "metadata": {},
   "outputs": [],
   "source": [
    "# ipd.Audio(data1,rate=sr1) "
   ]
  },
  {
   "cell_type": "code",
   "execution_count": 55,
   "metadata": {
    "collapsed": true
   },
   "outputs": [],
   "source": [
    "filename2 = \"pass.wav\"\n",
    "sr2, data2 = wav.read(filename2)\n",
    "sound2 = np.array(data2,dtype=float)"
   ]
  },
  {
   "cell_type": "code",
   "execution_count": 56,
   "metadata": {},
   "outputs": [],
   "source": [
    "# ipd.Audio(data2,rate=sr2)"
   ]
  },
  {
   "cell_type": "code",
   "execution_count": 57,
   "metadata": {},
   "outputs": [
    {
     "name": "stdout",
     "output_type": "stream",
     "text": [
      "(245376,) (65160,) (310536,)\n"
     ]
    }
   ],
   "source": [
    "data_combined = np.hstack((0.01*sound1,sound2))\n",
    "print(data1.shape, data2.shape,data_combined.shape)\n",
    "# plt.plot(data_combined)"
   ]
  },
  {
   "cell_type": "code",
   "execution_count": 58,
   "metadata": {},
   "outputs": [],
   "source": [
    "# ipd.Audio(data_combined[100000:],rate=(sr1+sr2)/2 )"
   ]
  },
  {
   "cell_type": "markdown",
   "metadata": {},
   "source": [
    "We had to cheat and modify the magnitude of the first sound, so that we could hear both with similar volume. We also had to modify the rate, here using the average. Can you think of better ways to manipulate these two arrays to get something interesting? "
   ]
  }
 ],
 "metadata": {
  "kernelspec": {
   "display_name": "Python 3",
   "language": "python",
   "name": "python3"
  },
  "language_info": {
   "codemirror_mode": {
    "name": "ipython",
    "version": 3
   },
   "file_extension": ".py",
   "mimetype": "text/x-python",
   "name": "python",
   "nbconvert_exporter": "python",
   "pygments_lexer": "ipython3",
   "version": "3.6.3"
  }
 },
 "nbformat": 4,
 "nbformat_minor": 2
}
