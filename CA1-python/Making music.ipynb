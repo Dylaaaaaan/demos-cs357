{
  "cells": [
    {
      "cell_type": "code",
      "execution_count": null,
      "metadata": {
        "collapsed": true
      },
      "outputs": [],
      "source": [
        "import random\n",
        "import matplotlib.pyplot as plt\n",
        "%matplotlib inline\n",
        "import numpy as np\n",
        "\n",
        "import scipy.io.wavfile as wav\n",
        "import IPython.display as ipd"
      ]
    },
    {
      "cell_type": "markdown",
      "metadata": {},
      "source": [
        "# Some introductory functions"
      ]
    },
    {
      "cell_type": "markdown",
      "metadata": {},
      "source": [
        "### List comprehensions"
      ]
    },
    {
      "cell_type": "markdown",
      "metadata": {},
      "source": [
        "List comprehensions are a versatile syntax for mapping a function (or\n",
        "expression) across all elements of a list. Read the function below. Do you understand what is happening with the arguments and retun values?"
      ]
    },
    {
      "cell_type": "code",
      "execution_count": null,
      "metadata": {
        "collapsed": true
      },
      "outputs": [],
      "source": [
        "# The function below accepts a list L\n",
        "# and returns another list with elements of L three times as large\n",
        "def three_ize(L):\n",
        "    # this is an example of a list comprehension\n",
        "    LC = [3 * x for x in L]\n",
        "    return LC"
      ]
    },
    {
      "cell_type": "markdown",
      "metadata": {},
      "source": [
        "What is the return value of `three_ize(list1)`?"
      ]
    },
    {
      "cell_type": "code",
      "execution_count": null,
      "metadata": {
        "collapsed": true
      },
      "outputs": [],
      "source": [
        "list1 = [1,4,5,10]"
      ]
    },
    {
      "cell_type": "code",
      "execution_count": null,
      "metadata": {},
      "outputs": [],
      "source": []
    },
    {
      "cell_type": "markdown",
      "metadata": {},
      "source": [
        "### Write the function `scale`"
      ]
    },
    {
      "cell_type": "markdown",
      "metadata": {},
      "source": [
        "The function should have the following signature:"
      ]
    },
    {
      "cell_type": "code",
      "execution_count": null,
      "metadata": {
        "collapsed": true
      },
      "outputs": [],
      "source": [
        "def scale(L, scale_factor):\n",
        "    '''\n",
        "    returns a list similar to L, except that each element has been\n",
        "    multiplied by scale_factor.\n",
        "    '''  "
      ]
    },
    {
      "cell_type": "code",
      "execution_count": null,
      "metadata": {
        "collapsed": true
      },
      "outputs": [],
      "source": []
    },
    {
      "cell_type": "markdown",
      "metadata": {},
      "source": [
        "Now you can use the function `scale` with the given variable `list`"
      ]
    },
    {
      "cell_type": "code",
      "execution_count": null,
      "metadata": {},
      "outputs": [],
      "source": []
    },
    {
      "cell_type": "markdown",
      "metadata": {},
      "source": [
        "### Write the function `add_2`:"
      ]
    },
    {
      "cell_type": "markdown",
      "metadata": {},
      "source": [
        "The function should have the following signature:"
      ]
    },
    {
      "cell_type": "code",
      "execution_count": null,
      "metadata": {
        "collapsed": true
      },
      "outputs": [],
      "source": [
        "def add_2(L, M):\n",
        "    '''\n",
        "    takes two lists L and M and\n",
        "    returns a single list that is an element-by-element sum of the two arguments\n",
        "    If the arguments are different lengths, the function add_2 should \n",
        "    return a list that is as long as the shorter of the two. \n",
        "    Just ignore the extra elements from the longer list.\n",
        "    '''"
      ]
    },
    {
      "cell_type": "code",
      "execution_count": null,
      "metadata": {
        "collapsed": true
      },
      "outputs": [],
      "source": []
    },
    {
      "cell_type": "markdown",
      "metadata": {},
      "source": [
        "Define two lists, and use your function `add_2`"
      ]
    },
    {
      "cell_type": "code",
      "execution_count": null,
      "metadata": {},
      "outputs": [],
      "source": []
    },
    {
      "cell_type": "markdown",
      "metadata": {},
      "source": [
        "### Write the function `add_scale_2`:"
      ]
    },
    {
      "cell_type": "markdown",
      "metadata": {},
      "source": [
        "The function should have the following signature:"
      ]
    },
    {
      "cell_type": "code",
      "execution_count": null,
      "metadata": {
        "collapsed": true
      },
      "outputs": [],
      "source": [
        "def add_scale_2(L, M, L_scale, M_scale):\n",
        "    '''\n",
        "    takes two lists L and M and two floating-point numbers L_scale and M_scale. \n",
        "    These stand for scale for L and scale for M, respectively.\n",
        "    Returns a single list that is an element-by-element sum of the two inputs, \n",
        "    each scaled by its respective floating-point value. \n",
        "    If the inputs are different lengths, your add_scale_2 should return a list that is\n",
        "    as long as the shorter of the two. Again, just drop any extra elements.\n",
        "     '''"
      ]
    },
    {
      "cell_type": "code",
      "execution_count": null,
      "metadata": {
        "collapsed": true
      },
      "outputs": [],
      "source": []
    },
    {
      "cell_type": "markdown",
      "metadata": {},
      "source": [
        "What is the result of\n",
        "\n",
        "```\n",
        "L1 = [1,3,5,2]\n",
        "L2 = [3,1,4,4]\n",
        "add_scale_2(L1,L2,2,3)\n",
        "```"
      ]
    },
    {
      "cell_type": "code",
      "execution_count": null,
      "metadata": {},
      "outputs": [],
      "source": []
    },
    {
      "cell_type": "markdown",
      "metadata": {},
      "source": [
        "### How can you obtain the same result using numpy arrays?\n",
        "Define two numpy arrays and perform the same operation defined by the function `add_scale_2`"
      ]
    },
    {
      "cell_type": "code",
      "execution_count": null,
      "metadata": {},
      "outputs": [],
      "source": []
    },
    {
      "cell_type": "markdown",
      "metadata": {},
      "source": [
        "### Helper function `add_noise`"
      ]
    },
    {
      "cell_type": "markdown",
      "metadata": {},
      "source": [
        "Take a look at the function below. What is happening to the scalar argument `x`?"
      ]
    },
    {
      "cell_type": "code",
      "execution_count": null,
      "metadata": {
        "collapsed": true
      },
      "outputs": [],
      "source": [
        "def add_noise(x, chance_of_replacing, noise):\n",
        "    \"\"\"add_noise accepts an original value, x\n",
        "       and a fraction named chance_of_replacing.\n",
        "\n",
        "       With the \"chance_of_replacing\" chance, it\n",
        "       returns the number x + noise\n",
        "\n",
        "       Otherwise, it should return x\n",
        "    \"\"\"\n",
        "    r = random.uniform(0, 1)\n",
        "    if r < chance_of_replacing:\n",
        "        return x + noise\n",
        "    else:\n",
        "        return x"
      ]
    },
    {
      "cell_type": "markdown",
      "metadata": {},
      "source": [
        "### Create the function `array_add_noise`"
      ]
    },
    {
      "cell_type": "markdown",
      "metadata": {
        "collapsed": true
      },
      "source": [
        "Create a function `array_add_noise` that replace entries in a numpy array `L` using the helper function above. Entries in the array should be replaced with probability `prob`"
      ]
    },
    {
      "cell_type": "code",
      "execution_count": null,
      "metadata": {
        "collapsed": true
      },
      "outputs": [],
      "source": [
        "def array_add_noise(L,prob,noise):\n",
        "    '''takes a 1D numpy array L, \n",
        "    and modify entries of L using the helper function add_noise\n",
        "    Note that this function should not return a new object,\n",
        "    it should instead modify the given object\n",
        "    '''"
      ]
    },
    {
      "cell_type": "code",
      "execution_count": null,
      "metadata": {
        "collapsed": true
      },
      "outputs": [],
      "source": []
    },
    {
      "cell_type": "markdown",
      "metadata": {},
      "source": [
        "You are given the numpy array:"
      ]
    },
    {
      "cell_type": "code",
      "execution_count": null,
      "metadata": {
        "collapsed": true
      },
      "outputs": [],
      "source": [
        "L = np.array([4,2,5,6,9],dtype=float)"
      ]
    },
    {
      "cell_type": "markdown",
      "metadata": {},
      "source": [
        "What happens to `L` after you call the function `array_add_noise`? Print `L` and `id(L)` before and after the function call. "
      ]
    },
    {
      "cell_type": "code",
      "execution_count": null,
      "metadata": {},
      "outputs": [],
      "source": []
    },
    {
      "cell_type": "markdown",
      "metadata": {},
      "source": [
        "Modify the function `array_add_noise` defined above to take an optional parameter `inplace` which by default is True. \n",
        "When `inplace` is False, the function will create a new numpy array and return it with the modified values, but it won't replace the entries in the original array."
      ]
    },
    {
      "cell_type": "code",
      "execution_count": null,
      "metadata": {
        "collapsed": true
      },
      "outputs": [],
      "source": []
    },
    {
      "cell_type": "markdown",
      "metadata": {},
      "source": [
        "Use the updated `array_add_noise` function to:\n",
        "    1) modify a given numpy array inplace\n",
        "    2) create a new numpy array\n",
        "Print the numpy array before and after the function call. Print the `id`. What do you observe?"
      ]
    },
    {
      "cell_type": "code",
      "execution_count": null,
      "metadata": {},
      "outputs": [],
      "source": []
    },
    {
      "cell_type": "markdown",
      "metadata": {},
      "source": [
        "# Let's start playing with sounds"
      ]
    },
    {
      "cell_type": "markdown",
      "metadata": {},
      "source": [
        "### Create a sinusoidal sound"
      ]
    },
    {
      "cell_type": "code",
      "execution_count": null,
      "metadata": {
        "collapsed": true
      },
      "outputs": [],
      "source": [
        "# Define the duration of the sound we want to create:\n",
        "# duration in seconds\n",
        "duration = 5"
      ]
    },
    {
      "cell_type": "code",
      "execution_count": null,
      "metadata": {
        "collapsed": true
      },
      "outputs": [],
      "source": [
        "# Define the rate of the sound, which is the number of sample points per second\n",
        "DEFAULT_RATE = 44100"
      ]
    },
    {
      "cell_type": "code",
      "execution_count": null,
      "metadata": {
        "collapsed": true
      },
      "outputs": [],
      "source": [
        "# The total number of sample points that define your sound is:\n",
        "nsamples = int(DEFAULT_RATE*duration)"
      ]
    },
    {
      "cell_type": "code",
      "execution_count": null,
      "metadata": {
        "collapsed": true
      },
      "outputs": [],
      "source": [
        "# Then create a numpy array that define the range of the sound, i.e., \n",
        "# nsamples points equaly spaced in the range (0,duration) [s]\n",
        "t = np.linspace(0,duration,nsamples)"
      ]
    },
    {
      "cell_type": "markdown",
      "metadata": {},
      "source": [
        "Create a sound array corresponding to the function\n",
        "\n",
        "$ f(t) = \\sin(220 (2 \\pi t)) + \\sin(224 (2 \\pi t))$"
      ]
    },
    {
      "cell_type": "raw",
      "metadata": {},
      "source": [
        "data = ..."
      ]
    },
    {
      "cell_type": "code",
      "execution_count": null,
      "metadata": {
        "collapsed": true
      },
      "outputs": [],
      "source": []
    },
    {
      "cell_type": "markdown",
      "metadata": {},
      "source": [
        "Use `plt.plot(t,data)` to plot your function:"
      ]
    },
    {
      "cell_type": "code",
      "execution_count": null,
      "metadata": {},
      "outputs": [],
      "source": []
    },
    {
      "cell_type": "markdown",
      "metadata": {},
      "source": [
        "Check the sound you just created!"
      ]
    },
    {
      "cell_type": "code",
      "execution_count": null,
      "metadata": {},
      "outputs": [],
      "source": [
        "#ipd.Audio(data,rate=DEFAULT_RATE)"
      ]
    },
    {
      "cell_type": "markdown",
      "metadata": {},
      "source": [
        "You can also try different functions!"
      ]
    },
    {
      "cell_type": "markdown",
      "metadata": {},
      "source": [
        "### Create a music note"
      ]
    },
    {
      "cell_type": "markdown",
      "metadata": {},
      "source": [
        "Let's make the sound of the A5 note. (https://en.wikipedia.org/wiki/Piano_key_frequencies)"
      ]
    },
    {
      "cell_type": "code",
      "execution_count": null,
      "metadata": {
        "collapsed": true
      },
      "outputs": [],
      "source": [
        "# We want to have the note played for 0.5 seconds\n",
        "duration = 0.5\n",
        "# Define the rate\n",
        "rate = DEFAULT_RATE\n",
        "# The number of samples needed is\n",
        "nsamples = int(rate*duration)\n",
        "# # The frequency of A5 is 880. \n",
        "freq = 880\n",
        "t = np.linspace(0, duration, nsamples)\n",
        "data = np.sin(freq*2*np.pi*t)\n",
        "#ipd.Audio(data,rate=rate)"
      ]
    },
    {
      "cell_type": "markdown",
      "metadata": {},
      "source": [
        "### Write a function `make_note` "
      ]
    },
    {
      "cell_type": "markdown",
      "metadata": {},
      "source": [
        "Just add the steps described above to define the function `make_note`"
      ]
    },
    {
      "cell_type": "code",
      "execution_count": null,
      "metadata": {
        "collapsed": true
      },
      "outputs": [],
      "source": [
        "def make_note(freq, duration=0.3, rate=DEFAULT_RATE):\n",
        "    '''\n",
        "    receives as arguments:\n",
        "        - frequency of the note (freq)\n",
        "        - duration of the sound (set as default equal to 0.3)\n",
        "        - rate (samples per second)\n",
        "    and returns:\n",
        "        - np.array data with the beep\n",
        "    '''"
      ]
    },
    {
      "cell_type": "code",
      "execution_count": null,
      "metadata": {
        "collapsed": true
      },
      "outputs": [],
      "source": []
    },
    {
      "cell_type": "markdown",
      "metadata": {},
      "source": [
        "Use `note = make_note(...)` function to create the following sounds:\n",
        "\n",
        "note | duration | freq\n",
        "--- | --- | --- \n",
        "A<sub>4</sub> | 3 | 440\n",
        "C<sub>4</sub> | 4 | 261.6256\n",
        "\n",
        "Then you can plot the sound array using:\n",
        "\n",
        "`plt.plot(note)`\n",
        "\n",
        "And listen to the sound using:\n",
        "\n",
        "`ipd.Audio(note,rate=DEFAULT_RATE)`"
      ]
    },
    {
      "cell_type": "code",
      "execution_count": null,
      "metadata": {},
      "outputs": [],
      "source": []
    },
    {
      "cell_type": "markdown",
      "metadata": {},
      "source": [
        "### Modify the function `make_note`  so that it parabolically decays to zero over the time duration of the sound"
      ]
    },
    {
      "cell_type": "markdown",
      "metadata": {},
      "source": [
        "We need a ramp function, which starts with value equal to 1 and finishes with value of zero, and includes nsamples data points"
      ]
    },
    {
      "cell_type": "code",
      "execution_count": null,
      "metadata": {
        "collapsed": true
      },
      "outputs": [],
      "source": [
        "ramp = np.linspace(0, 1, nsamples)"
      ]
    },
    {
      "cell_type": "markdown",
      "metadata": {},
      "source": [
        "Check the function that gives the linear decay:\n",
        "\n",
        "`plt.plot(1-ramp)`\n",
        "\n",
        "And also the functin that gives the parabolical decay\n",
        "\n",
        "`plt.plot((1-ramp)**2)`"
      ]
    },
    {
      "cell_type": "code",
      "execution_count": null,
      "metadata": {},
      "outputs": [],
      "source": []
    },
    {
      "cell_type": "markdown",
      "metadata": {},
      "source": [
        "Modify the function `make_note` so that it applies the decay above to the data array"
      ]
    },
    {
      "cell_type": "code",
      "execution_count": null,
      "metadata": {
        "collapsed": true
      },
      "outputs": [],
      "source": []
    },
    {
      "cell_type": "markdown",
      "metadata": {},
      "source": [
        "Use your function to create the note A<sub>8</sub> (freq=7040) with duration of 2 seconds. Then plot the sound array using `plt.plot(note)` and listen to the sound using `ipd.Audio(note,rate=DEFAULT_RATE)`"
      ]
    },
    {
      "cell_type": "code",
      "execution_count": null,
      "metadata": {},
      "outputs": [],
      "source": []
    },
    {
      "cell_type": "markdown",
      "metadata": {},
      "source": [
        "### Make music"
      ]
    },
    {
      "cell_type": "markdown",
      "metadata": {},
      "source": [
        "You can use numpy.hstack to combine notes to make music.\n",
        "Try to make a music by using the frequencies in `freq_example` consecutively, using the same duration for all notes. Store the combined array in the variable `music`."
      ]
    },
    {
      "cell_type": "code",
      "execution_count": null,
      "metadata": {
        "collapsed": true
      },
      "outputs": [],
      "source": [
        "freq_example = [261.6256,293.6648,329.6276,349.2282,391.9954,440.0000,493.8833,523.2511]"
      ]
    },
    {
      "cell_type": "code",
      "execution_count": null,
      "metadata": {
        "collapsed": true
      },
      "outputs": [],
      "source": [
        "music = ..."
      ]
    },
    {
      "cell_type": "code",
      "execution_count": null,
      "metadata": {
        "collapsed": true
      },
      "outputs": [],
      "source": []
    },
    {
      "cell_type": "markdown",
      "metadata": {},
      "source": [
        "Listen to the music you created using `ipd.Audio(music,rate=DEFAULT_RATE)`"
      ]
    },
    {
      "cell_type": "code",
      "execution_count": null,
      "metadata": {},
      "outputs": [],
      "source": []
    },
    {
      "cell_type": "markdown",
      "metadata": {},
      "source": [
        "What did you get?"
      ]
    },
    {
      "cell_type": "markdown",
      "metadata": {},
      "source": [
        "### We can make \"real\" music :-)"
      ]
    },
    {
      "cell_type": "markdown",
      "metadata": {},
      "source": [
        "![title](ballgame.png)"
      ]
    },
    {
      "cell_type": "markdown",
      "metadata": {},
      "source": [
        "Here is how we could write the song above:"
      ]
    },
    {
      "cell_type": "markdown",
      "metadata": {},
      "source": [
        "note | duration | freq\n",
        "--- | --- | --- \n",
        "C | 2 | 261.626\n",
        "C | 1 | 523.251\n",
        "A | 1 | 440.0\n",
        "G | 1 | 391.995\n",
        "E | 1 | 329.628\t\n",
        "G | 3 | 391.995\n",
        "D | 3 | 293.665"
      ]
    },
    {
      "cell_type": "markdown",
      "metadata": {},
      "source": [
        "We enter the above information as a list of lists:"
      ]
    },
    {
      "cell_type": "code",
      "execution_count": null,
      "metadata": {
        "collapsed": true
      },
      "outputs": [],
      "source": [
        "notes = [\n",
        "    [2,261.626],\n",
        " [1,523.251],\n",
        " [1,440.000],\n",
        " [1,391.995],\n",
        " [1,329.628],\n",
        " [3,391.995],\n",
        " [3,293.665]]"
      ]
    },
    {
      "cell_type": "markdown",
      "metadata": {},
      "source": [
        "where `notes[i]` gives the list [duration,freq] for the note `i`. You can again use hstack (or any other method you want) to combine the notes to make music.\n",
        "\n",
        "Create the numpy array `music` using the list `notes` above, and play the music using \n",
        "\n",
        "`ipd.Audio(music,rate=DEFAULT_RATE)`"
      ]
    },
    {
      "cell_type": "markdown",
      "metadata": {},
      "source": [
        "### Name the music!\n",
        "I will now give you different notes, and you will tell me the name of the music."
      ]
    },
    {
      "cell_type": "code",
      "execution_count": null,
      "metadata": {
        "collapsed": true
      },
      "outputs": [],
      "source": []
    },
    {
      "cell_type": "code",
      "execution_count": null,
      "metadata": {},
      "outputs": [],
      "source": []
    },
    {
      "cell_type": "markdown",
      "metadata": {},
      "source": [
        "### Let's listen to movie sound clips"
      ]
    },
    {
      "cell_type": "code",
      "execution_count": null,
      "metadata": {},
      "outputs": [],
      "source": [
        "# Name the movie!\n",
        "ipd.Audio(\"swnotry.wav\")"
      ]
    },
    {
      "cell_type": "code",
      "execution_count": null,
      "metadata": {},
      "outputs": [],
      "source": [
        "# Name the movie!\n",
        "ipd.Audio(\"honest.wav\")"
      ]
    },
    {
      "cell_type": "markdown",
      "metadata": {},
      "source": [
        "### Inspect the type of the data in `music_data`"
      ]
    },
    {
      "cell_type": "code",
      "execution_count": null,
      "metadata": {},
      "outputs": [],
      "source": [
        "# scipy.io.wavfile.read: return the sample rate (in samples/sec) and data from a WAV file\n",
        "filename = \"honest.wav\"\n",
        "rate, music_data = wav.read(filename)\n",
        "print(\"The sound has rate (in samples per second) = \", rate)\n",
        "print(\"The data has\", len(music_data), \"sample points\")\n",
        "print(type(music_data))"
      ]
    },
    {
      "cell_type": "markdown",
      "metadata": {},
      "source": [
        "We can also play the `music_data` array obtained using `wav.read`:\n",
        "\n",
        "sound = np.array(music_data,dtype=float)\n",
        "\n",
        "plt.plot(sound)\n",
        "\n",
        "And we use the same `rate` to play the audio\n",
        "\n",
        "ipd.Audio(sound, rate=rate) "
      ]
    },
    {
      "cell_type": "code",
      "execution_count": null,
      "metadata": {},
      "outputs": [],
      "source": []
    },
    {
      "cell_type": "markdown",
      "metadata": {},
      "source": [
        "### Change the speed of the sound"
      ]
    },
    {
      "cell_type": "markdown",
      "metadata": {},
      "source": [
        "Make it twice as fast"
      ]
    },
    {
      "cell_type": "code",
      "execution_count": null,
      "metadata": {},
      "outputs": [],
      "source": []
    },
    {
      "cell_type": "markdown",
      "metadata": {},
      "source": [
        "Make it twice as slow"
      ]
    },
    {
      "cell_type": "code",
      "execution_count": null,
      "metadata": {},
      "outputs": [],
      "source": []
    },
    {
      "cell_type": "markdown",
      "metadata": {},
      "source": [
        "### Add noise to the sound"
      ]
    },
    {
      "cell_type": "markdown",
      "metadata": {},
      "source": [
        "Let's modify at random some of the elements of the numpy array. \n",
        "\n",
        "Use the function `array_add_noise` to create the variable `noisy_sound`\n",
        "\n",
        "`noisy_sound = array_add_noise(sound, ...)`\n",
        "\n",
        "Choose the probability and the noise level"
      ]
    },
    {
      "cell_type": "code",
      "execution_count": null,
      "metadata": {},
      "outputs": [],
      "source": []
    },
    {
      "cell_type": "markdown",
      "metadata": {},
      "source": [
        "Then you can plot and play:\n",
        "    \n",
        "plt.plot(noisy_sound)\n",
        "\n",
        "ipd.Audio(noisy_sound, rate=rate) "
      ]
    },
    {
      "cell_type": "code",
      "execution_count": null,
      "metadata": {},
      "outputs": [],
      "source": []
    },
    {
      "cell_type": "markdown",
      "metadata": {},
      "source": [
        "### Scramble the sound!"
      ]
    },
    {
      "cell_type": "markdown",
      "metadata": {},
      "source": [
        "Check this one out! You can play with the number of splits."
      ]
    },
    {
      "cell_type": "code",
      "execution_count": null,
      "metadata": {
        "collapsed": true
      },
      "outputs": [],
      "source": [
        "split_sound = np.array_split(sound, 8)\n",
        "np.random.shuffle(split_sound)\n",
        "flat_list = [item for sublist in split_sound for item in sublist]"
      ]
    },
    {
      "cell_type": "code",
      "execution_count": null,
      "metadata": {
        "collapsed": true
      },
      "outputs": [],
      "source": [
        "# ipd.Audio(np.array(flat_list), rate=rate) "
      ]
    },
    {
      "cell_type": "markdown",
      "metadata": {},
      "source": [
        "### Combine two different sounds"
      ]
    },
    {
      "cell_type": "markdown",
      "metadata": {},
      "source": [
        "Let's have fun with these audio clips!"
      ]
    },
    {
      "cell_type": "code",
      "execution_count": null,
      "metadata": {
        "collapsed": true
      },
      "outputs": [],
      "source": [
        "filename1 = \"odds.wav\"\n",
        "sr1, data1 = wav.read(filename1)\n",
        "sound1 = np.array(data1,dtype=float)"
      ]
    },
    {
      "cell_type": "code",
      "execution_count": null,
      "metadata": {},
      "outputs": [],
      "source": [
        "#ipd.Audio(data1,rate=sr1) "
      ]
    },
    {
      "cell_type": "code",
      "execution_count": null,
      "metadata": {
        "collapsed": true
      },
      "outputs": [],
      "source": [
        "filename2 = \"pass.wav\"\n",
        "sr2, data2 = wav.read(filename2)\n",
        "sound2 = np.array(data2,dtype=float)"
      ]
    },
    {
      "cell_type": "code",
      "execution_count": null,
      "metadata": {},
      "outputs": [],
      "source": [
        "#ipd.Audio(data2,rate=sr2)"
      ]
    },
    {
      "cell_type": "code",
      "execution_count": null,
      "metadata": {},
      "outputs": [],
      "source": [
        "data_combined = np.hstack((0.01*sound1,sound2))\n",
        "print(data1.shape, data2.shape,data_combined.shape)\n",
        "# plt.plot(data_combined)"
      ]
    },
    {
      "cell_type": "code",
      "execution_count": null,
      "metadata": {
        "collapsed": true
      },
      "outputs": [],
      "source": [
        "# ipd.Audio(data_combined[100000:],rate=(sr1+sr2)/2 )"
      ]
    },
    {
      "cell_type": "markdown",
      "metadata": {},
      "source": [
        "We had to cheat and modify the magnitude of the first sound, so that we could hear both with similar volume. We also had to modify the rate, here using the average. Can you think of better ways to manipulate these two arrays to get something interesting? "
      ]
    }
  ],
  "metadata": {
    "kernelspec": {
      "display_name": "Python 3",
      "language": "python",
      "name": "python3"
    },
    "language_info": {
      "codemirror_mode": {
        "name": "ipython",
        "version": 3
      },
      "file_extension": ".py",
      "mimetype": "text/x-python",
      "name": "python",
      "nbconvert_exporter": "python",
      "pygments_lexer": "ipython3",
      "version": "3.6.9"
    }
  },
  "nbformat": 4,
  "nbformat_minor": 2
}