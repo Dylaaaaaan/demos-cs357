{
 "cells": [
  {
   "cell_type": "code",
   "execution_count": null,
   "metadata": {
    "collapsed": true
   },
   "outputs": [],
   "source": [
    "import numpy as np\n",
    "import matplotlib as mpl\n",
    "import matplotlib.pyplot as plt\n",
    "%matplotlib inline\n",
    "import seaborn as sns\n",
    "sns.set(font_scale=1.5)\n",
    "plt.style.use('seaborn-whitegrid')\n",
    "mpl.rcParams['figure.figsize'] = (10.0, 8.0)"
   ]
  },
  {
   "cell_type": "markdown",
   "metadata": {},
   "source": [
    "# Distribution of Floating Point Numbers"
   ]
  },
  {
   "cell_type": "markdown",
   "metadata": {},
   "source": [
    "Recall that any positive number $x$ in a normalized binary floating-point system is of the form:\n",
    "\n",
    "$x = 1.a_1a_2a_3\\dots a_n \\times 2^m,$\n",
    "\n",
    "where $n$ is the number of bits stored in the fractional part of the significand, $a_i \\in \\{0,1\\}$ are the bits themselves, and $m \\in [L,U]$ is the exponent."
   ]
  },
  {
   "cell_type": "markdown",
   "metadata": {},
   "source": [
    "Suppose we have a binary floating point system with $n = 3$, an exponent range of $[L,U] = [-4,4]$, and we want to generate a list of all the **positive normalized** numbers in this floating point system in ascending order.  We would like to store their representation in the standard **decimal** system.\n",
    "\n",
    "That is, our list should look like this:\n",
    "\n",
    "- $1.000 \\times 2^{-4} = .0625$\n",
    "- $1.001 \\times 2^{-4} = .0703125$\n",
    "- $1.010 \\times 2^{-4} = .078125$\n",
    "- $1.011 \\times 2^{-4} = .0859375$\n",
    "- $\\dots$\n",
    "- $1.111 \\times 2^{-4} = .1171875$\n",
    "- $1.000 \\times 2^{-3} = .125$\n",
    "- $1.001 \\times 2^{-3} = .140625$\n",
    "- $\\dots$\n",
    "- $1.110 \\times 2^4 = 28$\n",
    "- $1.111 \\times 2^4 = 30$"
   ]
  },
  {
   "cell_type": "markdown",
   "metadata": {},
   "source": [
    "In order to do so, let's recall that the binary representation means:\n",
    "\n",
    "$ 1.a_1a_2a_3 \\times 2^m = \\left(1 + \\frac{a_1}{2} + \\frac{a_2}{2^2} + \\frac{a_3}{2^3}\\right)\\times 2^m$"
   ]
  },
  {
   "cell_type": "markdown",
   "metadata": {},
   "source": [
    "We will give you the nested loop to generate all the numbers in the list in decimal format using this expression. Just run the code snippet below:"
   ]
  },
  {
   "cell_type": "code",
   "execution_count": null,
   "metadata": {
    "collapsed": true
   },
   "outputs": [],
   "source": [
    "base = 2\n",
    "exponent_min = -4\n",
    "exponent_max = 4\n",
    "\n",
    "fp_3 = []\n",
    "for m in range(exponent_min,exponent_max + 1):\n",
    "    for a_1 in range(0,base):\n",
    "        for a_2 in range(0,base):\n",
    "            for a_3 in range(0,base):\n",
    "                significand = 1 + a_1*base**-1 + a_2*base**-2 + a_3*base**-3\n",
    "                new_number = significand * base**m\n",
    "                fp_3.append(new_number)     "
   ]
  },
  {
   "cell_type": "code",
   "execution_count": null,
   "metadata": {
    "collapsed": true
   },
   "outputs": [],
   "source": [
    "print(fp_3[:4]) # first four number\n",
    "print(fp_3[-2:]) # last two numbers"
   ]
  },
  {
   "cell_type": "markdown",
   "metadata": {},
   "source": [
    "Ok, it seems to be working.  However, we used 4 loops: 1 for the exponent, and 1 for each bit in the fraction.  So if we want to do the same thing for a floating point system for $n = 23$, like IEEE single precision, we would need 24 loops!  That's way too much!"
   ]
  },
  {
   "cell_type": "markdown",
   "metadata": {},
   "source": [
    "There's a simpler way to express these floating point numbers.  Let's examine the first 4 numbers:\n",
    "- $1.000 \\times 2^{-4} = \\left(1 + \\frac{0}{2^1} + \\frac{0}{2^2} +  \\frac{0}{2^3}\\right) \\times 2^{-4} = \\left(1 + \\frac{0}{2^3}\\right)\\times 2^{-4}$\n",
    "- $1.001 \\times 2^{-4} = \\left(1 + \\frac{0}{2^1} + \\frac{0}{2^2} +  \\frac{1}{2^3}\\right) \\times 2^{-4} = \\left(1 + \\frac{1}{2^3}\\right)\\times 2^{-4}$\n",
    "- $1.010 \\times 2^{-4} = \\left(1 + \\frac{0}{2^1} + \\frac{1}{2^2} +  \\frac{0}{2^3}\\right) \\times 2^{-4} = \\left(1 + \\frac{1}{2^2}\\right)\\times 2^{-4} = \\left(1 + \\frac{2}{2^3}\\right) \\times 2^{-4}$\n",
    "- $1.011 \\times 2^{-4} = \\left(1 + \\frac{0}{2^1} + \\frac{1}{2^2} +  \\frac{1}{2^3}\\right) \\times 2^{-4} = \\left(1 + \\frac{1}{2^2} + \\frac{1}{2^3}\\right)\\times 2^{-4} = \\left(1 + \\frac{2}{2^3} + \\frac{1}{2^3}\\right)\\times 2^{-4} = \\left(1 + \\frac{3}{2^3}\\right) \\times 2^{-4}$\n",
    "\n",
    "Are you seeing a pattern?  Use this to generate all the positive floating point numbers in a binary system with $n = 4$ stored bits, and exponent range $[L,U] = [-5,5]$.  You should only need two loops.\n",
    "\n",
    "Write a code snippet to that creates the variable list `fp_numbers`, storing all the floating numbers in ascending order"
   ]
  },
  {
   "cell_type": "code",
   "execution_count": null,
   "metadata": {
    "collapsed": true
   },
   "outputs": [],
   "source": []
  },
  {
   "cell_type": "markdown",
   "metadata": {
    "collapsed": true
   },
   "source": [
    "Print the resulting numbers you stored in `fp_numbers`. You should check the following:\n",
    "\n",
    "- What are the largest and smallest positive number in your floating point system?\n",
    "- What is the range of integer numbers that you can represent **exactly**?  \n",
    "- Do the answers to these questions make sense? Think about the expressions you derived in previous lectures. Do you think your implementation is correct?"
   ]
  },
  {
   "cell_type": "code",
   "execution_count": null,
   "metadata": {
    "collapsed": true
   },
   "outputs": [],
   "source": []
  },
  {
   "cell_type": "markdown",
   "metadata": {},
   "source": [
    "### What is machine epsilon for this floating point system?\n",
    "\n",
    "The index() method returns the index of the element `x` in the list `fp_numbers`:\n",
    "\n",
    "```\n",
    "ind = fp_numbers.index(x)\n",
    "```\n",
    "\n",
    "Recall that machine epsilon is the gap between 1 and the **next larger** floating point number. How can you use the method above to obtain machine epsilon?"
   ]
  },
  {
   "cell_type": "code",
   "execution_count": null,
   "metadata": {
    "collapsed": true
   },
   "outputs": [],
   "source": [
    "# Write some code here\n",
    "eps_machine = ...\n",
    "print('Machine Epsilon is:', eps_machine)"
   ]
  },
  {
   "cell_type": "markdown",
   "metadata": {},
   "source": [
    "What is the underflow level for this floating point system?"
   ]
  },
  {
   "cell_type": "code",
   "execution_count": null,
   "metadata": {
    "collapsed": true
   },
   "outputs": [],
   "source": [
    "UFL = ...\n",
    "print('Underflow Level is:', UFL)"
   ]
  },
  {
   "cell_type": "markdown",
   "metadata": {},
   "source": [
    "Check if the numbers you obtained above are consistent with the definitions you obtained in previous lectures. "
   ]
  },
  {
   "cell_type": "markdown",
   "metadata": {},
   "source": [
    "### Display a plot of the density of the floating point numbers in this system"
   ]
  },
  {
   "cell_type": "markdown",
   "metadata": {},
   "source": [
    "Use the plotting function below to see the distribution of the floating point numbers you obtained above:"
   ]
  },
  {
   "cell_type": "code",
   "execution_count": null,
   "metadata": {
    "collapsed": true
   },
   "outputs": [],
   "source": [
    "plt.figure(figsize=(12,2))\n",
    "plt.plot(fp_numbers, np.ones_like(fp_numbers), \"o\");\n",
    "plt.title('Distribution of all Floating Point Numbers')"
   ]
  },
  {
   "cell_type": "markdown",
   "metadata": {},
   "source": [
    "### Let's check the gaps between two adjacent floating point numbers. \n",
    "\n",
    "We will be using the helper function `number_scale` to plot the floating point numbers `fp_numbers` for a given interval `[start,end]`."
   ]
  },
  {
   "cell_type": "code",
   "execution_count": null,
   "metadata": {
    "collapsed": true
   },
   "outputs": [],
   "source": [
    "def number_scale(fp_numbers,start,end):\n",
    "    plt.figure(figsize=(10,1))\n",
    "    plt.plot(fp_numbers, np.ones_like(fp_numbers), \"o\",clip_on = True, markersize=12);\n",
    "    plt.axis([start,end, 0.95, 1.05])\n",
    "    plt.title('Numbers between ' + str(start)+ ' and ' +  str(end))\n",
    "    cur_axes = plt.gca()\n",
    "    cur_axes.get_yaxis().set_ticklabels([]);"
   ]
  },
  {
   "cell_type": "markdown",
   "metadata": {},
   "source": [
    "#### Use the function `number_scale` to plot FP numbers between integers:\n",
    "Try the intervals $[1,2]$, $[2,3]$ and $[4,5]$"
   ]
  },
  {
   "cell_type": "code",
   "execution_count": null,
   "metadata": {
    "collapsed": true
   },
   "outputs": [],
   "source": []
  },
  {
   "cell_type": "markdown",
   "metadata": {},
   "source": [
    "What do you observe about the gap between these numbers?\n",
    "- What is the gap between FP numbers in the interval $[1,2]$?\n",
    "- What is the gap between FP numbers in the interval $[2,3]$?\n",
    "- What is the gap between FP numbers in the interval $[4,5]$?\n",
    "\n",
    "Answer the questions above using the \"gap definition\" you learned in class, and also by evaluating the difference between to consecutive FP numbers on that interval. You should be getting the same thing (but using the definition is a lot more convenient :-) )"
   ]
  },
  {
   "cell_type": "code",
   "execution_count": null,
   "metadata": {
    "collapsed": true
   },
   "outputs": [],
   "source": []
  },
  {
   "cell_type": "markdown",
   "metadata": {},
   "source": [
    "When using this system with n=4 and exponent range $[L,U] = [-5,5]$, what is the bound for the absolute error due to rounding? Think of the more general answer, and check how it applies in the 3 intervals illustrated above.\n",
    "\n",
    "For example, suppose you want to represent the number `4.6`. Without doing any calculation to obtain the exact error due to rounding, can you give a bound for that error?"
   ]
  },
  {
   "cell_type": "code",
   "execution_count": null,
   "metadata": {
    "collapsed": true
   },
   "outputs": [],
   "source": []
  },
  {
   "cell_type": "markdown",
   "metadata": {},
   "source": [
    "#### Use the function `number_scale` to plot FP numbers between powers of two:\n",
    "Try the intervals  $[2^{-5},2^{-4}]$,  $[2^{-3},2^{-2}]$ and $[2^2,2^3]$"
   ]
  },
  {
   "cell_type": "code",
   "execution_count": null,
   "metadata": {
    "collapsed": true
   },
   "outputs": [],
   "source": []
  },
  {
   "cell_type": "markdown",
   "metadata": {},
   "source": [
    "It looks like the gap is the same... Don't be fooled! Remember that we are now plotting ranges that are different! Use the definition of the gap to determine the distance between two consecutive numbers in each one of the intervals above."
   ]
  },
  {
   "cell_type": "code",
   "execution_count": null,
   "metadata": {
    "collapsed": true
   },
   "outputs": [],
   "source": []
  },
  {
   "cell_type": "markdown",
   "metadata": {},
   "source": [
    "When using this system with n=4 and exponent range $[L,U] = [-5,5]$, what is the bound for the **relative** error due to rounding? "
   ]
  },
  {
   "cell_type": "markdown",
   "metadata": {},
   "source": [
    "Suppose you want to represent the number `5.1`. Determine the relative error (use rounding to the nearest). Does it satisfy the bound above?"
   ]
  },
  {
   "cell_type": "code",
   "execution_count": null,
   "metadata": {
    "collapsed": true
   },
   "outputs": [],
   "source": []
  },
  {
   "cell_type": "markdown",
   "metadata": {},
   "source": [
    "You can test your finding that the relative error between two consecutive floating point numbers is smaller than machine epsilon. \n",
    "\n",
    "Write a code snippet that loops over `fp_numbers` and calculates the relative errors between two consecutive numbers in the list. Check if the error is <= machine epsilon. You should be getting True values for the entire list.\n"
   ]
  },
  {
   "cell_type": "code",
   "execution_count": null,
   "metadata": {
    "collapsed": true
   },
   "outputs": [],
   "source": []
  },
  {
   "cell_type": "markdown",
   "metadata": {},
   "source": [
    "# Ternary Floating Point System\n",
    "The [Setun Computer](https://en.wikipedia.org/wiki/Setun) was a computer built in the Soviet Union in 1958 by Ukrainian computer scientist [Nikolay Brusentsov](http://en.uacomputing.com/persons/brusentsov/).  It used *ternary* logic rather than binary.  In Brusentov's own words: ''Computer science cannot limit itself to the universally-accepted binary system; the base should be ternary''.  He argued that ternary logic was a better representation of the way humans think; unfortunately for him, it never caught on."
   ]
  },
  {
   "cell_type": "markdown",
   "metadata": {},
   "source": [
    "### Base 3 floating point system\n",
    "\n",
    "\n",
    "This means floating-point arithmetic was done in base 3, not base 2, as is standard today.  Rather than using ''bits'', the architecture of this computer dependend on ''trits'' that can take three values instead of two.\n",
    "\n",
    "We'll will implement a standardized ternary floating point system, where any positive number $x$ can be written as\n",
    "\n",
    "$x = a_0.a_1a_2\\dots a_{n-1} \\times 3^m$.\n",
    "\n",
    "The exponent $m \\in [L,U]$ is essentially identical to the exponent in the binary case.  However, there are some important differences between here and the normalized binary representation.\n",
    "\n",
    "1. The base is now equal to 3, not 2.  Hence the $3^m$, instead of $2^m$.\n",
    "  \n",
    "2. Each of the ''trits'' $a_1,a_2,\\dots,a_{n-1}$ can now take any of the 3 values in $\\{0,1,2\\}$.\n",
    "  \n",
    "3. In a normalized binary system, the leading bit is always equal to 1.  But in normalized ternary system the leading ''trit'' $a_0$ can take either the value 1 or 2.  It cannot be zero, because this is a **normalized** floating point system\n",
    "  \n",
    "4. Because $a_0$ can vary, the leading trit must be explicitly stored.  This is not the case with normalized binary systems.  That's also why we stopped at $a_{n-1}$ instead of going to $a_n$.  In binary, we get one extra bit of precision because we don't need to store the leading one."
   ]
  },
  {
   "cell_type": "markdown",
   "metadata": {},
   "source": [
    "Just like for the binary system beforehand, write a loop that collects all floating point numbers in a given ternary floating point system.  We'll use comparable parameters: i.e we use $n = 4$ trits, and have an exponent range of $m \\in [-5,5]$.\n",
    "\n",
    "Your loop will be similar to the one you wrote above, but not exactly.  Make sure you take into account the differences between the two systems!"
   ]
  },
  {
   "cell_type": "code",
   "execution_count": null,
   "metadata": {
    "collapsed": true
   },
   "outputs": [],
   "source": []
  },
  {
   "cell_type": "markdown",
   "metadata": {},
   "source": [
    "### Density of Ternary Floating Point Numbers"
   ]
  },
  {
   "cell_type": "code",
   "execution_count": null,
   "metadata": {
    "collapsed": true
   },
   "outputs": [],
   "source": [
    "plt.figure(figsize=(12,2))\n",
    "plt.plot(fp_ternary, np.ones_like(fp_ternary), \"o\");\n",
    "plt.title('Distribution of Ternary Floating Point Numbers')"
   ]
  },
  {
   "cell_type": "markdown",
   "metadata": {},
   "source": [
    "### Plot different ranges of this system (use previous helper function).  How are the numbers spaced?  "
   ]
  },
  {
   "cell_type": "code",
   "execution_count": null,
   "metadata": {
    "collapsed": true
   },
   "outputs": [],
   "source": []
  },
  {
   "cell_type": "markdown",
   "metadata": {},
   "source": [
    "### Compare to the normalized binary system\n",
    "\n",
    "1. How many numbers does each floating point system have?\n",
    "2. How do the overflow and underflow levels compare?\n",
    "3. How do each system's machine epsilon compare?"
   ]
  },
  {
   "cell_type": "code",
   "execution_count": null,
   "metadata": {
    "collapsed": true
   },
   "outputs": [],
   "source": []
  },
  {
   "cell_type": "markdown",
   "metadata": {},
   "source": [
    "### Machine Epsilon for IEEE\n",
    "Compare it with machine epsilon in standard IEEE double precision arithmetic (what Python uses).\n",
    "We don't need to make a list of all floating point numbers in IEEE double precision to do this however.\n",
    "\n",
    "Another way of thinking about machine epsilon is that it is the smallest positive number $\\epsilon$ such that\n",
    "\n",
    "$1 + \\epsilon \\neq 1$.\n",
    "\n",
    "Use this relationship to write a loop to find machine epsilon for the IEEE double precision floating point system"
   ]
  },
  {
   "cell_type": "code",
   "execution_count": null,
   "metadata": {
    "collapsed": true
   },
   "outputs": [],
   "source": [
    "# come up with a while loop and an appropriate testing statement\n",
    "my_statement = False\n",
    "while (my_statement):\n",
    "    ..."
   ]
  },
  {
   "cell_type": "markdown",
   "metadata": {},
   "source": [
    "#### Numpy can actually tell you directly:"
   ]
  },
  {
   "cell_type": "code",
   "execution_count": null,
   "metadata": {
    "collapsed": true
   },
   "outputs": [],
   "source": [
    "import numpy as np\n",
    "np.finfo(float).eps"
   ]
  }
 ],
 "metadata": {
  "kernelspec": {
   "display_name": "Python 3",
   "language": "python",
   "name": "python3"
  },
  "language_info": {
   "codemirror_mode": {
    "name": "ipython",
    "version": 3
   },
   "file_extension": ".py",
   "mimetype": "text/x-python",
   "name": "python",
   "nbconvert_exporter": "python",
   "pygments_lexer": "ipython3",
   "version": "3.6.9"
  }
 },
 "nbformat": 4,
 "nbformat_minor": 2
}
