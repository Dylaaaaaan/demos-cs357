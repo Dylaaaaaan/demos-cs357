{
 "cells": [
  {
   "cell_type": "code",
   "execution_count": 1,
   "metadata": {},
   "outputs": [],
   "source": [
    "import random\n",
    "import matplotlib.pyplot as plt\n",
    "%matplotlib inline\n",
    "import numpy as np"
   ]
  },
  {
   "cell_type": "code",
   "execution_count": 2,
   "metadata": {},
   "outputs": [],
   "source": [
    "import scipy.io.wavfile as wav\n",
    "import IPython.display as ipd"
   ]
  },
  {
   "cell_type": "markdown",
   "metadata": {},
   "source": [
    "# Group Activity 1\n",
    "\n",
    "___"
   ]
  },
  {
   "cell_type": "markdown",
   "metadata": {},
   "source": [
    "## Let's start playing with sounds"
   ]
  },
  {
   "cell_type": "markdown",
   "metadata": {},
   "source": [
    "### Create a sinusoidal sound"
   ]
  },
  {
   "cell_type": "code",
   "execution_count": 3,
   "metadata": {},
   "outputs": [],
   "source": [
    "# Define the duration of the sound we want to create:\n",
    "# duration in seconds\n",
    "duration = 5"
   ]
  },
  {
   "cell_type": "code",
   "execution_count": 4,
   "metadata": {},
   "outputs": [],
   "source": [
    "# Define the rate of the sound, which is the number of sample points per second\n",
    "DEFAULT_RATE = 44100"
   ]
  },
  {
   "cell_type": "code",
   "execution_count": 5,
   "metadata": {},
   "outputs": [],
   "source": [
    "# The total number of sample points that define your sound is:\n",
    "nsamples = int(DEFAULT_RATE*duration)"
   ]
  },
  {
   "cell_type": "code",
   "execution_count": 6,
   "metadata": {},
   "outputs": [],
   "source": [
    "# Then create a numpy array that define the range of the sound, i.e., \n",
    "# nsamples points equaly spaced in the range (0,duration) [s]\n",
    "t = np.linspace(0,duration,nsamples)"
   ]
  },
  {
   "cell_type": "markdown",
   "metadata": {},
   "source": [
    "Create a sound array corresponding to the function\n",
    "\n",
    "$ f(t) = \\sin(220 (2 \\pi t)) + \\sin(224 (2 \\pi t))$"
   ]
  },
  {
   "cell_type": "raw",
   "metadata": {},
   "source": [
    "f = ..."
   ]
  },
  {
   "cell_type": "code",
   "execution_count": 7,
   "metadata": {},
   "outputs": [],
   "source": []
  },
  {
   "cell_type": "markdown",
   "metadata": {},
   "source": [
    "Use `plt.plot(t,f)` to plot your function:"
   ]
  },
  {
   "cell_type": "code",
   "execution_count": 8,
   "metadata": {},
   "outputs": [],
   "source": []
  },
  {
   "cell_type": "markdown",
   "metadata": {},
   "source": [
    "Check the sound you just created!"
   ]
  },
  {
   "cell_type": "code",
   "execution_count": 9,
   "metadata": {},
   "outputs": [],
   "source": [
    "ipd.Audio(f,rate=DEFAULT_RATE)"
   ]
  },
  {
   "cell_type": "markdown",
   "metadata": {},
   "source": [
    "You can also try different functions!"
   ]
  },
  {
   "cell_type": "markdown",
   "metadata": {},
   "source": [
    "### Create a music note"
   ]
  },
  {
   "cell_type": "markdown",
   "metadata": {},
   "source": [
    "Let's make the sound of the A5 note. (https://en.wikipedia.org/wiki/Piano_key_frequencies)"
   ]
  },
  {
   "cell_type": "code",
   "execution_count": 10,
   "metadata": {},
   "outputs": [],
   "source": [
    "# We want to have the note played for 0.5 seconds\n",
    "duration = 0.5\n",
    "# Define the rate\n",
    "rate = DEFAULT_RATE\n",
    "# The number of samples needed is\n",
    "nsamples = int(rate*duration)\n",
    "# # The frequency of A5 is 880. \n",
    "freq = 880\n",
    "t = np.linspace(0, duration, nsamples)\n",
    "f = np.sin(freq*2*np.pi*t)\n",
    "plt.plot(t,f)\n",
    "ipd.Audio(f,rate=rate)"
   ]
  },
  {
   "cell_type": "markdown",
   "metadata": {},
   "source": [
    "### Write a function `make_note` "
   ]
  },
  {
   "cell_type": "markdown",
   "metadata": {},
   "source": [
    "Just add the steps described above to define the function `make_note`. The function should have the following signature:\n",
    "\n",
    "```python\n",
    "def make_note(freq, duration=0.3, rate=DEFAULT_RATE):\n",
    "    '''\n",
    "    receives as arguments:\n",
    "        - frequency of the note (freq)\n",
    "        - duration of the sound (set as default equal to 0.3)\n",
    "        - rate (samples per second)\n",
    "    and returns:\n",
    "        - np.array \"f\" with the beep\n",
    "    '''\n",
    "```"
   ]
  },
  {
   "cell_type": "code",
   "execution_count": 11,
   "metadata": {},
   "outputs": [],
   "source": [
    "#grade (enter your code in this cell - DO NOT DELETE THIS LINE) \n"
   ]
  },
  {
   "cell_type": "markdown",
   "metadata": {},
   "source": [
    "Use `note = make_note(...)` function to create the following sounds:\n",
    "\n",
    "note | duration | freq\n",
    "--- | --- | --- \n",
    "A<sub>4</sub> | 3 | 440\n",
    "C<sub>4</sub> | 4 | 261.6256\n",
    "\n",
    "Then you can plot the sound array using:\n",
    "\n",
    "`plt.plot(note)`\n",
    "\n",
    "And listen to the sound using:\n",
    "\n",
    "`ipd.Audio(note,rate=DEFAULT_RATE)`"
   ]
  },
  {
   "cell_type": "code",
   "execution_count": 12,
   "metadata": {},
   "outputs": [],
   "source": []
  },
  {
   "cell_type": "markdown",
   "metadata": {},
   "source": [
    "### Create a new function `make_note_decay`\n",
    "\n",
    "This function modifies the `make_note` function, by adding a parabolical decay to zero over the time duration of the sound. For that, we need a ramp function, which starts with value equal to 1 and finishes with value of zero, and includes nsamples data points:"
   ]
  },
  {
   "cell_type": "code",
   "execution_count": 13,
   "metadata": {},
   "outputs": [],
   "source": [
    "ramp = np.linspace(0, 1, nsamples)"
   ]
  },
  {
   "cell_type": "markdown",
   "metadata": {},
   "source": [
    "Check the function that gives the linear decay:\n",
    "\n",
    "`plt.plot(1-ramp)`\n",
    "\n",
    "And also the function that gives the parabolical decay\n",
    "\n",
    "`plt.plot((1-ramp)**2)`"
   ]
  },
  {
   "cell_type": "code",
   "execution_count": 14,
   "metadata": {},
   "outputs": [],
   "source": []
  },
  {
   "cell_type": "markdown",
   "metadata": {},
   "source": [
    "Create the function `make_note_decay` with the following signature:\n",
    "\n",
    "```python\n",
    "def make_note_decay(freq, duration=0.3, rate=DEFAULT_RATE):\n",
    "    '''\n",
    "    receives as arguments:\n",
    "        - frequency of the note (freq)\n",
    "        - duration of the sound (set as default equal to 0.3)\n",
    "        - rate (samples per second)\n",
    "    and returns:\n",
    "        - np.array data with the beep\n",
    "    '''\n",
    "```"
   ]
  },
  {
   "cell_type": "code",
   "execution_count": 15,
   "metadata": {},
   "outputs": [],
   "source": [
    "#grade (enter your code in this cell - DO NOT DELETE THIS LINE) \n"
   ]
  },
  {
   "cell_type": "markdown",
   "metadata": {},
   "source": [
    "Use your function to create the note A<sub>8</sub> (freq=7040) with duration of 2 seconds. Then plot the sound array using `plt.plot(note)` and listen to the sound using `ipd.Audio(note,rate=DEFAULT_RATE)`"
   ]
  },
  {
   "cell_type": "code",
   "execution_count": 16,
   "metadata": {},
   "outputs": [],
   "source": []
  },
  {
   "cell_type": "markdown",
   "metadata": {},
   "source": [
    "### We can make \"real\" music :-)"
   ]
  },
  {
   "cell_type": "markdown",
   "metadata": {},
   "source": [
    "![title](ballgame.png)"
   ]
  },
  {
   "cell_type": "markdown",
   "metadata": {},
   "source": [
    "Here is how we could write the song above:"
   ]
  },
  {
   "cell_type": "markdown",
   "metadata": {},
   "source": [
    "note | duration | freq\n",
    "--- | --- | --- \n",
    "C | 2 | 261.626\n",
    "C | 1 | 523.251\n",
    "A | 1 | 440.0\n",
    "G | 1 | 391.995\n",
    "E | 1 | 329.628\t\n",
    "G | 3 | 391.995\n",
    "D | 3 | 293.665"
   ]
  },
  {
   "cell_type": "markdown",
   "metadata": {},
   "source": [
    "We enter the above information as a list of lists. We only need the duration of each note, and the corresponding frequency:"
   ]
  },
  {
   "cell_type": "code",
   "execution_count": 17,
   "metadata": {},
   "outputs": [],
   "source": [
    "notes = [\n",
    "    [2,261.626],\n",
    " [1,523.251],\n",
    " [1,440.000],\n",
    " [1,391.995],\n",
    " [1,329.628],\n",
    " [3,391.995],\n",
    " [3,293.665]]"
   ]
  },
  {
   "cell_type": "markdown",
   "metadata": {},
   "source": [
    "If we loop at the list above, we can use `notes[i]` to create the sound corresponding to each note using the function `make_note_decay`. We can then use the function `numpy.hstack` to combine notes to make music:\n",
    "\n",
    "```\n",
    "# Initialize an empty array for the music\n",
    "music = np.array([])\n",
    "\n",
    "# loop over `notes` to create sound, then use np.stack to add the sound to music:\n",
    "music = np.hstack( (music, sound) )\n",
    "\n",
    "# Check the music you created!\n",
    "ipd.Audio(music,rate=DEFAULT_RATE)\n",
    "```"
   ]
  },
  {
   "cell_type": "code",
   "execution_count": 18,
   "metadata": {},
   "outputs": [],
   "source": []
  }
 ],
 "metadata": {
  "kernelspec": {
   "display_name": "Python 3",
   "language": "python",
   "name": "python3"
  },
  "language_info": {
   "codemirror_mode": {
    "name": "ipython",
    "version": 3
   },
   "file_extension": ".py",
   "mimetype": "text/x-python",
   "name": "python",
   "nbconvert_exporter": "python",
   "pygments_lexer": "ipython3",
   "version": "3.8.0"
  }
 },
 "nbformat": 4,
 "nbformat_minor": 2
}
