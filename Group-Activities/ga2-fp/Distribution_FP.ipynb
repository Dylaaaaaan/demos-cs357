{
 "cells": [
  {
   "cell_type": "code",
   "execution_count": 8,
   "metadata": {},
   "outputs": [],
   "source": [
    "import numpy as np\n",
    "import matplotlib as mpl\n",
    "import matplotlib.pyplot as plt\n",
    "%matplotlib inline\n",
    "import seaborn as sns\n",
    "sns.set(font_scale=1.5)\n",
    "plt.style.use('seaborn-whitegrid')\n",
    "mpl.rcParams['figure.figsize'] = (10.0, 8.0)"
   ]
  },
  {
   "cell_type": "markdown",
   "metadata": {},
   "source": [
    "# Group Activity 2\n",
    "\n",
    "___"
   ]
  },
  {
   "cell_type": "markdown",
   "metadata": {},
   "source": [
    "## Distribution of Floating Point Numbers"
   ]
  },
  {
   "cell_type": "markdown",
   "metadata": {},
   "source": [
    "Recall that any positive number $x$ in a normalized binary floating-point system is of the form:\n",
    "\n",
    "$x = 1.a_1a_2a_3\\dots a_n \\times 2^m,$\n",
    "\n",
    "where $n$ is the number of bits stored in the fractional part of the significand, $a_i \\in \\{0,1\\}$ are the bits themselves, and $m \\in [L,U]$ is the exponent."
   ]
  },
  {
   "cell_type": "markdown",
   "metadata": {},
   "source": [
    "Suppose we have a binary floating point system with $n = 3$, an exponent range of $[L,U] = [-4,4]$, and we want to generate a list of all the **positive normalized** numbers in this floating point system in ascending order.  We would like to store their representation in the standard **decimal** system.\n",
    "\n",
    "That is, our list should look like this:\n",
    "\n",
    "- $1.000 \\times 2^{-4} = .0625$\n",
    "- $1.001 \\times 2^{-4} = .0703125$\n",
    "- $1.010 \\times 2^{-4} = .078125$\n",
    "- $1.011 \\times 2^{-4} = .0859375$\n",
    "- $\\dots$\n",
    "- $1.111 \\times 2^{-4} = .1171875$\n",
    "- $1.000 \\times 2^{-3} = .125$\n",
    "- $1.001 \\times 2^{-3} = .140625$\n",
    "- $\\dots$\n",
    "- $1.110 \\times 2^4 = 28$\n",
    "- $1.111 \\times 2^4 = 30$"
   ]
  },
  {
   "cell_type": "markdown",
   "metadata": {},
   "source": [
    "In order to do so, let's recall that the binary representation means:\n",
    "\n",
    "$ 1.a_1a_2a_3 \\times 2^m = \\left(1 + \\frac{a_1}{2} + \\frac{a_2}{2^2} + \\frac{a_3}{2^3}\\right)\\times 2^m$"
   ]
  },
  {
   "cell_type": "markdown",
   "metadata": {},
   "source": [
    "We'll write a nested loop to generate all the numbers in the list in decimal format using this expression:"
   ]
  },
  {
   "cell_type": "code",
   "execution_count": 9,
   "metadata": {},
   "outputs": [],
   "source": [
    "base = 2\n",
    "exponent_min = -4\n",
    "exponent_max = 4\n",
    "\n",
    "fp_3 = []\n",
    "for m in range(exponent_min,exponent_max + 1):\n",
    "    for a_1 in range(0,base):\n",
    "        for a_2 in range(0,base):\n",
    "            for a_3 in range(0,base):\n",
    "                significand = 1 + a_1*base**-1 + a_2*base**-2 + a_3*base**-3\n",
    "                new_number = significand * base**m\n",
    "                fp_3.append(new_number)     "
   ]
  },
  {
   "cell_type": "code",
   "execution_count": 10,
   "metadata": {},
   "outputs": [],
   "source": [
    "print(fp_3[:4]) # first four number\n",
    "print(fp_3[-2:]) # last two numbers"
   ]
  },
  {
   "cell_type": "markdown",
   "metadata": {},
   "source": [
    "Ok, it seems to be working.  However, we used 4 loops: 1 for the exponent, and 1 for each bit in the fraction.  So if we want to do the same thing for a floating point system for $n = 23$, like IEEE single precision, we would need 24 loops!  That's way too much!"
   ]
  },
  {
   "cell_type": "markdown",
   "metadata": {},
   "source": [
    "There's a simpler way to express these floating point numbers.  Let's examine the first 4 numbers:\n",
    "- $1.000 \\times 2^{-4} = \\left(1 + \\frac{0}{2^1} + \\frac{0}{2^2} +  \\frac{0}{2^3}\\right) \\times 2^{-4} = \\left(1 + \\frac{0}{2^3}\\right)\\times 2^{-4}$\n",
    "- $1.001 \\times 2^{-4} = \\left(1 + \\frac{0}{2^1} + \\frac{0}{2^2} +  \\frac{1}{2^3}\\right) \\times 2^{-4} = \\left(1 + \\frac{1}{2^3}\\right)\\times 2^{-4}$\n",
    "- $1.010 \\times 2^{-4} = \\left(1 + \\frac{0}{2^1} + \\frac{1}{2^2} +  \\frac{0}{2^3}\\right) \\times 2^{-4} = \\left(1 + \\frac{1}{2^2}\\right)\\times 2^{-4} = \\left(1 + \\frac{2}{2^3}\\right) \\times 2^{-4}$\n",
    "- $1.011 \\times 2^{-4} = \\left(1 + \\frac{0}{2^1} + \\frac{1}{2^2} +  \\frac{1}{2^3}\\right) \\times 2^{-4} = \\left(1 + \\frac{1}{2^2} + \\frac{1}{2^3}\\right)\\times 2^{-4} = \\left(1 + \\frac{2}{2^3} + \\frac{1}{2^3}\\right)\\times 2^{-4} = \\left(1 + \\frac{3}{2^3}\\right) \\times 2^{-4}$\n",
    "\n",
    "Are you seeing a pattern?  Use this to generate all the positive floating point numbers in a binary system for any given $n$ and exponent range $[L,U]$.  You should only need two loops.\n"
   ]
  },
  {
   "cell_type": "markdown",
   "metadata": {},
   "source": [
    "#### Write the function `fp_numbers` that returns a 1d numpy array `fp` storing all the floating numbers in ascending order.\n",
    "\n",
    "The function should have the following signature:\n",
    "```python\n",
    "def fp_numbers(n,L,U):\n",
    "    ...\n",
    "    return fp\n",
    "```"
   ]
  },
  {
   "cell_type": "code",
   "execution_count": 16,
   "metadata": {},
   "outputs": [],
   "source": [
    "#grade (enter your code in this cell - DO NOT DELETE THIS LINE) \n"
   ]
  },
  {
   "cell_type": "markdown",
   "metadata": {},
   "source": [
    "#### Use your function to define the variable `fp_ref` for a floating point system with the values for $n$, $L$ and $U$ provided in the PrairieLearn question: \n",
    "\n",
    "```python\n",
    "fp_ref = ...\n",
    "```"
   ]
  },
  {
   "cell_type": "code",
   "execution_count": 33,
   "metadata": {},
   "outputs": [],
   "source": [
    "#grade (enter your code in this cell - DO NOT DELETE THIS LINE) \n"
   ]
  },
  {
   "cell_type": "markdown",
   "metadata": {},
   "source": [
    "## Display a plot of the density of the floating point numbers in this system"
   ]
  },
  {
   "cell_type": "markdown",
   "metadata": {},
   "source": [
    "Use the plotting function below to see the distribution of the floating point numbers you obtained above:"
   ]
  },
  {
   "cell_type": "code",
   "execution_count": 18,
   "metadata": {},
   "outputs": [],
   "source": [
    "plt.figure(figsize=(12,2))\n",
    "plt.plot(fp_ref, np.ones_like(fp_ref), \"o\");\n",
    "plt.title('Distribution of all Floating Point Numbers')"
   ]
  },
  {
   "cell_type": "markdown",
   "metadata": {},
   "source": [
    "## Checking important features of Floating Point numbers"
   ]
  },
  {
   "cell_type": "markdown",
   "metadata": {},
   "source": [
    "#### a) What is the smallest (positive) normalized floating point number for this system?\n",
    "\n",
    "We can answer this question by getting the first entry from the numpy array, since the array was sorted in ascending order:"
   ]
  },
  {
   "cell_type": "code",
   "execution_count": 28,
   "metadata": {},
   "outputs": [],
   "source": [
    "UFL = fp_ref[0]\n",
    "print(UFL)"
   ]
  },
  {
   "cell_type": "markdown",
   "metadata": {},
   "source": [
    "You can also get the same result using the expression derived in lecture.  Evaluate UFL using $2^L$"
   ]
  },
  {
   "cell_type": "code",
   "execution_count": 34,
   "metadata": {},
   "outputs": [],
   "source": []
  },
  {
   "cell_type": "markdown",
   "metadata": {},
   "source": [
    "#### b) What is the largest (positive) normalized floating point number for this system? Define the variable OFL.\n",
    "\n",
    "```python\n",
    "OFL = ...\n",
    "```"
   ]
  },
  {
   "cell_type": "code",
   "execution_count": 40,
   "metadata": {},
   "outputs": [],
   "source": [
    "#grade (enter your code in this cell - DO NOT DELETE THIS LINE) \n"
   ]
  },
  {
   "cell_type": "markdown",
   "metadata": {},
   "source": [
    "#### c) What is machine epsilon for this floating point system?\n",
    "\n",
    "We can use `np.argwhere` to get the index of the entry in `fp_ref` that contains the number `1.0`. \n",
    "\n",
    "```\n",
    "index = np.argwhere(fp_ref==1.0)\n",
    "```\n",
    "\n",
    "Recall that machine epsilon is the gap between 1 and the **next larger** floating point number. How can you use the method above to obtain machine epsilon?"
   ]
  },
  {
   "cell_type": "code",
   "execution_count": 55,
   "metadata": {},
   "outputs": [],
   "source": []
  },
  {
   "cell_type": "markdown",
   "metadata": {},
   "source": [
    "Using the definition above, machine epsilon is also given by $\\epsilon = 2^{-n}$. Check your results, and see if it makes sense."
   ]
  },
  {
   "cell_type": "code",
   "execution_count": 59,
   "metadata": {},
   "outputs": [],
   "source": []
  },
  {
   "cell_type": "markdown",
   "metadata": {},
   "source": [
    "#### d) What is the range of integer numbers that you can represent **exactly**?  \n",
    "\n",
    "Print your array of floating point numbers `fp_ref`. Note that there is a range of integer numbers that are represented exacly ($1, 2, 3, ...$) and at some point you start having gaps between integer numbers ($50, 52, 54, ...$). We say that integers can be represented exactly in the range $(1,maxint)$. What is $maxint$ for your floating point system? \n",
    "\n",
    "```python\n",
    "maxint = ...\n",
    "```"
   ]
  },
  {
   "cell_type": "code",
   "execution_count": 63,
   "metadata": {},
   "outputs": [],
   "source": [
    "#grade (enter your code in this cell - DO NOT DELETE THIS LINE) \n"
   ]
  }
 ],
 "metadata": {
  "kernelspec": {
   "display_name": "Python 3",
   "language": "python",
   "name": "python3"
  },
  "language_info": {
   "codemirror_mode": {
    "name": "ipython",
    "version": 3
   },
   "file_extension": ".py",
   "mimetype": "text/x-python",
   "name": "python",
   "nbconvert_exporter": "python",
   "pygments_lexer": "ipython3",
   "version": "3.8.0"
  }
 },
 "nbformat": 4,
 "nbformat_minor": 2
}
