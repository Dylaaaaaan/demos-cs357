{
  "cells": [
    {
      "cell_type": "code",
      "execution_count": 1,
      "metadata": {},
      "outputs": [],
      "source": [
        "import numpy as np\n",
        "import matplotlib as mpl\n",
        "import matplotlib.pyplot as plt\n",
        "%matplotlib inline\n",
        "import seaborn as sns\n",
        "sns.set(font_scale=1.5)\n",
        "plt.style.use('seaborn-whitegrid')\n",
        "mpl.rcParams['figure.figsize'] = (10.0, 8.0)"
      ]
    },
    {
      "cell_type": "markdown",
      "metadata": {},
      "source": [
        "# Group Activity 2\n",
        "\n",
        "___"
      ]
    },
    {
      "cell_type": "markdown",
      "metadata": {},
      "source": [
        "## Ternary Floating Point System\n",
        "The [Setun Computer](https://en.wikipedia.org/wiki/Setun) was a computer built in the Soviet Union in 1958 by Ukrainian computer scientist [Nikolay Brusentsov](http://en.uacomputing.com/persons/brusentsov/).  It used *ternary* logic rather than binary.  In Brusentov's own words: ''Computer science cannot limit itself to the universally-accepted binary system; the base should be ternary''.  He argued that ternary logic was a better representation of the way humans think; unfortunately for him, it never caught on."
      ]
    },
    {
      "cell_type": "markdown",
      "metadata": {},
      "source": [
        "### Base 3 floating point system\n",
        "\n",
        "\n",
        "\n",
        "This means floating-point arithmetic was done in base 3, not base 2, as is standard today.  Rather than using ''bits'', the architecture of this computer dependend on ''trits'' that can take three values instead of two.\n",
        "\n",
        "We'll will implement a standardized ternary floating point system, where any positive number $x$ can be written as\n",
        "\n",
        "$x = a_0.a_1a_2\\dots a_{n-1} \\times 3^m$.\n",
        "\n",
        "The exponent $m \\in [L,U]$ is essentially identical to the exponent in the binary case.  However, there are some important differences between here and the normalized binary representation.\n",
        "\n",
        "1. The base is now equal to 3, not 2.  Hence the $3^m$, instead of $2^m$.\n",
        "  \n",
        "2. Each of the ''trits'' $a_1,a_2,\\dots,a_{n-1}$ can now take any of the 3 values in $\\{0,1,2\\}$.\n",
        "  \n",
        "3. In a normalized binary system, the leading bit is always equal to 1.  But in normalized ternary system the leading ''trit'' $a_0$ can take either the value 1 or 2.  It cannot be zero, because this is a **normalized** floating point system\n",
        "  \n",
        "4. Because $a_0$ can vary, the leading trit must be explicitly stored.  This is not the case with normalized binary systems.  That's also why we stopped at $a_{n-1}$ instead of going to $a_n$.  In binary, we get one extra bit of precision because we don't need to store the leading one."
      ]
    },
    {
      "cell_type": "markdown",
      "metadata": {},
      "source": [
        "Just like for the binary system beforehand, **write the function `ternary_numbers`** that returns a 1d numpy array with all numbers in a given ternary floating point system, given  $n$ the number of stored trits and the exponent range of $m \\in [L,U]$.\n",
        "\n",
        "```python\n",
        "def ternary_numbers(n,L,U):\n",
        "    ...\n",
        "    return tn\n",
        "```\n"
      ]
    },
    {
      "cell_type": "code",
      "execution_count": 2,
      "metadata": {},
      "outputs": [],
      "source": [
        "#grade (enter your code in this cell - DO NOT DELETE THIS LINE) \n"
      ]
    },
    {
      "cell_type": "markdown",
      "metadata": {},
      "source": [
        "### Density of Ternary Floating Point Numbers"
      ]
    },
    {
      "cell_type": "markdown",
      "metadata": {},
      "source": [
        "We can now use your function to look at the numbers in this system:"
      ]
    },
    {
      "cell_type": "code",
      "execution_count": 3,
      "metadata": {
        "scrolled": true
      },
      "outputs": [],
      "source": [
        "n = 4\n",
        "L = -5\n",
        "U = 5\n",
        "fp_ternary = ternary_numbers(n,L,U)\n",
        "fp_ternary"
      ]
    },
    {
      "cell_type": "code",
      "execution_count": 4,
      "metadata": {},
      "outputs": [],
      "source": [
        "plt.figure(figsize=(12,2))\n",
        "plt.plot(fp_ternary, np.ones_like(fp_ternary), \"o\");\n",
        "plt.title('Distribution of Ternary Floating Point Numbers')"
      ]
    },
    {
      "cell_type": "markdown",
      "metadata": {},
      "source": [
        "### Compare to the normalized binary system\n",
        "\n",
        "1. How many numbers does each floating point system have?\n",
        "2. How do the overflow and underflow levels compare?\n",
        "3. How do each system's machine epsilon compare?\n",
        "\n",
        "Use your previous function to compute the floating point numbers in the binary system for the same values of $n$, $L$ and $U$."
      ]
    },
    {
      "cell_type": "code",
      "execution_count": 5,
      "metadata": {},
      "outputs": [],
      "source": []
    },
    {
      "cell_type": "code",
      "execution_count": 6,
      "metadata": {},
      "outputs": [],
      "source": [
        "#fp_ref = ...\n",
        "\n",
        "print('Binary system has %d numbers' % len(fp_ref))\n",
        "print('Ternary system has %d numbers' % len(fp_ternary))\n",
        "print()\n",
        "print('Binary Overflow: ', fp_ref[-1])\n",
        "print('Ternary Overflow: ', fp_ternary[-1])\n",
        "print()\n",
        "print('Binary Underflow: ', fp_ref[0])\n",
        "print('Ternary Underflow: ',fp_ternary[0])\n",
        "\n",
        "ind_b = np.argwhere(fp_ref==1.0)\n",
        "ind_t = np.argwhere(fp_ternary==1.0)\n",
        "eps_b = fp_ref[ind_b+1] - 1\n",
        "eps_t = fp_ternary[ind_t+1] - 1\n",
        "print()\n",
        "print('Binary Machine Epsilon: ', eps_b)\n",
        "print('Ternary Machine Epsilon: ',eps_t)"
      ]
    },
    {
      "cell_type": "code",
      "execution_count": null,
      "metadata": {},
      "outputs": [],
      "source": []
    }
  ],
  "metadata": {
    "kernelspec": {
      "display_name": "Python 3",
      "language": "python",
      "name": "python3"
    },
    "language_info": {
      "codemirror_mode": {
        "name": "ipython",
        "version": 3
      },
      "file_extension": ".py",
      "mimetype": "text/x-python",
      "name": "python",
      "nbconvert_exporter": "python",
      "pygments_lexer": "ipython3",
      "version": "3.8.0"
    }
  },
  "nbformat": 4,
  "nbformat_minor": 2
}