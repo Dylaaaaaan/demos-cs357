{
  "cells": [
    {
      "cell_type": "code",
      "execution_count": 1,
      "metadata": {},
      "outputs": [],
      "source": [
        "import random\n",
        "import matplotlib.pyplot as plt\n",
        "%matplotlib inline\n",
        "import numpy as np"
      ]
    },
    {
      "cell_type": "markdown",
      "metadata": {},
      "source": [
        "# Group Activity 1\n",
        "\n",
        "___"
      ]
    },
    {
      "cell_type": "markdown",
      "metadata": {},
      "source": [
        "## Plots"
      ]
    },
    {
      "cell_type": "markdown",
      "metadata": {},
      "source": [
        "Create a 1d numpy array `u` with two components (you can think of this as a 2d vector). Look at what happens when you plot the array."
      ]
    },
    {
      "cell_type": "markdown",
      "metadata": {},
      "source": [
        "```python\n",
        "u = ...\n",
        "plt.plot(u,'o')\n",
        "```"
      ]
    },
    {
      "cell_type": "code",
      "execution_count": 2,
      "metadata": {},
      "outputs": [],
      "source": []
    },
    {
      "cell_type": "markdown",
      "metadata": {},
      "source": [
        "Interesting, right?\n",
        "\n",
        "```python\n",
        "plt.plot(y)\n",
        "```\n",
        "\n",
        "will plot y (with length $N$) using x as index array `0..N-1`, useful in cases when you want to plot values but don't have meaningful data for the x-axis. For example, we can create a vector with N random entries (vector in $\\mathbb{R}^N$) and plot it.\n"
      ]
    },
    {
      "cell_type": "code",
      "execution_count": 3,
      "metadata": {},
      "outputs": [],
      "source": [
        "plt.plot(np.random.rand(100),'o-')"
      ]
    },
    {
      "cell_type": "markdown",
      "metadata": {},
      "source": [
        "How can you actually plot the point defined by the coordinates $[x_1,x_2]$, given in the form of a numpy array?\n"
      ]
    },
    {
      "cell_type": "code",
      "execution_count": 7,
      "metadata": {},
      "outputs": [],
      "source": [
        "v = np.array([3,7])"
      ]
    },
    {
      "cell_type": "code",
      "execution_count": 11,
      "metadata": {},
      "outputs": [],
      "source": []
    },
    {
      "cell_type": "markdown",
      "metadata": {},
      "source": [
        "## Colors"
      ]
    },
    {
      "cell_type": "markdown",
      "metadata": {},
      "source": [
        "In computer graphics, colors are commonly stored by mixing together certain amounts of red, blue, and green (RGB color space). We can thus define RGB colors as vectors in $\\mathbb{R}^3$:"
      ]
    },
    {
      "cell_type": "markdown",
      "metadata": {},
      "source": [
        "$$\n",
        "\\begin{align*}\n",
        "{\\bf red} &= \\left(1, 0, 0\\right) \\\\\n",
        "{\\bf green} &= \\left(0, 1, 0\\right) \\\\\n",
        "{\\bf blue} &= \\left(0, 0, 1\\right)\n",
        "\\end{align*}\n",
        "$$"
      ]
    },
    {
      "cell_type": "markdown",
      "metadata": {},
      "source": [
        "Which we can then store as numpy arrays:"
      ]
    },
    {
      "cell_type": "code",
      "execution_count": 13,
      "metadata": {},
      "outputs": [],
      "source": [
        "red   = np.array([1,0,0])\n",
        "green = np.array([0,1,0])\n",
        "blue  = np.array([0,0,1])"
      ]
    },
    {
      "cell_type": "markdown",
      "metadata": {},
      "source": [
        "We will use\n",
        "```python\n",
        "plt.Circle( (x,y), radius , color=color_array )\n",
        "```\n",
        "to create circles with different colors at positions (x,y)"
      ]
    },
    {
      "cell_type": "code",
      "execution_count": 14,
      "metadata": {},
      "outputs": [],
      "source": [
        "radius = 0.2"
      ]
    },
    {
      "cell_type": "code",
      "execution_count": 15,
      "metadata": {},
      "outputs": [],
      "source": [
        "ax = plt.gca()\n",
        "ax.set_aspect('equal')\n",
        "plt.xlim(0,2)\n",
        "plt.xlabel('x')\n",
        "plt.ylabel('y')\n",
        "\n",
        "cred = plt.Circle((0.5,0.5), radius ,color=red)\n",
        "ax.add_patch(cred)\n",
        "\n",
        "cgreen = plt.Circle((1,0.5), radius ,color=green)\n",
        "ax.add_patch(cgreen)\n",
        "\n",
        "cblue = plt.Circle((1.5,0.5), radius ,color=blue)\n",
        "ax.add_patch(cblue)"
      ]
    },
    {
      "cell_type": "markdown",
      "metadata": {},
      "source": [
        "We will use **linear combinations** of the primary color vectors `red`, `green` and `blue` to obtain different color shades. For example, we can combine two colors to obtain color `c` as:\n",
        "\n",
        "${\\bf c}  =  x \\, {\\bf red} + y \\, {\\bf blue} $ \n",
        "\n",
        "where $x,y$ are numbers between 0 and 1."
      ]
    },
    {
      "cell_type": "markdown",
      "metadata": {},
      "source": [
        "We want to plot circles of radius $r = 0.04$ and color ${\\bf c} $ with $x$ and $y$ ranging from $[0, 1]$. In the code snippet below, we plot only one circle at position $x = 0.5$ and $y = 0.5$."
      ]
    },
    {
      "cell_type": "code",
      "execution_count": 18,
      "metadata": {},
      "outputs": [],
      "source": [
        "ax = plt.gca(); ax.set_aspect('equal')\n",
        "plt.xlim(0,1);plt.ylim(0,1); plt.xlabel('x',fontsize=20); plt.ylabel('y',fontsize=20)\n",
        "\n",
        "x = 0.5\n",
        "y = 0.5\n",
        "r = 0.04\n",
        "\n",
        "c = x*red + y*blue\n",
        "\n",
        "c = plt.Circle((x,y), r ,color=c)\n",
        "ax.add_patch(c)"
      ]
    },
    {
      "cell_type": "markdown",
      "metadata": {},
      "source": [
        "Modify the code snippet above, so that in the same figure, you plot circles with position $(x,y)$, radius $0.04$, and color defined by  ${\\bf c}$. The spacing between consecutive circle centers whould be $0.1$"
      ]
    },
    {
      "cell_type": "code",
      "execution_count": 19,
      "metadata": {},
      "outputs": [],
      "source": []
    },
    {
      "cell_type": "code",
      "execution_count": null,
      "metadata": {},
      "outputs": [],
      "source": []
    }
  ],
  "metadata": {
    "kernelspec": {
      "display_name": "Python 3",
      "language": "python",
      "name": "python3"
    },
    "language_info": {
      "codemirror_mode": {
        "name": "ipython",
        "version": 3
      },
      "file_extension": ".py",
      "mimetype": "text/x-python",
      "name": "python",
      "nbconvert_exporter": "python",
      "pygments_lexer": "ipython3",
      "version": "3.8.0"
    }
  },
  "nbformat": 4,
  "nbformat_minor": 2
}