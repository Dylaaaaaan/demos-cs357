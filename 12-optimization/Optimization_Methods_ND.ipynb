{
  "cells": [
    {
      "cell_type": "code",
      "execution_count": null,
      "metadata": {
        "collapsed": true
      },
      "outputs": [],
      "source": [
        "import numpy as np\n",
        "import numpy.linalg as la\n",
        "\n",
        "import scipy.optimize as sopt\n",
        "\n",
        "import matplotlib.pyplot as plt\n",
        "from mpl_toolkits.mplot3d import axes3d\n",
        "%matplotlib inline"
      ]
    },
    {
      "cell_type": "markdown",
      "metadata": {},
      "source": [
        "# Optimization algorithms for ND problems"
      ]
    },
    {
      "cell_type": "markdown",
      "metadata": {},
      "source": [
        "We provide three example of functions. You will be able to observe difference convergence carachteristics among them."
      ]
    },
    {
      "cell_type": "markdown",
      "metadata": {},
      "source": [
        "#### Function 1:\n",
        "$$ f(x,y) = 0.5 x^2 + 2.5 y^2 $$"
      ]
    },
    {
      "cell_type": "code",
      "execution_count": null,
      "metadata": {
        "collapsed": true
      },
      "outputs": [],
      "source": [
        "def f1(x):\n",
        "    return 0.5*x[0]**2 + 2.5*x[1]**2\n",
        "\n",
        "def df1(x):\n",
        "    return np.array([x[0], 5*x[1]])\n",
        "\n",
        "def ddf1(x):\n",
        "    return np.array([\n",
        "                     [1,0],\n",
        "                     [0,5]\n",
        "                     ])"
      ]
    },
    {
      "cell_type": "markdown",
      "metadata": {},
      "source": [
        "#### Function 2:\n",
        "$$ f(x,y) = (x-1)^2 + (y-1)^2 $$"
      ]
    },
    {
      "cell_type": "code",
      "execution_count": null,
      "metadata": {},
      "outputs": [],
      "source": [
        "def f2(x):\n",
        "    return (x[0]-1)**2 + (x[1]-1)**2\n",
        "\n",
        "def df2(x):\n",
        "    return np.array([2*(x[0]-1),2*(x[1]-1) ])\n",
        "\n",
        "def ddf2(x):\n",
        "    return np.array([\n",
        "                     [2,0],\n",
        "                     [0,2]\n",
        "                     ])"
      ]
    },
    {
      "cell_type": "markdown",
      "metadata": {},
      "source": [
        "#### Function 3:\n",
        "$$ f(x,y) = 100 (y-x^2)^2 + (1-x)^2 $$"
      ]
    },
    {
      "cell_type": "code",
      "execution_count": null,
      "metadata": {
        "collapsed": true
      },
      "outputs": [],
      "source": [
        "def f3(X):\n",
        "    x = X[0]\n",
        "    y = X[1]\n",
        "    val = 100.0 * (y - x**2)**2 + (1.0 - x)**2\n",
        "    return val\n",
        "\n",
        "def df3(X):\n",
        "    x = X[0]\n",
        "    y = X[1]\n",
        "    val1 = -400.0 * (y - x**2) * x - 2 * (1 - x)\n",
        "    val2 = 200.0 * (y - x**2)\n",
        "    return np.array([val1, val2])\n",
        "\n",
        "def ddf3(X):\n",
        "    x = X[0]\n",
        "    y = X[1]\n",
        "    val11 = -400.0 * (y - x**2) + 800.0 * x**2 + 2\n",
        "    val12 = -400.0 * x\n",
        "    val21 = -400.0 * x\n",
        "    val22 = 200.0\n",
        "    return np.array([[val11, val12], [val21, val22]])"
      ]
    },
    {
      "cell_type": "markdown",
      "metadata": {},
      "source": [
        "### Helper functions for plotting"
      ]
    },
    {
      "cell_type": "code",
      "execution_count": null,
      "metadata": {},
      "outputs": [],
      "source": [
        "def plotFunction(f, interval=(-2,2), levels=20, steps=None, fhist=None):\n",
        "    \n",
        "    a,b = interval\n",
        "    \n",
        "    xmesh, ymesh = np.mgrid[a:b:100j,a:b:100j]\n",
        "    fmesh = f(np.array([xmesh, ymesh]))\n",
        "    \n",
        "    \n",
        "    fig = plt.figure(figsize=(16,4))\n",
        "\n",
        "    ax = fig.add_subplot(131,projection=\"3d\")\n",
        "    ax.plot_surface(xmesh, ymesh, fmesh,cmap=plt.cm.coolwarm);\n",
        "    plt.title('3d plot of f(x,y)')\n",
        "\n",
        "    ax = fig.add_subplot(132)\n",
        "    ax.set_aspect('equal')\n",
        "    c = ax.contour(xmesh, ymesh, fmesh, levels=levels)\n",
        "\n",
        "    plt.title('2d countours of f(x,y)')\n",
        "    ax.clabel(c, inline=1, fontsize=10)\n",
        "    \n",
        "    if steps is not None:  \n",
        "        plt.plot(steps.T[0], steps.T[1], \"o-\", lw=3, ms=10)\n",
        "     \n",
        "    if fhist is not None:\n",
        "        ax = fig.add_subplot(133)\n",
        "        plt.semilogy(fhist, '-o')\n",
        "        plt.xlabel('iteration')\n",
        "        plt.ylabel('f')\n",
        "        plt.grid()\n"
      ]
    },
    {
      "cell_type": "code",
      "execution_count": null,
      "metadata": {},
      "outputs": [],
      "source": [
        "plotFunction(f1)"
      ]
    },
    {
      "cell_type": "code",
      "execution_count": null,
      "metadata": {},
      "outputs": [],
      "source": [
        "plotFunction(f2)"
      ]
    },
    {
      "cell_type": "code",
      "execution_count": null,
      "metadata": {},
      "outputs": [],
      "source": [
        "plotFunction(f3,levels=np.logspace(0,4,10))"
      ]
    },
    {
      "cell_type": "code",
      "execution_count": null,
      "metadata": {
        "collapsed": true
      },
      "outputs": [],
      "source": [
        "def plotConvergence( steps, exact , r ):\n",
        "       \n",
        "    error = la.norm(np.array(steps) - np.array(exact),axis=1)\n",
        "    ratio = []\n",
        "    for k in range(len(error)-1):\n",
        "        ratio.append( error[k+1]/error[k]**r )\n",
        "\n",
        "    fig = plt.figure(figsize=(4,4))\n",
        "\n",
        "    plt.plot(ratio, \"o-\", lw=3, ms=10)\n",
        "    plt.ylim(0,2)"
      ]
    },
    {
      "cell_type": "markdown",
      "metadata": {},
      "source": [
        "# Steepest Descent"
      ]
    },
    {
      "cell_type": "code",
      "execution_count": null,
      "metadata": {
        "collapsed": true
      },
      "outputs": [],
      "source": [
        "def steepestDescent(f,df,x0,maxiter,tol):\n",
        "\n",
        "    # Line search function\n",
        "    def f_line(alpha):\n",
        "        fnew = f(x + alpha*s)\n",
        "        return fnew\n",
        "    \n",
        "    steps = [x0]   \n",
        "    x = x0\n",
        "    fhist = [f(x)]\n",
        "    \n",
        "    # Steepest descent with line search\n",
        "    for i in range(maxiter):\n",
        "\n",
        "        # Get the gradient\n",
        "        s = -df(x)\n",
        "\n",
        "        # Line  search\n",
        "        alpha_opt = sopt.golden(f_line)\n",
        "\n",
        "        # Steepest descent update\n",
        "        xnew = x + alpha_opt * s\n",
        "\n",
        "        # Save optimized solution for plotting\n",
        "        steps.append(xnew)\n",
        "        \n",
        "        fhist.append(f(xnew))\n",
        "\n",
        "        # Check convergence\n",
        "        \n",
        "        if ( np.abs(fhist[-1] - fhist[-2]) < tol ):\n",
        "            break\n",
        "\n",
        "        x = xnew\n",
        "        \n",
        "    print('optimal solution is:', x)\n",
        "        \n",
        "    return steps, fhist, i   "
      ]
    },
    {
      "cell_type": "code",
      "execution_count": null,
      "metadata": {},
      "outputs": [],
      "source": [
        "# Initial guess\n",
        "x0 = np.array([2, 2./5])\n",
        "# Steepest descent\n",
        "steps, fhist, iterations = steepestDescent(f1,df1,x0,50,1e-6)\n",
        "print('converged in', iterations, 'iterations')\n",
        "# Plot convergence   \n",
        "plotFunction(f1,steps=np.array(steps),fhist=np.array(fhist))\n",
        "\n",
        "plotConvergence( steps, [0,0] , 1 )"
      ]
    },
    {
      "cell_type": "code",
      "execution_count": null,
      "metadata": {},
      "outputs": [],
      "source": [
        "# Initial guess\n",
        "x0 = np.array([-1.5, -1])\n",
        "# Steepest descent\n",
        "steps, fhist, iterations = steepestDescent(f2,df2,x0,50,1e-4)\n",
        "print('converged in', iterations, 'iterations')\n",
        "# Plot convergence   \n",
        "plotFunction(f2,steps=np.array(steps),fhist=np.array(fhist))\n",
        "\n"
      ]
    },
    {
      "cell_type": "code",
      "execution_count": null,
      "metadata": {},
      "outputs": [],
      "source": [
        "# Initial guess\n",
        "x0 = np.array([0, 1.75])\n",
        "# Steepest descent\n",
        "steps, fhist, iterations = steepestDescent(f3,df3,x0,1000,1e-6)\n",
        "print('converged in', iterations, 'iterations')\n",
        "# Plot convergence   \n",
        "plotFunction(f3,steps=np.array(steps),levels=np.logspace(0,4,8), fhist=np.array(fhist))\n",
        "\n",
        "plotConvergence( steps, [1 , 1] , 1 )"
      ]
    },
    {
      "cell_type": "code",
      "execution_count": null,
      "metadata": {},
      "outputs": [],
      "source": [
        "# Initial guess\n",
        "x0 = np.array([-0.5, -1])\n",
        "# Steepest descent\n",
        "steps, fhist, iterations = steepestDescent(f3,df3,x0,1000,1e-6)\n",
        "print('converged in', iterations, 'iterations')\n",
        "# Plot convergence   \n",
        "plotFunction(f3,steps=np.array(steps),levels=np.logspace(0,4,8), fhist=np.array(fhist))\n",
        "\n",
        "plotConvergence( steps, [1 , 1] , 1 )"
      ]
    },
    {
      "cell_type": "markdown",
      "metadata": {},
      "source": [
        "# Newton's method"
      ]
    },
    {
      "cell_type": "code",
      "execution_count": null,
      "metadata": {
        "collapsed": true
      },
      "outputs": [],
      "source": [
        "def NewtonMethod(f,df,ddf,x0,maxiter,tol):\n",
        "    \n",
        "    steps = [x0]   \n",
        "    x = x0\n",
        "    fhist = [f(x)]\n",
        "    \n",
        "    # Steepest descent with line search\n",
        "    for i in range(maxiter):\n",
        "\n",
        "        # Get the newton step\n",
        "        s = la.solve(ddf(x), -df(x))\n",
        "\n",
        "        # Steepest descent update\n",
        "        xnew = x + s\n",
        "\n",
        "        # Save optimized solution for plotting\n",
        "        steps.append(xnew)\n",
        "        \n",
        "        fhist.append(f(xnew))\n",
        "\n",
        "        # Check convergence\n",
        "        \n",
        "        if ( np.abs(fhist[-1] - fhist[-2]) < tol ):\n",
        "            break\n",
        "\n",
        "        x = xnew\n",
        "        \n",
        "    print('optimal solution is:', x)\n",
        "        \n",
        "    return steps, fhist, i "
      ]
    },
    {
      "cell_type": "code",
      "execution_count": null,
      "metadata": {},
      "outputs": [],
      "source": [
        "# Initial guess\n",
        "x0 = np.array([2, 2./5])\n",
        "# Newton's method\n",
        "steps, fhist, iterations = NewtonMethod(f1,df1,ddf1,x0,50,1e-6)\n",
        "print('converged in', iterations, 'iterations')\n",
        "# Plot convergence   \n",
        "plotFunction(f1,steps=np.array(steps),fhist=np.array(fhist))\n"
      ]
    },
    {
      "cell_type": "code",
      "execution_count": null,
      "metadata": {},
      "outputs": [],
      "source": [
        "# Initial guess\n",
        "x0 = np.array([-1, -1.0])\n",
        "# Newton's method\n",
        "steps, fhist, iterations = NewtonMethod(f2,df2,ddf2,x0,50,1e-6)\n",
        "print('converged in', iterations, 'iterations')\n",
        "# Plot convergence   \n",
        "plotFunction(f2,steps=np.array(steps),fhist=np.array(fhist))\n"
      ]
    },
    {
      "cell_type": "code",
      "execution_count": null,
      "metadata": {},
      "outputs": [],
      "source": [
        "# Initial guess\n",
        "x0 = np.array([-0.5, -1])\n",
        "# Newton's method\n",
        "steps, fhist, iterations = NewtonMethod(f3,df3,ddf3,x0,50,1e-8)\n",
        "print('converged in', iterations, 'iterations')\n",
        "# Plot convergence   \n",
        "plotFunction(f3,steps=np.array(steps),levels=np.logspace(0,4,8), fhist=np.array(fhist))\n",
        "\n",
        "plotConvergence( steps, [1 , 1] , 2 )"
      ]
    }
  ],
  "metadata": {
    "kernelspec": {
      "display_name": "Python 3",
      "language": "python",
      "name": "python3"
    },
    "language_info": {
      "codemirror_mode": {
        "name": "ipython",
        "version": 3
      },
      "file_extension": ".py",
      "mimetype": "text/x-python",
      "name": "python",
      "nbconvert_exporter": "python",
      "pygments_lexer": "ipython3",
      "version": "3.6.9"
    }
  },
  "nbformat": 4,
  "nbformat_minor": 1
}