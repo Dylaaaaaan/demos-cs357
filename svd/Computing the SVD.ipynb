{
 "cells": [
  {
   "cell_type": "markdown",
   "metadata": {},
   "source": [
    "# Computing the SVD"
   ]
  },
  {
   "cell_type": "code",
   "execution_count": 1,
   "metadata": {},
   "outputs": [],
   "source": [
    "import numpy as np\n",
    "import numpy.linalg as la"
   ]
  },
  {
   "cell_type": "code",
   "execution_count": 2,
   "metadata": {},
   "outputs": [],
   "source": [
    "np.random.seed(15)\n",
    "n = 5\n",
    "A = np.random.randn(n, n)"
   ]
  },
  {
   "cell_type": "markdown",
   "metadata": {},
   "source": [
    "Now compute the eigenvalues and eigenvectors of $A^TA$ as `eigvals` and `eigvecs` using `la.eig` or `la.eigh` (symmetric):"
   ]
  },
  {
   "cell_type": "code",
   "execution_count": 3,
   "metadata": {},
   "outputs": [],
   "source": [
    "eigvals, eigvecs = la.eigh(A.T.dot(A))"
   ]
  },
  {
   "cell_type": "code",
   "execution_count": 4,
   "metadata": {},
   "outputs": [
    {
     "data": {
      "text/plain": [
       "array([ 0.08637178,  0.457892  ,  2.04177547,  2.34383161,  8.37000184])"
      ]
     },
     "execution_count": 4,
     "metadata": {},
     "output_type": "execute_result"
    }
   ],
   "source": [
    "eigvals"
   ]
  },
  {
   "cell_type": "markdown",
   "metadata": {},
   "source": [
    "Eigenvalues are real and positive. Coincidence?"
   ]
  },
  {
   "cell_type": "code",
   "execution_count": 5,
   "metadata": {},
   "outputs": [
    {
     "data": {
      "text/plain": [
       "(5, 5)"
      ]
     },
     "execution_count": 5,
     "metadata": {},
     "output_type": "execute_result"
    }
   ],
   "source": [
    "eigvecs.shape"
   ]
  },
  {
   "cell_type": "markdown",
   "metadata": {},
   "source": [
    "Check that those are in fact eigenvectors and eigenvalues:"
   ]
  },
  {
   "cell_type": "code",
   "execution_count": 6,
   "metadata": {},
   "outputs": [
    {
     "data": {
      "text/plain": [
       "array([[ -4.44089210e-16,   1.33226763e-15,   8.88178420e-16,\n",
       "          0.00000000e+00,   8.88178420e-16],\n",
       "       [ -1.33226763e-15,  -2.66453526e-15,  -1.11022302e-15,\n",
       "         -6.66133815e-16,  -1.04083409e-16],\n",
       "       [ -1.33226763e-15,  -1.33226763e-15,  -1.77635684e-15,\n",
       "         -1.33226763e-15,  -1.38777878e-16],\n",
       "       [ -1.11022302e-15,  -4.44089210e-16,  -6.66133815e-16,\n",
       "          0.00000000e+00,   4.44089210e-16],\n",
       "       [ -6.66133815e-16,  -1.18655086e-15,  -8.32667268e-17,\n",
       "          4.44089210e-16,  -3.33066907e-16]])"
      ]
     },
     "execution_count": 6,
     "metadata": {},
     "output_type": "execute_result"
    }
   ],
   "source": [
    "B = A.T @ A\n",
    "B - eigvecs.dot(np.diag(eigvals)).dot(la.inv(eigvecs))"
   ]
  },
  {
   "cell_type": "markdown",
   "metadata": {},
   "source": [
    "`eigvecs` are orthonormal! (Why?)\n",
    "\n",
    "Check:"
   ]
  },
  {
   "cell_type": "code",
   "execution_count": 7,
   "metadata": {},
   "outputs": [
    {
     "data": {
      "text/plain": [
       "array([[  8.88178420e-16,  -4.15812854e-16,   7.81034232e-16,\n",
       "          4.23174543e-18,  -3.58191074e-16],\n",
       "       [ -4.15812854e-16,   8.88178420e-16,  -3.71296736e-16,\n",
       "          9.34491816e-17,   3.45918728e-16],\n",
       "       [  7.81034232e-16,  -3.71296736e-16,   1.55431223e-15,\n",
       "          1.70568878e-16,   1.15896627e-16],\n",
       "       [  4.23174543e-18,   9.34491816e-17,   1.70568878e-16,\n",
       "         -3.33066907e-16,   1.63757283e-16],\n",
       "       [ -3.58191074e-16,   3.45918728e-16,   1.15896627e-16,\n",
       "          1.63757283e-16,   4.44089210e-16]])"
      ]
     },
     "execution_count": 7,
     "metadata": {},
     "output_type": "execute_result"
    }
   ],
   "source": [
    "eigvecs.T @ eigvecs  - np.eye(n)"
   ]
  },
  {
   "cell_type": "markdown",
   "metadata": {},
   "source": [
    "------\n",
    "Now piece together the SVD:"
   ]
  },
  {
   "cell_type": "code",
   "execution_count": 8,
   "metadata": {},
   "outputs": [],
   "source": [
    "Sigma = np.diag(np.sqrt(eigvals))"
   ]
  },
  {
   "cell_type": "code",
   "execution_count": 9,
   "metadata": {},
   "outputs": [],
   "source": [
    "V = eigvecs"
   ]
  },
  {
   "cell_type": "code",
   "execution_count": 10,
   "metadata": {},
   "outputs": [],
   "source": [
    "U = A @ V @ la.inv(Sigma)"
   ]
  },
  {
   "cell_type": "markdown",
   "metadata": {},
   "source": [
    "Check orthogonality of `U`:"
   ]
  },
  {
   "cell_type": "code",
   "execution_count": 11,
   "metadata": {},
   "outputs": [
    {
     "data": {
      "text/plain": [
       "array([[ -4.55191440e-15,  -1.44914321e-15,   2.33203480e-17,\n",
       "         -1.71229507e-15,   8.53073413e-16],\n",
       "       [ -1.44914321e-15,   0.00000000e+00,   1.31232982e-16,\n",
       "         -1.98363562e-16,   7.54472065e-17],\n",
       "       [  2.33203480e-17,   1.31232982e-16,   2.22044605e-15,\n",
       "         -4.04491440e-16,   1.43492182e-15],\n",
       "       [ -1.71229507e-15,  -1.98363562e-16,  -4.04491440e-16,\n",
       "          2.22044605e-16,  -2.57408894e-16],\n",
       "       [  8.53073413e-16,   7.54472065e-17,   1.43492182e-15,\n",
       "         -2.57408894e-16,   4.44089210e-16]])"
      ]
     },
     "execution_count": 11,
     "metadata": {},
     "output_type": "execute_result"
    }
   ],
   "source": [
    "U @ U.T - np.eye(n)"
   ]
  },
  {
   "cell_type": "code",
   "execution_count": null,
   "metadata": {
    "collapsed": true
   },
   "outputs": [],
   "source": []
  }
 ],
 "metadata": {
  "kernelspec": {
   "display_name": "Python 3",
   "language": "python",
   "name": "python3"
  },
  "language_info": {
   "codemirror_mode": {
    "name": "ipython",
    "version": 3
   },
   "file_extension": ".py",
   "mimetype": "text/x-python",
   "name": "python",
   "nbconvert_exporter": "python",
   "pygments_lexer": "ipython3",
   "version": "3.6.3"
  },
  "widgets": {
   "state": {},
   "version": "1.1.2"
  }
 },
 "nbformat": 4,
 "nbformat_minor": 1
}
