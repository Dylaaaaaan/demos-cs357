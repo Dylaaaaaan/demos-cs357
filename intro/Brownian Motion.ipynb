{
 "cells": [
  {
   "cell_type": "markdown",
   "metadata": {},
   "source": [
    "Suppose we want to describe the motion of a particle in a gas:\n",
    "\n",
    "![Brownian motion](brownian-motion.gif)"
   ]
  },
  {
   "cell_type": "markdown",
   "metadata": {},
   "source": [
    "* We could model all those little particles and their collisions.\n",
    "\n",
    "* Model the motion of the big particle as random. \n",
    "\n",
    "* *Assume* the particle gets a 'bump' in X and Y that is uniformly distributed between $-0.1$ and $0.1$.\n",
    "\n",
    "Draw 10,000 random numbers modeling the bumps, print them, store them in the array `bumps`."
   ]
  },
  {
   "cell_type": "code",
   "execution_count": 6,
   "metadata": {
    "collapsed": true
   },
   "outputs": [],
   "source": [
    "#clear\n",
    "from random import uniform\n",
    "\n",
    "bumps = []\n",
    "for i in range(10000):\n",
    "    b = uniform(-0.1, 0.1)\n",
    "    bumps.append(b)"
   ]
  },
  {
   "cell_type": "markdown",
   "metadata": {},
   "source": [
    "Plot a histogram to confirm the distribution of the bumps:"
   ]
  },
  {
   "cell_type": "code",
   "execution_count": 7,
   "metadata": {},
   "outputs": [
    {
     "data": {
      "text/plain": [
       "(array([  952.,  1005.,  1054.,   964.,   958.,   993.,  1037.,  1000.,\n",
       "         1022.,  1015.]),\n",
       " array([ -9.99951245e-02,  -7.99979809e-02,  -6.00008372e-02,\n",
       "         -4.00036935e-02,  -2.00065499e-02,  -9.40622042e-06,\n",
       "          1.99877374e-02,   3.99848811e-02,   5.99820248e-02,\n",
       "          7.99791684e-02,   9.99763121e-02]),\n",
       " <a list of 10 Patch objects>)"
      ]
     },
     "execution_count": 7,
     "metadata": {},
     "output_type": "execute_result"
    },
    {
     "data": {
      "image/png": "[encoded data removed]",
      "text/plain": [
       "<matplotlib.figure.Figure at 0x112573f28>"
      ]
     },
     "metadata": {},
     "output_type": "display_data"
    }
   ],
   "source": [
    "import matplotlib.pyplot as pt\n",
    "%matplotlib inline\n",
    "pt.hist(bumps)"
   ]
  },
  {
   "cell_type": "markdown",
   "metadata": {},
   "source": [
    "**Question 1:** Where does the particle end up, on average?\n",
    "\n",
    "**Approach:** Sum the bumps."
   ]
  },
  {
   "cell_type": "code",
   "execution_count": 8,
   "metadata": {},
   "outputs": [
    {
     "data": {
      "text/plain": [
       "5.89395937957021"
      ]
     },
     "execution_count": 8,
     "metadata": {},
     "output_type": "execute_result"
    }
   ],
   "source": [
    "#clear\n",
    "sum(bumps)"
   ]
  },
  {
   "cell_type": "markdown",
   "metadata": {},
   "source": [
    "How did it get there?\n",
    "\n",
    "Plot the path."
   ]
  },
  {
   "cell_type": "code",
   "execution_count": 9,
   "metadata": {},
   "outputs": [
    {
     "data": {
      "text/plain": [
       "[<matplotlib.lines.Line2D at 0x1127136d8>]"
      ]
     },
     "execution_count": 9,
     "metadata": {},
     "output_type": "execute_result"
    },
    {
     "data": {
      "image/png": "[encoded data removed]",
      "text/plain": [
       "<matplotlib.figure.Figure at 0x1125cd588>"
      ]
     },
     "metadata": {},
     "output_type": "display_data"
    }
   ],
   "source": [
    "#clear\n",
    "pos = 0\n",
    "path = []\n",
    "for bump in bumps:\n",
    "    path.append(pos)\n",
    "    pos += bump\n",
    "path.append(pos)\n",
    "\n",
    "pt.plot(path)"
   ]
  },
  {
   "cell_type": "markdown",
   "metadata": {},
   "source": [
    "Individual realizations: not that helpful.\n",
    "\n",
    "Do 1000 of these. Store the endpoints in `endpoints`."
   ]
  },
  {
   "cell_type": "code",
   "execution_count": 10,
   "metadata": {},
   "outputs": [],
   "source": [
    "#clear\n",
    "from random import normalvariate\n",
    "\n",
    "endpoints = []\n",
    "\n",
    "for realization in range(1000):\n",
    "    bumps = []\n",
    "    for i in range(10000):\n",
    "        b = normalvariate(0, 0.1)\n",
    "        bumps.append(b)\n",
    "\n",
    "    endpoint = sum(bumps)\n",
    "    endpoints.append(endpoint)"
   ]
  },
  {
   "cell_type": "markdown",
   "metadata": {},
   "source": [
    "Plot a histogram of the endpoints:"
   ]
  },
  {
   "cell_type": "code",
   "execution_count": 11,
   "metadata": {},
   "outputs": [
    {
     "data": {
      "text/plain": [
       "(array([   4.,   13.,   67.,  175.,  280.,  235.,  157.,   50.,   17.,    2.]),\n",
       " array([-34.52829414, -27.46558672, -20.4028793 , -13.34017188,\n",
       "         -6.27746447,   0.78524295,   7.84795037,  14.91065779,\n",
       "         21.9733652 ,  29.03607262,  36.09878004]),\n",
       " <a list of 10 Patch objects>)"
      ]
     },
     "execution_count": 11,
     "metadata": {},
     "output_type": "execute_result"
    },
    {
     "data": {
      "image/png": "[encoded data removed]",
      "text/plain": [
       "<matplotlib.figure.Figure at 0x1126ec8d0>"
      ]
     },
     "metadata": {},
     "output_type": "display_data"
    }
   ],
   "source": [
    "pt.hist(endpoints)"
   ]
  },
  {
   "cell_type": "markdown",
   "metadata": {},
   "source": [
    "## Answering Question 1\n",
    "\n",
    "To answer our question 1: What is the *average* endpoint?"
   ]
  },
  {
   "cell_type": "code",
   "execution_count": 12,
   "metadata": {},
   "outputs": [
    {
     "data": {
      "text/plain": [
       "0.22224864028604643"
      ]
     },
     "execution_count": 12,
     "metadata": {},
     "output_type": "execute_result"
    }
   ],
   "source": [
    "sum(endpoints)/len(endpoints)"
   ]
  },
  {
   "cell_type": "code",
   "execution_count": null,
   "metadata": {
    "collapsed": true
   },
   "outputs": [],
   "source": []
  }
 ],
 "metadata": {
  "kernelspec": {
   "display_name": "Python 3",
   "language": "python",
   "name": "python3"
  },
  "language_info": {
   "codemirror_mode": {
    "name": "ipython",
    "version": 3
   },
   "file_extension": ".py",
   "mimetype": "text/x-python",
   "name": "python",
   "nbconvert_exporter": "python",
   "pygments_lexer": "ipython3",
   "version": "3.6.3"
  }
 },
 "nbformat": 4,
 "nbformat_minor": 1
}
