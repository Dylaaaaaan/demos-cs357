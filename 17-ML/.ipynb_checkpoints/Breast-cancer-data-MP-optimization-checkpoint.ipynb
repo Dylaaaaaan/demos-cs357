{
 "cells": [
  {
   "cell_type": "code",
   "execution_count": 77,
   "metadata": {
    "collapsed": true
   },
   "outputs": [],
   "source": [
    "import pandas as pd\n",
    "import numpy as np\n",
    "from io import StringIO\n",
    "import numpy.linalg as la\n",
    "import matplotlib.pyplot as plt\n",
    "from matplotlib import cm as cm\n",
    "import seaborn as sns\n",
    "sns.set(font_scale=2)\n",
    "plt.style.use('seaborn-whitegrid')\n",
    "%matplotlib inline\n",
    "import scipy.optimize as opt"
   ]
  },
  {
   "cell_type": "code",
   "execution_count": 97,
   "metadata": {
    "collapsed": true
   },
   "outputs": [],
   "source": [
    "# Correct Code\n",
    "import time\n",
    "import scipy.linalg as spla"
   ]
  },
  {
   "cell_type": "markdown",
   "metadata": {},
   "source": [
    "# Introduction"
   ]
  },
  {
   "cell_type": "markdown",
   "metadata": {},
   "source": [
    "A tumor is a mass of abnormal tissue. Malignant and benign tumors have different cell growth characteristics.\n",
    "\n",
    "For this activity, you will use python libraries such as `seaborn` and `scikit-learn` to:\n",
    "\n",
    "* explore the data using vizualization tools\n",
    "* run PCA to reduce the dimension of the dataset\n",
    "* split your data into training and test sets\n",
    "* create a model to predict wheter a tumor is malignant (cancerous / deadly) or benign (non-cancerous / safe) based on the tumor properties. \n"
   ]
  },
  {
   "cell_type": "markdown",
   "metadata": {},
   "source": [
    "### Load the dataset"
   ]
  },
  {
   "cell_type": "code",
   "execution_count": 3,
   "metadata": {},
   "outputs": [],
   "source": [
    "params = [\"radius\", \"texture\", \"perimeter\", \"area\",\n",
    "          \"smoothness\", \"compactness\", \"concavity\",\n",
    "          \"concave points\", \"symmetry\", \"fractal dimension\"];\n",
    "stats = [\"(mean)\", \"(stderr)\", \"(worst)\"]\n",
    "labels = [\"patient ID\", \"Malignant/Benign\"]\n",
    "\n",
    "for p in params:\n",
    "    for s in stats:\n",
    "        labels.append(p + \" \" + s)\n",
    "\n",
    "tumor_data = pd.io.parsers.read_csv(\"breast-cancer-dataset.dat\",header=None,names=labels)\n",
    "\n",
    "feature_labels = labels[2:]"
   ]
  },
  {
   "cell_type": "markdown",
   "metadata": {},
   "source": [
    "How many features in this dataset? How many patients?"
   ]
  },
  {
   "cell_type": "code",
   "execution_count": 4,
   "metadata": {},
   "outputs": [
    {
     "name": "stdout",
     "output_type": "stream",
     "text": [
      "# of patients =  560\n",
      "# of features =  30\n"
     ]
    }
   ],
   "source": [
    "#clear\n",
    "M = len(tumor_data)\n",
    "N = len(feature_labels)\n",
    "print(\"# of patients = \", M)\n",
    "print(\"# of features = \", N)"
   ]
  },
  {
   "cell_type": "code",
   "execution_count": 98,
   "metadata": {
    "collapsed": true
   },
   "outputs": [],
   "source": [
    "subset_headers = ['area (mean)','concavity (mean)','fractal dimension (mean)','compactness (mean)']\n",
    "b_header = np.random.choice([\"radius (mean)\",'perimeter (mean)'])\n",
    "A = np.float64(tumor_data[subset_headers].values)\n",
    "b = np.float64(tumor_data[b_header].values)"
   ]
  },
  {
   "cell_type": "code",
   "execution_count": 108,
   "metadata": {
    "collapsed": true
   },
   "outputs": [],
   "source": [
    "def func(x,A,b):\n",
    "    r = A@x-b\n",
    "    return 0.5*np.inner(r,r)\n",
    "\n",
    "def dfunc(x,A,b):\n",
    "    return A.T@(A@x-b)\n",
    "\n",
    "def d2func(x,A,b):\n",
    "    return A.T@A\n",
    "\n",
    "def obj(alpha,x,grad,A,b):\n",
    "    return func(x+alpha*grad,A,b)"
   ]
  },
  {
   "cell_type": "code",
   "execution_count": 117,
   "metadata": {},
   "outputs": [],
   "source": [
    "def solve_lstsq(A, b, solve_type):\n",
    "    x0 = np.random.rand(A.shape[1])\n",
    "    if solve_type == \"svd\":\n",
    "        U, sigma, VT = la.svd(A, full_matrices=False)\n",
    "        return VT.T @ ((U.T @ b) / sigma)\n",
    "    elif solve_type == \"newton\":\n",
    "        x_n = x0.copy()\n",
    "        Hinv = la.pinv(A.T @ A)\n",
    "        x_n = x_n - Hinv @ dfunc(x_n,A,b)\n",
    "        return x_n\n",
    "    elif solve_type == \"gd_fixed\":\n",
    "        x_fix = x0.copy()\n",
    "        er = 1\n",
    "        while er > 1e-5:\n",
    "            x_new = x_fix - alpha * dfunc(x_fix,A,b)\n",
    "            er = la.norm(x_new-x_fix)\n",
    "            x_fix = x_new\n",
    "        return x_fix\n",
    "    elif solve_type == \"gd_variable\":\n",
    "        x_var = x0.copy()\n",
    "        er = 1\n",
    "        while er > 1e-5:\n",
    "            grad = -dfunc(x_var,A,b)\n",
    "            alpha_star = opt.minimize_scalar(obj, args=(x_var,grad,A,b)).x\n",
    "            x_new = x_var + alpha_star * grad\n",
    "            er = la.norm(x_new-x_var)\n",
    "            x_var = x_new\n",
    "        return x_var\n"
   ]
  },
  {
   "cell_type": "code",
   "execution_count": 118,
   "metadata": {},
   "outputs": [
    {
     "name": "stdout",
     "output_type": "stream",
     "text": [
      "[-0.93913797  0.68443649  0.83496147  1.50310229]\n",
      "[-0.93913797  0.68443649  0.83496147  1.50310229]\n",
      "[-0.93839068  0.68209444  0.8348685   1.50357907]\n",
      "[-0.9388936   0.68367109  0.83493139  1.50325818]\n"
     ]
    }
   ],
   "source": [
    "x = solve_lstsq(A, b, \"svd\")\n",
    "print(x)\n",
    "print(solve_lstsq(A, b, \"newton\"))\n",
    "print(solve_lstsq(A, b, \"gd_fixed\"))\n",
    "print(solve_lstsq(A, b, \"gd_variable\"))"
   ]
  },
  {
   "cell_type": "code",
   "execution_count": 102,
   "metadata": {},
   "outputs": [
    {
     "name": "stdout",
     "output_type": "stream",
     "text": [
      "[-0.93964363 -0.31934407 -3.2789598  -0.65848936]\n",
      "[-0.93975552 -0.31935784 -3.27944134 -0.65851636]\n"
     ]
    }
   ],
   "source": [
    "x0 = np.random.rand(A.shape[1])\n",
    "\n",
    "ftrue = func(x0,A,b)\n",
    "dx = 0.0001\n",
    "gradFD = np.zeros(x0.shape)\n",
    "for i in range(len(x0)):\n",
    "    xval = np.copy(x0)\n",
    "    xval[i] += dx\n",
    "    gradFD[i] = (func(xval,A,b)-ftrue)/dx\n",
    "    \n",
    "print(gradFD)\n",
    "print(dfunc(x0,A,b))"
   ]
  },
  {
   "cell_type": "code",
   "execution_count": 103,
   "metadata": {
    "collapsed": true
   },
   "outputs": [],
   "source": [
    "indices = np.arange(len(b))\n",
    "np.random.shuffle(indices)\n",
    "def get_data(n):\n",
    "    return A[indices[:n], :], b[indices[:n]]"
   ]
  },
  {
   "cell_type": "code",
   "execution_count": 120,
   "metadata": {},
   "outputs": [
    {
     "name": "stdout",
     "output_type": "stream",
     "text": [
      "[50, 100, 200, 400, 800, 1600, 3200, 6400, 12800, 25600, 51200, 102400, 204800, 409600]\n",
      "(50, 4)\n",
      "(100, 4)\n",
      "(200, 4)\n",
      "(400, 4)\n",
      "(560, 4)\n",
      "(560, 4)\n",
      "(560, 4)\n",
      "(560, 4)\n",
      "(560, 4)\n",
      "(560, 4)\n",
      "(560, 4)\n",
      "(560, 4)\n",
      "(560, 4)\n",
      "(560, 4)\n"
     ]
    },
    {
     "data": {
      "image/png": "[encoded data removed]",
      "text/plain": [
       "<matplotlib.figure.Figure at 0x1a17cc4240>"
      ]
     },
     "metadata": {},
     "output_type": "display_data"
    }
   ],
   "source": [
    "methods = [\"svd\", \"newton\", \"gd_fixed\", \"gd_variable\"]\n",
    "times = [[], [], [], []]\n",
    "ns = [50*2**i for i in range(14)]\n",
    "print(ns)\n",
    "for n in ns:\n",
    "    An, bn = get_data(n)\n",
    "    print(An.shape)\n",
    "    for i, stype in enumerate(methods):\n",
    "        s = time.time()\n",
    "        solve_lstsq(An, bn, solve_type=stype)\n",
    "        diff = time.time() - s\n",
    "        times[i].append(diff)\n",
    "\n",
    "\n",
    "plt.plot(ns, times[3], 'r', label='GD: Variable Learning Rate')\n",
    "plt.plot(ns, times[2], 'b', label='GD: Fixed Learning Rate ')\n",
    "plt.plot(ns, times[1], 'g', label='Newton')\n",
    "plt.plot(ns, times[0], 'k', label='SVD')\n",
    "\n",
    "plt.yscale('log')\n",
    "plt.xscale('log')\n",
    "plt.title(\"Comparison of Timings for Different Methods\")\n",
    "plt.xlabel(\"Problem Size (n)\")\n",
    "plt.ylabel(\"Time (s)\")\n",
    "plt.legend(loc=0)\n",
    "plt.show()"
   ]
  },
  {
   "cell_type": "code",
   "execution_count": null,
   "metadata": {
    "collapsed": true
   },
   "outputs": [],
   "source": []
  }
 ],
 "metadata": {
  "kernelspec": {
   "display_name": "Python 3",
   "language": "python",
   "name": "python3"
  },
  "language_info": {
   "codemirror_mode": {
    "name": "ipython",
    "version": 3
   },
   "file_extension": ".py",
   "mimetype": "text/x-python",
   "name": "python",
   "nbconvert_exporter": "python",
   "pygments_lexer": "ipython3",
   "version": "3.6.3"
  }
 },
 "nbformat": 4,
 "nbformat_minor": 2
}
