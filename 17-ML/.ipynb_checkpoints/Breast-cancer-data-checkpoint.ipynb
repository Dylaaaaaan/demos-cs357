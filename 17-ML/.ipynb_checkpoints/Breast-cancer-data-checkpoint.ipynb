{
 "cells": [
  {
   "cell_type": "code",
   "execution_count": 1,
   "metadata": {
    "collapsed": true
   },
   "outputs": [],
   "source": [
    "import pandas as pd\n",
    "import numpy as np\n",
    "from io import StringIO\n",
    "import numpy.linalg as la\n",
    "import matplotlib.pyplot as plt\n",
    "from matplotlib import cm as cm\n",
    "import seaborn as sns\n",
    "sns.set(font_scale=2)\n",
    "plt.style.use('seaborn-whitegrid')\n",
    "%matplotlib inline\n"
   ]
  },
  {
   "cell_type": "markdown",
   "metadata": {},
   "source": [
    "# Introduction"
   ]
  },
  {
   "cell_type": "markdown",
   "metadata": {},
   "source": [
    "A tumor is a mass of abnormal tissue. Malignant and benign tumors have different cell growth characteristics.\n",
    "\n",
    "For this activity, you will use python libraries such as `seaborn` and `scikit-learn` to:\n",
    "\n",
    "* explore the data using vizualization tools\n",
    "* run PCA to reduce the dimension of the dataset\n",
    "* split your data into training and test sets\n",
    "* create a model to predict wheter a tumor is malignant (cancerous / deadly) or benign (non-cancerous / safe) based on the tumor properties. \n"
   ]
  },
  {
   "cell_type": "markdown",
   "metadata": {},
   "source": [
    "### Load the dataset"
   ]
  },
  {
   "cell_type": "code",
   "execution_count": 2,
   "metadata": {
    "collapsed": true
   },
   "outputs": [],
   "source": [
    "params = [\"radius\", \"texture\", \"perimeter\", \"area\",\n",
    "          \"smoothness\", \"compactness\", \"concavity\",\n",
    "          \"concave points\", \"symmetry\", \"fractal dimension\"];\n",
    "stats = [\"(mean)\", \"(stderr)\", \"(worst)\"]\n",
    "labels = [\"patient ID\", \"Malignant/Benign\"]\n",
    "\n",
    "for p in params:\n",
    "    for s in stats:\n",
    "        labels.append(p + \" \" + s)\n",
    "\n",
    "tumor_data = pd.io.parsers.read_csv(\"breast-cancer-dataset.dat\",header=None,names=labels)\n",
    "\n",
    "feature_labels = labels[2:]"
   ]
  },
  {
   "cell_type": "markdown",
   "metadata": {},
   "source": [
    "How many features in this dataset? How many patients?"
   ]
  },
  {
   "cell_type": "code",
   "execution_count": 6,
   "metadata": {},
   "outputs": [
    {
     "name": "stdout",
     "output_type": "stream",
     "text": [
      "# of patients =  560\n",
      "# of features =  30\n"
     ]
    }
   ],
   "source": [
    "#clear\n",
    "M = len(tumor_data)\n",
    "N = len(feature_labels)\n",
    "print(\"# of patients = \", M)\n",
    "print(\"# of features = \", N)"
   ]
  },
  {
   "cell_type": "markdown",
   "metadata": {},
   "source": [
    "You can inspect the first few lines of your data using `tumor_data.head()`"
   ]
  },
  {
   "cell_type": "code",
   "execution_count": 3,
   "metadata": {},
   "outputs": [
    {
     "data": {
      "text/html": [
       "<div>\n",
       "<style>\n",
       "    .dataframe thead tr:only-child th {\n",
       "        text-align: right;\n",
       "    }\n",
       "\n",
       "    .dataframe thead th {\n",
       "        text-align: left;\n",
       "    }\n",
       "\n",
       "    .dataframe tbody tr th {\n",
       "        vertical-align: top;\n",
       "    }\n",
       "</style>\n",
       "<table border=\"1\" class=\"dataframe\">\n",
       "  <thead>\n",
       "    <tr style=\"text-align: right;\">\n",
       "      <th></th>\n",
       "      <th>patient ID</th>\n",
       "      <th>Malignant/Benign</th>\n",
       "      <th>radius (mean)</th>\n",
       "      <th>radius (stderr)</th>\n",
       "      <th>radius (worst)</th>\n",
       "      <th>texture (mean)</th>\n",
       "      <th>texture (stderr)</th>\n",
       "      <th>texture (worst)</th>\n",
       "      <th>perimeter (mean)</th>\n",
       "      <th>perimeter (stderr)</th>\n",
       "      <th>...</th>\n",
       "      <th>concavity (worst)</th>\n",
       "      <th>concave points (mean)</th>\n",
       "      <th>concave points (stderr)</th>\n",
       "      <th>concave points (worst)</th>\n",
       "      <th>symmetry (mean)</th>\n",
       "      <th>symmetry (stderr)</th>\n",
       "      <th>symmetry (worst)</th>\n",
       "      <th>fractal dimension (mean)</th>\n",
       "      <th>fractal dimension (stderr)</th>\n",
       "      <th>fractal dimension (worst)</th>\n",
       "    </tr>\n",
       "  </thead>\n",
       "  <tbody>\n",
       "    <tr>\n",
       "      <th>0</th>\n",
       "      <td>842302</td>\n",
       "      <td>M</td>\n",
       "      <td>17.99</td>\n",
       "      <td>10.38</td>\n",
       "      <td>122.80</td>\n",
       "      <td>1001.0</td>\n",
       "      <td>0.11840</td>\n",
       "      <td>0.27760</td>\n",
       "      <td>0.3001</td>\n",
       "      <td>0.14710</td>\n",
       "      <td>...</td>\n",
       "      <td>25.38</td>\n",
       "      <td>17.33</td>\n",
       "      <td>184.60</td>\n",
       "      <td>2019.0</td>\n",
       "      <td>0.1622</td>\n",
       "      <td>0.6656</td>\n",
       "      <td>0.7119</td>\n",
       "      <td>0.2654</td>\n",
       "      <td>0.4601</td>\n",
       "      <td>0.11890</td>\n",
       "    </tr>\n",
       "    <tr>\n",
       "      <th>1</th>\n",
       "      <td>842517</td>\n",
       "      <td>M</td>\n",
       "      <td>20.57</td>\n",
       "      <td>17.77</td>\n",
       "      <td>132.90</td>\n",
       "      <td>1326.0</td>\n",
       "      <td>0.08474</td>\n",
       "      <td>0.07864</td>\n",
       "      <td>0.0869</td>\n",
       "      <td>0.07017</td>\n",
       "      <td>...</td>\n",
       "      <td>24.99</td>\n",
       "      <td>23.41</td>\n",
       "      <td>158.80</td>\n",
       "      <td>1956.0</td>\n",
       "      <td>0.1238</td>\n",
       "      <td>0.1866</td>\n",
       "      <td>0.2416</td>\n",
       "      <td>0.1860</td>\n",
       "      <td>0.2750</td>\n",
       "      <td>0.08902</td>\n",
       "    </tr>\n",
       "    <tr>\n",
       "      <th>2</th>\n",
       "      <td>84300903</td>\n",
       "      <td>M</td>\n",
       "      <td>19.69</td>\n",
       "      <td>21.25</td>\n",
       "      <td>130.00</td>\n",
       "      <td>1203.0</td>\n",
       "      <td>0.10960</td>\n",
       "      <td>0.15990</td>\n",
       "      <td>0.1974</td>\n",
       "      <td>0.12790</td>\n",
       "      <td>...</td>\n",
       "      <td>23.57</td>\n",
       "      <td>25.53</td>\n",
       "      <td>152.50</td>\n",
       "      <td>1709.0</td>\n",
       "      <td>0.1444</td>\n",
       "      <td>0.4245</td>\n",
       "      <td>0.4504</td>\n",
       "      <td>0.2430</td>\n",
       "      <td>0.3613</td>\n",
       "      <td>0.08758</td>\n",
       "    </tr>\n",
       "    <tr>\n",
       "      <th>3</th>\n",
       "      <td>84348301</td>\n",
       "      <td>M</td>\n",
       "      <td>11.42</td>\n",
       "      <td>20.38</td>\n",
       "      <td>77.58</td>\n",
       "      <td>386.1</td>\n",
       "      <td>0.14250</td>\n",
       "      <td>0.28390</td>\n",
       "      <td>0.2414</td>\n",
       "      <td>0.10520</td>\n",
       "      <td>...</td>\n",
       "      <td>14.91</td>\n",
       "      <td>26.50</td>\n",
       "      <td>98.87</td>\n",
       "      <td>567.7</td>\n",
       "      <td>0.2098</td>\n",
       "      <td>0.8663</td>\n",
       "      <td>0.6869</td>\n",
       "      <td>0.2575</td>\n",
       "      <td>0.6638</td>\n",
       "      <td>0.17300</td>\n",
       "    </tr>\n",
       "    <tr>\n",
       "      <th>4</th>\n",
       "      <td>84358402</td>\n",
       "      <td>M</td>\n",
       "      <td>20.29</td>\n",
       "      <td>14.34</td>\n",
       "      <td>135.10</td>\n",
       "      <td>1297.0</td>\n",
       "      <td>0.10030</td>\n",
       "      <td>0.13280</td>\n",
       "      <td>0.1980</td>\n",
       "      <td>0.10430</td>\n",
       "      <td>...</td>\n",
       "      <td>22.54</td>\n",
       "      <td>16.67</td>\n",
       "      <td>152.20</td>\n",
       "      <td>1575.0</td>\n",
       "      <td>0.1374</td>\n",
       "      <td>0.2050</td>\n",
       "      <td>0.4000</td>\n",
       "      <td>0.1625</td>\n",
       "      <td>0.2364</td>\n",
       "      <td>0.07678</td>\n",
       "    </tr>\n",
       "  </tbody>\n",
       "</table>\n",
       "<p>5 rows × 32 columns</p>\n",
       "</div>"
      ],
      "text/plain": [
       "   patient ID Malignant/Benign  radius (mean)  radius (stderr)  \\\n",
       "0      842302                M          17.99            10.38   \n",
       "1      842517                M          20.57            17.77   \n",
       "2    84300903                M          19.69            21.25   \n",
       "3    84348301                M          11.42            20.38   \n",
       "4    84358402                M          20.29            14.34   \n",
       "\n",
       "   radius (worst)  texture (mean)  texture (stderr)  texture (worst)  \\\n",
       "0          122.80          1001.0           0.11840          0.27760   \n",
       "1          132.90          1326.0           0.08474          0.07864   \n",
       "2          130.00          1203.0           0.10960          0.15990   \n",
       "3           77.58           386.1           0.14250          0.28390   \n",
       "4          135.10          1297.0           0.10030          0.13280   \n",
       "\n",
       "   perimeter (mean)  perimeter (stderr)            ...              \\\n",
       "0            0.3001             0.14710            ...               \n",
       "1            0.0869             0.07017            ...               \n",
       "2            0.1974             0.12790            ...               \n",
       "3            0.2414             0.10520            ...               \n",
       "4            0.1980             0.10430            ...               \n",
       "\n",
       "   concavity (worst)  concave points (mean)  concave points (stderr)  \\\n",
       "0              25.38                  17.33                   184.60   \n",
       "1              24.99                  23.41                   158.80   \n",
       "2              23.57                  25.53                   152.50   \n",
       "3              14.91                  26.50                    98.87   \n",
       "4              22.54                  16.67                   152.20   \n",
       "\n",
       "   concave points (worst)  symmetry (mean)  symmetry (stderr)  \\\n",
       "0                  2019.0           0.1622             0.6656   \n",
       "1                  1956.0           0.1238             0.1866   \n",
       "2                  1709.0           0.1444             0.4245   \n",
       "3                   567.7           0.2098             0.8663   \n",
       "4                  1575.0           0.1374             0.2050   \n",
       "\n",
       "   symmetry (worst)  fractal dimension (mean)  fractal dimension (stderr)  \\\n",
       "0            0.7119                    0.2654                      0.4601   \n",
       "1            0.2416                    0.1860                      0.2750   \n",
       "2            0.4504                    0.2430                      0.3613   \n",
       "3            0.6869                    0.2575                      0.6638   \n",
       "4            0.4000                    0.1625                      0.2364   \n",
       "\n",
       "   fractal dimension (worst)  \n",
       "0                    0.11890  \n",
       "1                    0.08902  \n",
       "2                    0.08758  \n",
       "3                    0.17300  \n",
       "4                    0.07678  \n",
       "\n",
       "[5 rows x 32 columns]"
      ]
     },
     "execution_count": 3,
     "metadata": {},
     "output_type": "execute_result"
    }
   ],
   "source": [
    "#clear\n",
    "tumor_data.head()"
   ]
  },
  {
   "cell_type": "markdown",
   "metadata": {},
   "source": [
    "Define `X` as the dataset with the features for all patients (not including the patient ID and diagnosis):"
   ]
  },
  {
   "cell_type": "code",
   "execution_count": 4,
   "metadata": {},
   "outputs": [
    {
     "data": {
      "text/html": [
       "<div>\n",
       "<style>\n",
       "    .dataframe thead tr:only-child th {\n",
       "        text-align: right;\n",
       "    }\n",
       "\n",
       "    .dataframe thead th {\n",
       "        text-align: left;\n",
       "    }\n",
       "\n",
       "    .dataframe tbody tr th {\n",
       "        vertical-align: top;\n",
       "    }\n",
       "</style>\n",
       "<table border=\"1\" class=\"dataframe\">\n",
       "  <thead>\n",
       "    <tr style=\"text-align: right;\">\n",
       "      <th></th>\n",
       "      <th>radius (mean)</th>\n",
       "      <th>radius (stderr)</th>\n",
       "      <th>radius (worst)</th>\n",
       "      <th>texture (mean)</th>\n",
       "      <th>texture (stderr)</th>\n",
       "      <th>texture (worst)</th>\n",
       "      <th>perimeter (mean)</th>\n",
       "      <th>perimeter (stderr)</th>\n",
       "      <th>perimeter (worst)</th>\n",
       "      <th>area (mean)</th>\n",
       "      <th>...</th>\n",
       "      <th>concavity (worst)</th>\n",
       "      <th>concave points (mean)</th>\n",
       "      <th>concave points (stderr)</th>\n",
       "      <th>concave points (worst)</th>\n",
       "      <th>symmetry (mean)</th>\n",
       "      <th>symmetry (stderr)</th>\n",
       "      <th>symmetry (worst)</th>\n",
       "      <th>fractal dimension (mean)</th>\n",
       "      <th>fractal dimension (stderr)</th>\n",
       "      <th>fractal dimension (worst)</th>\n",
       "    </tr>\n",
       "  </thead>\n",
       "  <tbody>\n",
       "    <tr>\n",
       "      <th>0</th>\n",
       "      <td>17.99</td>\n",
       "      <td>10.38</td>\n",
       "      <td>122.80</td>\n",
       "      <td>1001.0</td>\n",
       "      <td>0.11840</td>\n",
       "      <td>0.27760</td>\n",
       "      <td>0.3001</td>\n",
       "      <td>0.14710</td>\n",
       "      <td>0.2419</td>\n",
       "      <td>0.07871</td>\n",
       "      <td>...</td>\n",
       "      <td>25.38</td>\n",
       "      <td>17.33</td>\n",
       "      <td>184.60</td>\n",
       "      <td>2019.0</td>\n",
       "      <td>0.1622</td>\n",
       "      <td>0.6656</td>\n",
       "      <td>0.7119</td>\n",
       "      <td>0.2654</td>\n",
       "      <td>0.4601</td>\n",
       "      <td>0.11890</td>\n",
       "    </tr>\n",
       "    <tr>\n",
       "      <th>1</th>\n",
       "      <td>20.57</td>\n",
       "      <td>17.77</td>\n",
       "      <td>132.90</td>\n",
       "      <td>1326.0</td>\n",
       "      <td>0.08474</td>\n",
       "      <td>0.07864</td>\n",
       "      <td>0.0869</td>\n",
       "      <td>0.07017</td>\n",
       "      <td>0.1812</td>\n",
       "      <td>0.05667</td>\n",
       "      <td>...</td>\n",
       "      <td>24.99</td>\n",
       "      <td>23.41</td>\n",
       "      <td>158.80</td>\n",
       "      <td>1956.0</td>\n",
       "      <td>0.1238</td>\n",
       "      <td>0.1866</td>\n",
       "      <td>0.2416</td>\n",
       "      <td>0.1860</td>\n",
       "      <td>0.2750</td>\n",
       "      <td>0.08902</td>\n",
       "    </tr>\n",
       "    <tr>\n",
       "      <th>2</th>\n",
       "      <td>19.69</td>\n",
       "      <td>21.25</td>\n",
       "      <td>130.00</td>\n",
       "      <td>1203.0</td>\n",
       "      <td>0.10960</td>\n",
       "      <td>0.15990</td>\n",
       "      <td>0.1974</td>\n",
       "      <td>0.12790</td>\n",
       "      <td>0.2069</td>\n",
       "      <td>0.05999</td>\n",
       "      <td>...</td>\n",
       "      <td>23.57</td>\n",
       "      <td>25.53</td>\n",
       "      <td>152.50</td>\n",
       "      <td>1709.0</td>\n",
       "      <td>0.1444</td>\n",
       "      <td>0.4245</td>\n",
       "      <td>0.4504</td>\n",
       "      <td>0.2430</td>\n",
       "      <td>0.3613</td>\n",
       "      <td>0.08758</td>\n",
       "    </tr>\n",
       "    <tr>\n",
       "      <th>3</th>\n",
       "      <td>11.42</td>\n",
       "      <td>20.38</td>\n",
       "      <td>77.58</td>\n",
       "      <td>386.1</td>\n",
       "      <td>0.14250</td>\n",
       "      <td>0.28390</td>\n",
       "      <td>0.2414</td>\n",
       "      <td>0.10520</td>\n",
       "      <td>0.2597</td>\n",
       "      <td>0.09744</td>\n",
       "      <td>...</td>\n",
       "      <td>14.91</td>\n",
       "      <td>26.50</td>\n",
       "      <td>98.87</td>\n",
       "      <td>567.7</td>\n",
       "      <td>0.2098</td>\n",
       "      <td>0.8663</td>\n",
       "      <td>0.6869</td>\n",
       "      <td>0.2575</td>\n",
       "      <td>0.6638</td>\n",
       "      <td>0.17300</td>\n",
       "    </tr>\n",
       "    <tr>\n",
       "      <th>4</th>\n",
       "      <td>20.29</td>\n",
       "      <td>14.34</td>\n",
       "      <td>135.10</td>\n",
       "      <td>1297.0</td>\n",
       "      <td>0.10030</td>\n",
       "      <td>0.13280</td>\n",
       "      <td>0.1980</td>\n",
       "      <td>0.10430</td>\n",
       "      <td>0.1809</td>\n",
       "      <td>0.05883</td>\n",
       "      <td>...</td>\n",
       "      <td>22.54</td>\n",
       "      <td>16.67</td>\n",
       "      <td>152.20</td>\n",
       "      <td>1575.0</td>\n",
       "      <td>0.1374</td>\n",
       "      <td>0.2050</td>\n",
       "      <td>0.4000</td>\n",
       "      <td>0.1625</td>\n",
       "      <td>0.2364</td>\n",
       "      <td>0.07678</td>\n",
       "    </tr>\n",
       "  </tbody>\n",
       "</table>\n",
       "<p>5 rows × 30 columns</p>\n",
       "</div>"
      ],
      "text/plain": [
       "   radius (mean)  radius (stderr)  radius (worst)  texture (mean)  \\\n",
       "0          17.99            10.38          122.80          1001.0   \n",
       "1          20.57            17.77          132.90          1326.0   \n",
       "2          19.69            21.25          130.00          1203.0   \n",
       "3          11.42            20.38           77.58           386.1   \n",
       "4          20.29            14.34          135.10          1297.0   \n",
       "\n",
       "   texture (stderr)  texture (worst)  perimeter (mean)  perimeter (stderr)  \\\n",
       "0           0.11840          0.27760            0.3001             0.14710   \n",
       "1           0.08474          0.07864            0.0869             0.07017   \n",
       "2           0.10960          0.15990            0.1974             0.12790   \n",
       "3           0.14250          0.28390            0.2414             0.10520   \n",
       "4           0.10030          0.13280            0.1980             0.10430   \n",
       "\n",
       "   perimeter (worst)  area (mean)            ...              \\\n",
       "0             0.2419      0.07871            ...               \n",
       "1             0.1812      0.05667            ...               \n",
       "2             0.2069      0.05999            ...               \n",
       "3             0.2597      0.09744            ...               \n",
       "4             0.1809      0.05883            ...               \n",
       "\n",
       "   concavity (worst)  concave points (mean)  concave points (stderr)  \\\n",
       "0              25.38                  17.33                   184.60   \n",
       "1              24.99                  23.41                   158.80   \n",
       "2              23.57                  25.53                   152.50   \n",
       "3              14.91                  26.50                    98.87   \n",
       "4              22.54                  16.67                   152.20   \n",
       "\n",
       "   concave points (worst)  symmetry (mean)  symmetry (stderr)  \\\n",
       "0                  2019.0           0.1622             0.6656   \n",
       "1                  1956.0           0.1238             0.1866   \n",
       "2                  1709.0           0.1444             0.4245   \n",
       "3                   567.7           0.2098             0.8663   \n",
       "4                  1575.0           0.1374             0.2050   \n",
       "\n",
       "   symmetry (worst)  fractal dimension (mean)  fractal dimension (stderr)  \\\n",
       "0            0.7119                    0.2654                      0.4601   \n",
       "1            0.2416                    0.1860                      0.2750   \n",
       "2            0.4504                    0.2430                      0.3613   \n",
       "3            0.6869                    0.2575                      0.6638   \n",
       "4            0.4000                    0.1625                      0.2364   \n",
       "\n",
       "   fractal dimension (worst)  \n",
       "0                    0.11890  \n",
       "1                    0.08902  \n",
       "2                    0.08758  \n",
       "3                    0.17300  \n",
       "4                    0.07678  \n",
       "\n",
       "[5 rows x 30 columns]"
      ]
     },
     "execution_count": 4,
     "metadata": {},
     "output_type": "execute_result"
    }
   ],
   "source": [
    "#clear\n",
    "X = tumor_data[feature_labels]\n",
    "X.head()"
   ]
  },
  {
   "cell_type": "markdown",
   "metadata": {},
   "source": [
    "Inspect the mean value for each feature using `X.mean()`"
   ]
  },
  {
   "cell_type": "code",
   "execution_count": 5,
   "metadata": {},
   "outputs": [
    {
     "data": {
      "text/plain": [
       "radius (mean)                  14.089980\n",
       "radius (stderr)                19.162482\n",
       "radius (worst)                 91.700732\n",
       "texture (mean)                650.959821\n",
       "texture (stderr)                0.096387\n",
       "texture (worst)                 0.103835\n",
       "perimeter (mean)                0.087639\n",
       "perimeter (stderr)              0.048408\n",
       "perimeter (worst)               0.181229\n",
       "area (mean)                     0.062817\n",
       "area (stderr)                   0.402022\n",
       "area (worst)                    1.208846\n",
       "smoothness (mean)               2.839496\n",
       "smoothness (stderr)            39.903639\n",
       "smoothness (worst)              0.007044\n",
       "compactness (mean)              0.025381\n",
       "compactness (stderr)            0.031723\n",
       "compactness (worst)             0.011750\n",
       "concavity (mean)                0.020558\n",
       "concavity (stderr)              0.003786\n",
       "concavity (worst)              16.222898\n",
       "concave points (mean)          25.532339\n",
       "concave points (stderr)       106.887286\n",
       "concave points (worst)        875.356964\n",
       "symmetry (mean)                 0.132486\n",
       "symmetry (stderr)               0.252750\n",
       "symmetry (worst)                0.269467\n",
       "fractal dimension (mean)        0.113973\n",
       "fractal dimension (stderr)      0.290337\n",
       "fractal dimension (worst)       0.083881\n",
       "dtype: float64"
      ]
     },
     "execution_count": 5,
     "metadata": {},
     "output_type": "execute_result"
    }
   ],
   "source": [
    "#clear\n",
    "X.mean()"
   ]
  },
  {
   "cell_type": "markdown",
   "metadata": {},
   "source": [
    "Inspect the standard deviation for each feature using X.std()"
   ]
  },
  {
   "cell_type": "code",
   "execution_count": 6,
   "metadata": {},
   "outputs": [
    {
     "data": {
      "text/plain": [
       "radius (mean)                   3.492242\n",
       "radius (stderr)                 4.203534\n",
       "radius (worst)                 24.059232\n",
       "texture (mean)                349.012739\n",
       "texture (stderr)                0.013956\n",
       "texture (worst)                 0.052155\n",
       "perimeter (mean)                0.078165\n",
       "perimeter (stderr)              0.038238\n",
       "perimeter (worst)               0.027208\n",
       "area (mean)                     0.007069\n",
       "area (stderr)                   0.275745\n",
       "area (worst)                    0.541256\n",
       "smoothness (mean)               2.005562\n",
       "smoothness (stderr)            45.324666\n",
       "smoothness (worst)              0.003021\n",
       "compactness (mean)              0.017902\n",
       "compactness (stderr)            0.030182\n",
       "compactness (worst)             0.006111\n",
       "concavity (mean)                0.008312\n",
       "concavity (stderr)              0.002658\n",
       "concavity (worst)               4.803628\n",
       "concave points (mean)           6.053173\n",
       "concave points (stderr)        33.307675\n",
       "concave points (worst)        566.901044\n",
       "symmetry (mean)                 0.022807\n",
       "symmetry (stderr)               0.154141\n",
       "symmetry (worst)                0.203384\n",
       "fractal dimension (mean)        0.064925\n",
       "fractal dimension (stderr)      0.061452\n",
       "fractal dimension (worst)       0.017890\n",
       "dtype: float64"
      ]
     },
     "execution_count": 6,
     "metadata": {},
     "output_type": "execute_result"
    }
   ],
   "source": [
    "#clear\n",
    "X.std()"
   ]
  },
  {
   "cell_type": "markdown",
   "metadata": {},
   "source": [
    "Define Y, an array with the diagnosis for each patient. We will later use a classification algorithm to help predict patient's diagnosis (based on the features, should a patient tumor be classified as a `M` or `B`?)"
   ]
  },
  {
   "cell_type": "code",
   "execution_count": 7,
   "metadata": {
    "collapsed": true
   },
   "outputs": [],
   "source": [
    "#clear\n",
    "Y = tumor_data['Malignant/Benign']"
   ]
  },
  {
   "cell_type": "markdown",
   "metadata": {},
   "source": [
    "For visualization purposes only, you can select a subset of the features, and use \n",
    "\n",
    "`seaborn.pairplot(data)`\n",
    "\n",
    "to plot pairwise relationships in the dataset (you could plot all of the feature pairs, but this would generate a lot of plots!)"
   ]
  },
  {
   "cell_type": "code",
   "execution_count": 8,
   "metadata": {
    "collapsed": true
   },
   "outputs": [],
   "source": [
    "mean_label = [labels[1]] + labels[2::3] \n",
    "#sns.pairplot(tumor_data[mean_label], hue=\"Malignant/Benign\", plot_kws = {'alpha': 0.6, 's': 80, 'edgecolor': 'k'})"
   ]
  },
  {
   "cell_type": "markdown",
   "metadata": {},
   "source": [
    "Or we can look at the plot of the correlation matrix for all the featues:"
   ]
  },
  {
   "cell_type": "code",
   "execution_count": 9,
   "metadata": {
    "scrolled": false
   },
   "outputs": [
    {
     "data": {
      "text/plain": [
       "<matplotlib.colorbar.Colorbar at 0x10fd6e198>"
      ]
     },
     "execution_count": 9,
     "metadata": {},
     "output_type": "execute_result"
    },
    {
     "data": {
      "image/png": "[encoded data removed]",
      "text/plain": [
       "<matplotlib.figure.Figure at 0x10fbb4518>"
      ]
     },
     "metadata": {},
     "output_type": "display_data"
    }
   ],
   "source": [
    "corr_matrix = X.corr()\n",
    "# plot correlation matrix\n",
    "fig = plt.figure(figsize = (14,8))\n",
    "ax1 = fig.add_subplot(111)\n",
    "cax = ax1.imshow(corr_matrix, cmap=cm.get_cmap('jet'))\n",
    "plt.title('Tumor features correlation matrix')\n",
    "plt.grid(False)\n",
    "ax1.set_xticks(np.arange(len(feature_labels)))\n",
    "ax1.set_yticks(np.arange(len(feature_labels)))\n",
    "ax1.set_xticklabels(feature_labels,fontsize=10,rotation=90)\n",
    "ax1.set_yticklabels(feature_labels,fontsize=10)\n",
    "fig.colorbar(cax)"
   ]
  },
  {
   "cell_type": "markdown",
   "metadata": {},
   "source": [
    "Overwhelming? Don’t worry, in some cases the effective dimension of your problem might be much smaller than the number of the features, such as in data sets where some features are irrelevant. Is that the case here? "
   ]
  },
  {
   "cell_type": "markdown",
   "metadata": {
    "collapsed": true
   },
   "source": [
    "# Splitting the dataset"
   ]
  },
  {
   "cell_type": "markdown",
   "metadata": {},
   "source": [
    "To assess the model’s performance later, we divide the dataset into two parts: a training set and a test set. The first is used to train the system, while the second is used to evaluate the learned or trained system. \n",
    "\n",
    "We are going to use `sklearn.model_selection.train_test_split` to split the dataset"
   ]
  },
  {
   "cell_type": "code",
   "execution_count": 10,
   "metadata": {
    "collapsed": true
   },
   "outputs": [],
   "source": [
    "from sklearn.model_selection import train_test_split"
   ]
  },
  {
   "cell_type": "markdown",
   "metadata": {},
   "source": [
    "A common splitting choice is to take 2/3 of your original data set as the training set, while the 1/3 that remains will compose the test set. You should select this proportion by assigning the variable `s` and setting the argument `test_sizes = s`"
   ]
  },
  {
   "cell_type": "code",
   "execution_count": 11,
   "metadata": {
    "collapsed": true
   },
   "outputs": [],
   "source": [
    "#clear \n",
    "s = 0.3"
   ]
  },
  {
   "cell_type": "markdown",
   "metadata": {},
   "source": [
    "We will fix the seed for the random number generator, in order to get reproducible results"
   ]
  },
  {
   "cell_type": "code",
   "execution_count": 12,
   "metadata": {
    "collapsed": true
   },
   "outputs": [],
   "source": [
    "#clear\n",
    "seed = 42"
   ]
  },
  {
   "cell_type": "markdown",
   "metadata": {},
   "source": [
    "Use:  `X_train, X_test, Y_train, Y_test = train_test_split(X, Y, test_size=s, random_state=seed)`\n",
    "\n",
    "to split the dataset into the set of features and diagnosis used for training (X_train,Y_train) and a set used for evaluating the trained system (X_test,Y_test)\n"
   ]
  },
  {
   "cell_type": "code",
   "execution_count": 13,
   "metadata": {
    "collapsed": true
   },
   "outputs": [],
   "source": [
    "#clear\n",
    "X_train, X_test, Y_train, Y_test = train_test_split(X, Y, test_size=s, random_state=seed)"
   ]
  },
  {
   "cell_type": "markdown",
   "metadata": {},
   "source": [
    "# PCA\n",
    "\n",
    "When you use algorithms for classification tasks, not all features will contribute well to the generalization capacity of your model. Some irrelevant and correlated attributes can even decrease the performance of some algorithms, contributing to overfitting, for example.\n",
    "\n",
    "It is now your responsibility to choose the best set of features that will make your models performs better! Use  PCA to reduce the feature space of the training set while still retaining the most meaningful information about the features."
   ]
  },
  {
   "cell_type": "markdown",
   "metadata": {},
   "source": [
    "### 1) Scaling the training set"
   ]
  },
  {
   "cell_type": "markdown",
   "metadata": {},
   "source": [
    "We will now `center the training data` by making it have zero mean and unit standard deviation. We will first do this step explicility, like we have done in previous activities, before calling SVD to compute the variances. Let's revise how we were solving PCA before:"
   ]
  },
  {
   "cell_type": "code",
   "execution_count": 61,
   "metadata": {},
   "outputs": [
    {
     "name": "stdout",
     "output_type": "stream",
     "text": [
      "[  9.80235252e-01   1.76388461e-02   1.90610748e-03   1.20447599e-04\n",
      "   8.72383033e-05   6.84948034e-06   3.78245320e-06   8.65500617e-07\n",
      "   3.55017700e-07   1.58090830e-07   6.51888543e-08   1.49593710e-08\n",
      "   6.92494738e-09   4.50523385e-09   3.03706337e-09   1.27544572e-09\n",
      "   8.53783527e-10   4.87077530e-10   4.12137475e-10   3.36099268e-10\n",
      "   1.68075533e-10   1.30882995e-10   8.10116499e-11   5.40419239e-11\n",
      "   3.54896936e-11   2.75410670e-11   7.61430739e-12   6.24731176e-12\n",
      "   4.98193116e-12   1.63035465e-12]\n"
     ]
    }
   ],
   "source": [
    "Xzero = X_train-X_train.mean()\n",
    "Xscaled = Xzero/X_train.std()\n",
    "U,sigma,Vt = la.svd(Xzero,full_matrices=False)\n",
    "variance=sigma**2\n",
    "total_variance = sum(variance)\n",
    "print(variance/total_variance)"
   ]
  },
  {
   "cell_type": "markdown",
   "metadata": {},
   "source": [
    "From now on, we will use the PCA class from sklearn:"
   ]
  },
  {
   "cell_type": "code",
   "execution_count": 16,
   "metadata": {
    "collapsed": true
   },
   "outputs": [],
   "source": [
    "from sklearn.decomposition import PCA"
   ]
  },
  {
   "cell_type": "markdown",
   "metadata": {},
   "source": [
    "The PCA class scales the data to have zero mean. We can also use the method\n",
    "\n",
    "`pca.explained_variance_ratio_`\n",
    "\n",
    "to obtain the explained variance. "
   ]
  },
  {
   "cell_type": "code",
   "execution_count": 58,
   "metadata": {},
   "outputs": [
    {
     "name": "stdout",
     "output_type": "stream",
     "text": [
      "[  9.80235252e-01   1.76388461e-02   1.90610748e-03   1.20447599e-04\n",
      "   8.72383033e-05   6.84948034e-06   3.78245320e-06   8.65500617e-07\n",
      "   3.55017700e-07   1.58090830e-07   6.51888543e-08   1.49593710e-08\n",
      "   6.92494738e-09   4.50523385e-09   3.03706337e-09   1.27544572e-09\n",
      "   8.53783527e-10   4.87077530e-10   4.12137475e-10   3.36099268e-10\n",
      "   1.68075533e-10   1.30882995e-10   8.10116499e-11   5.40419239e-11\n",
      "   3.54896936e-11   2.75410670e-11   7.61430739e-12   6.24731176e-12\n",
      "   4.98193116e-12   1.63035465e-12]\n"
     ]
    }
   ],
   "source": [
    "pca = PCA().fit(X_train)\n",
    "print(pca.explained_variance_ratio_) "
   ]
  },
  {
   "cell_type": "markdown",
   "metadata": {},
   "source": [
    "Note that we obtained the same explained variances when using SVD in 'Xzero'. \n",
    "\n",
    "In this tutorial, we will use the library `StandardScaler` to scale the training set for us. "
   ]
  },
  {
   "cell_type": "code",
   "execution_count": 14,
   "metadata": {
    "collapsed": true
   },
   "outputs": [],
   "source": [
    "from sklearn.preprocessing import StandardScaler"
   ]
  },
  {
   "cell_type": "markdown",
   "metadata": {},
   "source": [
    "\n",
    "`scaler = StandardScaler().fit(X_train)`\n",
    "\n",
    "\n",
    "sklearn's transform's fit() just calculates the parameters (e.g. 𝜇 and 𝜎 in case of StandardScaler) and saves them as an internal objects state. Afterwards, you can call its transform() method to apply the transformation to a particular set of examples.\n",
    "\n",
    "`Xs_train = scaler.transform(X_train)`\n",
    "\n",
    "We will later apply the same transformation to the testing set, using the same two parameters 𝜇 and 𝜎 (values) that you used for centering the training set.\n",
    "\n"
   ]
  },
  {
   "cell_type": "code",
   "execution_count": 109,
   "metadata": {
    "collapsed": true
   },
   "outputs": [],
   "source": [
    "#clear\n",
    "# Standardizing the features\n",
    "scaler = StandardScaler().fit(X_train)\n",
    "Xs_train = scaler.transform(X_train) \n",
    "Xs_test = scaler.transform(X_test) "
   ]
  },
  {
   "cell_type": "markdown",
   "metadata": {},
   "source": [
    "### 2) Fitting the PCA algorithm with the rescaled training set:"
   ]
  },
  {
   "cell_type": "markdown",
   "metadata": {},
   "source": [
    "In summary, all we have to do now is:"
   ]
  },
  {
   "cell_type": "code",
   "execution_count": 94,
   "metadata": {},
   "outputs": [
    {
     "name": "stdout",
     "output_type": "stream",
     "text": [
      "[  4.30255335e-01   1.96996395e-01   1.00129588e-01   6.58115680e-02\n",
      "   5.43017590e-02   4.00702846e-02   2.22959251e-02   1.66088475e-02\n",
      "   1.30348731e-02   1.15705377e-02   1.00644698e-02   9.06789620e-03\n",
      "   8.28608754e-03   5.36584258e-03   2.99146910e-03   2.45522098e-03\n",
      "   2.12900097e-03   1.72582342e-03   1.56893905e-03   1.04893989e-03\n",
      "   9.49736547e-04   8.85518251e-04   7.65335345e-04   5.56751131e-04\n",
      "   4.83118271e-04   2.65795914e-04   2.30387337e-04   5.37173237e-05\n",
      "   2.67907073e-05   4.04699316e-06]\n"
     ]
    }
   ],
   "source": [
    "pca = PCA().fit(Xs_train)\n",
    "var_exp = pca.explained_variance_ratio_\n",
    "print(var_exp)"
   ]
  },
  {
   "cell_type": "markdown",
   "metadata": {},
   "source": [
    "You can check above that you would obtain the same explained variances if you have used `Xscaled` to obtain the SVD"
   ]
  },
  {
   "cell_type": "markdown",
   "metadata": {},
   "source": [
    "### 3) Deciding the number of principal components to use for the classification model"
   ]
  },
  {
   "cell_type": "markdown",
   "metadata": {},
   "source": [
    "Plot the explained variance and the cummulative explained variance. If you want to retain the principal components that capture 80% of the variance, how many components should you choose?"
   ]
  },
  {
   "cell_type": "code",
   "execution_count": 98,
   "metadata": {},
   "outputs": [
    {
     "name": "stdout",
     "output_type": "stream",
     "text": [
      "[ 0.43025533  0.62725173  0.72738132  0.79319289  0.84749464  0.88756493\n",
      "  0.90986085  0.9264697   0.93950457  0.95107511  0.96113958  0.97020748\n",
      "  0.97849357  0.98385941  0.98685088  0.9893061   0.9914351   0.99316092\n",
      "  0.99472986  0.9957788   0.99672854  0.99761406  0.99837939  0.99893614\n",
      "  0.99941926  0.99968506  0.99991544  0.99996916  0.99999595  1.        ]\n"
     ]
    },
    {
     "data": {
      "image/png": "[encoded data removed]",
      "text/plain": [
       "<matplotlib.figure.Figure at 0x1a1b1274a8>"
      ]
     },
     "metadata": {},
     "output_type": "display_data"
    }
   ],
   "source": [
    "cum_var_exp = np.cumsum(var_exp)\n",
    "print(cum_var_exp)\n",
    "\n",
    "plt.bar(range(len(var_exp)), var_exp, alpha=0.5, align='center',\n",
    "            label='individual explained variance')\n",
    "plt.step(range(len(var_exp)), cum_var_exp, where='mid',\n",
    "             label='cumulative explained variance')\n",
    "plt.ylabel('Explained variance ratio')\n",
    "plt.xlabel('Principal components')\n",
    "plt.legend(bbox_to_anchor=(1.1, 1.05))\n",
    "plt.tight_layout()"
   ]
  },
  {
   "cell_type": "markdown",
   "metadata": {},
   "source": [
    "### 4) Creating the new (reduced) dataset for the classification model"
   ]
  },
  {
   "cell_type": "markdown",
   "metadata": {},
   "source": [
    "Define the variable `Z_train` the projected training set with reduced feature space that captures 90% of the variance (remember `Z_train = X_train V` where `V` is the right singular vector matrix?) \n",
    "\n",
    "How many components should you consider?\n",
    "\n",
    "Two different approaches..."
   ]
  },
  {
   "cell_type": "code",
   "execution_count": 144,
   "metadata": {},
   "outputs": [
    {
     "name": "stdout",
     "output_type": "stream",
     "text": [
      "7\n"
     ]
    }
   ],
   "source": [
    "#clear\n",
    "pca = PCA(.9).fit(Xs_train)\n",
    "print(pca.n_components_)"
   ]
  },
  {
   "cell_type": "code",
   "execution_count": 145,
   "metadata": {
    "collapsed": true
   },
   "outputs": [],
   "source": [
    "#clear\n",
    "pca = PCA(n_components=7).fit(Xs_train)"
   ]
  },
  {
   "cell_type": "markdown",
   "metadata": {},
   "source": [
    "You can now project your test set onto the Principal Components of the training set."
   ]
  },
  {
   "cell_type": "code",
   "execution_count": 146,
   "metadata": {
    "collapsed": true
   },
   "outputs": [],
   "source": [
    "Z_train = pca.transform(Xs_train)\n",
    "Z_test = pca.transform(Xs_test)"
   ]
  },
  {
   "cell_type": "code",
   "execution_count": 147,
   "metadata": {
    "scrolled": false
   },
   "outputs": [
    {
     "data": {
      "image/png": "[encoded data removed]",
      "text/plain": [
       "<matplotlib.figure.Figure at 0x1a1b54eba8>"
      ]
     },
     "metadata": {},
     "output_type": "display_data"
    }
   ],
   "source": [
    "# set colors for each data point\n",
    "C = []\n",
    "classes = list(set(Y_train))\n",
    "for c in Y_train:\n",
    "    if c == classes[0]:\n",
    "        C.append('r')\n",
    "    else:\n",
    "        C.append('b')\n",
    "\n",
    "plt.figure()\n",
    "plt.title(\"Training Data Projected into 2D Subspace\")\n",
    "plt.xlabel(\"1st Component\")\n",
    "plt.ylabel(\"2nd Component\")\n",
    "\n",
    "plt.scatter(Z_train[:, 0], Z_train[:, 1], c=C)\n",
    "plt.show()"
   ]
  },
  {
   "cell_type": "markdown",
   "metadata": {},
   "source": [
    "### Logistic regression"
   ]
  },
  {
   "cell_type": "markdown",
   "metadata": {},
   "source": [
    "We will first use a logistic regression model. This is used for classification tasks where data points can only be a member of one class. The model can be solved either using a modified version of least squares or newton's method."
   ]
  },
  {
   "cell_type": "code",
   "execution_count": 148,
   "metadata": {
    "collapsed": true
   },
   "outputs": [],
   "source": [
    "from sklearn.linear_model import LogisticRegression"
   ]
  },
  {
   "cell_type": "markdown",
   "metadata": {},
   "source": [
    "Make an instance of the model, using all the default parameters for now."
   ]
  },
  {
   "cell_type": "code",
   "execution_count": 149,
   "metadata": {
    "collapsed": true
   },
   "outputs": [],
   "source": [
    "model = LogisticRegression(solver=\"lbfgs\")"
   ]
  },
  {
   "cell_type": "markdown",
   "metadata": {},
   "source": [
    "Training the model on the data"
   ]
  },
  {
   "cell_type": "code",
   "execution_count": 150,
   "metadata": {},
   "outputs": [
    {
     "data": {
      "text/plain": [
       "LogisticRegression(C=1.0, class_weight=None, dual=False, fit_intercept=True,\n",
       "          intercept_scaling=1, max_iter=100, multi_class='ovr', n_jobs=1,\n",
       "          penalty='l2', random_state=None, solver='lbfgs', tol=0.0001,\n",
       "          verbose=0, warm_start=False)"
      ]
     },
     "execution_count": 150,
     "metadata": {},
     "output_type": "execute_result"
    }
   ],
   "source": [
    "model.fit(Z_train,Y_train)"
   ]
  },
  {
   "cell_type": "markdown",
   "metadata": {},
   "source": [
    "Once you have the trained model, you can get the predicted diagnosis for the patients in the set `X_test`, and compare them with the `actual` diagnosis in `Y_test`"
   ]
  },
  {
   "cell_type": "code",
   "execution_count": 151,
   "metadata": {
    "collapsed": true
   },
   "outputs": [],
   "source": [
    "Ypredict = model.predict(Z_test)"
   ]
  },
  {
   "cell_type": "code",
   "execution_count": 152,
   "metadata": {
    "collapsed": true
   },
   "outputs": [],
   "source": [
    "from sklearn.metrics import roc_curve, roc_auc_score, auc, confusion_matrix"
   ]
  },
  {
   "cell_type": "markdown",
   "metadata": {},
   "source": [
    "Confusion matrix: describes the performance of the classification model on a set of test data for which the true values are known.\n",
    "\n",
    "Confusion matrix = $ \\begin{bmatrix} \n",
    "TN & FP \\\\\n",
    "FN & TP \n",
    "\\end{bmatrix}$\n",
    "      \n",
    "where:\n",
    "TN: true negative, FP: false positive, FN: false negative, TP: true positive"
   ]
  },
  {
   "cell_type": "code",
   "execution_count": 153,
   "metadata": {},
   "outputs": [
    {
     "name": "stdout",
     "output_type": "stream",
     "text": [
      "[[110   1]\n",
      " [  1  56]]\n"
     ]
    }
   ],
   "source": [
    "cmat = confusion_matrix(Y_test,Ypredict)\n",
    "print(cmat)"
   ]
  },
  {
   "cell_type": "code",
   "execution_count": 154,
   "metadata": {
    "collapsed": true
   },
   "outputs": [],
   "source": [
    "TN, FP, FN, TP = cmat.ravel()"
   ]
  },
  {
   "cell_type": "markdown",
   "metadata": {},
   "source": [
    "How many malignant tumors are correctly identified? (Correct rejection)\n",
    "How mamy benign tumors are correctly identified? (Hit)\n",
    "How many malignant tumors are missed?\n",
    "How many benign tumors are identified as malignant? "
   ]
  },
  {
   "cell_type": "code",
   "execution_count": 155,
   "metadata": {},
   "outputs": [
    {
     "name": "stdout",
     "output_type": "stream",
     "text": [
      "train, test score: \t 0.97449 \t 0.98810\n"
     ]
    }
   ],
   "source": [
    "train_score = model.score(Z_train, Y_train)\n",
    "test_score = model.score(Z_test, Y_test)\n",
    "print(\"train, test score: \\t {:.5f} \\t {:.5f}\".format(train_score, test_score))"
   ]
  },
  {
   "cell_type": "markdown",
   "metadata": {},
   "source": [
    "### Checking other algorithms:"
   ]
  },
  {
   "cell_type": "code",
   "execution_count": 156,
   "metadata": {
    "collapsed": true
   },
   "outputs": [],
   "source": [
    "from sklearn.neighbors import KNeighborsClassifier\n",
    "from sklearn.ensemble import GradientBoostingClassifier\n",
    "from sklearn.ensemble import RandomForestClassifier\n",
    "from sklearn.ensemble import RandomForestRegressor\n",
    "from sklearn.naive_bayes import GaussianNB\n",
    "from sklearn.svm import SVC\n",
    "\n",
    "dict_classifiers = {\n",
    "    \"Logistic Regression\": LogisticRegression(),\n",
    "    \"Nearest Neighbors\": KNeighborsClassifier(),\n",
    "    \"Linear SVM\": SVC(),\n",
    "    \"Gradient Boosting Classifier\": GradientBoostingClassifier(),\n",
    "    \"Random Forest\": RandomForestClassifier(),\n",
    "    \"Naive Bayes\": GaussianNB()\n",
    "}"
   ]
  },
  {
   "cell_type": "code",
   "execution_count": 177,
   "metadata": {
    "collapsed": true
   },
   "outputs": [],
   "source": [
    "# Determine accuracy of classifier given data pairs (X, Y)\n",
    "def accuracy(classifier, X, Y):\n",
    "    Ypredict = classifier.predict(X)\n",
    "    return np.sum(np.abs(Y==Ypredict))/len(Y)\n",
    "\n",
    "def batch_classify(X_train, Y_train, X_test, Y_test, verbose = True):\n",
    "    print(\"{:30s}{:15s}{:15s}\".format(\"Classifiers\", \"Train-score\", \"Test-score\"))\n",
    "    train_score = []\n",
    "    test_score = []\n",
    "    labels = []\n",
    "\n",
    "    for classifier_name, classifier in list(dict_classifiers.items()):\n",
    "        \n",
    "        # Fit the model\n",
    "        labels.append(classifier_name)\n",
    "        classifier.fit(X_train, Y_train)\n",
    "        # Make predictions on the test data\n",
    "        predictions = classifier.predict(X_test)\n",
    "        # Get scores\n",
    "        train_score.append(accuracy(classifier, X_train, Y_train))\n",
    "        test_score.append(accuracy(classifier, X_test, Y_test))\n",
    "        if verbose:\n",
    "            print(\"{c:30}{t1:12f}{t2:12f}\".format(c=classifier_name,t1=train_score[-1], t2=test_score[-1]))\n"
   ]
  },
  {
   "cell_type": "code",
   "execution_count": 178,
   "metadata": {},
   "outputs": [
    {
     "name": "stdout",
     "output_type": "stream",
     "text": [
      "Classifiers                   Train-score    Test-score     \n",
      "Logistic Regression               0.974490    0.988095\n",
      "Nearest Neighbors                 0.971939    0.964286\n",
      "Linear SVM                        0.987245    0.970238\n",
      "Gradient Boosting Classifier      1.000000    0.970238\n",
      "Random Forest                     1.000000    0.958333\n",
      "Naive Bayes                       0.918367    0.922619\n"
     ]
    }
   ],
   "source": [
    "batch_classify(Z_train, Y_train, Z_test, Y_test, verbose = True)"
   ]
  },
  {
   "cell_type": "code",
   "execution_count": 179,
   "metadata": {},
   "outputs": [
    {
     "name": "stdout",
     "output_type": "stream",
     "text": [
      "Classifiers                   Train-score    Test-score     \n",
      "Logistic Regression               0.951531    0.964286\n",
      "Nearest Neighbors                 0.936224    0.952381\n",
      "Linear SVM                        1.000000    0.660714\n",
      "Gradient Boosting Classifier      1.000000    0.958333\n",
      "Random Forest                     0.992347    0.964286\n",
      "Naive Bayes                       0.941327    0.946429\n"
     ]
    }
   ],
   "source": [
    "batch_classify(X_train, Y_train, X_test, Y_test, verbose = True)"
   ]
  },
  {
   "cell_type": "markdown",
   "metadata": {},
   "source": [
    "### Add AUC plot"
   ]
  },
  {
   "cell_type": "code",
   "execution_count": null,
   "metadata": {
    "collapsed": true
   },
   "outputs": [],
   "source": []
  }
 ],
 "metadata": {
  "kernelspec": {
   "display_name": "Python 3",
   "language": "python",
   "name": "python3"
  },
  "language_info": {
   "codemirror_mode": {
    "name": "ipython",
    "version": 3
   },
   "file_extension": ".py",
   "mimetype": "text/x-python",
   "name": "python",
   "nbconvert_exporter": "python",
   "pygments_lexer": "ipython3",
   "version": "3.6.3"
  }
 },
 "nbformat": 4,
 "nbformat_minor": 2
}
