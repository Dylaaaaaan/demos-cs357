{
 "cells": [
  {
   "cell_type": "markdown",
   "metadata": {},
   "source": [
    "# Data Fitting with Least Squares"
   ]
  },
  {
   "cell_type": "code",
   "execution_count": 56,
   "metadata": {
    "collapsed": true
   },
   "outputs": [],
   "source": [
    "import numpy as np\n",
    "import numpy.linalg as la\n",
    "import scipy.linalg as sla\n",
    "import random\n",
    "import matplotlib.pyplot as pt\n",
    "%matplotlib inline"
   ]
  },
  {
   "cell_type": "code",
   "execution_count": 65,
   "metadata": {
    "collapsed": true
   },
   "outputs": [],
   "source": [
    "# Matrix shape\n",
    "M = 10\n",
    "N = 4\n",
    "rankA = N-1\n",
    "\n",
    "# Generating the orthogonal matrix U\n",
    "X = np.random.rand(M,M)\n",
    "U,R = sla.qr(X)\n",
    "\n",
    "# Generating the orthogonal matrix V\n",
    "Y = np.random.rand(N,N)\n",
    "V,R = sla.qr(Y)\n",
    "Vt = V.T\n",
    "\n",
    "# Generating the diagonal matrix Sigma\n",
    "singval = random.sample(range(1, 9), rankA)\n",
    "singval.sort()\n",
    "sigmavec = singval[::-1]\n",
    "sigma = np.zeros((M,N))\n",
    "for i,sing in enumerate(sigmavec):\n",
    "    sigma[i,i] = sing\n",
    "\n",
    "b = np.random.rand(M)"
   ]
  },
  {
   "cell_type": "code",
   "execution_count": 66,
   "metadata": {},
   "outputs": [
    {
     "name": "stdout",
     "output_type": "stream",
     "text": [
      "(10, 4)\n",
      "1.73770287227e+16\n",
      "[[ 2.80108153  1.11167517  2.58234255  0.3629241 ]\n",
      " [ 1.16264017  2.00055187  1.18089725  0.85268284]\n",
      " [-0.56857782  1.87870809 -0.15722777  0.4221354 ]\n",
      " [ 0.71009351  1.72938844  0.17670739  1.98882679]\n",
      " [ 1.53628499  1.49300676  0.85824728  1.92402401]\n",
      " [-0.79391837  1.57734176 -1.32512073  2.30954291]\n",
      " [ 0.82522638  2.32345045  0.45923727  1.96090111]\n",
      " [ 1.81747106  0.80364814  1.71876668  0.19339529]\n",
      " [-0.76492559  1.56565932 -0.19605231 -0.04892317]\n",
      " [-0.64677958  1.37441405 -0.63995753  0.99942303]]\n"
     ]
    }
   ],
   "source": [
    "A = U@sigma@Vt\n",
    "print(A.shape)\n",
    "print(la.cond(A))\n",
    "print(A)"
   ]
  },
  {
   "cell_type": "code",
   "execution_count": 67,
   "metadata": {},
   "outputs": [
    {
     "name": "stdout",
     "output_type": "stream",
     "text": [
      "(10, 4)\n",
      "[7, 5, 2]\n"
     ]
    }
   ],
   "source": [
    "UR = U[:,:N]\n",
    "print(UR.shape)\n",
    "print(sigmavec)"
   ]
  },
  {
   "cell_type": "markdown",
   "metadata": {},
   "source": [
    "## Using normal equations (unique solution, full rank)"
   ]
  },
  {
   "cell_type": "code",
   "execution_count": 68,
   "metadata": {},
   "outputs": [
    {
     "name": "stdout",
     "output_type": "stream",
     "text": [
      "[ 0.56113615  0.40001713 -0.57823934 -0.26718195]\n"
     ]
    }
   ],
   "source": [
    "xu = la.solve(A.T@A,A.T@b)\n",
    "print(xu)"
   ]
  },
  {
   "cell_type": "code",
   "execution_count": 69,
   "metadata": {},
   "outputs": [
    {
     "data": {
      "text/plain": [
       "0.71572740455272099"
      ]
     },
     "execution_count": 69,
     "metadata": {},
     "output_type": "execute_result"
    }
   ],
   "source": [
    "la.norm(A@xu-b,2)"
   ]
  },
  {
   "cell_type": "code",
   "execution_count": 70,
   "metadata": {},
   "outputs": [
    {
     "data": {
      "text/plain": [
       "0.93842123274657363"
      ]
     },
     "execution_count": 70,
     "metadata": {},
     "output_type": "execute_result"
    }
   ],
   "source": [
    "la.norm(xu,2)"
   ]
  },
  {
   "cell_type": "markdown",
   "metadata": {},
   "source": [
    "## Using SVD"
   ]
  },
  {
   "cell_type": "code",
   "execution_count": 71,
   "metadata": {},
   "outputs": [
    {
     "name": "stdout",
     "output_type": "stream",
     "text": [
      "[ 0.00938151  0.21920496  0.0562297   0.03067028]\n"
     ]
    }
   ],
   "source": [
    "ub = (UR.T@b)\n",
    "x = np.zeros(N)\n",
    "for i,s in enumerate(sigmavec):\n",
    "    x += V[:,i]*ub[i]/s\n",
    "print(x)"
   ]
  },
  {
   "cell_type": "code",
   "execution_count": 72,
   "metadata": {},
   "outputs": [
    {
     "name": "stdout",
     "output_type": "stream",
     "text": [
      "[ 0.00938151  0.21920496  0.0562297   0.03067028]\n"
     ]
    }
   ],
   "source": [
    "coeffs,residual,rank,sval=np.linalg.lstsq(A,b)\n",
    "print(coeffs)"
   ]
  },
  {
   "cell_type": "code",
   "execution_count": 73,
   "metadata": {},
   "outputs": [
    {
     "data": {
      "text/plain": [
       "0.71572740455272099"
      ]
     },
     "execution_count": 73,
     "metadata": {},
     "output_type": "execute_result"
    }
   ],
   "source": [
    "la.norm(A@coeffs-b,2)"
   ]
  },
  {
   "cell_type": "code",
   "execution_count": 75,
   "metadata": {},
   "outputs": [
    {
     "data": {
      "text/plain": [
       "0.22856350043565987"
      ]
     },
     "execution_count": 75,
     "metadata": {},
     "output_type": "execute_result"
    }
   ],
   "source": [
    "la.norm(coeffs,2)"
   ]
  },
  {
   "cell_type": "code",
   "execution_count": null,
   "metadata": {
    "collapsed": true
   },
   "outputs": [],
   "source": []
  }
 ],
 "metadata": {
  "kernelspec": {
   "display_name": "Python 3",
   "language": "python",
   "name": "python3"
  },
  "language_info": {
   "codemirror_mode": {
    "name": "ipython",
    "version": 3
   },
   "file_extension": ".py",
   "mimetype": "text/x-python",
   "name": "python",
   "nbconvert_exporter": "python",
   "pygments_lexer": "ipython3",
   "version": "3.6.3"
  },
  "widgets": {
   "state": {},
   "version": "1.1.2"
  }
 },
 "nbformat": 4,
 "nbformat_minor": 1
}
