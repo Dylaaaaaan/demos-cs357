{
 "cells": [
  {
   "cell_type": "markdown",
   "metadata": {},
   "source": [
    "# Data Fitting with Least Squares"
   ]
  },
  {
   "cell_type": "code",
   "execution_count": 69,
   "metadata": {
    "collapsed": true
   },
   "outputs": [],
   "source": [
    "import numpy as np\n",
    "import numpy.linalg as la\n",
    "import scipy.linalg as sla\n",
    "import random\n",
    "import matplotlib.pyplot as pt\n",
    "%matplotlib inline"
   ]
  },
  {
   "cell_type": "markdown",
   "metadata": {},
   "source": [
    "Suppose we are modeling a relationship between $x$ and $y$, and the \"true\" relationship is $y = a+bx$:"
   ]
  },
  {
   "cell_type": "code",
   "execution_count": 128,
   "metadata": {},
   "outputs": [],
   "source": [
    "# Matrix shape\n",
    "M = 10\n",
    "N = 4\n",
    "rankA = N-1\n",
    "\n",
    "# Generating the orthogonal matrix U\n",
    "X = np.random.rand(M,M)\n",
    "U,R = sla.qr(X)\n",
    "\n",
    "# Generating the orthogonal matrix V\n",
    "Y = np.random.rand(N,N)\n",
    "V,R = sla.qr(Y)\n",
    "Vt = V.T\n",
    "\n",
    "# Generating the diagonal matrix Sigma\n",
    "singval = random.sample(range(1, 9), rankA)\n",
    "singval.sort()\n",
    "sigmavec = singval[::-1]\n",
    "sigma = np.zeros((M,N))\n",
    "for i,sing in enumerate(sigmavec):\n",
    "    sigma[i,i] = sing\n",
    "\n",
    "b = np.random.rand(M)"
   ]
  },
  {
   "cell_type": "code",
   "execution_count": 129,
   "metadata": {},
   "outputs": [
    {
     "name": "stdout",
     "output_type": "stream",
     "text": [
      "(10, 4)\n",
      "2.84210776193e+16\n"
     ]
    }
   ],
   "source": [
    "A = U@sigma@Vt\n",
    "print(A.shape)\n",
    "print(la.cond(A))"
   ]
  },
  {
   "cell_type": "code",
   "execution_count": 131,
   "metadata": {},
   "outputs": [
    {
     "name": "stdout",
     "output_type": "stream",
     "text": [
      "(10, 10)\n",
      "(10, 4)\n",
      "(4, 4)\n",
      "(10, 4)\n",
      "[8, 6, 3]\n"
     ]
    }
   ],
   "source": [
    "print(U.shape)\n",
    "print(sigma.shape)\n",
    "print(V.shape)\n",
    "\n",
    "UR = U[:,:N]\n",
    "print(UR.shape)\n",
    "print(sigmavec)"
   ]
  },
  {
   "cell_type": "markdown",
   "metadata": {},
   "source": [
    "## Using normal equations (unique solution, full rank)"
   ]
  },
  {
   "cell_type": "code",
   "execution_count": 137,
   "metadata": {},
   "outputs": [],
   "source": [
    "xu = la.solve(A.T@A,A.T@b)"
   ]
  },
  {
   "cell_type": "code",
   "execution_count": 138,
   "metadata": {},
   "outputs": [
    {
     "data": {
      "text/plain": [
       "0.83375806371858807"
      ]
     },
     "execution_count": 138,
     "metadata": {},
     "output_type": "execute_result"
    }
   ],
   "source": [
    "la.norm(A@xu-b,2)"
   ]
  },
  {
   "cell_type": "code",
   "execution_count": 139,
   "metadata": {},
   "outputs": [
    {
     "data": {
      "text/plain": [
       "0.77674518213602828"
      ]
     },
     "execution_count": 139,
     "metadata": {},
     "output_type": "execute_result"
    }
   ],
   "source": [
    "la.norm(xu,2)"
   ]
  },
  {
   "cell_type": "markdown",
   "metadata": {},
   "source": [
    "## Using SVD"
   ]
  },
  {
   "cell_type": "code",
   "execution_count": 132,
   "metadata": {},
   "outputs": [
    {
     "name": "stdout",
     "output_type": "stream",
     "text": [
      "[ 0.09604311  0.11533489  0.00223527 -0.02462985]\n"
     ]
    }
   ],
   "source": [
    "ub = (UR.T@b)\n",
    "x = np.zeros(N)\n",
    "for i,s in enumerate(sigmavec):\n",
    "    x += V[:,i]*ub[i]/s\n",
    "print(x)"
   ]
  },
  {
   "cell_type": "code",
   "execution_count": 133,
   "metadata": {},
   "outputs": [
    {
     "name": "stdout",
     "output_type": "stream",
     "text": [
      "[ 0.09604311  0.11533489  0.00223527 -0.02462985]\n"
     ]
    }
   ],
   "source": [
    "coeffs,residual,rank,sval=np.linalg.lstsq(A,b)\n",
    "print(coeffs)"
   ]
  },
  {
   "cell_type": "code",
   "execution_count": 135,
   "metadata": {},
   "outputs": [
    {
     "data": {
      "text/plain": [
       "0.83375806371858796"
      ]
     },
     "execution_count": 135,
     "metadata": {},
     "output_type": "execute_result"
    }
   ],
   "source": [
    "la.norm(A@coeffs-b,2)"
   ]
  },
  {
   "cell_type": "code",
   "execution_count": 140,
   "metadata": {},
   "outputs": [
    {
     "data": {
      "text/plain": [
       "0.1521119376287009"
      ]
     },
     "execution_count": 140,
     "metadata": {},
     "output_type": "execute_result"
    }
   ],
   "source": [
    "la.norm(coeffs,2)"
   ]
  },
  {
   "cell_type": "code",
   "execution_count": null,
   "metadata": {
    "collapsed": true
   },
   "outputs": [],
   "source": []
  }
 ],
 "metadata": {
  "kernelspec": {
   "display_name": "Python 3",
   "language": "python",
   "name": "python3"
  },
  "language_info": {
   "codemirror_mode": {
    "name": "ipython",
    "version": 3
   },
   "file_extension": ".py",
   "mimetype": "text/x-python",
   "name": "python",
   "nbconvert_exporter": "python",
   "pygments_lexer": "ipython3",
   "version": "3.6.3"
  },
  "widgets": {
   "state": {},
   "version": "1.1.2"
  }
 },
 "nbformat": 4,
 "nbformat_minor": 1
}
