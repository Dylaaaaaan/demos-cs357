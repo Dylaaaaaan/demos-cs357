{
 "cells": [
  {
   "cell_type": "markdown",
   "metadata": {},
   "source": [
    "# Data Fitting with Least Squares"
   ]
  },
  {
   "cell_type": "code",
   "execution_count": 1,
   "metadata": {
    "collapsed": true
   },
   "outputs": [],
   "source": [
    "import numpy as np\n",
    "import numpy.linalg as la\n",
    "import scipy.linalg as sla\n",
    "import random\n",
    "import matplotlib.pyplot as pt\n",
    "%matplotlib inline"
   ]
  },
  {
   "cell_type": "code",
   "execution_count": 15,
   "metadata": {
    "collapsed": true
   },
   "outputs": [],
   "source": [
    "# Matrix shape\n",
    "M = 10\n",
    "N = 4\n",
    "rankA = N\n",
    "\n",
    "# Generating the orthogonal matrix U\n",
    "X = np.random.rand(M,M)\n",
    "U,R = sla.qr(X)\n",
    "\n",
    "# Generating the orthogonal matrix V\n",
    "Y = np.random.rand(N,N)\n",
    "V,R = sla.qr(Y)\n",
    "Vt = V.T\n",
    "\n",
    "# Generating the diagonal matrix Sigma\n",
    "singval = random.sample(range(1, 9), rankA)\n",
    "singval.sort()\n",
    "sigmavec = singval[::-1]\n",
    "sigma = np.zeros((M,N))\n",
    "for i,sing in enumerate(sigmavec):\n",
    "    sigma[i,i] = sing\n",
    "\n",
    "b = np.random.rand(M)"
   ]
  },
  {
   "cell_type": "code",
   "execution_count": 16,
   "metadata": {},
   "outputs": [
    {
     "name": "stdout",
     "output_type": "stream",
     "text": [
      "(10, 4)\n",
      "1.77185540899e+16\n",
      "[[ 1.14621572  0.37811453  1.28474579  0.25067393]\n",
      " [ 0.14994025  1.05680953 -0.12237639  0.55005635]\n",
      " [ 1.11601365  1.40113358  1.00825492 -0.23660124]\n",
      " [ 0.81538168  1.78558461  0.50781419  0.38633835]\n",
      " [ 1.36567262  0.58882334  1.5166509  -0.10303426]\n",
      " [ 1.41908091  2.41200123  1.15017479 -0.89068883]\n",
      " [ 0.71505677 -0.60877169  0.94246864  1.60119522]\n",
      " [ 0.84876641  0.22948133  0.88982614  1.55355455]\n",
      " [ 0.03124858  0.73327151 -0.20798791  1.01136753]\n",
      " [ 0.40338758  0.11734008  0.44684527  0.26023584]]\n"
     ]
    }
   ],
   "source": [
    "A = U@sigma@Vt\n",
    "print(A.shape)\n",
    "print(la.cond(A))\n",
    "print(A)"
   ]
  },
  {
   "cell_type": "code",
   "execution_count": 17,
   "metadata": {},
   "outputs": [
    {
     "name": "stdout",
     "output_type": "stream",
     "text": [
      "(10, 4)\n",
      "[5, 3, 2]\n"
     ]
    }
   ],
   "source": [
    "UR = U[:,:N]\n",
    "print(UR.shape)\n",
    "print(sigmavec)"
   ]
  },
  {
   "cell_type": "markdown",
   "metadata": {},
   "source": [
    "## Using normal equations (unique solution, full rank)"
   ]
  },
  {
   "cell_type": "code",
   "execution_count": 21,
   "metadata": {},
   "outputs": [
    {
     "name": "stdout",
     "output_type": "stream",
     "text": [
      "[ 0.41100007  0.1192633  -0.10847789  0.02729391]\n"
     ]
    }
   ],
   "source": [
    "xu = la.solve(A.T@A,A.T@b)\n",
    "print(xu)"
   ]
  },
  {
   "cell_type": "code",
   "execution_count": 19,
   "metadata": {},
   "outputs": [
    {
     "data": {
      "text/plain": [
       "0.97151240343659895"
      ]
     },
     "execution_count": 19,
     "metadata": {},
     "output_type": "execute_result"
    }
   ],
   "source": [
    "la.norm(A@xu-b,2)"
   ]
  },
  {
   "cell_type": "code",
   "execution_count": 20,
   "metadata": {},
   "outputs": [
    {
     "data": {
      "text/plain": [
       "0.4423315506392882"
      ]
     },
     "execution_count": 20,
     "metadata": {},
     "output_type": "execute_result"
    }
   ],
   "source": [
    "la.norm(xu,2)"
   ]
  },
  {
   "cell_type": "markdown",
   "metadata": {},
   "source": [
    "## Using SVD"
   ]
  },
  {
   "cell_type": "code",
   "execution_count": 22,
   "metadata": {},
   "outputs": [
    {
     "name": "stdout",
     "output_type": "stream",
     "text": [
      "[ 0.13596933  0.17800647  0.11720481  0.03961278]\n"
     ]
    }
   ],
   "source": [
    "ub = (UR.T@b)\n",
    "x = np.zeros(N)\n",
    "for i,s in enumerate(sigmavec):\n",
    "    x += V[:,i]*ub[i]/s\n",
    "print(x)"
   ]
  },
  {
   "cell_type": "code",
   "execution_count": 23,
   "metadata": {},
   "outputs": [
    {
     "name": "stdout",
     "output_type": "stream",
     "text": [
      "[ 0.13596933  0.17800647  0.11720481  0.03961278]\n"
     ]
    }
   ],
   "source": [
    "coeffs,residual,rank,sval=np.linalg.lstsq(A,b)\n",
    "print(coeffs)"
   ]
  },
  {
   "cell_type": "code",
   "execution_count": 24,
   "metadata": {},
   "outputs": [
    {
     "data": {
      "text/plain": [
       "0.97151240343659895"
      ]
     },
     "execution_count": 24,
     "metadata": {},
     "output_type": "execute_result"
    }
   ],
   "source": [
    "la.norm(A@coeffs-b,2)"
   ]
  },
  {
   "cell_type": "code",
   "execution_count": 25,
   "metadata": {},
   "outputs": [
    {
     "data": {
      "text/plain": [
       "0.25589080029866984"
      ]
     },
     "execution_count": 25,
     "metadata": {},
     "output_type": "execute_result"
    }
   ],
   "source": [
    "la.norm(coeffs,2)"
   ]
  },
  {
   "cell_type": "code",
   "execution_count": null,
   "metadata": {
    "collapsed": true
   },
   "outputs": [],
   "source": []
  }
 ],
 "metadata": {
  "kernelspec": {
   "display_name": "Python 3",
   "language": "python",
   "name": "python3"
  },
  "language_info": {
   "codemirror_mode": {
    "name": "ipython",
    "version": 3
   },
   "file_extension": ".py",
   "mimetype": "text/x-python",
   "name": "python",
   "nbconvert_exporter": "python",
   "pygments_lexer": "ipython3",
   "version": "3.6.3"
  },
  "widgets": {
   "state": {},
   "version": "1.1.2"
  }
 },
 "nbformat": 4,
 "nbformat_minor": 1
}
