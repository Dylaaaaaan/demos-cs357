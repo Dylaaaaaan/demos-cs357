{
 "cells": [
  {
   "cell_type": "code",
   "execution_count": 3,
   "metadata": {},
   "outputs": [
    {
     "name": "stdout",
     "output_type": "stream",
     "text": [
      "10.6066017178\n",
      "15.0166574177\n",
      "11.5325625947\n",
      "16.1554944214\n"
     ]
    }
   ],
   "source": [
    "import numpy as np\n",
    "import numpy.linalg as la\n",
    "import matplotlib.pyplot as plt\n",
    "\n",
    "x = np.array([1,2,5])\n",
    "y = np.array([2,18,12])\n",
    "\n",
    "def f1(x):\n",
    "    return 1.5*x + 7\n",
    "\n",
    "def f2(x):\n",
    "    return 4.5*x + 2\n",
    "\n",
    "def f3(x):\n",
    "    return 3*x + 3\n",
    "\n",
    "def f4(x):\n",
    "    return 5*x + 1\n",
    "\n",
    "print(la.norm(f1(x)-y,2))\n",
    "\n",
    "print(la.norm(f2(x)-y,2))\n",
    "\n",
    "print(la.norm(f3(x)-y,2))\n",
    "\n",
    "print(la.norm(f4(x)-y,2))\n"
   ]
  },
  {
   "cell_type": "code",
   "execution_count": null,
   "metadata": {
    "collapsed": true
   },
   "outputs": [],
   "source": []
  }
 ],
 "metadata": {
  "kernelspec": {
   "display_name": "Python 3",
   "language": "python",
   "name": "python3"
  },
  "language_info": {
   "codemirror_mode": {
    "name": "ipython",
    "version": 3
   },
   "file_extension": ".py",
   "mimetype": "text/x-python",
   "name": "python",
   "nbconvert_exporter": "python",
   "pygments_lexer": "ipython3",
   "version": "3.6.3"
  }
 },
 "nbformat": 4,
 "nbformat_minor": 2
}
