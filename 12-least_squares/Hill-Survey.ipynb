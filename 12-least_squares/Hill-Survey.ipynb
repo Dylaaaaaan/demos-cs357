{
 "cells": [
  {
   "cell_type": "code",
   "execution_count": 1,
   "metadata": {
    "collapsed": true
   },
   "outputs": [],
   "source": [
    "import numpy as np\n",
    "import numpy.linalg as la"
   ]
  },
  {
   "cell_type": "code",
   "execution_count": 2,
   "metadata": {
    "collapsed": true
   },
   "outputs": [],
   "source": [
    "A = np.array([[1,0,0],[0,1,0],[0,0,1],[-1,1,0],[-1,0,1],[0,-1,1]])\n",
    "b = np.array([1237,1941,2417,711,1177,475])\n",
    "\n",
    "A1 = np.array([[-1,1,0],[-1,0,1],[0,-1,1]])\n",
    "b1 = np.array([711,1177,475])"
   ]
  },
  {
   "cell_type": "code",
   "execution_count": 8,
   "metadata": {},
   "outputs": [
    {
     "data": {
      "text/plain": [
       "(array([ 1236.,  1943.,  2416.]), array([ 35.]), 3, array([ 2.,  2.,  1.]))"
      ]
     },
     "execution_count": 8,
     "metadata": {},
     "output_type": "execute_result"
    }
   ],
   "source": [
    "la.lstsq(A,b)\n",
    "#solution, residual, rank, singular values of A"
   ]
  },
  {
   "cell_type": "code",
   "execution_count": 9,
   "metadata": {},
   "outputs": [
    {
     "data": {
      "text/plain": [
       "(array([[  4.08248290e-01,  -7.07106781e-01,   5.77350269e-01],\n",
       "        [ -4.08248290e-01,  -7.07106781e-01,  -5.77350269e-01],\n",
       "        [ -8.16496581e-01,  -6.72505107e-17,   5.77350269e-01]]),\n",
       " array([  1.73205081e+00,   1.73205081e+00,   2.30949614e-17]),\n",
       " array([[ -7.26940453e-17,   7.07106781e-01,  -7.07106781e-01],\n",
       "        [  8.16496581e-01,  -4.08248290e-01,  -4.08248290e-01],\n",
       "        [ -5.77350269e-01,  -5.77350269e-01,  -5.77350269e-01]]))"
      ]
     },
     "execution_count": 9,
     "metadata": {},
     "output_type": "execute_result"
    }
   ],
   "source": [
    "la.svd(A1)"
   ]
  },
  {
   "cell_type": "code",
   "execution_count": 10,
   "metadata": {},
   "outputs": [
    {
     "data": {
      "text/plain": [
       "(array([-629.33333333,   78.66666667,  550.66666667]),\n",
       " array([], dtype=float64),\n",
       " 2,\n",
       " array([  1.73205081e+00,   1.73205081e+00,   2.30949614e-17]))"
      ]
     },
     "execution_count": 10,
     "metadata": {},
     "output_type": "execute_result"
    }
   ],
   "source": [
    "la.lstsq(A1,b1)\n",
    "#solution, residual, rank, singular values of A"
   ]
  },
  {
   "cell_type": "code",
   "execution_count": null,
   "metadata": {
    "collapsed": true
   },
   "outputs": [],
   "source": []
  }
 ],
 "metadata": {
  "kernelspec": {
   "display_name": "Python 3",
   "language": "python",
   "name": "python3"
  },
  "language_info": {
   "codemirror_mode": {
    "name": "ipython",
    "version": 3
   },
   "file_extension": ".py",
   "mimetype": "text/x-python",
   "name": "python",
   "nbconvert_exporter": "python",
   "pygments_lexer": "ipython3",
   "version": "3.6.3"
  }
 },
 "nbformat": 4,
 "nbformat_minor": 2
}
