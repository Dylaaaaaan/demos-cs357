{
 "cells": [
  {
   "cell_type": "markdown",
   "metadata": {},
   "source": [
    "# Playing around with Random Number Generators"
   ]
  },
  {
   "cell_type": "code",
   "execution_count": 4,
   "metadata": {
    "collapsed": true
   },
   "outputs": [],
   "source": [
    "import numpy as np"
   ]
  },
  {
   "cell_type": "code",
   "execution_count": 7,
   "metadata": {},
   "outputs": [
    {
     "data": {
      "text/plain": [
       "array([ 0.3763557 ,  0.00111715,  0.59775288,  0.14137776,  0.71421601,\n",
       "        0.22699157,  0.60356912,  0.07682597,  0.88473673,  0.55553295])"
      ]
     },
     "execution_count": 7,
     "metadata": {},
     "output_type": "execute_result"
    }
   ],
   "source": [
    "np.random.rand(10)"
   ]
  },
  {
   "cell_type": "code",
   "execution_count": 17,
   "metadata": {},
   "outputs": [
    {
     "name": "stdout",
     "output_type": "stream",
     "text": [
      "[ 0.77132064  0.02075195  0.63364823  0.74880388  0.49850701  0.22479665\n",
      "  0.19806286  0.76053071  0.16911084  0.08833981]\n",
      "[ 0.68535982  0.95339335  0.00394827  0.51219226  0.81262096  0.61252607\n",
      "  0.72175532  0.29187607  0.91777412  0.71457578]\n",
      "[ 0.54254437  0.14217005  0.37334076  0.67413362  0.44183317  0.43401399\n",
      "  0.61776698  0.51313824  0.65039718  0.60103895]\n",
      "[ 0.8052232   0.52164715  0.90864888  0.31923609  0.09045935  0.30070006\n",
      "  0.11398436  0.82868133  0.04689632  0.62628715]\n",
      "[ 0.54758616  0.819287    0.19894754  0.8568503   0.35165264  0.75464769\n",
      "  0.29596171  0.88393648  0.32551164  0.1650159 ]\n",
      "[ 0.39252924  0.09346037  0.82110566  0.15115202  0.38411445  0.94426071\n",
      "  0.98762547  0.45630455  0.82612284  0.25137413]\n",
      "[ 0.59737165  0.90283176  0.53455795  0.59020136  0.03928177  0.35718176\n",
      "  0.07961309  0.30545992  0.33071931  0.7738303 ]\n",
      "[ 0.03995921  0.42949218  0.31492687  0.63649114  0.34634715  0.04309736\n",
      "  0.87991517  0.76324059  0.87809664  0.41750914]\n",
      "[ 0.60557756  0.51346663  0.59783665  0.26221566  0.30087131  0.02539978\n",
      "  0.30306256  0.24207588  0.55757819  0.56550702]\n",
      "[ 0.47513225  0.29279798  0.06425106  0.97881915  0.33970784  0.49504863\n",
      "  0.97708073  0.44077382  0.31827281  0.51979699]\n"
     ]
    }
   ],
   "source": [
    "for x in range(0, 10):\n",
    "    numbers = np.random.rand(10)\n",
    "    print(numbers)"
   ]
  },
  {
   "cell_type": "code",
   "execution_count": null,
   "metadata": {
    "collapsed": true
   },
   "outputs": [],
   "source": [
    "np.random.seed(10)"
   ]
  }
 ],
 "metadata": {
  "kernelspec": {
   "display_name": "Python 3",
   "language": "python",
   "name": "python3"
  },
  "language_info": {
   "codemirror_mode": {
    "name": "ipython",
    "version": 3
   },
   "file_extension": ".py",
   "mimetype": "text/x-python",
   "name": "python",
   "nbconvert_exporter": "python",
   "pygments_lexer": "ipython3",
   "version": "3.6.3"
  },
  "widgets": {
   "state": {},
   "version": "1.1.2"
  }
 },
 "nbformat": 4,
 "nbformat_minor": 1
}
