{
 "cells": [
  {
   "cell_type": "markdown",
   "metadata": {},
   "source": [
    "## Iclicker question"
   ]
  },
  {
   "cell_type": "code",
   "execution_count": null,
   "metadata": {
    "collapsed": true
   },
   "outputs": [],
   "source": [
    "import numpy as np\n",
    "import matplotlib.pyplot as plt\n",
    "%matplotlib inline\n",
    "\n",
    "from math import factorial"
   ]
  },
  {
   "cell_type": "code",
   "execution_count": null,
   "metadata": {
    "collapsed": true
   },
   "outputs": [],
   "source": [
    "import sympy as sp\n",
    "sp.init_printing()\n",
    "x = sp.Symbol(\"x\")"
   ]
  },
  {
   "cell_type": "code",
   "execution_count": null,
   "metadata": {},
   "outputs": [],
   "source": [
    "f = sp.exp(x)\n",
    "\n",
    "f"
   ]
  },
  {
   "cell_type": "code",
   "execution_count": null,
   "metadata": {
    "collapsed": true
   },
   "outputs": [],
   "source": [
    "def plot_sympy(my_f, my_pts, **kwargs):\n",
    "    f_values = np.array([my_f.subs(x, pt) for pt in my_pts])\n",
    "    plt.plot(pts, f_values, **kwargs)\n",
    "\n",
    "    \n",
    "def semilogy_sympy(my_f, my_pts, **kwargs):\n",
    "    f_values = np.array([my_f.subs(x, pt) for pt in my_pts])\n",
    "    plt.semilogy(pts, f_values, **kwargs)"
   ]
  },
  {
   "cell_type": "code",
   "execution_count": null,
   "metadata": {
    "collapsed": true
   },
   "outputs": [],
   "source": [
    "n = 4\n",
    "xo = 2"
   ]
  },
  {
   "cell_type": "code",
   "execution_count": null,
   "metadata": {
    "collapsed": true
   },
   "outputs": [],
   "source": [
    "taylor = 0\n",
    "\n",
    "for i in range(n):\n",
    "    taylor += f.diff(x, i).subs(x, xo)/factorial(i) * (x-xo)**i\n",
    "\n",
    "error =  f - taylor"
   ]
  },
  {
   "cell_type": "code",
   "execution_count": null,
   "metadata": {},
   "outputs": [],
   "source": [
    "pts = np.linspace(-1, 4, 100)\n",
    "plot_sympy(taylor, pts, label=\"taylor n=3\")\n",
    "plot_sympy(f, pts, label=\"f\")\n",
    "plt.legend(loc=\"best\")\n",
    "plt.grid()\n",
    "plt.xlabel('$x$')\n",
    "plt.ylabel('function values')"
   ]
  },
  {
   "cell_type": "code",
   "execution_count": null,
   "metadata": {},
   "outputs": [],
   "source": [
    "semilogy_sympy(error, pts, label=\"error\")\n",
    "f2=x**2\n",
    "f3=x**3\n",
    "f4=x**4\n",
    "f5=x**5\n",
    "semilogy_sympy(f2, pts, label=\"$x^2$\")\n",
    "plot_sympy(f3, pts, label=\"$x^3$\")\n",
    "plot_sympy(f4, pts, label=\"$x^4$\")\n",
    "plot_sympy(f5, pts, label=\"$x^5$\")\n",
    "plt.legend(loc=\"best\")\n",
    "plt.grid()\n",
    "plt.xlabel('$x$')\n",
    "plt.ylabel('error')"
   ]
  },
  {
   "cell_type": "code",
   "execution_count": null,
   "metadata": {},
   "outputs": [],
   "source": [
    "semilogy_sympy(error, pts, label=\"error\")\n",
    "f2=abs((x-2)**2)\n",
    "f3=abs((x-2)**3)\n",
    "f4=abs((x-2)**4)\n",
    "f5=abs((x-2)**5)\n",
    "semilogy_sympy(f2, pts, label=\"$(x-2)$\")\n",
    "semilogy_sympy(f3, pts, label=\"$(x-2)^3$\")\n",
    "semilogy_sympy(f4, pts, label=\"$(x-2)^4$\")\n",
    "semilogy_sympy(f5, pts, label=\"$(x-2)^5$\")\n",
    "plt.legend(loc=\"best\")\n",
    "plt.grid()\n",
    "plt.xlabel('$x$')\n",
    "plt.ylabel('error')\n",
    "plt.xlim([1.5,2.5])"
   ]
  },
  {
   "cell_type": "code",
   "execution_count": null,
   "metadata": {
    "collapsed": true
   },
   "outputs": [],
   "source": []
  }
 ],
 "metadata": {
  "kernelspec": {
   "display_name": "Python 3",
   "language": "python",
   "name": "python3"
  },
  "language_info": {
   "codemirror_mode": {
    "name": "ipython",
    "version": 3
   },
   "file_extension": ".py",
   "mimetype": "text/x-python",
   "name": "python",
   "nbconvert_exporter": "python",
   "pygments_lexer": "ipython3",
   "version": "3.6.9"
  },
  "widgets": {
   "state": {},
   "version": "1.1.2"
  }
 },
 "nbformat": 4,
 "nbformat_minor": 1
}
