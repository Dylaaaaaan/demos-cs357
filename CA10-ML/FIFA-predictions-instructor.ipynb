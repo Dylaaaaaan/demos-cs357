{
  "cells": [
    {
      "cell_type": "code",
      "execution_count": 1,
      "metadata": {
        "collapsed": true
      },
      "outputs": [],
      "source": [
        "import pandas as pd\n",
        "import numpy as np\n",
        "import matplotlib.pyplot as plt\n",
        "%matplotlib inline\n",
        "import seaborn as sns\n",
        "sns.set(font_scale=2)\n",
        "sns.set_style(\"whitegrid\")\n"
      ]
    },
    {
      "cell_type": "markdown",
      "metadata": {},
      "source": [
        "#  FIFA Dataset\n",
        "We will be looking at the [FIFA 2018 Dataset](https://www.kaggle.com/thec03u5/fifa-18-demo-player-dataset/kernels).  While this is a video game, the developers strive to make their game as accurate as possible, so this data reflects the skills of the real-life players.\n",
        "\n",
        "Let's load the data frame using `pandas`."
      ]
    },
    {
      "cell_type": "code",
      "execution_count": 2,
      "metadata": {
        "collapsed": true
      },
      "outputs": [],
      "source": [
        "df = pd.read_csv(\"FIFA_2018.csv\",encoding = \"ISO-8859-1\",index_col = 0, low_memory = False)"
      ]
    },
    {
      "cell_type": "markdown",
      "metadata": {},
      "source": [
        "We can take a brief look at the data by calling `df.head()`.  The first 34 columns are attributes that describe the behavior (e.g. aggression) or the skills (e.g. ball control), of each player.  The final columns show the player's position, name, nationality, and the club they play for.\n",
        "\n",
        "The four positions are forward (FWD), midfielder (MID), defender (DEF), and goalkeeper (GK)."
      ]
    },
    {
      "cell_type": "code",
      "execution_count": 3,
      "metadata": {},
      "outputs": [
        {
          "data": {
            "text/html": [
              "<div>\n",
              "<style scoped>\n",
              "    .dataframe tbody tr th:only-of-type {\n",
              "        vertical-align: middle;\n",
              "    }\n",
              "\n",
              "    .dataframe tbody tr th {\n",
              "        vertical-align: top;\n",
              "    }\n",
              "\n",
              "    .dataframe thead th {\n",
              "        text-align: right;\n",
              "    }\n",
              "</style>\n",
              "<table border=\"1\" class=\"dataframe\">\n",
              "  <thead>\n",
              "    <tr style=\"text-align: right;\">\n",
              "      <th></th>\n",
              "      <th>Acceleration</th>\n",
              "      <th>Aggression</th>\n",
              "      <th>Agility</th>\n",
              "      <th>Balance</th>\n",
              "      <th>Ball control</th>\n",
              "      <th>Composure</th>\n",
              "      <th>Crossing</th>\n",
              "      <th>Curve</th>\n",
              "      <th>Dribbling</th>\n",
              "      <th>Finishing</th>\n",
              "      <th>...</th>\n",
              "      <th>Sprint speed</th>\n",
              "      <th>Stamina</th>\n",
              "      <th>Standing tackle</th>\n",
              "      <th>Strength</th>\n",
              "      <th>Vision</th>\n",
              "      <th>Volleys</th>\n",
              "      <th>Position</th>\n",
              "      <th>Name</th>\n",
              "      <th>Nationality</th>\n",
              "      <th>Club</th>\n",
              "    </tr>\n",
              "  </thead>\n",
              "  <tbody>\n",
              "    <tr>\n",
              "      <td>0</td>\n",
              "      <td>89</td>\n",
              "      <td>63</td>\n",
              "      <td>89</td>\n",
              "      <td>63</td>\n",
              "      <td>93</td>\n",
              "      <td>95</td>\n",
              "      <td>85</td>\n",
              "      <td>81</td>\n",
              "      <td>91</td>\n",
              "      <td>94</td>\n",
              "      <td>...</td>\n",
              "      <td>91</td>\n",
              "      <td>92</td>\n",
              "      <td>31</td>\n",
              "      <td>80</td>\n",
              "      <td>85</td>\n",
              "      <td>88</td>\n",
              "      <td>FWD</td>\n",
              "      <td>Cristiano Ronaldo</td>\n",
              "      <td>Portugal</td>\n",
              "      <td>Real Madrid CF</td>\n",
              "    </tr>\n",
              "    <tr>\n",
              "      <td>1</td>\n",
              "      <td>92</td>\n",
              "      <td>48</td>\n",
              "      <td>90</td>\n",
              "      <td>95</td>\n",
              "      <td>95</td>\n",
              "      <td>96</td>\n",
              "      <td>77</td>\n",
              "      <td>89</td>\n",
              "      <td>97</td>\n",
              "      <td>95</td>\n",
              "      <td>...</td>\n",
              "      <td>87</td>\n",
              "      <td>73</td>\n",
              "      <td>28</td>\n",
              "      <td>59</td>\n",
              "      <td>90</td>\n",
              "      <td>85</td>\n",
              "      <td>FWD</td>\n",
              "      <td>L. Messi</td>\n",
              "      <td>Argentina</td>\n",
              "      <td>FC Barcelona</td>\n",
              "    </tr>\n",
              "    <tr>\n",
              "      <td>2</td>\n",
              "      <td>94</td>\n",
              "      <td>56</td>\n",
              "      <td>96</td>\n",
              "      <td>82</td>\n",
              "      <td>95</td>\n",
              "      <td>92</td>\n",
              "      <td>75</td>\n",
              "      <td>81</td>\n",
              "      <td>96</td>\n",
              "      <td>89</td>\n",
              "      <td>...</td>\n",
              "      <td>90</td>\n",
              "      <td>78</td>\n",
              "      <td>24</td>\n",
              "      <td>53</td>\n",
              "      <td>80</td>\n",
              "      <td>83</td>\n",
              "      <td>FWD</td>\n",
              "      <td>Neymar</td>\n",
              "      <td>Brazil</td>\n",
              "      <td>Paris Saint-Germain</td>\n",
              "    </tr>\n",
              "    <tr>\n",
              "      <td>3</td>\n",
              "      <td>88</td>\n",
              "      <td>78</td>\n",
              "      <td>86</td>\n",
              "      <td>60</td>\n",
              "      <td>91</td>\n",
              "      <td>83</td>\n",
              "      <td>77</td>\n",
              "      <td>86</td>\n",
              "      <td>86</td>\n",
              "      <td>94</td>\n",
              "      <td>...</td>\n",
              "      <td>77</td>\n",
              "      <td>89</td>\n",
              "      <td>45</td>\n",
              "      <td>80</td>\n",
              "      <td>84</td>\n",
              "      <td>88</td>\n",
              "      <td>FWD</td>\n",
              "      <td>L. Su\u0090\u008drez</td>\n",
              "      <td>Uruguay</td>\n",
              "      <td>FC Barcelona</td>\n",
              "    </tr>\n",
              "    <tr>\n",
              "      <td>4</td>\n",
              "      <td>58</td>\n",
              "      <td>29</td>\n",
              "      <td>52</td>\n",
              "      <td>35</td>\n",
              "      <td>48</td>\n",
              "      <td>70</td>\n",
              "      <td>15</td>\n",
              "      <td>14</td>\n",
              "      <td>30</td>\n",
              "      <td>13</td>\n",
              "      <td>...</td>\n",
              "      <td>61</td>\n",
              "      <td>44</td>\n",
              "      <td>10</td>\n",
              "      <td>83</td>\n",
              "      <td>70</td>\n",
              "      <td>11</td>\n",
              "      <td>GK</td>\n",
              "      <td>M. Neuer</td>\n",
              "      <td>Germany</td>\n",
              "      <td>FC Bayern Munich</td>\n",
              "    </tr>\n",
              "  </tbody>\n",
              "</table>\n",
              "<p>5 rows \u00d7 38 columns</p>\n",
              "</div>"
            ],
            "text/plain": [
              "   Acceleration  Aggression  Agility  Balance  Ball control  Composure  \\\n",
              "0            89          63       89       63            93         95   \n",
              "1            92          48       90       95            95         96   \n",
              "2            94          56       96       82            95         92   \n",
              "3            88          78       86       60            91         83   \n",
              "4            58          29       52       35            48         70   \n",
              "\n",
              "   Crossing  Curve  Dribbling  Finishing  ...  Sprint speed  Stamina  \\\n",
              "0        85     81         91         94  ...            91       92   \n",
              "1        77     89         97         95  ...            87       73   \n",
              "2        75     81         96         89  ...            90       78   \n",
              "3        77     86         86         94  ...            77       89   \n",
              "4        15     14         30         13  ...            61       44   \n",
              "\n",
              "   Standing tackle  Strength  Vision  Volleys  Position               Name  \\\n",
              "0               31        80      85       88       FWD  Cristiano Ronaldo   \n",
              "1               28        59      90       85       FWD           L. Messi   \n",
              "2               24        53      80       83       FWD             Neymar   \n",
              "3               45        80      84       88       FWD         L. Su\u0090\u008drez   \n",
              "4               10        83      70       11        GK           M. Neuer   \n",
              "\n",
              "   Nationality                 Club  \n",
              "0     Portugal       Real Madrid CF  \n",
              "1    Argentina         FC Barcelona  \n",
              "2       Brazil  Paris Saint-Germain  \n",
              "3      Uruguay         FC Barcelona  \n",
              "4      Germany     FC Bayern Munich  \n",
              "\n",
              "[5 rows x 38 columns]"
            ]
          },
          "execution_count": 3,
          "metadata": {},
          "output_type": "execute_result"
        }
      ],
      "source": [
        "df.head()"
      ]
    },
    {
      "cell_type": "markdown",
      "metadata": {},
      "source": [
        "We already know that identifying goal-keepers is quite straight-forward, so let's remove the data corresponding from goal-keepers:"
      ]
    },
    {
      "cell_type": "code",
      "execution_count": 4,
      "metadata": {
        "collapsed": true
      },
      "outputs": [],
      "source": [
        "df2 = df[df[\"Position\"] != \"GK\"].copy()\n",
        "df2.drop(['GK diving',\n",
        " 'GK handling',\n",
        " 'GK kicking',\n",
        " 'GK positioning',\n",
        " 'GK reflexes'],1,inplace=True)"
      ]
    },
    {
      "cell_type": "code",
      "execution_count": 5,
      "metadata": {},
      "outputs": [],
      "source": []
    },
    {
      "cell_type": "markdown",
      "metadata": {},
      "source": [
        "We can get all the attribute names and store them as `labels` by using `.columns.values`"
      ]
    },
    {
      "cell_type": "code",
      "execution_count": 6,
      "metadata": {},
      "outputs": [],
      "source": []
    },
    {
      "cell_type": "code",
      "execution_count": 7,
      "metadata": {
        "collapsed": true
      },
      "outputs": [],
      "source": [
        "from sklearn.model_selection import train_test_split\n",
        "from sklearn.metrics import confusion_matrix\n",
        "from sklearn.metrics import accuracy_score,  precision_score, recall_score\n",
        "from sklearn.linear_model import LogisticRegression\n",
        "from sklearn.tree import DecisionTreeClassifier\n",
        "from sklearn.neighbors import KNeighborsClassifier\n",
        "from sklearn.discriminant_analysis import LinearDiscriminantAnalysis\n",
        "from sklearn.naive_bayes import GaussianNB\n",
        "from sklearn.ensemble import GradientBoostingClassifier"
      ]
    },
    {
      "cell_type": "code",
      "execution_count": 8,
      "metadata": {
        "collapsed": true
      },
      "outputs": [],
      "source": [
        "validation_size = 0.3\n",
        "seed = 7\n",
        "X_train, X_test, Y_train, Y_test = train_test_split(X, Y, test_size=validation_size, random_state=seed)"
      ]
    },
    {
      "cell_type": "code",
      "execution_count": 9,
      "metadata": {
        "collapsed": true
      },
      "outputs": [],
      "source": []
    },
    {
      "cell_type": "code",
      "execution_count": 10,
      "metadata": {},
      "outputs": [
        {
          "name": "stdout",
          "output_type": "stream",
          "text": [
            "                    Classifier          accuracy\n",
            "             Nearest Neighbors          0.770999\n",
            "[[1376  240   14]\n",
            " [ 342 1608  231]\n",
            " [   7  262  706]]\n",
            "                           LDA          0.790430\n",
            "[[1395  231    4]\n",
            " [ 308 1632  241]\n",
            " [   7  212  756]]\n",
            "  Gradient Boosting Classifier          0.797743\n",
            "[[1430  194    6]\n",
            " [ 326 1685  170]\n",
            " [   7  265  703]]\n",
            "                 Random Forest          0.711241\n",
            "[[1258  338   34]\n",
            " [ 398 1486  297]\n",
            " [  20  295  660]]\n",
            "                   Naive Bayes          0.726285\n",
            "[[1290  333    7]\n",
            " [ 404 1343  434]\n",
            " [   5  127  843]]\n",
            "             Linear Regression          0.792938\n",
            "[[1405  220    5]\n",
            " [ 305 1668  208]\n",
            " [   8  245  722]]\n"
          ]
        }
      ],
      "source": [
        "print('%30s  %16s' % (\"Classifier\",\"accuracy\") )\n",
        "for name, clf in list(dict_classifiers.items()):\n",
        "    \n",
        "    clf.fit(X_train, Y_train)\n",
        "    y_result = clf.predict(X_test)\n",
        "    acc = accuracy_score(Y_test, y_result)\n",
        "    print('%30s  %16f' % (name, acc) )\n",
        "    cmat  = confusion_matrix(Y_test, y_result,labels=[\"DEF\",\"MID\",\"FWD\"])\n",
        "    print(cmat)"
      ]
    },
    {
      "cell_type": "code",
      "execution_count": null,
      "metadata": {
        "collapsed": true
      },
      "outputs": [],
      "source": []
    }
  ],
  "metadata": {
    "kernelspec": {
      "display_name": "Python 3",
      "language": "python",
      "name": "python3"
    },
    "language_info": {
      "codemirror_mode": {
        "name": "ipython",
        "version": 3
      },
      "file_extension": ".py",
      "mimetype": "text/x-python",
      "name": "python",
      "nbconvert_exporter": "python",
      "pygments_lexer": "ipython3",
      "version": "3.6.9"
    }
  },
  "nbformat": 4,
  "nbformat_minor": 2
}