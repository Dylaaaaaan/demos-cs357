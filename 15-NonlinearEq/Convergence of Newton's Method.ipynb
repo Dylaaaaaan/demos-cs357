{
 "cells": [
  {
   "cell_type": "markdown",
   "metadata": {},
   "source": [
    "# Convergence of Newton's Method"
   ]
  },
  {
   "cell_type": "code",
   "execution_count": 1,
   "metadata": {
    "collapsed": true
   },
   "outputs": [],
   "source": [
    "import numpy as np\n",
    "import matplotlib.pyplot as plt\n",
    "%matplotlib inline\n",
    "\n",
    "import seaborn as sns\n",
    "sns.set(font_scale=2)\n",
    "sns.set_style(\"whitegrid\")"
   ]
  },
  {
   "cell_type": "markdown",
   "metadata": {},
   "source": [
    "# Make a function and it's derivative"
   ]
  },
  {
   "cell_type": "code",
   "execution_count": 2,
   "metadata": {
    "collapsed": true
   },
   "outputs": [],
   "source": [
    "def f(x):\n",
    "    return np.exp(x) - 2\n",
    "\n",
    "def df(x):\n",
    "    return np.exp(x)"
   ]
  },
  {
   "cell_type": "code",
   "execution_count": 3,
   "metadata": {},
   "outputs": [
    {
     "data": {
      "text/plain": [
       "[<matplotlib.lines.Line2D at 0x11a758668>]"
      ]
     },
     "execution_count": 3,
     "metadata": {},
     "output_type": "execute_result"
    },
    {
     "data": {
      "image/png": "[encoded data removed]",
      "text/plain": [
       "<matplotlib.figure.Figure at 0x1156d7fd0>"
      ]
     },
     "metadata": {},
     "output_type": "display_data"
    }
   ],
   "source": [
    "xgrid = np.linspace(-2, 3, 1000)\n",
    "plt.grid(True)\n",
    "plt.plot(xgrid, f(xgrid))"
   ]
  },
  {
   "cell_type": "markdown",
   "metadata": {},
   "source": [
    "What's the true solution of $f(x)=0$?"
   ]
  },
  {
   "cell_type": "code",
   "execution_count": 4,
   "metadata": {},
   "outputs": [
    {
     "name": "stdout",
     "output_type": "stream",
     "text": [
      "0.69314718056\n",
      "0.0\n"
     ]
    }
   ],
   "source": [
    "xtrue = np.log(2)\n",
    "print(xtrue)\n",
    "print(f(xtrue))"
   ]
  },
  {
   "cell_type": "markdown",
   "metadata": {},
   "source": [
    "Now let's run Newton's method and keep track of the errors:"
   ]
  },
  {
   "cell_type": "code",
   "execution_count": 10,
   "metadata": {
    "collapsed": true
   },
   "outputs": [],
   "source": [
    "x0 = 15"
   ]
  },
  {
   "cell_type": "markdown",
   "metadata": {},
   "source": [
    "At each iteration, print the current guess and the error."
   ]
  },
  {
   "cell_type": "code",
   "execution_count": 11,
   "metadata": {},
   "outputs": [
    {
     "name": "stdout",
     "output_type": "stream",
     "text": [
      "        14 \t1.2026e+06 \t 13.3068534312446953\n",
      "        13 \t    442412 \t 12.3068550943011168\n",
      "        12 \t    162754 \t 11.3068596149496461\n",
      "        11 \t   59873.3 \t 10.3068719032908476\n",
      "   10.0001 \t   22025.6 \t 9.30690530605496846\n",
      "   9.00014 \t   8102.25 \t 8.30699610114884202\n",
      "   8.00039 \t   2980.12 \t 7.30724288539481392\n",
      "   7.00106 \t    1095.8 \t 6.30791354899655321\n",
      "   6.00288 \t   402.593 \t 5.30973537943299512\n",
      "   5.00783 \t   147.579 \t 4.31467861405916686\n",
      "    4.0212 \t   53.7678 \t 3.32804946005675895\n",
      "   3.05706 \t   19.2649 \t 2.36391244913916587\n",
      "   2.15111 \t    6.5944 \t 1.45796397973034253\n",
      "   1.38382 \t   1.99012 \t 0.690673573903283766\n",
      "  0.885059 \t  0.423128 \t 0.191911908176145451\n",
      "  0.710439 \t 0.0348837 \t 0.017291482657467605\n",
      "  0.693296 \t0.000297302 \t 0.000148639719445231577\n",
      "  0.693147 \t2.20927e-08 \t 1.10463357350099045e-08\n",
      "  0.693147 \t         0 \t 0\n"
     ]
    }
   ],
   "source": [
    "x = x0\n",
    "errors = []\n",
    "\n",
    "count = 0\n",
    "err = 1\n",
    "tol = 1e-8\n",
    "\n",
    "while count < 30 and err > tol:\n",
    "    x = x - f(x)/df(x)\n",
    "    err = abs(x-xtrue)\n",
    "    errors.append(err)\n",
    "    print('%10g \\t%10g \\t %.18g' % (x, f(x),errors[-1]))"
   ]
  },
  {
   "cell_type": "markdown",
   "metadata": {},
   "source": [
    "------------\n",
    "Let's check:"
   ]
  },
  {
   "cell_type": "code",
   "execution_count": 12,
   "metadata": {},
   "outputs": [
    {
     "name": "stdout",
     "output_type": "stream",
     "text": [
      "0.0695018460905\n",
      "0.0746530964243\n",
      "0.0806200157145\n",
      "0.0876095678445\n",
      "0.0959032701761\n",
      "0.105892580028\n",
      "0.118135016537\n",
      "0.133444725454\n",
      "0.153039203467\n",
      "0.178769270419\n",
      "0.213428220736\n",
      "0.260905971351\n",
      "0.3249220994\n",
      "0.402305754216\n",
      "0.46949220511\n",
      "0.497130501404\n",
      "0.499975225439\n",
      "0.0\n"
     ]
    }
   ],
   "source": [
    "r = 2\n",
    "for k in range(len(errors)-1):\n",
    "    print(errors[k+1]/errors[k]**r)"
   ]
  },
  {
   "cell_type": "code",
   "execution_count": null,
   "metadata": {
    "collapsed": true
   },
   "outputs": [],
   "source": []
  }
 ],
 "metadata": {
  "kernelspec": {
   "display_name": "Python 3",
   "language": "python",
   "name": "python3"
  },
  "language_info": {
   "codemirror_mode": {
    "name": "ipython",
    "version": 3
   },
   "file_extension": ".py",
   "mimetype": "text/x-python",
   "name": "python",
   "nbconvert_exporter": "python",
   "pygments_lexer": "ipython3",
   "version": "3.6.3"
  }
 },
 "nbformat": 4,
 "nbformat_minor": 1
}
