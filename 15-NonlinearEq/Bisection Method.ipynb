{
 "cells": [
  {
   "cell_type": "markdown",
   "metadata": {},
   "source": [
    "# Bisection Method"
   ]
  },
  {
   "cell_type": "code",
   "execution_count": 1,
   "metadata": {
    "collapsed": true
   },
   "outputs": [],
   "source": [
    "import numpy as np\n",
    "import matplotlib.pyplot as plt\n",
    "%matplotlib inline\n",
    "import seaborn as sns\n",
    "sns.set(font_scale=2)\n",
    "sns.set_style(\"whitegrid\")"
   ]
  },
  {
   "cell_type": "code",
   "execution_count": 2,
   "metadata": {},
   "outputs": [
    {
     "name": "stdout",
     "output_type": "stream",
     "text": [
      "0.69314718056\n"
     ]
    },
    {
     "data": {
      "text/plain": [
       "[<matplotlib.lines.Line2D at 0x113ea7a20>]"
      ]
     },
     "execution_count": 2,
     "metadata": {},
     "output_type": "execute_result"
    },
    {
     "data": {
      "image/png": "[encoded data removed]",
      "text/plain": [
       "<matplotlib.figure.Figure at 0x112293fd0>"
      ]
     },
     "metadata": {},
     "output_type": "display_data"
    }
   ],
   "source": [
    "a0 = -2\n",
    "b0 = 2\n",
    "\n",
    "x = np.linspace(a0, b0)\n",
    "\n",
    "def f(x):\n",
    "    return np.exp(x) - 2\n",
    "\n",
    "xtrue = 0 \n",
    "xtrue = np.log(2)\n",
    "print(xtrue)\n",
    "\n",
    "plt.plot(x, f(x))"
   ]
  },
  {
   "cell_type": "code",
   "execution_count": 3,
   "metadata": {},
   "outputs": [
    {
     "name": "stdout",
     "output_type": "stream",
     "text": [
      "         0 \t          2 \t          2\n",
      "         0 \t          1 \t          1\n",
      "       0.5 \t          1 \t        0.5\n",
      "       0.5 \t       0.75 \t       0.25\n",
      "     0.625 \t       0.75 \t      0.125\n",
      "    0.6875 \t       0.75 \t     0.0625\n",
      "    0.6875 \t    0.71875 \t    0.03125\n",
      "    0.6875 \t   0.703125 \t   0.015625\n",
      "    0.6875 \t   0.695312 \t  0.0078125\n",
      "  0.691406 \t   0.695312 \t 0.00390625\n"
     ]
    }
   ],
   "source": [
    "errors = []\n",
    "a = a0\n",
    "b = b0\n",
    "\n",
    "for i in range(10):\n",
    "    m = (a+b)/2\n",
    "\n",
    "    if  np.sign(f(a)) == np.sign(f(m)):\n",
    "        a = m  \n",
    "    else:\n",
    "        b = m\n",
    "        \n",
    "    errors.append(np.abs(a - b))        \n",
    "    print(\"%10g \\t %10g \\t %10g\" % (a, b, errors[-1]))"
   ]
  },
  {
   "cell_type": "code",
   "execution_count": 6,
   "metadata": {},
   "outputs": [
    {
     "name": "stdout",
     "output_type": "stream",
     "text": [
      "0.5\n",
      "0.5\n",
      "0.5\n",
      "0.5\n",
      "0.5\n",
      "0.5\n",
      "0.5\n",
      "0.5\n",
      "0.5\n"
     ]
    }
   ],
   "source": [
    "r = 1\n",
    "for i in range(len(errors)-1):\n",
    "    print(errors[i+1]/errors[i]**r)"
   ]
  },
  {
   "cell_type": "markdown",
   "metadata": {},
   "source": [
    "## Adding stopping criterial and understanding what happens when multiple roots"
   ]
  },
  {
   "cell_type": "code",
   "execution_count": 9,
   "metadata": {},
   "outputs": [
    {
     "data": {
      "text/plain": [
       "[<matplotlib.lines.Line2D at 0x1a1b095748>]"
      ]
     },
     "execution_count": 9,
     "metadata": {},
     "output_type": "execute_result"
    },
    {
     "data": {
      "image/png": "[encoded data removed]",
      "text/plain": [
       "<matplotlib.figure.Figure at 0x113f150b8>"
      ]
     },
     "metadata": {},
     "output_type": "display_data"
    }
   ],
   "source": [
    "def f(x):\n",
    "    return 0.5*x**2 - 2\n",
    "\n",
    "a0 = -1\n",
    "b0 = 4\n",
    "\n",
    "xmesh = np.linspace(a0, b0, 100)\n",
    "plt.ylim([-5, 10])\n",
    "plt.plot(xmesh, f(xmesh))"
   ]
  },
  {
   "cell_type": "code",
   "execution_count": 10,
   "metadata": {},
   "outputs": [
    {
     "name": "stdout",
     "output_type": "stream",
     "text": [
      "       1.5 \t          4 \t        2.5\n",
      "       1.5 \t       2.75 \t       1.25\n",
      "       1.5 \t      2.125 \t      0.625\n",
      "    1.8125 \t      2.125 \t     0.3125\n",
      "   1.96875 \t      2.125 \t    0.15625\n",
      "   1.96875 \t    2.04688 \t   0.078125\n",
      "   1.96875 \t    2.00781 \t  0.0390625\n"
     ]
    }
   ],
   "source": [
    "errors = []\n",
    "a = a0\n",
    "b = b0\n",
    "count = 0\n",
    "err = b-a\n",
    "while count < 30 and err > 2**(-4):\n",
    "    m = (a+b)/2\n",
    "    if  np.sign(f(a)) == np.sign(f(m)):\n",
    "        a = m  \n",
    "    else:\n",
    "        b = m\n",
    "        \n",
    "    err = b-a\n",
    "        \n",
    "    errors.append(err)        \n",
    "    print(\"%10g \\t %10g \\t %10g\" % (a, b, errors[-1]))\n",
    "    \n",
    "    count += 1"
   ]
  },
  {
   "cell_type": "markdown",
   "metadata": {},
   "source": [
    "## What about improving the computational cost?"
   ]
  },
  {
   "cell_type": "code",
   "execution_count": null,
   "metadata": {},
   "outputs": [],
   "source": [
    "errors = []\n",
    "a = a0\n",
    "b = b0\n",
    "count = 0\n",
    "err = b-a\n",
    "fa = f(a)\n",
    "while count < 30 and err > 2**(-4):\n",
    "    m = (a+b)/2\n",
    "    fm = f(m)\n",
    "    if  fa*fm >= 0:\n",
    "        a = m  \n",
    "    else:\n",
    "        b = m\n",
    "        \n",
    "    err = b-a\n",
    "        \n",
    "    errors.append(err)        \n",
    "    print(\"%10g \\t %10g \\t %10g\" % (a, b, errors[-1]))\n",
    "    \n",
    "    count += 1"
   ]
  },
  {
   "cell_type": "code",
   "execution_count": null,
   "metadata": {
    "collapsed": true
   },
   "outputs": [],
   "source": []
  }
 ],
 "metadata": {
  "kernelspec": {
   "display_name": "Python 3",
   "language": "python",
   "name": "python3"
  },
  "language_info": {
   "codemirror_mode": {
    "name": "ipython",
    "version": 3
   },
   "file_extension": ".py",
   "mimetype": "text/x-python",
   "name": "python",
   "nbconvert_exporter": "python",
   "pygments_lexer": "ipython3",
   "version": "3.6.3"
  }
 },
 "nbformat": 4,
 "nbformat_minor": 1
}
