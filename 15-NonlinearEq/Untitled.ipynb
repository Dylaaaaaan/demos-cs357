{
 "cells": [
  {
   "cell_type": "code",
   "execution_count": 2,
   "metadata": {},
   "outputs": [
    {
     "name": "stdout",
     "output_type": "stream",
     "text": [
      "[31.26599590609581, 15.320661090501284, 7.5822475899712609, 3.7716032194183104, 1.8809214865945123, 0.93924071513935892, 0.46931535085929094, 0.23458142379327765, 0.1172716489927064, 0.058631058771015397, 0.029314337954253936, 0.014656871119323615, 0.0073283610952122298, 0.0036641619314938781, 0.0018320753809132934, 0.00091603582884543667, 0.00045801791442271833, 0.00022900895721135917, 0.00011450447860567958, 5.7252239302839792e-05, 2.8626119651419896e-05, 1.4313059825709948e-05, 7.152557373046875e-06, 3.814697265625e-06, 1.9073486328125e-06, 0.0, 0.0, 0.0, 0.0, 0.0, 0.0, 0.0, 0.0, 0.0, 0.0, 0.0, 0.0, 0.0, 0.0, 0.0]\n"
     ]
    },
    {
     "data": {
      "image/png": "[encoded data removed]",
      "text/plain": [
       "<matplotlib.figure.Figure at 0x109698b00>"
      ]
     },
     "metadata": {},
     "output_type": "display_data"
    }
   ],
   "source": [
    "import numpy as np\n",
    "import numpy.linalg as la\n",
    "import matplotlib.pyplot as plt\n",
    "\n",
    "def func(x):\n",
    "    x1 = x[0]\n",
    "    x2 = x[1]\n",
    "    f = 2*x1**2 - 0.5*x1*x2 + 5*x2**3\n",
    "    return f\n",
    "\n",
    "def dfunc(x):\n",
    "    x1 = x[0]\n",
    "    x2 = x[1]\n",
    "    df1 = 4*x1 - 0.5*x2\n",
    "    df2 = -0.5*x1 + 15*x2**2\n",
    "    return np.array([df1,df2])\n",
    "\n",
    "def fd(xvec,dx):\n",
    "    f = func(xvec)\n",
    "    df = np.zeros(len(xvec))\n",
    "    for i in range(len(xvec)):\n",
    "        xvec[i] = xvec[i] + dx\n",
    "        df[i] = (func(xvec)-f)/dx\n",
    "        xvec[i] = xvec[i] - dx\n",
    "    return df\n",
    "\n",
    "\n",
    "xvec = np.array([3, 4.])\n",
    "df_exact = dfunc(xvec)\n",
    "\n",
    "error = []\n",
    "dxvec = []\n",
    "dx = 0.5\n",
    "for i in range(40):\n",
    "    df_approx = fd(xvec,dx)\n",
    "    er = la.norm(df_approx-df_exact)\n",
    "    error.append(er)\n",
    "    dxvec.append(dx)\n",
    "    dx = dx / 2\n",
    "    \n",
    "print(error)\n",
    "\n",
    "plt.loglog(dxvec,error,'o-')\n",
    "plt.grid()\n",
    "plt.xlabel('perturbation size')\n",
    "plt.ylabel('error')\n",
    "plt.show()"
   ]
  },
  {
   "cell_type": "code",
   "execution_count": null,
   "metadata": {
    "collapsed": true
   },
   "outputs": [],
   "source": []
  }
 ],
 "metadata": {
  "kernelspec": {
   "display_name": "Python 3",
   "language": "python",
   "name": "python3"
  },
  "language_info": {
   "codemirror_mode": {
    "name": "ipython",
    "version": 3
   },
   "file_extension": ".py",
   "mimetype": "text/x-python",
   "name": "python",
   "nbconvert_exporter": "python",
   "pygments_lexer": "ipython3",
   "version": "3.6.3"
  }
 },
 "nbformat": 4,
 "nbformat_minor": 2
}
