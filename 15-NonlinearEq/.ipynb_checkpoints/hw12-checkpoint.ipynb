{
 "cells": [
  {
   "cell_type": "code",
   "execution_count": 57,
   "metadata": {
    "collapsed": true
   },
   "outputs": [],
   "source": [
    "import numpy as np\n",
    "import numpy.linalg as la\n",
    "import matplotlib.pyplot as plt\n",
    "%matplotlib inline\n",
    "\n",
    "import seaborn as sns\n",
    "sns.set(font_scale=2)\n",
    "sns.set_style(\"whitegrid\")"
   ]
  },
  {
   "cell_type": "markdown",
   "metadata": {},
   "source": [
    "## Nonlinear1D-NewtonStepsToConvergence"
   ]
  },
  {
   "cell_type": "code",
   "execution_count": 18,
   "metadata": {
    "collapsed": true
   },
   "outputs": [],
   "source": [
    "def f(x):\n",
    "    return x*(3-x)**2\n",
    "\n",
    "def df(x):\n",
    "    dfval = (3-x)**2 - 2*x*(3-x)\n",
    "    return dfval"
   ]
  },
  {
   "cell_type": "code",
   "execution_count": 23,
   "metadata": {
    "collapsed": true
   },
   "outputs": [],
   "source": [
    "def f(x):\n",
    "    return x*np.sin(x)\n",
    "\n",
    "def df(x):\n",
    "    dfval = np.sin(x) + x*np.cos(x)\n",
    "    return dfval"
   ]
  },
  {
   "cell_type": "code",
   "execution_count": 20,
   "metadata": {
    "collapsed": true
   },
   "outputs": [],
   "source": [
    "def f(x):\n",
    "    return np.exp(x)*x\n",
    "\n",
    "def df(x):\n",
    "    dfval = np.exp(x) + np.exp(x)*x\n",
    "    return dfval"
   ]
  },
  {
   "cell_type": "code",
   "execution_count": 24,
   "metadata": {},
   "outputs": [
    {
     "name": "stdout",
     "output_type": "stream",
     "text": [
      "0 1.7786920884\n",
      "1 -2.414841301\n",
      "2 0.415050848455\n",
      "3 0.00361766791261\n",
      "4 3.30989764851e-07\n",
      "5 4.04165304184e-15\n",
      "5\n"
     ]
    }
   ],
   "source": [
    "x = 2.2\n",
    "tol = 1e-7\n",
    "for i in range(20):\n",
    "    func = f(x)\n",
    "    dfunc = df(x)\n",
    "    x = x - func/dfunc\n",
    "    print(i,func)\n",
    "    if abs(func) < tol:\n",
    "        break\n",
    "    \n",
    "print(i)"
   ]
  },
  {
   "cell_type": "markdown",
   "metadata": {},
   "source": [
    "## NonlinearSolveND-NewtonSolve"
   ]
  },
  {
   "cell_type": "code",
   "execution_count": 62,
   "metadata": {},
   "outputs": [
    {
     "name": "stdout",
     "output_type": "stream",
     "text": [
      "[[ 8  1]\n",
      " [ 7 -5]]\n",
      "[ 1.19148936  0.46808511]\n"
     ]
    }
   ],
   "source": [
    "x1 = 2\n",
    "x2 = 0\n",
    "A = np.array([[2,0,-2,0,1,0],[1,3,-2,-1,1,-3]])\n",
    "d = np.array([x1**2,x1,1,x2**2,x2,x1*x2])\n",
    "dvec = np.array([[2*x1,0],[1,0],[0,0],[0,2*x2],[0,1],[x2,x1]])\n",
    "J = A@dvec\n",
    "print(J)\n",
    "\n",
    "\n",
    "x0 = np.array([x1,x2])\n",
    "s = la.solve(J,A@d)\n",
    "x = x0 - s\n",
    "print(x)\n"
   ]
  },
  {
   "cell_type": "markdown",
   "metadata": {},
   "source": [
    "## NonlinearSolveND-NewtonSolve2"
   ]
  },
  {
   "cell_type": "code",
   "execution_count": 66,
   "metadata": {},
   "outputs": [
    {
     "name": "stdout",
     "output_type": "stream",
     "text": [
      "[-0.5  -1.25]\n"
     ]
    }
   ],
   "source": [
    "x1 = 0\n",
    "x2 = -2\n",
    "\n",
    "J = np.array([[3*x2,3*x1],[3*x1**2,2*x2]])\n",
    "f = np.array([3*x1*x2 - 3, x1**3+x2**2 - 1])\n",
    "\n",
    "x0 = np.array([x1,x2])\n",
    "s = la.solve(J,f)\n",
    "x = x0 - s\n",
    "print(x)"
   ]
  },
  {
   "cell_type": "code",
   "execution_count": null,
   "metadata": {
    "collapsed": true
   },
   "outputs": [],
   "source": []
  }
 ],
 "metadata": {
  "kernelspec": {
   "display_name": "Python 3",
   "language": "python",
   "name": "python3"
  },
  "language_info": {
   "codemirror_mode": {
    "name": "ipython",
    "version": 3
   },
   "file_extension": ".py",
   "mimetype": "text/x-python",
   "name": "python",
   "nbconvert_exporter": "python",
   "pygments_lexer": "ipython3",
   "version": "3.6.3"
  }
 },
 "nbformat": 4,
 "nbformat_minor": 1
}
