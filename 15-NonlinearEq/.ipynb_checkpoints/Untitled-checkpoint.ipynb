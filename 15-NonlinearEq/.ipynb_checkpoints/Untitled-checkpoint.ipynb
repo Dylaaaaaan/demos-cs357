{
 "cells": [
  {
   "cell_type": "code",
   "execution_count": null,
   "metadata": {
    "collapsed": true
   },
   "outputs": [],
   "source": [
    "import numpy as np\n",
    "import matplotlib.pyplot as plt\n",
    "\n",
    "def func(x):\n",
    "    x1 = x[0]\n",
    "    x2 = x[1]\n",
    "    f = 2*x1**2 - 0.5*x1*x2 + 5*x2**3\n",
    "    return f\n",
    "\n",
    "def dfunc(x):\n",
    "    x1 = x[0]\n",
    "    x2 = x[1]\n",
    "    df1 = 4*x1 - 0.5*x2\n",
    "    df2 = -0.5*x1 + 15*x2**2\n",
    "    return np.array([df1,df2])\n",
    "\n",
    "def fd(xvec,dx):\n",
    "    f = func(xvec)\n",
    "    df = np.zeros(len(xvec))\n",
    "    for i in range(len(xvec)):\n",
    "        xvec[i] = xvec[i] + dx\n",
    "        df[i] = (func(xvec)-f)/dx\n",
    "        xvec[i] = xvec[i] - dx\n",
    "    return df\n",
    "\n",
    "\n",
    "xvec = np.array([3, 4.])\n",
    "df_exact = dfunc(xvec)\n",
    "\n",
    "error = []\n",
    "dxvec = []\n",
    "dx = 0.5\n",
    "for i in range(40):\n",
    "    df_approx = fd(xvec,dx)\n",
    "    error.append(max(abs(df_approx-df_exact)))\n",
    "    dxvec.append(dx)\n",
    "    dx = dx / 2\n",
    "    print(dx)\n",
    "    \n",
    "print(error)\n",
    "\n",
    "plt.loglog(dxvec,error,'o-')\n",
    "plt.grid()\n",
    "plt.xlabel('perturbation size')\n",
    "plt.ylabel('error')"
   ]
  }
 ],
 "metadata": {
  "kernelspec": {
   "display_name": "Python 3",
   "language": "python",
   "name": "python3"
  },
  "language_info": {
   "codemirror_mode": {
    "name": "ipython",
    "version": 3
   },
   "file_extension": ".py",
   "mimetype": "text/x-python",
   "name": "python",
   "nbconvert_exporter": "python",
   "pygments_lexer": "ipython3",
   "version": "3.6.3"
  }
 },
 "nbformat": 4,
 "nbformat_minor": 2
}
