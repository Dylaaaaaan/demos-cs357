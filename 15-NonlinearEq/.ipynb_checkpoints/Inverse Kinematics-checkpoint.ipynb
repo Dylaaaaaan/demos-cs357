{
 "cells": [
  {
   "cell_type": "code",
   "execution_count": 1,
   "metadata": {
    "collapsed": true
   },
   "outputs": [],
   "source": [
    "import numpy as np\n",
    "import numpy.linalg as la\n",
    "import matplotlib.pyplot as plt\n",
    "%matplotlib inline\n",
    "\n",
    "from scipy.optimize import fsolve"
   ]
  },
  {
   "cell_type": "code",
   "execution_count": 2,
   "metadata": {
    "collapsed": true
   },
   "outputs": [],
   "source": [
    "def endpt(pt, ang, length):\n",
    "    x, y = pt\n",
    "    endy = y + length * np.sin(ang)\n",
    "    endx = x + length * np.cos(ang)\n",
    "    return endx, endy\n",
    "\n",
    "def plotarms(x,y,beta,a,b,sol):\n",
    "\n",
    "    fig = plt.figure(figsize = (12,6))\n",
    "\n",
    "    startx, starty = (0,0)\n",
    "    endx, endy = endpt((startx,starty),sol[0],a)\n",
    "    plt.plot([startx, endx], [starty, endy], '-r', linewidth=4)\n",
    "    plt.plot([startx], [starty], 'ko',markersize=12)\n",
    "    plt.plot([endx], [endy], 'ko',markersize=12)\n",
    "    plt.text(startx-0.3, starty+0.3, r'$A$', fontsize=20)\n",
    "    plt.text(endx, endy+0.3, r'$B$', fontsize=20)\n",
    "    plt.text(startx+0.8, starty, r'$\\theta_1$', fontsize=20)\n",
    "    plt.plot([endx, x], [endy, y], '-g', linewidth=4)\n",
    "    plt.plot([x], [y], 'ko',markersize=12)\n",
    "    plt.text(x, y-1, r'$C$', fontsize=20)\n",
    "    plt.text(endx-0.5, endy-1.2, r'$\\theta_2$', fontsize=20)\n",
    "    plt.text(x-0.2, y+0.5, r'$\\theta_3$', fontsize=20)\n",
    "    plt.plot([x, x+2], [y, y], '--k')\n",
    "    plt.plot([x, x+2*np.cos(beta)], [y, y+2*np.sin(beta)], '--k')\n",
    "    plt.text(x+np.cos(beta), y, r'$\\beta$', fontsize=20)\n",
    "\n",
    "    plt.xlim(-1,a+b)\n",
    "    plt.ylim(-1,0.8*a)\n",
    "    plt.show()\n"
   ]
  },
  {
   "cell_type": "code",
   "execution_count": 3,
   "metadata": {
    "collapsed": true
   },
   "outputs": [],
   "source": [
    "def func(xvec, *args):   \n",
    "    #xvec = (theta1, theta2, theta3)   \n",
    "    a,b,x,y,beta  = args\n",
    "    \n",
    "    c      = np.sqrt(x**2 + y**2)    \n",
    "    alpha2 = np.arcsin(y/c)\n",
    "    \n",
    "    f = np.zeros(3)\n",
    "    \n",
    "    f[0] = a**2 + b**2 - 2*a*b*np.cos(xvec[1]) - c**2    \n",
    "    f[1] = a**2 + c**2 - 2*a*c*np.cos(xvec[0] - alpha2) - b**2\n",
    "    f[2] = xvec[0] + xvec[1]- xvec[2] - beta\n",
    "    \n",
    "    return f\n",
    "\n",
    "def dfunc(xvec, *args):\n",
    "    # A function to compute the Jacobian of func with derivatives across the rows.      \n",
    "    #xvec = (theta1, theta2, theta3)\n",
    "    a,b,x,y,beta  = args\n",
    "      \n",
    "    c      = np.sqrt(x**2 + y**2)    \n",
    "    alpha2 = np.arcsin(y/c)\n",
    "    \n",
    "    df = np.zeros((3,3))\n",
    "    \n",
    "    df[0,0] = 0\n",
    "    df[0,1] = 2*a*b*np.sin(xvec[1])   \n",
    "    df[0,2] = 0\n",
    "    \n",
    "    df[1,0] = 2*a*c*np.sin(xvec[0] - alpha2) \n",
    "    df[1,1] = 0  \n",
    "    df[1,2] = 0\n",
    "\n",
    "    df[2,0] = 1\n",
    "    df[2,1] = 1 \n",
    "    df[2,2] = -1\n",
    "    \n",
    "    return df"
   ]
  },
  {
   "cell_type": "code",
   "execution_count": 46,
   "metadata": {},
   "outputs": [
    {
     "name": "stdout",
     "output_type": "stream",
     "text": [
      "[  90.           55.24977425  145.24977425]\n"
     ]
    }
   ],
   "source": [
    "# Define desired position for the robotic hand\n",
    "x = 8\n",
    "y = 2\n",
    "beta = np.pi/4\n",
    "# Given arm lengths:\n",
    "a = 10\n",
    "b = 5\n",
    "# Create tuple with optional problem parameters\n",
    "const = (a,b,x,y,beta)\n",
    "\n",
    "# Set initial guess\n",
    "c = np.sqrt(x**2+y**2)\n",
    "theta1guess = np.pi/2\n",
    "theta2guess = np.arccos( (a**2+b**2-c**2)/(2*a*b) )\n",
    "theta3guess = theta1guess+theta2guess\n",
    "xguess = [theta1guess,theta2guess,theta3guess]\n",
    "print(np.degrees(xguess))"
   ]
  },
  {
   "cell_type": "code",
   "execution_count": 47,
   "metadata": {},
   "outputs": [
    {
     "name": "stdout",
     "output_type": "stream",
     "text": [
      "[ 43.9169153   55.24977425  54.16668955]\n",
      "number of function evaluations =  11\n"
     ]
    },
    {
     "data": {
      "image/png": "[encoded data removed]",
      "text/plain": [
       "<matplotlib.figure.Figure at 0x10cdaf278>"
      ]
     },
     "metadata": {},
     "output_type": "display_data"
    }
   ],
   "source": [
    "# Solve for the unknowns using fsolve (only function provided)\n",
    "# sol = [theta1, theta2, theta3]\n",
    "(sol,info,ier,msg) = fsolve(func, xguess, const, full_output=True)\n",
    "print(np.degrees(sol))\n",
    "print('number of function evaluations = ', info['nfev'])\n",
    "plotarms(x,y,beta,a,b,sol)"
   ]
  },
  {
   "cell_type": "code",
   "execution_count": 48,
   "metadata": {},
   "outputs": [
    {
     "name": "stdout",
     "output_type": "stream",
     "text": [
      "[ 43.9169153   55.24977425  54.16668955]\n",
      "number of function evaluations =  8\n",
      "number of jacobian evaluations =  1\n"
     ]
    },
    {
     "data": {
      "image/png": "[encoded data removed]",
      "text/plain": [
       "<matplotlib.figure.Figure at 0x15118217f0>"
      ]
     },
     "metadata": {},
     "output_type": "display_data"
    }
   ],
   "source": [
    "# Solve for the unknowns using fsolve  (function and jacobian provided)\n",
    "# sol = [theta1, theta2, theta3]\n",
    "(sol,info,ier,msg) = fsolve(func, xguess, args=const, full_output=True, fprime = dfunc)\n",
    "print(np.degrees(sol))\n",
    "print('number of function evaluations = ', info['nfev'])\n",
    "print('number of jacobian evaluations = ', info['njev'])\n",
    "plotarms(x,y,beta,a,b,sol)"
   ]
  },
  {
   "cell_type": "code",
   "execution_count": 74,
   "metadata": {},
   "outputs": [
    {
     "name": "stdout",
     "output_type": "stream",
     "text": [
      "number of function evaluations =  6\n",
      "[ 43.9169153   55.24977425  54.16668955]\n"
     ]
    }
   ],
   "source": [
    "#Implementing Newton Method\n",
    "#x = xguess\n",
    "x = np.random.uniform(low=np.pi/10, high=np.pi/2, size=(3,))\n",
    "er = 1\n",
    "count = 0\n",
    "while er > 1e-9 and count < 100:\n",
    "    count += 1\n",
    "    h = la.solve(dfunc(x,*const), func(x,*const))\n",
    "    x = x - h\n",
    "    er = la.norm(h)\n",
    "print('number of function evaluations = ', count)\n",
    "print(np.degrees(x))"
   ]
  },
  {
   "cell_type": "code",
   "execution_count": null,
   "metadata": {
    "collapsed": true
   },
   "outputs": [],
   "source": []
  }
 ],
 "metadata": {
  "kernelspec": {
   "display_name": "Python 3",
   "language": "python",
   "name": "python3"
  },
  "language_info": {
   "codemirror_mode": {
    "name": "ipython",
    "version": 3
   },
   "file_extension": ".py",
   "mimetype": "text/x-python",
   "name": "python",
   "nbconvert_exporter": "python",
   "pygments_lexer": "ipython3",
   "version": "3.6.3"
  }
 },
 "nbformat": 4,
 "nbformat_minor": 2
}
