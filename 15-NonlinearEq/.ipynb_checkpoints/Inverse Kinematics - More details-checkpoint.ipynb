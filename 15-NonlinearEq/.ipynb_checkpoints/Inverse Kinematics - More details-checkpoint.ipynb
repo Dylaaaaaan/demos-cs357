{
 "cells": [
  {
   "cell_type": "code",
   "execution_count": 45,
   "metadata": {
    "collapsed": true
   },
   "outputs": [],
   "source": [
    "import numpy as np\n",
    "import matplotlib.pyplot as plt\n",
    "%matplotlib inline\n",
    "\n",
    "from scipy.optimize import fsolve"
   ]
  },
  {
   "cell_type": "code",
   "execution_count": 46,
   "metadata": {
    "collapsed": true
   },
   "outputs": [],
   "source": [
    "def func(xvec, *args):\n",
    "    \n",
    "    #xvec = (theta1, theta2, theta3)        \n",
    "    a,b,x,y,beta  = args\n",
    "\n",
    "    c      = np.sqrt(x**2 + y**2)    \n",
    "    alpha2 = np.arcsin(y/c)\n",
    "    \n",
    "    f = np.zeros(3)\n",
    "    \n",
    "    f[0] = a**2 + b**2 - 2*a*b*np.cos(xvec[1]) - c**2    \n",
    "    f[1] = a**2 + c**2 - 2*a*c*np.cos(xvec[0] - alpha2) - b**2\n",
    "    f[2] = xvec[0] + xvec[1]- xvec[2] - beta\n",
    "    \n",
    "    return f"
   ]
  },
  {
   "cell_type": "code",
   "execution_count": 47,
   "metadata": {
    "collapsed": true
   },
   "outputs": [],
   "source": [
    "def dfunc(xvec, *args):\n",
    "    \n",
    "    #xvec = (theta1, theta2, theta3)\n",
    "    a,b,x,y,beta  = args\n",
    "    \n",
    "   \n",
    "    c      = np.sqrt(x**2 + y**2)    \n",
    "    alpha2 = np.arcsin(y/c)\n",
    "    \n",
    "    f = np.zeros((3,3))\n",
    "    \n",
    "    f[0,0] = 0\n",
    "    f[0,1] = 2*a*b*np.sin(xvec[1])   \n",
    "    f[0,2] = 0\n",
    "    \n",
    "    f[1,0] = 2*a*c*np.sin(xvec[0] - alpha2) \n",
    "    f[1,1] = 0  \n",
    "    f[1,2] = 0\n",
    "\n",
    "    f[2,0] = 1\n",
    "    f[2,1] = 1 \n",
    "    f[2,2] = -1\n",
    "    \n",
    "    return f"
   ]
  },
  {
   "cell_type": "code",
   "execution_count": 48,
   "metadata": {},
   "outputs": [
    {
     "name": "stdout",
     "output_type": "stream",
     "text": [
      "[ 0.31010436  0.23145641  0.01796199]\n",
      "14\n",
      "[ -1.42108547e-14   5.68434189e-13   1.11022302e-16]\n"
     ]
    }
   ],
   "source": [
    "# Define desired position for the robotic hand\n",
    "x = 10\n",
    "y = 2\n",
    "beta = np.pi/6\n",
    "# Given arm lengths:\n",
    "a = 15\n",
    "b = 5\n",
    "# Create tuple with optional problem parameters\n",
    "const = (a,b,x,y,beta)\n",
    "\n",
    "### Using estimated Jacobian from fsolve ###\n",
    "# Set initial guess\n",
    "c = np.sqrt(x**2+y**2)\n",
    "theta1guess = np.pi/2\n",
    "theta2guess = np.arccos( (a**2+b**2-c**2)/(2*a*b) )\n",
    "theta3guess = theta1guess+theta2guess\n",
    "xguess = [theta1guess,theta2guess,theta3guess]\n",
    "\n",
    "# Solve for the unknowns \n",
    "# sol = [theta1, theta2, theta3]\n",
    "(sol,info,ier,msg) = fsolve(func,  x0=xguess, args=const, full_output=True)\n",
    "print(sol)\n",
    "print(info['nfev'])\n",
    "print(info['fvec'])\n"
   ]
  },
  {
   "cell_type": "code",
   "execution_count": 49,
   "metadata": {},
   "outputs": [
    {
     "name": "stdout",
     "output_type": "stream",
     "text": [
      "[-5.97308095  0.23145641 -6.26522331]\n",
      "19\n",
      "[  9.58287671e-09   1.24536541e-08  -8.41983927e-10]\n"
     ]
    }
   ],
   "source": [
    "# Define desired position for the robotic hand\n",
    "x = 10\n",
    "y = 2\n",
    "beta = np.pi/6\n",
    "# Given arm lengths:\n",
    "a = 15\n",
    "b = 5\n",
    "# Create tuple with optional problem parameters\n",
    "const = (a,b,x,y,beta)\n",
    "\n",
    "### Using estimated Jacobian from fsolve ###\n",
    "# Set initial guess\n",
    "c = np.sqrt(x**2+y**2)\n",
    "theta1guess = np.pi/2\n",
    "theta2guess = np.arccos( (a**2+b**2-c**2)/(2*a*b) )\n",
    "theta3guess = theta1guess+theta2guess\n",
    "xguess = [theta1guess,theta2guess,theta3guess]\n",
    "\n",
    "# Solve for the unknowns \n",
    "# sol = [theta1, theta2, theta3]\n",
    "(sol,info,ier,msg) = fsolve(func, x0=xguess, args=const, fprime = dfunc,  full_output=True, col_deriv = True)\n",
    "print(sol)\n",
    "print(info['nfev'])\n",
    "print(info['fvec'])\n"
   ]
  },
  {
   "cell_type": "markdown",
   "metadata": {},
   "source": [
    "## Plot the \"arms\" and \"hand\" as a function of the given values x,y,beta"
   ]
  },
  {
   "cell_type": "code",
   "execution_count": 50,
   "metadata": {},
   "outputs": [
    {
     "data": {
      "image/png": "[encoded data removed]",
      "text/plain": [
       "<matplotlib.figure.Figure at 0x112ad9898>"
      ]
     },
     "metadata": {},
     "output_type": "display_data"
    }
   ],
   "source": [
    "def endpt(pt, ang, length):\n",
    "    x, y = pt\n",
    "    endy = y + length * np.sin(ang)\n",
    "    endx = x + length * np.cos(ang)\n",
    "    return endx, endy\n",
    "\n",
    "startx, starty = (0,0)\n",
    "endx, endy = endpt((startx,starty),sol[0],a)\n",
    "plt.plot([startx, endx], [starty, endy], '-r')\n",
    "plt.plot([startx], [starty], 'ro')\n",
    "plt.text(startx+0.3, starty+0.6, r'$A$', fontsize=15, color='r')\n",
    "plt.text((startx+endx)/2, (starty+endy)/2+0.5, r'$a$', fontsize=15, color='r')\n",
    "plt.text(startx+0.6, starty, r'$\\theta_1$', fontsize=15, color='r')\n",
    "startx, starty = (endx,endy)\n",
    "endx, endy = endpt((startx,starty),sol[0]+sol[1]-np.pi,b)\n",
    "plt.plot([startx, endx], [starty, endy], '-y')\n",
    "plt.plot([startx], [starty], 'yo')\n",
    "plt.text(startx-0.1, starty+0.6, r'$B$', fontsize=15, color='y')\n",
    "plt.text((startx+endx)/2, (starty+endy)/2+0.2, r'$b$', fontsize=15, color='y')\n",
    "plt.text(startx-0.5, starty-0.8, r'$\\theta_2$', fontsize=15, color='y')\n",
    "startx, starty = (endx,endy)\n",
    "endx, endy = endpt((startx,starty),sol[0]+sol[1]-sol[2],5)\n",
    "plt.plot([startx, endx], [starty, endy], ':g')\n",
    "plt.plot([startx, startx+5], [starty, starty], ':g')\n",
    "plt.plot([startx], [starty], 'go')\n",
    "plt.text(startx+0.8, starty+0.15, r'$\\beta$', fontsize=15, color='g')\n",
    "plt.text(startx, starty-0.5, r'$C$', fontsize=15, color='g')\n",
    "plt.plot([startx, startx], [0, starty], ':b')\n",
    "plt.text(startx, starty/2, r'$y$', fontsize=15, color='b')\n",
    "plt.plot([0, startx], [starty, starty], ':b')\n",
    "plt.text(startx/2, starty, r'$x$', fontsize=15, color='b')\n",
    "plt.text(startx-0.2, starty+0.5, r'$\\theta_3$', fontsize=15, color='g')\n",
    "plt.xlim(xmin=0)\n",
    "plt.ylim(ymin=0)\n",
    "plt.show()"
   ]
  },
  {
   "cell_type": "code",
   "execution_count": null,
   "metadata": {
    "collapsed": true
   },
   "outputs": [],
   "source": []
  }
 ],
 "metadata": {
  "kernelspec": {
   "display_name": "Python 3",
   "language": "python",
   "name": "python3"
  },
  "language_info": {
   "codemirror_mode": {
    "name": "ipython",
    "version": 3
   },
   "file_extension": ".py",
   "mimetype": "text/x-python",
   "name": "python",
   "nbconvert_exporter": "python",
   "pygments_lexer": "ipython3",
   "version": "3.6.3"
  }
 },
 "nbformat": 4,
 "nbformat_minor": 2
}
