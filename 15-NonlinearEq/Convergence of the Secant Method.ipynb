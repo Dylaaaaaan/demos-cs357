{
 "cells": [
  {
   "cell_type": "markdown",
   "metadata": {},
   "source": [
    "# Convergence of Secant Method"
   ]
  },
  {
   "cell_type": "code",
   "execution_count": 1,
   "metadata": {
    "collapsed": true
   },
   "outputs": [],
   "source": [
    "import numpy as np\n",
    "import matplotlib.pyplot as pt\n",
    "%matplotlib inline"
   ]
  },
  {
   "cell_type": "code",
   "execution_count": 2,
   "metadata": {
    "collapsed": true
   },
   "outputs": [],
   "source": [
    "def f(x):\n",
    "    return np.exp(x) - 2"
   ]
  },
  {
   "cell_type": "code",
   "execution_count": 3,
   "metadata": {},
   "outputs": [
    {
     "data": {
      "text/plain": [
       "[<matplotlib.lines.Line2D at 0x1121fbcf8>]"
      ]
     },
     "execution_count": 3,
     "metadata": {},
     "output_type": "execute_result"
    },
    {
     "data": {
      "image/png": "[encoded data removed]",
      "text/plain": [
       "<matplotlib.figure.Figure at 0x1121fbd68>"
      ]
     },
     "metadata": {},
     "output_type": "display_data"
    }
   ],
   "source": [
    "xgrid = np.linspace(-2, 3, 1000)\n",
    "pt.grid()\n",
    "pt.plot(xgrid, f(xgrid))"
   ]
  },
  {
   "cell_type": "markdown",
   "metadata": {},
   "source": [
    "What's the true solution of $f(x)=0$?"
   ]
  },
  {
   "cell_type": "code",
   "execution_count": 4,
   "metadata": {},
   "outputs": [
    {
     "name": "stdout",
     "output_type": "stream",
     "text": [
      "0.69314718056\n",
      "0.0\n"
     ]
    }
   ],
   "source": [
    "#clear\n",
    "xtrue = np.log(2)\n",
    "print(xtrue)\n",
    "print(f(xtrue))"
   ]
  },
  {
   "cell_type": "markdown",
   "metadata": {},
   "source": [
    "Now let's run Secant method and keep track of the errors:"
   ]
  },
  {
   "cell_type": "code",
   "execution_count": 12,
   "metadata": {
    "collapsed": true
   },
   "outputs": [],
   "source": [
    "x0 = 2\n",
    "x1 = 8"
   ]
  },
  {
   "cell_type": "markdown",
   "metadata": {},
   "source": [
    "At each iteration, print the current guess and the error."
   ]
  },
  {
   "cell_type": "code",
   "execution_count": 13,
   "metadata": {},
   "outputs": [
    {
     "name": "stdout",
     "output_type": "stream",
     "text": [
      "   1.98913 \t    5.30914 \t    1.29598\n",
      "   1.97839 \t    5.23112 \t    1.28525\n",
      "   1.25885 \t    1.52137 \t   0.565704\n",
      "  0.963766 \t   0.621549 \t   0.270618\n",
      "  0.759937 \t    0.13814 \t  0.0667893\n",
      "   0.70169 \t  0.0171582 \t 0.00854251\n",
      "  0.693429 \t 0.000563492 \t 0.000281706\n",
      "  0.693148 \t 2.40294e-06 \t 1.20147e-06\n",
      "  0.693147 \t 3.38445e-10 \t 1.69223e-10\n"
     ]
    }
   ],
   "source": [
    "xbefore = x0\n",
    "x = x1\n",
    "errors = []\n",
    "\n",
    "\n",
    "count = 0\n",
    "err = 1\n",
    "tol = 1e-8\n",
    "\n",
    "while count < 30 and err > tol:\n",
    "\n",
    "    slope = (f(x)-f(xbefore))/(x-xbefore)\n",
    "    xbefore = x\n",
    "    x = x - f(x)/slope\n",
    "    err = abs(x-xtrue)\n",
    "    errors.append(err)\n",
    "    print('%10g \\t %10g \\t %10g' % (x, f(x),errors[-1]))\n"
   ]
  },
  {
   "cell_type": "markdown",
   "metadata": {},
   "source": [
    "* Do you have a hypothesis about the order of convergence?"
   ]
  },
  {
   "cell_type": "markdown",
   "metadata": {},
   "source": [
    "Let's check:"
   ]
  },
  {
   "cell_type": "code",
   "execution_count": 14,
   "metadata": {},
   "outputs": [
    {
     "name": "stdout",
     "output_type": "stream",
     "text": [
      "0.844895858368\n",
      "0.376919852095\n",
      "0.680248497447\n",
      "0.553545232674\n",
      "0.681097550543\n",
      "0.625880136013\n",
      "0.666717972865\n",
      "0.641924059629\n"
     ]
    }
   ],
   "source": [
    "r = 1.618\n",
    "for i in range(len(errors)-1):\n",
    "    print(errors[i+1]/errors[i]**r)"
   ]
  },
  {
   "cell_type": "code",
   "execution_count": null,
   "metadata": {
    "collapsed": true
   },
   "outputs": [],
   "source": [
    "#1.618"
   ]
  }
 ],
 "metadata": {
  "kernelspec": {
   "display_name": "Python 3",
   "language": "python",
   "name": "python3"
  },
  "language_info": {
   "codemirror_mode": {
    "name": "ipython",
    "version": 3
   },
   "file_extension": ".py",
   "mimetype": "text/x-python",
   "name": "python",
   "nbconvert_exporter": "python",
   "pygments_lexer": "ipython3",
   "version": "3.6.3"
  }
 },
 "nbformat": 4,
 "nbformat_minor": 1
}
