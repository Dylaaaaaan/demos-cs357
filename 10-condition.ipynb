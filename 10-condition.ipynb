{
 "cells": [
  {
   "cell_type": "code",
   "execution_count": 2,
   "metadata": {
    "collapsed": true
   },
   "outputs": [],
   "source": [
    "import sys\n",
    "IN_COLAB = 'google.colab' in sys.modules\n",
    "if IN_COLAB:\n",
    "    !git clone https://github.com/cs357/demos-cs357.git\n",
    "    !mv demos-cs357/figures/ .\n",
    "    !mv demos-cs357/additional_files/ ."
   ]
  },
  {
   "cell_type": "markdown",
   "metadata": {},
   "source": [
    "# Hilbert Matrix - Condition Number"
   ]
  },
  {
   "cell_type": "code",
   "execution_count": 3,
   "metadata": {
    "collapsed": true
   },
   "outputs": [],
   "source": [
    "import numpy.linalg as la\n",
    "import numpy as np"
   ]
  },
  {
   "cell_type": "code",
   "execution_count": 4,
   "metadata": {
    "collapsed": true
   },
   "outputs": [],
   "source": [
    "ndim = np.array([2,3,8,11,14])"
   ]
  },
  {
   "cell_type": "markdown",
   "metadata": {},
   "source": [
    "Let's perform linear solves for matrices with increasing size \"n\", for a problem in which we know what the solution would be."
   ]
  },
  {
   "cell_type": "code",
   "execution_count": 5,
   "metadata": {
    "collapsed": false
   },
   "outputs": [
    {
     "name": "stdout",
     "output_type": "stream",
     "text": [
      "------ N = 2 ----------\n",
      "Norm of error =  2.22044604925e-16\n",
      "------ N = 3 ----------\n",
      "Norm of error =  3.33066907388e-16\n",
      "------ N = 8 ----------\n",
      "Norm of error =  2.572748731e-15\n",
      "------ N = 11 ----------\n",
      "Norm of error =  1.61980245676e-13\n",
      "------ N = 14 ----------\n",
      "Norm of error =  1.08728194236e-14\n"
     ]
    }
   ],
   "source": [
    "for nd in ndim:\n",
    "    ## This is the vector 'x' that we want to obtain (the exact one)\n",
    "    x = np.ones(nd)\n",
    "    ## Create a matrix with random values between 0 and 1\n",
    "    A = np.random.rand(nd,nd)\n",
    "    ## We compute the matrix-vector multiplication \n",
    "    ## to find the right-hand side b\n",
    "    b = A @ x\n",
    "    ## We now use the linear algebra pack to compute Ax = b and solve for x\n",
    "    x_solve = la.solve(A,b)\n",
    "    ## What do we expect? \n",
    "    print(\"------ N =\", nd, \"----------\")\n",
    "    error = x_solve-x\n",
    "    print(\"Norm of error = \", la.norm(error,2)) "
   ]
  },
  {
   "cell_type": "code",
   "execution_count": 6,
   "metadata": {
    "collapsed": false
   },
   "outputs": [
    {
     "name": "stdout",
     "output_type": "stream",
     "text": [
      "[ 1.  1.  1.  1.  1.  1.  1.  1.  1.  1.  1.  1.  1.  1.]\n"
     ]
    }
   ],
   "source": [
    "print(x_solve)"
   ]
  },
  {
   "cell_type": "markdown",
   "metadata": {},
   "source": [
    "Now we will perform the same computation, but for a special matrix, known as the Hilbert matrix"
   ]
  },
  {
   "cell_type": "code",
   "execution_count": 7,
   "metadata": {
    "collapsed": true
   },
   "outputs": [],
   "source": [
    "def Hilbert(n):\n",
    "    \n",
    "    H = np.zeros((n, n))    \n",
    "    for i in range(n):        \n",
    "        for j in range(n):        \n",
    "            H[i,j] = 1.0/(j+i+1)    \n",
    "    return H"
   ]
  },
  {
   "cell_type": "code",
   "execution_count": 8,
   "metadata": {
    "collapsed": false
   },
   "outputs": [
    {
     "name": "stdout",
     "output_type": "stream",
     "text": [
      "------ N = 2 ----------\n",
      "Norm of error =  8.00593208497e-16\n",
      "------ N = 3 ----------\n",
      "Norm of error =  1.38955400221e-14\n",
      "------ N = 8 ----------\n",
      "Norm of error =  3.41429843332e-07\n",
      "------ N = 11 ----------\n",
      "Norm of error =  0.0222506712836\n",
      "------ N = 14 ----------\n",
      "Norm of error =  12.2770436714\n"
     ]
    }
   ],
   "source": [
    "for nd in ndim:\n",
    "    ## This is the vector 'x' that we want to obtain (the exact one)\n",
    "    x = np.ones(nd)\n",
    "    ## Create the Hilbert matrix\n",
    "    A = Hilbert(nd)\n",
    "    ## We compute the matrix-vector multiplication \n",
    "    ## to find the right-hand side b\n",
    "    b = A @ x\n",
    "    \n",
    "    ## We now use the linear algebra pack to compute Ax = b and solve for x\n",
    "    x_solve = la.solve(A,b)\n",
    "    ## What do we expect? \n",
    "    print(\"------ N =\", nd, \"----------\")\n",
    "    error = x_solve-x\n",
    "    print(\"Norm of error = \", la.norm(error,2)) "
   ]
  },
  {
   "cell_type": "code",
   "execution_count": 9,
   "metadata": {
    "collapsed": false
   },
   "outputs": [
    {
     "name": "stdout",
     "output_type": "stream",
     "text": [
      "[ 0.99999969  1.00004352  0.99848459  1.02262988  0.82089065  1.82782225\n",
      " -1.30244543  4.6513695  -1.18856287 -1.97249209  8.56066553 -6.05079707\n",
      "  4.24057893  0.39181265]\n"
     ]
    }
   ],
   "source": [
    "print(x_solve)"
   ]
  },
  {
   "cell_type": "markdown",
   "metadata": {},
   "source": [
    "### What went wrong?"
   ]
  },
  {
   "cell_type": "markdown",
   "metadata": {},
   "source": [
    "## Condition number"
   ]
  },
  {
   "cell_type": "markdown",
   "metadata": {},
   "source": [
    "The solution to this linear system is extremely sensitive to small changes in the matrix entries and the right-hand side entries. What is the condition number of the Hilbert matrix?"
   ]
  },
  {
   "cell_type": "code",
   "execution_count": 10,
   "metadata": {
    "collapsed": false
   },
   "outputs": [
    {
     "name": "stdout",
     "output_type": "stream",
     "text": [
      "------ N = 2 ----------\n",
      "Norm of error =  8.00593208497e-16\n",
      "Condition number =  19.2814700679\n",
      "------ N = 3 ----------\n",
      "Norm of error =  1.38955400221e-14\n",
      "Condition number =  524.056777586\n",
      "------ N = 8 ----------\n",
      "Norm of error =  3.41429843332e-07\n",
      "Condition number =  15257574847.2\n",
      "------ N = 11 ----------\n",
      "Norm of error =  0.0222506712836\n",
      "Condition number =  5.2171239291e+14\n",
      "------ N = 14 ----------\n",
      "Norm of error =  12.2770436714\n",
      "Condition number =  6.98091758497e+17\n"
     ]
    }
   ],
   "source": [
    "for nd in ndim:\n",
    "    ## This is the vector 'x' that we want to obtain (the exact one)\n",
    "    x = np.ones(nd)\n",
    "    ## Create the Hilbert matrix\n",
    "    A = Hilbert(nd)\n",
    "    ## We compute the matrix-vector multiplication \n",
    "    ## to find the right-hand side b\n",
    "    b = A @ x\n",
    "    ## We now use the linear algebra pack to compute Ax = b and solve for x\n",
    "    x_solve = la.solve(A,b)\n",
    "    ## What do we expect? \n",
    "    print(\"------ N =\", nd, \"----------\")\n",
    "    error = x_solve-x\n",
    "    print(\"Norm of error = \", la.norm(error,2)) \n",
    "    print(\"Condition number = \", la.cond(A,2))"
   ]
  },
  {
   "cell_type": "markdown",
   "metadata": {
    "collapsed": true
   },
   "source": [
    "## Residual"
   ]
  },
  {
   "cell_type": "code",
   "execution_count": 11,
   "metadata": {
    "collapsed": false
   },
   "outputs": [
    {
     "name": "stdout",
     "output_type": "stream",
     "text": [
      "------ N = 2 ----------\n",
      "Error norm =  8.00593208497e-16\n",
      "Residual norm =  0.0\n",
      "Condition number =  19.2814700679\n",
      "------ N = 3 ----------\n",
      "Error norm =  1.38955400221e-14\n",
      "Residual norm =  0.0\n",
      "Condition number =  524.056777586\n",
      "------ N = 8 ----------\n",
      "Error norm =  3.41429843332e-07\n",
      "Residual norm =  5.661048867e-16\n",
      "Condition number =  15257574847.2\n",
      "------ N = 11 ----------\n",
      "Error norm =  0.0222506712836\n",
      "Residual norm =  6.37774571659e-16\n",
      "Condition number =  5.2171239291e+14\n",
      "------ N = 14 ----------\n",
      "Error norm =  12.2770436714\n",
      "Residual norm =  1.14842362651e-15\n",
      "Condition number =  6.98091758497e+17\n"
     ]
    }
   ],
   "source": [
    "for nd in ndim:\n",
    "    ## This is the vector 'x' that we want to obtain (the exact one)\n",
    "    x = np.ones(nd)\n",
    "    ## Create the Hilbert matrix\n",
    "    A = Hilbert(nd)\n",
    "    ## We compute the matrix-vector multiplication \n",
    "    ## to find the right-hand side b\n",
    "    b = A @ x\n",
    "    ## We now use the linear algebra pack to compute Ax = b and solve for x\n",
    "    x_solve = la.solve(A,b)\n",
    "    ## What do we expect? \n",
    "    print(\"------ N =\", nd, \"----------\")\n",
    "    error = x_solve-x\n",
    "    residual = A@x_solve - b\n",
    "    print(\"Error norm = \", la.norm(error,2)) \n",
    "    print(\"Residual norm = \", la.norm(residual,2)) \n",
    "    print(\"Condition number = \", la.cond(A,2))"
   ]
  },
  {
   "cell_type": "markdown",
   "metadata": {},
   "source": [
    "## Rule of thumb"
   ]
  },
  {
   "cell_type": "code",
   "execution_count": 12,
   "metadata": {
    "collapsed": false
   },
   "outputs": [
    {
     "name": "stdout",
     "output_type": "stream",
     "text": [
      "------ N = 2 ----------\n",
      "Error norm =  8.00593208497e-16\n",
      "Residual norm =  0.0\n",
      "|dx| <  2.72681164725e-15\n",
      "Condition number =  19.2814700679\n",
      "------ N = 3 ----------\n",
      "Error norm =  1.38955400221e-14\n",
      "Residual norm =  0.0\n",
      "|dx| <  9.0769296483e-14\n",
      "Condition number =  524.056777586\n",
      "------ N = 8 ----------\n",
      "Error norm =  3.41429843332e-07\n",
      "Residual norm =  5.661048867e-16\n",
      "|dx| <  4.31549385556e-06\n",
      "Condition number =  15257574847.2\n",
      "------ N = 11 ----------\n",
      "Error norm =  0.0222506712836\n",
      "Residual norm =  6.37774571659e-16\n",
      "|dx| <  0.173032425576\n",
      "Condition number =  5.2171239291e+14\n",
      "------ N = 14 ----------\n",
      "Error norm =  12.2770436714\n",
      "Residual norm =  1.14842362651e-15\n",
      "|dx| <  261.202018483\n",
      "Condition number =  6.98091758497e+17\n"
     ]
    }
   ],
   "source": [
    "for nd in ndim:\n",
    "    ## This is the vector 'x' that we want to obtain (the exact one)\n",
    "    x = np.ones(nd)\n",
    "    ## Create the Hilbert matrix\n",
    "    A = Hilbert(nd)\n",
    "    ## We compute the matrix-vector multiplication \n",
    "    ## to find the right-hand side b\n",
    "    b = A @ x\n",
    "    ## We now use the linear algebra pack to compute Ax = b and solve for x\n",
    "    x_solve = la.solve(A,b)\n",
    "    ## What do we expect? \n",
    "    print(\"------ N =\", nd, \"----------\")\n",
    "    error = x_solve-x\n",
    "    residual = A@x_solve - b\n",
    "    print(\"Error norm = \", la.norm(error,2)) \n",
    "    print(\"Residual norm = \", la.norm(residual,2)) \n",
    "    print(\"|dx| < \", la.norm(x)*la.cond(A,2)*10**(-16))\n",
    "    print(\"Condition number = \", la.cond(A,2))"
   ]
  },
  {
   "cell_type": "markdown",
   "metadata": {},
   "source": [
    "# Rule of Thumb on Conditioning"
   ]
  },
  {
   "cell_type": "code",
   "execution_count": 13,
   "metadata": {
    "collapsed": true
   },
   "outputs": [],
   "source": [
    "import numpy as np\n",
    "import numpy.linalg as la\n",
    "import matplotlib.pyplot as plt\n",
    "\n",
    "# print(plt.style.available) # uncomment to print all styles\n",
    "import seaborn as sns\n",
    "sns.set(font_scale=2)\n",
    "plt.style.use('seaborn-whitegrid')\n",
    "plt.rcParams['figure.figsize'] = (8,6.0)\n",
    "%matplotlib inline"
   ]
  },
  {
   "cell_type": "markdown",
   "metadata": {},
   "source": [
    "### Let's make a matrix\n",
    "\n",
    "Make the second column nearly linearly indepent to the first"
   ]
  },
  {
   "cell_type": "code",
   "execution_count": 14,
   "metadata": {
    "collapsed": false
   },
   "outputs": [
    {
     "name": "stdout",
     "output_type": "stream",
     "text": [
      "cond = 1.04614e+17\n"
     ]
    }
   ],
   "source": [
    "n = 10\n",
    "A = np.random.rand(n,n)\n",
    "\n",
    "delta = 1e-16\n",
    "\n",
    "A[:,1] = A[:,0] + delta*A[:,1]\n",
    "print(\"cond = %g\" % np.linalg.cond(A))"
   ]
  },
  {
   "cell_type": "markdown",
   "metadata": {},
   "source": [
    "### Make a problem we know the answer to:\n",
    "\n",
    "Let $x={\\bf 1}$, then $x$ solves the problem\n",
    "$$\n",
    "A x = b\n",
    "$$\n",
    "where $b = A {\\bf 1}$."
   ]
  },
  {
   "cell_type": "code",
   "execution_count": 17,
   "metadata": {
    "collapsed": false
   },
   "outputs": [],
   "source": [
    "# This is the exact solution\n",
    "xexact = np.ones((n,))\n",
    "b = A.dot(xexact)"
   ]
  },
  {
   "cell_type": "code",
   "execution_count": 18,
   "metadata": {
    "collapsed": true
   },
   "outputs": [],
   "source": [
    "# This is the approximated solution\n",
    "xnum = np.linalg.solve(A, b)"
   ]
  },
  {
   "cell_type": "markdown",
   "metadata": {},
   "source": [
    "Since we are solving with LU with partial pivoting, the residual should be small!"
   ]
  },
  {
   "cell_type": "markdown",
   "metadata": {},
   "source": [
    "### Residual Versus Error\n",
    "$$\n",
    "r = b - A x\n",
    "$$\n",
    "whereas\n",
    "$$\n",
    "e = x_{exact} - x\n",
    "$$"
   ]
  },
  {
   "cell_type": "code",
   "execution_count": 19,
   "metadata": {
    "collapsed": false
   },
   "outputs": [
    {
     "data": {
      "text/plain": [
       "array([ 1.,  1.,  1.,  1.,  1.,  1.,  1.,  1.,  1.,  1.])"
      ]
     },
     "execution_count": 19,
     "metadata": {},
     "output_type": "execute_result"
    }
   ],
   "source": [
    "xexact"
   ]
  },
  {
   "cell_type": "code",
   "execution_count": 20,
   "metadata": {
    "collapsed": false
   },
   "outputs": [
    {
     "data": {
      "text/plain": [
       "array([ 7.55215055, -5.55215055,  1.        ,  1.        ,  1.        ,\n",
       "        1.        ,  1.        ,  1.        ,  1.        ,  1.        ])"
      ]
     },
     "execution_count": 20,
     "metadata": {},
     "output_type": "execute_result"
    }
   ],
   "source": [
    "xnum"
   ]
  },
  {
   "cell_type": "code",
   "execution_count": 21,
   "metadata": {
    "collapsed": true
   },
   "outputs": [],
   "source": [
    "r = b - A@xnum\n",
    "e = xexact - xnum"
   ]
  },
  {
   "cell_type": "code",
   "execution_count": 22,
   "metadata": {
    "collapsed": false
   },
   "outputs": [
    {
     "name": "stdout",
     "output_type": "stream",
     "text": [
      "norm of residual =  2.03507241945e-15\n",
      "norm of the error =  9.26614016696\n"
     ]
    }
   ],
   "source": [
    "print(\"norm of residual = \", la.norm(r))\n",
    "print(\"norm of the error = \", la.norm(e))"
   ]
  },
  {
   "cell_type": "markdown",
   "metadata": {},
   "source": [
    "The condition number of A is high (ill-conditioned problem), and hence the error bound is also high."
   ]
  }
 ],
 "metadata": {
  "kernelspec": {
   "display_name": "Python 3",
   "language": "python",
   "name": "python3"
  },
  "language_info": {
   "codemirror_mode": {
    "name": "ipython",
    "version": 3
   },
   "file_extension": ".py",
   "mimetype": "text/x-python",
   "name": "python",
   "nbconvert_exporter": "python",
   "pygments_lexer": "ipython3",
   "version": "3.6.0"
  }
 },
 "nbformat": 4,
 "nbformat_minor": 1
}
