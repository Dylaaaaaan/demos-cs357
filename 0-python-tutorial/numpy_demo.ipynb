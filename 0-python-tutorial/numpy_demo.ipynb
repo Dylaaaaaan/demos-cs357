{
  "cells": [
    {
      "cell_type": "markdown",
      "metadata": {},
      "source": [
        "# Numpy Demo\n",
        "We'll go through some examples here.  There are also plenty of other guides online:\n",
        "* [Numpy quickstart tutorial](https://docs.scipy.org/doc/numpy/user/quickstart.html)\n",
        "* [Numpy for MATLAB users](https://docs.scipy.org/doc/numpy/user/numpy-for-matlab-users.html) -- great reference if you already know MATLAB\n",
        "* [100 Numpy Exercises](https://github.com/rougier/numpy-100/blob/master/100_Numpy_exercises.md)\n",
        "* [101 Numpy Exercises for Data Analysis](https://www.machinelearningplus.com/python/101-numpy-exercises-python/)\n",
        "* [Numpy Exercises, Practice, Solution](https://www.w3resource.com/python-exercises/numpy/index.php)\n",
        "\n",
        "To start working with any package, need to import it."
      ]
    },
    {
      "cell_type": "code",
      "execution_count": null,
      "metadata": {},
      "outputs": [],
      "source": [
        "import numpy as np"
      ]
    },
    {
      "cell_type": "markdown",
      "metadata": {},
      "source": [
        "# Motivation\n",
        "Arrays are faster and more efficient than lists when working with numerical data."
      ]
    },
    {
      "cell_type": "markdown",
      "metadata": {},
      "source": [
        "## Matrix Multiplication - Pure Python"
      ]
    },
    {
      "cell_type": "code",
      "execution_count": null,
      "metadata": {},
      "outputs": [],
      "source": [
        "import random\n",
        "import time\n",
        "\n",
        "start = time.time()\n",
        "\n",
        "n = 100\n",
        "\n",
        "A = []\n",
        "for i in range(n):\n",
        "    row = []\n",
        "    for j in range(n):\n",
        "        row.append(random.random())\n",
        "    A.append(row)\n",
        "    \n",
        "B = []\n",
        "for i in range(n):\n",
        "    row = []\n",
        "    for j in range(n):\n",
        "        row.append(random.random())\n",
        "    B.append(row)\n",
        "    \n",
        "C = []\n",
        "for i in range(n):\n",
        "    row = []\n",
        "    for j in range(n):\n",
        "        sum = 0\n",
        "        for k in range(n):\n",
        "            sum += A[i][k] * B[k][j]\n",
        "        row.append(sum)\n",
        "    C.append(row)\n",
        "    \n",
        "stop = time.time()\n",
        "print(stop - start)"
      ]
    },
    {
      "cell_type": "markdown",
      "metadata": {},
      "source": [
        "## Matrix Multiplication - Numpy"
      ]
    },
    {
      "cell_type": "code",
      "execution_count": null,
      "metadata": {},
      "outputs": [],
      "source": [
        "start = time.time()\n",
        "\n",
        "n = 100\n",
        "\n",
        "A = np.random.random((n, n))\n",
        "B = np.random.random((n, n))\n",
        "C = A @ B\n",
        "\n",
        "stop = time.time()\n",
        "print(stop - start)"
      ]
    },
    {
      "cell_type": "markdown",
      "metadata": {},
      "source": [
        "# Creating Arrays\n",
        "Numerous ways of creating arrays available."
      ]
    },
    {
      "cell_type": "markdown",
      "metadata": {},
      "source": [
        "* Creating arrays from a list"
      ]
    },
    {
      "cell_type": "code",
      "execution_count": null,
      "metadata": {},
      "outputs": [],
      "source": [
        "vals_list = [1, 3, 2, 8]\n",
        "vals_array = np.array(vals_list)\n",
        "\n",
        "print(\"vals_list: \", vals_list)\n",
        "print(\"vals_array: \", vals_array)"
      ]
    },
    {
      "cell_type": "code",
      "execution_count": null,
      "metadata": {},
      "outputs": [],
      "source": [
        "# don't need to create separate variable\n",
        "vals_array = np.array([1,3,2,8])\n",
        "print(vals_array)"
      ]
    },
    {
      "cell_type": "markdown",
      "metadata": {},
      "source": [
        "You can also change it back to a list:"
      ]
    },
    {
      "cell_type": "code",
      "execution_count": null,
      "metadata": {},
      "outputs": [],
      "source": [
        "print(vals_array.tolist())"
      ]
    },
    {
      "cell_type": "markdown",
      "metadata": {},
      "source": [
        "* Creating arrays using built-in functions\n",
        "    * [np.arange()](http://docs.scipy.org/doc/numpy-1.10.1/reference/generated/numpy.arange.html)\n",
        "    * [np.linspace()](http://docs.scipy.org/doc/numpy-1.10.0/reference/generated/numpy.linspace.html)\n",
        "    * How do we know how to call them?\n",
        "        * See documentation\n",
        "        * Jupyter help"
      ]
    },
    {
      "cell_type": "markdown",
      "metadata": {},
      "source": [
        "## Jupyter help - Two different ways"
      ]
    },
    {
      "cell_type": "code",
      "execution_count": null,
      "metadata": {},
      "outputs": [],
      "source": [
        "help(np.arange)"
      ]
    },
    {
      "cell_type": "code",
      "execution_count": null,
      "metadata": {},
      "outputs": [],
      "source": [
        "np.arange?"
      ]
    },
    {
      "cell_type": "markdown",
      "metadata": {},
      "source": [
        "## np.arange"
      ]
    },
    {
      "cell_type": "code",
      "execution_count": null,
      "metadata": {},
      "outputs": [],
      "source": [
        "# create array with integers 0,1,...,9\n",
        "start = 0\n",
        "end = 10 # needs to be 1 more than 9!\n",
        "print(np.arange(start,end))"
      ]
    },
    {
      "cell_type": "code",
      "execution_count": null,
      "metadata": {},
      "outputs": [],
      "source": [
        "# can omit start if you want arange to start at 0\n",
        "end = 12\n",
        "print(np.arange(end))"
      ]
    },
    {
      "cell_type": "code",
      "execution_count": null,
      "metadata": {},
      "outputs": [],
      "source": [
        "# can take bigger step sizes than 1\n",
        "# create array with integers 5, 9, 13, 17\n",
        "start = 5\n",
        "end = 21  # this is 17 + 4\n",
        "step = 4\n",
        "print(np.arange(start,end,step))"
      ]
    },
    {
      "cell_type": "code",
      "execution_count": null,
      "metadata": {},
      "outputs": [],
      "source": [
        "# don't need to go all the way to 21, 18 would be fine\n",
        "start = 5\n",
        "end = 18\n",
        "step = 4\n",
        "print(np.arange(start,end,step))"
      ]
    },
    {
      "cell_type": "markdown",
      "metadata": {},
      "source": [
        "## np.linspace"
      ]
    },
    {
      "cell_type": "code",
      "execution_count": null,
      "metadata": {},
      "outputs": [],
      "source": [
        "start = 0\n",
        "end = 1\n",
        "num_points = 11\n",
        "print(np.linspace(start,end,num_points))\n",
        "print()\n",
        "print(np.linspace(0,28,12))"
      ]
    },
    {
      "cell_type": "markdown",
      "metadata": {},
      "source": [
        "## Initialize arrays with different values"
      ]
    },
    {
      "cell_type": "code",
      "execution_count": null,
      "metadata": {},
      "outputs": [],
      "source": [
        "print(np.zeros(5))\n",
        "print()\n",
        "print(np.ones(7))\n",
        "print()\n",
        "print(np.empty(3))"
      ]
    },
    {
      "cell_type": "markdown",
      "metadata": {},
      "source": [
        "## Higher dimensional arrays"
      ]
    },
    {
      "cell_type": "markdown",
      "metadata": {},
      "source": [
        "Make a $5\\times 5$ matrix of all zeros:"
      ]
    },
    {
      "cell_type": "code",
      "execution_count": null,
      "metadata": {},
      "outputs": [],
      "source": [
        "dim = (5,5) # must be a tuple!\n",
        "print(np.zeros(dim))\n",
        "print()\n",
        "print(np.zeros((5,5)))"
      ]
    },
    {
      "cell_type": "markdown",
      "metadata": {},
      "source": [
        "Make a 3D array of shape $4\\times 3 \\times 2$ with all ones:"
      ]
    },
    {
      "cell_type": "code",
      "execution_count": null,
      "metadata": {},
      "outputs": [],
      "source": [
        "dim = (4,3,2)\n",
        "print(np.zeros(dim))"
      ]
    },
    {
      "cell_type": "markdown",
      "metadata": {},
      "source": [
        "Also works with `np.empty`..."
      ]
    },
    {
      "cell_type": "markdown",
      "metadata": {},
      "source": [
        "# Data Types\n",
        "As we saw, Python is dynamically typed.  Types are changed automatically as needed.  And, lists can hold anything.  A single list could hold strings and integers.\n",
        "\n",
        "What about arrays?\n",
        "Numpy arrays are statically typed.\n",
        "\n",
        "So, what are the data types of the arrays we created above?  What are the available datatypes?  How do we specify what datatype we want? "
      ]
    },
    {
      "cell_type": "code",
      "execution_count": null,
      "metadata": {},
      "outputs": [],
      "source": [
        "vals_list = [1,3,2,8]\n",
        "vals_array = np.array(vals_list)\n",
        "vals_arrayf = np.array(vals_list, dtype=np.float64)\n",
        "\n",
        "print(\"vals_array: \", vals_array)\n",
        "print(\"vals_arrayf: \", vals_arrayf)\n",
        "\n",
        "print(type(vals_list))\n",
        "print(type(vals_array))\n",
        "print(type(vals_arrayf))"
      ]
    },
    {
      "cell_type": "markdown",
      "metadata": {},
      "source": [
        "The `dtype` argument is valid for most array-creation functions, including\n",
        "`numpy.zeros`, `np.ones`, and `np.arange`."
      ]
    },
    {
      "cell_type": "markdown",
      "metadata": {},
      "source": [
        "In Python3, the `dtype` of an array that results from mathematical operations will\n",
        "automatically adjust to whatever is sensible."
      ]
    },
    {
      "cell_type": "code",
      "execution_count": null,
      "metadata": {},
      "outputs": [],
      "source": [
        "print('integers: ', vals_array)\n",
        "print('more integers: ', vals_array * 3)\n",
        "print('floats: ', vals_array / 3)"
      ]
    },
    {
      "cell_type": "markdown",
      "metadata": {},
      "source": [
        "You can also copy an array and change the `dtype`."
      ]
    },
    {
      "cell_type": "code",
      "execution_count": null,
      "metadata": {},
      "outputs": [],
      "source": [
        "arr = np.arange(10.0) # not an integer!\n",
        "x = arr.astype(int)\n",
        "print('arr: ', arr)\n",
        "print('x: ', x)"
      ]
    },
    {
      "cell_type": "markdown",
      "metadata": {},
      "source": [
        "# Accessing Array Elements\n",
        "Now that we actually have arrays, how do we get things from them?\n",
        "Indexed from 0, bracket notation for accessing"
      ]
    },
    {
      "cell_type": "code",
      "execution_count": null,
      "metadata": {},
      "outputs": [],
      "source": [
        "vals_arrayf = np.array([1, 3, 2, 8, 24, 0, -1, 12])"
      ]
    },
    {
      "cell_type": "code",
      "execution_count": null,
      "metadata": {},
      "outputs": [],
      "source": [
        "print(vals_arrayf)\n",
        "print()\n",
        "print(vals_arrayf[0]) # this selects 0th element\n",
        "print(vals_arrayf[3])"
      ]
    },
    {
      "cell_type": "markdown",
      "metadata": {},
      "source": [
        "Negative accessing is also allowed."
      ]
    },
    {
      "cell_type": "code",
      "execution_count": null,
      "metadata": {},
      "outputs": [],
      "source": [
        "print(vals_arrayf)\n",
        "\n",
        "print(vals_arrayf[-1])\n",
        "print(vals_arrayf[-3])"
      ]
    },
    {
      "cell_type": "markdown",
      "metadata": {},
      "source": [
        "What if I want a section of an array?  **Array slicing**."
      ]
    },
    {
      "cell_type": "code",
      "execution_count": null,
      "metadata": {},
      "outputs": [],
      "source": [
        "start_index = 1\n",
        "end_index = 4  # will stop BEFORE this index - think about np.arange\n",
        "print(vals_arrayf)\n",
        "print()\n",
        "print(vals_arrayf[start_index:end_index])\n",
        "print(vals_arrayf[1:2])"
      ]
    },
    {
      "cell_type": "code",
      "execution_count": null,
      "metadata": {},
      "outputs": [],
      "source": [
        "print(vals_arrayf)\n",
        "print()\n",
        "print(vals_arrayf[1:1]) # this will get you all elements strictly between 1 and 1... there aren't any!"
      ]
    },
    {
      "cell_type": "code",
      "execution_count": null,
      "metadata": {},
      "outputs": [],
      "source": [
        "start = 2\n",
        "end = 37 # going too far is fine\n",
        "print(vals_arrayf)\n",
        "print()\n",
        "print(vals_arrayf[start:end])"
      ]
    },
    {
      "cell_type": "markdown",
      "metadata": {},
      "source": [
        "If you start at the beginning, no need to put in 0:"
      ]
    },
    {
      "cell_type": "code",
      "execution_count": null,
      "metadata": {},
      "outputs": [],
      "source": [
        "print(vals_arrayf[0:3])\n",
        "print(vals_arrayf[:3])"
      ]
    },
    {
      "cell_type": "markdown",
      "metadata": {},
      "source": [
        "Similar if you want to end at the last element:"
      ]
    },
    {
      "cell_type": "code",
      "execution_count": null,
      "metadata": {},
      "outputs": [],
      "source": [
        "print(vals_arrayf[1:8])\n",
        "print(vals_arrayf[1:])"
      ]
    },
    {
      "cell_type": "markdown",
      "metadata": {},
      "source": [
        "You can use negative indices too!"
      ]
    },
    {
      "cell_type": "code",
      "execution_count": null,
      "metadata": {},
      "outputs": [],
      "source": [
        "print(vals_arrayf)\n",
        "print()\n",
        "print(vals_arrayf[2:-1])\n",
        "print()\n",
        "print(vals_arrayf[:-2])"
      ]
    },
    {
      "cell_type": "markdown",
      "metadata": {},
      "source": [
        "In addition to a start and end, you can also choose a step for the slice."
      ]
    },
    {
      "cell_type": "code",
      "execution_count": null,
      "metadata": {},
      "outputs": [],
      "source": [
        "start = 0\n",
        "end = 6\n",
        "step = 2\n",
        "print(vals_arrayf)\n",
        "print()\n",
        "print(vals_arrayf[start:end:step])"
      ]
    },
    {
      "cell_type": "markdown",
      "metadata": {},
      "source": [
        "These next two calls do the same thing:"
      ]
    },
    {
      "cell_type": "code",
      "execution_count": null,
      "metadata": {},
      "outputs": [],
      "source": [
        "print(vals_arrayf[0:8:2])\n",
        "print(vals_arrayf[::2])"
      ]
    },
    {
      "cell_type": "markdown",
      "metadata": {},
      "source": [
        "What are these next two examples doing?"
      ]
    },
    {
      "cell_type": "code",
      "execution_count": null,
      "metadata": {},
      "outputs": [],
      "source": [
        "print(vals_arrayf)\n",
        "print()\n",
        "print(vals_arrayf[1::2])\n",
        "print(vals_arrayf[::-1])"
      ]
    },
    {
      "cell_type": "markdown",
      "metadata": {},
      "source": [
        "# Copies vs. Views (Accidentally changing your array)"
      ]
    },
    {
      "cell_type": "markdown",
      "metadata": {},
      "source": [
        "You need to be careful with `numpy` arrays if you are\n",
        "* trying to copy part of an array, or\n",
        "* passing an array to a function\n",
        "\n",
        "You might be in for a nasty surprise if you change an element."
      ]
    },
    {
      "cell_type": "code",
      "execution_count": null,
      "metadata": {},
      "outputs": [],
      "source": [
        "simple = np.arange(5)\n",
        "small = simple[:2]\n",
        "print(simple)\n",
        "print('')\n",
        "print(small)\n",
        "print('')\n",
        "\n",
        "small[0] = 7\n",
        "print(small)\n",
        "print('')\n",
        "print(simple)  # shouldn't have changed, right?"
      ]
    },
    {
      "cell_type": "markdown",
      "metadata": {},
      "source": [
        "This happens because `small` is something called a \"view\" of\n",
        "`simple`, rather than a copy. This helps `numpy` save memory and\n",
        "speed up your program, but it can lead to tricky bugs if it\n",
        "is not your intent. In general, it can be difficult to tell\n",
        "whether something will be a view or a copy.\n",
        "\n",
        "Functions also do not make copies of their input arrays."
      ]
    },
    {
      "cell_type": "code",
      "execution_count": null,
      "metadata": {},
      "outputs": [],
      "source": [
        "def foo(x):  # notice that x is not returned\n",
        "    x[0] = 100\n",
        "\n",
        "\n",
        "foo(simple)\n",
        "print(simple)"
      ]
    },
    {
      "cell_type": "markdown",
      "metadata": {},
      "source": [
        "If you think you are accidentally changing your array elsewhere in your code,\n",
        "you can copy it to be on the safe side. This slow your program down\n",
        "and use more memory, but it can help debugging and save a lot of headaches."
      ]
    },
    {
      "cell_type": "code",
      "execution_count": null,
      "metadata": {},
      "outputs": [],
      "source": [
        "simple = np.arange(5)\n",
        "print('before:')\n",
        "print(simple)\n",
        "\n",
        "my_copy = simple[:2].copy()\n",
        "my_copy[1] = 10\n",
        "\n",
        "foo(simple.copy())\n",
        "\n",
        "print('after:')\n",
        "print(simple)"
      ]
    },
    {
      "cell_type": "markdown",
      "metadata": {},
      "source": [
        "# Multi-dimensional Arrays"
      ]
    },
    {
      "cell_type": "markdown",
      "metadata": {},
      "source": [
        "*Note:* There is a `numpy.matrix` class, but you should **avoid** using it.\n",
        "Use two-dimensional arrays instead."
      ]
    },
    {
      "cell_type": "markdown",
      "metadata": {},
      "source": [
        "How do we create multi-dimensional arrays?"
      ]
    },
    {
      "cell_type": "code",
      "execution_count": null,
      "metadata": {},
      "outputs": [],
      "source": [
        "# Creating from multi-dimensional lists\n",
        "mat = np.array([[1,4,8],[3,2,9],[0,5,7]], float)\n",
        "print(mat)\n",
        "print('')"
      ]
    },
    {
      "cell_type": "markdown",
      "metadata": {},
      "source": [
        "Exercise: Define the following matrix\n",
        "\\begin{bmatrix}\n",
        "4 & 2.2 & 9 & 0 & 0.5\\\\\n",
        "0 & 0   & -1 & 1 & 1\\\\\n",
        "3 & -1 & 2 & 0 & 100\n",
        "\\end{bmatrix}"
      ]
    },
    {
      "cell_type": "code",
      "execution_count": null,
      "metadata": {},
      "outputs": [],
      "source": []
    },
    {
      "cell_type": "code",
      "execution_count": null,
      "metadata": {},
      "outputs": [],
      "source": [
        "# Creating special matrices\n",
        "print(np.zeros((2,3), dtype=float)) # you already saw this...but this time we're specifying the type\n",
        "print('')\n",
        "print(np.zeros_like(mat))\n",
        "print('')\n",
        "# np.zeros_like creates a matrixsame shape, dimension, datatype as existing matrix\n",
        "print(np.identity(3, dtype=float))"
      ]
    },
    {
      "cell_type": "markdown",
      "metadata": {},
      "source": [
        "How do we access multi-dimensional arrays?"
      ]
    },
    {
      "cell_type": "code",
      "execution_count": null,
      "metadata": {},
      "outputs": [],
      "source": [
        "print(mat)\n",
        "print(mat[1,2])"
      ]
    },
    {
      "cell_type": "code",
      "execution_count": null,
      "metadata": {},
      "outputs": [],
      "source": [
        "print(mat[0,0], mat[1,1], mat[2,2])"
      ]
    },
    {
      "cell_type": "markdown",
      "metadata": {},
      "source": [
        "What is happening here?"
      ]
    },
    {
      "cell_type": "code",
      "execution_count": null,
      "metadata": {},
      "outputs": [],
      "source": [
        "print(mat)\n",
        "print()\n",
        "print(mat[2])"
      ]
    },
    {
      "cell_type": "markdown",
      "metadata": {},
      "source": [
        "Can do the same thing with array slicing:"
      ]
    },
    {
      "cell_type": "code",
      "execution_count": null,
      "metadata": {},
      "outputs": [],
      "source": [
        "print(mat[2,:])"
      ]
    },
    {
      "cell_type": "markdown",
      "metadata": {},
      "source": [
        "What's happening here?"
      ]
    },
    {
      "cell_type": "code",
      "execution_count": null,
      "metadata": {},
      "outputs": [],
      "source": [
        "print(mat[:,1])\n",
        "print()\n",
        "# force it to be a column vector...\n",
        "print(mat[:,1:2])\n",
        "print()\n",
        "print(mat[:,[1]])"
      ]
    },
    {
      "cell_type": "markdown",
      "metadata": {},
      "source": [
        "What about this?"
      ]
    },
    {
      "cell_type": "code",
      "execution_count": null,
      "metadata": {},
      "outputs": [],
      "source": [
        "print(mat[:,:2])"
      ]
    },
    {
      "cell_type": "markdown",
      "metadata": {},
      "source": [
        "## Exercise: Create a 2D array with 1 on the border and 0 inside\n",
        "For example,\n",
        "\n",
        "\n",
        "$\\begin{bmatrix} 1 & 1 & 1 & 1 & 1\\\\\n",
        "1 & 0 & 0 & 0 & 1\\\\\n",
        "1 & 0 & 0 & 0 & 1\\\\\n",
        "1 & 0 & 0 & 0 & 1\\\\\n",
        "1 & 1 & 1 & 1 & 1\n",
        "\\end{bmatrix}$"
      ]
    },
    {
      "cell_type": "code",
      "execution_count": null,
      "metadata": {},
      "outputs": [],
      "source": [
        "# you can do this with np.ones or np.zeros and slicing\n",
        "N = 8  # make a matrix of size NxN"
      ]
    },
    {
      "cell_type": "markdown",
      "metadata": {},
      "source": [
        "What if we want an array of a different shape?\n",
        "This can be a convenient way of initializing matrices."
      ]
    },
    {
      "cell_type": "code",
      "execution_count": null,
      "metadata": {},
      "outputs": [],
      "source": [
        "arr = np.arange(8)\n",
        "two_four = arr.reshape(2, 4)\n",
        "four_two = arr.reshape(4, 2)\n",
        "eight_none = four_two.flatten()\n",
        "print('array:')\n",
        "print(arr.shape)\n",
        "print('')\n",
        "print('2 x 4:')\n",
        "print(two_four)\n",
        "print('')\n",
        "print('4 x 2:')\n",
        "print(four_two)\n",
        "print('')\n",
        "print('back to array:')\n",
        "print(eight_none)\n",
        "print(eight_none.shape)"
      ]
    },
    {
      "cell_type": "markdown",
      "metadata": {},
      "source": [
        "# Array functions\n",
        "We'll go through some array functions here.  There are plenty more available.  Best way to find the function you want is to search on Google for what you want and find the documentation for it (there is probably a function that does what you want to do)."
      ]
    },
    {
      "cell_type": "code",
      "execution_count": null,
      "metadata": {},
      "outputs": [],
      "source": [
        "new_mat = mat[:,:2]\n",
        "print(new_mat)"
      ]
    },
    {
      "cell_type": "markdown",
      "metadata": {},
      "source": [
        "Shape of an array"
      ]
    },
    {
      "cell_type": "code",
      "execution_count": null,
      "metadata": {},
      "outputs": [],
      "source": [
        "print(new_mat.shape) # not actually a function, but an \"attribute\""
      ]
    },
    {
      "cell_type": "markdown",
      "metadata": {},
      "source": [
        "What about sorting an array?\n",
        "Two different methods, \n",
        "[np.sort()](http://docs.scipy.org/doc/numpy-1.10.1/reference/generated/numpy.sort.html) or \n",
        "[myarray.sort()](http://docs.scipy.org/doc/numpy-1.10.0/reference/generated/numpy.ndarray.sort.html).\n",
        "One is a numpy function (called as np.sort()) and returns a copy of the array in sorted order.\n",
        "The other one is a function of the array and sorts the array in place.\n",
        "\n",
        "**Important point:**\n",
        "* Some functions operate in place, others return copies.\n",
        "* How do you know which you are using?  Look at the documentation."
      ]
    },
    {
      "cell_type": "code",
      "execution_count": null,
      "metadata": {},
      "outputs": [],
      "source": [
        "# Sort array\n",
        "vals_arrayf = np.array([1, 3, 2, 8, 24, 0, -1, 12])\n",
        "\n",
        "print(np.sort(vals_arrayf)) # returns a copy\n",
        "print(vals_arrayf)\n",
        "vals_arrayf.sort() # inplace\n",
        "print(vals_arrayf)"
      ]
    },
    {
      "cell_type": "code",
      "execution_count": null,
      "metadata": {},
      "outputs": [],
      "source": [
        "# Checking if items are in an array\n",
        "print(9 in mat)\n",
        "print(9 in vals_arrayf)"
      ]
    },
    {
      "cell_type": "markdown",
      "metadata": {},
      "source": [
        "Lots of elementwise operations happen automatically with arrays. These include:\n",
        "* addition\n",
        "* subtraction\n",
        "* multiplication\n",
        "* division\n",
        "* comparisons"
      ]
    },
    {
      "cell_type": "code",
      "execution_count": null,
      "metadata": {},
      "outputs": [],
      "source": [
        "mat_2 = np.array([[1,3],[2,5]], float)\n",
        "id_2 = np.identity(2, float)\n",
        "\n",
        "print(mat_2)\n",
        "print('')\n",
        "print(id_2)\n",
        "print('')\n",
        "print('sum:')\n",
        "print(mat_2 + id_2)\n",
        "print('')\n",
        "print('difference:')\n",
        "print(mat_2 - id_2)\n",
        "print('')\n",
        "print('product:')\n",
        "print(mat_2 * id_2)  # NOT matrix multiplication\n",
        "print('')\n",
        "print('quotient:')\n",
        "print(id_2 / mat_2)\n",
        "print('power:')\n",
        "print(mat_2**3)"
      ]
    },
    {
      "cell_type": "markdown",
      "metadata": {},
      "source": [
        "Can compare values too!"
      ]
    },
    {
      "cell_type": "code",
      "execution_count": null,
      "metadata": {},
      "outputs": [],
      "source": [
        "print(mat_2 == id_2)\n",
        "print(' ')\n",
        "print(mat_2 > id_2)"
      ]
    },
    {
      "cell_type": "code",
      "execution_count": null,
      "metadata": {},
      "outputs": [],
      "source": [
        "# Other Functions\n",
        "print(np.exp(id_2))\n",
        "print()\n",
        "print(np.abs(vals_arrayf))\n",
        "print()\n",
        "print(np.log2(mat_2))\n",
        "print()\n",
        "print(np.reciprocal(mat_2))"
      ]
    },
    {
      "cell_type": "code",
      "execution_count": null,
      "metadata": {},
      "outputs": [],
      "source": [
        "# Trig Functions\n",
        "print(np.sin(mat_2))\n",
        "print(np.tan(id_2))"
      ]
    },
    {
      "cell_type": "code",
      "execution_count": null,
      "metadata": {},
      "outputs": [],
      "source": [
        "# Rounding\n",
        "print(np.round(np.sin(mat_2), 2))"
      ]
    },
    {
      "cell_type": "markdown",
      "metadata": {},
      "source": [
        "Can also perform operations between arrays and numbers:"
      ]
    },
    {
      "cell_type": "code",
      "execution_count": null,
      "metadata": {},
      "outputs": [],
      "source": [
        "print(mat_2)\n",
        "print()\n",
        "print(mat_2 - 3) # subtract 3 from every element\n",
        "print()\n",
        "print(mat_2*8) # multiply every element by 8"
      ]
    },
    {
      "cell_type": "markdown",
      "metadata": {},
      "source": [
        "# Exercise: \n",
        "Given a numpy array $x$, compute an array that applies the following function to $x$:\n",
        "\n",
        "$\\begin{equation}\n",
        "e^{-|x|^3} + \\sin(5x) + \\cos(x + 3)\n",
        "\\end{equation}$"
      ]
    },
    {
      "cell_type": "code",
      "execution_count": null,
      "metadata": {},
      "outputs": [],
      "source": [
        "x = np.linspace(-1,1,30)\n",
        "..."
      ]
    },
    {
      "cell_type": "markdown",
      "metadata": {},
      "source": [
        "Recall comparing arrays:"
      ]
    },
    {
      "cell_type": "code",
      "execution_count": null,
      "metadata": {},
      "outputs": [],
      "source": [
        "print(mat_2)\n",
        "print(id_2)\n",
        "print()\n",
        "print(mat_2 == id_2)\n",
        "print(' ')\n",
        "print(mat_2 > id_2)"
      ]
    },
    {
      "cell_type": "markdown",
      "metadata": {},
      "source": [
        "Can compare arrays and actually use the resulting boolean array to manipulate the entries of another array"
      ]
    },
    {
      "cell_type": "code",
      "execution_count": null,
      "metadata": {},
      "outputs": [],
      "source": [
        "z = mat_2 > id_2\n",
        "print(z)\n",
        "print()\n",
        "print(mat_2)\n",
        "print()\n",
        "print(mat_2 * z)"
      ]
    },
    {
      "cell_type": "markdown",
      "metadata": {},
      "source": [
        "This might help you understand what happened:"
      ]
    },
    {
      "cell_type": "code",
      "execution_count": null,
      "metadata": {},
      "outputs": [],
      "source": [
        "print(z*1)"
      ]
    },
    {
      "cell_type": "markdown",
      "metadata": {},
      "source": [
        "# Exercise:  \n",
        "The Rectified Linear Unit (ReLU) is a function that is frequently used in machine learning, especially in the context of deep neural networks.  It is defined as:\n",
        "\n",
        "$\\begin{equation}\n",
        "\\text{ReLU}(x) = \\max\\{0,x\\}\n",
        "\\end{equation}$\n",
        "\n",
        "That is if $x < 0$ it returns zero, and if $x\\geq 0$ it returns $x$.\n",
        "\n",
        "Given a 1D array $x$, compute its transformation under the ReLU function using comparison.  *Hint*: just like how you can add a single number to every element of an array, you can also compare a single number to every element."
      ]
    },
    {
      "cell_type": "code",
      "execution_count": null,
      "metadata": {},
      "outputs": [],
      "source": [
        "x = np.linspace(-1,1,30)\n",
        "..."
      ]
    },
    {
      "cell_type": "markdown",
      "metadata": {},
      "source": [
        "# Broadcasting (Element-wise operations on arrays of different shapes)"
      ]
    },
    {
      "cell_type": "markdown",
      "metadata": {},
      "source": [
        "Not necessary for this course, but check it out if you're interested.  Every broadcast operation can be done using loops, but broadcasting is faster.  You will get by just fine in CS 357 using loops"
      ]
    },
    {
      "cell_type": "markdown",
      "metadata": {},
      "source": [
        "See [A Gentle Introuction to Broadcasting with Numpy Arrays](https://machinelearningmastery.com/broadcasting-with-numpy-arrays/) for a detailed explanation"
      ]
    },
    {
      "cell_type": "markdown",
      "metadata": {},
      "source": [
        "The simplest case of broadcasting is adding a single number to every element of an array.  Here is the mathematically correct way of adding a number to every element of an array"
      ]
    },
    {
      "cell_type": "code",
      "execution_count": null,
      "metadata": {},
      "outputs": [],
      "source": [
        "bmat = np.arange(12).reshape(4, 3)\n",
        "print(bmat)\n",
        "print()\n",
        "z = 3*np.ones_like(bmat)  # what is this doing?\n",
        "print(z)\n",
        "print()\n",
        "print(bmat + z)"
      ]
    },
    {
      "cell_type": "markdown",
      "metadata": {},
      "source": [
        "But we saw can just add a number directly...Numpy is **broadcasting** the value"
      ]
    },
    {
      "cell_type": "code",
      "execution_count": null,
      "metadata": {},
      "outputs": [],
      "source": [
        "print(bmat)\n",
        "print()\n",
        "z = 3\n",
        "print(z)\n",
        "print()\n",
        "print(bmat + z)"
      ]
    },
    {
      "cell_type": "markdown",
      "metadata": {},
      "source": [
        "**Advice**: Get the hang of Python and Numpy, and worry about broadcasting later.  Just know that you can add a single number to an array, and there is something going on behind the scenes"
      ]
    },
    {
      "cell_type": "markdown",
      "metadata": {},
      "source": [
        "# Reduction Operations"
      ]
    },
    {
      "cell_type": "markdown",
      "metadata": {},
      "source": [
        "There are other operations that do not return an array of the same shape as the input.\n",
        "For example, you can find out the minimum or maximum value in the entire array,\n",
        "or the sum of all entries."
      ]
    },
    {
      "cell_type": "code",
      "execution_count": null,
      "metadata": {},
      "outputs": [],
      "source": [
        "bmat = np.array([6, 7, -12, 0, 3, 4, 21, 1, 1, 0, 2, 5]).reshape(4,3)"
      ]
    },
    {
      "cell_type": "code",
      "execution_count": null,
      "metadata": {},
      "outputs": [],
      "source": [
        "print(bmat)\n",
        "print()\n",
        "print(bmat.min())\n",
        "print(bmat.max())\n",
        "print(bmat.sum())"
      ]
    },
    {
      "cell_type": "markdown",
      "metadata": {},
      "source": [
        "What if I want the smallest number in every row?\n",
        "All of these reduction operations take an optional `axis` argument that allows\n",
        "us to target a particular dimension of the array."
      ]
    },
    {
      "cell_type": "code",
      "execution_count": null,
      "metadata": {},
      "outputs": [],
      "source": [
        "print('row minimum:')\n",
        "print(bmat.min(axis=1))\n",
        "print('column maximum:')\n",
        "print(bmat.max(axis=0))\n",
        "print('row sum:')\n",
        "print(bmat.sum(axis = 1))"
      ]
    },
    {
      "cell_type": "markdown",
      "metadata": {},
      "source": [
        "Notice that when we pass an `axis` argument, we lose that dimension of our\n",
        "array, but the shape is otherwise unchanged. So, a (4, 3) array becomes\n",
        "a (3,) array if we pass `axis=0`, and it becomes a (4,) array if we\n",
        "pass `axis=1`."
      ]
    },
    {
      "cell_type": "markdown",
      "metadata": {},
      "source": [
        "Some more reductions..."
      ]
    },
    {
      "cell_type": "code",
      "execution_count": null,
      "metadata": {},
      "outputs": [],
      "source": [
        "print(bmat)\n",
        "print()\n",
        "print('mean:')\n",
        "print(bmat.mean())\n",
        "print()\n",
        "print('column mean:')\n",
        "print(bmat.mean(axis = 0))"
      ]
    },
    {
      "cell_type": "code",
      "execution_count": null,
      "metadata": {},
      "outputs": [],
      "source": [
        "print(bmat)\n",
        "print()\n",
        "print('product:')\n",
        "print(bmat.prod())\n",
        "print('column product:')\n",
        "print(bmat.prod(axis = 0))"
      ]
    },
    {
      "cell_type": "markdown",
      "metadata": {},
      "source": [
        "# Treating Arrays as Matrices and Vectors"
      ]
    },
    {
      "cell_type": "markdown",
      "metadata": {},
      "source": [
        "If `*` is elementwise multiplication, how do we do matrix multiplication?"
      ]
    },
    {
      "cell_type": "code",
      "execution_count": null,
      "metadata": {},
      "outputs": [],
      "source": [
        "# Matrix Multiplication and Dot Product\n",
        "print(np.dot(mat_2, id_2))\n",
        "print('')\n",
        "print(mat_2 @ id_2)\n",
        "print('')\n",
        "print(np.dot(vals_arrayf, np.array([0,2,6,1, 1, 2, 3, 4])))"
      ]
    },
    {
      "cell_type": "code",
      "execution_count": null,
      "metadata": {},
      "outputs": [],
      "source": [
        "# Matrix transpose\n",
        "print(mat_2)\n",
        "print()\n",
        "print(np.transpose(mat_2))\n",
        "print()\n",
        "print(mat_2.T)"
      ]
    },
    {
      "cell_type": "markdown",
      "metadata": {},
      "source": [
        "# Numpy constants\n",
        "A [list](https://docs.scipy.org/doc/numpy/reference/constants.html) of Numpy constants"
      ]
    },
    {
      "cell_type": "code",
      "execution_count": null,
      "metadata": {},
      "outputs": [],
      "source": [
        "print(np.pi) # the famous irrational number\n",
        "print(np.e)  # euler's number = exp(1)\n",
        "print(np.inf) # infinity\n",
        "print(np.NINF) # negative infinity\n",
        "print(np.nan)  # 'not a number'"
      ]
    },
    {
      "cell_type": "markdown",
      "metadata": {},
      "source": [
        "# Random Numbers"
      ]
    },
    {
      "cell_type": "markdown",
      "metadata": {},
      "source": [
        "You will often be asked to generate random numbers.\n",
        "`numpy` can generate numbers from a variety of distributions,\n",
        "and it can generate lots of them at once and put them in a convenient shape.\n",
        "\n",
        "The [np.random](https://docs.scipy.org/doc/numpy-1.13.0/reference/routines.random.html) documentation gives a helpful overview.\n",
        "\n",
        "Some of the more common functions you might use are\n",
        "[np.random.rand](https://docs.scipy.org/doc/numpy-1.13.0/reference/generated/numpy.random.rand.html#numpy.random.rand) (uniform),\n",
        "[np.random.randn](https://docs.scipy.org/doc/numpy-1.13.0/reference/generated/numpy.random.randn.html#numpy.random.randn) (normal),\n",
        "and [np.random.randint](https://docs.scipy.org/doc/numpy-1.13.0/reference/generated/numpy.random.randint.html#numpy.random.randint) (integers).\n",
        "All of these routines give you the option of generating an array of a specified shape."
      ]
    },
    {
      "cell_type": "code",
      "execution_count": null,
      "metadata": {},
      "outputs": [],
      "source": [
        "uniform_nums = np.random.rand(10)\n",
        "print(uniform_nums)\n",
        "print('')\n",
        "normal_nums = np.random.randn(3, 5)\n",
        "print(normal_nums)\n",
        "print('')\n",
        "integers = np.random.randint(0, 10, (4, 2))\n",
        "print(integers)\n",
        "print('')"
      ]
    },
    {
      "cell_type": "markdown",
      "metadata": {},
      "source": [
        "# What Else is There in Numpy\n",
        "There's so many more functions in Numpy!  Read documentation and **Google** things.  Someone probably asked your question on Stack Exchange or Stack Overflow already!"
      ]
    },
    {
      "cell_type": "markdown",
      "metadata": {},
      "source": [
        "This tutorial didn't really get in to any of the functions in \n",
        "[numpy.linalg](http://docs.scipy.org/doc/numpy/reference/routines.linalg.html).\n",
        "We'll see a lot of those functions in class."
      ]
    },
    {
      "cell_type": "markdown",
      "metadata": {},
      "source": [
        "# More Exercises:\n",
        "1. We'll do this one together...\n",
        "\n",
        "Let $B$ be a $4x4$ matrix and apply the following operations to it (in this order):\n",
        "    * Double the first column\n",
        "    * Halve the third row\n",
        "    * Add the third row to the first row\n",
        "    * Interchange the first and last columns\n",
        "    * Subtract the second row from each of the other rows\n",
        "    * Replace column 4 by column 3\n",
        "    * Delete the 1st column (so the matrix is now 4 by 3) - see np.delete"
      ]
    },
    {
      "cell_type": "code",
      "execution_count": null,
      "metadata": {},
      "outputs": [],
      "source": [
        "B = np.random.randint(-4,4,(4,4)).astype(float)\n",
        "print(B)"
      ]
    },
    {
      "cell_type": "code",
      "execution_count": null,
      "metadata": {},
      "outputs": [],
      "source": [
        "def my_function(B):\n",
        "    ..."
      ]
    },
    {
      "cell_type": "markdown",
      "metadata": {},
      "source": [
        "2. Generate a 1D Numpy array of 20 integers in the range $[2, 12)$.  Count how many are greater than 8 without using a loop.  Also return an array of the same size that has the same values as the original array when they are greater than 8 and zero otherwise.\n",
        "\n",
        "\n",
        "3. Repeat the exercise with ''greater than'' replaced with ''greater than or equal to''"
      ]
    },
    {
      "cell_type": "code",
      "execution_count": null,
      "metadata": {},
      "outputs": [],
      "source": []
    },
    {
      "cell_type": "markdown",
      "metadata": {},
      "source": [
        "4. The Frobenius inner product of two matrices can be defined as $\\text{tr}(\\mathbf{A}^T\\mathbf{B})$ where ''tr'' refers to the [trace](https://en.wikipedia.org/wiki/Trace_(linear_algebra) (just the sum of the diagonals).  Write a function to compute the Frobenius inner product of two matrices.\n",
        "\n",
        "    * There's a numpy function called ``np.trace`` that makes this easy\n",
        "    * Try to do it without ``np.trace``.  You can use ``np.sum``, and a function called ``np.diag``"
      ]
    },
    {
      "cell_type": "code",
      "execution_count": null,
      "metadata": {},
      "outputs": [],
      "source": [
        "def Frobenius(A,B):\n",
        "    ..."
      ]
    },
    {
      "cell_type": "code",
      "execution_count": null,
      "metadata": {},
      "outputs": [],
      "source": []
    },
    {
      "cell_type": "markdown",
      "metadata": {},
      "source": [
        "5. Generate a 10 by 10 matrix of normally distributed values.  Write a function that returns the column index of the column with the largest mean\n",
        "\n",
        "    * *Hint*: check out ``np.argmax``"
      ]
    },
    {
      "cell_type": "code",
      "execution_count": null,
      "metadata": {},
      "outputs": [],
      "source": [
        "A = ...\n",
        "\n",
        "def column_largest_mean(A):\n",
        "    ..."
      ]
    },
    {
      "cell_type": "code",
      "execution_count": null,
      "metadata": {},
      "outputs": [],
      "source": []
    },
    {
      "cell_type": "markdown",
      "metadata": {},
      "source": [
        "Work through these!\n",
        "* [100 Numpy Exercises](https://github.com/rougier/numpy-100/blob/master/100_Numpy_exercises.md)\n",
        "* [101 Numpy Exercises for Data Analysis](https://www.machinelearningplus.com/python/101-numpy-exercises-python/)\n",
        "* [Numpy Exercises, Practice, Solution](https://www.w3resource.com/python-exercises/numpy/index.php)\n",
        "\n",
        "Come to office hours or ask on Piazza if you want clarification about what's happening in these questions"
      ]
    },
    {
      "cell_type": "code",
      "execution_count": null,
      "metadata": {},
      "outputs": [],
      "source": []
    },
    {
      "cell_type": "code",
      "execution_count": null,
      "metadata": {},
      "outputs": [],
      "source": []
    }
  ],
  "metadata": {
    "kernelspec": {
      "display_name": "Python 3",
      "language": "python",
      "name": "python3"
    },
    "language_info": {
      "codemirror_mode": {
        "name": "ipython",
        "version": 3
      },
      "file_extension": ".py",
      "mimetype": "text/x-python",
      "name": "python",
      "nbconvert_exporter": "python",
      "pygments_lexer": "ipython3",
      "version": "3.6.5"
    }
  },
  "nbformat": 4,
  "nbformat_minor": 1
}