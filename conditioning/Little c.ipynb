{
 "cells": [
  {
   "cell_type": "code",
   "execution_count": 1,
   "metadata": {
    "collapsed": true
   },
   "outputs": [],
   "source": [
    "import numpy as np\n",
    "import scipy.linalg as sla\n",
    "import numpy.linalg as la"
   ]
  },
  {
   "cell_type": "code",
   "execution_count": 2,
   "metadata": {
    "collapsed": true
   },
   "outputs": [],
   "source": [
    "def lu1(A):\n",
    "    \"\"\"\n",
    "    \"\"\"\n",
    "    LU = A.copy()\n",
    "    \n",
    "    n = A.shape[0]\n",
    "    for i in range(1,n):\n",
    "        l_21 = LU[i:,i-1]\n",
    "        u_12 = LU[i-1,i:]\n",
    "        A_22 = LU[i:,i:]\n",
    "        u_11 = LU[i-1,i-1]\n",
    "        \n",
    "        # l_{21} = a_{21} / u_{11}\n",
    "        l_21 /= u_11\n",
    "        # A_{22} = LU[] \n",
    "        A_22 += -np.outer(l_21, u_12)\n",
    "        \n",
    "    return LU"
   ]
  },
  {
   "cell_type": "markdown",
   "metadata": {},
   "source": [
    "# Try this\n",
    "$$\n",
    "Ax = \\begin{bmatrix}c&1\\\\-1&1\\end{bmatrix}\\begin{bmatrix}x_1\\\\x_2\\end{bmatrix}\n",
    "=\n",
    "\\begin{bmatrix}b_1\\\\b_2\\end{bmatrix}\n",
    "$$\n",
    "with an exact solution of\n",
    "$$\n",
    "x_{exact} = \\begin{bmatrix}1\\\\1\\end{bmatrix}\n",
    "$$"
   ]
  },
  {
   "cell_type": "code",
   "execution_count": 9,
   "metadata": {},
   "outputs": [
    {
     "name": "stdout",
     "output_type": "stream",
     "text": [
      "Condition number =  2.61803398875\n",
      "Exact solution =  [1 1]\n",
      "Computed solution =  [ 1.  1.]\n"
     ]
    }
   ],
   "source": [
    "c = 1e-16\n",
    "A = np.array([[c, 1.], [-1, 1]])\n",
    "xx = np.array([1,1])\n",
    "b = A.dot(xx)\n",
    "\n",
    "# Comput the LU\n",
    "LU = lu1(A)\n",
    "L = np.tril(LU,-1) + np.eye(2,2)\n",
    "U = np.triu(LU)\n",
    "\n",
    "# Solve\n",
    "y = sla.solve_triangular(L, b, lower=True)\n",
    "x = sla.solve_triangular(U, y)\n",
    "\n",
    "print(\"Condition number = \", la.cond(A,2))\n",
    "\n",
    "print(\"Exact solution = \", xx)\n",
    "\n",
    "print(\"Computed solution = \",x)\n"
   ]
  },
  {
   "cell_type": "markdown",
   "metadata": {},
   "source": [
    "## Iclicker"
   ]
  },
  {
   "cell_type": "code",
   "execution_count": null,
   "metadata": {
    "collapsed": true
   },
   "outputs": [],
   "source": [
    "#Is the matrix A singular\n",
    "# A) YES\n",
    "# B) NO"
   ]
  },
  {
   "cell_type": "code",
   "execution_count": 7,
   "metadata": {},
   "outputs": [
    {
     "data": {
      "text/plain": [
       "array([[  1.00000000e+00,  -1.00000000e+00],\n",
       "       [  1.00000000e+00,   1.00000000e-16]])"
      ]
     },
     "execution_count": 7,
     "metadata": {},
     "output_type": "execute_result"
    }
   ],
   "source": [
    "la.inv(A)"
   ]
  },
  {
   "cell_type": "code",
   "execution_count": null,
   "metadata": {
    "collapsed": true
   },
   "outputs": [],
   "source": []
  }
 ],
 "metadata": {
  "kernelspec": {
   "display_name": "Python 3",
   "language": "python",
   "name": "python3"
  },
  "language_info": {
   "codemirror_mode": {
    "name": "ipython",
    "version": 3
   },
   "file_extension": ".py",
   "mimetype": "text/x-python",
   "name": "python",
   "nbconvert_exporter": "python",
   "pygments_lexer": "ipython3",
   "version": "3.6.3"
  }
 },
 "nbformat": 4,
 "nbformat_minor": 2
}
