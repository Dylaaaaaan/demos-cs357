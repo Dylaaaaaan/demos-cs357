{
 "cells": [
  {
   "cell_type": "code",
   "execution_count": null,
   "metadata": {
    "collapsed": true
   },
   "outputs": [],
   "source": [
    "import matplotlib as mpl\n",
    "import matplotlib.pyplot as plt\n",
    "%matplotlib inline\n",
    "import numpy as np"
   ]
  },
  {
   "cell_type": "markdown",
   "metadata": {},
   "source": [
    "# Floating Point Numbers"
   ]
  },
  {
   "cell_type": "markdown",
   "metadata": {},
   "source": [
    "### Integer Range"
   ]
  },
  {
   "cell_type": "markdown",
   "metadata": {},
   "source": [
    "We discussed in class that we can obtain the range of integers that can be represented exactly as\n",
    "\n",
    "$$[1,2^{p}]$$\n",
    "\n",
    "So let's try this using Python (where double precision gives p=53)"
   ]
  },
  {
   "cell_type": "code",
   "execution_count": null,
   "metadata": {},
   "outputs": [],
   "source": [
    "# This number is within the range\n",
    "2**52"
   ]
  },
  {
   "cell_type": "code",
   "execution_count": null,
   "metadata": {},
   "outputs": [],
   "source": [
    "# We add one to get the next integer \n",
    "2**52 + 1"
   ]
  },
  {
   "cell_type": "code",
   "execution_count": null,
   "metadata": {},
   "outputs": [],
   "source": [
    "# All good so far, right? Let's check the integer:\n",
    "2**53"
   ]
  },
  {
   "cell_type": "code",
   "execution_count": null,
   "metadata": {},
   "outputs": [],
   "source": [
    "# If I add one, what do you expect us to get?\n",
    "2**53 + 1"
   ]
  },
  {
   "cell_type": "markdown",
   "metadata": {},
   "source": [
    "Humm... not what you expected right? Why do you think this happened?"
   ]
  },
  {
   "cell_type": "code",
   "execution_count": null,
   "metadata": {},
   "outputs": [],
   "source": [
    "#clear\n",
    "type(2**53)"
   ]
  },
  {
   "cell_type": "code",
   "execution_count": null,
   "metadata": {},
   "outputs": [],
   "source": [
    "#clear\n",
    "# The numbers above were not stored using floating point!\n",
    "# Let's change it...\n",
    "print(float(2**53))\n",
    "print(float(2**53+1))\n",
    "\n",
    "# Yay! this is more what we were expecting based on what we learned in class\n",
    "\n",
    "# or we can also do \n",
    "\n",
    "print(2**53)\n",
    "print(2**53+1.0)\n",
    "print(2**53+2.0)\n",
    "print(2**53+3.0)\n",
    "print(2**53+4.0)\n",
    "\n",
    "#Think about the gap. Do you think these results make sense?"
   ]
  },
  {
   "cell_type": "markdown",
   "metadata": {},
   "source": [
    "### Integer type"
   ]
  },
  {
   "cell_type": "code",
   "execution_count": null,
   "metadata": {},
   "outputs": [],
   "source": [
    "# to find the maximum integer (using 64-bit signed integer)\n",
    "# uses only 63 bits, since one is reserved for the sign\n",
    "maxint = 0\n",
    "for i in range(63):\n",
    "     maxint += 2**i\n",
    "maxint"
   ]
  },
  {
   "cell_type": "markdown",
   "metadata": {},
   "source": [
    "### What will happen when we run these code snippets?"
   ]
  },
  {
   "cell_type": "markdown",
   "metadata": {},
   "source": [
    "A) it won't stop (infinite loop)\n",
    "\n",
    "B) it will stop when b reaches underflow\n",
    "\n",
    "C) it will stop when b reaches machine epsilon\n",
    "\n",
    "D) none of the above"
   ]
  },
  {
   "cell_type": "code",
   "execution_count": null,
   "metadata": {},
   "outputs": [],
   "source": [
    "a = 10**4\n",
    "b = 1.0\n",
    "i=0\n",
    "while (a + b > a):\n",
    "    #print(\"{0:d}, {1:1.16f}\". format(i, b)) \n",
    "    print(i,b)\n",
    "    b = b / 2.0\n",
    "    i+=1"
   ]
  },
  {
   "cell_type": "markdown",
   "metadata": {},
   "source": [
    "A) it won't stop (infinite loop)\n",
    "\n",
    "B) it will stop when b reaches underflow\n",
    "\n",
    "C) it will stop when b reaches machine epsilon\n",
    "\n",
    "D) none of the above"
   ]
  },
  {
   "cell_type": "code",
   "execution_count": null,
   "metadata": {},
   "outputs": [],
   "source": [
    "a = 1.0\n",
    "while a > 0.0: \n",
    "    a = a / 2.0\n",
    "    print(a)\n",
    "    #print(\"% .16e\"% (a)) "
   ]
  },
  {
   "cell_type": "code",
   "execution_count": null,
   "metadata": {},
   "outputs": [],
   "source": [
    "a = 1.0\n",
    "while a != np.inf:\n",
    "    a = a * 2.0\n",
    "    print(a)\n",
    "    #print(\"% .16e\"% (a)) "
   ]
  },
  {
   "cell_type": "markdown",
   "metadata": {},
   "source": [
    "Let's write the following number (not exacly OFL, but close)"
   ]
  },
  {
   "cell_type": "code",
   "execution_count": null,
   "metadata": {},
   "outputs": [],
   "source": [
    "float(2**1023)"
   ]
  },
  {
   "cell_type": "code",
   "execution_count": null,
   "metadata": {},
   "outputs": [],
   "source": [
    "# Try the UFL definition\n",
    "2**(1024)*(1-2**(-53))\n",
    "\n",
    "# Can we make this work?"
   ]
  },
  {
   "cell_type": "code",
   "execution_count": null,
   "metadata": {
    "collapsed": true
   },
   "outputs": [],
   "source": []
  }
 ],
 "metadata": {
  "kernelspec": {
   "display_name": "Python 3",
   "language": "python",
   "name": "python3"
  },
  "language_info": {
   "codemirror_mode": {
    "name": "ipython",
    "version": 3
   },
   "file_extension": ".py",
   "mimetype": "text/x-python",
   "name": "python",
   "nbconvert_exporter": "python",
   "pygments_lexer": "ipython3",
   "version": "3.6.9"
  }
 },
 "nbformat": 4,
 "nbformat_minor": 2
}
