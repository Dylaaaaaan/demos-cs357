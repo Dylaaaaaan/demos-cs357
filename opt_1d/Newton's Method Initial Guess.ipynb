{
 "cells": [
  {
   "cell_type": "markdown",
   "metadata": {},
   "source": [
    "# Initial guess for Newton's method"
   ]
  },
  {
   "cell_type": "code",
   "execution_count": null,
   "metadata": {
    "collapsed": true
   },
   "outputs": [],
   "source": [
    "import numpy as np\n",
    "import matplotlib.pyplot as pt\n",
    "%matplotlib inline"
   ]
  },
  {
   "cell_type": "markdown",
   "metadata": {},
   "source": [
    "Here's a function:"
   ]
  },
  {
   "cell_type": "code",
   "execution_count": null,
   "metadata": {
    "collapsed": true
   },
   "outputs": [],
   "source": [
    "def f(x): \n",
    "    return np.cos(3*np.pi*x)/x\n",
    "\n",
    "def df(x):\n",
    "    return -np.cos(3*np.pi*x)/(x**2) - 3*np.pi*np.sin(3*np.pi*x)/(x) \n",
    "\n",
    "def d2f(x):\n",
    "    return 2*np.cos(3*np.pi*x)/(x**3) - 9*(np.pi**2)*np.cos(3*np.pi*x)/(x) + 6*np.pi*np.sin(3*np.pi*x)/(x**2)\n",
    "\n",
    "\n",
    "\n"
   ]
  },
  {
   "cell_type": "code",
   "execution_count": null,
   "metadata": {
    "collapsed": true
   },
   "outputs": [],
   "source": [
    "def f(x): \n",
    "    return -2 + x + 2*x**2 - x**3\n",
    "\n",
    "def df(x):\n",
    "    return 1 + 4*x - 3*x**2\n",
    "\n",
    "def d2f(x):\n",
    "    return 4 - 6*x"
   ]
  },
  {
   "cell_type": "markdown",
   "metadata": {},
   "source": [
    "Let's plot the thing:"
   ]
  },
  {
   "cell_type": "code",
   "execution_count": null,
   "metadata": {},
   "outputs": [],
   "source": [
    "xmesh = np.linspace(-2,3, 200)\n",
    "pt.plot(xmesh, f(xmesh))\n",
    "pt.ylim([-4, 4])"
   ]
  },
  {
   "cell_type": "markdown",
   "metadata": {},
   "source": [
    "Let's fix an initial guess:"
   ]
  },
  {
   "cell_type": "code",
   "execution_count": null,
   "metadata": {
    "collapsed": true
   },
   "outputs": [],
   "source": [
    "x = 0.5"
   ]
  },
  {
   "cell_type": "code",
   "execution_count": null,
   "metadata": {},
   "outputs": [],
   "source": [
    "dfx = df(x)\n",
    "d2fx = d2f(x)\n",
    "\n",
    "\n",
    "# carry out the Newton step\n",
    "xnew = x - dfx / d2fx\n",
    "\n",
    "# plot approximate function\n",
    "pt.plot(xmesh, f(xmesh))\n",
    "pt.plot(xmesh, f(x) + dfx*(xmesh-x) + d2fx*(xmesh-x)**2/2)\n",
    "pt.plot(x, f(x), \"o\", color=\"red\")\n",
    "pt.plot(xnew, f(xnew), \"o\", color=\"green\")\n",
    "pt.ylim([-4, 4])\n",
    "\n",
    "# update\n",
    "x = xnew\n",
    "print(x)"
   ]
  },
  {
   "cell_type": "code",
   "execution_count": null,
   "metadata": {
    "collapsed": true
   },
   "outputs": [],
   "source": []
  },
  {
   "cell_type": "code",
   "execution_count": null,
   "metadata": {
    "collapsed": true
   },
   "outputs": [],
   "source": []
  }
 ],
 "metadata": {
  "kernelspec": {
   "display_name": "Python 3",
   "language": "python",
   "name": "python3"
  },
  "language_info": {
   "codemirror_mode": {
    "name": "ipython",
    "version": 3
   },
   "file_extension": ".py",
   "mimetype": "text/x-python",
   "name": "python",
   "nbconvert_exporter": "python",
   "pygments_lexer": "ipython3",
   "version": "3.6.3"
  }
 },
 "nbformat": 4,
 "nbformat_minor": 1
}
