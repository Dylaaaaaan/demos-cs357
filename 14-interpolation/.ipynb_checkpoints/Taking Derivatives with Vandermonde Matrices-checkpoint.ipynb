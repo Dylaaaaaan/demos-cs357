{
 "cells": [
  {
   "cell_type": "markdown",
   "metadata": {},
   "source": [
    "# Taking Derivatives with Vandermonde Matrices"
   ]
  },
  {
   "cell_type": "code",
   "execution_count": null,
   "metadata": {
    "collapsed": true
   },
   "outputs": [],
   "source": [
    "import numpy as np\n",
    "import numpy.linalg as la\n",
    "import matplotlib.pyplot as pt\n",
    "%matplotlib inline"
   ]
  },
  {
   "cell_type": "markdown",
   "metadata": {},
   "source": [
    "Here are a few functions:"
   ]
  },
  {
   "cell_type": "code",
   "execution_count": null,
   "metadata": {
    "collapsed": true
   },
   "outputs": [],
   "source": [
    "option = 1\n",
    "if option == 1:\n",
    "    def f(x):\n",
    "        return np.sin(5*x)\n",
    "    def df(x):\n",
    "        return 5*np.cos(5*x)\n",
    "elif option == 0:\n",
    "    gamma = 0.15\n",
    "    def f(x):\n",
    "        return np.sin(1/(gamma+x))\n",
    "    def df(x):\n",
    "        return -np.cos(1/(gamma+x))/(gamma+x)**2\n",
    "else:\n",
    "    def f(x):\n",
    "        return np.abs(x-0.5)\n",
    "    def df(x):\n",
    "        # Well...\n",
    "        return -1 + 2*(x<=0.5).astype(np.float)"
   ]
  },
  {
   "cell_type": "code",
   "execution_count": null,
   "metadata": {},
   "outputs": [],
   "source": [
    "x_01 = np.linspace(0, 1, 1000)\n",
    "pt.plot(x_01, f(x_01))"
   ]
  },
  {
   "cell_type": "code",
   "execution_count": null,
   "metadata": {},
   "outputs": [],
   "source": [
    "degree = 4\n",
    "h = 1\n",
    "\n",
    "nodes = 0.5 + np.linspace(-h/2, h/2, degree+1)\n",
    "nodes"
   ]
  },
  {
   "cell_type": "markdown",
   "metadata": {},
   "source": [
    "Build the gen. Vandermonde matrix and find the coefficients:"
   ]
  },
  {
   "cell_type": "code",
   "execution_count": null,
   "metadata": {
    "collapsed": true
   },
   "outputs": [],
   "source": [
    "V = np.array([\n",
    "    nodes**i\n",
    "    for i in range(degree+1)\n",
    "]).T"
   ]
  },
  {
   "cell_type": "code",
   "execution_count": null,
   "metadata": {},
   "outputs": [],
   "source": [
    "#clear\n",
    "coeffs = la.solve(V, f(nodes))\n",
    "coeffs"
   ]
  },
  {
   "cell_type": "markdown",
   "metadata": {},
   "source": [
    "Evaluate the interpolant:"
   ]
  },
  {
   "cell_type": "code",
   "execution_count": null,
   "metadata": {
    "collapsed": true
   },
   "outputs": [],
   "source": [
    "x_0h = 0.5+np.linspace(-h/2, h/2, 1000)"
   ]
  },
  {
   "cell_type": "code",
   "execution_count": null,
   "metadata": {
    "collapsed": true
   },
   "outputs": [],
   "source": [
    "interp_0h = 0*x_0h\n",
    "for i in range(degree+1):\n",
    "    interp_0h += coeffs[i] * x_0h**i"
   ]
  },
  {
   "cell_type": "code",
   "execution_count": null,
   "metadata": {},
   "outputs": [],
   "source": [
    "pt.plot(x_01, f(x_01), \"--\", color=\"gray\", label=\"$f$\")\n",
    "pt.plot(x_0h, interp_0h, color=\"red\", label=\"Interpolant\")\n",
    "pt.plot(nodes, f(nodes), \"or\")\n",
    "pt.legend(loc=\"best\")"
   ]
  },
  {
   "cell_type": "markdown",
   "metadata": {},
   "source": [
    "Now build the gen. Vandermonde matrix $V'=$`Vprime` of the derivatives:"
   ]
  },
  {
   "cell_type": "code",
   "execution_count": null,
   "metadata": {
    "collapsed": true
   },
   "outputs": [],
   "source": [
    "def monomial_deriv(i, x):\n",
    "    if i == 0:\n",
    "        return 0*x\n",
    "    else:\n",
    "        return i*nodes**(i-1)\n",
    "\n",
    "Vprime = np.array([\n",
    "    monomial_deriv(i, nodes)\n",
    "    for i in range(degree+1)\n",
    "]).T"
   ]
  },
  {
   "cell_type": "markdown",
   "metadata": {},
   "source": [
    "Compute the value of the derivative at the nodes as `fderiv`:"
   ]
  },
  {
   "cell_type": "code",
   "execution_count": null,
   "metadata": {},
   "outputs": [],
   "source": [
    "fderiv = Vprime@coeffs\n",
    "print(fderiv)"
   ]
  },
  {
   "cell_type": "markdown",
   "metadata": {},
   "source": [
    "And plot vs `df`, the exact derivative:"
   ]
  },
  {
   "cell_type": "code",
   "execution_count": null,
   "metadata": {},
   "outputs": [],
   "source": [
    "pt.plot(x_01, df(x_01), \"--\", color=\"gray\", label=\"$f'(x)$\")\n",
    "pt.plot(nodes, fderiv, \"or\")\n",
    "pt.legend(loc=\"best\")"
   ]
  },
  {
   "cell_type": "code",
   "execution_count": null,
   "metadata": {},
   "outputs": [],
   "source": [
    "#clear\n",
    "print(np.max(np.abs(df(nodes) - fderiv)))"
   ]
  },
  {
   "cell_type": "code",
   "execution_count": null,
   "metadata": {
    "collapsed": true
   },
   "outputs": [],
   "source": []
  },
  {
   "cell_type": "code",
   "execution_count": null,
   "metadata": {
    "collapsed": true
   },
   "outputs": [],
   "source": []
  }
 ],
 "metadata": {
  "kernelspec": {
   "display_name": "Python 3",
   "language": "python",
   "name": "python3"
  },
  "language_info": {
   "codemirror_mode": {
    "name": "ipython",
    "version": 3
   },
   "file_extension": ".py",
   "mimetype": "text/x-python",
   "name": "python",
   "nbconvert_exporter": "python",
   "pygments_lexer": "ipython3",
   "version": "3.6.3"
  }
 },
 "nbformat": 4,
 "nbformat_minor": 1
}
