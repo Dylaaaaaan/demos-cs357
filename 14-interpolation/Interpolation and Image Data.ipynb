{
 "cells": [
  {
   "cell_type": "code",
   "execution_count": null,
   "metadata": {
    "collapsed": true
   },
   "outputs": [],
   "source": [
    "import scipy as sp\n",
    "import scipy.misc\n",
    "import numpy as np\n",
    "import matplotlib.pyplot as plt\n",
    "%matplotlib inline"
   ]
  },
  {
   "cell_type": "code",
   "execution_count": null,
   "metadata": {
    "collapsed": true
   },
   "outputs": [],
   "source": [
    "from scipy.interpolate import griddata"
   ]
  },
  {
   "cell_type": "markdown",
   "metadata": {},
   "source": [
    "## Reconstruction of the Sin[x] function"
   ]
  },
  {
   "cell_type": "code",
   "execution_count": null,
   "metadata": {
    "collapsed": true
   },
   "outputs": [],
   "source": [
    "def funcSin(x):\n",
    "    return np.sin(np.pi * 2 * x)"
   ]
  },
  {
   "cell_type": "code",
   "execution_count": null,
   "metadata": {},
   "outputs": [],
   "source": [
    "grid_x = np.mgrid[0:1:100j]\n",
    "plt.plot(grid_x, funcSin(grid_x))"
   ]
  },
  {
   "cell_type": "code",
   "execution_count": null,
   "metadata": {},
   "outputs": [],
   "source": [
    "points = np.random.rand(6, 1)\n",
    "values = funcSin(points)\n",
    "\n",
    "plt.plot(points, values, 'or')\n",
    "plt.xlim([0,1])"
   ]
  },
  {
   "cell_type": "code",
   "execution_count": null,
   "metadata": {},
   "outputs": [],
   "source": [
    "#griddata(points,values,xi,method)\n",
    "#points: data points coordinates - ti\n",
    "#values: data points values - yi\n",
    "#xi: points at which to interpolate data (corresponding values are returned)\n",
    "grid_z0 = griddata(points, values, grid_x, method='nearest')\n",
    "plt.figure(figsize=(20,10))\n",
    "plt.plot(grid_x, grid_z0, 'o')\n",
    "plt.plot(points, values, 'ro', ms=20)\n",
    "plt.xlim([0,1])\n",
    "\n",
    "grid_z0 = griddata(points, values, grid_x, method='linear')\n",
    "plt.plot(grid_x, grid_z0, 'o')\n",
    "\n",
    "\n",
    "grid_z0 = griddata(points, values, grid_x, method='cubic')\n",
    "plt.plot(grid_x, grid_z0, 'o')\n"
   ]
  },
  {
   "cell_type": "markdown",
   "metadata": {},
   "source": [
    "# Make an \"image\"\n",
    "\n",
    "Here we're going to make a \"true\" image.\n",
    "\n",
    "[Scipy Interpolation Tutorial](https://docs.scipy.org/doc/scipy/reference/tutorial/interpolate.html)"
   ]
  },
  {
   "cell_type": "code",
   "execution_count": null,
   "metadata": {
    "collapsed": true
   },
   "outputs": [],
   "source": [
    "def func(x, y):\n",
    "    return x*(1-x)*np.cos(4*np.pi*x) * np.sin(4*np.pi*y**2)**2"
   ]
  },
  {
   "cell_type": "code",
   "execution_count": null,
   "metadata": {},
   "outputs": [],
   "source": [
    "grid_x, grid_y = np.mgrid[0:1:100j, 0:1:200j]\n",
    "img = func(grid_x, grid_y)\n",
    "plt.figure(figsize=(10,20))\n",
    "plt.imshow(img.T, extent=(0,1,0,1), origin='lower', cmap=plt.cm.jet, interpolation = 'none')"
   ]
  },
  {
   "cell_type": "markdown",
   "metadata": {},
   "source": [
    "# Sample an image\n",
    "\n",
    "Now we're going to sample the image at a bunch of points -- this is the data we'e collected."
   ]
  },
  {
   "cell_type": "code",
   "execution_count": null,
   "metadata": {
    "collapsed": true
   },
   "outputs": [],
   "source": [
    "points = np.random.rand(200, 2)\n",
    "values = func(points[:,0], points[:,1])"
   ]
  },
  {
   "cell_type": "code",
   "execution_count": null,
   "metadata": {},
   "outputs": [],
   "source": [
    "plt.figure(figsize=(10,20))\n",
    "plt.scatter(points[:,0], points[:,1], c=values, s=40, cmap=plt.cm.jet)\n",
    "_ = plt.axis('scaled')"
   ]
  },
  {
   "cell_type": "markdown",
   "metadata": {},
   "source": [
    "# How do we \"fill in\" the missing data?\n",
    "\n",
    "Scipy has a function called `griddata`"
   ]
  },
  {
   "cell_type": "code",
   "execution_count": null,
   "metadata": {
    "scrolled": false
   },
   "outputs": [],
   "source": [
    "# contstant\n",
    "grid_z0 = griddata(points, values, (grid_x, grid_y), method='nearest')\n",
    "plt.figure(figsize=(10,20))\n",
    "plt.imshow(grid_z0.T, extent=(0,1,0,1), origin='lower', cmap=plt.cm.jet)\n",
    "\n",
    "\n",
    "# linear\n",
    "grid_z1 = griddata(points, values, (grid_x, grid_y), method='linear')\n",
    "plt.figure(figsize=(10,20))\n",
    "plt.imshow(grid_z1.T, extent=(0,1,0,1), origin='lower', cmap=plt.cm.jet)\n",
    "\n",
    "\n",
    "# cubic\n",
    "grid_z2 = griddata(points, values, (grid_x, grid_y), method='cubic')\n",
    "plt.figure(figsize=(10,20))\n",
    "plt.imshow(grid_z2.T, extent=(0,1,0,1), origin='lower', cmap=plt.cm.jet)"
   ]
  },
  {
   "cell_type": "code",
   "execution_count": null,
   "metadata": {
    "collapsed": true
   },
   "outputs": [],
   "source": []
  },
  {
   "cell_type": "code",
   "execution_count": null,
   "metadata": {
    "collapsed": true
   },
   "outputs": [],
   "source": []
  },
  {
   "cell_type": "code",
   "execution_count": null,
   "metadata": {
    "collapsed": true
   },
   "outputs": [],
   "source": []
  }
 ],
 "metadata": {
  "kernelspec": {
   "display_name": "Python 3",
   "language": "python",
   "name": "python3"
  },
  "language_info": {
   "codemirror_mode": {
    "name": "ipython",
    "version": 3
   },
   "file_extension": ".py",
   "mimetype": "text/x-python",
   "name": "python",
   "nbconvert_exporter": "python",
   "pygments_lexer": "ipython3",
   "version": "3.6.3"
  }
 },
 "nbformat": 4,
 "nbformat_minor": 2
}
