{
  "cells": [
    {
      "cell_type": "markdown",
      "metadata": {},
      "source": [
        "# Inverting image operations"
      ]
    },
    {
      "cell_type": "code",
      "execution_count": 1,
      "metadata": {
        "collapsed": true
      },
      "outputs": [],
      "source": [
        "import numpy as np\n",
        "import numpy.linalg as la\n",
        "import matplotlib.pyplot as plt\n",
        "%matplotlib inline\n",
        "import seaborn as sns\n",
        "sns.set(font_scale=2)\n",
        "plt.style.use('seaborn-whitegrid')\n",
        "\n",
        "from scipy import sparse"
      ]
    },
    {
      "cell_type": "markdown",
      "metadata": {},
      "source": [
        "## Import an image of a Social Security Number"
      ]
    },
    {
      "cell_type": "code",
      "execution_count": 2,
      "metadata": {},
      "outputs": [],
      "source": [
        "from PIL import Image\n",
        "img = Image.open('ssn.png')\n",
        "xmat = (255 - np.asarray(img).max(axis=2))/255\n",
        "print(xmat.shape)\n",
        "print(xmat.min(),xmat.max())"
      ]
    },
    {
      "cell_type": "code",
      "execution_count": 3,
      "metadata": {},
      "outputs": [],
      "source": [
        "plt.imshow(xmat);"
      ]
    },
    {
      "cell_type": "markdown",
      "metadata": {},
      "source": [
        "## \"Vectorize\" the image, creating the 1d array `x`"
      ]
    },
    {
      "cell_type": "code",
      "execution_count": 4,
      "metadata": {},
      "outputs": [],
      "source": [
        "x = xmat.flatten()\n",
        "x.shape"
      ]
    },
    {
      "cell_type": "markdown",
      "metadata": {},
      "source": [
        "## Construct a \"blur\" matrix\n",
        "More about this blur matrix on a later MP..."
      ]
    },
    {
      "cell_type": "code",
      "execution_count": 5,
      "metadata": {
        "collapsed": true
      },
      "outputs": [],
      "source": [
        "imat, jmat = np.meshgrid(np.arange(xmat.shape[0]), np.arange(xmat.shape[1]), indexing='ij')\n",
        "\n",
        "ivec = np.atleast_2d(imat.flatten())\n",
        "jvec = np.atleast_2d(jmat.flatten())\n",
        "\n",
        "A = np.fmax(0, 1 - np.sqrt((ivec.T - ivec)**2 + (jvec.T - jvec)**2)/5)\n",
        "A /= A.sum(axis=1)"
      ]
    },
    {
      "cell_type": "markdown",
      "metadata": {},
      "source": [
        "## Compute b = A x"
      ]
    },
    {
      "cell_type": "code",
      "execution_count": 6,
      "metadata": {
        "collapsed": true
      },
      "outputs": [],
      "source": [
        "b = A @ x"
      ]
    },
    {
      "cell_type": "code",
      "execution_count": 7,
      "metadata": {},
      "outputs": [],
      "source": [
        "b2D=b.reshape(xmat.shape)\n",
        "plt.imshow(b2D)"
      ]
    },
    {
      "cell_type": "markdown",
      "metadata": {},
      "source": [
        "## Assume we have the blurred image, solve for the unblurred one"
      ]
    },
    {
      "cell_type": "markdown",
      "metadata": {},
      "source": [
        "### Let's first get the LU factorization"
      ]
    },
    {
      "cell_type": "code",
      "execution_count": 9,
      "metadata": {
        "collapsed": true
      },
      "outputs": [],
      "source": [
        "import scipy.linalg as sla\n",
        "P, L, U = sla.lu(A)"
      ]
    },
    {
      "cell_type": "markdown",
      "metadata": {},
      "source": [
        "### What about \"Solving\"?\n",
        "\n",
        "If $Ax = P L U x = b$, then there are two steps:\n",
        "1. $y \\leftarrow \\text{solve}\\,\\, L y = P^Tb$\n",
        "2. $x \\leftarrow \\text{solve}\\,\\, U x = y$"
      ]
    },
    {
      "cell_type": "code",
      "execution_count": 10,
      "metadata": {},
      "outputs": [],
      "source": [
        "y = sla.solve_triangular(L, np.dot(P.T, b), lower=True)\n",
        "x_solve = sla.solve_triangular(U, y)\n",
        "\n",
        "plt.imshow(x_solve.reshape(xmat.shape))"
      ]
    },
    {
      "cell_type": "markdown",
      "metadata": {},
      "source": [
        "### Why not just `np.linalg.solve`?"
      ]
    },
    {
      "cell_type": "code",
      "execution_count": 11,
      "metadata": {},
      "outputs": [],
      "source": [
        "x_solve_2 = la.solve(A,b)\n",
        "plt.imshow(x_solve_2.reshape(xmat.shape))"
      ]
    },
    {
      "cell_type": "markdown",
      "metadata": {},
      "source": [
        "Suppose you have many social security numbers to un-blur. You should factorize your blur matrix only once and then perform several triangular solves.\n",
        "\n",
        "Let's time:\n",
        "\n",
        "1. solve including factorization\n",
        "2. factorization\n",
        "3. solve, given a factorization"
      ]
    },
    {
      "cell_type": "code",
      "execution_count": 12,
      "metadata": {},
      "outputs": [],
      "source": [
        "%timeit sla.solve(A, b)"
      ]
    },
    {
      "cell_type": "code",
      "execution_count": 13,
      "metadata": {},
      "outputs": [],
      "source": [
        "%timeit P, L, U = sla.lu(A)"
      ]
    },
    {
      "cell_type": "code",
      "execution_count": 14,
      "metadata": {},
      "outputs": [],
      "source": [
        "%timeit sla.solve_triangular(U, y)"
      ]
    },
    {
      "cell_type": "markdown",
      "metadata": {},
      "source": [
        "# Let's take a look at the matrix format"
      ]
    },
    {
      "cell_type": "code",
      "execution_count": 15,
      "metadata": {},
      "outputs": [],
      "source": [
        "plt.figure()\n",
        "plt.subplot(131)\n",
        "plt.spy(A); plt.xticks([]); plt.yticks([]);\n",
        "\n",
        "plt.subplot(132)\n",
        "plt.spy(L); plt.xticks([]); plt.yticks([]);\n",
        "\n",
        "plt.subplot(133)\n",
        "plt.spy(U); plt.xticks([]); plt.yticks([]);"
      ]
    },
    {
      "cell_type": "code",
      "execution_count": 16,
      "metadata": {
        "collapsed": true
      },
      "outputs": [],
      "source": [
        " A_csr = sparse.csr_matrix(A)"
      ]
    },
    {
      "cell_type": "code",
      "execution_count": 17,
      "metadata": {},
      "outputs": [],
      "source": [
        "%timeit sparse.linalg.spsolve(A_csr,b)"
      ]
    },
    {
      "cell_type": "code",
      "execution_count": 18,
      "metadata": {},
      "outputs": [],
      "source": [
        "x_solve_3 = sparse.linalg.spsolve(A_csr,b)\n",
        "plt.imshow(x_solve_3.reshape(xmat.shape))"
      ]
    },
    {
      "cell_type": "markdown",
      "metadata": {},
      "source": [
        "# Now add some noise"
      ]
    },
    {
      "cell_type": "code",
      "execution_count": 24,
      "metadata": {},
      "outputs": [],
      "source": [
        "b_noisy = b + 1e-2 * np.random.rand(b.size)\n",
        "\n",
        "y = sla.solve_triangular(L, np.dot(P.T, b_noisy), lower=True)\n",
        "x_solve = sla.solve_triangular(U, y)\n",
        "\n",
        "plt.imshow(x_solve.reshape(xmat.shape))\n"
      ]
    },
    {
      "cell_type": "code",
      "execution_count": null,
      "metadata": {
        "collapsed": true
      },
      "outputs": [],
      "source": []
    }
  ],
  "metadata": {
    "kernelspec": {
      "display_name": "Python 3",
      "language": "python",
      "name": "python3"
    },
    "language_info": {
      "codemirror_mode": {
        "name": "ipython",
        "version": 3
      },
      "file_extension": ".py",
      "mimetype": "text/x-python",
      "name": "python",
      "nbconvert_exporter": "python",
      "pygments_lexer": "ipython3",
      "version": "3.6.9"
    }
  },
  "nbformat": 4,
  "nbformat_minor": 2
}