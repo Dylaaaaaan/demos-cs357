{
 "cells": [
  {
   "cell_type": "markdown",
   "metadata": {},
   "source": [
    "# Inverting image operations"
   ]
  },
  {
   "cell_type": "code",
   "execution_count": null,
   "metadata": {
    "collapsed": true
   },
   "outputs": [],
   "source": [
    "import numpy as np\n",
    "import numpy.linalg as la\n",
    "import matplotlib as mpl\n",
    "import matplotlib.pyplot as plt\n",
    "import scipy.sparse as sparse\n",
    "import scipy.sparse.linalg as spla\n",
    "%matplotlib inline\n",
    "\n",
    "# https://matplotlib.org/users/customizing.html\n",
    "# print(plt.style.available) # uncomment to print all styles\n",
    "import seaborn as sns\n",
    "sns.set(font_scale=2)\n",
    "plt.style.use('seaborn-whitegrid')\n",
    "mpl.rcParams['figure.figsize'] = (10.0, 8.0)"
   ]
  },
  {
   "cell_type": "markdown",
   "metadata": {},
   "source": [
    "## Import an image of a Social Security Number"
   ]
  },
  {
   "cell_type": "code",
   "execution_count": null,
   "metadata": {
    "scrolled": true
   },
   "outputs": [],
   "source": [
    "from PIL import Image\n",
    "img = Image.open('ssn.png')\n",
    "xmat = (255 - np.asarray(img).max(axis=2))/255\n",
    "plt.imshow(xmat);"
   ]
  },
  {
   "cell_type": "code",
   "execution_count": null,
   "metadata": {},
   "outputs": [],
   "source": [
    "xmat.shape"
   ]
  },
  {
   "cell_type": "code",
   "execution_count": null,
   "metadata": {},
   "outputs": [],
   "source": [
    "plt.figure(figsize=(10,3))\n",
    "plt.plot(xmat[20,:])"
   ]
  },
  {
   "cell_type": "markdown",
   "metadata": {},
   "source": [
    "## Flatten the image into a vector"
   ]
  },
  {
   "cell_type": "code",
   "execution_count": null,
   "metadata": {},
   "outputs": [],
   "source": [
    "x = xmat.flatten()\n",
    "x.shape"
   ]
  },
  {
   "cell_type": "markdown",
   "metadata": {},
   "source": [
    "## Construct a \"blur\" matrix"
   ]
  },
  {
   "cell_type": "code",
   "execution_count": null,
   "metadata": {
    "collapsed": true
   },
   "outputs": [],
   "source": [
    "def setup_filter_parameters(rmin,nelx,nely):\n",
    "    # Filter: Build (and assemble) the index+data vectors for the coo matrix format\n",
    "    nfilter=int(nelx*nely*((2*(np.ceil(rmin)-1)+1)**2))\n",
    "    iH = np.zeros(nfilter)\n",
    "    jH = np.zeros(nfilter)\n",
    "    sH = np.zeros(nfilter)\n",
    "    cc=0\n",
    "    for i in range(nelx):\n",
    "        for j in range(nely):\n",
    "            row=i*nely+j\n",
    "            kk1=int(np.maximum(i-(np.ceil(rmin)-1),0))\n",
    "            kk2=int(np.minimum(i+np.ceil(rmin),nelx))\n",
    "            ll1=int(np.maximum(j-(np.ceil(rmin)-1),0))\n",
    "            ll2=int(np.minimum(j+np.ceil(rmin),nely))\n",
    "            for k in range(kk1,kk2):\n",
    "                for l in range(ll1,ll2):\n",
    "                    col=k*nely+l\n",
    "                    fac=rmin-np.sqrt(((i-k)*(i-k)+(j-l)*(j-l)))\n",
    "                    iH[cc]=row\n",
    "                    jH[cc]=col\n",
    "                    sH[cc]=np.maximum(0.0,fac/rmin)\n",
    "                    cc=cc+1\n",
    "    # Finalize assembly and convert to csc format\n",
    "    H=sparse.coo_matrix((sH,(iH,jH)),shape=(nelx*nely,nelx*nely)).tocsc()\n",
    "    return H\n",
    "\n",
    "rmin = 6\n",
    "nelx = xmat.shape[0]\n",
    "nely = xmat.shape[1]\n",
    "A = setup_filter_parameters(rmin,nelx,nely)"
   ]
  },
  {
   "cell_type": "code",
   "execution_count": null,
   "metadata": {},
   "outputs": [],
   "source": [
    "plt.spy(A)"
   ]
  },
  {
   "cell_type": "markdown",
   "metadata": {},
   "source": [
    "## Compute y = A x"
   ]
  },
  {
   "cell_type": "code",
   "execution_count": null,
   "metadata": {
    "collapsed": true
   },
   "outputs": [],
   "source": [
    "y = A @ x"
   ]
  },
  {
   "cell_type": "code",
   "execution_count": null,
   "metadata": {},
   "outputs": [],
   "source": [
    "plt.imshow(y.reshape(xmat.shape));\n"
   ]
  },
  {
   "cell_type": "code",
   "execution_count": null,
   "metadata": {},
   "outputs": [],
   "source": [
    "y2D=x.reshape(xmat.shape)\n",
    "plt.imshow(y2D)\n",
    "plt.axis([20,35,25,15])"
   ]
  },
  {
   "cell_type": "markdown",
   "metadata": {},
   "source": [
    "## Assume we have the blurred image, solve for the unblurred one"
   ]
  },
  {
   "cell_type": "code",
   "execution_count": null,
   "metadata": {
    "collapsed": true
   },
   "outputs": [],
   "source": [
    "x_solve = spla.spsolve(A, y)"
   ]
  },
  {
   "cell_type": "code",
   "execution_count": null,
   "metadata": {},
   "outputs": [],
   "source": [
    "plt.imshow(x_solve.reshape(xmat.shape));"
   ]
  },
  {
   "cell_type": "markdown",
   "metadata": {},
   "source": [
    "## What if our blurred image was slightly noisy?"
   ]
  },
  {
   "cell_type": "code",
   "execution_count": null,
   "metadata": {
    "collapsed": true
   },
   "outputs": [],
   "source": [
    "y_noisy = y + 1e-5 * np.random.rand(y.size)"
   ]
  },
  {
   "cell_type": "code",
   "execution_count": null,
   "metadata": {},
   "outputs": [],
   "source": [
    "plt.imshow(y_noisy.reshape(xmat.shape));"
   ]
  },
  {
   "cell_type": "code",
   "execution_count": null,
   "metadata": {
    "collapsed": true
   },
   "outputs": [],
   "source": [
    "x_noisy = spla.spsolve(A, y_noisy)"
   ]
  },
  {
   "cell_type": "code",
   "execution_count": null,
   "metadata": {},
   "outputs": [],
   "source": [
    "plt.imshow(x_noisy.reshape(xmat.shape));"
   ]
  },
  {
   "cell_type": "markdown",
   "metadata": {},
   "source": [
    "What if we change the noise coefficient to 1e-5, 1e-4, or even 1e-3?"
   ]
  },
  {
   "cell_type": "code",
   "execution_count": null,
   "metadata": {
    "collapsed": true
   },
   "outputs": [],
   "source": []
  },
  {
   "cell_type": "code",
   "execution_count": null,
   "metadata": {
    "collapsed": true
   },
   "outputs": [],
   "source": []
  }
 ],
 "metadata": {
  "kernelspec": {
   "display_name": "Python 3",
   "language": "python",
   "name": "python3"
  },
  "language_info": {
   "codemirror_mode": {
    "name": "ipython",
    "version": 3
   },
   "file_extension": ".py",
   "mimetype": "text/x-python",
   "name": "python",
   "nbconvert_exporter": "python",
   "pygments_lexer": "ipython3",
   "version": "3.6.3"
  }
 },
 "nbformat": 4,
 "nbformat_minor": 2
}
