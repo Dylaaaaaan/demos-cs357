{
  "cells": [
    {
      "cell_type": "code",
      "execution_count": 1,
      "metadata": {
        "collapsed": true
      },
      "outputs": [],
      "source": [
        "import numpy.linalg as la\n",
        "import numpy as np"
      ]
    },
    {
      "cell_type": "code",
      "execution_count": 2,
      "metadata": {
        "collapsed": true
      },
      "outputs": [],
      "source": [
        "ndim = np.array([2,3,8,11,14])"
      ]
    },
    {
      "cell_type": "markdown",
      "metadata": {},
      "source": [
        "Let's perform linear solves for matrices with increasing size \"n\", for a problem in which we know what the solution would be."
      ]
    },
    {
      "cell_type": "code",
      "execution_count": 4,
      "metadata": {},
      "outputs": [],
      "source": [
        "for nd in ndim:\n",
        "    ## This is the vector 'x' that we want to obtain (the exact one)\n",
        "    x = np.ones(nd)\n",
        "    ## Create a matrix with random values between 0 and 1\n",
        "    A = np.random.rand(nd,nd)\n",
        "    ## We compute the matrix-vector multiplication \n",
        "    ## to find the right-hand side b\n",
        "    b = A @ x\n",
        "    ## We now use the linear algebra pack to compute Ax = b and solve for x\n",
        "    x_solve = la.solve(A,b)\n",
        "    ## What do we expect? \n",
        "    print(\"------ N =\", nd, \"----------\")\n",
        "    error = x_solve-x\n",
        "    print(\"Norm of error = \", la.norm(error,2)) "
      ]
    },
    {
      "cell_type": "code",
      "execution_count": 6,
      "metadata": {},
      "outputs": [],
      "source": [
        "print(x_solve)"
      ]
    },
    {
      "cell_type": "markdown",
      "metadata": {},
      "source": [
        "Now we will perform the same computation, but for a special matrix, known as the Hilbert matrix"
      ]
    },
    {
      "cell_type": "code",
      "execution_count": 8,
      "metadata": {
        "collapsed": true
      },
      "outputs": [],
      "source": [
        "def Hilbert(n):\n",
        "    \n",
        "    H = np.zeros((n, n))    \n",
        "    for i in range(n):        \n",
        "        for j in range(n):        \n",
        "            H[i,j] = 1.0/(j+i+1)    \n",
        "    return H"
      ]
    },
    {
      "cell_type": "code",
      "execution_count": 9,
      "metadata": {},
      "outputs": [],
      "source": [
        "for nd in ndim:\n",
        "    ## This is the vector 'x' that we want to obtain (the exact one)\n",
        "    x = np.ones(nd)\n",
        "    ## Create the Hilbert matrix\n",
        "    A = Hilbert(nd)\n",
        "    ## We compute the matrix-vector multiplication \n",
        "    ## to find the right-hand side b\n",
        "    b = A @ x\n",
        "    \n",
        "    ## We now use the linear algebra pack to compute Ax = b and solve for x\n",
        "    x_solve = la.solve(A,b)\n",
        "    ## What do we expect? \n",
        "    print(\"------ N =\", nd, \"----------\")\n",
        "    error = x_solve-x\n",
        "    print(\"Norm of error = \", la.norm(error,2)) "
      ]
    },
    {
      "cell_type": "code",
      "execution_count": 10,
      "metadata": {},
      "outputs": [],
      "source": [
        "print(x_solve)"
      ]
    },
    {
      "cell_type": "markdown",
      "metadata": {},
      "source": [
        "### What went wrong?"
      ]
    },
    {
      "cell_type": "markdown",
      "metadata": {},
      "source": [
        "## Condition number"
      ]
    },
    {
      "cell_type": "markdown",
      "metadata": {},
      "source": [
        "The solution to this linear system is extremely sensitive to small changes in the matrix entries and the right-hand side entries. What is the condition number of the Hilbert matrix?"
      ]
    },
    {
      "cell_type": "code",
      "execution_count": 11,
      "metadata": {},
      "outputs": [],
      "source": [
        "for nd in ndim:\n",
        "    ## This is the vector 'x' that we want to obtain (the exact one)\n",
        "    x = np.ones(nd)\n",
        "    ## Create the Hilbert matrix\n",
        "    A = Hilbert(nd)\n",
        "    ## We compute the matrix-vector multiplication \n",
        "    ## to find the right-hand side b\n",
        "    b = A @ x\n",
        "    ## We now use the linear algebra pack to compute Ax = b and solve for x\n",
        "    x_solve = la.solve(A,b)\n",
        "    ## What do we expect? \n",
        "    print(\"------ N =\", nd, \"----------\")\n",
        "    error = x_solve-x\n",
        "    print(\"Norm of error = \", la.norm(error,2)) \n",
        "    print(\"Condition number = \", la.cond(A,2))"
      ]
    },
    {
      "cell_type": "markdown",
      "metadata": {
        "collapsed": true
      },
      "source": [
        "## Residual"
      ]
    },
    {
      "cell_type": "code",
      "execution_count": null,
      "metadata": {},
      "outputs": [],
      "source": [
        "for nd in ndim:\n",
        "    ## This is the vector 'x' that we want to obtain (the exact one)\n",
        "    x = np.ones(nd)\n",
        "    ## Create the Hilbert matrix\n",
        "    A = Hilbert(nd)\n",
        "    ## We compute the matrix-vector multiplication \n",
        "    ## to find the right-hand side b\n",
        "    b = A @ x\n",
        "    ## We now use the linear algebra pack to compute Ax = b and solve for x\n",
        "    x_solve = la.solve(A,b)\n",
        "    ## What do we expect? \n",
        "    print(\"------ N =\", nd, \"----------\")\n",
        "    error = x_solve-x\n",
        "    residual = A@x_solve - b\n",
        "    print(\"Error norm = \", la.norm(error,2)) \n",
        "    print(\"Residual norm = \", la.norm(residual,2)) \n",
        "    print(\"Condition number = \", la.cond(A,2))"
      ]
    },
    {
      "cell_type": "code",
      "execution_count": null,
      "metadata": {},
      "outputs": [],
      "source": [
        "x_solve"
      ]
    },
    {
      "cell_type": "markdown",
      "metadata": {},
      "source": [
        "## Rule of thumb"
      ]
    },
    {
      "cell_type": "code",
      "execution_count": null,
      "metadata": {},
      "outputs": [],
      "source": [
        "for nd in ndim:\n",
        "    ## This is the vector 'x' that we want to obtain (the exact one)\n",
        "    x = np.ones(nd)\n",
        "    ## Create the Hilbert matrix\n",
        "    A = Hilbert(nd)\n",
        "    ## We compute the matrix-vector multiplication \n",
        "    ## to find the right-hand side b\n",
        "    b = A @ x\n",
        "    ## We now use the linear algebra pack to compute Ax = b and solve for x\n",
        "    x_solve = la.solve(A,b)\n",
        "    ## What do we expect? \n",
        "    print(\"------ N =\", nd, \"----------\")\n",
        "    error = x_solve-x\n",
        "    residual = A@x_solve - b\n",
        "    print(\"Error norm = \", la.norm(error,2)) \n",
        "    print(\"|dx| < \", la.norm(x)*la.cond(A,2)*10**(-16))\n",
        "    print(\"Condition number = \", la.cond(A,2))"
      ]
    },
    {
      "cell_type": "code",
      "execution_count": null,
      "metadata": {
        "collapsed": true
      },
      "outputs": [],
      "source": []
    }
  ],
  "metadata": {
    "kernelspec": {
      "display_name": "Python 3",
      "language": "python",
      "name": "python3"
    },
    "language_info": {
      "codemirror_mode": {
        "name": "ipython",
        "version": 3
      },
      "file_extension": ".py",
      "mimetype": "text/x-python",
      "name": "python",
      "nbconvert_exporter": "python",
      "pygments_lexer": "ipython3",
      "version": "3.6.9"
    }
  },
  "nbformat": 4,
  "nbformat_minor": 2
}