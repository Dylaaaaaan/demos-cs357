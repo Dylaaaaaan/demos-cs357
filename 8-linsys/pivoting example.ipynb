{
 "cells": [
  {
   "cell_type": "code",
   "execution_count": 1,
   "metadata": {
    "collapsed": true
   },
   "outputs": [],
   "source": [
    "import numpy as np\n",
    "import matplotlib as mpl\n",
    "import matplotlib.pyplot as plt\n",
    "import scipy.linalg as sla\n",
    "%matplotlib inline\n",
    "\n",
    "# https://matplotlib.org/users/customizing.html\n",
    "# print(plt.style.available) # uncomment to print all styles\n",
    "import seaborn as sns\n",
    "sns.set(font_scale=2)\n",
    "plt.style.use('seaborn-whitegrid')\n",
    "mpl.rcParams['figure.figsize'] = (10.0, 8.0)"
   ]
  },
  {
   "cell_type": "markdown",
   "metadata": {},
   "source": [
    "# Let's try an example\n",
    "\n",
    "Here's a nice one http://web.mit.edu/10.001/Web/Course_Notes/GaussElimPivoting.html"
   ]
  },
  {
   "cell_type": "code",
   "execution_count": 2,
   "metadata": {},
   "outputs": [
    {
     "name": "stdout",
     "output_type": "stream",
     "text": [
      "[[2 1 1 0]\n",
      " [4 3 3 1]\n",
      " [8 7 9 5]\n",
      " [6 7 9 8]]\n"
     ]
    }
   ],
   "source": [
    "A = np.array([\n",
    "    [2,1,1,0],\n",
    "    [4,3,3,1],\n",
    "    [8,7,9,5],\n",
    "    [6,7,9,8]\n",
    "])\n",
    "np.set_printoptions(precision=2, suppress=True)\n",
    "print(A)"
   ]
  },
  {
   "cell_type": "code",
   "execution_count": 3,
   "metadata": {
    "collapsed": true
   },
   "outputs": [],
   "source": [
    "P, L, U = sla.lu(A)"
   ]
  },
  {
   "cell_type": "code",
   "execution_count": 4,
   "metadata": {},
   "outputs": [
    {
     "name": "stdout",
     "output_type": "stream",
     "text": [
      "[[ 0.  0.  1.  0.]\n",
      " [ 0.  0.  0.  1.]\n",
      " [ 0.  1.  0.  0.]\n",
      " [ 1.  0.  0.  0.]]\n",
      "[[ 1.    0.    0.    0.  ]\n",
      " [ 0.75  1.    0.    0.  ]\n",
      " [ 0.5  -0.29  1.    0.  ]\n",
      " [ 0.25 -0.43  0.33  1.  ]]\n",
      "[[ 8.    7.    9.    5.  ]\n",
      " [ 0.    1.75  2.25  4.25]\n",
      " [ 0.    0.   -0.86 -0.29]\n",
      " [ 0.    0.    0.    0.67]]\n"
     ]
    }
   ],
   "source": [
    "print(P.T)\n",
    "print(L)\n",
    "print(U)"
   ]
  },
  {
   "cell_type": "code",
   "execution_count": 5,
   "metadata": {},
   "outputs": [
    {
     "name": "stdout",
     "output_type": "stream",
     "text": [
      "[[ 8.  7.  9.  5.]\n",
      " [ 6.  7.  9.  8.]\n",
      " [ 4.  3.  3.  1.]\n",
      " [ 2.  1.  1.  0.]]\n"
     ]
    }
   ],
   "source": [
    "print(np.dot(P.T, A))"
   ]
  },
  {
   "cell_type": "code",
   "execution_count": 6,
   "metadata": {},
   "outputs": [
    {
     "name": "stdout",
     "output_type": "stream",
     "text": [
      "[[ 8.  7.  9.  5.]\n",
      " [ 6.  7.  9.  8.]\n",
      " [ 4.  3.  3.  1.]\n",
      " [ 2.  1.  1.  0.]]\n"
     ]
    }
   ],
   "source": [
    "print(np.dot(L, U))"
   ]
  },
  {
   "cell_type": "code",
   "execution_count": null,
   "metadata": {
    "collapsed": true
   },
   "outputs": [],
   "source": []
  }
 ],
 "metadata": {
  "kernelspec": {
   "display_name": "Python 3",
   "language": "python",
   "name": "python3"
  },
  "language_info": {
   "codemirror_mode": {
    "name": "ipython",
    "version": 3
   },
   "file_extension": ".py",
   "mimetype": "text/x-python",
   "name": "python",
   "nbconvert_exporter": "python",
   "pygments_lexer": "ipython3",
   "version": "3.6.3"
  }
 },
 "nbformat": 4,
 "nbformat_minor": 2
}
