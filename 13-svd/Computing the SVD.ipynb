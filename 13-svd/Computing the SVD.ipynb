{
  "cells": [
    {
      "cell_type": "markdown",
      "metadata": {},
      "source": [
        "# Computing the SVD"
      ]
    },
    {
      "cell_type": "code",
      "execution_count": 27,
      "metadata": {
        "collapsed": true
      },
      "outputs": [],
      "source": [
        "import numpy as np\n",
        "import numpy.linalg as la"
      ]
    },
    {
      "cell_type": "markdown",
      "metadata": {},
      "source": [
        "## 1) For a square matrix"
      ]
    },
    {
      "cell_type": "code",
      "execution_count": 37,
      "metadata": {},
      "outputs": [
        {
          "name": "stdout",
          "output_type": "stream",
          "text": [
            "[[ 1.42306309 -1.24203693 -0.93723067 -2.0891819 ]\n",
            " [-0.75566914  2.22185875 -0.72213972  1.72900854]\n",
            " [-0.53615049 -1.67399197 -0.94643061  0.32664051]\n",
            " [ 0.59359804  1.58629795  1.5037636  -0.98707451]]\n"
          ]
        }
      ],
      "source": [
        "m = 4\n",
        "n = m\n",
        "A = np.random.randn(m, n)\n",
        "print(A)"
      ]
    },
    {
      "cell_type": "markdown",
      "metadata": {},
      "source": [
        "### Using numpy.linalg.svd"
      ]
    },
    {
      "cell_type": "code",
      "execution_count": 60,
      "metadata": {
        "collapsed": true
      },
      "outputs": [],
      "source": [
        "U, S, Vt = la.svd(A)"
      ]
    },
    {
      "cell_type": "code",
      "execution_count": 61,
      "metadata": {},
      "outputs": [
        {
          "name": "stdout",
          "output_type": "stream",
          "text": [
            "[[-0.66398367 -0.2123579  -0.71524382  0.04955897]\n",
            " [ 0.68138956  0.1960955  -0.67713964  0.19681649]\n",
            " [-0.25888667  0.56114452  0.12748125  0.77578544]\n",
            " [ 0.16676826 -0.77560783  0.11686194  0.59746475]]\n",
            "(4, 4)\n"
          ]
        }
      ],
      "source": [
        "print(U)\n",
        "print(U.shape)"
      ]
    },
    {
      "cell_type": "code",
      "execution_count": 62,
      "metadata": {},
      "outputs": [
        {
          "name": "stdout",
          "output_type": "stream",
          "text": [
            "[[-0.30110577  0.74822109  0.15426018  0.5707051 ]\n",
            " [-0.39693586 -0.4816553  -0.53726629  0.5672698 ]\n",
            " [-0.33998961 -0.43358196  0.81740312  0.16812463]\n",
            " [-0.79761163  0.14205653 -0.13928701 -0.56941616]]\n",
            "(4, 4)\n"
          ]
        }
      ],
      "source": [
        "print(Vt)\n",
        "print(Vt.T.shape)"
      ]
    },
    {
      "cell_type": "code",
      "execution_count": 63,
      "metadata": {},
      "outputs": [
        {
          "name": "stdout",
          "output_type": "stream",
          "text": [
            "[4.05837523 3.05248106 1.48570324 0.17488016]\n",
            "(4,)\n"
          ]
        }
      ],
      "source": [
        "print(S)\n",
        "print(S.shape)"
      ]
    },
    {
      "cell_type": "markdown",
      "metadata": {},
      "source": [
        "### Using eigen-decomposition"
      ]
    },
    {
      "cell_type": "markdown",
      "metadata": {},
      "source": [
        "Now compute the eigenvalues and eigenvectors of $A^TA$ as `eigvals` and `eigvecs`"
      ]
    },
    {
      "cell_type": "code",
      "execution_count": 64,
      "metadata": {
        "collapsed": true
      },
      "outputs": [],
      "source": [
        "eigvals, eigvecs = la.eig(A.T.dot(A))"
      ]
    },
    {
      "cell_type": "markdown",
      "metadata": {},
      "source": [
        "Eigenvalues are real and positive. Coincidence?"
      ]
    },
    {
      "cell_type": "code",
      "execution_count": 65,
      "metadata": {},
      "outputs": [
        {
          "data": {
            "text/plain": [
              "array([16.47040952,  9.31764063,  0.03058307,  2.20731411])"
            ]
          },
          "execution_count": 65,
          "metadata": {},
          "output_type": "execute_result"
        }
      ],
      "source": [
        "eigvals"
      ]
    },
    {
      "cell_type": "markdown",
      "metadata": {},
      "source": [
        "`eigvecs` are orthonormal! Check:"
      ]
    },
    {
      "cell_type": "code",
      "execution_count": 66,
      "metadata": {},
      "outputs": [
        {
          "data": {
            "text/plain": [
              "array([[ 1.00000000e+00,  3.88578059e-16,  0.00000000e+00,\n",
              "        -1.38777878e-16],\n",
              "       [ 3.88578059e-16,  1.00000000e+00, -2.77555756e-17,\n",
              "        -3.33066907e-16],\n",
              "       [ 0.00000000e+00, -2.77555756e-17,  1.00000000e+00,\n",
              "         4.16333634e-16],\n",
              "       [-1.38777878e-16, -3.33066907e-16,  4.16333634e-16,\n",
              "         1.00000000e+00]])"
            ]
          },
          "execution_count": 66,
          "metadata": {},
          "output_type": "execute_result"
        }
      ],
      "source": [
        "eigvecs.T @ eigvecs "
      ]
    },
    {
      "cell_type": "markdown",
      "metadata": {},
      "source": [
        "Now piece together the SVD:"
      ]
    },
    {
      "cell_type": "code",
      "execution_count": 73,
      "metadata": {
        "collapsed": true
      },
      "outputs": [],
      "source": [
        "S2 = np.sqrt(eigvals)\n",
        "V2 = eigvecs\n",
        "U2 = A @ V2 @ la.inv(np.diag(S2))"
      ]
    },
    {
      "cell_type": "markdown",
      "metadata": {},
      "source": [
        "## 2) For a nnon-square square matrix"
      ]
    },
    {
      "cell_type": "code",
      "execution_count": 89,
      "metadata": {},
      "outputs": [
        {
          "name": "stdout",
          "output_type": "stream",
          "text": [
            "[[ 1.18363425 -0.34818317 -1.89959274  0.55446767 -1.59147727]\n",
            " [ 0.19794113 -1.95160646  0.27558341  0.93666225 -0.38931728]\n",
            " [ 1.45876852 -0.14058534  0.72291651  1.43042735  0.99827354]]\n"
          ]
        }
      ],
      "source": [
        "m = 3\n",
        "n = 5\n",
        "A = np.random.randn(m, n)\n",
        "print(A)"
      ]
    },
    {
      "cell_type": "code",
      "execution_count": 90,
      "metadata": {
        "collapsed": true
      },
      "outputs": [],
      "source": [
        "U, S, Vt = la.svd(A,full_matrices=True)"
      ]
    },
    {
      "cell_type": "code",
      "execution_count": 91,
      "metadata": {},
      "outputs": [
        {
          "name": "stdout",
          "output_type": "stream",
          "text": [
            "[[-0.89303791  0.34321089  0.29101474]\n",
            " [-0.43033767 -0.46240657 -0.77523523]\n",
            " [-0.13150204 -0.81754905  0.56064317]]\n",
            "(3, 3)\n",
            "[[-0.45359036  0.3975683   0.50415236 -0.36937045  0.49557149]\n",
            " [-0.33549725  0.34312616 -0.5237104  -0.53970428 -0.45183265]\n",
            " [ 0.56937104  0.75220407 -0.2038258   0.13386068  0.22481552]\n",
            " [-0.5954303   0.25135987 -0.22752045  0.72785242  0.02731793]\n",
            " [-0.05455968 -0.30856302 -0.61501813 -0.15683409  0.70637658]]\n",
            "(5, 5)\n",
            "[2.941074   2.61673664 1.77187214]\n",
            "(3,)\n"
          ]
        }
      ],
      "source": [
        "print(U)\n",
        "print(U.shape)\n",
        "\n",
        "print(Vt)\n",
        "print(Vt.T.shape)\n",
        "\n",
        "print(S)\n",
        "print(S.shape)"
      ]
    },
    {
      "cell_type": "code",
      "execution_count": 92,
      "metadata": {},
      "outputs": [
        {
          "name": "stdout",
          "output_type": "stream",
          "text": [
            "[ 3.13953087e+00  8.64991627e+00  6.84731066e+00  2.37949537e-16\n",
            " -7.70846804e-17]\n"
          ]
        }
      ],
      "source": [
        "eigvals, eigvecs = la.eig(A.T.dot(A))\n",
        "print(eigvals)"
      ]
    },
    {
      "cell_type": "code",
      "execution_count": null,
      "metadata": {
        "collapsed": true
      },
      "outputs": [],
      "source": []
    },
    {
      "cell_type": "code",
      "execution_count": null,
      "metadata": {
        "collapsed": true
      },
      "outputs": [],
      "source": []
    }
  ],
  "metadata": {
    "kernelspec": {
      "display_name": "Python 3",
      "language": "python",
      "name": "python3"
    },
    "language_info": {
      "codemirror_mode": {
        "name": "ipython",
        "version": 3
      },
      "file_extension": ".py",
      "mimetype": "text/x-python",
      "name": "python",
      "nbconvert_exporter": "python",
      "pygments_lexer": "ipython3",
      "version": "3.6.9"
    },
    "widgets": {
      "state": {},
      "version": "1.1.2"
    }
  },
  "nbformat": 4,
  "nbformat_minor": 1
}