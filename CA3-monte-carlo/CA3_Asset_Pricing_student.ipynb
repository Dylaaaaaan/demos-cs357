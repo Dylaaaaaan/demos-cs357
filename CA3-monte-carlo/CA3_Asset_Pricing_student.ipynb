{
  "cells": [
    {
      "cell_type": "code",
      "execution_count": 1,
      "metadata": {
        "collapsed": true
      },
      "outputs": [],
      "source": [
        "import numpy as np\n",
        "import matplotlib.pyplot as plt\n",
        "%matplotlib inline"
      ]
    },
    {
      "cell_type": "markdown",
      "metadata": {},
      "source": [
        "# Asset Pricing\n",
        "\n",
        "Suppose that we are interested in investing in a specific stock. We may want to try and predict what the future price might be with some probability in order for us to determine whether or not we should invest.\n",
        "\n",
        "The simplest way to model the movement of the price of an asset in a market with no moving forces is to assume that the price changes with some random magnitude and direction (the random walk theory)"
      ]
    },
    {
      "cell_type": "markdown",
      "metadata": {},
      "source": [
        "We will implement this \"random walk\" by first simulating the roll of a dice.\n",
        "\n",
        "### Write a function called `dice` that will roll an integer number from 1 to 6."
      ]
    },
    {
      "cell_type": "code",
      "execution_count": null,
      "metadata": {
        "collapsed": true
      },
      "outputs": [],
      "source": []
    },
    {
      "cell_type": "markdown",
      "metadata": {},
      "source": [
        "The function `dice` will now tell us by how much the price is changing after one time step. Now, we need to know whether the price is increasing or decreasing.\n",
        "\n",
        "How can we determine whether to increase or decrease the price? By doing a coin flip!\n",
        "\n",
        "### Write a function called `flip` that will randomly choose between -1 (decreasing price) or +1 (increasing price).\n",
        "_Hint_: Using `numpy.random.choice might` be helpful here."
      ]
    },
    {
      "cell_type": "code",
      "execution_count": null,
      "metadata": {
        "collapsed": true
      },
      "outputs": [],
      "source": []
    },
    {
      "cell_type": "markdown",
      "metadata": {},
      "source": [
        "By combining these two functions, we are able to obtain the price change at a given time. \n",
        "\n",
        "Here we will assume that a coin flip combined with a dice roll gives the price change for a given day."
      ]
    },
    {
      "cell_type": "markdown",
      "metadata": {},
      "source": [
        "### 1) Numerical experiment to simulate the asset price variation for a period of 10 days\n",
        "\n",
        "Create the numpy array `simulation10` to store the random asset price variation for each day using the functions `dice` and `flip`"
      ]
    },
    {
      "cell_type": "code",
      "execution_count": null,
      "metadata": {
        "collapsed": true
      },
      "outputs": [],
      "source": [
        "N = 10 # number of days"
      ]
    },
    {
      "cell_type": "code",
      "execution_count": null,
      "metadata": {
        "collapsed": true
      },
      "outputs": [],
      "source": []
    },
    {
      "cell_type": "markdown",
      "metadata": {},
      "source": [
        "Use `plt.hist` to plot the histogram of the distribution of asset price variation (i.e. your `simulation10` array). We basically want to see how many times our simulation gives us -1, or -2, and so on..."
      ]
    },
    {
      "cell_type": "code",
      "execution_count": null,
      "metadata": {},
      "outputs": [],
      "source": [
        "plt.hist(simulation10, 13)\n",
        "plt.title('Simulation of 10 Dice Rolls')\n",
        "plt.xlabel('Result of Dice Roll')\n",
        "plt.ylabel('Number of Occurrences')"
      ]
    },
    {
      "cell_type": "markdown",
      "metadata": {},
      "source": [
        "What would you expect the histogram to look like if we repeated the numerical experiment above for a significantly larger amount of time steps (more days)? \n",
        "\n",
        "Can you tell what type of distribution we are sampling from in this simulation? \n",
        "\n",
        "Try to reflect about the above questions before repeating the numerical experiment for N = 10000 days"
      ]
    },
    {
      "cell_type": "code",
      "execution_count": null,
      "metadata": {
        "collapsed": true
      },
      "outputs": [],
      "source": [
        "N = 10000"
      ]
    },
    {
      "cell_type": "code",
      "execution_count": null,
      "metadata": {},
      "outputs": [],
      "source": []
    },
    {
      "cell_type": "markdown",
      "metadata": {},
      "source": [
        "The above numerical experiment simulates how much the price changes each day, but does **NOT** calculate the actual asset price after each day.\n",
        "\n",
        "How can we use the above results to find the asset price after each day?\n",
        "\n",
        "We can accomplish this by performing a prefix sum. If we have an array $v$, a prefix sum can be written as\n",
        "$$\n",
        "v[i] = \\sum_{j=0}^{i} v[j],\n",
        "$$\n",
        "where we repeat this for every element in our array.\n",
        "\n",
        "Fortunately for us, python has a built-in function that performs a prefix sum called `cumsum`."
      ]
    },
    {
      "cell_type": "markdown",
      "metadata": {},
      "source": [
        "### 2) Numerical experiment to determine the asset price for each day over a period of 10 days"
      ]
    },
    {
      "cell_type": "markdown",
      "metadata": {},
      "source": [
        "Assume the initial price of the stock is 0. Store the cumulative sum in the array `price10`."
      ]
    },
    {
      "cell_type": "code",
      "execution_count": null,
      "metadata": {
        "collapsed": true
      },
      "outputs": [],
      "source": []
    },
    {
      "cell_type": "markdown",
      "metadata": {},
      "source": [
        "Use `print(price10)` and `print(simulation10)` to take a look at your results. Do you get the expected results according to the expression aboce?"
      ]
    },
    {
      "cell_type": "code",
      "execution_count": null,
      "metadata": {},
      "outputs": [],
      "source": []
    },
    {
      "cell_type": "markdown",
      "metadata": {},
      "source": [
        "Plot your results using `plt.plot(price10)`"
      ]
    },
    {
      "cell_type": "code",
      "execution_count": null,
      "metadata": {},
      "outputs": [],
      "source": [
        "plt.plot(price10)\n",
        "plt.title('10-day Price Prediction')\n",
        "plt.xlabel('Day')\n",
        "plt.ylabel('Price')"
      ]
    },
    {
      "cell_type": "markdown",
      "metadata": {},
      "source": [
        "Does this plot resemble the short-term movement of the stock market? Let's repeat the numerical experiment above over a longer period of time"
      ]
    },
    {
      "cell_type": "markdown",
      "metadata": {},
      "source": [
        "### 3) Numerical experiment to determine the asset price for each day over a period of 1000 days"
      ]
    },
    {
      "cell_type": "markdown",
      "metadata": {},
      "source": [
        "Assume the initial price of the stock is 0. Store the cumulative sum in the array `price` and plot your results using `plt.plot`"
      ]
    },
    {
      "cell_type": "code",
      "execution_count": null,
      "metadata": {
        "collapsed": true
      },
      "outputs": [],
      "source": [
        "N = 1000"
      ]
    },
    {
      "cell_type": "code",
      "execution_count": null,
      "metadata": {},
      "outputs": [],
      "source": []
    },
    {
      "cell_type": "markdown",
      "metadata": {},
      "source": [
        "**Observations**:\n",
        "\n",
        "Performing one time step per day may not be enough to fully capture the randomness of the motion of the market. In practice, these N steps would really represent what the price might be in some shorter period of time (much less than a whole day).\n",
        "\n",
        "Furthermore, performing a single numerical experiment will not give us a realistic expectation of what the price of the stock might be after a certain amount of time since the stock market with no moving forces consists of random movements.\n",
        "\n",
        "Run the code snippet above several times (just do shift-enter again and again). What happens to the asset price after 1000 days?"
      ]
    },
    {
      "cell_type": "markdown",
      "metadata": {},
      "source": [
        "### 4) Perform M=10 different numerical experiments, each one with N = 1000 days"
      ]
    },
    {
      "cell_type": "markdown",
      "metadata": {},
      "source": [
        "For each numerical experiment, determine the array `price` using N = 1000 days. Make sure to store all the M=10 arrays `price` in the 2d array `prices_M`.\n",
        "\n",
        "For this sequence of numerical experiments, assume that the initial asset price is `p0 = 200`"
      ]
    },
    {
      "cell_type": "code",
      "execution_count": null,
      "metadata": {
        "collapsed": true
      },
      "outputs": [],
      "source": [
        "N = 1000 # days\n",
        "M = 10   # number of numerical experiments\n",
        "p0 = 200 # initial asset price"
      ]
    },
    {
      "cell_type": "code",
      "execution_count": null,
      "metadata": {
        "collapsed": true
      },
      "outputs": [],
      "source": []
    },
    {
      "cell_type": "markdown",
      "metadata": {},
      "source": [
        "Then you can plot your results using:"
      ]
    },
    {
      "cell_type": "code",
      "execution_count": null,
      "metadata": {},
      "outputs": [],
      "source": [
        "plt.figure()\n",
        "plt.plot(price_M);\n",
        "plt.title ('M numerical experiments');\n",
        "plt.xlabel('Day');\n",
        "plt.ylabel('Price');"
      ]
    },
    {
      "cell_type": "markdown",
      "metadata": {},
      "source": [
        "We now have a more insightful prediction as to what the price of a given stock might be in the future. Suppose we want to predict the asset price at day 1000. We can just take the last element of the numpy array `price`!\n",
        "\n",
        "Create the variable `predicted_prices` to store the predicted asset prices for day 1000 for all the M=10 numerical experiments. "
      ]
    },
    {
      "cell_type": "code",
      "execution_count": null,
      "metadata": {
        "collapsed": true
      },
      "outputs": [],
      "source": []
    },
    {
      "cell_type": "markdown",
      "metadata": {},
      "source": [
        "Plot the histogram of the predicted price:"
      ]
    },
    {
      "cell_type": "code",
      "execution_count": null,
      "metadata": {},
      "outputs": [],
      "source": [
        "plt.figure()\n",
        "plt.hist(predicted_prices);\n",
        "plt.title('Asset price distribution at day 1000 from M numerical experiments')\n",
        "plt.xlabel('Asset prices')\n",
        "plt.ylabel('Number of Occurrences')"
      ]
    },
    {
      "cell_type": "markdown",
      "metadata": {},
      "source": [
        "**Go back and change the number of numerical experiments**. Set M = 1000 and run again. Better right?"
      ]
    },
    {
      "cell_type": "markdown",
      "metadata": {},
      "source": [
        "You can calculate the mean of the distribution to get the \u201cexpected value\u201d for the stock on day 1000. What do you get?"
      ]
    },
    {
      "cell_type": "code",
      "execution_count": null,
      "metadata": {},
      "outputs": [],
      "source": [
        "predicted_prices.mean()"
      ]
    },
    {
      "cell_type": "markdown",
      "metadata": {},
      "source": [
        "There is one problem with our simple model. Our model does not incorporate any information about our specific stock other than the starting price. In order for us to get a more accurate model, we need to find a way incorporate the previous price of the stock."
      ]
    },
    {
      "cell_type": "markdown",
      "metadata": {},
      "source": [
        "## Black-Scholes Model"
      ]
    },
    {
      "cell_type": "markdown",
      "metadata": {},
      "source": [
        "We will now model stock price behavior using the [Black-Scholes model](https://en.wikipedia.org/wiki/Black_Scholes_model), which employs a type of log-normal distribution to represent the growth of the stock price. Conceptually, this representation consists of two pieces:\n",
        "\n",
        "### 1) Growth based on interest rate only\n",
        "A simplified model based only on the compound interest rate $r$, would tell us that the stock price increases by $e^r$ at every time increment, meaning $S_T = S_{T-1}e^{r}$. Extrapolating the compounded interest growth would imply that\n",
        "    \n",
        "$$ S_T = S_te^{r \\Delta t} $$\n",
        "\n",
        "where\n",
        "\n",
        "   - $S_t$ price of the asset at time $t$\n",
        "   - $S_T$ predicted price of the asset at time $T$\n",
        "   - $r$ is the interest rate\n",
        "   - $\\Delta t$ is the time remaining $(T - t)$\n",
        "\n"
      ]
    },
    {
      "cell_type": "markdown",
      "metadata": {},
      "source": [
        "#### Daily price movements based on interest rate only\n",
        "Assume that at the initial time $t = 0$ the asset price is $S0 = 100$ and the interest rate is $r = 0.05$. Calculate the daily price movements according to the expression above for a period of 252 days (typical number of trading days in a year). Note that here the unit of $t$ is days. Store your results in the array `price_interest_only`. Then plot your results using `plt.plot(price_interest_only)`"
      ]
    },
    {
      "cell_type": "code",
      "execution_count": null,
      "metadata": {
        "collapsed": true
      },
      "outputs": [],
      "source": []
    },
    {
      "cell_type": "code",
      "execution_count": null,
      "metadata": {},
      "outputs": [],
      "source": [
        "plt.plot(price_interest_only)  \n",
        "plt.title('Simulation of Price considering interest rate only')\n",
        "plt.xlabel('Time')\n",
        "plt.ylabel('Price')"
      ]
    },
    {
      "cell_type": "markdown",
      "metadata": {},
      "source": [
        "### 2) Add parameter to model volatility of the market\n",
        "Stock prices evolve over time, with a magnitude dependent on their volatility. The Black Scholes model treats this evolution in terms of a random walk (a sequence of increments/decrements). To use the Black-Scholes model we assume:\n",
        "\n",
        "   - Some volatility or an annualized standard deviation of stock price.  Call this $\\sigma$\n",
        "   - We have a (risk-free) interest rate called $r$; and\n",
        "   - The price of the asset is [geometric Brownian motion](https://en.wikipedia.org/wiki/Geometric_Brownian_motion), or in other words the log of the random process is a normal distribution.\n",
        "\n",
        "which leads to the following expression for the predicted asset price:\n",
        "\n",
        "$$ S_T = S_t e^{(r - \\frac{\\sigma^2}{2})\\Delta T + \\sigma \\sqrt{\\Delta T} \\epsilon}$$\n",
        "\n",
        "where \n",
        "\n",
        "   - $\\sigma$ is the volatility, or standard deviation on returns.\n",
        "   - $\\epsilon$ is a random value sampled from the normal distribution $\\mathcal{N}(0,1)$"
      ]
    },
    {
      "cell_type": "markdown",
      "metadata": {},
      "source": [
        "#### Write a function `St_GBM` that will compute the price of an asset after a period $\\Delta T$\n",
        "\n",
        "```python\n",
        "def St_GBM(St, r, sigma, deltat):\n",
        "    ST = ... # Calculate this\n",
        "    return ST\n",
        "```"
      ]
    },
    {
      "cell_type": "code",
      "execution_count": null,
      "metadata": {
        "collapsed": true
      },
      "outputs": [],
      "source": []
    },
    {
      "cell_type": "markdown",
      "metadata": {},
      "source": [
        "This model now gives us a more accurate way to predict the future price."
      ]
    },
    {
      "cell_type": "markdown",
      "metadata": {},
      "source": [
        "#### Daily price movements based on interest rate and volatility\n",
        "Assume that at the initial time $t = 0$ the asset price is $S0 = 100$, the interest rate is $r = 0.05$ and volatity is $\\sigma = 0.1$. Calculate the daily price movements using `St_GBM` for a period of 252 days (typical number of trading days in a year). Note that here the unit of $t$ is days. Store your results in the array `price`. Then plot your results using `plt.plot(price)`"
      ]
    },
    {
      "cell_type": "code",
      "execution_count": null,
      "metadata": {
        "collapsed": true
      },
      "outputs": [],
      "source": []
    },
    {
      "cell_type": "code",
      "execution_count": null,
      "metadata": {},
      "outputs": [],
      "source": [
        "plt.plot(price)   \n",
        "plt.title('Simulation of Price using Black-Scholes Model')\n",
        "plt.xlabel('Time')\n",
        "plt.ylabel('Price')"
      ]
    },
    {
      "cell_type": "code",
      "execution_count": null,
      "metadata": {},
      "outputs": [],
      "source": [
        "# Plot both models in the same figure\n",
        "plt.plot(price_interest_only)    \n",
        "plt.plot(price,'r')     \n",
        "plt.xlabel('Time')\n",
        "plt.ylabel('Price')"
      ]
    },
    {
      "cell_type": "markdown",
      "metadata": {},
      "source": [
        "#### Unfortunately volatility is usually not this small.... Run the code snippet above to predict the price movement for a volatity $\\sigma = 0.5$"
      ]
    },
    {
      "cell_type": "markdown",
      "metadata": {},
      "source": [
        "So great \u2013 we have managed to successfully simulate a year\u2019s worth of future daily price data. Unfortunately this doesn\u2019t not provide insight into risk and return characteristics of the stock as we only have one randomly generated path. The likelyhood of the actual price evolving exactly as described in the above charts is pretty much zero. We should modify the aboce code to run multiple numerical experiments (or simulations). "
      ]
    },
    {
      "cell_type": "markdown",
      "metadata": {},
      "source": [
        "### Perform M=10 different numerical experiments, each one with N = 252 days"
      ]
    },
    {
      "cell_type": "markdown",
      "metadata": {},
      "source": [
        "For each numerical experiment, determine the array `price` using N = 252 days. Make sure to store all the M=10 arrays `price` in the 2d array `prices_M`.\n",
        "\n",
        "For this sequence of numerical experiments, assume that the initial asset price is `S0 = 100`."
      ]
    },
    {
      "cell_type": "code",
      "execution_count": null,
      "metadata": {
        "collapsed": true
      },
      "outputs": [],
      "source": []
    },
    {
      "cell_type": "markdown",
      "metadata": {},
      "source": [
        "Then plot the result using:"
      ]
    },
    {
      "cell_type": "code",
      "execution_count": null,
      "metadata": {},
      "outputs": [],
      "source": [
        "plt.figure()\n",
        "plt.plot(price_M);\n",
        "plt.title ('M numerical experiments of Black-Scholes Model');\n",
        "plt.xlabel('Day');\n",
        "plt.ylabel('Price');"
      ]
    },
    {
      "cell_type": "markdown",
      "metadata": {},
      "source": [
        "The spread of final prices is quite large! Let's take a further look at this spread. Create the variable `predicted_prices` to store the predicted asset prices for day 252 (last day) for all the M=10 numerical experiments. "
      ]
    },
    {
      "cell_type": "code",
      "execution_count": null,
      "metadata": {
        "collapsed": true
      },
      "outputs": [],
      "source": []
    },
    {
      "cell_type": "markdown",
      "metadata": {},
      "source": [
        "Plot the histogram of the predicted prices:"
      ]
    },
    {
      "cell_type": "code",
      "execution_count": null,
      "metadata": {},
      "outputs": [],
      "source": [
        "plt.figure()\n",
        "plt.hist(predicted_prices,30);\n",
        "plt.title('Predicted asset price distribution at day 252 from M numerical experiments')\n",
        "plt.xlabel('Asset prices')\n",
        "plt.ylabel('Number of Occurrences')"
      ]
    },
    {
      "cell_type": "markdown",
      "metadata": {},
      "source": [
        "Calculate the mean and standard deviation of the distribution for the stock on the last day. What do you get?"
      ]
    },
    {
      "cell_type": "code",
      "execution_count": null,
      "metadata": {},
      "outputs": [],
      "source": []
    },
    {
      "cell_type": "markdown",
      "metadata": {
        "collapsed": true
      },
      "source": [
        "Congratulations! You now have a prediction for a future price for a given stock.\n",
        "\n",
        "But wait ... Do you think you would get a similar prediction if you were to run the above code snippet again?\n",
        "\n",
        "Can you do better?"
      ]
    }
  ],
  "metadata": {
    "kernelspec": {
      "display_name": "Python 3",
      "language": "python",
      "name": "python3"
    },
    "language_info": {
      "codemirror_mode": {
        "name": "ipython",
        "version": 3
      },
      "file_extension": ".py",
      "mimetype": "text/x-python",
      "name": "python",
      "nbconvert_exporter": "python",
      "pygments_lexer": "ipython3",
      "version": "3.6.9"
    }
  },
  "nbformat": 4,
  "nbformat_minor": 2
}