{
 "cells": [
  {
   "cell_type": "markdown",
   "metadata": {},
   "source": [
    "# Power Iteration "
   ]
  },
  {
   "cell_type": "code",
   "execution_count": 33,
   "metadata": {
    "collapsed": true
   },
   "outputs": [],
   "source": [
    "import numpy as np\n",
    "import scipy.linalg as sla\n",
    "import numpy.linalg as la\n",
    "import random\n",
    "import matplotlib.pyplot as plt\n",
    "%matplotlib inline"
   ]
  },
  {
   "cell_type": "markdown",
   "metadata": {},
   "source": [
    "Let's  prepare a matrix with deliberately chosen eigenvalues:"
   ]
  },
  {
   "cell_type": "code",
   "execution_count": 34,
   "metadata": {
    "collapsed": true
   },
   "outputs": [],
   "source": [
    "n = 4\n",
    "\n",
    "X = np.random.rand(n,n)\n",
    "U,_ = sla.qr(X)\n",
    "    \n",
    "D = np.diag([6,2,4,7])\n",
    "\n",
    "A = U@D@U.T\n",
    "\n",
    "eigl, eigv = la.eig(A)"
   ]
  },
  {
   "cell_type": "code",
   "execution_count": 35,
   "metadata": {},
   "outputs": [
    {
     "name": "stdout",
     "output_type": "stream",
     "text": [
      "[ 2.  4.  7.  6.]\n",
      "[-0.46329673  0.42149497  0.24762107 -0.73917652]\n"
     ]
    }
   ],
   "source": [
    "print(eigl)\n",
    "print(eigv[:,0])"
   ]
  },
  {
   "cell_type": "markdown",
   "metadata": {},
   "source": [
    "Let's also pick an initial vector:"
   ]
  },
  {
   "cell_type": "code",
   "execution_count": 36,
   "metadata": {},
   "outputs": [
    {
     "data": {
      "text/plain": [
       "array([ 0.36224482,  2.49003836, -0.09742048,  0.87186088])"
      ]
     },
     "execution_count": 36,
     "metadata": {},
     "output_type": "execute_result"
    }
   ],
   "source": [
    "x0 = np.random.randn(n)\n",
    "x0"
   ]
  },
  {
   "cell_type": "markdown",
   "metadata": {},
   "source": [
    "### Power iteration"
   ]
  },
  {
   "cell_type": "code",
   "execution_count": null,
   "metadata": {
    "collapsed": true
   },
   "outputs": [],
   "source": [
    "x = x0"
   ]
  },
  {
   "cell_type": "markdown",
   "metadata": {},
   "source": [
    "Now implement plain power iteration. Run the below cell in-place (Ctrl-Enter) many times."
   ]
  },
  {
   "cell_type": "code",
   "execution_count": null,
   "metadata": {
    "collapsed": true
   },
   "outputs": [],
   "source": [
    "x = A @ x\n",
    "x"
   ]
  },
  {
   "cell_type": "markdown",
   "metadata": {},
   "source": [
    "* What's the problem with this method?\n",
    "* Does anything useful come of this?\n",
    "* How do we fix it?"
   ]
  },
  {
   "cell_type": "markdown",
   "metadata": {},
   "source": [
    "We can get the corresponding eigenvalue"
   ]
  },
  {
   "cell_type": "code",
   "execution_count": null,
   "metadata": {
    "collapsed": true
   },
   "outputs": [],
   "source": [
    "np.inner(x,A@x)/np.inner(x,x)"
   ]
  },
  {
   "cell_type": "markdown",
   "metadata": {},
   "source": [
    "### Normalized power iteration"
   ]
  },
  {
   "cell_type": "markdown",
   "metadata": {},
   "source": [
    "Back to the beginning: Reset to the initial vector."
   ]
  },
  {
   "cell_type": "code",
   "execution_count": null,
   "metadata": {
    "collapsed": true
   },
   "outputs": [],
   "source": [
    "x = x0/la.norm(x0)"
   ]
  },
  {
   "cell_type": "markdown",
   "metadata": {},
   "source": [
    "Implement normalized power iteration.\n",
    "\n",
    "Run this cell in-place (Ctrl-Enter) many times."
   ]
  },
  {
   "cell_type": "code",
   "execution_count": null,
   "metadata": {
    "collapsed": true,
    "scrolled": true
   },
   "outputs": [],
   "source": [
    "x = A @ x\n",
    "nrm = la.norm(x)\n",
    "x = x/nrm\n",
    "\n",
    "print(nrm)\n",
    "print(x)\n",
    "\n",
    "print(eigl)\n",
    "print(eigv[:,0])"
   ]
  },
  {
   "cell_type": "markdown",
   "metadata": {},
   "source": [
    "* What do you observe about the norm?\n",
    "* What is the vector $x$ now?\n"
   ]
  },
  {
   "cell_type": "code",
   "execution_count": null,
   "metadata": {
    "collapsed": true
   },
   "outputs": [],
   "source": [
    "# Let's evaluate the eigenvalue\n",
    "np.inner(x,A@x)/np.inner(x,x)"
   ]
  },
  {
   "cell_type": "markdown",
   "metadata": {},
   "source": [
    "### Creating a matrix where the dominant eigenvalue is negative"
   ]
  },
  {
   "cell_type": "code",
   "execution_count": null,
   "metadata": {
    "collapsed": true
   },
   "outputs": [],
   "source": [
    "n = 4\n",
    "    \n",
    "D = np.diag([-5,2,4,3])\n",
    "\n",
    "A = U@D@U.T\n",
    "\n",
    "eigl, eigv = la.eig(A)"
   ]
  },
  {
   "cell_type": "code",
   "execution_count": null,
   "metadata": {
    "collapsed": true
   },
   "outputs": [],
   "source": [
    "print(eigl)\n",
    "print(eigv[:,0])"
   ]
  },
  {
   "cell_type": "code",
   "execution_count": null,
   "metadata": {
    "collapsed": true
   },
   "outputs": [],
   "source": [
    "x = x0/la.norm(x0)"
   ]
  },
  {
   "cell_type": "code",
   "execution_count": null,
   "metadata": {
    "collapsed": true
   },
   "outputs": [],
   "source": [
    "x = A @ x\n",
    "nrm = la.norm(x)\n",
    "x = x/nrm\n",
    "\n",
    "print(nrm)\n",
    "print(x)"
   ]
  },
  {
   "cell_type": "code",
   "execution_count": null,
   "metadata": {
    "collapsed": true
   },
   "outputs": [],
   "source": [
    "# Let's evaluate the eigenvalue\n",
    "np.inner(x,A@x)/np.inner(x,x)"
   ]
  },
  {
   "cell_type": "markdown",
   "metadata": {},
   "source": [
    "### What if no component in the direction of the dominant eigenvector?"
   ]
  },
  {
   "cell_type": "code",
   "execution_count": null,
   "metadata": {
    "collapsed": true
   },
   "outputs": [],
   "source": [
    "n = 4\n",
    "    \n",
    "D = np.diag([5,2,4,3])\n",
    "\n",
    "A = U@D@U.T\n",
    "\n",
    "eigl, eigv = la.eig(A)\n",
    "\n",
    "print(eigl)\n",
    "print(eigv[:,3])"
   ]
  },
  {
   "cell_type": "code",
   "execution_count": null,
   "metadata": {
    "collapsed": true
   },
   "outputs": [],
   "source": [
    "x0 = np.array([0,0,1,0])\n",
    "x = x0/la.norm(x0)"
   ]
  },
  {
   "cell_type": "code",
   "execution_count": null,
   "metadata": {
    "collapsed": true
   },
   "outputs": [],
   "source": [
    "x = A @ x\n",
    "nrm = la.norm(x)\n",
    "x = x/nrm\n",
    "\n",
    "print(nrm)\n",
    "print(x)"
   ]
  },
  {
   "cell_type": "markdown",
   "metadata": {},
   "source": [
    "### When dealing with multiple eigenvalues"
   ]
  },
  {
   "cell_type": "code",
   "execution_count": null,
   "metadata": {
    "collapsed": true
   },
   "outputs": [],
   "source": [
    "n = 4\n",
    "    \n",
    "D = np.diag([5,5,2,1])\n",
    "D = np.diag([-5,-5,2,1])\n",
    "D = np.diag([5,-5,2,1])\n",
    "\n",
    "A = U@D@U.T\n",
    "\n",
    "eigl, eigv = la.eig(A)"
   ]
  },
  {
   "cell_type": "code",
   "execution_count": null,
   "metadata": {
    "collapsed": true
   },
   "outputs": [],
   "source": [
    "print(eigl)\n",
    "print(eigv[:,2])\n",
    "print(eigv[:,3])"
   ]
  },
  {
   "cell_type": "code",
   "execution_count": null,
   "metadata": {
    "collapsed": true
   },
   "outputs": [],
   "source": [
    "x = x0/la.norm(x0)"
   ]
  },
  {
   "cell_type": "code",
   "execution_count": null,
   "metadata": {
    "collapsed": true
   },
   "outputs": [],
   "source": [
    "x = A @ x\n",
    "nrm = la.norm(x)\n",
    "x = x/nrm\n",
    "\n",
    "print(nrm)\n",
    "print(x)"
   ]
  },
  {
   "cell_type": "code",
   "execution_count": null,
   "metadata": {
    "collapsed": true
   },
   "outputs": [],
   "source": [
    "print(np.inner(x,A@x)/np.inner(x,x))"
   ]
  },
  {
   "cell_type": "markdown",
   "metadata": {},
   "source": [
    "### Power iteration - with loop"
   ]
  },
  {
   "cell_type": "code",
   "execution_count": null,
   "metadata": {
    "collapsed": true
   },
   "outputs": [],
   "source": [
    "n = 4\n",
    "    \n",
    "D = np.diag([5,-4,2,-7])\n",
    "\n",
    "A = U@D@U.T\n",
    "\n",
    "eigl, eigv = la.eig(A)\n",
    "\n",
    "print(eigl)\n",
    "print(eigv)"
   ]
  },
  {
   "cell_type": "code",
   "execution_count": null,
   "metadata": {
    "collapsed": true
   },
   "outputs": [],
   "source": [
    "#Inverse Power iteration to get smallest eigenvalue\n",
    "x = x0/la.norm(x0)\n",
    "for k in range(30):\n",
    "    x = A @ x\n",
    "    x = x/la.norm(x)\n",
    "    print(x.T@A@x/(x.T@x))\n",
    "\n",
    "print(\"lambdan = \",x.T@A@x)\n",
    "print(\"un = \", x)  "
   ]
  },
  {
   "cell_type": "code",
   "execution_count": null,
   "metadata": {
    "collapsed": true
   },
   "outputs": [],
   "source": [
    "print(eigl)\n",
    "print(eigv)"
   ]
  },
  {
   "cell_type": "markdown",
   "metadata": {},
   "source": [
    "### Inverse Power iteration"
   ]
  },
  {
   "cell_type": "code",
   "execution_count": null,
   "metadata": {
    "collapsed": true
   },
   "outputs": [],
   "source": [
    "n = 4\n",
    "    \n",
    "D = np.diag([5,-4,2,7])\n",
    "\n",
    "A = U@D@U.T\n",
    "\n",
    "eigl, eigv = la.eig(A)\n",
    "\n",
    "print(eigl)\n",
    "print(eigv)"
   ]
  },
  {
   "cell_type": "code",
   "execution_count": null,
   "metadata": {
    "collapsed": true
   },
   "outputs": [],
   "source": [
    "#Inverse Power iteration to get smallest eigenvalue\n",
    "x = x0/la.norm(x0)\n",
    "P, L, Um = sla.lu(A)\n",
    "for k in range(30):\n",
    "    y = sla.solve_triangular(L, np.dot(P.T, x), lower=True)\n",
    "    x = sla.solve_triangular(Um, y)\n",
    "    x = x/la.norm(x)\n",
    "    print(x.T@A@x/(x.T@x))\n",
    "\n",
    "print(\"lambdan = \",x.T@A@x)\n",
    "print(\"un = \", x)  "
   ]
  },
  {
   "cell_type": "code",
   "execution_count": null,
   "metadata": {
    "collapsed": true
   },
   "outputs": [],
   "source": [
    "print(eigl)\n",
    "print(eigv)"
   ]
  },
  {
   "cell_type": "markdown",
   "metadata": {},
   "source": [
    "### Inverse Shifted Power Iteration"
   ]
  },
  {
   "cell_type": "code",
   "execution_count": null,
   "metadata": {
    "collapsed": true
   },
   "outputs": [],
   "source": [
    "n = 4\n",
    "    \n",
    "D = np.diag([5,-7,2,10])\n",
    "\n",
    "A = U@D@U.T\n",
    "\n",
    "eigl, eigv = la.eig(A)\n",
    "\n",
    "print(eigl)\n",
    "print(eigv)"
   ]
  },
  {
   "cell_type": "code",
   "execution_count": null,
   "metadata": {
    "collapsed": true
   },
   "outputs": [],
   "source": [
    "x0 =  np.random.randn(n)\n",
    "x = x0/la.norm(x0)\n",
    "sigma = 2\n",
    "B = A-sigma*np.eye(n)\n",
    "print(sla.det(B))\n",
    "P, L, Um = sla.lu(B)\n",
    "for k in range(30):\n",
    "    y = sla.solve_triangular(L, np.dot(P.T, x), lower=True)\n",
    "    x = sla.solve_triangular(Um, y)\n",
    "    x = x/la.norm(x)\n",
    "    print(x.T@A@x)\n",
    "\n",
    "print(\"lambdan = \",x.T@A@x)\n",
    "print(\"un = \", x) "
   ]
  },
  {
   "cell_type": "markdown",
   "metadata": {},
   "source": [
    "### Rayleight quotient iteration"
   ]
  },
  {
   "cell_type": "code",
   "execution_count": 37,
   "metadata": {},
   "outputs": [
    {
     "name": "stdout",
     "output_type": "stream",
     "text": [
      "[ -7.  10.   2.   5.]\n",
      "[[ 0.46329673 -0.51088567 -0.51490171  0.50914458]\n",
      " [-0.42149497  0.57820941 -0.3624001   0.59722863]\n",
      " [-0.24762107 -0.34536369  0.69425184  0.58088045]\n",
      " [ 0.73917652  0.53422245  0.34864994  0.216027  ]]\n"
     ]
    }
   ],
   "source": [
    "n = 4\n",
    "    \n",
    "D = np.diag([5,-7,2,10])\n",
    "\n",
    "A = U@D@U.T\n",
    "\n",
    "eigl, eigv = la.eig(A)\n",
    "\n",
    "print(eigl)\n",
    "print(eigv)"
   ]
  },
  {
   "cell_type": "code",
   "execution_count": 42,
   "metadata": {},
   "outputs": [
    {
     "name": "stdout",
     "output_type": "stream",
     "text": [
      "1.20410186296e+17\n",
      "[[ 1.          0.          0.          0.        ]\n",
      " [-0.06210654  1.          0.          0.        ]\n",
      " [-0.18922302  0.55175684  1.          0.        ]\n",
      " [-0.6749548   0.93121919  0.74166415  1.        ]]\n",
      "2.0\n",
      "[-0.51490171 -0.3624001   0.69425184  0.34864994]\n"
     ]
    }
   ],
   "source": [
    "#Rayleigh Quotient iteration\n",
    "x0 =  np.random.randn(n)\n",
    "x = x0/la.norm(x0)\n",
    "Rayl = 2\n",
    "eigs = [Rayl]\n",
    "diff = 1\n",
    "while diff > 1e-4:\n",
    "    B = A-Rayl*np.eye(n)\n",
    "    #print(la.cond(B))\n",
    "    P, L, Um = sla.lu(B)\n",
    "    y = sla.solve_triangular(L, np.dot(P.T, x), lower=True)\n",
    "    x = sla.solve_triangular(Um, y)    \n",
    "    x = x/la.norm(x)\n",
    "    Rayl = x.T@A@x/(x.T@x)\n",
    "    diff = np.abs(eigs[-1]-Rayl)\n",
    "    eigs.append(Rayl)\n",
    "    print(Rayl)\n",
    "    \n",
    "print(x)"
   ]
  },
  {
   "cell_type": "markdown",
   "metadata": {},
   "source": [
    "The downside is that the Rayleigh quotient iteration can often converge to the wrong eigenvalue. Other numerical techniques can be used to help the algorithm to stay within the desirable interval for the eigenvalue"
   ]
  },
  {
   "cell_type": "code",
   "execution_count": null,
   "metadata": {
    "collapsed": true
   },
   "outputs": [],
   "source": []
  }
 ],
 "metadata": {
  "kernelspec": {
   "display_name": "Python 3",
   "language": "python",
   "name": "python3"
  },
  "language_info": {
   "codemirror_mode": {
    "name": "ipython",
    "version": 3
   },
   "file_extension": ".py",
   "mimetype": "text/x-python",
   "name": "python",
   "nbconvert_exporter": "python",
   "pygments_lexer": "ipython3",
   "version": "3.6.3"
  }
 },
 "nbformat": 4,
 "nbformat_minor": 1
}
