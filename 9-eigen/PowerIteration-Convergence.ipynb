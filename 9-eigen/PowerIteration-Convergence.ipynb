{
 "cells": [
  {
   "cell_type": "markdown",
   "metadata": {},
   "source": [
    "# Power Iteration - convergence"
   ]
  },
  {
   "cell_type": "code",
   "execution_count": null,
   "metadata": {
    "collapsed": true
   },
   "outputs": [],
   "source": [
    "import numpy as np\n",
    "import numpy.linalg as la\n",
    "import scipy.linalg as sla\n",
    "import matplotlib.pyplot as plt\n",
    "%matplotlib inline"
   ]
  },
  {
   "cell_type": "code",
   "execution_count": null,
   "metadata": {},
   "outputs": [],
   "source": [
    "n=4\n",
    "\n",
    "X = np.random.rand(n,n)\n",
    "U,_ = sla.qr(X)\n",
    "D = np.diag([5,2,-1,4])\n",
    "A = U@D@U.T\n",
    "eigl, eigv = la.eig(A)\n",
    "\n",
    "x0 = np.array([0,1,0,0])\n",
    "\n",
    "print(eigl)\n",
    "print(eigv)\n"
   ]
  },
  {
   "cell_type": "markdown",
   "metadata": {},
   "source": [
    "## Power iteration"
   ]
  },
  {
   "cell_type": "code",
   "execution_count": null,
   "metadata": {},
   "outputs": [],
   "source": [
    "lamb = 5\n",
    "\n",
    "#Power iteration to get largest eigenvalue\n",
    "nrm = la.norm(x0,np.inf)\n",
    "x = x0/nrm\n",
    "eigs = [x.T@A@x/(x.T@x)]\n",
    "error = []\n",
    "diff = 1\n",
    "count = 0\n",
    "\n",
    "while (diff > 1e-4 and count < 100):\n",
    "    count += 1\n",
    "    # power iteration\n",
    "    x = A@x #xk+1 = A xk\n",
    "    # normalize and compute difference between norms in consecutive iterations (stopping criteria)\n",
    "    nrm_new = la.norm(x,np.inf)\n",
    "    diff = np.abs(nrm_new - nrm)\n",
    "    nrm = nrm_new\n",
    "    x = x/nrm    \n",
    "    # get corresponding eigenvalue\n",
    "    Rayl = x.T@A@x/(x.T@x)\n",
    "    eigs.append(Rayl)\n",
    "    # compute the error\n",
    "    error.append( nrm - abs(lamb) )\n",
    "\n",
    "\n",
    "eig_diff =  np.array(eigs) - lamb\n",
    "plt.plot(np.abs(eig_diff)) \n",
    "plt.title('\"exact eigenvalue\" - \"numerical\" eigenvalue')\n",
    "\n",
    "print('number of iterations = ',count)\n",
    "print('largest eigenvalue of A = ',eigs[-1])"
   ]
  },
  {
   "cell_type": "code",
   "execution_count": null,
   "metadata": {},
   "outputs": [],
   "source": [
    "error = np.array(error)\n",
    "print(error[1:]/error[:-1])\n",
    "ratio_lambda2_lambda1 = 4/5\n",
    "print(ratio_lambda2_lambda1)"
   ]
  },
  {
   "cell_type": "markdown",
   "metadata": {},
   "source": [
    "## Rayleigh Coefficient"
   ]
  },
  {
   "cell_type": "code",
   "execution_count": null,
   "metadata": {
    "collapsed": true
   },
   "outputs": [],
   "source": [
    "        P, L, Um = sla.lu(A-Rayl*np.eye(n))\n",
    "        y = sla.solve_triangular(L, np.dot(P.T, x), lower=True)\n",
    "        x = sla.solve_triangular(Um, y) "
   ]
  },
  {
   "cell_type": "code",
   "execution_count": null,
   "metadata": {
    "collapsed": true
   },
   "outputs": [],
   "source": []
  },
  {
   "cell_type": "code",
   "execution_count": null,
   "metadata": {
    "collapsed": true
   },
   "outputs": [],
   "source": []
  },
  {
   "cell_type": "code",
   "execution_count": null,
   "metadata": {
    "collapsed": true
   },
   "outputs": [],
   "source": []
  }
 ],
 "metadata": {
  "kernelspec": {
   "display_name": "Python 3",
   "language": "python",
   "name": "python3"
  },
  "language_info": {
   "codemirror_mode": {
    "name": "ipython",
    "version": 3
   },
   "file_extension": ".py",
   "mimetype": "text/x-python",
   "name": "python",
   "nbconvert_exporter": "python",
   "pygments_lexer": "ipython3",
   "version": "3.6.3"
  }
 },
 "nbformat": 4,
 "nbformat_minor": 1
}
