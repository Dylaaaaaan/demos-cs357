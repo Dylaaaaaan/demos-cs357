{
 "cells": [
  {
   "cell_type": "markdown",
   "metadata": {},
   "source": [
    "# Inverse Power Iteration - Iclicker Question"
   ]
  },
  {
   "cell_type": "code",
   "execution_count": 1,
   "metadata": {
    "collapsed": true
   },
   "outputs": [],
   "source": [
    "import numpy as np\n",
    "import numpy.linalg as la\n",
    "import scipy.linalg as sla\n",
    "import matplotlib.pyplot as plt\n",
    "%matplotlib inline"
   ]
  },
  {
   "cell_type": "markdown",
   "metadata": {},
   "source": [
    "Let's  prepare a matrix with some random or deliberately chosen eigenvalues:"
   ]
  },
  {
   "cell_type": "code",
   "execution_count": 2,
   "metadata": {},
   "outputs": [
    {
     "name": "stdout",
     "output_type": "stream",
     "text": [
      "[[ 0.85099741  0.17775492 -0.85303971 -0.44389968 -0.20293796  1.10051557]\n",
      " [-3.03513615 -0.41456145 -1.34308784 -0.7731739  -1.67520693  0.80527769]\n",
      " [-0.49491418 -0.50388454 -0.59621701  0.37449326  0.41315697 -0.18360565]\n",
      " [ 0.65195623  1.07466944 -1.28522513 -1.26123063  3.08979983 -1.23804091]\n",
      " [-0.54214863  0.52110266 -0.78460489 -1.3657822  -0.08829521  0.30824369]\n",
      " [-1.41701272 -0.07564818  0.69807919 -0.62548766 -0.71283792 -0.99533696]]\n",
      "[-2.667651   -0.95797093 -0.33019549 -0.29151942 -0.18635343 -0.14418093]\n"
     ]
    }
   ],
   "source": [
    "n = 6\n",
    "\n",
    "np.random.seed(70)\n",
    "eigvecs = np.random.randn(n, n)\n",
    "eigvals = np.sort(np.random.randn(n))\n",
    "\n",
    "A = eigvecs.dot(np.diag(eigvals)).dot(la.inv(eigvecs))\n",
    "print(eigvecs)\n",
    "print(eigvals)"
   ]
  },
  {
   "cell_type": "markdown",
   "metadata": {},
   "source": [
    "Let's also pick an initial vector:"
   ]
  },
  {
   "cell_type": "code",
   "execution_count": 3,
   "metadata": {
    "collapsed": true
   },
   "outputs": [],
   "source": [
    "x0 = np.random.randn(n)"
   ]
  },
  {
   "cell_type": "markdown",
   "metadata": {},
   "source": [
    "## Normalized Power iteration"
   ]
  },
  {
   "cell_type": "code",
   "execution_count": 4,
   "metadata": {},
   "outputs": [
    {
     "name": "stdout",
     "output_type": "stream",
     "text": [
      "10.4110001273\n",
      "2.93134222836\n",
      "2.70096178271\n",
      "2.67470523102\n",
      "2.66972495389\n",
      "2.6683492302\n",
      "2.66789670636\n",
      "2.66773866139\n",
      "2.66768241008\n",
      "2.66766226874\n",
      "2.66765504289\n",
      "2.6676524489\n",
      "2.66765151748\n",
      "2.66765118301\n",
      "2.66765106291\n",
      "2.66765101977\n",
      "2.66765100429\n",
      "2.66765099872\n",
      "2.66765099673\n",
      "2.66765099601\n",
      "2.66765099575\n",
      "2.66765099566\n",
      "2.66765099563\n",
      "2.66765099561\n",
      "2.66765099561\n",
      "2.66765099561\n",
      "2.66765099561\n",
      "2.66765099561\n",
      "2.66765099561\n",
      "2.66765099561\n",
      "lambda1 =  -2.66765099561\n",
      "u1 =  [ 0.23686305 -0.84478709 -0.13775234  0.18146277 -0.15089938 -0.39440539]\n"
     ]
    }
   ],
   "source": [
    "#Power iteration to get largest eigenvalue\n",
    "x = x0/la.norm(x0)\n",
    "for k in range(30):\n",
    "    x = A@x\n",
    "    nrm = la.norm(x)\n",
    "    x = x/nrm\n",
    "    print(nrm)\n",
    "\n",
    "print(\"lambda1 = \",x.T@A@x)\n",
    "print(\"u1 = \", x)  \n",
    "  "
   ]
  },
  {
   "cell_type": "code",
   "execution_count": null,
   "metadata": {},
   "outputs": [],
   "source": [
    "print(\"lambda1 = \",eigvals[0])\n",
    "print(\"u1 = \", eigvecs[:,0]/la.norm(eigvecs[:,0]))   "
   ]
  },
  {
   "cell_type": "markdown",
   "metadata": {},
   "source": [
    "## Inverse Power Iteration"
   ]
  },
  {
   "cell_type": "code",
   "execution_count": 5,
   "metadata": {},
   "outputs": [
    {
     "name": "stdout",
     "output_type": "stream",
     "text": [
      "lambdan =  -0.144162435096\n",
      "un =  [-0.51829849 -0.37895638  0.08639709  0.58251078 -0.14516424  0.46893796]\n"
     ]
    }
   ],
   "source": [
    "#Inverse Power iteration to get smallest eigenvalue\n",
    "x = x0/la.norm(x0)\n",
    "for k in range(30):\n",
    "    x = la.solve(A, x)\n",
    "    x = x/la.norm(x)\n",
    "\n",
    "print(\"lambdan = \",x.T@A@x)\n",
    "print(\"un = \", x)   "
   ]
  },
  {
   "cell_type": "code",
   "execution_count": 6,
   "metadata": {},
   "outputs": [
    {
     "name": "stdout",
     "output_type": "stream",
     "text": [
      "lambdan =  -0.144162435096\n",
      "un =  [-0.51829849 -0.37895638  0.08639709  0.58251078 -0.14516424  0.46893796]\n"
     ]
    }
   ],
   "source": [
    "#Inverse Power iteration to get smallest eigenvalue\n",
    "x = x0/la.norm(x0)\n",
    "for k in range(30):\n",
    "    x = la.inv(A)@x\n",
    "    x = x/la.norm(x)\n",
    "\n",
    "print(\"lambdan = \",x.T@A@x)\n",
    "print(\"un = \", x)    "
   ]
  },
  {
   "cell_type": "code",
   "execution_count": 8,
   "metadata": {},
   "outputs": [
    {
     "name": "stdout",
     "output_type": "stream",
     "text": [
      "lambdan =  -0.144162435096\n",
      "un =  [-0.51829849 -0.37895638  0.08639709  0.58251078 -0.14516424  0.46893796]\n"
     ]
    }
   ],
   "source": [
    "#Inverse Power iteration to get smallest eigenvalue\n",
    "x = x0/la.norm(x0)\n",
    "P, L, U = sla.lu(A)\n",
    "for k in range(30):\n",
    "    y = sla.solve_triangular(L, np.dot(P.T, x), lower=True)\n",
    "    x = sla.solve_triangular(U, y)\n",
    "    x = x/la.norm(x)\n",
    "\n",
    "print(\"lambdan = \",x.T@A@x)\n",
    "print(\"un = \", x)  "
   ]
  },
  {
   "cell_type": "code",
   "execution_count": 7,
   "metadata": {},
   "outputs": [
    {
     "name": "stdout",
     "output_type": "stream",
     "text": [
      "lambdan =  -0.144162435096\n",
      "un =  [-0.51829849 -0.37895638  0.08639709  0.58251078 -0.14516424  0.46893796]\n"
     ]
    }
   ],
   "source": [
    "#Inverse Power iteration to get smallest eigenvalue\n",
    "x = x0/la.norm(x0)\n",
    "for k in range(30):\n",
    "    P, L, U = sla.lu(A)\n",
    "    y = sla.solve_triangular(L, np.dot(P.T, x), lower=True)\n",
    "    x = sla.solve_triangular(U, y)\n",
    "    x = x/la.norm(x)\n",
    "\n",
    "print(\"lambdan = \",x.T@A@x)\n",
    "print(\"un = \", x) "
   ]
  },
  {
   "cell_type": "code",
   "execution_count": null,
   "metadata": {},
   "outputs": [],
   "source": [
    "print(\"lambdan = \",eigvals[n-1])\n",
    "print(\"un = \", eigvecs[:,n-1]/la.norm(eigvecs[:,n-1]))  "
   ]
  },
  {
   "cell_type": "markdown",
   "metadata": {},
   "source": [
    "## Inverse Shifted Power Iteration"
   ]
  },
  {
   "cell_type": "code",
   "execution_count": 13,
   "metadata": {},
   "outputs": [
    {
     "name": "stdout",
     "output_type": "stream",
     "text": [
      "lambdan =  -0.957970929184\n",
      "un =  [-0.12931333  0.30158557  0.36656642 -0.78180159 -0.37909227  0.05503261]\n"
     ]
    }
   ],
   "source": [
    "x = x0/la.norm(x0)\n",
    "sigma =-0.9\n",
    "B = A-sigma*np.eye(n)\n",
    "P, L, U = sla.lu(B)\n",
    "for k in range(30):\n",
    "    y = sla.solve_triangular(L, np.dot(P.T, x), lower=True)\n",
    "    x = sla.solve_triangular(U, y)\n",
    "    x = x/la.norm(x)\n",
    "\n",
    "print(\"lambdan = \",x.T@A@x)\n",
    "print(\"un = \", x) "
   ]
  },
  {
   "cell_type": "code",
   "execution_count": 9,
   "metadata": {},
   "outputs": [
    {
     "data": {
      "text/plain": [
       "array([-2.667651  , -0.95797093, -0.33019549, -0.29151942, -0.18635343,\n",
       "       -0.14418093])"
      ]
     },
     "execution_count": 9,
     "metadata": {},
     "output_type": "execute_result"
    }
   ],
   "source": [
    "eigvals"
   ]
  },
  {
   "cell_type": "code",
   "execution_count": null,
   "metadata": {},
   "outputs": [],
   "source": [
    "eigvecs[:,1]/la.norm(eigvecs[:,1])"
   ]
  },
  {
   "cell_type": "code",
   "execution_count": null,
   "metadata": {
    "collapsed": true
   },
   "outputs": [],
   "source": []
  }
 ],
 "metadata": {
  "kernelspec": {
   "display_name": "Python 3",
   "language": "python",
   "name": "python3"
  },
  "language_info": {
   "codemirror_mode": {
    "name": "ipython",
    "version": 3
   },
   "file_extension": ".py",
   "mimetype": "text/x-python",
   "name": "python",
   "nbconvert_exporter": "python",
   "pygments_lexer": "ipython3",
   "version": "3.6.3"
  }
 },
 "nbformat": 4,
 "nbformat_minor": 1
}
