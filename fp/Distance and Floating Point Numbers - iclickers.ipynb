{
 "cells": [
  {
   "cell_type": "markdown",
   "metadata": {},
   "source": [
    "# Distance and Floating Point Numbers"
   ]
  },
  {
   "cell_type": "code",
   "execution_count": null,
   "metadata": {},
   "outputs": [],
   "source": [
    "b = 1.0\n",
    "i=0\n",
    "while (b + 1.0 > 1.0):\n",
    "    print(i,b)\n",
    "    b = b / 2.0\n",
    "    i+=1"
   ]
  },
  {
   "cell_type": "markdown",
   "metadata": {},
   "source": [
    "What will happen when we run this code snippet?\n",
    "A) it won't stop (infinite loop)\n",
    "B) it will stop when b reaches underflow\n",
    "C) it will stop when b reaches machine epsilon\n",
    "D) none of the above"
   ]
  },
  {
   "cell_type": "code",
   "execution_count": null,
   "metadata": {},
   "outputs": [],
   "source": [
    "epsilon = 1.0\n",
    "i=0\n",
    "a = 10**10\n",
    "while (epsilon + a > a):\n",
    "    print(i,epsilon)\n",
    "    epsilon = epsilon / 2.0\n",
    "    i+=1"
   ]
  },
  {
   "cell_type": "markdown",
   "metadata": {},
   "source": [
    "What will happen when we run this code snippet?\n",
    "A) it won't stop (infinite loop)\n",
    "B) it will stop when b reaches underflow\n",
    "C) it will stop when b reaches machine epsilon\n",
    "D) none of the above"
   ]
  },
  {
   "cell_type": "code",
   "execution_count": null,
   "metadata": {},
   "outputs": [],
   "source": [
    "a = 1.0\n",
    "while a > 0.0: \n",
    "    a = a / 2.0\n",
    "    print(repr(a))"
   ]
  },
  {
   "cell_type": "code",
   "execution_count": null,
   "metadata": {
    "collapsed": true
   },
   "outputs": [],
   "source": []
  }
 ],
 "metadata": {
  "kernelspec": {
   "display_name": "Python 3",
   "language": "python",
   "name": "python3"
  },
  "language_info": {
   "codemirror_mode": {
    "name": "ipython",
    "version": 3
   },
   "file_extension": ".py",
   "mimetype": "text/x-python",
   "name": "python",
   "nbconvert_exporter": "python",
   "pygments_lexer": "ipython3",
   "version": "3.6.3"
  }
 },
 "nbformat": 4,
 "nbformat_minor": 2
}
