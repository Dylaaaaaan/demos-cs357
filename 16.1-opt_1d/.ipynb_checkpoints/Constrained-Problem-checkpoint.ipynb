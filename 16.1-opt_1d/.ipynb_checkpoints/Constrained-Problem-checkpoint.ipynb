{
 "cells": [
  {
   "cell_type": "markdown",
   "metadata": {},
   "source": [
    "# Newton's method in 1D"
   ]
  },
  {
   "cell_type": "code",
   "execution_count": 1,
   "metadata": {
    "collapsed": true
   },
   "outputs": [],
   "source": [
    "import numpy as np\n",
    "import matplotlib.pyplot as pt\n",
    "%matplotlib inline\n",
    "from scipy.optimize import minimize"
   ]
  },
  {
   "cell_type": "markdown",
   "metadata": {},
   "source": [
    "Here's a function:"
   ]
  },
  {
   "cell_type": "code",
   "execution_count": 2,
   "metadata": {
    "collapsed": true
   },
   "outputs": [],
   "source": [
    "a = 17.09\n",
    "b = 9.79\n",
    "c = 0.6317\n",
    "d = 0.9324\n",
    "e = 0.4565\n",
    "\n",
    "def f(x):\n",
    "    return a*x**4 + b*x**3 + c*x**2 + d*x + e\n",
    "\n",
    "def df(x):\n",
    "    return 4*a*x**3 + 3*b*x**2 + 2*c*x + d\n",
    "\n",
    "def d2f(x):\n",
    "    return 3*4*a*x**2 + 2*3*b*x + 2*c\n",
    "\n",
    "def g(x):\n",
    "    return 4*x+3\n"
   ]
  },
  {
   "cell_type": "markdown",
   "metadata": {},
   "source": [
    "Let's plot the thing:"
   ]
  },
  {
   "cell_type": "code",
   "execution_count": 3,
   "metadata": {},
   "outputs": [
    {
     "data": {
      "text/plain": [
       "[<matplotlib.lines.Line2D at 0x1513cedf28>]"
      ]
     },
     "execution_count": 3,
     "metadata": {},
     "output_type": "execute_result"
    },
    {
     "data": {
      "image/png": "[encoded data removed]",
      "text/plain": [
       "<matplotlib.figure.Figure at 0x140ecf23c8>"
      ]
     },
     "metadata": {},
     "output_type": "display_data"
    }
   ],
   "source": [
    "xmesh = np.linspace(-1, 0.5\n",
    "                    , 100)\n",
    "pt.ylim([-1, 3])\n",
    "pt.plot(xmesh, f(xmesh))\n",
    "pt.plot(xmesh, g(xmesh))"
   ]
  },
  {
   "cell_type": "code",
   "execution_count": 4,
   "metadata": {},
   "outputs": [
    {
     "data": {
      "text/plain": [
       "      fun: -0.02668057317931294\n",
       " hess_inv: array([[ 0.05877382]])\n",
       "      jac: array([  1.56462193e-07])\n",
       "  message: 'Optimization terminated successfully.'\n",
       "     nfev: 30\n",
       "      nit: 6\n",
       "     njev: 10\n",
       "   status: 0\n",
       "  success: True\n",
       "        x: array([-0.45491836])"
      ]
     },
     "execution_count": 4,
     "metadata": {},
     "output_type": "execute_result"
    }
   ],
   "source": [
    "#Unconstrained Problem\n",
    "minimize(f, 0.2)"
   ]
  },
  {
   "cell_type": "code",
   "execution_count": 5,
   "metadata": {},
   "outputs": [
    {
     "data": {
      "text/plain": [
       "      fun: -0.02668057317931216\n",
       " hess_inv: array([[ 0.05877395]])\n",
       "      jac: array([  1.73305906e-07])\n",
       "  message: 'Optimization terminated successfully.'\n",
       "     nfev: 10\n",
       "      nit: 6\n",
       "     njev: 10\n",
       "   status: 0\n",
       "  success: True\n",
       "        x: array([-0.45491835])"
      ]
     },
     "execution_count": 5,
     "metadata": {},
     "output_type": "execute_result"
    }
   ],
   "source": [
    "#Unconstrained Problem\n",
    "minimize(f, 0.2,jac=df)"
   ]
  },
  {
   "cell_type": "code",
   "execution_count": 6,
   "metadata": {},
   "outputs": [
    {
     "data": {
      "text/plain": [
       "     fun: 1.389757812402022\n",
       "     jac: array([-12.33389947])\n",
       " message: 'Optimization terminated successfully.'\n",
       "    nfev: 6\n",
       "     nit: 2\n",
       "    njev: 2\n",
       "  status: 0\n",
       " success: True\n",
       "       x: array([-0.75])"
      ]
     },
     "execution_count": 6,
     "metadata": {},
     "output_type": "execute_result"
    }
   ],
   "source": [
    "#Constrained Problem\n",
    "#min f\n",
    "#st g <= 0 (or -g >= 0)\n",
    "minimize(f, -1, constraints=({'type': 'ineq', 'fun': lambda x: -g(x)}))"
   ]
  },
  {
   "cell_type": "code",
   "execution_count": null,
   "metadata": {
    "collapsed": true
   },
   "outputs": [],
   "source": []
  }
 ],
 "metadata": {
  "kernelspec": {
   "display_name": "Python 3",
   "language": "python",
   "name": "python3"
  },
  "language_info": {
   "codemirror_mode": {
    "name": "ipython",
    "version": 3
   },
   "file_extension": ".py",
   "mimetype": "text/x-python",
   "name": "python",
   "nbconvert_exporter": "python",
   "pygments_lexer": "ipython3",
   "version": "3.6.3"
  }
 },
 "nbformat": 4,
 "nbformat_minor": 1
}
