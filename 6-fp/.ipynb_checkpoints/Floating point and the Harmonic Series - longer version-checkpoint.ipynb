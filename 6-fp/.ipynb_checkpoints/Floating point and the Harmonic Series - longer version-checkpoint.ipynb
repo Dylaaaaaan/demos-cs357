{
 "cells": [
  {
   "cell_type": "markdown",
   "metadata": {},
   "source": [
    "# Floating Point and the Harmonic Series\n",
    "\n",
    "You may know from math that\n",
    "$$\n",
    "\\sum_{n=1}^\\infty \\frac 1n=\\infty.\n",
    "$$\n",
    "Let's see what we get using floating point:"
   ]
  },
  {
   "cell_type": "code",
   "execution_count": 1,
   "metadata": {
    "collapsed": true
   },
   "outputs": [],
   "source": [
    "import numpy as np"
   ]
  },
  {
   "cell_type": "code",
   "execution_count": 6,
   "metadata": {},
   "outputs": [
    {
     "name": "stdout",
     "output_type": "stream",
     "text": [
      "0.0\n"
     ]
    }
   ],
   "source": [
    "float_type = np.float32\n",
    "\n",
    "my_sum = float_type(0)\n",
    "\n",
    "print(my_sum)"
   ]
  },
  {
   "cell_type": "code",
   "execution_count": 10,
   "metadata": {},
   "outputs": [
    {
     "name": "stdout",
     "output_type": "stream",
     "text": [
      "1/n = 5e-06, sum0 = 12.7828\n",
      "1/n = 2.5e-06, sum0 = 13.4814\n",
      "1/n = 1.66667e-06, sum0 = 13.8814\n",
      "1/n = 1.25e-06, sum0 = 14.1666\n",
      "1/n = 1e-06, sum0 = 14.3574\n",
      "1/n = 8.33333e-07, sum0 = 14.5481\n",
      "1/n = 7.14286e-07, sum0 = 14.7388\n",
      "1/n = 6.25e-07, sum0 = 14.9296\n",
      "1/n = 5.55556e-07, sum0 = 15.1203\n",
      "1/n = 5e-07, sum0 = 15.311\n",
      "1/n = 4.54545e-07, sum0 = 15.4037\n",
      "1/n = 4.16667e-07, sum0 = 15.4037\n",
      "1/n = 3.84615e-07, sum0 = 15.4037\n",
      "1/n = 3.57143e-07, sum0 = 15.4037\n",
      "1/n = 3.33333e-07, sum0 = 15.4037\n",
      "1/n = 3.125e-07, sum0 = 15.4037\n",
      "1/n = 2.94118e-07, sum0 = 15.4037\n",
      "1/n = 2.77778e-07, sum0 = 15.4037\n",
      "1/n = 2.63158e-07, sum0 = 15.4037\n",
      "1/n = 2.5e-07, sum0 = 15.4037\n",
      "1/n = 2.38095e-07, sum0 = 15.4037\n",
      "1/n = 2.27273e-07, sum0 = 15.4037\n",
      "1/n = 2.17391e-07, sum0 = 15.4037\n",
      "1/n = 2.08333e-07, sum0 = 15.4037\n",
      "1/n = 2e-07, sum0 = 15.4037\n",
      "1/n = 1.92308e-07, sum0 = 15.4037\n",
      "1/n = 1.85185e-07, sum0 = 15.4037\n",
      "1/n = 1.78571e-07, sum0 = 15.4037\n",
      "1/n = 1.72414e-07, sum0 = 15.4037\n",
      "1/n = 1.66667e-07, sum0 = 15.4037\n",
      "1/n = 1.6129e-07, sum0 = 15.4037\n",
      "1/n = 1.5625e-07, sum0 = 15.4037\n",
      "1/n = 1.51515e-07, sum0 = 15.4037\n",
      "1/n = 1.47059e-07, sum0 = 15.4037\n",
      "1/n = 1.42857e-07, sum0 = 15.4037\n",
      "1/n = 1.38889e-07, sum0 = 15.4037\n",
      "1/n = 1.35135e-07, sum0 = 15.4037\n",
      "1/n = 1.31579e-07, sum0 = 15.4037\n",
      "1/n = 1.28205e-07, sum0 = 15.4037\n",
      "1/n = 1.25e-07, sum0 = 15.4037\n",
      "1/n = 1.21951e-07, sum0 = 15.4037\n",
      "1/n = 1.19048e-07, sum0 = 15.4037\n",
      "1/n = 1.16279e-07, sum0 = 15.4037\n",
      "1/n = 1.13636e-07, sum0 = 15.4037\n",
      "1/n = 1.11111e-07, sum0 = 15.4037\n",
      "1/n = 1.08696e-07, sum0 = 15.4037\n",
      "1/n = 1.06383e-07, sum0 = 15.4037\n"
     ]
    },
    {
     "ename": "KeyboardInterrupt",
     "evalue": "",
     "output_type": "error",
     "traceback": [
      "\u001b[0;31m---------------------------------------------------------------------------\u001b[0m",
      "\u001b[0;31mKeyboardInterrupt\u001b[0m                         Traceback (most recent call last)",
      "\u001b[0;32m<ipython-input-10-7b3d49d50b24>\u001b[0m in \u001b[0;36m<module>\u001b[0;34m()\u001b[0m\n\u001b[1;32m      7\u001b[0m \u001b[0;32mwhile\u001b[0m \u001b[0;32mTrue\u001b[0m\u001b[0;34m:\u001b[0m\u001b[0;34m\u001b[0m\u001b[0m\n\u001b[1;32m      8\u001b[0m     \u001b[0mn\u001b[0m \u001b[0;34m+=\u001b[0m \u001b[0;36m1\u001b[0m\u001b[0;34m\u001b[0m\u001b[0m\n\u001b[0;32m----> 9\u001b[0;31m     \u001b[0mmy_sum\u001b[0m \u001b[0;34m+=\u001b[0m \u001b[0mfloat_type\u001b[0m\u001b[0;34m(\u001b[0m\u001b[0;36m1\u001b[0m \u001b[0;34m/\u001b[0m \u001b[0mn\u001b[0m\u001b[0;34m)\u001b[0m\u001b[0;34m\u001b[0m\u001b[0m\n\u001b[0m\u001b[1;32m     10\u001b[0m     \u001b[0;32mif\u001b[0m \u001b[0mn\u001b[0m \u001b[0;34m%\u001b[0m \u001b[0;36m200000\u001b[0m \u001b[0;34m==\u001b[0m \u001b[0;36m0\u001b[0m\u001b[0;34m:\u001b[0m\u001b[0;34m\u001b[0m\u001b[0m\n\u001b[1;32m     11\u001b[0m         \u001b[0mprint\u001b[0m\u001b[0;34m(\u001b[0m\u001b[0;34m\"1/n = %g, sum0 = %g\"\u001b[0m\u001b[0;34m%\u001b[0m\u001b[0;34m(\u001b[0m\u001b[0;36m1.0\u001b[0m\u001b[0;34m/\u001b[0m\u001b[0mn\u001b[0m\u001b[0;34m,\u001b[0m \u001b[0mmy_sum\u001b[0m\u001b[0;34m)\u001b[0m\u001b[0;34m)\u001b[0m\u001b[0;34m\u001b[0m\u001b[0m\n",
      "\u001b[0;31mKeyboardInterrupt\u001b[0m: "
     ]
    }
   ],
   "source": [
    "n = int(0)\n",
    "\n",
    "float_type = np.float32\n",
    "\n",
    "my_sum = float_type(0)\n",
    "\n",
    "while True:\n",
    "    n += 1\n",
    "    my_sum += float_type(1 / n)\n",
    "    if n % 200000 == 0:\n",
    "        print(\"1/n = %g, sum0 = %g\"%(1.0/n, my_sum))\n",
    "        "
   ]
  },
  {
   "cell_type": "code",
   "execution_count": 2,
   "metadata": {
    "collapsed": true
   },
   "outputs": [],
   "source": []
  }
 ],
 "metadata": {
  "kernelspec": {
   "display_name": "Python 3",
   "language": "python",
   "name": "python3"
  },
  "language_info": {
   "codemirror_mode": {
    "name": "ipython",
    "version": 3
   },
   "file_extension": ".py",
   "mimetype": "text/x-python",
   "name": "python",
   "nbconvert_exporter": "python",
   "pygments_lexer": "ipython3",
   "version": "3.6.3"
  }
 },
 "nbformat": 4,
 "nbformat_minor": 1
}
