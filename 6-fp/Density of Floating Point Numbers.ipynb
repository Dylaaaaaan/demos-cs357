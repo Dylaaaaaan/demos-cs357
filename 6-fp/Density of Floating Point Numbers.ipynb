{
 "cells": [
  {
   "cell_type": "markdown",
   "metadata": {},
   "source": [
    "# Density of Floating Point Numbers\n",
    "\n",
    "This notebook enumerates all possible floating point nubmers in a floating point system and shows them in a plot to illustrate their density."
   ]
  },
  {
   "cell_type": "code",
   "execution_count": 1,
   "metadata": {
    "collapsed": true
   },
   "outputs": [],
   "source": [
    "import matplotlib as mpl\n",
    "import matplotlib.pyplot as plt\n",
    "%matplotlib inline\n",
    "import numpy as np"
   ]
  },
  {
   "cell_type": "code",
   "execution_count": 2,
   "metadata": {
    "collapsed": true
   },
   "outputs": [],
   "source": [
    "# https://matplotlib.org/users/customizing.html\n",
    "# print(plt.style.available) # uncomment to print all styles\n",
    "import seaborn as sns\n",
    "sns.set(font_scale=2)\n",
    "plt.style.use('seaborn-whitegrid')\n",
    "mpl.rcParams['figure.figsize'] = (10.0, 8.0)"
   ]
  },
  {
   "cell_type": "code",
   "execution_count": 3,
   "metadata": {
    "scrolled": true
   },
   "outputs": [
    {
     "data": {
      "text/plain": [
       "array([  0.0625  ,   0.078125,   0.09375 ,   0.109375,   0.125   ,\n",
       "         0.15625 ,   0.1875  ,   0.21875 ,   0.25    ,   0.3125  ,\n",
       "         0.375   ,   0.4375  ,   0.5     ,   0.625   ,   0.75    ,\n",
       "         0.875   ,   1.      ,   1.25    ,   1.5     ,   1.75    ,\n",
       "         2.      ,   2.5     ,   3.      ,   3.5     ,   4.      ,\n",
       "         5.      ,   6.      ,   7.      ,   8.      ,  10.      ,\n",
       "        12.      ,  14.      ,  16.      ,  20.      ,  24.      ,  28.      ])"
      ]
     },
     "execution_count": 3,
     "metadata": {},
     "output_type": "execute_result"
    }
   ],
   "source": [
    "significand_bits = 2\n",
    "exponent_min = -4\n",
    "exponent_max = 4\n",
    "\n",
    "fp_numbers = []\n",
    "for exp in range(exponent_min, exponent_max+1):\n",
    "    for sbits in range(0, 2**significand_bits):\n",
    "        significand = 1 + sbits/2**significand_bits \n",
    "        fp_numbers.append(significand * 2**exp)\n",
    "        \n",
    "fp_numbers = np.array(fp_numbers)\n",
    "fp_numbers"
   ]
  },
  {
   "cell_type": "code",
   "execution_count": 4,
   "metadata": {},
   "outputs": [
    {
     "data": {
      "image/png": "[encoded data removed]",
      "text/plain": [
       "<matplotlib.figure.Figure at 0x110fc9588>"
      ]
     },
     "metadata": {},
     "output_type": "display_data"
    }
   ],
   "source": [
    "plt.figure(figsize=(10,1))\n",
    "plt.plot(fp_numbers, np.ones_like(fp_numbers), \"o\");"
   ]
  },
  {
   "cell_type": "code",
   "execution_count": 7,
   "metadata": {},
   "outputs": [
    {
     "data": {
      "text/plain": [
       "[0, 1.6, 0, 2]"
      ]
     },
     "execution_count": 7,
     "metadata": {},
     "output_type": "execute_result"
    },
    {
     "data": {
      "image/png": "[encoded data removed]",
      "text/plain": [
       "<matplotlib.figure.Figure at 0x1a1e7f9a58>"
      ]
     },
     "metadata": {},
     "output_type": "display_data"
    }
   ],
   "source": [
    "plt.figure(figsize=(10,1))\n",
    "plt.plot(fp_numbers, np.ones_like(fp_numbers), \"o\");\n",
    "plt.axis([0,1.6, 0,2])"
   ]
  }
 ],
 "metadata": {
  "kernelspec": {
   "display_name": "Python 3",
   "language": "python",
   "name": "python3"
  },
  "language_info": {
   "codemirror_mode": {
    "name": "ipython",
    "version": 3
   },
   "file_extension": ".py",
   "mimetype": "text/x-python",
   "name": "python",
   "nbconvert_exporter": "python",
   "pygments_lexer": "ipython3",
   "version": "3.6.3"
  }
 },
 "nbformat": 4,
 "nbformat_minor": 1
}
