{
 "cells": [
  {
   "cell_type": "markdown",
   "metadata": {},
   "source": [
    "# Monopoly and Markov Chains\n",
    "## Game board"
   ]
  },
  {
   "cell_type": "markdown",
   "metadata": {},
   "source": [
    "![title](UIUCMonopolyDraft1.png)\n",
    "\n",
    "The monopoly board in picture represents a simplified version of the monopoly game. Strategy for monopoly can often be complicated, but a good place to begin strategizing is to find out which squares are most frequently visited. Players begin the game on the Go (0) square, rolling a dice to determine how many places forward they move.\n",
    "\n",
    "For example, on the first throw of the dice, if a player rolls 2, they go to the square (0 + 2) = 2, and land in Grainger Library. If a player happens to roll a 6, their turn continues and includes one more dice roll. They will move to the slot that is the sum of the two previous dice rolls, for example if they roll a 6 on the first turn and then a 3 on the extra dice roll, the player will land up at (6 + 3 = 9) the 9th square, or UGL. If a player rolls 2 6s in a row, they move 12 steps forward (i.e. the second 6 does not cause a re-roll). Note that it is impossible to go from the 0 index to the 6 index in a single turn.\n",
    "\n",
    "There are also certain spots on the board that change the movement mechanics. Index 12 says \"go to jail\", and moves a player to the jail index without exception. Indices 3, 7, and 14 are chance cards. In the original game, players would draw from a pile of cards that allow certain actions. The only action relevant to the movement mechanics is \"pass go\", which moves a player to the 0 index for the start of their next turn. Players will pick up a \"pass go\" card with a probability of 1 in 5 (0.2).\n",
    "\n",
    "Assuming that dice rolls are purely random, model the movement in the game to find the most visited squares on the board."
   ]
  },
  {
   "cell_type": "markdown",
   "metadata": {},
   "source": [
    "## Transition Matrix\n",
    "\n",
    "We define $n$ the size of the board, and here we have $n = 16$. The transition matrix is a $n \\times n$ matrix, where \n",
    "\n",
    "$M_{ij}$ = the probability of transitioning from state $j$ to state $i$ in one move (one dice roll - or two depending on the rule). \n",
    "\n",
    "For example, the transition matrix will provide information such as \"if I am in square 3, what is the probability that I will transition to square 10\" in one move (dice roll). Your task is to create the transition matrix that reflects the rules of the game. "
   ]
  },
  {
   "cell_type": "code",
   "execution_count": null,
   "metadata": {
    "collapsed": true
   },
   "outputs": [],
   "source": [
    "import numpy as np\n",
    "import numpy.linalg as la\n",
    "import matplotlib.pyplot as plt\n",
    "%matplotlib inline\n",
    "\n",
    "n = 16\n",
    "M = np.zeros((n,n))"
   ]
  },
  {
   "cell_type": "markdown",
   "metadata": {},
   "source": [
    "We will help you breaking down the construction of the matrix. Let's first account for the probabilities assuming no re-roll of dice (rolls of numbers 1-5 only) and no jumps (no jail or chance cards).\n",
    "\n",
    "Loop over all the columns $j$ (the \"from\" positions in the board), and determine the probability on landing in the $i$ positions in the board. Again, we are just assuming now that a dice roll will assume values 1-5 (you need to recall what is the probability of each event in a dice roll)."
   ]
  },
  {
   "cell_type": "code",
   "execution_count": null,
   "metadata": {
    "collapsed": true
   },
   "outputs": [],
   "source": []
  },
  {
   "cell_type": "markdown",
   "metadata": {},
   "source": [
    "Loop over all the columns $j$ (the \"from\" positions in the board), but now consider that the first roll was a 6. In this case, another roll happens, and the values 1-6 are possible. Add the probabilities on landing on $i$ positions."
   ]
  },
  {
   "cell_type": "code",
   "execution_count": null,
   "metadata": {
    "collapsed": true
   },
   "outputs": [],
   "source": []
  },
  {
   "cell_type": "markdown",
   "metadata": {},
   "source": [
    "You need to now account for the chance cards. Here we assume the player has a 20% probability of getting a \"pass go\" card if he lands in any of the \"Chance Card\" squares, which moves the player to the zero index position (the \"Go\" square). \n",
    "\n",
    "In other words, a player that has a current state of a \"Chance Card\" (that is the \"from\" or column index), will have a 80% probability of going to to the square defined by the dice roll (what you already determined), and a 20% probability of going to the 0 index square."
   ]
  },
  {
   "cell_type": "code",
   "execution_count": null,
   "metadata": {
    "collapsed": true
   },
   "outputs": [],
   "source": []
  },
  {
   "cell_type": "markdown",
   "metadata": {},
   "source": [
    "Now account for the \"go to jail square\". Go to jail square sends you to jail with probability 1."
   ]
  },
  {
   "cell_type": "code",
   "execution_count": null,
   "metadata": {
    "collapsed": true
   },
   "outputs": [],
   "source": []
  },
  {
   "cell_type": "markdown",
   "metadata": {},
   "source": [
    "Make sure that you are satisfying the properties of you transition matrix (you may have to go back to cell where you initialize M and run all the cells above consecutively). "
   ]
  },
  {
   "cell_type": "code",
   "execution_count": null,
   "metadata": {},
   "outputs": [],
   "source": [
    "M.sum(axis=0)"
   ]
  },
  {
   "cell_type": "markdown",
   "metadata": {},
   "source": [
    "## Finding the probabilities\n",
    "\n",
    "Now that we have set up our transition matrix, all that remains for us to do to see the most-visited square, and likely the most valuable property on our board is to run a power iteration to find the probabilities of visiting any given square. You should use the same \"for loop\" that you implemented in the previous example.\n",
    "\n",
    "Use as initial state as a player being on the 0 index square, i.e. \"Go\".\n",
    "\n",
    "Each state should be defined as the array `x`.\n",
    "\n",
    "Store all the states in the 2d array `allx`, where each state `x` is stored as a column of `allx`."
   ]
  },
  {
   "cell_type": "code",
   "execution_count": null,
   "metadata": {
    "collapsed": true
   },
   "outputs": [],
   "source": []
  },
  {
   "cell_type": "code",
   "execution_count": null,
   "metadata": {},
   "outputs": [],
   "source": [
    "plt.plot(allx);"
   ]
  },
  {
   "cell_type": "markdown",
   "metadata": {},
   "source": [
    "## Visualizing the result\n",
    "\n",
    "Feel free to run the given code below to plot the probabilities on a bar chart. You can then observe the relative odds of landing on any given square."
   ]
  },
  {
   "cell_type": "code",
   "execution_count": null,
   "metadata": {},
   "outputs": [],
   "source": [
    "import matplotlib.pyplot as plt\n",
    "%matplotlib inline\n",
    "\n",
    "plt.title('Monopoly board probabilities')\n",
    "plt.xlabel('Board index')\n",
    "plt.ylabel('Probability of landing')\n",
    "plt.bar(np.array([i for i in range(len(x))]), x)"
   ]
  }
 ],
 "metadata": {
  "kernelspec": {
   "display_name": "Python 3",
   "language": "python",
   "name": "python3"
  },
  "language_info": {
   "codemirror_mode": {
    "name": "ipython",
    "version": 3
   },
   "file_extension": ".py",
   "mimetype": "text/x-python",
   "name": "python",
   "nbconvert_exporter": "python",
   "pygments_lexer": "ipython3",
   "version": "3.6.9"
  }
 },
 "nbformat": 4,
 "nbformat_minor": 2
}
