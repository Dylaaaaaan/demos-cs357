{
  "cells": [
    {
      "cell_type": "code",
      "execution_count": null,
      "metadata": {
        "collapsed": true
      },
      "outputs": [],
      "source": [
        "import numpy as np\n",
        "import numpy.linalg as la\n",
        "import matplotlib.pyplot as plt\n",
        "%matplotlib inline\n",
        "import seaborn as sns\n",
        "sns.set(font_scale=2)\n",
        "sns.set_style(\"whitegrid\")\n",
        "np.seterr(divide='ignore');"
      ]
    },
    {
      "cell_type": "markdown",
      "metadata": {},
      "source": [
        "# Combining Newton's method with Bisection\n",
        "\n",
        "Newton's method features a quadratic convergence rate, but is not guaranteed to converge unless the algorithm is started sufficiently close to the root of a function $f$.  For example, the function\n",
        "\n",
        "$$ f(x) = \\tanh(20x)$$,\n",
        "\n",
        "where $\\tanh$ is the hyperbolic tangent function, has a single root at $x = 0$, but Newton's method will quickly diverge even at modest distances from the root."
      ]
    },
    {
      "cell_type": "markdown",
      "metadata": {},
      "source": [
        "Create functions that evaluate this function and it's derivative.  Recall that:\n",
        "\n",
        "$$\\frac{d}{dz}\\tanh(z) = 1 - \\tanh^2(z)$$"
      ]
    },
    {
      "cell_type": "code",
      "execution_count": null,
      "metadata": {
        "collapsed": true
      },
      "outputs": [],
      "source": []
    },
    {
      "cell_type": "markdown",
      "metadata": {},
      "source": [
        "Plot the function and its derivative over the interval $[-2,2]$.  Use two different plots for the function and its derivative"
      ]
    },
    {
      "cell_type": "code",
      "execution_count": null,
      "metadata": {
        "collapsed": true
      },
      "outputs": [],
      "source": []
    },
    {
      "cell_type": "markdown",
      "metadata": {},
      "source": [
        "You should notice that $f'(x) \\approx 0$ for most values of the input $x$.  Newton's method, which is given by:\n",
        "\n",
        "$$ x_{k+1} = x_k - \\frac{f(x_k)}{f'(x_k)}$$\n",
        "\n",
        "will divide by a very small number unless $x_k \\approx 0$.\n",
        "\n",
        "Even with a starting guess of $x_0 = 0.06$, Newton's method will diverge."
      ]
    },
    {
      "cell_type": "code",
      "execution_count": null,
      "metadata": {
        "collapsed": true
      },
      "outputs": [],
      "source": [
        "guesses = [0.06]"
      ]
    },
    {
      "cell_type": "markdown",
      "metadata": {},
      "source": [
        "###### Evaluate the next cell many times in-place (using Ctrl-Enter)\n",
        "The green dot is the current guess, and the orange line is the corresponding tangent line.  The next iterate will be where the tangent line intersects $x$-axis."
      ]
    },
    {
      "cell_type": "code",
      "execution_count": null,
      "metadata": {
        "collapsed": true
      },
      "outputs": [],
      "source": [
        "x = guesses[-1] # grab last guess\n",
        "slope = df(x)\n",
        "\n",
        "# plot approximate function\n",
        "plt.plot(xmesh, f(xmesh))\n",
        "plt.plot(xmesh, f(x) + slope*(xmesh-x))\n",
        "plt.plot(x, f(x), \"o\")\n",
        "plt.xlim([-2, 2])\n",
        "plt.ylim([-2, 2])\n",
        "plt.axhline(0, color=\"black\")\n",
        "\n",
        "# Compute approximate root\n",
        "xnew = x - f(x) / slope\n",
        "guesses.append(xnew)\n",
        "\n",
        "print('Next iterate will be: ', xnew)\n"
      ]
    },
    {
      "cell_type": "markdown",
      "metadata": {},
      "source": [
        "On the other hand, the bisection method will always find the root of this function, as long as the initial interval endpoints are of opposite sign.  It will not converge as fast as Newton's method, however.  To get the best of both worlds, we can combine the two as follows."
      ]
    },
    {
      "cell_type": "markdown",
      "metadata": {},
      "source": [
        "###### Algorithm\n",
        "We start with an initial interval $[a,b]$ such that $f(a)\\cdot f(b) < 0$ (so that the function values have opposite signs).  We set $c = \\text{argmin}_{z=a,b} |f(z)|$, i.e.\n",
        "\n",
        "$ c = a\\hspace{7mm} \\text{if  } |f(a)| < |f(b)|$\n",
        "\n",
        "$ c = b\\hspace{7mm} \\text{if  } |f(b)| < |f(a)|$\n",
        "\n",
        "and try to begin a Newton iteration from there (**Question**: why do we select $c$ in this way, why not the reversed inequalities?).  \n",
        "\n",
        "If the Newton iteration takes us outside the open interval $(a,b)$, then we are not getting any closer to the desired root, and may even be diverging.  In this case, we fall back to the bisection method. \n",
        "\n",
        "I.e. we first try:\n",
        "\n",
        "$m = c - \\frac{f(c)}{f'(c)}$\n",
        "\n",
        "and if $m \\geq b$ or $m \\leq a$, we scrap this value of $m$ and use the bisection method instead:\n",
        "\n",
        "$ m = \\frac{a + b}{2}$.\n",
        "\n",
        "\n",
        "Using the same criteria as the standard bisection method, we then update either $a$ or $b$ to have the value $m$.  We then repeat the process and choose the next value of $c = \\text{argmin}_{z=a,b} |f(z)|$.  We can terminate whenever $|f(c)| < \\text{tol}$."
      ]
    },
    {
      "cell_type": "markdown",
      "metadata": {},
      "source": [
        "Write a function that combines the two ideas.  Your function should return the root, as well as a list of tuples that stores $|f(c)|$ and what kind of step was taken (`Newton` or `Bisection`):"
      ]
    },
    {
      "cell_type": "code",
      "execution_count": null,
      "metadata": {
        "collapsed": true
      },
      "outputs": [],
      "source": [
        "def bisection_Newton(a0,b0,tol,f,df):\n",
        "    steps = [] # use this list to store tuples\n",
        "    \n",
        "    # define initial c\n",
        "    your_loop_statement:\n",
        "        # 1. try a Newton step\n",
        "        \n",
        "        # 2. Switch to Bisection if needed\n",
        "        \n",
        "        # 3. Change either a or b to be the newly obtained value\n",
        "        \n",
        "        # 4. redefine c\n",
        "            \n",
        "    return root, steps"
      ]
    },
    {
      "cell_type": "markdown",
      "metadata": {},
      "source": [
        "Test this method on $f(x) = \\tanh(20x)$ for the initial interval $[a,b] = [-2,5]$.  Use a tolerance of $10^{-8}$."
      ]
    },
    {
      "cell_type": "code",
      "execution_count": null,
      "metadata": {
        "collapsed": true
      },
      "outputs": [],
      "source": []
    },
    {
      "cell_type": "code",
      "execution_count": null,
      "metadata": {
        "collapsed": true
      },
      "outputs": [],
      "source": [
        "steps"
      ]
    },
    {
      "cell_type": "markdown",
      "metadata": {},
      "source": [
        "# GPS Application: N-D Newton's Method\n",
        "Global Positioning System (GPS) uses 4 satellites to calculate the location of a GPS receiver on earth.  We construct a $xyz$-coordinate system, with the origin located at the center of the Earth.  Relative to this coordinate system, each satellite $i$ has position $(A_i,B_i,C_i)$.  In addition to this, each satellite keeps track of time relative to some reference value, which is denoted $t_i$."
      ]
    },
    {
      "cell_type": "markdown",
      "metadata": {},
      "source": [
        "Here we define the values for 4 satellites using the rows of a `numpy`array.  $A_i$, $B_i$ and $C_i$ are measured in kilometers, and $t_i$ is measured in seconds:"
      ]
    },
    {
      "cell_type": "code",
      "execution_count": null,
      "metadata": {
        "collapsed": true
      },
      "outputs": [],
      "source": [
        "Satellites = np.array([[15600, 7540, 20140, 0.07074],\n",
        "                      [18760, 2750, 18610, 0.07220],\n",
        "                      [17610, 14630, 13480, 0.07690],\n",
        "                      [19170, 610, 18390, 0.07242]])"
      ]
    },
    {
      "cell_type": "markdown",
      "metadata": {},
      "source": [
        "We can plot the satellites in 3D, along with a sphere of radius 6370 km (approximately the radius of the Earth)."
      ]
    },
    {
      "cell_type": "code",
      "execution_count": null,
      "metadata": {
        "collapsed": true
      },
      "outputs": [],
      "source": [
        "# import 3d plotting\n",
        "from mpl_toolkits.mplot3d import Axes3D\n",
        "\n",
        "# data for sphere\n",
        "u = np.linspace(0, 2 * np.pi, 100)\n",
        "v = np.linspace(0, np.pi, 100)\n",
        "\n",
        "# multiply by 6370 km\n",
        "x = 6370*np.outer(np.cos(u), np.sin(v))\n",
        "y = 6370*np.outer(np.sin(u), np.sin(v))\n",
        "z = 6370*np.outer(np.ones(np.size(u)), np.cos(v))"
      ]
    },
    {
      "cell_type": "code",
      "execution_count": null,
      "metadata": {},
      "outputs": [],
      "source": [
        "fig = plt.figure(figsize=(12,12))\n",
        "ax = fig.add_subplot(111,projection='3d')\n",
        "\n",
        "ax.scatter(Satellites[:,0],Satellites[:,1], Satellites[:,2],s = 200)\n",
        "ax.plot_surface(x, y, z, color='b',alpha = 0.3,rstride = 1,cstride = 1,linewidth = 0.0,zorder = 10)\n",
        "ax.set_xlabel('x')\n",
        "ax.set_ylabel('y')\n",
        "ax.set_zlabel('z')\n",
        "ax.axes.xaxis.set_ticklabels([])\n",
        "ax.axes.yaxis.set_ticklabels([])\n",
        "ax.axes.zaxis.set_ticklabels([])\n",
        "ax.view_init(0,90)\n",
        "plt.show()"
      ]
    },
    {
      "cell_type": "markdown",
      "metadata": {},
      "source": [
        "The receiver on Earth has $xyz$ coordinates of it's own, as well as a time delay $d$ that measures the difference between its clock and the reference time.  In order to solve for the location of the receiver and measure it's delay, four nonlinear equations must be solved:\n",
        "\n",
        "$F_i(\\mathbf{X}) = F_i(x,y,z,d) = \\sqrt{(x - A_i)^2 + (y - B_i)^2 + (z - C_i)^2} - c(t_i - d),\\hspace{7mm} \\text{for  } i=1,2,3,4$\n",
        "\n",
        "Here, $c$ is the speed of light, 299792.456 km/s.  Then we want to solve the nonlinear system of equations\n",
        "\n",
        "$\\mathbf{F}(\\mathbf{X}) = \\mathbf{0}$,\n",
        "\n",
        "where $\\mathbf{F}(\\mathbf{X}) = (F_1(\\mathbf{X}),F_2(\\mathbf{X}),F_3(\\mathbf{X}),F_4(\\mathbf{X}))^T$ and $\\mathbf{X} = (x,y,z,d)^T$.\n",
        "\n",
        "### Newton's Method\n",
        "To solve the equations, we can start with an initial guess $\\mathbf{X}_0$ and compute a sequence of approximate solutions by Newton's method:\n",
        "\n",
        "$\\mathbf{J}(\\mathbf{X})\\mathbf{S}_k = -\\mathbf{F}(\\mathbf{X})$\n",
        "\n",
        "$\\mathbf{X}_{k+1} = \\mathbf{X}_k + \\mathbf{S}_k$\n",
        "\n",
        "$\\mathbf{J}(\\mathbf{X})$ is the Jacobian of $\\mathbf{F}$ evaluated at $\\mathbf{X}$ with entries given by $J_{ij} = \\frac{\\partial F_i}{\\partial X_j}$"
      ]
    },
    {
      "cell_type": "markdown",
      "metadata": {},
      "source": [
        "Write functions that compute both $\\mathbf{F}$ and $\\mathbf{J}$."
      ]
    },
    {
      "cell_type": "code",
      "execution_count": null,
      "metadata": {
        "collapsed": true
      },
      "outputs": [],
      "source": [
        "c = 299792.458\n",
        "# clear\n",
        "def f(X):\n",
        "    # your code here\n",
        "\n",
        "\n",
        "def J(X):\n",
        "    # your code here"
      ]
    },
    {
      "cell_type": "markdown",
      "metadata": {},
      "source": [
        "Let's use an initial guess of a receiver at the South Pole with no time delay: $\\mathbf{X}_0 = (0,0,-6370,0)^T$.  Starting from this guess, use Newton's method to locate the receiver on Earth.  Store each updated guess in a list.  You can terminate when $\\|\\mathbf{F}(\\mathbf{X})\\|_2 < 10^{-3}$."
      ]
    },
    {
      "cell_type": "code",
      "execution_count": null,
      "metadata": {
        "collapsed": true
      },
      "outputs": [],
      "source": [
        "X = np.array([0,0,-6370,0])\n",
        "X_hist = [X]\n",
        "\n"
      ]
    },
    {
      "cell_type": "markdown",
      "metadata": {},
      "source": [
        "You can run this next cell to plot how the guess changed for the first 3 steps:"
      ]
    },
    {
      "cell_type": "code",
      "execution_count": null,
      "metadata": {
        "collapsed": true
      },
      "outputs": [],
      "source": [
        "X0 = X_hist[0]\n",
        "X1 = X_hist[1]\n",
        "X2 = X_hist[2]\n",
        "X3 = X_hist[3]\n",
        "\n",
        "fig = plt.figure(figsize=(15,15))\n",
        "ax = fig.add_subplot(111,projection='3d')\n",
        "# Plot the surface\n",
        "ax.scatter(Satellites[:,0],Satellites[:,1], Satellites[:,2],s = 200)\n",
        "ax.plot_surface(x, y, z, color='b',alpha = 0.3,rstride = 1,cstride = 1,linewidth = 0.0,zorder = 10)\n",
        "ax.set_xlabel('x')\n",
        "ax.set_ylabel('y')\n",
        "ax.set_zlabel('z')\n",
        "ax.view_init(0,90)\n",
        "ax.scatter(X0[0],X0[1], X0[2],s=40,color='r',alpha = 1,zorder = 0)\n",
        "ax.scatter(X1[0],X1[1], X1[2],s=40,color='r',alpha = 1,zorder = 0)\n",
        "ax.scatter(X2[0],X2[1], X2[2],s=40,color='r',alpha = 1,zorder = 0)\n",
        "ax.scatter(X3[0],X3[1], X3[2],s=40,color='r',alpha = 1,zorder = 0)\n",
        "ax.axes.xaxis.set_ticklabels([])\n",
        "ax.axes.yaxis.set_ticklabels([])\n",
        "ax.axes.zaxis.set_ticklabels([])\n",
        "plt.show()"
      ]
    },
    {
      "cell_type": "markdown",
      "metadata": {},
      "source": [
        "# Secant Method - finding optimal points for numerical integration\n",
        "*Numerical Quadrature* is a class of methods that attempt to evaluate definite integrals\n",
        "\n",
        "$\\int_a^b f(x) dx$\n",
        "\n",
        "that are difficult or even impossible to compute by hand.  For example, in optics, the Fresnel integrals\n",
        "\n",
        "$\\int_0^b \\cos(x^2)\\ dx$\n",
        "\n",
        "$\\int_0^b\\sin (x^2)\\ dx$\n",
        "\n",
        "are used to study the diffraction of light.  However, we cannot use anti-derivatives to compute these integrals, because we can't write down a simple formula."
      ]
    },
    {
      "cell_type": "markdown",
      "metadata": {},
      "source": [
        "In order to approximate integrals, numerical quadrature replaces them by finite sums:\n",
        "\n",
        "$\\int_a^b f(x)\\ dx \\approx \\sum_{k=1}^N w_k f(x_k)$\n",
        "\n",
        "where the $w_k$'s are real numbers called *weights* and the $x_k$'s are points in the interval $[a,b]$ with $a\\leq x_1 < x_2 < \\dots < x_N \\leq b$ called *nodes*.\n",
        "\n",
        "There are many different choices for the weights and nodes, as well as how many of them are used.  For fixed $N$, choosing different points and weights can have a dramatic effect on the accuracy of this method."
      ]
    },
    {
      "cell_type": "markdown",
      "metadata": {},
      "source": [
        "### An optimally selected set of points\n",
        "Gauss-Legendre quadrature uses as nodes the roots of the $N$th-degree *Legendre Polynomials*.  An explicit formula for the $N$-th degree Legendre polynomial is:\n",
        "\n",
        "$$P_N(x) = \\frac{1}{2^n n!} \\frac{d^n}{dx^n}(x^2 - 1)^n$$.\n",
        "\n",
        "I was tempted to ask you to code this up, but that would be kind of annoying.  Luckily `scipy.special` provides a routine `scipy.special.eval_legendre` that computes these functions for you:"
      ]
    },
    {
      "cell_type": "code",
      "execution_count": null,
      "metadata": {
        "collapsed": true
      },
      "outputs": [],
      "source": [
        "import scipy.special as special\n",
        "degree = 12\n",
        "x = np.linspace(-1,1,500)\n",
        "y = special.eval_legendre(degree,x)\n",
        "plt.plot(x,y)\n",
        "plt.title('Legendre Polynomial of Degree 12');"
      ]
    },
    {
      "cell_type": "markdown",
      "metadata": {},
      "source": [
        "To perform Gauss-Legendre quadrature, we must solve the root-finding problem $P_N(x_k) = 0$ for $k = 1,2,\\dots,N$.  We could try Newton's method, but that would require us to compute the derivatives of these polynomials, and `scipy` has no routine for this.\n",
        "\n",
        "This is fairly common in mathematics and science: often we need to use \"special\" functions in a variety of applications that have no simple formula.  Rather than sit down and figure out how to code them up, you can usually find a **black box** implementation in a numerical software library.  Black box means you plug in the input, and let the library function do the computation for you without knowing how its implemented.  However, unless the library provides these functions derivatives, you can't do much else besides evaluate them."
      ]
    },
    {
      "cell_type": "markdown",
      "metadata": {},
      "source": [
        "##### Find The Roots using the Secant Method\n",
        "Even though we can't use Newton's method, we can still use the **secant method** since it doesn't require computing any derivatives.  Use the secant method to find the 5 roots of the 5th degree Legendre Polynomial."
      ]
    },
    {
      "cell_type": "code",
      "execution_count": null,
      "metadata": {
        "collapsed": true
      },
      "outputs": [],
      "source": [
        "# rename the function so you can type less\n",
        "f = special.eval_legendre"
      ]
    },
    {
      "cell_type": "markdown",
      "metadata": {},
      "source": [
        "Plot the graph so you can select good initial guesses. You can use the same code snippet from above, just change the degree of the polynomial."
      ]
    },
    {
      "cell_type": "code",
      "execution_count": null,
      "metadata": {
        "collapsed": true
      },
      "outputs": [],
      "source": []
    },
    {
      "cell_type": "markdown",
      "metadata": {},
      "source": [
        "Recall you need to have two initial guesses.  You might need to experiment.  You also need to pick a good stopping criterion for your method. Make sure to save the optimal solution for each one of the nodes (roots)."
      ]
    },
    {
      "cell_type": "code",
      "execution_count": null,
      "metadata": {
        "collapsed": true
      },
      "outputs": [],
      "source": [
        "# clear \n",
        "degree = 5\n",
        "nodes = np.array([])\n",
        "guesses = ... # choose some decent guesses\n",
        "\n",
        "\n",
        "# implement the secant method"
      ]
    },
    {
      "cell_type": "markdown",
      "metadata": {},
      "source": [
        "Verify graphically that the nodes you found are actually roots:"
      ]
    },
    {
      "cell_type": "code",
      "execution_count": null,
      "metadata": {
        "collapsed": true
      },
      "outputs": [],
      "source": [
        "plt.plot(x,y)\n",
        "plt.plot(nodes[0],f(degree,nodes[0]),'o')\n",
        "plt.plot(nodes[1],f(degree,nodes[1]),'o')\n",
        "plt.plot(nodes[2],f(degree,nodes[2]),'o')\n",
        "plt.plot(nodes[3],f(degree,nodes[3]),'o')\n",
        "plt.plot(nodes[4],f(degree,nodes[4]),'o')"
      ]
    },
    {
      "cell_type": "markdown",
      "metadata": {},
      "source": [
        "We can now approximate integrals using the equation:\n",
        "\n",
        "$\\int_{-1}^1 g(x)\\ dx \\approx \\sum_{k=1}^N w_k g(x_k)$\n",
        "\n",
        "where the $x_k$'s are the nodes you just found.  We'll supply the weights for each node (starting with the left-most node and moving to the right)"
      ]
    },
    {
      "cell_type": "code",
      "execution_count": null,
      "metadata": {
        "collapsed": true
      },
      "outputs": [],
      "source": [
        "weights = np.zeros(5)\n",
        "weights[0] = weights[-1] = (322 - 13*np.sqrt(70))/900\n",
        "weights[1] = weights[-2] = (322 + 13*np.sqrt(70))/900\n",
        "weights[2] = 128/225"
      ]
    },
    {
      "cell_type": "markdown",
      "metadata": {},
      "source": [
        "Compute the integrals over $[-1,1]$ for the functions $g(x) = \\cos\\left(\\frac{\\pi}{2}x\\right)$ and $g(x) = x^2 + 1$.  Make sure to sort your nodes correctly.  How close are your answers compared to when you do the integration exactly?"
      ]
    },
    {
      "cell_type": "code",
      "execution_count": null,
      "metadata": {
        "collapsed": true
      },
      "outputs": [],
      "source": []
    },
    {
      "cell_type": "code",
      "execution_count": null,
      "metadata": {
        "collapsed": true
      },
      "outputs": [],
      "source": []
    }
  ],
  "metadata": {
    "kernelspec": {
      "display_name": "Python 3",
      "language": "python",
      "name": "python3"
    },
    "language_info": {
      "codemirror_mode": {
        "name": "ipython",
        "version": 3
      },
      "file_extension": ".py",
      "mimetype": "text/x-python",
      "name": "python",
      "nbconvert_exporter": "python",
      "pygments_lexer": "ipython3",
      "version": "3.6.9"
    }
  },
  "nbformat": 4,
  "nbformat_minor": 2
}