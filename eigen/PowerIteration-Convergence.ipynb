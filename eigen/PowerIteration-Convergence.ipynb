{
 "cells": [
  {
   "cell_type": "markdown",
   "metadata": {},
   "source": [
    "# Power Iteration - convergence"
   ]
  },
  {
   "cell_type": "code",
   "execution_count": 1,
   "metadata": {
    "collapsed": true
   },
   "outputs": [],
   "source": [
    "import numpy as np\n",
    "import numpy.linalg as la\n",
    "import scipy.linalg as sla\n",
    "import matplotlib.pyplot as plt\n",
    "%matplotlib inline"
   ]
  },
  {
   "cell_type": "code",
   "execution_count": 2,
   "metadata": {
    "collapsed": true
   },
   "outputs": [],
   "source": [
    "n=3\n",
    "\n",
    "X = np.random.rand(n,n)\n",
    "U,_ = sla.qr(X)\n",
    "D = np.diag([5,3,1])\n",
    "A = U@D@U.T\n",
    "eigl, eigv = la.eig(A)\n",
    "\n",
    "x0 = np.array([0,1,0])\n"
   ]
  },
  {
   "cell_type": "markdown",
   "metadata": {},
   "source": [
    "## Power iteration"
   ]
  },
  {
   "cell_type": "code",
   "execution_count": 12,
   "metadata": {},
   "outputs": [
    {
     "name": "stdout",
     "output_type": "stream",
     "text": [
      "3.83839494637 4.8842935866\n",
      "5.35416037308 4.99523220504\n",
      "5.0660417292 4.99980642628\n",
      "5.01297396146 4.99999130505\n",
      "5.00255085439 4.99999930961\n",
      "5.0004875887 4.99999984905\n",
      "5.00008411631 4.99999994956\n",
      "5.00000878796 4.999999982\n",
      "[ 0.29811029 -0.3048888   0.18647408  0.19645097  0.19661338  0.19114721\n",
      "  0.17251489  0.10447396]\n"
     ]
    },
    {
     "data": {
      "image/png": "[encoded data removed]",
      "text/plain": [
       "<matplotlib.figure.Figure at 0x618582438>"
      ]
     },
     "metadata": {},
     "output_type": "display_data"
    }
   ],
   "source": [
    "#Power iteration to get largest eigenvalue\n",
    "nrm = la.norm(x0,np.inf)\n",
    "x = x0/nrm\n",
    "eigs = [nrm]\n",
    "diff = 1\n",
    "count = 0\n",
    "while (diff > 1e-4 and count < 100):\n",
    "    count += 1\n",
    "    x = A@x #xk+1 = A xk\n",
    "    nrm = la.norm(x,np.inf)\n",
    "    x = x/nrm\n",
    "    Rayl = x.T@A@x/(x.T@x)\n",
    "    print(nrm,Rayl)\n",
    "    diff = np.abs(eigs[-1]-nrm)\n",
    "    eigs.append(nrm)\n",
    "\n",
    "eigs = np.array(eigs)\n",
    "error = eigs - (5)\n",
    "plt.plot(np.abs(error)) \n",
    "print(error[1:]/error[:-1])\n"
   ]
  },
  {
   "cell_type": "markdown",
   "metadata": {},
   "source": [
    "## Rayleigh Quotient Iteration"
   ]
  },
  {
   "cell_type": "code",
   "execution_count": 13,
   "metadata": {},
   "outputs": [
    {
     "name": "stdout",
     "output_type": "stream",
     "text": [
      "4.99485277603\n",
      "4.99999999076\n",
      "5.0\n"
     ]
    },
    {
     "data": {
      "text/plain": [
       "[<matplotlib.lines.Line2D at 0x61869cd30>]"
      ]
     },
     "execution_count": 13,
     "metadata": {},
     "output_type": "execute_result"
    },
    {
     "data": {
      "image/png": "[encoded data removed]",
      "text/plain": [
       "<matplotlib.figure.Figure at 0x6184d8e10>"
      ]
     },
     "metadata": {},
     "output_type": "display_data"
    }
   ],
   "source": [
    "#Rayleigh Quotient iteration\n",
    "x0 =  np.random.randn(n)\n",
    "x = x0/la.norm(x0)\n",
    "Rayl = 6\n",
    "eigs = [Rayl]\n",
    "diff = 1\n",
    "while diff > 1e-4:\n",
    "    \n",
    "    P, L, U = sla.lu(A-Rayl*np.eye(n))\n",
    "    y = sla.solve_triangular(L, np.dot(P.T, x), lower=True)\n",
    "    x = sla.solve_triangular(U, y)    \n",
    "    x = x/la.norm(x)\n",
    "    Rayl = x.T@A@x/(x.T@x)\n",
    "    diff = np.abs(eigs[-1]-Rayl)\n",
    "    eigs.append(Rayl)\n",
    "    print(Rayl)\n",
    "    \n",
    "eigs = np.array(eigs)\n",
    "errorR = eigs - (5)\n",
    "plt.plot(np.abs(errorR)) "
   ]
  },
  {
   "cell_type": "code",
   "execution_count": 14,
   "metadata": {},
   "outputs": [
    {
     "data": {
      "text/plain": [
       "[<matplotlib.lines.Line2D at 0x61840b048>]"
      ]
     },
     "execution_count": 14,
     "metadata": {},
     "output_type": "execute_result"
    },
    {
     "data": {
      "image/png": "[encoded data removed]",
      "text/plain": [
       "<matplotlib.figure.Figure at 0x61840b5f8>"
      ]
     },
     "metadata": {},
     "output_type": "display_data"
    }
   ],
   "source": [
    "plt.plot(np.abs(errorR)) \n",
    "plt.plot(np.abs(error)) "
   ]
  },
  {
   "cell_type": "code",
   "execution_count": null,
   "metadata": {
    "collapsed": true
   },
   "outputs": [],
   "source": []
  }
 ],
 "metadata": {
  "kernelspec": {
   "display_name": "Python 3",
   "language": "python",
   "name": "python3"
  },
  "language_info": {
   "codemirror_mode": {
    "name": "ipython",
    "version": 3
   },
   "file_extension": ".py",
   "mimetype": "text/x-python",
   "name": "python",
   "nbconvert_exporter": "python",
   "pygments_lexer": "ipython3",
   "version": "3.6.3"
  }
 },
 "nbformat": 4,
 "nbformat_minor": 1
}
