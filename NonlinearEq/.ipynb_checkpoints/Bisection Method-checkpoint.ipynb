{
 "cells": [
  {
   "cell_type": "markdown",
   "metadata": {},
   "source": [
    "# Bisection Method"
   ]
  },
  {
   "cell_type": "code",
   "execution_count": null,
   "metadata": {
    "collapsed": true
   },
   "outputs": [],
   "source": [
    "import numpy as np\n",
    "import matplotlib.pyplot as plt\n",
    "%matplotlib inline\n",
    "import seaborn as sns\n",
    "sns.set(font_scale=2)\n",
    "sns.set_style(\"whitegrid\")"
   ]
  },
  {
   "cell_type": "code",
   "execution_count": null,
   "metadata": {},
   "outputs": [],
   "source": [
    "a0 = -2\n",
    "b0 = 2\n",
    "\n",
    "x = np.linspace(a0, b0)\n",
    "\n",
    "def f(x):\n",
    "    #return x\n",
    "    return np.exp(x) - 2\n",
    "\n",
    "xtrue = 0 \n",
    "xtrue = np.log(2)\n",
    "print(xtrue)\n",
    "\n",
    "plt.plot(x, f(x))"
   ]
  },
  {
   "cell_type": "code",
   "execution_count": null,
   "metadata": {},
   "outputs": [],
   "source": [
    "errors = []\n",
    "a = a0\n",
    "b = b0\n",
    "\n",
    "for i in range(10):\n",
    "    m = (a+b)/2\n",
    "\n",
    "    if  np.sign(f(a)) == np.sign(f(m)):\n",
    "        a = m  \n",
    "    else:\n",
    "        b = m\n",
    "        \n",
    "    errors.append(np.abs(xtrue - m))\n",
    "    print(\"%10g \\t %10g \\t %10g\" % (a, b, errors[-1]))"
   ]
  },
  {
   "cell_type": "code",
   "execution_count": null,
   "metadata": {},
   "outputs": [],
   "source": [
    "r = 1\n",
    "for i in range(len(errors)-1):\n",
    "    print(errors[i+1]/errors[i]**r)"
   ]
  },
  {
   "cell_type": "code",
   "execution_count": null,
   "metadata": {
    "collapsed": true
   },
   "outputs": [],
   "source": []
  }
 ],
 "metadata": {
  "kernelspec": {
   "display_name": "Python 3",
   "language": "python",
   "name": "python3"
  },
  "language_info": {
   "codemirror_mode": {
    "name": "ipython",
    "version": 3
   },
   "file_extension": ".py",
   "mimetype": "text/x-python",
   "name": "python",
   "nbconvert_exporter": "python",
   "pygments_lexer": "ipython3",
   "version": "3.6.3"
  }
 },
 "nbformat": 4,
 "nbformat_minor": 1
}
