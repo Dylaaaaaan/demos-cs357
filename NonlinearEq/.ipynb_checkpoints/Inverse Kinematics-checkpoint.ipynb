{
 "cells": [
  {
   "cell_type": "code",
   "execution_count": 3,
   "metadata": {
    "collapsed": true
   },
   "outputs": [],
   "source": [
    "import numpy as np\n",
    "import matplotlib.pyplot as plt\n",
    "%matplotlib inline\n",
    "\n",
    "from scipy.optimize import fsolve"
   ]
  },
  {
   "cell_type": "code",
   "execution_count": 4,
   "metadata": {
    "collapsed": true
   },
   "outputs": [],
   "source": [
    "def func(xvec, *const):\n",
    "    \n",
    "    #xvec = (theta1, theta2, theta3)\n",
    "    \n",
    "    a,b,x,y,beta  = const\n",
    "    \n",
    "    c      = np.sqrt(x**2 + y**2)    \n",
    "    alpha2 = np.arcsin(y/c)\n",
    "    \n",
    "    f = np.zeros(3)\n",
    "    \n",
    "    f[0] = a**2 + b**2 - 2*a*b*np.cos(xvec[1]) - c**2    \n",
    "    f[1] = a**2 + c**2 - 2*a*c*np.cos(xvec[0] - alpha2) - b**2\n",
    "    f[2] = xvec[0] + xvec[1]- xvec[2] - beta\n",
    "    \n",
    "    return f"
   ]
  },
  {
   "cell_type": "code",
   "execution_count": 8,
   "metadata": {},
   "outputs": [
    {
     "name": "stdout",
     "output_type": "stream",
     "text": [
      "[ 0.31010436  0.23145641  0.01796199]\n"
     ]
    }
   ],
   "source": [
    "# Define desired position for the robotic hand\n",
    "x = 10\n",
    "y = 2\n",
    "beta = np.pi/6\n",
    "# Given arm lengths:\n",
    "a = 15\n",
    "b = 5\n",
    "# Create tuple with optional problem parameters\n",
    "const = (a,b,x,y,beta)\n",
    "\n",
    "# Set initial guess\n",
    "\n",
    "c = np.sqrt(x**2+y**2)\n",
    "theta1guess = np.pi/2\n",
    "theta2guess = np.arccos( (a**2+b**2-c**2)/(2*a*b) )\n",
    "theta3guess = theta1guess+theta2guess\n",
    "xguess = [theta1guess,theta2guess,theta3guess]\n",
    "\n",
    "# Solve for the unknowns \n",
    "# sol = [theta1, theta2, theta3]\n",
    "sol = fsolve(func, xguess, args=const)\n",
    "print(sol)"
   ]
  },
  {
   "cell_type": "markdown",
   "metadata": {},
   "source": [
    "## Plot the \"arms\" and \"hand\" as a function of the given values x,y,beta"
   ]
  },
  {
   "cell_type": "code",
   "execution_count": 6,
   "metadata": {},
   "outputs": [
    {
     "data": {
      "image/png": "[encoded data removed]",
      "text/plain": [
       "<matplotlib.figure.Figure at 0x10922e128>"
      ]
     },
     "metadata": {},
     "output_type": "display_data"
    }
   ],
   "source": [
    "def endpt(pt, ang, length):\n",
    "    x, y = pt\n",
    "    endy = y + length * np.sin(ang)\n",
    "    endx = x + length * np.cos(ang)\n",
    "    return endx, endy\n",
    "\n",
    "startx, starty = (0,0)\n",
    "endx, endy = endpt((startx,starty),sol[0],a)\n",
    "plt.plot([startx, endx], [starty, endy], '-r')\n",
    "plt.plot([startx], [starty], 'ro')\n",
    "plt.text(startx+0.3, starty+0.6, r'$A$', fontsize=15, color='r')\n",
    "plt.text((startx+endx)/2, (starty+endy)/2+0.5, r'$a$', fontsize=15, color='r')\n",
    "plt.text(startx+0.6, starty, r'$\\theta_1$', fontsize=15, color='r')\n",
    "startx, starty = (endx,endy)\n",
    "endx, endy = endpt((startx,starty),sol[0]+sol[1]-np.pi,b)\n",
    "plt.plot([startx, endx], [starty, endy], '-y')\n",
    "plt.plot([startx], [starty], 'yo')\n",
    "plt.text(startx-0.1, starty+0.6, r'$B$', fontsize=15, color='y')\n",
    "plt.text((startx+endx)/2, (starty+endy)/2+0.2, r'$b$', fontsize=15, color='y')\n",
    "plt.text(startx-0.5, starty-0.8, r'$\\theta_2$', fontsize=15, color='y')\n",
    "startx, starty = (endx,endy)\n",
    "endx, endy = endpt((startx,starty),sol[0]+sol[1]-sol[2],5)\n",
    "plt.plot([startx, endx], [starty, endy], ':g')\n",
    "plt.plot([startx, startx+5], [starty, starty], ':g')\n",
    "plt.plot([startx], [starty], 'go')\n",
    "plt.text(startx+0.8, starty+0.15, r'$\\beta$', fontsize=15, color='g')\n",
    "plt.text(startx, starty-0.5, r'$C$', fontsize=15, color='g')\n",
    "plt.plot([startx, startx], [0, starty], ':b')\n",
    "plt.text(startx, starty/2, r'$y$', fontsize=15, color='b')\n",
    "plt.plot([0, startx], [starty, starty], ':b')\n",
    "plt.text(startx/2, starty, r'$x$', fontsize=15, color='b')\n",
    "plt.text(startx-0.2, starty+0.5, r'$\\theta_3$', fontsize=15, color='g')\n",
    "plt.xlim(xmin=0)\n",
    "plt.ylim(ymin=0)\n",
    "plt.show()"
   ]
  },
  {
   "cell_type": "code",
   "execution_count": null,
   "metadata": {
    "collapsed": true
   },
   "outputs": [],
   "source": []
  }
 ],
 "metadata": {
  "kernelspec": {
   "display_name": "Python 3",
   "language": "python",
   "name": "python3"
  },
  "language_info": {
   "codemirror_mode": {
    "name": "ipython",
    "version": 3
   },
   "file_extension": ".py",
   "mimetype": "text/x-python",
   "name": "python",
   "nbconvert_exporter": "python",
   "pygments_lexer": "ipython3",
   "version": "3.6.3"
  }
 },
 "nbformat": 4,
 "nbformat_minor": 2
}
