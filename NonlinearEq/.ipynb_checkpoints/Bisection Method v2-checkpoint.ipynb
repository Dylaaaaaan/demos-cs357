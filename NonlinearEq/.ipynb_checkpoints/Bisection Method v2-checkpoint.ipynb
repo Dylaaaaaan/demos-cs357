{
 "cells": [
  {
   "cell_type": "markdown",
   "metadata": {},
   "source": [
    "# Bisection Method"
   ]
  },
  {
   "cell_type": "code",
   "execution_count": 1,
   "metadata": {
    "collapsed": true
   },
   "outputs": [],
   "source": [
    "import numpy as np\n",
    "import matplotlib.pyplot as plt\n",
    "%matplotlib inline\n",
    "import seaborn as sns\n",
    "sns.set(font_scale=2)\n",
    "sns.set_style(\"whitegrid\")"
   ]
  },
  {
   "cell_type": "code",
   "execution_count": 6,
   "metadata": {},
   "outputs": [
    {
     "name": "stdout",
     "output_type": "stream",
     "text": [
      "0.69314718056\n"
     ]
    },
    {
     "data": {
      "text/plain": [
       "[<matplotlib.lines.Line2D at 0x1a13d46128>]"
      ]
     },
     "execution_count": 6,
     "metadata": {},
     "output_type": "execute_result"
    },
    {
     "data": {
      "image/png": "[encoded data removed]",
      "text/plain": [
       "<matplotlib.figure.Figure at 0x1a13c4db38>"
      ]
     },
     "metadata": {},
     "output_type": "display_data"
    }
   ],
   "source": [
    "a0 = -2\n",
    "b0 = 2\n",
    "\n",
    "x = np.linspace(a0, b0)\n",
    "\n",
    "def f(x):\n",
    "    #return x\n",
    "    return np.exp(x) - 2\n",
    "\n",
    "xtrue = 0 \n",
    "xtrue = np.log(2)\n",
    "print(xtrue)\n",
    "\n",
    "plt.plot(x, f(x))"
   ]
  },
  {
   "cell_type": "code",
   "execution_count": 23,
   "metadata": {},
   "outputs": [
    {
     "name": "stdout",
     "output_type": "stream",
     "text": [
      "         0 \t          2 \t   0.693147\n",
      "         0 \t          1 \t   0.306853\n",
      "       0.5 \t          1 \t   0.193147\n",
      "       0.5 \t       0.75 \t  0.0568528\n",
      "     0.625 \t       0.75 \t  0.0681472\n",
      "    0.6875 \t       0.75 \t 0.00564718\n",
      "    0.6875 \t    0.71875 \t  0.0256028\n",
      "    0.6875 \t   0.703125 \t 0.00997782\n",
      "    0.6875 \t   0.695312 \t 0.00216532\n",
      "  0.691406 \t   0.695312 \t 0.00174093\n"
     ]
    }
   ],
   "source": [
    "errors = []\n",
    "a = a0\n",
    "b = b0\n",
    "\n",
    "for i in range(10):\n",
    "    m = (a+b)/2\n",
    "\n",
    "    if  np.sign(f(a)) == np.sign(f(m)):\n",
    "        a = m  \n",
    "    else:\n",
    "        b = m\n",
    "        \n",
    "    errors.append(np.abs(xtrue - m))\n",
    "    print(\"%10g \\t %10g \\t %10g\" % (a, b, errors[-1]))"
   ]
  },
  {
   "cell_type": "code",
   "execution_count": 24,
   "metadata": {},
   "outputs": [
    {
     "name": "stdout",
     "output_type": "stream",
     "text": [
      "         0 \t          2 \t   0.693147\n",
      "         0 \t          1 \t   0.306853\n",
      "       0.5 \t          1 \t   0.193147\n",
      "       0.5 \t       0.75 \t  0.0568528\n",
      "     0.625 \t       0.75 \t  0.0681472\n",
      "    0.6875 \t       0.75 \t 0.00564718\n",
      "    0.6875 \t    0.71875 \t  0.0256028\n",
      "    0.6875 \t   0.703125 \t 0.00997782\n",
      "    0.6875 \t   0.695312 \t 0.00216532\n",
      "  0.691406 \t   0.695312 \t 0.00174093\n"
     ]
    }
   ],
   "source": [
    "errors = []\n",
    "a = a0\n",
    "b = b0\n",
    "fa = np.sign(f(a))\n",
    "\n",
    "for i in range(10):\n",
    "    m = (a+b)/2\n",
    "    fm = np.sign(f(m))\n",
    "\n",
    "    if  fa == fm:\n",
    "        a = m  \n",
    "    else:\n",
    "        b = m\n",
    "        \n",
    "    errors.append(np.abs(xtrue - m))\n",
    "    print(\"%10g \\t %10g \\t %10g\" % (a, b, errors[-1]))"
   ]
  },
  {
   "cell_type": "code",
   "execution_count": 8,
   "metadata": {},
   "outputs": [
    {
     "name": "stdout",
     "output_type": "stream",
     "text": [
      "0.442695040889\n",
      "0.629445676635\n",
      "0.294349724781\n",
      "1.19865964839\n",
      "0.0828674130543\n",
      "4.53373487323\n",
      "0.389715650787\n",
      "0.217013291638\n",
      "0.804006340931\n",
      "0.121885642619\n",
      "3.6022058813\n",
      "0.361196162442\n",
      "0.115710652572\n",
      "2.8211233269\n",
      "0.322765635507\n",
      "0.0491116308418\n",
      "9.6808877333\n",
      "0.448351843986\n",
      "0.384804408175\n"
     ]
    }
   ],
   "source": [
    "r = 1\n",
    "for i in range(len(errors)-1):\n",
    "    print(errors[i+1]/errors[i]**r)"
   ]
  },
  {
   "cell_type": "code",
   "execution_count": null,
   "metadata": {
    "collapsed": true
   },
   "outputs": [],
   "source": []
  }
 ],
 "metadata": {
  "kernelspec": {
   "display_name": "Python 3",
   "language": "python",
   "name": "python3"
  },
  "language_info": {
   "codemirror_mode": {
    "name": "ipython",
    "version": 3
   },
   "file_extension": ".py",
   "mimetype": "text/x-python",
   "name": "python",
   "nbconvert_exporter": "python",
   "pygments_lexer": "ipython3",
   "version": "3.6.3"
  }
 },
 "nbformat": 4,
 "nbformat_minor": 1
}
