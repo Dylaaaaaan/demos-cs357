{
 "cells": [
  {
   "cell_type": "markdown",
   "metadata": {},
   "source": [
    "# Computing $\\pi$ with Interpolation"
   ]
  },
  {
   "cell_type": "code",
   "execution_count": 1,
   "metadata": {
    "collapsed": true
   },
   "outputs": [],
   "source": [
    "import numpy as np\n",
    "import numpy.linalg as la\n",
    "import matplotlib.pyplot as plt\n",
    "%matplotlib inline"
   ]
  },
  {
   "cell_type": "markdown",
   "metadata": {},
   "source": [
    "Here's the half-circle function:"
   ]
  },
  {
   "cell_type": "code",
   "execution_count": 2,
   "metadata": {
    "collapsed": true
   },
   "outputs": [],
   "source": [
    "def f(x):\n",
    "    return np.sqrt(1-x**2)"
   ]
  },
  {
   "cell_type": "markdown",
   "metadata": {},
   "source": [
    "We'll only look at it on $[0,1]$:"
   ]
  },
  {
   "cell_type": "code",
   "execution_count": 3,
   "metadata": {
    "scrolled": true
   },
   "outputs": [
    {
     "data": {
      "image/png": "[encoded data removed]",
      "text/plain": [
       "<matplotlib.figure.Figure at 0x11366d1d0>"
      ]
     },
     "metadata": {},
     "output_type": "display_data"
    }
   ],
   "source": [
    "x_plot = np.linspace(0, 1, 1000)\n",
    "plt.plot(x_plot, f(x_plot))\n",
    "_ = plt.axis('equal')"
   ]
  },
  {
   "cell_type": "markdown",
   "metadata": {},
   "source": [
    "The area under this curve should be ... $\\frac{\\pi}{4}$"
   ]
  },
  {
   "cell_type": "code",
   "execution_count": 11,
   "metadata": {},
   "outputs": [
    {
     "data": {
      "text/plain": [
       "array([ 0.  ,  0.01,  0.02,  0.03,  0.04,  0.05,  0.06,  0.07,  0.08,\n",
       "        0.09,  0.1 ,  0.11,  0.12,  0.13,  0.14,  0.15,  0.16,  0.17,\n",
       "        0.18,  0.19,  0.2 ,  0.21,  0.22,  0.23,  0.24,  0.25,  0.26,\n",
       "        0.27,  0.28,  0.29,  0.3 ,  0.31,  0.32,  0.33,  0.34,  0.35,\n",
       "        0.36,  0.37,  0.38,  0.39,  0.4 ,  0.41,  0.42,  0.43,  0.44,\n",
       "        0.45,  0.46,  0.47,  0.48,  0.49,  0.5 ,  0.51,  0.52,  0.53,\n",
       "        0.54,  0.55,  0.56,  0.57,  0.58,  0.59,  0.6 ,  0.61,  0.62,\n",
       "        0.63,  0.64,  0.65,  0.66,  0.67,  0.68,  0.69,  0.7 ,  0.71,\n",
       "        0.72,  0.73,  0.74,  0.75,  0.76,  0.77,  0.78,  0.79,  0.8 ,\n",
       "        0.81,  0.82,  0.83,  0.84,  0.85,  0.86,  0.87,  0.88,  0.89,\n",
       "        0.9 ,  0.91,  0.92,  0.93,  0.94,  0.95,  0.96,  0.97,  0.98,\n",
       "        0.99,  1.  ])"
      ]
     },
     "execution_count": 11,
     "metadata": {},
     "output_type": "execute_result"
    }
   ],
   "source": [
    "degree = 100\n",
    "\n",
    "nodes = np.linspace(0, 1, degree+1) # Number of interpolation points = degree + 1\n",
    "nodes"
   ]
  },
  {
   "cell_type": "markdown",
   "metadata": {},
   "source": [
    "Now build the Vandermonde matrix:"
   ]
  },
  {
   "cell_type": "code",
   "execution_count": 12,
   "metadata": {
    "collapsed": true
   },
   "outputs": [],
   "source": [
    "V = np.array([\n",
    "    nodes**i\n",
    "    for i in range(degree+1)\n",
    "]).T"
   ]
  },
  {
   "cell_type": "markdown",
   "metadata": {},
   "source": [
    "And find the coefficients as `coeffs`:"
   ]
  },
  {
   "cell_type": "code",
   "execution_count": 13,
   "metadata": {},
   "outputs": [
    {
     "data": {
      "text/plain": [
       "array([  1.00000000e+00,  -3.29866074e-05,  -4.97053026e-01,\n",
       "        -8.08601990e-02,  -5.85173358e-01,   7.28865413e+01,\n",
       "        -1.89390938e+03,   2.75346529e+04,  -2.65531581e+05,\n",
       "         1.81205414e+06,  -8.99031995e+06,   3.24967210e+07,\n",
       "        -8.31887897e+07,   1.36630440e+08,  -8.79874194e+07,\n",
       "        -1.71901984e+08,   4.75248041e+08,  -2.99163464e+08,\n",
       "        -5.05999958e+08,   1.01136454e+09,  -4.16941372e+08,\n",
       "        -2.56118943e+08,  -3.96562970e+07,  -5.85195947e+07,\n",
       "         1.24791330e+09,  -1.27513118e+09,  -4.84894205e+07,\n",
       "         2.53923862e+08,  -1.73034858e+08,   1.25113363e+09,\n",
       "        -1.46493105e+09,   5.08981615e+08,   1.77547842e+07,\n",
       "        -1.28071391e+08,  -3.80798363e+08,   8.41284660e+08,\n",
       "        -1.19846608e+08,  -4.62966376e+08,   2.75471049e+08,\n",
       "        -4.76982180e+07,  -4.29237820e+08,   8.60725409e+08,\n",
       "        -2.00088076e+08,  -2.69825400e+08,  -6.99741096e+08,\n",
       "         3.94753697e+08,   2.72411787e+08,   3.01597233e+08,\n",
       "         6.99091875e+08,  -4.10371814e+08,  -5.74027520e+08,\n",
       "        -5.17197206e+08,  -3.73718912e+08,   4.23094439e+08,\n",
       "         3.60858079e+08,   6.75979374e+08,  -3.38677282e+08,\n",
       "         4.54846674e+08,  -2.15463882e+08,  -2.96876723e+08,\n",
       "        -6.87649186e+08,   7.03353690e+08,  -6.84140114e+08,\n",
       "         2.29376810e+08,   2.32355885e+08,   1.25063149e+08,\n",
       "        -8.67279788e+08,   1.31377593e+09,  -1.03525061e+08,\n",
       "         5.09992669e+08,  -7.93524115e+08,  -5.46264762e+08,\n",
       "         5.98137372e+08,  -7.09265804e+08,   5.25808075e+08,\n",
       "        -5.35930038e+08,   9.11180395e+08,  -4.88861001e+08,\n",
       "         6.01362066e+08,  -7.70788750e+08,   1.44927979e+08,\n",
       "        -1.69859044e+08,   7.97837419e+08,   8.99298078e+07,\n",
       "        -4.40043410e+08,  -5.25462778e+08,   2.15528469e+07,\n",
       "         8.09072447e+07,   7.54095861e+08,   3.65752524e+08,\n",
       "        -1.34583218e+09,  -2.42979850e+07,  -1.57740662e+08,\n",
       "         9.68247653e+08,   7.16533919e+08,  -5.59562196e+08,\n",
       "        -9.11220154e+08,   1.25159676e+08,   3.15709498e+08,\n",
       "         2.21498693e+08,  -1.73784258e+08])"
      ]
     },
     "execution_count": 13,
     "metadata": {},
     "output_type": "execute_result"
    }
   ],
   "source": [
    "coeffs = la.solve(V, f(nodes))\n",
    "coeffs"
   ]
  },
  {
   "cell_type": "markdown",
   "metadata": {},
   "source": [
    "Now evaluate the interpolant at `x_plot`"
   ]
  },
  {
   "cell_type": "code",
   "execution_count": 14,
   "metadata": {},
   "outputs": [
    {
     "data": {
      "text/plain": [
       "<matplotlib.legend.Legend at 0x113c69be0>"
      ]
     },
     "execution_count": 14,
     "metadata": {},
     "output_type": "execute_result"
    },
    {
     "data": {
      "image/png": "[encoded data removed]",
      "text/plain": [
       "<matplotlib.figure.Figure at 0x1138c1cf8>"
      ]
     },
     "metadata": {},
     "output_type": "display_data"
    }
   ],
   "source": [
    "interp_plot = 0*x_plot\n",
    "for i in range(degree+1):\n",
    "    interp_plot += coeffs[i] * x_plot**i\n",
    "    \n",
    "plt.plot(x_plot,  interp_plot, label = \"interpolant\")\n",
    "plt.plot(x_plot, f(x_plot), label = \"true function\")\n",
    "plt.plot(nodes, f(nodes), \"o\", label = \"data points\")\n",
    "\n",
    "plt.legend(loc=\"best\")\n"
   ]
  },
  {
   "cell_type": "markdown",
   "metadata": {},
   "source": [
    "Now integrate the interpolant:"
   ]
  },
  {
   "cell_type": "code",
   "execution_count": 15,
   "metadata": {
    "collapsed": true
   },
   "outputs": [],
   "source": [
    "# Evaluate the integral from s to t, and therefore the area under the 1/4 circle (circle of radius 1)\n",
    "t = 1\n",
    "s = 0\n",
    "integral = 0\n",
    "for i in range(degree+1):\n",
    "    integral += coeffs[i] * 1/(i+1) * (t**(i+1) - s**(i+1))"
   ]
  },
  {
   "cell_type": "code",
   "execution_count": 16,
   "metadata": {},
   "outputs": [
    {
     "data": {
      "text/plain": [
       "3.1413446106016636"
      ]
     },
     "execution_count": 16,
     "metadata": {},
     "output_type": "execute_result"
    }
   ],
   "source": [
    "my_pi = 4*integral\n",
    "my_pi"
   ]
  },
  {
   "cell_type": "code",
   "execution_count": null,
   "metadata": {
    "collapsed": true
   },
   "outputs": [],
   "source": []
  },
  {
   "cell_type": "code",
   "execution_count": null,
   "metadata": {
    "collapsed": true
   },
   "outputs": [],
   "source": []
  }
 ],
 "metadata": {
  "kernelspec": {
   "display_name": "Python 3",
   "language": "python",
   "name": "python3"
  },
  "language_info": {
   "codemirror_mode": {
    "name": "ipython",
    "version": 3
   },
   "file_extension": ".py",
   "mimetype": "text/x-python",
   "name": "python",
   "nbconvert_exporter": "python",
   "pygments_lexer": "ipython3",
   "version": "3.6.3"
  },
  "widgets": {
   "state": {},
   "version": "1.1.2"
  }
 },
 "nbformat": 4,
 "nbformat_minor": 1
}
