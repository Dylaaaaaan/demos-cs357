{
  "cells": [
    {
      "cell_type": "code",
      "execution_count": 9,
      "metadata": {
        "collapsed": true
      },
      "outputs": [],
      "source": [
        "import numpy as np\n",
        "import numpy.linalg as la\n",
        "import matplotlib.pyplot as plt\n",
        "%matplotlib inline\n",
        "import seaborn as sns\n",
        "sns.set(font_scale=2)\n",
        "sns.set_style(\"whitegrid\")"
      ]
    },
    {
      "cell_type": "markdown",
      "metadata": {},
      "source": [
        "# One dimensional nonlinear equations"
      ]
    },
    {
      "cell_type": "markdown",
      "metadata": {},
      "source": [
        "In this activity, we will find the root of nonlinear equations using three different iterative methods. For each one, you should be thinking about cost and convergence rate.\n",
        "\n",
        "The iterative methods below can be applied to more complex equations, but here we will use a simple nonlinear equation of the form:\n",
        "\n",
        "$$f(x) = e^x - 2 $$\n",
        "\n",
        "The exact root that satisfies $f(x) = 0$ is $x = ln(2) \\approx 0.693147$. We can take a look at the function in the interval $[-2,2]$.\n"
      ]
    },
    {
      "cell_type": "code",
      "execution_count": 63,
      "metadata": {},
      "outputs": [
        {
          "data": {
            "text/plain": [
              "[<matplotlib.lines.Line2D at 0x11c2313c8>]"
            ]
          },
          "execution_count": 63,
          "metadata": {},
          "output_type": "execute_result"
        },
        {
          "data": {
            "image/png": "[encoded data removed]",
            "text/plain": [
              "<Figure size 432x288 with 1 Axes>"
            ]
          },
          "metadata": {},
          "output_type": "display_data"
        }
      ],
      "source": [
        "a0 = -2\n",
        "b0 = 2\n",
        "\n",
        "x = np.linspace(a0, b0)\n",
        "\n",
        "def f(x):\n",
        "    return np.exp(x) - 2\n",
        "\n",
        "def df(x):\n",
        "    return np.exp(x)\n",
        "\n",
        "xtrue = np.log(2)\n",
        "\n",
        "plt.plot(x, f(x))\n",
        "plt.plot(xtrue,0,'ro')"
      ]
    },
    {
      "cell_type": "markdown",
      "metadata": {},
      "source": [
        "## Bisection Method\n",
        "\n",
        "#### First we will run the iterative process for a few iterations:"
      ]
    },
    {
      "cell_type": "code",
      "execution_count": 52,
      "metadata": {},
      "outputs": [
        {
          "name": "stdout",
          "output_type": "stream",
          "text": [
            "         0 \t          2 \t            2\n",
            "         0 \t          1 \t            1\n",
            "       0.5 \t          1 \t          0.5\n",
            "       0.5 \t       0.75 \t         0.25\n",
            "     0.625 \t       0.75 \t        0.125\n",
            "    0.6875 \t       0.75 \t       0.0625\n",
            "    0.6875 \t    0.71875 \t      0.03125\n",
            "    0.6875 \t   0.703125 \t     0.015625\n",
            "    0.6875 \t   0.695312 \t    0.0078125\n",
            "  0.691406 \t   0.695312 \t   0.00390625\n",
            "  0.691406 \t   0.693359 \t   0.00195312\n",
            "  0.692383 \t   0.693359 \t  0.000976562\n",
            "exact root is =  0.6931471805599453\n"
          ]
        }
      ],
      "source": [
        "a = a0\n",
        "b = b0\n",
        "interval = np.abs(a - b)   \n",
        "errors = []\n",
        "\n",
        "fa = f(a)\n",
        "\n",
        "for i in range(12):\n",
        "    m = (a+b)/2\n",
        "    fm = f(m)   \n",
        "    if  np.sign(fa) == np.sign(fm):\n",
        "        a = m \n",
        "        fa = fm # this line is not really needed, \n",
        "        # since we only need the sign of a, and sign of a is the same as sign of m\n",
        "    else:\n",
        "        b = m\n",
        "    interval = np.abs(a - b)    \n",
        "    errors.append(interval)        \n",
        "    print(\"%10g \\t %10g \\t %12g\" % (a, b, interval))\n",
        "    \n",
        "print('exact root is = ', np.log(2))"
      ]
    },
    {
      "cell_type": "markdown",
      "metadata": {},
      "source": [
        "#### Now we will add a stopping criteria. \n",
        "\n",
        "Since we know the interval gets divided by two every iteration, how many iterations do we need to perform to achieve the tolerance $2^{-k}$?\n",
        "\n",
        "Note that only one function evaluation is needed per iteration!\n",
        "\n",
        "We can also verify the linear convergence, with C = 0.5"
      ]
    },
    {
      "cell_type": "code",
      "execution_count": 53,
      "metadata": {},
      "outputs": [
        {
          "name": "stdout",
          "output_type": "stream",
          "text": [
            "         0 \t          2 \t            2          0.5\n",
            "         0 \t          1 \t            1          0.5\n",
            "       0.5 \t          1 \t          0.5          0.5\n",
            "       0.5 \t       0.75 \t         0.25          0.5\n",
            "     0.625 \t       0.75 \t        0.125          0.5\n",
            "    0.6875 \t       0.75 \t       0.0625          0.5\n",
            "exact root is =  0.6931471805599453\n"
          ]
        }
      ],
      "source": [
        "a = a0\n",
        "b = b0\n",
        "interval = np.abs(a - b)   \n",
        "errors = [interval]\n",
        "\n",
        "fa = f(a)\n",
        "count = 0\n",
        "\n",
        "while count < 30 and interval > 2**(-4):\n",
        "    m = (a+b)/2\n",
        "    fm = f(m)   \n",
        "    if  fa*fm > 0:\n",
        "        a = m \n",
        "    else:\n",
        "        b = m\n",
        "    interval = np.abs(a - b)    \n",
        "    errors.append(interval)        \n",
        "    print(\"%10g \\t %10g \\t %12g %12g\" % (a, b, interval, interval/errors[-2]))\n",
        "    \n",
        "print('exact root is = ', np.log(2))"
      ]
    },
    {
      "cell_type": "code",
      "execution_count": 58,
      "metadata": {},
      "outputs": [
        {
          "data": {
            "text/plain": [
              "Text(0.5, 0, 'Iterations')"
            ]
          },
          "execution_count": 58,
          "metadata": {},
          "output_type": "execute_result"
        },
        {
          "data": {
            "image/png": "[encoded data removed]",
            "text/plain": [
              "<Figure size 432x288 with 1 Axes>"
            ]
          },
          "metadata": {},
          "output_type": "display_data"
        }
      ],
      "source": [
        "plt.plot(errors)\n",
        "plt.ylabel('Error (interval size)')\n",
        "plt.xlabel('Iterations')"
      ]
    },
    {
      "cell_type": "markdown",
      "metadata": {},
      "source": [
        "What happens if you have multiple roots inside the interval? Bisection method will converge to one of the roots. Try to run the code snippet above using the function \n",
        "\n",
        "$$ f(x) = 0.5 x^2 - 2 $$\n",
        "\n",
        "Change the interval, and observe what happens."
      ]
    },
    {
      "cell_type": "markdown",
      "metadata": {
        "collapsed": true
      },
      "source": [
        "## Newton's Method"
      ]
    },
    {
      "cell_type": "code",
      "execution_count": 98,
      "metadata": {
        "collapsed": true
      },
      "outputs": [],
      "source": [
        "x0 = 2\n",
        "r = 2"
      ]
    },
    {
      "cell_type": "code",
      "execution_count": 99,
      "metadata": {},
      "outputs": [
        {
          "name": "stdout",
          "output_type": "stream",
          "text": [
            "   1.27067 \t   1.56324 \t 5.7752338591328012e-01 0.5775\n",
            "  0.831957 \t  0.297812 \t 1.3881012318002328e-01 0.4162\n",
            "  0.702351 \t 0.0184918 \t 9.2034034572215928e-03 0.4776\n",
            "  0.693189 \t8.44452e-05 \t 4.2221690566890402e-05 0.4985\n",
            "  0.693147 \t1.78265e-09 \t 8.9132301539507353e-10 0.5\n"
          ]
        }
      ],
      "source": [
        "x = x0\n",
        "count = 0\n",
        "tol = 1e-6\n",
        "err = 1\n",
        "errors = [err]\n",
        "\n",
        "while count < 30 and err > tol:\n",
        "    x = x - f(x)/df(x)\n",
        "    err = abs(x-xtrue)\n",
        "    errors.append(err)\n",
        "    print('%10g \\t%10g \\t %.16e %.4g' % (x, f(x), err, errors[-1]/(errors[-2]**r) ))"
      ]
    },
    {
      "cell_type": "markdown",
      "metadata": {},
      "source": [
        "## Secant Method"
      ]
    },
    {
      "cell_type": "code",
      "execution_count": 94,
      "metadata": {
        "collapsed": true
      },
      "outputs": [],
      "source": [
        "x0 = 2\n",
        "x1 = 8\n",
        "r = 2\n",
        "#r = 1.618"
      ]
    },
    {
      "cell_type": "code",
      "execution_count": 95,
      "metadata": {},
      "outputs": [
        {
          "name": "stdout",
          "output_type": "stream",
          "text": [
            "   1.98913 \t   5.30914 \t 1.2959789041737508e+00 1.296\n",
            "   1.97839 \t   5.23112 \t 1.2852471085772197e+00 0.8449\n",
            "   1.25885 \t   1.52137 \t 5.6570418067033190e-01 0.3769\n",
            "  0.963766 \t  0.621549 \t 2.7061833731723317e-01 0.6802\n",
            "  0.759937 \t   0.13814 \t 6.6789331877922575e-02 0.5535\n",
            "   0.70169 \t 0.0171582 \t 8.5425082065405666e-03 0.6811\n",
            "  0.693429 \t0.000563492 \t 2.8170616606482124e-04 0.6259\n",
            "  0.693148 \t2.40294e-06 \t 1.2014692549744410e-06 0.6667\n",
            "  0.693147 \t3.38445e-10 \t 1.6922274692632300e-10 0.6419\n"
          ]
        }
      ],
      "source": [
        "# Need two initial guesses\n",
        "xbefore = x0\n",
        "x = x1\n",
        "count = 0\n",
        "tol = 1e-8\n",
        "err = 1\n",
        "errors = [err]\n",
        "\n",
        "while count < 30 and err > tol:\n",
        "\n",
        "    df_approx = (f(x)-f(xbefore))/(x-xbefore)\n",
        "    xbefore = x\n",
        "    x = x - f(x)/df_approx\n",
        "    err = abs(x-xtrue)\n",
        "    errors.append(err)\n",
        "    print('%10g \\t%10g \\t %.16e %.4g' % (x, f(x), err, errors[-1]/errors[-2]**r ))"
      ]
    },
    {
      "cell_type": "markdown",
      "metadata": {},
      "source": [
        "# N-Dimensional Nonlinear Equations"
      ]
    },
    {
      "cell_type": "markdown",
      "metadata": {},
      "source": [
        "We will solve the following system of nonlinear equations:\n",
        "\n",
        "$$ x + 2y = 2 $$\n",
        "\n",
        "$$ x^2 + 4y^2 = 4 $$\n",
        "\n",
        "We will define our vector valued function ${\\bf f}$, which takes a vector as argument, with the components $x$ and $y$. We are trying to find the numerical (approximated) solution that safisfies:\n",
        "\n",
        "$${\\bf f} = \\begin{bmatrix} f_1 \\\\ f_2 \\end{bmatrix}\n",
        "          = \\begin{bmatrix} x + 2y - 2 \\\\ x^2 + 4y^2 - 4 \\end{bmatrix}\n",
        "          = \\begin{bmatrix} 0 \\\\ 0 \\end{bmatrix}$$\n",
        "          \n",
        "and the exact solution is $[0,1]$\n",
        "\n",
        "We will also define the gradient of ${\\bf f}$, $\\nabla{\\bf f}$, which we call the Jacobian."
      ]
    },
    {
      "cell_type": "markdown",
      "metadata": {},
      "source": [
        "### Newton's method"
      ]
    },
    {
      "cell_type": "code",
      "execution_count": 11,
      "metadata": {
        "collapsed": true
      },
      "outputs": [],
      "source": [
        "def f(xvec):\n",
        "    x, y = xvec\n",
        "    return np.array([\n",
        "        x + 2*y -2,\n",
        "        x**2 + 4*y**2 - 4\n",
        "        ])\n",
        "\n",
        "def Jf(xvec):\n",
        "    x, y = xvec\n",
        "    return np.array([\n",
        "        [1, 2],\n",
        "        [2*x, 8*y]\n",
        "        ])"
      ]
    },
    {
      "cell_type": "markdown",
      "metadata": {},
      "source": [
        "Pick an initial guess."
      ]
    },
    {
      "cell_type": "code",
      "execution_count": 15,
      "metadata": {
        "collapsed": true
      },
      "outputs": [],
      "source": [
        "x = np.array([1, 2])"
      ]
    },
    {
      "cell_type": "markdown",
      "metadata": {},
      "source": [
        "Now implement Newton's method."
      ]
    },
    {
      "cell_type": "code",
      "execution_count": 16,
      "metadata": {},
      "outputs": [
        {
          "data": {
            "text/plain": [
              "array([1.50295992e-16, 1.00000000e+00])"
            ]
          },
          "execution_count": 16,
          "metadata": {},
          "output_type": "execute_result"
        }
      ],
      "source": [
        "for i in range(10):\n",
        "    s = la.solve(Jf(x), -f(x))\n",
        "    x = x + s\n",
        "x"
      ]
    },
    {
      "cell_type": "markdown",
      "metadata": {},
      "source": [
        "Check if that's really a solution:"
      ]
    },
    {
      "cell_type": "code",
      "execution_count": 17,
      "metadata": {},
      "outputs": [
        {
          "data": {
            "text/plain": [
              "array([0., 0.])"
            ]
          },
          "execution_count": 17,
          "metadata": {},
          "output_type": "execute_result"
        }
      ],
      "source": [
        "f(x)"
      ]
    },
    {
      "cell_type": "markdown",
      "metadata": {},
      "source": [
        "The cost is $O(n^3)$ per iteration, since the Jacobian changes every iteration. But how fast is the convergence?"
      ]
    },
    {
      "cell_type": "code",
      "execution_count": 31,
      "metadata": {},
      "outputs": [
        {
          "name": "stdout",
          "output_type": "stream",
          "text": [
            " 9.3169499062491201e-01 \t 0.1863\n",
            " 2.1174886150566186e-01 \t 0.2439\n",
            " 1.6858985788667225e-02 \t 0.376\n",
            " 1.2522123592245921e-04 \t 0.4406\n",
            " 7.0116836915221782e-09 \t 0.4472\n",
            " 1.5029599174076677e-16 \t 3.057\n"
          ]
        }
      ],
      "source": [
        "r = 2\n",
        "\n",
        "xtrue = np.array([0, 1])\n",
        "x = np.array([1, 2])\n",
        "errors = [la.norm(x)]\n",
        "\n",
        "while errors[-1] > 1e-12:\n",
        "    A = Jf(x)\n",
        "    s = la.solve(A, f(x))\n",
        "    x = x - s\n",
        "    err = la.norm(x-xtrue)\n",
        "    errors.append(err)\n",
        "    print(' %.16e \\t %.4g' % (err, errors[-1]/errors[-2]**r ))"
      ]
    },
    {
      "cell_type": "markdown",
      "metadata": {},
      "source": [
        "### Finite Difference"
      ]
    },
    {
      "cell_type": "markdown",
      "metadata": {},
      "source": [
        "Suppose you don't know how to calculate the Jacobian. You can use Forward Finite Difference to approximate the derivatives! "
      ]
    },
    {
      "cell_type": "code",
      "execution_count": 152,
      "metadata": {
        "collapsed": true
      },
      "outputs": [],
      "source": [
        "def fd(xvec,dx):\n",
        "    fval = f(xvec)\n",
        "    J = np.zeros((fval.shape[0],xvec.shape[0]))\n",
        "    for j in range(len(xvec)):\n",
        "        xvec[j] = xvec[j] + dx\n",
        "        dfd = f(xvec)-fval\n",
        "        for i in range(len(fval)):\n",
        "            J[i,j] = dfd[i]/dx\n",
        "        xvec[j] = xvec[j] - dx\n",
        "    return J"
      ]
    },
    {
      "cell_type": "code",
      "execution_count": 155,
      "metadata": {},
      "outputs": [
        {
          "data": {
            "text/plain": [
              "array([[ 1.    ,  2.    ],\n",
              "       [ 8.0001, 16.0004]])"
            ]
          },
          "execution_count": 155,
          "metadata": {},
          "output_type": "execute_result"
        }
      ],
      "source": [
        "x = np.array([4, 2],dtype=float)\n",
        "fd(x,0.0001)"
      ]
    },
    {
      "cell_type": "code",
      "execution_count": 156,
      "metadata": {},
      "outputs": [
        {
          "data": {
            "text/plain": [
              "array([[ 1,  2],\n",
              "       [ 8, 16]])"
            ]
          },
          "execution_count": 156,
          "metadata": {},
          "output_type": "execute_result"
        }
      ],
      "source": [
        "Jf(np.array([4,2]))"
      ]
    },
    {
      "cell_type": "code",
      "execution_count": null,
      "metadata": {
        "collapsed": true
      },
      "outputs": [],
      "source": []
    }
  ],
  "metadata": {
    "kernelspec": {
      "display_name": "Python 3",
      "language": "python",
      "name": "python3"
    },
    "language_info": {
      "codemirror_mode": {
        "name": "ipython",
        "version": 3
      },
      "file_extension": ".py",
      "mimetype": "text/x-python",
      "name": "python",
      "nbconvert_exporter": "python",
      "pygments_lexer": "ipython3",
      "version": "3.6.9"
    }
  },
  "nbformat": 4,
  "nbformat_minor": 1
}