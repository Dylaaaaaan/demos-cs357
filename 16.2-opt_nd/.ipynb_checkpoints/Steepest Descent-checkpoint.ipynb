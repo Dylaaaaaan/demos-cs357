{
 "cells": [
  {
   "cell_type": "markdown",
   "metadata": {},
   "source": [
    "# Steepest Descent"
   ]
  },
  {
   "cell_type": "code",
   "execution_count": null,
   "metadata": {
    "collapsed": true
   },
   "outputs": [],
   "source": [
    "import numpy as np\n",
    "import numpy.linalg as la\n",
    "\n",
    "import scipy.optimize as sopt\n",
    "\n",
    "import matplotlib.pyplot as pt\n",
    "from mpl_toolkits.mplot3d import axes3d\n",
    "%matplotlib inline"
   ]
  },
  {
   "cell_type": "markdown",
   "metadata": {},
   "source": [
    "Here's a function. It's an oblong bowl made of two quadratic functions.\n",
    "\n",
    "This is pretty much the easiest 2D optimization job out there."
   ]
  },
  {
   "cell_type": "code",
   "execution_count": null,
   "metadata": {
    "collapsed": true
   },
   "outputs": [],
   "source": [
    "def f(x):\n",
    "    return (x[0]-1)**2 + (x[1]-1)**2\n",
    "\n",
    "def df(x):\n",
    "    return np.array([2*(x[0]-1),2*(x[1]-1) ])"
   ]
  },
  {
   "cell_type": "code",
   "execution_count": null,
   "metadata": {
    "collapsed": true
   },
   "outputs": [],
   "source": [
    "def f(x):\n",
    "    return 0.5*x[0]**2 + 10*x[1]**2\n",
    "\n",
    "def df(x):\n",
    "    return np.array([x[0], 20*x[1]])"
   ]
  },
  {
   "cell_type": "markdown",
   "metadata": {},
   "source": [
    "Let's take a look at the function. First in 3D:"
   ]
  },
  {
   "cell_type": "code",
   "execution_count": null,
   "metadata": {},
   "outputs": [],
   "source": [
    "fig = pt.figure()\n",
    "ax = fig.gca(projection=\"3d\")\n",
    "\n",
    "xmesh, ymesh = np.mgrid[-2:2:50j,-2:2:50j]\n",
    "fmesh = f(np.array([xmesh, ymesh]))\n",
    "ax.plot_surface(xmesh, ymesh, fmesh);\n",
    "#ax.contourf(xmesh, ymesh, fmesh)"
   ]
  },
  {
   "cell_type": "markdown",
   "metadata": {},
   "source": [
    "And then as a \"contour plot\":"
   ]
  },
  {
   "cell_type": "code",
   "execution_count": null,
   "metadata": {},
   "outputs": [],
   "source": [
    "pt.axis(\"equal\")\n",
    "pt.contour(xmesh, ymesh, fmesh)"
   ]
  },
  {
   "cell_type": "markdown",
   "metadata": {},
   "source": [
    "Next, initialize steepest descent with a starting guess:"
   ]
  },
  {
   "cell_type": "code",
   "execution_count": null,
   "metadata": {
    "collapsed": true
   },
   "outputs": [],
   "source": [
    "guesses = [np.array([2, 2./5])]"
   ]
  },
  {
   "cell_type": "markdown",
   "metadata": {},
   "source": [
    "Next, run Steepest Descent:"
   ]
  },
  {
   "cell_type": "code",
   "execution_count": null,
   "metadata": {},
   "outputs": [],
   "source": [
    "#clear\n",
    "x = guesses[-1]\n",
    "s = -df(x)\n",
    "\n",
    "def f1d(alpha):\n",
    "    return f(x + alpha*s)\n",
    "\n",
    "alpha_opt = sopt.golden(f1d)\n",
    "next_guess = x + alpha_opt * s\n",
    "guesses.append(next_guess)\n",
    "\n",
    "print(next_guess)"
   ]
  },
  {
   "cell_type": "markdown",
   "metadata": {},
   "source": [
    "Here's some plotting code to illustrate what just happened:"
   ]
  },
  {
   "cell_type": "code",
   "execution_count": null,
   "metadata": {},
   "outputs": [],
   "source": [
    "pt.figure(figsize=(8,8))\n",
    "pt.axis(\"equal\")\n",
    "pt.contour(xmesh, ymesh, fmesh, 50)\n",
    "it_array = np.array(guesses)\n",
    "pt.plot(it_array.T[0], it_array.T[1], \"o-\", lw=3, ms=15)"
   ]
  },
  {
   "cell_type": "code",
   "execution_count": null,
   "metadata": {},
   "outputs": [],
   "source": [
    "guesses"
   ]
  },
  {
   "cell_type": "code",
   "execution_count": null,
   "metadata": {
    "collapsed": true
   },
   "outputs": [],
   "source": [
    "error = [np.linalg.norm(g) for g in guesses]"
   ]
  },
  {
   "cell_type": "code",
   "execution_count": null,
   "metadata": {},
   "outputs": [],
   "source": [
    "error = np.array(error)\n",
    "error"
   ]
  },
  {
   "cell_type": "code",
   "execution_count": null,
   "metadata": {},
   "outputs": [],
   "source": [
    "pt.semilogy(error, '-o')\n",
    "pt.xlabel('iteration')\n",
    "pt.ylabel('error (2-norm)')\n",
    "pt.grid()"
   ]
  },
  {
   "cell_type": "code",
   "execution_count": null,
   "metadata": {},
   "outputs": [],
   "source": [
    "r=0.1\n",
    "for k in range(len(error)-1):\n",
    "    print(error[k+1]/error[k]**r)"
   ]
  },
  {
   "cell_type": "code",
   "execution_count": null,
   "metadata": {
    "collapsed": true
   },
   "outputs": [],
   "source": []
  },
  {
   "cell_type": "code",
   "execution_count": null,
   "metadata": {
    "collapsed": true
   },
   "outputs": [],
   "source": []
  }
 ],
 "metadata": {
  "kernelspec": {
   "display_name": "Python 3",
   "language": "python",
   "name": "python3"
  },
  "language_info": {
   "codemirror_mode": {
    "name": "ipython",
    "version": 3
   },
   "file_extension": ".py",
   "mimetype": "text/x-python",
   "name": "python",
   "nbconvert_exporter": "python",
   "pygments_lexer": "ipython3",
   "version": "3.6.3"
  }
 },
 "nbformat": 4,
 "nbformat_minor": 1
}
