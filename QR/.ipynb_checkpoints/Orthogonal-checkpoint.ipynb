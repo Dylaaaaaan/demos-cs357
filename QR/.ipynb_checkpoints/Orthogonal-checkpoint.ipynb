{
 "cells": [
  {
   "cell_type": "markdown",
   "metadata": {},
   "source": [
    "# Orthogonal Iteration "
   ]
  },
  {
   "cell_type": "code",
   "execution_count": null,
   "metadata": {
    "collapsed": true
   },
   "outputs": [],
   "source": [
    "import numpy as np\n",
    "import scipy.linalg as sla\n",
    "import numpy.linalg as la\n",
    "import random\n",
    "import matplotlib.pyplot as plt\n",
    "%matplotlib inline"
   ]
  },
  {
   "cell_type": "markdown",
   "metadata": {},
   "source": [
    "Let's  prepare a matrix with deliberately chosen eigenvalues:"
   ]
  },
  {
   "cell_type": "code",
   "execution_count": null,
   "metadata": {
    "collapsed": true
   },
   "outputs": [],
   "source": [
    "n = 4\n",
    "X = np.random.rand(n,n)\n",
    "U,_ = sla.qr(X)\n",
    "D = np.diag([6,2,-4,7])\n",
    "A = U@D@U.T\n",
    "\n",
    "eigl, eigv = la.eig(A)"
   ]
  },
  {
   "cell_type": "code",
   "execution_count": null,
   "metadata": {},
   "outputs": [],
   "source": [
    "print(eigl)\n",
    "print(eigv)"
   ]
  },
  {
   "cell_type": "markdown",
   "metadata": {},
   "source": [
    "Let's also pick an initial vector:"
   ]
  },
  {
   "cell_type": "code",
   "execution_count": null,
   "metadata": {
    "collapsed": true
   },
   "outputs": [],
   "source": [
    "x0 = np.random.randn(n, n)"
   ]
  },
  {
   "cell_type": "code",
   "execution_count": null,
   "metadata": {
    "collapsed": true
   },
   "outputs": [],
   "source": [
    "X = x0\n",
    "for k in range(50):\n",
    "    Q, R = la.qr(X)\n",
    "    X = A @ Q"
   ]
  },
  {
   "cell_type": "code",
   "execution_count": null,
   "metadata": {},
   "outputs": [],
   "source": [
    "print(R)"
   ]
  },
  {
   "cell_type": "markdown",
   "metadata": {},
   "source": [
    "# QR iteration"
   ]
  },
  {
   "cell_type": "code",
   "execution_count": null,
   "metadata": {
    "collapsed": true
   },
   "outputs": [],
   "source": [
    "X = A\n",
    "for k in range(50):\n",
    "    Q, R = la.qr(X)\n",
    "    X = R@Q"
   ]
  },
  {
   "cell_type": "code",
   "execution_count": null,
   "metadata": {},
   "outputs": [],
   "source": [
    "print(X)"
   ]
  },
  {
   "cell_type": "markdown",
   "metadata": {},
   "source": [
    "Adding stopping criteria "
   ]
  },
  {
   "cell_type": "code",
   "execution_count": null,
   "metadata": {},
   "outputs": [],
   "source": [
    "X = A\n",
    "diff = 1\n",
    "count = 0\n",
    "while diff > 1e-4 and count < 100:\n",
    "    count += 1\n",
    "    Q, R = la.qr(X)\n",
    "    Xnew = R@Q\n",
    "    diff = la.norm(Xnew-X)\n",
    "    X = Xnew\n",
    "\n",
    "print(count, diff)\n",
    "print(X)"
   ]
  },
  {
   "cell_type": "markdown",
   "metadata": {
    "collapsed": true
   },
   "source": [
    "# QR + Shift"
   ]
  },
  {
   "cell_type": "code",
   "execution_count": null,
   "metadata": {},
   "outputs": [],
   "source": [
    "X = A\n",
    "diff = 1\n",
    "count = 0\n",
    "\n",
    "sigma = 3\n",
    "\n",
    "while diff > 1e-4 and count < 200:\n",
    "    count += 1\n",
    "    Q, R = la.qr(X-sigma*np.eye(n))\n",
    "    Xnew = R@Q + sigma*np.eye(n)\n",
    "    diff = la.norm(Xnew-X)\n",
    "    X = Xnew\n",
    "\n",
    "print(count, diff)\n",
    "print(X)"
   ]
  },
  {
   "cell_type": "code",
   "execution_count": null,
   "metadata": {
    "collapsed": true
   },
   "outputs": [],
   "source": []
  }
 ],
 "metadata": {
  "kernelspec": {
   "display_name": "Python 3",
   "language": "python",
   "name": "python3"
  },
  "language_info": {
   "codemirror_mode": {
    "name": "ipython",
    "version": 3
   },
   "file_extension": ".py",
   "mimetype": "text/x-python",
   "name": "python",
   "nbconvert_exporter": "python",
   "pygments_lexer": "ipython3",
   "version": "3.6.3"
  }
 },
 "nbformat": 4,
 "nbformat_minor": 1
}
