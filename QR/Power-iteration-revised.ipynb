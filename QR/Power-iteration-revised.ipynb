{
 "cells": [
  {
   "cell_type": "markdown",
   "metadata": {},
   "source": [
    "# Power Iteration "
   ]
  },
  {
   "cell_type": "code",
   "execution_count": null,
   "metadata": {
    "collapsed": true
   },
   "outputs": [],
   "source": [
    "import numpy as np\n",
    "import scipy.linalg as sla\n",
    "import numpy.linalg as la\n",
    "import random\n",
    "import matplotlib.pyplot as plt\n",
    "%matplotlib inline"
   ]
  },
  {
   "cell_type": "markdown",
   "metadata": {},
   "source": [
    "Let's  prepare a matrix with deliberately chosen eigenvalues:"
   ]
  },
  {
   "cell_type": "code",
   "execution_count": null,
   "metadata": {
    "collapsed": true
   },
   "outputs": [],
   "source": [
    "n = 4\n",
    "\n",
    "X = np.random.rand(n,n)\n",
    "U,_ = sla.qr(X)\n",
    "    \n",
    "D = np.diag([6,2,4,7])\n",
    "#D = np.diag([-5,2,4,3])\n",
    "#D = np.diag([5,5,2,1])\n",
    "#D = np.diag([-5,-5,2,1])\n",
    "#D = np.diag([5,-5,2,1])\n",
    "\n",
    "A = U@D@U.T\n",
    "\n",
    "eigl, eigv = la.eig(A)"
   ]
  },
  {
   "cell_type": "code",
   "execution_count": null,
   "metadata": {},
   "outputs": [],
   "source": [
    "print(eigl)\n",
    "print(eigv)"
   ]
  },
  {
   "cell_type": "markdown",
   "metadata": {},
   "source": [
    "Let's also pick an initial vector:"
   ]
  },
  {
   "cell_type": "code",
   "execution_count": null,
   "metadata": {},
   "outputs": [],
   "source": [
    "x0 = np.random.randn(n)\n",
    "x0"
   ]
  },
  {
   "cell_type": "markdown",
   "metadata": {},
   "source": [
    "### Power iteration"
   ]
  },
  {
   "cell_type": "code",
   "execution_count": null,
   "metadata": {},
   "outputs": [],
   "source": [
    "x = x0\n",
    "\n",
    "for i in range(30):\n",
    "    x = A @ x\n",
    "    print(x)"
   ]
  },
  {
   "cell_type": "markdown",
   "metadata": {},
   "source": [
    "* What's the problem with this method?\n",
    "* Does anything useful come of this?\n",
    "* How do we fix it?"
   ]
  },
  {
   "cell_type": "markdown",
   "metadata": {},
   "source": [
    "### Normalized power iteration"
   ]
  },
  {
   "cell_type": "code",
   "execution_count": null,
   "metadata": {
    "scrolled": true
   },
   "outputs": [],
   "source": [
    "#Back to the beginning: Reset to the initial vector.\n",
    "\n",
    "x = x0/la.norm(x0)\n",
    "\n",
    "# Implement normalized power iteration.\n",
    "for i in range(40):\n",
    "    x = A @ x\n",
    "    nrm = la.norm(x)\n",
    "    x = x/nrm\n",
    "    print(x)\n",
    "    \n",
    "print(nrm)"
   ]
  },
  {
   "cell_type": "code",
   "execution_count": null,
   "metadata": {},
   "outputs": [],
   "source": [
    "print(eigl)\n",
    "print(eigv)"
   ]
  },
  {
   "cell_type": "markdown",
   "metadata": {},
   "source": [
    "* What do you observe about the norm?\n",
    "* What is the vector $x$ now?\n"
   ]
  },
  {
   "cell_type": "code",
   "execution_count": null,
   "metadata": {},
   "outputs": [],
   "source": [
    "# Let's evaluate the eigenvalue\n",
    "np.inner(x,A@x)/np.inner(x,x)"
   ]
  },
  {
   "cell_type": "markdown",
   "metadata": {},
   "source": [
    "### Inverse Power iteration"
   ]
  },
  {
   "cell_type": "code",
   "execution_count": null,
   "metadata": {},
   "outputs": [],
   "source": [
    "n = 4\n",
    "    \n",
    "D = np.diag([5,3,2,7])\n",
    "\n",
    "A = U@D@U.T\n",
    "\n",
    "eigl, eigv = la.eig(A)\n",
    "\n",
    "print(eigl)\n",
    "print(eigv)"
   ]
  },
  {
   "cell_type": "code",
   "execution_count": null,
   "metadata": {},
   "outputs": [],
   "source": [
    "#Inverse Power iteration to get smallest eigenvalue\n",
    "x = x0/la.norm(x0)\n",
    "P, L, Um = sla.lu(A)\n",
    "for k in range(30):\n",
    "    y = sla.solve_triangular(L, np.dot(P.T, x), lower=True)\n",
    "    x = sla.solve_triangular(Um, y)\n",
    "    x = x/la.norm(x)\n",
    "\n",
    "print(\"lambdan = \",x.T@A@x/(x.T@x))\n",
    "print(\"un = \", x)  "
   ]
  },
  {
   "cell_type": "markdown",
   "metadata": {},
   "source": [
    "### Inverse Shifted Power Iteration"
   ]
  },
  {
   "cell_type": "code",
   "execution_count": null,
   "metadata": {},
   "outputs": [],
   "source": [
    "n = 4\n",
    "    \n",
    "D = np.diag([5,-7,2,10])\n",
    "\n",
    "A = U@D@U.T\n",
    "\n",
    "eigl, eigv = la.eig(A)\n",
    "\n",
    "print(eigl)\n",
    "print(eigv)"
   ]
  },
  {
   "cell_type": "code",
   "execution_count": null,
   "metadata": {},
   "outputs": [],
   "source": [
    "x0 =  np.random.randn(n)\n",
    "x = x0/la.norm(x0)\n",
    "sigma = 4\n",
    "B = A-sigma*np.eye(n)\n",
    "P, L, Um = sla.lu(B)\n",
    "for k in range(30):\n",
    "    y = sla.solve_triangular(L, np.dot(P.T, x), lower=True)\n",
    "    x = sla.solve_triangular(Um, y)\n",
    "    x = x/la.norm(x)\n",
    "\n",
    "\n",
    "print(\"lambdan = \",x.T@A@x)\n",
    "print(\"un = \", x) "
   ]
  },
  {
   "cell_type": "markdown",
   "metadata": {},
   "source": [
    "### Rayleight quotient iteration"
   ]
  },
  {
   "cell_type": "code",
   "execution_count": null,
   "metadata": {},
   "outputs": [],
   "source": [
    "n = 4\n",
    "    \n",
    "D = np.diag([5,-7,2,10])\n",
    "\n",
    "A = U@D@U.T\n",
    "\n",
    "eigl, eigv = la.eig(A)\n",
    "\n",
    "print(eigl)\n",
    "print(eigv)"
   ]
  },
  {
   "cell_type": "code",
   "execution_count": null,
   "metadata": {},
   "outputs": [],
   "source": [
    "#Rayleigh Quotient iteration\n",
    "x0 =  np.random.randn(n)\n",
    "x = x0/la.norm(x0)\n",
    "Rayl = 6\n",
    "eigs = [Rayl]\n",
    "diff = 1\n",
    "while diff > 1e-4:\n",
    "    B = A-Rayl*np.eye(n)\n",
    "    #print(la.cond(B))\n",
    "    P, L, Um = sla.lu(B)\n",
    "    y = sla.solve_triangular(L, np.dot(P.T, x), lower=True)\n",
    "    x = sla.solve_triangular(Um, y)    \n",
    "    x = x/la.norm(x)\n",
    "    Rayl = x.T@A@x/(x.T@x)\n",
    "    diff = np.abs(eigs[-1]-Rayl)\n",
    "    eigs.append(Rayl)\n",
    "    print(Rayl)\n",
    "    \n",
    "print(x)"
   ]
  },
  {
   "cell_type": "markdown",
   "metadata": {},
   "source": [
    "The downside is that the Rayleigh quotient iteration can often converge to the wrong eigenvalue. Other numerical techniques can be used to help the algorithm to stay within the desirable interval for the eigenvalue"
   ]
  },
  {
   "cell_type": "code",
   "execution_count": null,
   "metadata": {},
   "outputs": [],
   "source": [
    "#Rayleigh Quotient iteration\n",
    "x0 =  np.random.randn(n)\n",
    "x = x0/la.norm(x0)\n",
    "eigs = [ x.T@A@x/(x.T@x)]\n",
    "diff = 1\n",
    "count = 1\n",
    "while diff > 1e-4 and count < 100:\n",
    "    count += 1\n",
    "    if count > 10:\n",
    "        B = A-Rayl*np.eye(n)\n",
    "        P, L, Um = sla.lu(B)\n",
    "        y = sla.solve_triangular(L, np.dot(P.T, x), lower=True)\n",
    "        x = sla.solve_triangular(Um, y)  \n",
    "    else:\n",
    "        x = A@x\n",
    "    x = x/la.norm(x)\n",
    "    Rayl = x.T@A@x/(x.T@x)\n",
    "    diff = np.abs(eigs[-1]-Rayl)\n",
    "    eigs.append(Rayl)\n",
    "    print(Rayl)\n",
    "    \n",
    "print(x)"
   ]
  },
  {
   "cell_type": "code",
   "execution_count": null,
   "metadata": {
    "collapsed": true
   },
   "outputs": [],
   "source": []
  }
 ],
 "metadata": {
  "kernelspec": {
   "display_name": "Python 3",
   "language": "python",
   "name": "python3"
  },
  "language_info": {
   "codemirror_mode": {
    "name": "ipython",
    "version": 3
   },
   "file_extension": ".py",
   "mimetype": "text/x-python",
   "name": "python",
   "nbconvert_exporter": "python",
   "pygments_lexer": "ipython3",
   "version": "3.6.3"
  }
 },
 "nbformat": 4,
 "nbformat_minor": 1
}
