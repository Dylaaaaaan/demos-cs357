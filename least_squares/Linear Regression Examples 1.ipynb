{
 "cells": [
  {
   "cell_type": "markdown",
   "metadata": {},
   "source": [
    "Much of this is from the following source: https://onlinecourses.science.psu.edu/stat501/node/257"
   ]
  },
  {
   "cell_type": "code",
   "execution_count": 1,
   "metadata": {
    "collapsed": true
   },
   "outputs": [],
   "source": [
    "import numpy as np\n",
    "import numpy.linalg as la\n",
    "import matplotlib.pyplot as plt\n",
    "\n",
    "# print(plt.style.available) # uncomment to print all styles\n",
    "import seaborn as sns\n",
    "sns.set(font_scale=2)\n",
    "plt.style.use('seaborn-whitegrid')\n",
    "plt.rcParams['figure.figsize'] = (12,6.0)\n",
    "%matplotlib inline\n",
    "\n",
    "import pandas as pd\n",
    "\n",
    "from scipy import stats"
   ]
  },
  {
   "cell_type": "markdown",
   "metadata": {},
   "source": [
    "### Example 1: building stories vs height"
   ]
  },
  {
   "cell_type": "code",
   "execution_count": 3,
   "metadata": {
    "collapsed": true
   },
   "outputs": [],
   "source": [
    "data = pd.read_csv('./bldgstories.txt', delim_whitespace=True)"
   ]
  },
  {
   "cell_type": "code",
   "execution_count": 4,
   "metadata": {
    "collapsed": true
   },
   "outputs": [],
   "source": [
    "year = data.values[:,0]\n",
    "hght = data.values[:,1]\n",
    "stories= data.values[:,2]"
   ]
  },
  {
   "cell_type": "code",
   "execution_count": 5,
   "metadata": {},
   "outputs": [
    {
     "data": {
      "text/plain": [
       "Text(0,0.5,'stories')"
      ]
     },
     "execution_count": 5,
     "metadata": {},
     "output_type": "execute_result"
    },
    {
     "data": {
      "image/png": "[encoded data removed]",
      "text/plain": [
       "<matplotlib.figure.Figure at 0x1074b36d8>"
      ]
     },
     "metadata": {},
     "output_type": "display_data"
    }
   ],
   "source": [
    "plt.plot(hght, stories, 'o')\n",
    "plt.xlabel('height')\n",
    "plt.ylabel('stories')"
   ]
  },
  {
   "cell_type": "markdown",
   "metadata": {},
   "source": [
    "#### Add a linear regresssion line\n",
    "\n",
    "This is of the form\n",
    "$$\n",
    "m x + b\n",
    "$$\n",
    "where $m$ is the slope and $b$ is the intercept."
   ]
  },
  {
   "cell_type": "code",
   "execution_count": null,
   "metadata": {},
   "outputs": [],
   "source": [
    "slope, intercept, rvalue, pvalue, stderr = stats.linregress(hght, stories)\n",
    "yfit = slope*hght + intercept\n",
    "plt.plot(hght, yfit, 'r-')\n",
    "\n",
    "plt.plot(hght, stories, 'o')\n",
    "plt.xlabel('height')\n",
    "plt.ylabel('stories')"
   ]
  },
  {
   "cell_type": "markdown",
   "metadata": {},
   "source": [
    "#### Now add a line representing the distance to the linear line"
   ]
  },
  {
   "cell_type": "code",
   "execution_count": 6,
   "metadata": {},
   "outputs": [
    {
     "data": {
      "text/plain": [
       "Text(0,0.5,'stories')"
      ]
     },
     "execution_count": 6,
     "metadata": {},
     "output_type": "execute_result"
    },
    {
     "data": {
      "image/png": "[encoded data removed]",
      "text/plain": [
       "<matplotlib.figure.Figure at 0x105fafc88>"
      ]
     },
     "metadata": {},
     "output_type": "display_data"
    }
   ],
   "source": [
    "slope, intercept, rvalue, pvalue, stderr = stats.linregress(hght, stories)\n",
    "yfit = slope*hght + intercept\n",
    "plt.plot(hght, yfit, 'r-')\n",
    "\n",
    "\n",
    "for i in range(len(hght)):\n",
    "    x = hght[i]\n",
    "    y = yfit[i]\n",
    "    s = stories[i]\n",
    "    plt.plot([x, x], [y, s], 'k-')\n",
    "\n",
    "plt.plot(hght, stories, 'o')\n",
    "plt.xlabel('height')\n",
    "plt.ylabel('stories')"
   ]
  },
  {
   "cell_type": "markdown",
   "metadata": {},
   "source": [
    "### How far away is each dot from the red line?\n",
    "\n",
    "`yfit` is the straight line\n",
    "\n",
    "`stories` is the data\n",
    "\n",
    "If `yfit`-`stories` were 0, then this would be a perfect fit, meaning a strong correlation and a good fit with a line would be 100% (or 1.0).  \n",
    "\n",
    "In addition we divide by `stories`-mean(`stories`)."
   ]
  },
  {
   "cell_type": "code",
   "execution_count": 7,
   "metadata": {},
   "outputs": [
    {
     "data": {
      "text/plain": [
       "0.95055489426277306"
      ]
     },
     "execution_count": 7,
     "metadata": {},
     "output_type": "execute_result"
    }
   ],
   "source": [
    "np.sqrt(1 - ((yfit - stories)**2).sum() / ((stories - np.mean(stories))**2).sum())"
   ]
  },
  {
   "cell_type": "markdown",
   "metadata": {},
   "source": [
    "This is also called the rvalue or correlation coefficient."
   ]
  },
  {
   "cell_type": "code",
   "execution_count": 8,
   "metadata": {},
   "outputs": [
    {
     "data": {
      "text/plain": [
       "0.95055489426277295"
      ]
     },
     "execution_count": 8,
     "metadata": {},
     "output_type": "execute_result"
    }
   ],
   "source": [
    "rvalue"
   ]
  },
  {
   "cell_type": "markdown",
   "metadata": {},
   "source": [
    "### Example 2, eye sight distance vs age"
   ]
  },
  {
   "cell_type": "code",
   "execution_count": 9,
   "metadata": {
    "collapsed": true
   },
   "outputs": [],
   "source": [
    "data = pd.read_csv('./signdist.txt', delim_whitespace=True)"
   ]
  },
  {
   "cell_type": "code",
   "execution_count": 10,
   "metadata": {},
   "outputs": [
    {
     "name": "stdout",
     "output_type": "stream",
     "text": [
      "    Age  Distance\n",
      "0    18       510\n",
      "1    20       590\n",
      "2    22       560\n",
      "3    23       510\n",
      "4    23       460\n",
      "5    25       490\n",
      "6    27       560\n",
      "7    28       510\n",
      "8    29       460\n",
      "9    32       410\n",
      "10   37       420\n",
      "11   41       460\n",
      "12   46       450\n",
      "13   49       380\n",
      "14   53       460\n",
      "15   55       420\n",
      "16   63       350\n",
      "17   65       420\n",
      "18   66       300\n",
      "19   67       410\n",
      "20   68       300\n",
      "21   70       390\n",
      "22   71       320\n",
      "23   72       370\n",
      "24   73       280\n",
      "25   74       420\n",
      "26   75       460\n",
      "27   77       360\n",
      "28   79       310\n",
      "29   82       360\n"
     ]
    }
   ],
   "source": [
    "print(data)\n",
    "age = data.values[:,0]\n",
    "distance = data.values[:,1]"
   ]
  },
  {
   "cell_type": "code",
   "execution_count": 11,
   "metadata": {},
   "outputs": [
    {
     "data": {
      "text/plain": [
       "Text(0,0.5,'distance')"
      ]
     },
     "execution_count": 11,
     "metadata": {},
     "output_type": "execute_result"
    },
    {
     "data": {
      "image/png": "[encoded data removed]",
      "text/plain": [
       "<matplotlib.figure.Figure at 0x1a0ca8a860>"
      ]
     },
     "metadata": {},
     "output_type": "display_data"
    }
   ],
   "source": [
    "slope, intercept, rvalue, pvalue, stderr = stats.linregress(age, distance)\n",
    "yfit = slope*age + intercept\n",
    "plt.plot(age, yfit, 'r-')\n",
    "\n",
    "\n",
    "for i in range(len(age)):\n",
    "    x = age[i]\n",
    "    y = yfit[i]\n",
    "    s = distance[i]\n",
    "    plt.plot([x, x], [y, s], 'k-')\n",
    "\n",
    "plt.plot(age, distance, 'o')\n",
    "plt.xlabel('age')\n",
    "plt.ylabel('distance')"
   ]
  },
  {
   "cell_type": "code",
   "execution_count": 12,
   "metadata": {},
   "outputs": [
    {
     "name": "stdout",
     "output_type": "stream",
     "text": [
      "-0.801244650941\n"
     ]
    }
   ],
   "source": [
    "print(rvalue)"
   ]
  },
  {
   "cell_type": "code",
   "execution_count": 13,
   "metadata": {},
   "outputs": [
    {
     "data": {
      "text/plain": [
       "0.80124465094078712"
      ]
     },
     "execution_count": 13,
     "metadata": {},
     "output_type": "execute_result"
    }
   ],
   "source": [
    "np.sqrt(1 - ((yfit - distance)**2).sum() / ((distance - np.mean(distance))**2).sum())"
   ]
  },
  {
   "cell_type": "markdown",
   "metadata": {},
   "source": [
    "### Example 3, height vs GPA\n",
    "\n",
    "What?!"
   ]
  },
  {
   "cell_type": "code",
   "execution_count": 14,
   "metadata": {
    "collapsed": true
   },
   "outputs": [],
   "source": [
    "data = pd.read_csv('./heightgpa.txt', delim_whitespace=True)"
   ]
  },
  {
   "cell_type": "code",
   "execution_count": 15,
   "metadata": {
    "collapsed": true
   },
   "outputs": [],
   "source": [
    "height = data.values[:,0]\n",
    "gpa = data.values[:,1]"
   ]
  },
  {
   "cell_type": "code",
   "execution_count": 16,
   "metadata": {},
   "outputs": [
    {
     "data": {
      "text/plain": [
       "Text(0,0.5,'gpa')"
      ]
     },
     "execution_count": 16,
     "metadata": {},
     "output_type": "execute_result"
    },
    {
     "data": {
      "image/png": "[encoded data removed]",
      "text/plain": [
       "<matplotlib.figure.Figure at 0x1a14d62b70>"
      ]
     },
     "metadata": {},
     "output_type": "display_data"
    }
   ],
   "source": [
    "slope, intercept, rvalue, pvalue, stderr = stats.linregress(height, gpa)\n",
    "yfit = slope*height + intercept\n",
    "plt.plot(height, yfit, 'r-')\n",
    "\n",
    "\n",
    "for i in range(len(height)):\n",
    "    x = height[i]\n",
    "    y = yfit[i]\n",
    "    s = gpa[i]\n",
    "    plt.plot([x, x], [y, s], 'k-')\n",
    "\n",
    "plt.plot(height, gpa, 'o')\n",
    "plt.xlabel('height')\n",
    "plt.ylabel('gpa')"
   ]
  },
  {
   "cell_type": "code",
   "execution_count": 17,
   "metadata": {},
   "outputs": [
    {
     "name": "stdout",
     "output_type": "stream",
     "text": [
      "-0.0532412598869\n"
     ]
    }
   ],
   "source": [
    "print(rvalue)"
   ]
  },
  {
   "cell_type": "code",
   "execution_count": null,
   "metadata": {
    "collapsed": true
   },
   "outputs": [],
   "source": []
  }
 ],
 "metadata": {
  "kernelspec": {
   "display_name": "Python 3",
   "language": "python",
   "name": "python3"
  },
  "language_info": {
   "codemirror_mode": {
    "name": "ipython",
    "version": 3
   },
   "file_extension": ".py",
   "mimetype": "text/x-python",
   "name": "python",
   "nbconvert_exporter": "python",
   "pygments_lexer": "ipython3",
   "version": "3.6.3"
  }
 },
 "nbformat": 4,
 "nbformat_minor": 2
}
