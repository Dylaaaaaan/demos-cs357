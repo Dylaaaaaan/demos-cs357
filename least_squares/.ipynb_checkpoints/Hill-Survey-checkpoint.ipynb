{
 "cells": [
  {
   "cell_type": "code",
   "execution_count": 2,
   "metadata": {
    "collapsed": true
   },
   "outputs": [],
   "source": [
    "import numpy as np\n",
    "import numpy.linalg as la"
   ]
  },
  {
   "cell_type": "code",
   "execution_count": 2,
   "metadata": {
    "collapsed": true
   },
   "outputs": [],
   "source": [
    "A = np.array([[1,0,0],[0,1,0],[0,0,1],[-1,1,0],[-1,0,1],[0,-1,1]])\n",
    "b = np.array([1237,1941,2417,711,1177,475])\n",
    "\n",
    "A1 = np.array([[-1,1,0],[-1,0,1],[0,-1,1]])\n",
    "b1 = np.array([711,1177,475])"
   ]
  },
  {
   "cell_type": "code",
   "execution_count": 3,
   "metadata": {},
   "outputs": [
    {
     "data": {
      "text/plain": [
       "(array([[ -1.45512510e-16,  -4.08248290e-01,   5.77350269e-01,\n",
       "           5.11339220e-01,   4.87831518e-01,  -2.35077025e-02],\n",
       "        [  3.53553391e-01,   2.04124145e-01,   5.77350269e-01,\n",
       "          -4.87831518e-01,   2.35077025e-02,   5.11339220e-01],\n",
       "        [ -3.53553391e-01,   2.04124145e-01,   5.77350269e-01,\n",
       "          -2.35077025e-02,  -5.11339220e-01,  -4.87831518e-01],\n",
       "        [  3.53553391e-01,   6.12372436e-01,  -5.80011144e-17,\n",
       "           6.66390246e-01,  -1.78558728e-01,   1.55051026e-01],\n",
       "        [ -3.53553391e-01,   6.12372436e-01,  -6.37665793e-17,\n",
       "          -1.55051026e-01,   6.66390246e-01,  -1.78558728e-01],\n",
       "        [ -7.07106781e-01,  -2.90548953e-17,  -6.37665793e-17,\n",
       "           1.78558728e-01,  -1.55051026e-01,   6.66390246e-01]]),\n",
       " array([ 2.,  2.,  1.]),\n",
       " array([[-0.        ,  0.70710678, -0.70710678],\n",
       "        [-0.81649658,  0.40824829,  0.40824829],\n",
       "        [ 0.57735027,  0.57735027,  0.57735027]]))"
      ]
     },
     "execution_count": 3,
     "metadata": {},
     "output_type": "execute_result"
    }
   ],
   "source": [
    "la.svd(A)"
   ]
  },
  {
   "cell_type": "code",
   "execution_count": 4,
   "metadata": {},
   "outputs": [
    {
     "data": {
      "text/plain": [
       "(array([ 1236.,  1943.,  2416.]), array([ 35.]), 3, array([ 2.,  2.,  1.]))"
      ]
     },
     "execution_count": 4,
     "metadata": {},
     "output_type": "execute_result"
    }
   ],
   "source": [
    "la.lstsq(A,b)\n",
    "#solution, residual, rank, singular values of A"
   ]
  },
  {
   "cell_type": "code",
   "execution_count": null,
   "metadata": {
    "collapsed": true
   },
   "outputs": [],
   "source": [
    "la.svd(A1)"
   ]
  },
  {
   "cell_type": "code",
   "execution_count": 5,
   "metadata": {},
   "outputs": [
    {
     "data": {
      "text/plain": [
       "(array([-629.33333333,   78.66666667,  550.66666667]),\n",
       " array([], dtype=float64),\n",
       " 2,\n",
       " array([  1.73205081e+00,   1.73205081e+00,   2.30949614e-17]))"
      ]
     },
     "execution_count": 5,
     "metadata": {},
     "output_type": "execute_result"
    }
   ],
   "source": [
    "la.lstsq(A1,b1)\n",
    "#solution, residual, rank, singular values of A"
   ]
  },
  {
   "cell_type": "code",
   "execution_count": 1,
   "metadata": {},
   "outputs": [
    {
     "ename": "NameError",
     "evalue": "name 'np' is not defined",
     "output_type": "error",
     "traceback": [
      "\u001b[0;31m---------------------------------------------------------------------------\u001b[0m",
      "\u001b[0;31mNameError\u001b[0m                                 Traceback (most recent call last)",
      "\u001b[0;32m<ipython-input-1-1da129d4a506>\u001b[0m in \u001b[0;36m<module>\u001b[0;34m()\u001b[0m\n\u001b[0;32m----> 1\u001b[0;31m \u001b[0mA2\u001b[0m \u001b[0;34m=\u001b[0m \u001b[0mnp\u001b[0m\u001b[0;34m.\u001b[0m\u001b[0marray\u001b[0m\u001b[0;34m(\u001b[0m\u001b[0;34m[\u001b[0m\u001b[0;34m[\u001b[0m\u001b[0;36m0\u001b[0m\u001b[0;34m,\u001b[0m\u001b[0;36m0\u001b[0m\u001b[0;34m,\u001b[0m\u001b[0;36m1\u001b[0m\u001b[0;34m]\u001b[0m\u001b[0;34m,\u001b[0m\u001b[0;34m[\u001b[0m\u001b[0;34m-\u001b[0m\u001b[0;36m1\u001b[0m\u001b[0;34m,\u001b[0m\u001b[0;36m1\u001b[0m\u001b[0;34m,\u001b[0m\u001b[0;36m0\u001b[0m\u001b[0;34m]\u001b[0m\u001b[0;34m,\u001b[0m\u001b[0;34m[\u001b[0m\u001b[0;34m-\u001b[0m\u001b[0;36m1\u001b[0m\u001b[0;34m,\u001b[0m\u001b[0;36m0\u001b[0m\u001b[0;34m,\u001b[0m\u001b[0;36m1\u001b[0m\u001b[0;34m]\u001b[0m\u001b[0;34m,\u001b[0m\u001b[0;34m[\u001b[0m\u001b[0;36m0\u001b[0m\u001b[0;34m,\u001b[0m\u001b[0;34m-\u001b[0m\u001b[0;36m1\u001b[0m\u001b[0;34m,\u001b[0m\u001b[0;36m1\u001b[0m\u001b[0;34m]\u001b[0m\u001b[0;34m]\u001b[0m\u001b[0;34m)\u001b[0m\u001b[0;34m\u001b[0m\u001b[0m\n\u001b[0m\u001b[1;32m      2\u001b[0m \u001b[0mb2\u001b[0m \u001b[0;34m=\u001b[0m \u001b[0mnp\u001b[0m\u001b[0;34m.\u001b[0m\u001b[0marray\u001b[0m\u001b[0;34m(\u001b[0m\u001b[0;34m[\u001b[0m\u001b[0;36m2417\u001b[0m\u001b[0;34m,\u001b[0m\u001b[0;36m711\u001b[0m\u001b[0;34m,\u001b[0m\u001b[0;36m1177\u001b[0m\u001b[0;34m,\u001b[0m\u001b[0;36m475\u001b[0m\u001b[0;34m]\u001b[0m\u001b[0;34m)\u001b[0m\u001b[0;34m\u001b[0m\u001b[0m\n",
      "\u001b[0;31mNameError\u001b[0m: name 'np' is not defined"
     ]
    }
   ],
   "source": [
    "A2 = np.array([[0,0,1],[-1,1,0],[-1,0,1],[0,-1,1]])\n",
    "b2 = np.array([2417,711,1177,475])"
   ]
  },
  {
   "cell_type": "code",
   "execution_count": null,
   "metadata": {
    "collapsed": true
   },
   "outputs": [],
   "source": []
  }
 ],
 "metadata": {
  "kernelspec": {
   "display_name": "Python 3",
   "language": "python",
   "name": "python3"
  },
  "language_info": {
   "codemirror_mode": {
    "name": "ipython",
    "version": 3
   },
   "file_extension": ".py",
   "mimetype": "text/x-python",
   "name": "python",
   "nbconvert_exporter": "python",
   "pygments_lexer": "ipython3",
   "version": "3.6.3"
  }
 },
 "nbformat": 4,
 "nbformat_minor": 2
}
