{
 "cells": [
  {
   "cell_type": "markdown",
   "metadata": {},
   "source": [
    "# Data Fitting with Least Squares"
   ]
  },
  {
   "cell_type": "code",
   "execution_count": 1,
   "metadata": {
    "collapsed": true
   },
   "outputs": [],
   "source": [
    "import numpy as np\n",
    "import numpy.linalg as npla\n",
    "import scipy.linalg as spla\n",
    "import matplotlib.pyplot as pt\n",
    "%matplotlib inline"
   ]
  },
  {
   "cell_type": "markdown",
   "metadata": {},
   "source": [
    "Suppose we are modeling a relationship between $x$ and $y$, and the \"true\" relationship is $y = a+bx$:"
   ]
  },
  {
   "cell_type": "code",
   "execution_count": 2,
   "metadata": {},
   "outputs": [
    {
     "data": {
      "text/plain": [
       "[<matplotlib.lines.Line2D at 0x618711978>]"
      ]
     },
     "execution_count": 2,
     "metadata": {},
     "output_type": "execute_result"
    },
    {
     "data": {
      "image/png": "[encoded data removed]",
      "text/plain": [
       "<matplotlib.figure.Figure at 0x613714470>"
      ]
     },
     "metadata": {},
     "output_type": "display_data"
    }
   ],
   "source": [
    "a = 4\n",
    "b = 2\n",
    "\n",
    "def f(x):\n",
    "    return a + b*x\n",
    "\n",
    "plot_grid = np.linspace(-3, 3, 100)\n",
    "\n",
    "pt.plot(plot_grid, f(plot_grid))"
   ]
  },
  {
   "cell_type": "markdown",
   "metadata": {},
   "source": [
    "But suppose we don't know $a$ and $b$, but instead all we have is a few noisy measurements (i.e. here with random numbers added):"
   ]
  },
  {
   "cell_type": "code",
   "execution_count": 3,
   "metadata": {},
   "outputs": [
    {
     "data": {
      "text/plain": [
       "[<matplotlib.lines.Line2D at 0x6186dbcf8>]"
      ]
     },
     "execution_count": 3,
     "metadata": {},
     "output_type": "execute_result"
    },
    {
     "data": {
      "image/png": "[encoded data removed]",
      "text/plain": [
       "<matplotlib.figure.Figure at 0x6186dbf98>"
      ]
     },
     "metadata": {},
     "output_type": "display_data"
    }
   ],
   "source": [
    "npts = 5\n",
    "\n",
    "np.random.seed(22)\n",
    "points = np.linspace(-2, 2, npts) + np.random.randn(npts)\n",
    "values = f(points) + 0.3*np.random.randn(npts)*f(points)\n",
    "\n",
    "pt.plot(plot_grid, f(plot_grid))\n",
    "pt.plot(points, values, \"o\")"
   ]
  },
  {
   "cell_type": "markdown",
   "metadata": {},
   "source": [
    "What's the system of equations for $a$ and $b$?"
   ]
  },
  {
   "cell_type": "markdown",
   "metadata": {},
   "source": [
    "---------------\n",
    "Now build the system matrix $M$--a Vandermonde matrix:\n",
    "\n",
    "(We'll call it $M$ because $V$ conventionally used for the result of the SVD)"
   ]
  },
  {
   "cell_type": "code",
   "execution_count": 4,
   "metadata": {},
   "outputs": [
    {
     "data": {
      "text/plain": [
       "array([[ 1.        , -2.09194992],\n",
       "       [ 1.        , -2.46335065],\n",
       "       [ 1.        ,  1.08179168],\n",
       "       [ 1.        ,  0.76067483],\n",
       "       [ 1.        ,  1.50887086]])"
      ]
     },
     "execution_count": 4,
     "metadata": {},
     "output_type": "execute_result"
    }
   ],
   "source": [
    "#clear\n",
    "M = np.array([\n",
    "    1+0*points,\n",
    "    points,\n",
    "    ]).T\n",
    "M"
   ]
  },
  {
   "cell_type": "markdown",
   "metadata": {},
   "source": [
    "What's the right-hand side vector?"
   ]
  },
  {
   "cell_type": "markdown",
   "metadata": {},
   "source": [
    "-------------\n",
    "Now solve the least-squares system:"
   ]
  },
  {
   "cell_type": "code",
   "execution_count": 17,
   "metadata": {},
   "outputs": [],
   "source": [
    "#clear\n",
    "U, sigma, VT = npla.svd(M)"
   ]
  },
  {
   "cell_type": "code",
   "execution_count": 18,
   "metadata": {},
   "outputs": [
    {
     "name": "stdout",
     "output_type": "stream",
     "text": [
      "(5, 5)\n",
      "(2,)\n",
      "(2, 2)\n"
     ]
    }
   ],
   "source": [
    "print(U.shape)\n",
    "print(sigma.shape)\n",
    "print(VT.shape)"
   ]
  },
  {
   "cell_type": "markdown",
   "metadata": {},
   "source": [
    "Determine $x$, from $U\\Sigma V^T \\mathbf x = \\mathbf b$, where $\\mathbf b$ is `values`:"
   ]
  },
  {
   "cell_type": "code",
   "execution_count": 19,
   "metadata": {},
   "outputs": [
    {
     "name": "stdout",
     "output_type": "stream",
     "text": [
      "[ 3.46753742  1.76990415]\n"
     ]
    }
   ],
   "source": [
    "#clear\n",
    "x = VT.T@((U.T@values)[:2] / sigma)\n",
    "print(x)"
   ]
  },
  {
   "cell_type": "markdown",
   "metadata": {},
   "source": [
    "Recover the computed $a$, $b$:"
   ]
  },
  {
   "cell_type": "code",
   "execution_count": 8,
   "metadata": {
    "collapsed": true
   },
   "outputs": [],
   "source": [
    "a_c, b_c = x"
   ]
  },
  {
   "cell_type": "code",
   "execution_count": 9,
   "metadata": {},
   "outputs": [
    {
     "data": {
      "text/plain": [
       "<matplotlib.legend.Legend at 0x61bdbdfd0>"
      ]
     },
     "execution_count": 9,
     "metadata": {},
     "output_type": "execute_result"
    },
    {
     "data": {
      "image/png": "[encoded data removed]",
      "text/plain": [
       "<matplotlib.figure.Figure at 0x61babf240>"
      ]
     },
     "metadata": {},
     "output_type": "display_data"
    }
   ],
   "source": [
    "def f_c(x):\n",
    "    return a_c + b_c * x\n",
    "\n",
    "pt.plot(plot_grid, f(plot_grid), label=\"true\", color=\"green\")\n",
    "pt.plot(points, values, \"o\", label=\"data\", color=\"blue\")\n",
    "pt.plot(plot_grid, f_c(plot_grid), \"--\", label=\"found\",color=\"purple\",)\n",
    "\n",
    "if 0:\n",
    "    # show residual components\n",
    "    pt.vlines(points,\n",
    "                np.minimum(f_c(points), values),\n",
    "                np.maximum(f_c(points), values),\n",
    "                color=\"red\", lw=2)\n",
    "\n",
    "pt.legend(loc=\"best\")"
   ]
  },
  {
   "cell_type": "markdown",
   "metadata": {},
   "source": [
    "* What should happen if we change the number of data points?\n",
    "* What happens if there are lots of outliers?\n",
    "* What should happen if we don't add noise?\n",
    "* What about a bigger model?\n",
    "* What about different functions in the model?"
   ]
  },
  {
   "cell_type": "code",
   "execution_count": 10,
   "metadata": {
    "collapsed": true
   },
   "outputs": [],
   "source": [
    "#clear\n",
    "# - The fit gets better\n",
    "# - Least squares \"punishes\" outliers with the square of their distance. \n",
    "#   So outliers have a habit of severely wrecking a least squares fit.\n",
    "# - We should recover the exact data.\n",
    "# - No problem--just add coefficients.\n",
    "# - No problem--just use a different Vandermonde matrix."
   ]
  }
 ],
 "metadata": {
  "kernelspec": {
   "display_name": "Python 3",
   "language": "python",
   "name": "python3"
  },
  "language_info": {
   "codemirror_mode": {
    "name": "ipython",
    "version": 3
   },
   "file_extension": ".py",
   "mimetype": "text/x-python",
   "name": "python",
   "nbconvert_exporter": "python",
   "pygments_lexer": "ipython3",
   "version": "3.6.3"
  },
  "widgets": {
   "state": {},
   "version": "1.1.2"
  }
 },
 "nbformat": 4,
 "nbformat_minor": 1
}
