{
  "cells": [
    {
      "cell_type": "markdown",
      "metadata": {},
      "source": [
        "# Data Fitting with Least Squares"
      ]
    },
    {
      "cell_type": "code",
      "execution_count": 1,
      "metadata": {
        "collapsed": true
      },
      "outputs": [],
      "source": [
        "import numpy as np\n",
        "import numpy.linalg as la\n",
        "import scipy.linalg as sla\n",
        "import random\n",
        "import matplotlib.pyplot as pt\n",
        "%matplotlib inline"
      ]
    },
    {
      "cell_type": "markdown",
      "metadata": {},
      "source": [
        "The function below creates a random matrix and a random right-hand side vector, to use as input data for least squares. The arguments of the function are the shape of A, and the rank of A. You should run examples to investigate the following situations:\n",
        "\n",
        "1) rankA = N (this is a full rank matrix, and hence solution is unique\n",
        "\n",
        "2) rankA = N - 1 (this is a rank deficient matrix, and the solution is no longer unique"
      ]
    },
    {
      "cell_type": "code",
      "execution_count": 2,
      "metadata": {},
      "outputs": [],
      "source": [
        "def creates_A_b(shap = (10,4), rankA=4):\n",
        "    M,N = shap\n",
        "    # Generating the orthogonal matrix U\n",
        "    X = np.random.rand(M,M)\n",
        "    U,R = sla.qr(X)\n",
        "    # Generating the orthogonal matrix V\n",
        "    Y = np.random.rand(N,N)\n",
        "    V,R = sla.qr(Y)\n",
        "    Vt = V.T\n",
        "    # Generating the diagonal matrix Sigma\n",
        "    singval = random.sample(range(1, 9), rankA)\n",
        "    singval.sort()\n",
        "    sigmavec = singval[::-1]\n",
        "    sigma = np.zeros((M,N))\n",
        "    for i,sing in enumerate(sigmavec):\n",
        "        sigma[i,i] = sing\n",
        "    A = U@sigma@Vt\n",
        "    b = np.random.rand(M)\n",
        "    return(A,b)"
      ]
    },
    {
      "cell_type": "code",
      "execution_count": 3,
      "metadata": {
        "collapsed": true
      },
      "outputs": [],
      "source": [
        "# Matrix shape\n",
        "M = 10\n",
        "N = 4\n",
        "A,b = creates_A_b((M,N),N)"
      ]
    },
    {
      "cell_type": "code",
      "execution_count": 4,
      "metadata": {},
      "outputs": [
        {
          "name": "stdout",
          "output_type": "stream",
          "text": [
            "8.000000000000004\n"
          ]
        }
      ],
      "source": [
        "print(la.cond(A))"
      ]
    },
    {
      "cell_type": "markdown",
      "metadata": {},
      "source": [
        "## Using normal equations (unique solution, full rank)"
      ]
    },
    {
      "cell_type": "code",
      "execution_count": 5,
      "metadata": {},
      "outputs": [
        {
          "name": "stdout",
          "output_type": "stream",
          "text": [
            "[ 0.05874708 -0.01752674  0.20312672  0.03241074]\n"
          ]
        }
      ],
      "source": [
        "xu = la.solve(A.T@A,A.T@b)\n",
        "print(xu)"
      ]
    },
    {
      "cell_type": "code",
      "execution_count": 6,
      "metadata": {},
      "outputs": [
        {
          "data": {
            "text/plain": [
              "0.45480062196382876"
            ]
          },
          "execution_count": 6,
          "metadata": {},
          "output_type": "execute_result"
        }
      ],
      "source": [
        "la.norm(A@xu-b,2)"
      ]
    },
    {
      "cell_type": "code",
      "execution_count": 7,
      "metadata": {},
      "outputs": [
        {
          "data": {
            "text/plain": [
              "0.21463766201557938"
            ]
          },
          "execution_count": 7,
          "metadata": {},
          "output_type": "execute_result"
        }
      ],
      "source": [
        "la.norm(xu,2)"
      ]
    },
    {
      "cell_type": "markdown",
      "metadata": {},
      "source": [
        "## Using SVD"
      ]
    },
    {
      "cell_type": "code",
      "execution_count": 8,
      "metadata": {},
      "outputs": [
        {
          "name": "stdout",
          "output_type": "stream",
          "text": [
            "[8. 5. 3. 1.]\n"
          ]
        }
      ],
      "source": [
        "UR,SR,VRt = la.svd(A,full_matrices=False)\n",
        "print(SR)"
      ]
    },
    {
      "cell_type": "code",
      "execution_count": 9,
      "metadata": {},
      "outputs": [
        {
          "name": "stdout",
          "output_type": "stream",
          "text": [
            "[ 0.05874708 -0.01752674  0.20312672  0.03241074]\n"
          ]
        }
      ],
      "source": [
        "ub = (UR.T@b)\n",
        "x = np.zeros(N)\n",
        "for i,s in enumerate(SR):\n",
        "    if s > 1e-15:\n",
        "        x += VRt[i,:]*ub[i]/s\n",
        "print(x)"
      ]
    },
    {
      "cell_type": "code",
      "execution_count": 10,
      "metadata": {},
      "outputs": [
        {
          "data": {
            "text/plain": [
              "0.45480062196382876"
            ]
          },
          "execution_count": 10,
          "metadata": {},
          "output_type": "execute_result"
        }
      ],
      "source": [
        "la.norm(A@x-b,2)"
      ]
    },
    {
      "cell_type": "code",
      "execution_count": 11,
      "metadata": {},
      "outputs": [
        {
          "data": {
            "text/plain": [
              "0.21463766201557952"
            ]
          },
          "execution_count": 11,
          "metadata": {},
          "output_type": "execute_result"
        }
      ],
      "source": [
        "la.norm(x,2)"
      ]
    },
    {
      "cell_type": "markdown",
      "metadata": {},
      "source": [
        "## Using numpy.linalg Least Squares method"
      ]
    },
    {
      "cell_type": "code",
      "execution_count": 12,
      "metadata": {},
      "outputs": [
        {
          "name": "stdout",
          "output_type": "stream",
          "text": [
            "[ 0.05874708 -0.01752674  0.20312672  0.03241074]\n"
          ]
        }
      ],
      "source": [
        "coeffs,residual,rank,sval=np.linalg.lstsq(A,b,rcond=None)\n",
        "print(coeffs)"
      ]
    },
    {
      "cell_type": "code",
      "execution_count": 13,
      "metadata": {},
      "outputs": [
        {
          "data": {
            "text/plain": [
              "0.45480062196382876"
            ]
          },
          "execution_count": 13,
          "metadata": {},
          "output_type": "execute_result"
        }
      ],
      "source": [
        "la.norm(A@coeffs-b,2)"
      ]
    },
    {
      "cell_type": "code",
      "execution_count": 14,
      "metadata": {},
      "outputs": [
        {
          "data": {
            "text/plain": [
              "0.2146376620155794"
            ]
          },
          "execution_count": 14,
          "metadata": {},
          "output_type": "execute_result"
        }
      ],
      "source": [
        "la.norm(coeffs,2)"
      ]
    },
    {
      "cell_type": "code",
      "execution_count": 15,
      "metadata": {},
      "outputs": [
        {
          "data": {
            "text/plain": [
              "array([0.20684361])"
            ]
          },
          "execution_count": 15,
          "metadata": {},
          "output_type": "execute_result"
        }
      ],
      "source": [
        "residual"
      ]
    },
    {
      "cell_type": "code",
      "execution_count": 16,
      "metadata": {},
      "outputs": [
        {
          "data": {
            "text/plain": [
              "4"
            ]
          },
          "execution_count": 16,
          "metadata": {},
          "output_type": "execute_result"
        }
      ],
      "source": [
        "rank"
      ]
    },
    {
      "cell_type": "code",
      "execution_count": null,
      "metadata": {
        "collapsed": true
      },
      "outputs": [],
      "source": []
    }
  ],
  "metadata": {
    "kernelspec": {
      "display_name": "Python 3",
      "language": "python",
      "name": "python3"
    },
    "language_info": {
      "codemirror_mode": {
        "name": "ipython",
        "version": 3
      },
      "file_extension": ".py",
      "mimetype": "text/x-python",
      "name": "python",
      "nbconvert_exporter": "python",
      "pygments_lexer": "ipython3",
      "version": "3.6.9"
    },
    "widgets": {
      "state": {},
      "version": "1.1.2"
    }
  },
  "nbformat": 4,
  "nbformat_minor": 1
}