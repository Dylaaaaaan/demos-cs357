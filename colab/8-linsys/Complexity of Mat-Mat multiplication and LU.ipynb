{
  "cells": [
    {
      "cell_type": "markdown",
      "metadata": {},
      "source": [
        "# Relative cost of matrix operations"
      ]
    },
    {
      "cell_type": "code",
      "execution_count": 1,
      "metadata": {
        "collapsed": true
      },
      "outputs": [],
      "source": [
        "import numpy as np\n",
        "import scipy.linalg as la\n",
        "import matplotlib as mpl\n",
        "import matplotlib.pyplot as plt\n",
        "import scipy.linalg as sla\n",
        "%matplotlib inline\n",
        "\n",
        "\n",
        "from time import time"
      ]
    },
    {
      "cell_type": "code",
      "execution_count": 2,
      "metadata": {},
      "outputs": [
        {
          "data": {
            "text/plain": [
              "array([   10,    16,    26,    43,    71,   117,   193,   316,   517,\n",
              "         848,  1389,  2275,  3727,  6105, 10000], dtype=int32)"
            ]
          },
          "execution_count": 2,
          "metadata": {},
          "output_type": "execute_result"
        }
      ],
      "source": [
        "n_values = (10**np.linspace(1, 4, 15)).astype(np.int32)\n",
        "n_values"
      ]
    },
    {
      "cell_type": "code",
      "execution_count": 3,
      "metadata": {},
      "outputs": [
        {
          "name": "stdout",
          "output_type": "stream",
          "text": [
            "10\n",
            "16\n",
            "26\n",
            "43\n",
            "71\n",
            "117\n",
            "193\n",
            "316\n",
            "517\n",
            "848\n",
            "1389\n",
            "2275\n",
            "3727\n",
            "6105\n",
            "10000\n"
          ]
        }
      ],
      "source": [
        "times_matmul = []\n",
        "times_lu = []\n",
        "\n",
        "for n in n_values:\n",
        "    print(n)\n",
        "    A = np.random.randn(n, n)\n",
        "    start_time = time()\n",
        "    A.dot(A)\n",
        "    times_matmul.append(time() - start_time)\n",
        "    start_time = time()\n",
        "    la.lu(A)\n",
        "    times_lu.append(time() - start_time)"
      ]
    },
    {
      "cell_type": "code",
      "execution_count": 4,
      "metadata": {},
      "outputs": [
        {
          "data": {
            "text/plain": [
              "Text(0, 0.5, 'Wall time [s]')"
            ]
          },
          "execution_count": 4,
          "metadata": {},
          "output_type": "execute_result"
        },
        {
          "data": {
            "image/png": "[encoded data removed]",
            "text/plain": [
              "<Figure size 432x288 with 1 Axes>"
            ]
          },
          "metadata": {},
          "output_type": "display_data"
        }
      ],
      "source": [
        "plt.plot(n_values, times_matmul, label='matmul')\n",
        "plt.plot(n_values, times_lu, label='lu')\n",
        "plt.grid()\n",
        "plt.legend(loc=\"best\")\n",
        "plt.xlabel(\"Matrix size $n$\")\n",
        "plt.ylabel(\"Wall time [s]\")"
      ]
    },
    {
      "cell_type": "markdown",
      "metadata": {},
      "source": [
        "* The faster algorithms make the slower ones look bad. But... it's all relative.\n",
        "* Can we get a better plot?\n",
        "* Can we see the asymptotic cost ($O(n^3)$) of these algorithms from the plot?"
      ]
    },
    {
      "cell_type": "code",
      "execution_count": null,
      "metadata": {},
      "outputs": [],
      "source": [
        "plt.loglog(n_values, times_matmul, label='matmul')\n",
        "plt.loglog(n_values, times_lu, label='lu')\n",
        "plt.grid()\n",
        "plt.legend(loc=\"best\")\n",
        "plt.xlabel(\"Matrix size $n$\")\n",
        "plt.ylabel(\"Wall time [s]\")"
      ]
    },
    {
      "cell_type": "code",
      "execution_count": null,
      "metadata": {
        "collapsed": true
      },
      "outputs": [],
      "source": []
    }
  ],
  "metadata": {
    "kernelspec": {
      "display_name": "Python 3",
      "language": "python",
      "name": "python3"
    },
    "language_info": {
      "codemirror_mode": {
        "name": "ipython",
        "version": 3
      },
      "file_extension": ".py",
      "mimetype": "text/x-python",
      "name": "python",
      "nbconvert_exporter": "python",
      "pygments_lexer": "ipython3",
      "version": "3.6.9"
    }
  },
  "nbformat": 4,
  "nbformat_minor": 1
}