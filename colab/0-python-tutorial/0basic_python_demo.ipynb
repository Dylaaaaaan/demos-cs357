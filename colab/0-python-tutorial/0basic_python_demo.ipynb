{
 "cells": [
  {
   "cell_type": "markdown",
   "metadata": {},
   "source": [
    "# Python Basics"
   ]
  },
  {
   "cell_type": "code",
   "execution_count": null,
   "metadata": {},
   "outputs": [],
   "source": [
    "# Datatypes\n",
    "\n",
    "# Integers, Floats, and Complex Numbers\n",
    "\n",
    "# Basic operators: \"+\", \"-\", \"*\", \"%\", \"**\", \"/\", \"//\"\n",
    "# Some operators only work with integers\n",
    "\n",
    "print(5 + 4) \n",
    "print(7 - 8)\n",
    "print(10 * 6)\n",
    "print(10 % 7)"
   ]
  },
  {
   "cell_type": "code",
   "execution_count": null,
   "metadata": {},
   "outputs": [],
   "source": [
    "# Try it\n",
    "\n",
    "# Calculate 10 + 3.333\n",
    "\n",
    "# Calculate 4 raised to the fifth power\n",
    "\n",
    "# Calculate 10 float-divided by 6\n",
    "\n",
    "# Calculate 10 integer-divided by 6"
   ]
  },
  {
   "cell_type": "code",
   "execution_count": null,
   "metadata": {},
   "outputs": [],
   "source": [
    "# Booleans\n",
    "\n",
    "# Boolean literals: \"True\", \"False\"\n",
    "\n",
    "# Boolean operators: \"and\", \"(inclusive) or\", \"not\"\n",
    "print(True)\n",
    "print(True and False)"
   ]
  },
  {
   "cell_type": "code",
   "execution_count": null,
   "metadata": {},
   "outputs": [],
   "source": [
    "# Try it\n",
    "\n",
    "# Print the result of ~T\n",
    "\n",
    "# Print the result of T ∨ F\n",
    "\n",
    "# Print the result of \"~T ∧ F\""
   ]
  },
  {
   "cell_type": "code",
   "execution_count": null,
   "metadata": {
    "scrolled": false
   },
   "outputs": [],
   "source": [
    "# Strings\n",
    "\n",
    "print('abc')\n",
    "print(\"abc\")\n",
    "print('a \"quoted\" string' + \"another \\\"quoted string\\\" \" + \"can't\")\n",
    "print('abc' + 'a')\n",
    "\n",
    "print(\"\"\"\n",
    "         This\n",
    "         is\n",
    "         a \n",
    "         multiline\n",
    "         string.\"\"\")\n",
    "print(\"\"\"\n",
    "         So\n",
    "         is\n",
    "         this.\n",
    "         \"\"\")\n",
    "\n",
    "# Multiline strings are functionally multiline comments to\n",
    "print(\"Code I want to run\")\n",
    "\n",
    "'''\n",
    "print(\"Code I want not to run\")\n",
    "print(\"More code I want not to run\")\n",
    "'''"
   ]
  },
  {
   "cell_type": "code",
   "execution_count": null,
   "metadata": {},
   "outputs": [],
   "source": [
    "# Try it:\n",
    "\n",
    "# Write two multi-line strings, concatenate them, and print the result"
   ]
  },
  {
   "cell_type": "code",
   "execution_count": null,
   "metadata": {},
   "outputs": [],
   "source": [
    "# Variables (weakly typed)\n",
    "\n",
    "x = 17\n",
    "print(x)\n",
    "\n",
    "x = x + 12\n",
    "print(x)\n",
    "\n",
    "y = x / 3.2\n",
    "print(y)\n",
    "\n",
    "z = 'grape'\n",
    "z = z + str(y)\n",
    "print(z)"
   ]
  },
  {
   "cell_type": "code",
   "execution_count": null,
   "metadata": {},
   "outputs": [],
   "source": [
    "# Try it:\n",
    "\n",
    "# Repeat the the string concatenation exercise above using variables to store each string"
   ]
  },
  {
   "cell_type": "code",
   "execution_count": null,
   "metadata": {},
   "outputs": [],
   "source": [
    "# Typecasting\n",
    "\n",
    "print(str(5))\n",
    "print(float(7))"
   ]
  },
  {
   "cell_type": "code",
   "execution_count": null,
   "metadata": {},
   "outputs": [],
   "source": [
    "# Try it:\n",
    "\n",
    "# Cast 7.3 to an int and print the result\n",
    "\n",
    "# Cast the string \"3.2\" to a float and print the result\n"
   ]
  },
  {
   "cell_type": "code",
   "execution_count": null,
   "metadata": {},
   "outputs": [],
   "source": [
    "# Print statements\n",
    "\n",
    "five = 5.333\n",
    "name = \"bob\"\n",
    "print(name)\n",
    "print(name + str(five))\n",
    "print(name, five)\n",
    "\n",
    "#Remove string formatting\n",
    "print(\"{}\".format(five))\n",
    "print(\"{}\".format(name))\n",
    "print(\"{} is {:.0f} years old.\\n\".format(name, five))\n",
    "print(\"Name:\\tAge:\\n{}\\t{:.1f}\\n\".format(name, five))\n",
    "\n",
    "# C-style print strings work as well\n",
    "print(\"Name:\\tAge:\\n%s\\t%.1f\\n\" % (name, five))\n"
   ]
  },
  {
   "cell_type": "code",
   "execution_count": null,
   "metadata": {},
   "outputs": [],
   "source": [
    "# Lists\n",
    "\n",
    "# Creating a list.\n",
    "\n",
    "a = [1, 2, 3, 4]\n",
    "b = ['hello', 1, 2.5]\n",
    "c = [[1, 2, 3],\n",
    "     [4, 5, 6]]\n"
   ]
  },
  {
   "cell_type": "code",
   "execution_count": null,
   "metadata": {},
   "outputs": [],
   "source": [
    "# Try it:\n",
    "\n",
    "# Create list 'f' containing the characters of your first name\n",
    "\n",
    "# Create a list 'l' containing the characters of your last name\n",
    "\n",
    "# Create a list 'name' that contains 'f' and 'l'"
   ]
  },
  {
   "cell_type": "code",
   "execution_count": null,
   "metadata": {},
   "outputs": [],
   "source": [
    "# Accessing a list.\n",
    "\n",
    "print(a[0])\n",
    "print(a[-1])  # last element\n",
    "print(c[0])\n",
    "print(c[0][2])"
   ]
  },
  {
   "cell_type": "code",
   "execution_count": null,
   "metadata": {},
   "outputs": [],
   "source": [
    "# Try it:\n",
    "\n",
    "# Index into 'name' and extract the last character of your first name"
   ]
  },
  {
   "cell_type": "code",
   "execution_count": null,
   "metadata": {},
   "outputs": [],
   "source": [
    "# What happens if we access an element out of the bounds of our array?\n",
    "\n",
    "print(a[4])  # out of range"
   ]
  },
  {
   "cell_type": "code",
   "execution_count": null,
   "metadata": {},
   "outputs": [],
   "source": [
    "# List slicing.\n",
    "\n",
    "print(a[1:3])\n",
    "print(a[1:])\n",
    "print(a[:2])"
   ]
  },
  {
   "cell_type": "code",
   "execution_count": null,
   "metadata": {},
   "outputs": [],
   "source": [
    "# Try it:\n",
    "\n",
    "# Slice into 'name' and print the first two characters of your first name and last name"
   ]
  },
  {
   "cell_type": "code",
   "execution_count": null,
   "metadata": {},
   "outputs": [],
   "source": [
    "# Editing a list.\n",
    "\n",
    "a.append(6)  # adds to the end\n",
    "print(a)\n",
    "a[4] = 5  # sets item at position 4\n",
    "print(a)\n",
    "a.remove(3)  # removes the first 3 in the list\n",
    "print(a)\n",
    "del a[2]  # removes the item at position 2\n",
    "print(a)"
   ]
  },
  {
   "cell_type": "code",
   "execution_count": null,
   "metadata": {},
   "outputs": [],
   "source": [
    "# Try it:\n",
    "\n",
    "# Append the first character of your last name to 'f' and print 'f'\n",
    "\n",
    "# Remove the character you added and print 'f' again"
   ]
  },
  {
   "cell_type": "code",
   "execution_count": null,
   "metadata": {},
   "outputs": [],
   "source": [
    "# Other list functions.\n",
    "\n",
    "print(a)\n",
    "print(len(a))\n",
    "print(a.index(1))  # the index of the first 3\n",
    "print(a.count(5))\n",
    "a.reverse()  # these are in-place operations\n",
    "print(a)\n",
    "a.sort()\n",
    "print(a)"
   ]
  },
  {
   "cell_type": "code",
   "execution_count": null,
   "metadata": {},
   "outputs": [],
   "source": [
    "# Try it:\n",
    "\n",
    "# Reverse 'f'\n",
    "\n",
    "# Sort 'l'\n",
    "\n",
    "# Count the occurrences of \"a\" in your last name"
   ]
  },
  {
   "cell_type": "code",
   "execution_count": null,
   "metadata": {},
   "outputs": [],
   "source": [
    "# Data is not necessarily copied\n",
    "\n",
    "a = [0, 1, 2, 3, 4]\n",
    "b = a\n",
    "b[2] = 6\n",
    "\n",
    "print(a)\n",
    "print(b)\n",
    "\n",
    "c = a.copy()\n",
    "c[4] = 7\n",
    "\n",
    "print(a)\n",
    "print(c)"
   ]
  },
  {
   "cell_type": "code",
   "execution_count": null,
   "metadata": {},
   "outputs": [],
   "source": [
    "# Try it:\n",
    "\n",
    "# Make a copy of 'l' called 'l_copy' and change the first element of \"l_copy\" to \"z\"\n",
    "\n",
    "# Print 'l' and 'l_copy'. Did 'l' change?"
   ]
  },
  {
   "cell_type": "code",
   "execution_count": null,
   "metadata": {},
   "outputs": [],
   "source": [
    "# Tuples\n",
    "\n",
    "a = (1, 2, 3)\n",
    "b = (['hi', 3], 5, 7)\n",
    "print(a[2])\n",
    "x, y = ('diameter', 4 + 5)\n",
    "print(x)\n",
    "print(y)"
   ]
  },
  {
   "cell_type": "code",
   "execution_count": null,
   "metadata": {},
   "outputs": [],
   "source": [
    "# Try it:\n",
    "\n",
    "# Create a tuple 'f_tup' with the characters of your first name.\n",
    "\n",
    "# Try to change the first entry of 'f_tub'. What happens?"
   ]
  },
  {
   "cell_type": "code",
   "execution_count": null,
   "metadata": {
    "scrolled": true
   },
   "outputs": [],
   "source": [
    "a[2] = 5  # error: cannot change a tuple"
   ]
  },
  {
   "cell_type": "code",
   "execution_count": 37,
   "metadata": {},
   "outputs": [
    {
     "name": "stdout",
     "output_type": "stream",
     "text": [
      "{}\n",
      "{}\n",
      "{'name': 'Monty', 'hitpoints': 23, 'strength': 12, 'alignment': 'lawful good'}\n",
      "{'name': 'Monty', 'hitpoints': 23, 'strength': 12, 'alignment': 'lawful good', 'wisdom': 16}\n",
      "True\n",
      "16\n",
      "{'name': 'Monty', 'hitpoints': 23, 'strength': 12, 'alignment': 'lawful good', 'wisdom': 16, 'intelligence': 10, 'charisma': 14}\n",
      "{'name': 'Monty', 'hitpoints': 23, 'alignment': 'lawful good', 'wisdom': 16, 'intelligence': 10, 'charisma': 14}\n"
     ]
    }
   ],
   "source": [
    "# Dictionaries\n",
    "\n",
    "# Map an ID to a value\n",
    "\n",
    "# Create an empty dictionary\n",
    "d = {}\n",
    "print(d)\n",
    "d = dict()\n",
    "print(d)\n",
    "\n",
    "# Create a full dictionary\n",
    "dnd_character = {\"name\": \"Monty\", \"hitpoints\": 23, \"strength\": 12, \"alignment\": \"lawful good\"}\n",
    "print(dnd_character)\n",
    "\n",
    "# Add an entry\n",
    "dnd_character['wisdom'] = 16\n",
    "print(dnd_character)\n",
    "\n",
    "# Check if a key is in a dictionary\n",
    "print('wisdom' in dnd_character)\n",
    "\n",
    "# Lookup a value\n",
    "print(dnd_character['wisdom'])\n",
    "\n",
    "# Append/update dictionaries\n",
    "more_stats = {\"intelligence\": 10, \"charisma\": 14}\n",
    "dnd_character.update(more_stats)\n",
    "print(dnd_character)\n",
    "\n",
    "# Delete an entry\n",
    "del dnd_character['strength']\n",
    "print(dnd_character)"
   ]
  },
  {
   "cell_type": "code",
   "execution_count": null,
   "metadata": {},
   "outputs": [],
   "source": [
    "# Try it:\n",
    "\n",
    "# Create a small dictionary that maps colors to an item you associate with that color\n",
    "# Experiment with the above operations on your dictionary."
   ]
  },
  {
   "cell_type": "code",
   "execution_count": null,
   "metadata": {},
   "outputs": [],
   "source": [
    "# Conditional statements\n",
    "\n",
    "if True:\n",
    "    print('True')\n",
    "    print('Also True')\n",
    "    \n",
    "if False:\n",
    "    print('False')\n",
    "    \n",
    "if True and False:\n",
    "    print('False')\n",
    "    print('Also False')\n",
    "    \n",
    "    \n",
    "    \n",
    "    print('Still False down here')\n",
    "print('Not in conditional')"
   ]
  },
  {
   "cell_type": "code",
   "execution_count": null,
   "metadata": {},
   "outputs": [],
   "source": [
    "# Try it:\n",
    "\n",
    "# Test if a key exists in your dictionary. If it does not exist then add the key and its value to the dictionary."
   ]
  },
  {
   "cell_type": "code",
   "execution_count": null,
   "metadata": {},
   "outputs": [],
   "source": [
    "# Be careful with whitespace\n",
    "\n",
    "if True:\n",
    "  print('True')\n",
    "    print('Tabbing is wrong')"
   ]
  },
  {
   "cell_type": "code",
   "execution_count": null,
   "metadata": {},
   "outputs": [],
   "source": [
    "# Multi-way decisions\n",
    "\n",
    "if 5 > 4:\n",
    "    print('This will be printed')\n",
    "else:\n",
    "    print('This will not be printed')\n",
    "    \n",
    "if 5 > 8:\n",
    "    print('Not printed')\n",
    "elif 9 > 8:\n",
    "    print('Print this')\n",
    "else:\n",
    "    print('Not this')"
   ]
  },
  {
   "cell_type": "code",
   "execution_count": null,
   "metadata": {},
   "outputs": [],
   "source": [
    "# Try it\n",
    "\n",
    "# Test if a key exists in your dictionary. \n",
    "# If it does not exist then add the key and its value to the dictionary.\n",
    "# Otherwise print its value.\n"
   ]
  },
  {
   "cell_type": "code",
   "execution_count": null,
   "metadata": {},
   "outputs": [],
   "source": [
    "# Nested conditions\n",
    "\n",
    "if 'abc' == 'def':\n",
    "    if 5 > 4 and 5 >= 5:\n",
    "        print('Not here')\n",
    "    else:\n",
    "        print('Definitely not here')\n",
    "else:\n",
    "    if not True:\n",
    "        print('False')\n",
    "    elif 6 != 6:\n",
    "        print('False')\n",
    "    else:\n",
    "        print('Print this')    "
   ]
  },
  {
   "cell_type": "code",
   "execution_count": null,
   "metadata": {},
   "outputs": [],
   "source": [
    "# For loops\n",
    "\n",
    "for name in ['Alice', 'Bob', 'Claire']:\n",
    "    print('Hello from {}'.format(name))\n",
    "    \n",
    "\n",
    "print('\\n\\n')\n",
    "\n",
    "loop_num = 0\n",
    "ice_creams = ('Chocolate', 'Vanilla', 'Strawberry')\n",
    "for flavor in ice_creams:\n",
    "    print('I want some {} ice cream'.format(flavor))\n",
    "    \n",
    "    loop_num += 1\n",
    "    print('We have looped {} times'.format(loop_num))"
   ]
  },
  {
   "cell_type": "code",
   "execution_count": null,
   "metadata": {},
   "outputs": [],
   "source": [
    "# Try it\n",
    "\n",
    "# Iterate over 'f' and print each character"
   ]
  },
  {
   "cell_type": "code",
   "execution_count": null,
   "metadata": {},
   "outputs": [],
   "source": [
    "# Range Function\n",
    "\n",
    "print(range(3))\n",
    "print(range(2, 5))\n",
    "print(range(0, 20, 2))"
   ]
  },
  {
   "cell_type": "code",
   "execution_count": null,
   "metadata": {},
   "outputs": [],
   "source": [
    "a = range(5)\n",
    "print(a[0])\n",
    "print(a[-1])\n",
    "a.append(5)  # error: range returns a generator, not a list"
   ]
  },
  {
   "cell_type": "code",
   "execution_count": null,
   "metadata": {},
   "outputs": [],
   "source": [
    "# Range and lists\n",
    "\n",
    "for i in range(3):\n",
    "    print(i)\n",
    "\n",
    "print('\\n\\n')\n",
    "\n",
    "# Get the product of numbers one through ten\n",
    "product = 1\n",
    "for i in range(1, 11):\n",
    "    product *= i\n",
    "print(product)"
   ]
  },
  {
   "cell_type": "code",
   "execution_count": null,
   "metadata": {},
   "outputs": [],
   "source": [
    "# Try it\n",
    "\n",
    "# Repeat the above exercise, but instead \n",
    "# iterate over the range of the length of 'f'.\n",
    "# Index into 'f' to print each character.\n"
   ]
  },
  {
   "cell_type": "code",
   "execution_count": null,
   "metadata": {},
   "outputs": [],
   "source": [
    "# Nesting\n",
    "\n",
    "for i in range(3):\n",
    "    for j in range(2):\n",
    "        print((i,j))"
   ]
  },
  {
   "cell_type": "code",
   "execution_count": null,
   "metadata": {},
   "outputs": [],
   "source": [
    "# While loops\n",
    "\n",
    "val = 0\n",
    "while val < 5:\n",
    "    print('looping')\n",
    "    val += 1\n",
    "print(val)"
   ]
  },
  {
   "cell_type": "code",
   "execution_count": null,
   "metadata": {},
   "outputs": [],
   "source": [
    "# Iterate until a convergence tolerance is met\n",
    "\n",
    "n = 0\n",
    "sol = 2.\n",
    "tol = 1e-5\n",
    "curr = 0\n",
    "while abs(sol - curr) > tol:\n",
    "    curr += 0.5**n\n",
    "    print(curr)\n",
    "    n += 1\n",
    "    \n",
    "print('Converged in {} iterations'.format(n))"
   ]
  },
  {
   "cell_type": "code",
   "execution_count": null,
   "metadata": {},
   "outputs": [],
   "source": [
    "# Try it:\n",
    "\n",
    "# Print the characters in 'f' again, but use a while-loop instead of a for-loop"
   ]
  },
  {
   "cell_type": "code",
   "execution_count": null,
   "metadata": {},
   "outputs": [],
   "source": [
    "# Functions\n",
    "\n",
    "def greet(name):\n",
    "    print('Hello {}! Welcome to CS 357!'.format(name))\n",
    "    \n",
    "greet('Alice')"
   ]
  },
  {
   "cell_type": "code",
   "execution_count": null,
   "metadata": {},
   "outputs": [],
   "source": [
    "def convert(deg, celsius=True):\n",
    "    if celsius:\n",
    "        temp = (9 / 5.) * deg + 32\n",
    "    else:\n",
    "        temp = (5 / 9.) * (deg - 32)\n",
    "    \n",
    "print('It is {} degrees Fahrenheit outside.'.format(convert(0)))\n",
    "print('I happen to know that is {} degrees Celsius.'.format(convert(32, False)))"
   ]
  },
  {
   "cell_type": "code",
   "execution_count": null,
   "metadata": {},
   "outputs": [],
   "source": [
    "# What went wrong?  We forgot to return the value we wanted from the function.\n",
    "\n",
    "def convert(deg, celsius=True):\n",
    "    if celsius:\n",
    "        temp = (9 / 5.) * deg + 32\n",
    "    else:\n",
    "        temp = (5 / 9.) * (deg - 32)\n",
    "    \n",
    "    return temp\n",
    "\n",
    "    \n",
    "print('It is {} degrees Fahrenheit outside.'.format(convert(0)))\n",
    "print('I happen to know that is {} degrees Celsius.'.format(convert(32, False)))"
   ]
  },
  {
   "cell_type": "code",
   "execution_count": null,
   "metadata": {},
   "outputs": [],
   "source": [
    "#Try it:\n",
    "\n",
    "# Write a function which takes a 24-hour time as an integer\n",
    "# and returns the equivalent 12-hour time as a string.\n",
    "# The first two digits are the hour and the last two digits\n",
    "# are the minutes"
   ]
  },
  {
   "cell_type": "code",
   "execution_count": null,
   "metadata": {},
   "outputs": [],
   "source": [
    "# Math operations \n",
    "\n",
    "import numpy as np\n",
    "print(np.sin(2*np.pi))\n",
    "print(np.log(np.e))"
   ]
  },
  {
   "cell_type": "code",
   "execution_count": null,
   "metadata": {},
   "outputs": [],
   "source": [
    "# Try it:\n",
    "\n",
    "# Calculate cos(sqrt(pi*e))"
   ]
  },
  {
   "cell_type": "code",
   "execution_count": null,
   "metadata": {
    "scrolled": false
   },
   "outputs": [],
   "source": [
    "# Need to figure out how to use a function?\n",
    "\n",
    "help(np.log)"
   ]
  },
  {
   "cell_type": "code",
   "execution_count": null,
   "metadata": {},
   "outputs": [],
   "source": [
    "np.log?"
   ]
  },
  {
   "cell_type": "code",
   "execution_count": null,
   "metadata": {},
   "outputs": [],
   "source": []
  }
 ],
 "metadata": {
  "kernelspec": {
   "display_name": "Python 3",
   "language": "python",
   "name": "python3"
  },
  "language_info": {
   "codemirror_mode": {
    "name": "ipython",
    "version": 3
   },
   "file_extension": ".py",
   "mimetype": "text/x-python",
   "name": "python",
   "nbconvert_exporter": "python",
   "pygments_lexer": "ipython3",
   "version": "3.7.6"
  }
 },
 "nbformat": 4,
 "nbformat_minor": 1
}
