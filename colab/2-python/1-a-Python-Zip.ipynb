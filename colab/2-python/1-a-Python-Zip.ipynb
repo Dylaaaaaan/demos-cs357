{
  "cells": [
    {
      "cell_type": "markdown",
      "metadata": {},
      "source": [
        "# Two helpful functions"
      ]
    },
    {
      "cell_type": "markdown",
      "metadata": {},
      "source": [
        "## zip"
      ]
    },
    {
      "cell_type": "markdown",
      "metadata": {},
      "source": [
        "Suppose you have two lists:"
      ]
    },
    {
      "cell_type": "code",
      "execution_count": 1,
      "metadata": {},
      "outputs": [
        {
          "name": "stdout",
          "output_type": "stream",
          "text": [
            "('a', 'apples')\n",
            "('b', 'bananas')\n",
            "('c', 'oranges')\n",
            "('d', 'grapes')\n"
          ]
        }
      ],
      "source": [
        "ids = ['a', 'b', 'c', 'd']\n",
        "fruits = ['apples', 'bananas', 'oranges', 'grapes']\n",
        "for c in zip(ids, fruits):\n",
        "    print(c)"
      ]
    },
    {
      "cell_type": "markdown",
      "metadata": {},
      "source": [
        "## enumerate"
      ]
    },
    {
      "cell_type": "markdown",
      "metadata": {},
      "source": [
        "suppose you had a single list:"
      ]
    },
    {
      "cell_type": "code",
      "execution_count": 2,
      "metadata": {},
      "outputs": [
        {
          "name": "stdout",
          "output_type": "stream",
          "text": [
            "0: the fruit is apples\n",
            "1: the fruit is bananas\n",
            "2: the fruit is oranges\n",
            "3: the fruit is grapes\n"
          ]
        }
      ],
      "source": [
        "fruits = ['apples', 'bananas', 'oranges', 'grapes']\n",
        "for i, f in enumerate(fruits):\n",
        "    print(\"%d: the fruit is %s\" % (i,f))"
      ]
    }
  ],
  "metadata": {
    "kernelspec": {
      "display_name": "Python 3",
      "language": "python",
      "name": "python3"
    },
    "language_info": {
      "codemirror_mode": {
        "name": "ipython",
        "version": 3
      },
      "file_extension": ".py",
      "mimetype": "text/x-python",
      "name": "python",
      "nbconvert_exporter": "python",
      "pygments_lexer": "ipython3",
      "version": "3.6.3"
    }
  },
  "nbformat": 4,
  "nbformat_minor": 2
}