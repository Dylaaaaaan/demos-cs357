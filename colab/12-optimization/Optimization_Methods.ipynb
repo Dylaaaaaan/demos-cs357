{
  "cells": [
    {
      "cell_type": "code",
      "execution_count": 1,
      "metadata": {
        "collapsed": true
      },
      "outputs": [],
      "source": [
        "import numpy as np\n",
        "import matplotlib.pyplot as pt\n",
        "%matplotlib inline"
      ]
    },
    {
      "cell_type": "markdown",
      "metadata": {},
      "source": [
        "In this activity, we will find the optimizer of functions in 1d using two iterative methods. For each one, you should be thinking about cost and convergence rate.\n",
        "\n",
        "The iterative methods below can be applied to more complex equations, but here we will use a simple polynomial function of the form:\n",
        "\n",
        "$$f(x) =  a x^4 + b x^3 + c x^2 + d x + e $$\n",
        "\n",
        "The code snippet below provides the values for the constants, and functions to evaluate $f(x)$, $f'(x)$ and $f''(x)$."
      ]
    },
    {
      "cell_type": "code",
      "execution_count": 2,
      "metadata": {},
      "outputs": [
        {
          "data": {
            "text/plain": [
              "[<matplotlib.lines.Line2D at 0x106901eb8>]"
            ]
          },
          "execution_count": 2,
          "metadata": {},
          "output_type": "execute_result"
        },
        {
          "data": {
            "image/png": "[encoded data removed]",
            "text/plain": [
              "<Figure size 432x288 with 1 Axes>"
            ]
          },
          "metadata": {},
          "output_type": "display_data"
        }
      ],
      "source": [
        "a = 17.09\n",
        "b = 9.79\n",
        "c = 0.6317\n",
        "d = 0.9324\n",
        "e = 0.4565\n",
        "\n",
        "def f(x):\n",
        "    return a*x**4 + b*x**3 + c*x**2 + d*x + e\n",
        "\n",
        "def df(x):\n",
        "    return 4*a*x**3 + 3*b*x**2 + 2*c*x + d\n",
        "\n",
        "def d2f(x):\n",
        "    return 3*4*a*x**2 + 2*3*b*x + 2*c\n",
        "\n",
        "xmesh = np.linspace(-1, 0.5, 100)\n",
        "pt.ylim([-1, 3])\n",
        "pt.plot(xmesh, f(xmesh))"
      ]
    },
    {
      "cell_type": "code",
      "execution_count": 3,
      "metadata": {
        "collapsed": true
      },
      "outputs": [],
      "source": [
        "# # You can later uncomment this code snippet and run the algorithms for a different function\n",
        "\n",
        "# def f(x): \n",
        "#     return -2 + x + 2*x**2 - x**3\n",
        "\n",
        "# def df(x):\n",
        "#     return 1 + 4*x - 3*x**2\n",
        "\n",
        "# def d2f(x):\n",
        "#     return 4 - 6*x\n",
        "\n",
        "# xmesh = np.linspace(-2,3, 200)\n",
        "# pt.plot(xmesh, f(xmesh))\n",
        "# pt.ylim([-4, 4]);"
      ]
    },
    {
      "cell_type": "markdown",
      "metadata": {},
      "source": [
        "# Golden Section Search"
      ]
    },
    {
      "cell_type": "code",
      "execution_count": 4,
      "metadata": {},
      "outputs": [
        {
          "name": "stdout",
          "output_type": "stream",
          "text": [
            "-0.8541019662496847 -0.1458980337503153\n",
            " -0.854102 \t          1 \t       1.8541     0.618034\n",
            " -0.854102 \t   0.291796 \t       1.1459     0.618034\n",
            " -0.854102 \t  -0.145898 \t     0.708204     0.618034\n",
            " -0.583592 \t  -0.145898 \t     0.437694     0.618034\n",
            " -0.583592 \t  -0.313082 \t      0.27051     0.618034\n",
            " -0.583592 \t  -0.416408 \t     0.167184     0.618034\n",
            " -0.519733 \t  -0.416408 \t     0.103326     0.618034\n",
            " -0.480267 \t  -0.416408 \t    0.0638587     0.618034\n",
            " -0.480267 \t    -0.4408 \t    0.0394669     0.618034\n",
            " -0.465192 \t    -0.4408 \t    0.0243919     0.618034\n",
            " -0.465192 \t  -0.450117 \t     0.015075     0.618034\n",
            " -0.459433 \t  -0.450117 \t   0.00931686     0.618034\n",
            " -0.459433 \t  -0.453675 \t   0.00575814     0.618034\n",
            " -0.457234 \t  -0.453675 \t   0.00355872     0.618034\n",
            " -0.455875 \t  -0.453675 \t   0.00219941     0.618034\n",
            " -0.455875 \t  -0.454515 \t   0.00135931     0.618034\n",
            " -0.455356 \t  -0.454515 \t  0.000840101     0.618034\n",
            " -0.455035 \t  -0.454515 \t  0.000519211     0.618034\n",
            " -0.455035 \t  -0.454714 \t   0.00032089     0.618034\n",
            " -0.455035 \t  -0.454836 \t  0.000198321     0.618034\n",
            " -0.454959 \t  -0.454836 \t  0.000122569     0.618034\n",
            " -0.454959 \t  -0.454883 \t  7.57518e-05     0.618034\n",
            "  -0.45493 \t  -0.454883 \t  4.68172e-05     0.618034\n",
            "  -0.45493 \t  -0.454901 \t  2.89346e-05     0.618034\n",
            "  -0.45493 \t  -0.454912 \t  1.78826e-05     0.618034\n",
            " -0.454923 \t  -0.454912 \t   1.1052e-05     0.618034\n",
            " -0.454923 \t  -0.454916 \t  6.83054e-06     0.618034\n",
            "  -0.45492 \t  -0.454916 \t  4.22151e-06     0.618034\n",
            " -0.454919 \t  -0.454916 \t  2.60903e-06     0.618034\n",
            " -0.454919 \t  -0.454917 \t  1.61247e-06     0.618034\n",
            " -0.454919 \t  -0.454918 \t  9.96562e-07     0.618034\n"
          ]
        }
      ],
      "source": [
        "tau = (np.sqrt(5)-1)/2\n",
        "\n",
        "# a0 = -0.9\n",
        "# b0 = -0.2\n",
        "\n",
        "a0=-2\n",
        "b0 = 1\n",
        "h_k = b0 - a0  \n",
        "\n",
        "x1 = a0 + (1-tau) * h_k\n",
        "x2 = a0 + tau * h_k\n",
        "print(x1,x2)\n",
        "f1 = f(x1)\n",
        "f2 = f(x2)\n",
        "\n",
        "errors = [np.abs(h_k)]\n",
        "count = 0\n",
        "\n",
        "while (count < 30 and np.abs(h_k) > 1e-6):\n",
        " \n",
        "    if  f1>f2:\n",
        "        a0 = x1\n",
        "        x1 = x2\n",
        "        f1 = f2\n",
        "        h_k = b0-a0\n",
        "        x2 = a0 + tau * h_k\n",
        "        f2 = f(x2)\n",
        "    else:\n",
        "        b0 = x2\n",
        "        x2 = x1\n",
        "        f2 = f1\n",
        "        h_k = b0-a0\n",
        "        x1 = a0 + (1-tau) * h_k\n",
        "        f1 = f(x1)        \n",
        "    errors.append(np.abs(h_k))  \n",
        "    \n",
        "    print(\"%10g \\t %10g \\t %12g %12g\" % (a0, b0, errors[-1], errors[-1]/errors[-2]))\n",
        "    \n"
      ]
    },
    {
      "cell_type": "markdown",
      "metadata": {},
      "source": [
        "# Newton's method in 1D"
      ]
    },
    {
      "cell_type": "markdown",
      "metadata": {},
      "source": [
        "Let's fix an initial guess:"
      ]
    },
    {
      "cell_type": "code",
      "execution_count": 5,
      "metadata": {
        "collapsed": true
      },
      "outputs": [],
      "source": [
        "#Let's use \n",
        "x_exact = -0.4549\n",
        "\n",
        "x_exact = -0.21525 "
      ]
    },
    {
      "cell_type": "code",
      "execution_count": 6,
      "metadata": {
        "collapsed": true
      },
      "outputs": [],
      "source": [
        "x = 0.5"
      ]
    },
    {
      "cell_type": "code",
      "execution_count": 7,
      "metadata": {},
      "outputs": [
        {
          "name": "stdout",
          "output_type": "stream",
          "text": [
            "0.2869245965368959\n"
          ]
        },
        {
          "data": {
            "image/png": "[encoded data removed]",
            "text/plain": [
              "<Figure size 432x288 with 1 Axes>"
            ]
          },
          "metadata": {},
          "output_type": "display_data"
        }
      ],
      "source": [
        "dfx = df(x)\n",
        "d2fx = d2f(x)\n",
        "\n",
        "# carry out the Newton step\n",
        "xnew = x - dfx / d2fx\n",
        "\n",
        "# plot approximate function\n",
        "pt.plot(xmesh, f(xmesh))\n",
        "pt.plot(xmesh, f(x) + dfx*(xmesh-x) + d2fx*(xmesh-x)**2/2)\n",
        "pt.plot(x, f(x), \"o\", color=\"red\")\n",
        "pt.plot(xnew, f(xnew), \"o\", color=\"green\")\n",
        "#pt.ylim([-1, 3])\n",
        "\n",
        "# update\n",
        "x = xnew\n",
        "print(x)"
      ]
    },
    {
      "cell_type": "code",
      "execution_count": 8,
      "metadata": {},
      "outputs": [
        {
          "name": "stdout",
          "output_type": "stream",
          "text": [
            "  -0.499162     0.283912\n",
            "  -0.460863     0.245613\n",
            "  -0.455047     0.239797\n",
            "  -0.454918     0.239668\n"
          ]
        }
      ],
      "source": [
        "x = 0.2\n",
        "x = -0.6\n",
        "errors = [x]\n",
        "r = 2\n",
        "\n",
        "for i in range(30):\n",
        "    \n",
        "    dfx = df(x)\n",
        "    d2fx = d2f(x)\n",
        "    xnew = x - dfx / d2fx\n",
        "    if np.abs(xnew-x) < 1e-6:\n",
        "        break\n",
        "    x = xnew\n",
        "    errors.append(np.abs(x_exact-x))\n",
        "    print(\" %10g %12g\" % (x, errors[-1]) )\n",
        "    "
      ]
    },
    {
      "cell_type": "markdown",
      "metadata": {},
      "source": [
        "# Using scipy library"
      ]
    },
    {
      "cell_type": "code",
      "execution_count": 9,
      "metadata": {
        "collapsed": true
      },
      "outputs": [],
      "source": [
        "import scipy.optimize as sopt"
      ]
    },
    {
      "cell_type": "markdown",
      "metadata": {},
      "source": [
        "https://docs.scipy.org/doc/scipy/reference/generated/scipy.optimize.minimize.html"
      ]
    },
    {
      "cell_type": "code",
      "execution_count": 10,
      "metadata": {
        "collapsed": true
      },
      "outputs": [],
      "source": [
        "sopt.minimize?"
      ]
    },
    {
      "cell_type": "code",
      "execution_count": 11,
      "metadata": {},
      "outputs": [
        {
          "data": {
            "text/plain": [
              "      fun: -0.02668057317931294\n",
              " hess_inv: array([[0.05883205]])\n",
              "      jac: array([3.7252903e-08])\n",
              "  message: 'Optimization terminated successfully.'\n",
              "     nfev: 51\n",
              "      nit: 13\n",
              "     njev: 17\n",
              "   status: 0\n",
              "  success: True\n",
              "        x: array([-0.45491836])"
            ]
          },
          "execution_count": 11,
          "metadata": {},
          "output_type": "execute_result"
        }
      ],
      "source": [
        "x0 = 2\n",
        "sopt.minimize(f, x0)"
      ]
    },
    {
      "cell_type": "code",
      "execution_count": 12,
      "metadata": {},
      "outputs": [
        {
          "data": {
            "text/plain": [
              "-0.454918360046204"
            ]
          },
          "execution_count": 12,
          "metadata": {},
          "output_type": "execute_result"
        }
      ],
      "source": [
        "x0 = (-8,2)\n",
        "sopt.golden(f,brack=x0)"
      ]
    }
  ],
  "metadata": {
    "kernelspec": {
      "display_name": "Python 3",
      "language": "python",
      "name": "python3"
    },
    "language_info": {
      "codemirror_mode": {
        "name": "ipython",
        "version": 3
      },
      "file_extension": ".py",
      "mimetype": "text/x-python",
      "name": "python",
      "nbconvert_exporter": "python",
      "pygments_lexer": "ipython3",
      "version": "3.6.9"
    }
  },
  "nbformat": 4,
  "nbformat_minor": 1
}