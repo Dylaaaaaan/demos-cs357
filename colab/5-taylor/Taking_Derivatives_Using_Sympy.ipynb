{
  "cells": [
    {
      "cell_type": "markdown",
      "metadata": {},
      "source": [
        "# Polynomial Approximation with Derivatives"
      ]
    },
    {
      "cell_type": "code",
      "execution_count": null,
      "metadata": {
        "collapsed": true
      },
      "outputs": [],
      "source": [
        "import numpy as np\n",
        "import matplotlib.pyplot as plt\n",
        "%matplotlib inline\n",
        "\n",
        "from math import factorial"
      ]
    },
    {
      "cell_type": "markdown",
      "metadata": {},
      "source": [
        "## A Brief Intro to `sympy`"
      ]
    },
    {
      "cell_type": "markdown",
      "metadata": {},
      "source": [
        "Here we import `sympy`, a package for symbolic computation with Python."
      ]
    },
    {
      "cell_type": "code",
      "execution_count": null,
      "metadata": {
        "collapsed": true
      },
      "outputs": [],
      "source": [
        "import sympy as sp\n",
        "sp.init_printing()"
      ]
    },
    {
      "cell_type": "markdown",
      "metadata": {},
      "source": [
        "Next, we make a (symbolic) variable $x$ from which we can then build more complicated expressions:"
      ]
    },
    {
      "cell_type": "code",
      "execution_count": null,
      "metadata": {},
      "outputs": [],
      "source": [
        "sp.var(\"x\")\n",
        "x"
      ]
    },
    {
      "cell_type": "markdown",
      "metadata": {},
      "source": [
        "Build up an expression with $x$. Assign it to `expr`. Observe that this expression isn't evaluated--the result of this computation is some Python data that represents the computation:"
      ]
    },
    {
      "cell_type": "code",
      "execution_count": null,
      "metadata": {},
      "outputs": [],
      "source": [
        "g = sp.sin(sp.sqrt(x)+2)**2\n",
        "g"
      ]
    },
    {
      "cell_type": "markdown",
      "metadata": {},
      "source": [
        "Next, take a derivative, using `.diff(x)`."
      ]
    },
    {
      "cell_type": "code",
      "execution_count": null,
      "metadata": {},
      "outputs": [],
      "source": [
        "g.diff(x)"
      ]
    },
    {
      "cell_type": "code",
      "execution_count": null,
      "metadata": {},
      "outputs": [],
      "source": [
        "g.diff(x, 4)"
      ]
    },
    {
      "cell_type": "markdown",
      "metadata": {},
      "source": [
        "Use `.subs(x, ...)` and `.evalf()` to evaluate your expression for $x=1$."
      ]
    },
    {
      "cell_type": "code",
      "execution_count": null,
      "metadata": {},
      "outputs": [],
      "source": [
        "g.subs(x,1)"
      ]
    },
    {
      "cell_type": "code",
      "execution_count": null,
      "metadata": {},
      "outputs": [],
      "source": [
        "g.subs(x, 1).evalf()"
      ]
    },
    {
      "cell_type": "markdown",
      "metadata": {},
      "source": [
        "Helper function that takes symbolic functions as argument and plot them"
      ]
    },
    {
      "cell_type": "code",
      "execution_count": null,
      "metadata": {
        "collapsed": true
      },
      "outputs": [],
      "source": [
        "def plot_sympy(my_f, my_pts, **kwargs):\n",
        "    f_values = np.array([my_f.subs(x, pt) for pt in my_pts])\n",
        "    plt.plot(pts, f_values, **kwargs)\n"
      ]
    },
    {
      "cell_type": "markdown",
      "metadata": {},
      "source": [
        "## Polynomial Approximation"
      ]
    },
    {
      "cell_type": "code",
      "execution_count": null,
      "metadata": {},
      "outputs": [],
      "source": [
        "f = 1/(20*x-10)\n",
        "f"
      ]
    },
    {
      "cell_type": "code",
      "execution_count": null,
      "metadata": {},
      "outputs": [],
      "source": [
        "f.diff(x)"
      ]
    },
    {
      "cell_type": "code",
      "execution_count": null,
      "metadata": {},
      "outputs": [],
      "source": [
        "f.diff(x,2)"
      ]
    },
    {
      "cell_type": "markdown",
      "metadata": {},
      "source": [
        "Write out the degree 2 Taylor polynomial about 0:"
      ]
    },
    {
      "cell_type": "code",
      "execution_count": null,
      "metadata": {},
      "outputs": [],
      "source": [
        "taylor2 = (\n",
        "    f.subs(x, 0)\n",
        "    + f.diff(x).subs(x, 0) * x\n",
        "    + f.diff(x, 2).subs(x, 0)/2 * x**2\n",
        ")\n",
        "taylor2"
      ]
    },
    {
      "cell_type": "markdown",
      "metadata": {},
      "source": [
        "Plot the exact function `f` and the taylor approximation `taylor2`"
      ]
    },
    {
      "cell_type": "code",
      "execution_count": null,
      "metadata": {},
      "outputs": [],
      "source": [
        "pts = np.linspace(-0.4,0.4)\n",
        "\n",
        "plot_sympy(taylor2, pts, label=\"taylor2\")\n",
        "plot_sympy(f, pts, label=\"f\")\n",
        "plt.legend(loc=\"best\")\n",
        "plt.axis('equal')\n",
        "plt.grid()\n",
        "plt.xlabel('$x$')\n",
        "plt.ylabel('function values')"
      ]
    },
    {
      "cell_type": "markdown",
      "metadata": {},
      "source": [
        "## Behavior of the Error"
      ]
    },
    {
      "cell_type": "markdown",
      "metadata": {
        "collapsed": true
      },
      "source": [
        "Let's write the taylor approximation for any degree `n`, and define the error as f - tn"
      ]
    },
    {
      "cell_type": "code",
      "execution_count": null,
      "metadata": {},
      "outputs": [],
      "source": [
        "n = 2\n",
        "\n",
        "tn = 0\n",
        "for i in range(n+1):\n",
        "    tn += f.diff(x, i).subs(x, 0)/factorial(i) * x**i"
      ]
    },
    {
      "cell_type": "code",
      "execution_count": null,
      "metadata": {},
      "outputs": [],
      "source": [
        "plot_sympy(tn, pts, label=\"taylor\")\n",
        "plot_sympy(f, pts, label=\"f\")\n",
        "plt.legend(loc=\"best\")\n",
        "plt.axis('equal')\n",
        "plt.grid()\n",
        "plt.xlabel('$x$')\n",
        "plt.ylabel('function values')"
      ]
    },
    {
      "cell_type": "code",
      "execution_count": null,
      "metadata": {
        "collapsed": true
      },
      "outputs": [],
      "source": [
        "error = f - tn"
      ]
    },
    {
      "cell_type": "code",
      "execution_count": null,
      "metadata": {},
      "outputs": [],
      "source": [
        "plot_sympy(error, pts, label=\"error\")\n",
        "plt.legend(loc=\"best\")\n",
        "plt.ylim([-1.3, 1.3])\n",
        "plt.axis('equal')\n",
        "plt.grid()\n",
        "plt.xlabel('$x$')\n",
        "plt.ylabel('error')"
      ]
    },
    {
      "cell_type": "markdown",
      "metadata": {},
      "source": [
        "To get a better idea of what happens close to the center, use a log-log plot:"
      ]
    },
    {
      "cell_type": "code",
      "execution_count": null,
      "metadata": {},
      "outputs": [],
      "source": [
        "# plot only points close to zero [10^(-3),10^(0.4)]\n",
        "plt.figure(figsize=(10,6))\n",
        "pos_pts = 10**np.linspace(-3, 0.4) \n",
        "err_values = [abs(error.subs(x, pt)) for pt in pos_pts]\n",
        "plt.loglog(pos_pts, err_values)\n",
        "plt.grid()\n",
        "plt.xlabel(\"$x$\")\n",
        "plt.ylabel(\"Error\")"
      ]
    },
    {
      "cell_type": "code",
      "execution_count": null,
      "metadata": {
        "collapsed": true
      },
      "outputs": [],
      "source": []
    }
  ],
  "metadata": {
    "kernelspec": {
      "display_name": "Python 3",
      "language": "python",
      "name": "python3"
    },
    "language_info": {
      "codemirror_mode": {
        "name": "ipython",
        "version": 3
      },
      "file_extension": ".py",
      "mimetype": "text/x-python",
      "name": "python",
      "nbconvert_exporter": "python",
      "pygments_lexer": "ipython3",
      "version": "3.6.9"
    },
    "widgets": {
      "state": {},
      "version": "1.1.2"
    }
  },
  "nbformat": 4,
  "nbformat_minor": 1
}