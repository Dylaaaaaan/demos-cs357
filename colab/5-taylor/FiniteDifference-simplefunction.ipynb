{
 "cells": [
  {
   "cell_type": "markdown",
   "metadata": {},
   "source": [
    "# Finite Difference - Simple Function"
   ]
  },
  {
   "cell_type": "code",
   "execution_count": null,
   "metadata": {
    "collapsed": true
   },
   "outputs": [],
   "source": [
    "import numpy as np\n",
    "import matplotlib.pyplot as plt\n",
    "%matplotlib inline\n",
    "\n",
    "import seaborn as sns\n",
    "sns.set(font_scale=2)\n",
    "sns.set_style(\"whitegrid\")"
   ]
  },
  {
   "cell_type": "code",
   "execution_count": null,
   "metadata": {
    "collapsed": true
   },
   "outputs": [],
   "source": [
    "def f(x):\n",
    "    return np.exp(x) - 2\n",
    "\n",
    "def df(x):\n",
    "    return np.exp(x)\n",
    "\n",
    "def df2(x):\n",
    "    return np.exp(x)"
   ]
  },
  {
   "cell_type": "code",
   "execution_count": null,
   "metadata": {},
   "outputs": [],
   "source": [
    "x = np.linspace(-1, 2, 100)\n",
    "plt.plot(x, f(x), lw=3)"
   ]
  },
  {
   "cell_type": "markdown",
   "metadata": {},
   "source": [
    "Let's evaluate the first derivative using finite difference approximation for decreasing values of h"
   ]
  },
  {
   "cell_type": "code",
   "execution_count": null,
   "metadata": {},
   "outputs": [],
   "source": [
    "xx = 1.0\n",
    "h = 1.0\n",
    "errors = []\n",
    "hs = []\n",
    "\n",
    "dfexact = df(xx) \n",
    "\n",
    "\n",
    "for i in range(20):\n",
    "    dfapprox = (f(xx+h) - f(xx)) / h\n",
    "    \n",
    "    err = np.abs(dfexact - dfapprox)\n",
    "    \n",
    "    print(\" %E \\t %E \" %(h, err) )\n",
    "    \n",
    "    hs.append(h)\n",
    "    errors.append(err)\n",
    "    \n",
    "    h = h / 2"
   ]
  },
  {
   "cell_type": "code",
   "execution_count": null,
   "metadata": {},
   "outputs": [],
   "source": [
    "plt.loglog(hs, errors, lw=3)\n",
    "plt.xlabel('h')\n",
    "plt.ylabel('error')\n",
    "plt.xlim([1e-6,1])\n",
    "plt.ylim([1e-6,1])"
   ]
  },
  {
   "cell_type": "markdown",
   "metadata": {},
   "source": [
    "What happens if we keep decreasing the perturbation h?"
   ]
  },
  {
   "cell_type": "code",
   "execution_count": null,
   "metadata": {},
   "outputs": [],
   "source": [
    "xx = 1.0\n",
    "h = 1.0\n",
    "errors = []\n",
    "hs = []\n",
    "\n",
    "dfexact = df(xx) \n",
    "fxx = f(xx)\n",
    "print('f exact = ',fxx)\n",
    "\n",
    "for i in range(60):\n",
    "    \n",
    "    fxxh = f(xx+h)\n",
    "    \n",
    "    dfapprox = (fxxh - fxx) / h\n",
    "    \n",
    "    err = np.abs(dfexact - dfapprox)   \n",
    "    \n",
    "    print(\" %E \\t %E\\t %E\" %(h, fxxh-fxx, err) )\n",
    "    hs.append(h)\n",
    "    errors.append(err)\n",
    "    \n",
    "    h = h / 2"
   ]
  },
  {
   "cell_type": "code",
   "execution_count": null,
   "metadata": {},
   "outputs": [],
   "source": [
    "plt.loglog(hs, errors, lw=3)\n",
    "plt.xlabel('h')\n",
    "plt.ylabel('error')"
   ]
  },
  {
   "cell_type": "code",
   "execution_count": null,
   "metadata": {},
   "outputs": [],
   "source": []
  },
  {
   "cell_type": "code",
   "execution_count": null,
   "metadata": {},
   "outputs": [],
   "source": [
    "plt.loglog(hs, errors, lw=3,label='total')\n",
    "plt.loglog(hs,np.array(hs)*0.5*np.exp(1),'--',label='truncation')\n",
    "plt.loglog(hs,2*2.2e-16/np.array(hs),'--',label='rounding')\n",
    "plt.legend(bbox_to_anchor=(1.1, 1.05))\n",
    "plt.xlabel('h')\n",
    "plt.ylabel('error')"
   ]
  },
  {
   "cell_type": "code",
   "execution_count": null,
   "metadata": {
    "collapsed": true
   },
   "outputs": [],
   "source": []
  }
 ],
 "metadata": {
  "kernelspec": {
   "display_name": "Python 3",
   "language": "python",
   "name": "python3"
  },
  "language_info": {
   "codemirror_mode": {
    "name": "ipython",
    "version": 3
   },
   "file_extension": ".py",
   "mimetype": "text/x-python",
   "name": "python",
   "nbconvert_exporter": "python",
   "pygments_lexer": "ipython3",
   "version": "3.7.6"
  }
 },
 "nbformat": 4,
 "nbformat_minor": 2
}
