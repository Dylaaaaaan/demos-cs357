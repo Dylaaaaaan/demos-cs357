{
 "cells": [
  {
   "cell_type": "markdown",
   "metadata": {},
   "source": [
    "We can \"unpack\" values with the following"
   ]
  },
  {
   "cell_type": "code",
   "execution_count": 1,
   "metadata": {},
   "outputs": [
    {
     "name": "stdout",
     "output_type": "stream",
     "text": [
      "apple banana\n"
     ]
    }
   ],
   "source": [
    "myfruit, yourfruit = ('apple', 'banana')\n",
    "print(myfruit, yourfruit)"
   ]
  },
  {
   "cell_type": "markdown",
   "metadata": {},
   "source": [
    "And we can use the star mark (*) for variable length:"
   ]
  },
  {
   "cell_type": "code",
   "execution_count": 2,
   "metadata": {},
   "outputs": [
    {
     "name": "stdout",
     "output_type": "stream",
     "text": [
      "apple\n",
      "['banana', 'orange']\n",
      "<class 'list'>\n",
      "plum\n"
     ]
    }
   ],
   "source": [
    "myfruit, *otherfruits, yourfruit = ['apple', 'banana', 'orange', 'plum']\n",
    "print(myfruit)\n",
    "print(otherfruits)\n",
    "print(type(otherfruits))\n",
    "print(yourfruit)"
   ]
  },
  {
   "cell_type": "markdown",
   "metadata": {},
   "source": [
    "# functions"
   ]
  },
  {
   "cell_type": "markdown",
   "metadata": {},
   "source": [
    "Let's try unpacking with functions ... it's the same"
   ]
  },
  {
   "cell_type": "code",
   "execution_count": 3,
   "metadata": {
    "collapsed": true
   },
   "outputs": [],
   "source": [
    "def give_me_fruits():\n",
    "    return ['apple', 'banana', 'orange', 'plum']"
   ]
  },
  {
   "cell_type": "code",
   "execution_count": 4,
   "metadata": {},
   "outputs": [
    {
     "name": "stdout",
     "output_type": "stream",
     "text": [
      "['apple', 'banana', 'orange']\n"
     ]
    }
   ],
   "source": [
    "*myfruits, _ = give_me_fruits()\n",
    "print(myfruits)"
   ]
  },
  {
   "cell_type": "markdown",
   "metadata": {},
   "source": [
    "Above we used `_` to denote a return that we want to just ignore (and not bind to a name)."
   ]
  },
  {
   "cell_type": "code",
   "execution_count": 5,
   "metadata": {
    "collapsed": true
   },
   "outputs": [],
   "source": [
    "def some_fruits(fruit, *morefruits):\n",
    "    print('The best fruit is %s' % fruit)\n",
    "    for f in morefruits:\n",
    "        print('...not %s' % f)"
   ]
  },
  {
   "cell_type": "code",
   "execution_count": 6,
   "metadata": {},
   "outputs": [
    {
     "name": "stdout",
     "output_type": "stream",
     "text": [
      "The best fruit is apple\n",
      "...not banana\n",
      "...not orange\n",
      "...not plum\n"
     ]
    }
   ],
   "source": [
    "some_fruits('apple', 'banana', 'orange', 'plum')"
   ]
  },
  {
   "cell_type": "code",
   "execution_count": 7,
   "metadata": {},
   "outputs": [
    {
     "name": "stdout",
     "output_type": "stream",
     "text": [
      "4.0 8 -2\n",
      "4.0 -2\n",
      "4.0\n"
     ]
    }
   ],
   "source": [
    "def average_total(a,b):\n",
    "    totalsum = a + b\n",
    "    average = totalsum/2\n",
    "    diff = a - b\n",
    "    return average,totalsum, diff\n",
    "\n",
    "#We can unpack values returned from a function\n",
    "ave,tot,diff = average_total(3,5)\n",
    "print(ave, tot, diff)\n",
    "\n",
    "#We can unpack values using the star mark (*) for variable length\n",
    "ave, *othervar, diff = average_total(3,5)\n",
    "print(ave, diff)\n",
    "\n",
    "ave, *_ = average_total(3,5)\n",
    "print(ave)"
   ]
  }
 ],
 "metadata": {
  "kernelspec": {
   "display_name": "Python 3",
   "language": "python",
   "name": "python3"
  },
  "language_info": {
   "codemirror_mode": {
    "name": "ipython",
    "version": 3
   },
   "file_extension": ".py",
   "mimetype": "text/x-python",
   "name": "python",
   "nbconvert_exporter": "python",
   "pygments_lexer": "ipython3",
   "version": "3.6.3"
  }
 },
 "nbformat": 4,
 "nbformat_minor": 2
}
