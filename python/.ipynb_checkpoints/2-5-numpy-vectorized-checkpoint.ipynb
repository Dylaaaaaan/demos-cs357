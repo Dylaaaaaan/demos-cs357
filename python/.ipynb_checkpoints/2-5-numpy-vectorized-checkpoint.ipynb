{
 "cells": [
  {
   "cell_type": "code",
   "execution_count": 4,
   "metadata": {
    "collapsed": true
   },
   "outputs": [],
   "source": [
    "import numpy as np"
   ]
  },
  {
   "cell_type": "code",
   "execution_count": 5,
   "metadata": {
    "collapsed": true
   },
   "outputs": [],
   "source": [
    "def func1(u, v, w):\n",
    "    n = len(u)\n",
    "    for i in range(n):\n",
    "        w[i] = u[i] + 15.2 * v[i]\n",
    "    \n",
    "def func2(u, v, w):\n",
    "    w = u + 15.2 * v\n"
   ]
  },
  {
   "cell_type": "code",
   "execution_count": 6,
   "metadata": {},
   "outputs": [
    {
     "name": "stdout",
     "output_type": "stream",
     "text": [
      "3.83 s ± 135 ms per loop (mean ± std. dev. of 7 runs, 1 loop each)\n",
      "32.5 ms ± 395 µs per loop (mean ± std. dev. of 7 runs, 10 loops each)\n"
     ]
    }
   ],
   "source": [
    "n = 10**7\n",
    "u = np.random.rand(n)\n",
    "v = np.random.rand(n)\n",
    "w = np.zeros(n)\n",
    "\n",
    "\n",
    "%timeit func1(u,v,w)\n",
    "%timeit func2(u,v,w)"
   ]
  },
  {
   "cell_type": "code",
   "execution_count": null,
   "metadata": {
    "collapsed": true
   },
   "outputs": [],
   "source": []
  }
 ],
 "metadata": {
  "kernelspec": {
   "display_name": "Python 3",
   "language": "python",
   "name": "python3"
  },
  "language_info": {
   "codemirror_mode": {
    "name": "ipython",
    "version": 3
   },
   "file_extension": ".py",
   "mimetype": "text/x-python",
   "name": "python",
   "nbconvert_exporter": "python",
   "pygments_lexer": "ipython3",
   "version": "3.6.3"
  }
 },
 "nbformat": 4,
 "nbformat_minor": 2
}
