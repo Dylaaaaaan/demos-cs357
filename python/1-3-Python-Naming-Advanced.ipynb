{
 "cells": [
  {
   "cell_type": "markdown",
   "metadata": {},
   "source": [
    "# Objects and Naming\n",
    "\n",
    "Understanding objects and naming in Python can be difficult.  In this demo we'll follow a post [Is Python call-by-value or call-by-reference? Neither.](https://jeffknupp.com/blog/2012/11/13/is-python-callbyvalue-or-callbyreference-neither/)."
   ]
  },
  {
   "cell_type": "markdown",
   "metadata": {},
   "source": [
    "First, let's make some objects.  *Everything in Python is an object*."
   ]
  },
  {
   "cell_type": "code",
   "execution_count": null,
   "metadata": {
    "collapsed": true
   },
   "outputs": [],
   "source": [
    "#So when we make a string it's an object. When we call it a variable name, it binds that name to the string object. \n",
    "fruit = 'apple'\n",
    "\n",
    "#When we make a list, it will point to the object bound by fruit\n",
    "lunch = []\n",
    "lunch.append(fruit)\n",
    "\n",
    "dinner = lunch\n",
    "dinner.append('fish')\n",
    "\n",
    "fruit = 'pear'\n",
    "\n",
    "meals = [fruit, lunch, dinner]\n",
    "print(meals)\n"
   ]
  },
  {
   "cell_type": "markdown",
   "metadata": {},
   "source": [
    "Let's check the object ids for both lists"
   ]
  },
  {
   "cell_type": "code",
   "execution_count": null,
   "metadata": {
    "collapsed": true
   },
   "outputs": [],
   "source": [
    "print(id(lunch))\n",
    "print(id(dinner))"
   ]
  },
  {
   "cell_type": "markdown",
   "metadata": {},
   "source": [
    "Notice what happens when we append to list that is bound to both `lunch` and `dinner`:"
   ]
  },
  {
   "cell_type": "code",
   "execution_count": null,
   "metadata": {
    "collapsed": true
   },
   "outputs": [],
   "source": [
    "dinner.append('pasta')\n",
    "print(lunch, dinner)"
   ]
  },
  {
   "cell_type": "code",
   "execution_count": null,
   "metadata": {
    "collapsed": true
   },
   "outputs": [],
   "source": [
    "lunch.append('carrots')\n",
    "print(lunch,dinner)"
   ]
  },
  {
   "cell_type": "markdown",
   "metadata": {},
   "source": [
    "# Mutable and Immutable\n",
    "\n",
    "We've looked at mutable and immutable.  Tuples are an example of immutable objects."
   ]
  },
  {
   "cell_type": "code",
   "execution_count": null,
   "metadata": {
    "collapsed": true
   },
   "outputs": [],
   "source": [
    "fruits = ['apple', 'banana', 'orange']\n",
    "veggies = ['carrot', 'broccoli']\n",
    "\n",
    "food_tuple = (fruits, veggies)\n",
    "print(food_tuple)\n",
    "\n",
    "fruits.append('plum')\n",
    "\n",
    "print(fruits)\n",
    "print(food_tuple)"
   ]
  },
  {
   "cell_type": "markdown",
   "metadata": {},
   "source": [
    "So we can't change a tuple, but we can change the (mutable) things that a tuple element points to."
   ]
  },
  {
   "cell_type": "markdown",
   "metadata": {},
   "source": [
    "# Iclicker question"
   ]
  },
  {
   "cell_type": "code",
   "execution_count": null,
   "metadata": {
    "collapsed": true
   },
   "outputs": [],
   "source": [
    "#clear\n",
    "John = 'computer_science'\n",
    "Tim = John\n",
    "Tim += ', math'\n",
    "Anna = ['electrical']\n",
    "Julie = Anna\n",
    "Julie += ['physics']\n",
    "print(John, Anna)"
   ]
  }
 ],
 "metadata": {
  "kernelspec": {
   "display_name": "Python 3",
   "language": "python",
   "name": "python3"
  },
  "language_info": {
   "codemirror_mode": {
    "name": "ipython",
    "version": 3
   },
   "file_extension": ".py",
   "mimetype": "text/x-python",
   "name": "python",
   "nbconvert_exporter": "python",
   "pygments_lexer": "ipython3",
   "version": "3.6.3"
  }
 },
 "nbformat": 4,
 "nbformat_minor": 2
}
