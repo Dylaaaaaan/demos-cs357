{
 "cells": [
  {
   "cell_type": "code",
   "execution_count": null,
   "metadata": {
    "collapsed": true
   },
   "outputs": [],
   "source": [
    "import numpy as np\n",
    "import numpy.linalg as la\n",
    "import matplotlib.pyplot as plt\n",
    "\n",
    "# print(plt.style.available) # uncomment to print all styles\n",
    "import seaborn as sns\n",
    "sns.set(font_scale=2)\n",
    "plt.style.use('seaborn-whitegrid')\n",
    "plt.rcParams['figure.figsize'] = (8,6.0)\n",
    "%matplotlib inline"
   ]
  },
  {
   "cell_type": "markdown",
   "metadata": {},
   "source": [
    "<img src=\"pagerank.png\" alt=\"Pagerank\" style=\"width: 300px;\"/>"
   ]
  },
  {
   "cell_type": "code",
   "execution_count": null,
   "metadata": {},
   "outputs": [],
   "source": [
    "edges = np.array([\n",
    "    [0,1], [0,5],\n",
    "    [1,2], [1,3],\n",
    "    [2,3], [2,4], [2,5],\n",
    "    [3,0],\n",
    "    [4,5],\n",
    "    [5,0],\n",
    "])\n",
    "A = np.zeros((6,6))\n",
    "for i, j in edges:\n",
    "    A[j, i] = 1\n",
    "print(A)"
   ]
  },
  {
   "cell_type": "markdown",
   "metadata": {},
   "source": [
    "## Make a Google Matrix"
   ]
  },
  {
   "cell_type": "code",
   "execution_count": null,
   "metadata": {
    "scrolled": true
   },
   "outputs": [],
   "source": [
    "alpha = 0.85\n",
    "n = A.shape[0]\n",
    "#A[:,-1] = 1\n",
    "M = alpha * A / A.sum(axis=0) + (1-alpha) * np.ones((n,n)) / n\n",
    "print(M)"
   ]
  },
  {
   "cell_type": "code",
   "execution_count": null,
   "metadata": {},
   "outputs": [],
   "source": [
    "x0 = np.array([0.1,0.2,0.1,0.3,0.1,0.2])\n",
    "\n",
    "x1=M@x0\n",
    "print(x1)\n",
    "print(la.norm(x1,1))"
   ]
  },
  {
   "cell_type": "code",
   "execution_count": null,
   "metadata": {},
   "outputs": [],
   "source": [
    "x0 = np.random.rand((6))\n",
    "x0N=x0/la.norm(x0,1)\n",
    "\n",
    "x = x0N.copy()\n",
    "its = 20\n",
    "allx = np.zeros((6,its))\n",
    "allx[:,0] = x\n",
    "\n",
    "for k in range(1,its):\n",
    "    x = M.dot(x)\n",
    "    allx[:,k] = x\n",
    "    \n",
    "plt.plot(allx.T)\n",
    "\n",
    "print(\"x = \",x)"
   ]
  },
  {
   "cell_type": "code",
   "execution_count": null,
   "metadata": {
    "collapsed": true
   },
   "outputs": [],
   "source": []
  }
 ],
 "metadata": {
  "kernelspec": {
   "display_name": "Python 3",
   "language": "python",
   "name": "python3"
  },
  "language_info": {
   "codemirror_mode": {
    "name": "ipython",
    "version": 3
   },
   "file_extension": ".py",
   "mimetype": "text/x-python",
   "name": "python",
   "nbconvert_exporter": "python",
   "pygments_lexer": "ipython3",
   "version": "3.6.3"
  }
 },
 "nbformat": 4,
 "nbformat_minor": 2
}
