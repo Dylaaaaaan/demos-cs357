{
 "cells": [
  {
   "cell_type": "markdown",
   "metadata": {},
   "source": [
    "## Part 1: Factorize a matrix A"
   ]
  },
  {
   "cell_type": "code",
   "execution_count": 2,
   "metadata": {},
   "outputs": [
    {
     "name": "stdout",
     "output_type": "stream",
     "text": [
      "LU factorization using Algorithm 1\n",
      "U =  [[ 2.    8.    4.    1.  ]\n",
      " [ 0.   -2.    1.    2.5 ]\n",
      " [ 0.    0.    3.   -1.  ]\n",
      " [ 0.    0.    0.    0.75]]\n",
      "L =  [[ 1.   0.   0.   0. ]\n",
      " [ 0.5  1.   0.   0. ]\n",
      " [ 0.5  1.   1.   0. ]\n",
      " [ 0.5  0.5  0.5  1. ]]\n",
      "LU factorization using Algorithm 2\n",
      "M =  [[ 2.    8.    4.    1.  ]\n",
      " [ 0.5  -2.    1.    2.5 ]\n",
      " [ 0.5   1.    3.   -1.  ]\n",
      " [ 0.5   0.5   0.5   0.75]]\n",
      "LU factorization using Algorithm 3\n",
      "M =  [[ 2.    8.    4.    1.  ]\n",
      " [ 0.5  -2.    1.    2.5 ]\n",
      " [ 0.5   1.    3.   -1.  ]\n",
      " [ 0.5   0.5   0.5   0.75]]\n"
     ]
    }
   ],
   "source": [
    "import scipy.linalg as sla\n",
    "import numpy as np\n",
    "\n",
    "n = 4\n",
    "\n",
    "A = np.array([[2.0,8,4,1],[1,2,3,3],[1,2,6,2],[1,3,4,2]])\n",
    "\n",
    "## Algorithm 1\n",
    "## Factorization using the block-format, \n",
    "## creating new matrices L and U\n",
    "## and not modifying A\n",
    "print(\"LU factorization using Algorithm 1\")\n",
    "U = np.zeros((n,n))\n",
    "L = np.zeros((n,n))\n",
    "M = A.copy()\n",
    "for i in range(n):\n",
    "    U[i,i:] = M[i,i:]\n",
    "    L[i:,i] = M[i:,i]/U[i,i]\n",
    "    M[i+1:,i+1:] -= np.outer(L[i+1:,i],U[i,i+1:])\n",
    "print(\"U = \",U)\n",
    "print(\"L = \",L)\n",
    "\n",
    "\n",
    "## Algorithm 2\n",
    "## Factorization using the block-format \n",
    "## Matrices L and U are stored in the input matrix\n",
    "## that could be a copy of A or A itself\n",
    "print(\"LU factorization using Algorithm 2\")  \n",
    "M = A.copy()\n",
    "for i in range(n):\n",
    "    M[i+1:,i] = M[i+1:,i]/M[i,i]\n",
    "    M[i+1:,i+1:] -= np.outer(M[i+1:,i],M[i,i+1:]) \n",
    "print(\"M = \",M)\n",
    "\n",
    "## Algorithm 3\n",
    "print(\"LU factorization using Algorithm 3\")\n",
    "M = A.copy()\n",
    "for i in range(n-1):\n",
    "    for j in range(i+1,n):\n",
    "        M[j,i] = M[j,i]/M[i,i]\n",
    "        for k in range(i+1,n):\n",
    "            M[j,k] -= M[j,i]*M[i,k]\n",
    "print(\"M = \",M)\n",
    "\n",
    "#P, L, U = sla.lu(A)"
   ]
  },
  {
   "cell_type": "markdown",
   "metadata": {},
   "source": [
    "## Factorize and solve resulting triangular systems"
   ]
  },
  {
   "cell_type": "code",
   "execution_count": 3,
   "metadata": {},
   "outputs": [
    {
     "name": "stdout",
     "output_type": "stream",
     "text": [
      "Solve system of equations for \n",
      "b =  [2 2 1 4]\n",
      "Solution is:\n",
      "x =  [-23.   5.   1.   4.]\n"
     ]
    }
   ],
   "source": [
    "## Factorize and solve \n",
    "M = A.copy()\n",
    "for i in range(n):\n",
    "    M[i+1:,i] = M[i+1:,i]/M[i,i]\n",
    "    M[i+1:,i+1:] -= np.outer(M[i+1:,i],M[i,i+1:]) \n",
    "\n",
    "print(\"Solve system of equations for \")\n",
    "b = np.array([2,2,1,4])\n",
    "print(\"b = \",b)\n",
    "x = np.zeros(n)\n",
    "y = np.zeros(n)\n",
    "\n",
    "# Foward-substitution - solve Ly = b for y\n",
    "for i in range(0, n):\n",
    "    tmp = b[i]\n",
    "    for j in range(0, i):\n",
    "        tmp -= y[j]*M[i,j]\n",
    "    y[i]=tmp\n",
    "#print(y)\n",
    "\n",
    "# Backward substitution - solve Ux = y for x\n",
    "for i in range(n-1, -1, -1):\n",
    "    tmp = y[i]\n",
    "    for j in range(i+1, n):\n",
    "        tmp -= x[j]*M[i,j]\n",
    "    x[i] = tmp/M[i,i]\n",
    "print(\"Solution is:\")\n",
    "print(\"x = \",x)"
   ]
  },
  {
   "cell_type": "code",
   "execution_count": null,
   "metadata": {
    "collapsed": true
   },
   "outputs": [],
   "source": []
  }
 ],
 "metadata": {
  "kernelspec": {
   "display_name": "Python 3",
   "language": "python",
   "name": "python3"
  },
  "language_info": {
   "codemirror_mode": {
    "name": "ipython",
    "version": 3
   },
   "file_extension": ".py",
   "mimetype": "text/x-python",
   "name": "python",
   "nbconvert_exporter": "python",
   "pygments_lexer": "ipython3",
   "version": "3.6.3"
  }
 },
 "nbformat": 4,
 "nbformat_minor": 2
}
