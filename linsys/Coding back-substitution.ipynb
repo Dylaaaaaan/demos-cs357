{
 "cells": [
  {
   "cell_type": "markdown",
   "metadata": {},
   "source": [
    "# Coding Back-Substitution"
   ]
  },
  {
   "cell_type": "code",
   "execution_count": 1,
   "metadata": {
    "collapsed": true
   },
   "outputs": [],
   "source": [
    "import numpy as np"
   ]
  },
  {
   "cell_type": "markdown",
   "metadata": {},
   "source": [
    "Here's an upper-triangular matrix $A$ and two vectors $x$ and $b$ so that $Ax=b$.\n",
    "\n",
    "See if you can find $x$ by computation."
   ]
  },
  {
   "cell_type": "code",
   "execution_count": 2,
   "metadata": {},
   "outputs": [
    {
     "name": "stdout",
     "output_type": "stream",
     "text": [
      "[[ 0.26746165  0.8266757  -0.61019955 -0.28695265  0.52595239]\n",
      " [ 0.          0.17787077 -0.35176314 -0.54899859 -2.39526233]\n",
      " [ 0.          0.         -0.59426217  0.26630912  0.74671462]\n",
      " [ 0.          0.          0.         -0.19746872 -0.66694191]\n",
      " [ 0.          0.         -0.         -0.          0.31228321]]\n",
      "[ 1.47296803 -0.26579943 -0.2441506  -0.66435351  0.22143149]\n"
     ]
    }
   ],
   "source": [
    "n = 5\n",
    "\n",
    "A = np.random.randn(n, n) * np.tri(n).T\n",
    "print(A)\n",
    "\n",
    "x = np.random.randn(n)\n",
    "print(x)\n",
    "\n",
    "b = A @ x"
   ]
  },
  {
   "cell_type": "code",
   "execution_count": 3,
   "metadata": {
    "collapsed": true
   },
   "outputs": [],
   "source": [
    "#clear\n",
    "xcomp = np.zeros(n)\n",
    "\n",
    "for i in range(n-1, -1, -1):\n",
    "    tmp = b[i]\n",
    "    for j in range(n-1, i, -1):\n",
    "        tmp -= xcomp[j]*A[i,j]\n",
    "        \n",
    "    xcomp[i] = tmp/A[i,i]"
   ]
  },
  {
   "cell_type": "markdown",
   "metadata": {},
   "source": [
    "Now compare the computed $x$ against the reference solution."
   ]
  },
  {
   "cell_type": "code",
   "execution_count": 4,
   "metadata": {},
   "outputs": [
    {
     "name": "stdout",
     "output_type": "stream",
     "text": [
      "[ 1.47296803 -0.26579943 -0.2441506  -0.66435351  0.22143149]\n",
      "[ 1.47296803 -0.26579943 -0.2441506  -0.66435351  0.22143149]\n"
     ]
    }
   ],
   "source": [
    "print(x)\n",
    "print(xcomp)"
   ]
  },
  {
   "cell_type": "markdown",
   "metadata": {},
   "source": [
    "Questions/comments:\n",
    "\n",
    "* Can this fail?\n",
    "* What's the operation count?"
   ]
  }
 ],
 "metadata": {
  "kernelspec": {
   "display_name": "Python 3",
   "language": "python",
   "name": "python3"
  },
  "language_info": {
   "codemirror_mode": {
    "name": "ipython",
    "version": 3
   },
   "file_extension": ".py",
   "mimetype": "text/x-python",
   "name": "python",
   "nbconvert_exporter": "python",
   "pygments_lexer": "ipython3",
   "version": "3.6.3"
  }
 },
 "nbformat": 4,
 "nbformat_minor": 1
}
