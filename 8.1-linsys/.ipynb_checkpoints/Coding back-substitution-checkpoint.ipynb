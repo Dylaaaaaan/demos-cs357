{
 "cells": [
  {
   "cell_type": "markdown",
   "metadata": {},
   "source": [
    "# Coding Back-Substitution"
   ]
  },
  {
   "cell_type": "code",
   "execution_count": 1,
   "metadata": {
    "collapsed": true
   },
   "outputs": [],
   "source": [
    "import numpy as np"
   ]
  },
  {
   "cell_type": "markdown",
   "metadata": {},
   "source": [
    "Here's an upper-triangular matrix $A$ and two vectors $x$ and $b$ so that $Ax=b$.\n",
    "\n",
    "See if you can find $x$ by computation."
   ]
  },
  {
   "cell_type": "code",
   "execution_count": 2,
   "metadata": {},
   "outputs": [
    {
     "name": "stdout",
     "output_type": "stream",
     "text": [
      "[[-0.53470545 -0.85047266  0.8083327  -0.22552922  0.58209996]\n",
      " [-0.          0.15108774  1.4976659  -0.4720828  -0.32960047]\n",
      " [ 0.          0.         -0.93130818  0.51443139 -1.15803041]\n",
      " [-0.          0.          0.          1.61494557  1.35899373]\n",
      " [-0.         -0.         -0.          0.         -0.73930949]]\n",
      "[-0.40972931  1.04451377 -0.28853708  1.18264823  0.89292617]\n"
     ]
    }
   ],
   "source": [
    "n = 5\n",
    "\n",
    "A = np.random.randn(n, n) * np.tri(n).T\n",
    "print(A)\n",
    "\n",
    "x = np.random.randn(n)\n",
    "print(x)\n",
    "\n",
    "b = A @ x"
   ]
  },
  {
   "cell_type": "code",
   "execution_count": 3,
   "metadata": {
    "collapsed": true
   },
   "outputs": [],
   "source": [
    "#clear\n",
    "xcomp = np.zeros(n)\n",
    "\n",
    "for i in range(n-1, -1, -1):\n",
    "    tmp = b[i]\n",
    "    for j in range(n-1, i, -1):\n",
    "        tmp -= xcomp[j]*A[i,j]\n",
    "        \n",
    "    xcomp[i] = tmp/A[i,i]"
   ]
  },
  {
   "cell_type": "markdown",
   "metadata": {},
   "source": [
    "Now compare the computed $x$ against the reference solution."
   ]
  },
  {
   "cell_type": "code",
   "execution_count": 4,
   "metadata": {},
   "outputs": [
    {
     "name": "stdout",
     "output_type": "stream",
     "text": [
      "[-1.49332872  0.46741031  1.0064735   0.03174466 -2.74281897]\n",
      "[-1.49332872  0.46741031  1.0064735   0.03174466 -2.74281897]\n"
     ]
    }
   ],
   "source": [
    "print(x)\n",
    "print(xcomp)"
   ]
  },
  {
   "cell_type": "markdown",
   "metadata": {},
   "source": [
    "Questions/comments:\n",
    "\n",
    "* Can this fail?\n",
    "* What's the operation count?"
   ]
  }
 ],
 "metadata": {
  "kernelspec": {
   "display_name": "Python 3",
   "language": "python",
   "name": "python3"
  },
  "language_info": {
   "codemirror_mode": {
    "name": "ipython",
    "version": 3
   },
   "file_extension": ".py",
   "mimetype": "text/x-python",
   "name": "python",
   "nbconvert_exporter": "python",
   "pygments_lexer": "ipython3",
   "version": "3.6.3"
  }
 },
 "nbformat": 4,
 "nbformat_minor": 1
}
