{
 "cells": [
  {
   "cell_type": "markdown",
   "metadata": {},
   "source": [
    "# Inverting image operations"
   ]
  },
  {
   "cell_type": "code",
   "execution_count": null,
   "metadata": {
    "collapsed": true
   },
   "outputs": [],
   "source": [
    "import numpy as np\n",
    "import matplotlib as mpl\n",
    "import matplotlib.pyplot as plt\n",
    "import scipy.sparse as sparse\n",
    "import scipy.sparse.linalg as spla\n",
    "%matplotlib inline\n",
    "\n",
    "# https://matplotlib.org/users/customizing.html\n",
    "# print(plt.style.available) # uncomment to print all styles\n",
    "import seaborn as sns\n",
    "sns.set(font_scale=2)\n",
    "plt.style.use('seaborn-whitegrid')\n",
    "mpl.rcParams['figure.figsize'] = (10.0, 8.0)"
   ]
  },
  {
   "cell_type": "markdown",
   "metadata": {},
   "source": [
    "## Import an image of a Social Security Number"
   ]
  },
  {
   "cell_type": "code",
   "execution_count": null,
   "metadata": {},
   "outputs": [],
   "source": [
    "from PIL import Image\n",
    "img = Image.open('ssn.png')\n",
    "xmat = (255 - np.asarray(img).max(axis=2))/255\n",
    "x = xmat.flatten()\n",
    "plt.imshow(xmat);"
   ]
  },
  {
   "cell_type": "markdown",
   "metadata": {},
   "source": [
    "## Construct a \"blur\" matrix"
   ]
  },
  {
   "cell_type": "code",
   "execution_count": null,
   "metadata": {
    "collapsed": true
   },
   "outputs": [],
   "source": [
    "def setup_filter_parameters(rmin,nelx,nely):\n",
    "    # Filter: Build (and assemble) the index+data vectors for the coo matrix format\n",
    "    nfilter=int(nelx*nely*((2*(np.ceil(rmin)-1)+1)**2))\n",
    "    iH = np.zeros(nfilter)\n",
    "    jH = np.zeros(nfilter)\n",
    "    sH = np.zeros(nfilter)\n",
    "    cc=0\n",
    "    for i in range(nelx):\n",
    "        for j in range(nely):\n",
    "            row=i*nely+j\n",
    "            kk1=int(np.maximum(i-(np.ceil(rmin)-1),0))\n",
    "            kk2=int(np.minimum(i+np.ceil(rmin),nelx))\n",
    "            ll1=int(np.maximum(j-(np.ceil(rmin)-1),0))\n",
    "            ll2=int(np.minimum(j+np.ceil(rmin),nely))\n",
    "            for k in range(kk1,kk2):\n",
    "                for l in range(ll1,ll2):\n",
    "                    col=k*nely+l\n",
    "                    fac=rmin-np.sqrt(((i-k)*(i-k)+(j-l)*(j-l)))\n",
    "                    iH[cc]=row\n",
    "                    jH[cc]=col\n",
    "                    sH[cc]=np.maximum(0.0,fac/rmin)\n",
    "                    cc=cc+1\n",
    "    # Finalize assembly and convert to csc format\n",
    "    H=sparse.coo_matrix((sH,(iH,jH)),shape=(nelx*nely,nelx*nely)).tocsc()\n",
    "    return H\n",
    "\n",
    "rmin = 5\n",
    "nelx = xmat.shape[0]\n",
    "nely = xmat.shape[1]\n",
    "As = setup_filter_parameters(rmin,nelx,nely)"
   ]
  },
  {
   "cell_type": "markdown",
   "metadata": {},
   "source": [
    "## Compute b = A x\n",
    "### b is the blurred image"
   ]
  },
  {
   "cell_type": "code",
   "execution_count": null,
   "metadata": {
    "collapsed": true
   },
   "outputs": [],
   "source": [
    "b = As @ x"
   ]
  },
  {
   "cell_type": "code",
   "execution_count": null,
   "metadata": {},
   "outputs": [],
   "source": [
    "plt.imshow(b.reshape(xmat.shape));"
   ]
  },
  {
   "cell_type": "markdown",
   "metadata": {},
   "source": [
    "## Assume we have the blurred image, solve for the unblurred one"
   ]
  },
  {
   "cell_type": "code",
   "execution_count": null,
   "metadata": {
    "collapsed": true
   },
   "outputs": [],
   "source": [
    "import scipy.linalg as sla\n",
    "A = As.todense()\n",
    "P, L, U = sla.lu(A)"
   ]
  },
  {
   "cell_type": "markdown",
   "metadata": {},
   "source": [
    "### Let's look at L and U"
   ]
  },
  {
   "cell_type": "code",
   "execution_count": null,
   "metadata": {},
   "outputs": [],
   "source": [
    "plt.figure()\n",
    "plt.subplot(131)\n",
    "plt.spy(A); plt.axis('off')\n",
    "\n",
    "plt.subplot(132)\n",
    "plt.spy(L); plt.axis('off')\n",
    "\n",
    "plt.subplot(133)\n",
    "plt.spy(U); plt.axis('off')"
   ]
  },
  {
   "cell_type": "markdown",
   "metadata": {},
   "source": [
    "### $A = L * U$ right?"
   ]
  },
  {
   "cell_type": "code",
   "execution_count": null,
   "metadata": {},
   "outputs": [],
   "source": [
    "np.max(A - np.dot(L, U))"
   ]
  },
  {
   "cell_type": "markdown",
   "metadata": {},
   "source": [
    "### Acutally $A = P * L * U$"
   ]
  },
  {
   "cell_type": "code",
   "execution_count": null,
   "metadata": {},
   "outputs": [],
   "source": [
    "np.max(A - np.dot(P, np.dot(L, U)))"
   ]
  },
  {
   "cell_type": "markdown",
   "metadata": {},
   "source": [
    "### What is $P$ \n",
    "\n",
    "It's called a \"permutation\" matrix...from pivoting."
   ]
  },
  {
   "cell_type": "markdown",
   "metadata": {},
   "source": [
    "### What about \"Solving\"?\n",
    "\n",
    "If $Ax = P L U x = b$, then there are two steps:\n",
    "1. $y \\leftarrow \\text{solve}\\,\\, L y = P^Tb$\n",
    "2. $x \\leftarrow \\text{solve}\\,\\, U x = y$"
   ]
  },
  {
   "cell_type": "code",
   "execution_count": null,
   "metadata": {
    "collapsed": true
   },
   "outputs": [],
   "source": [
    "y = sla.solve_triangular(L, np.dot(P.T, b), lower=True)\n",
    "x_solve = sla.solve_triangular(U, y)"
   ]
  },
  {
   "cell_type": "code",
   "execution_count": null,
   "metadata": {},
   "outputs": [],
   "source": [
    "plt.imshow(x_solve.reshape(xmat.shape))"
   ]
  },
  {
   "cell_type": "markdown",
   "metadata": {},
   "source": [
    "## Who cares? \n",
    "\n",
    "Why not just `np.linalg.solve`?\n",
    "\n",
    "Let's time two things\n",
    "1. factorization\n",
    "2. solving, given a factorization"
   ]
  },
  {
   "cell_type": "code",
   "execution_count": null,
   "metadata": {},
   "outputs": [],
   "source": [
    "%timeit sla.solve(A, b)"
   ]
  },
  {
   "cell_type": "code",
   "execution_count": null,
   "metadata": {},
   "outputs": [],
   "source": [
    "%timeit sla.solve_triangular(U, y)"
   ]
  },
  {
   "cell_type": "code",
   "execution_count": null,
   "metadata": {
    "collapsed": true
   },
   "outputs": [],
   "source": []
  }
 ],
 "metadata": {
  "kernelspec": {
   "display_name": "Python 3",
   "language": "python",
   "name": "python3"
  },
  "language_info": {
   "codemirror_mode": {
    "name": "ipython",
    "version": 3
   },
   "file_extension": ".py",
   "mimetype": "text/x-python",
   "name": "python",
   "nbconvert_exporter": "python",
   "pygments_lexer": "ipython3",
   "version": "3.6.3"
  }
 },
 "nbformat": 4,
 "nbformat_minor": 2
}
