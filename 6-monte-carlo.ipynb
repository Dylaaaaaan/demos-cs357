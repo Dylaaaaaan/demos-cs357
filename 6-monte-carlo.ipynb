{
 "cells": [
  {
   "cell_type": "markdown",
   "metadata": {},
   "source": [
    "# Coint Toss"
   ]
  },
  {
   "cell_type": "code",
   "execution_count": 10,
   "metadata": {
    "collapsed": true
   },
   "outputs": [],
   "source": [
    "import numpy as np\n",
    "import matplotlib.pyplot as plt\n",
    "%matplotlib inline"
   ]
  },
  {
   "cell_type": "code",
   "execution_count": 6,
   "metadata": {},
   "outputs": [
    {
     "name": "stdout",
     "output_type": "stream",
     "text": [
      "1\n"
     ]
    }
   ],
   "source": [
    "toss = np.random.choice([0,1])\n",
    "print(toss)"
   ]
  },
  {
   "cell_type": "code",
   "execution_count": 52,
   "metadata": {},
   "outputs": [
    {
     "name": "stdout",
     "output_type": "stream",
     "text": [
      "56\n"
     ]
    }
   ],
   "source": [
    "N = 100 # number of tosses\n",
    "toss_list = []\n",
    "for i in range(N):\n",
    "    toss_list.append(np.random.choice([0,1]))\n",
    "toss = np.array(toss_list)\n",
    "print(toss.sum())"
   ]
  },
  {
   "cell_type": "code",
   "execution_count": 83,
   "metadata": {},
   "outputs": [
    {
     "name": "stdout",
     "output_type": "stream",
     "text": [
      "0.5019 0.04965269378392274\n"
     ]
    },
    {
     "data": {
      "image/png": "[encoded data removed]",
      "text/plain": [
       "<Figure size 432x288 with 1 Axes>"
      ]
     },
     "metadata": {},
     "output_type": "display_data"
    }
   ],
   "source": [
    "N = 100 # number of tosses\n",
    "M = 100 # number of numerical experiments\n",
    "nheads = []\n",
    "for j in range(M):\n",
    "    toss_list = []\n",
    "    for i in range(N):\n",
    "        toss_list.append(np.random.choice([0,1]))\n",
    "    toss = np.array(toss_list)\n",
    "    nheads.append( toss.sum() / N )\n",
    "nheads = np.array(nheads)\n",
    "\n",
    "plt.hist(nheads)\n",
    "print(nheads.mean(),nheads.std())"
   ]
  },
  {
   "cell_type": "code",
   "execution_count": null,
   "metadata": {
    "collapsed": true
   },
   "outputs": [],
   "source": []
  },
  {
   "cell_type": "markdown",
   "metadata": {
    "colab_type": "text",
    "id": "REJqvG0z6Bkj"
   },
   "source": [
    "# Randomness\n"
   ]
  },
  {
   "cell_type": "markdown",
   "metadata": {
    "colab_type": "text",
    "id": "Y1bnC_p-66WG"
   },
   "source": [
    "What type of problems can we solve with the help of random numbers?\n",
    "\n",
    "We can compute (potentially) complicated averages:\n",
    "\n",
    "*   How much my stock/option portfolio is going to be worth?\n",
    "*   What are my odds to win a certain competition?\n"
   ]
  },
  {
   "cell_type": "markdown",
   "metadata": {
    "colab_type": "text",
    "id": "ONUZol4M8J7y"
   },
   "source": [
    "### Random Number Generators"
   ]
  },
  {
   "cell_type": "markdown",
   "metadata": {
    "colab_type": "text",
    "id": "A0z8frFY8S5H"
   },
   "source": [
    "*   Computers are deterministic - operations are reproducible\n",
    "*   How do we get random numbers out of a deterministic machine?\n",
    "\n"
   ]
  },
  {
   "cell_type": "code",
   "execution_count": null,
   "metadata": {
    "colab": {},
    "colab_type": "code",
    "collapsed": true,
    "id": "ETXJlNHY8pIa"
   },
   "outputs": [],
   "source": [
    "import numpy as np"
   ]
  },
  {
   "cell_type": "code",
   "execution_count": null,
   "metadata": {
    "colab": {
     "base_uri": "https://localhost:8080/",
     "height": 51
    },
    "colab_type": "code",
    "id": "ZLgxPkJD8wYZ",
    "outputId": "7c56d135-4201-4023-d99e-6fb6e93b9a91"
   },
   "outputs": [],
   "source": [
    "np.random.rand(10)"
   ]
  },
  {
   "cell_type": "code",
   "execution_count": null,
   "metadata": {
    "colab": {
     "base_uri": "https://localhost:8080/",
     "height": 357
    },
    "colab_type": "code",
    "collapsed": true,
    "id": "W_INXEwi8kBU",
    "outputId": "c31cb2c2-fc8e-4439-fb80-923cc56b3f0c"
   },
   "outputs": [],
   "source": [
    "for x in range(0, 20):\n",
    "    numbers = np.random.rand(6)\n",
    "    #print(numbers)"
   ]
  },
  {
   "cell_type": "markdown",
   "metadata": {
    "colab_type": "text",
    "id": "fFZS3WxE871v"
   },
   "source": [
    "They all seem random correct? Let's try to fix something called **seed** using  \n",
    "np.random.seed(10)\n",
    "\n",
    "What do you observe? \n",
    "\n",
    "Let's see what this seed is..."
   ]
  },
  {
   "cell_type": "markdown",
   "metadata": {
    "colab_type": "text",
    "id": "IuiZnPxm9dQc"
   },
   "source": [
    "## Pseudo-random Numbers"
   ]
  },
  {
   "cell_type": "markdown",
   "metadata": {
    "colab_type": "text",
    "id": "WRW753Be9ibZ"
   },
   "source": [
    "* Numbers and sequences appear random, but they are actually reproducible\n",
    "* Great for algorithm developing and debugging\n",
    "* How truly \"random\" are these numbers?\n"
   ]
  },
  {
   "cell_type": "markdown",
   "metadata": {
    "colab_type": "text",
    "id": "M828HMrX94T9"
   },
   "source": [
    "## Linear congruential generator"
   ]
  },
  {
   "cell_type": "markdown",
   "metadata": {
    "colab_type": "text",
    "id": "Y7Eva39j-rkS"
   },
   "source": [
    "Given the parameters $a$, $c$, $m$ and $s$, where $s$ is the seed value, this algorithm will generate a sequence of pseudo-random numbers:\n",
    "\n",
    "$x_o = s $\n",
    "\n",
    "$x_{n+1} = (a x_n + c) mod(m)$"
   ]
  },
  {
   "cell_type": "code",
   "execution_count": null,
   "metadata": {
    "colab": {},
    "colab_type": "code",
    "collapsed": true,
    "id": "gZYMuH2t_ZZ5"
   },
   "outputs": [],
   "source": [
    "s = 3 # seed\n",
    "a = 37# multiplier\n",
    "c = 2 # increment\n",
    "m = 19# modulus"
   ]
  },
  {
   "cell_type": "code",
   "execution_count": null,
   "metadata": {
    "colab": {},
    "colab_type": "code",
    "id": "ePCLntyl_kqN"
   },
   "outputs": [],
   "source": [
    "n = 60\n",
    "x = np.zeros(n)\n",
    "x[0] = s\n",
    "for i in range(1,n):\n",
    "    x[i] = (a * x[i-1] + c) % m"
   ]
  },
  {
   "cell_type": "code",
   "execution_count": null,
   "metadata": {
    "colab": {},
    "colab_type": "code",
    "collapsed": true,
    "id": "vk3es9pG_9-A"
   },
   "outputs": [],
   "source": [
    "import matplotlib.pyplot as plt\n",
    "%matplotlib inline"
   ]
  },
  {
   "cell_type": "code",
   "execution_count": null,
   "metadata": {
    "colab": {
     "base_uri": "https://localhost:8080/",
     "height": 282
    },
    "colab_type": "code",
    "id": "jzE_vTlw_4te",
    "outputId": "4cf92953-d8db-4e10-d250-15e7edf66469"
   },
   "outputs": [],
   "source": [
    "plt.plot(x,'.')"
   ]
  },
  {
   "cell_type": "markdown",
   "metadata": {
    "colab_type": "text",
    "id": "P-iFLPo5AVTr"
   },
   "source": [
    "Notice there is a period, when numbers eventually start repeating.  One of the advantages of the LCG is that by using appropriate choice for the parameters, we can obtain known and long periods.\n",
    "\n",
    "Check here https://en.wikipedia.org/wiki/Linear_congruential_generator for a list of commonly used parameters of LCGs.\n",
    "\n",
    "Let's try using the parameters from \n",
    "[Numerical recipes](https://en.wikipedia.org/wiki/Numerical_Recipes)"
   ]
  },
  {
   "cell_type": "code",
   "execution_count": null,
   "metadata": {
    "colab": {
     "base_uri": "https://localhost:8080/",
     "height": 293
    },
    "colab_type": "code",
    "id": "6GF31MZ6-oQP",
    "outputId": "d14ece91-7508-43db-8a98-d25ce4a345db"
   },
   "outputs": [],
   "source": [
    "s = 8\n",
    "a = 1664525\n",
    "c = 1013904223\n",
    "m = 2**32\n",
    "\n",
    "n = 300\n",
    "x = np.zeros(n)\n",
    "x[0] = s\n",
    "for i in range(1,n):\n",
    "    x[i] = (a * x[i-1] + c) % m\n",
    "\n",
    "plt.plot(x,'.')"
   ]
  },
  {
   "cell_type": "markdown",
   "metadata": {
    "colab_type": "text",
    "id": "JV4q29UYBv85"
   },
   "source": [
    "\"Good\" random number generators are efficient, have long peiods and are portable."
   ]
  },
  {
   "cell_type": "markdown",
   "metadata": {
    "colab_type": "text",
    "id": "y4CBQZcbB-8w"
   },
   "source": [
    "# Random Variables"
   ]
  },
  {
   "cell_type": "markdown",
   "metadata": {
    "colab_type": "text",
    "id": "gWfjziCcCffv"
   },
   "source": [
    "Think of a random variable $X$ as a function that maps the outcome of an unpredictable (random) processses to numerical quantities.\n",
    "\n",
    "For example:\n",
    "\n",
    "* $X$ = the face of a bread when it falls on the ground. The random value can abe the \"buttered\" side or the \"not buttered\" side\n",
    "* $X$ = value that appears on top of dice after each roll\n",
    "\n",
    "We don't have an exact number to represent these random processes, but we can get something that represents the **average** case. To do that, we need to know the likelihood of each individual value of $X$."
   ]
  },
  {
   "cell_type": "markdown",
   "metadata": {
    "colab_type": "text",
    "id": "4t4D9HC9FRpR"
   },
   "source": [
    "### Coin toss"
   ]
  },
  {
   "cell_type": "markdown",
   "metadata": {
    "colab_type": "text",
    "id": "Ar-qGRL8FMDK"
   },
   "source": [
    "Random variable $X$: result of a coin toss\n",
    "\n",
    "In each toss, the random variable can take the values $x_1 = 0$ (tail) and $x_2 = 1$ (head), and each $x_i$ has probability $p_i = 0.5$. \n",
    "\n",
    "The **expected value** of a discrete random variable is defined as:\n",
    "\n",
    "$$ E(x) = \\sum_{i=1}^{m} p_i x_i $$\n",
    "\n",
    "Hence for a coin toss we have:\n",
    "\n",
    "$$ E(x) = 1(0.5) + 0(0.5) = 0.5 $$"
   ]
  },
  {
   "cell_type": "markdown",
   "metadata": {
    "colab_type": "text",
    "id": "RAy-VqBRPlLN"
   },
   "source": [
    "### Roll Dice"
   ]
  },
  {
   "cell_type": "markdown",
   "metadata": {
    "colab_type": "text",
    "id": "JEdBUyl9PlLS"
   },
   "source": [
    "Random variable $X$: value that appears on top of the dice after each roll\n",
    "\n",
    "In each toss, the random variable can take the values $x_i = 1,2,3,...,6$ and each $x_i$ has probability $p_i = 1/6$. \n",
    "\n",
    "The **expected value** of the discrete random variable is defined as:\n"
   ]
  },
  {
   "cell_type": "code",
   "execution_count": null,
   "metadata": {
    "colab": {
     "base_uri": "https://localhost:8080/",
     "height": 34
    },
    "colab_type": "code",
    "id": "4qPwU0PMRGVW",
    "outputId": "0cd295ac-3aa5-4f0d-fc8d-1048cf1ff9c3"
   },
   "outputs": [],
   "source": []
  },
  {
   "cell_type": "markdown",
   "metadata": {
    "colab_type": "text",
    "id": "SoAgVnqV57hs"
   },
   "source": [
    "#  Monte Carlo Methods"
   ]
  },
  {
   "cell_type": "markdown",
   "metadata": {
    "colab_type": "text",
    "id": "eLrLy0W9otyv"
   },
   "source": [
    "Monte Carlo methods are algorithms that rely on repeated random sampling to approximate a desired quantity."
   ]
  },
  {
   "cell_type": "markdown",
   "metadata": {
    "colab_type": "text",
    "id": "gZDK6ifupA0s"
   },
   "source": [
    "### Simulating a coin toss experiment"
   ]
  },
  {
   "cell_type": "markdown",
   "metadata": {
    "colab_type": "text",
    "id": "T0arakhyR_rE"
   },
   "source": [
    "We want to find the probability of heads when tossing a coin. We know the expected value is 0.5. Using Monte Carlo with N samples (here tosses), our estimate of the expected value is:\n",
    "\n",
    "$$E = \\frac{1}{N}\\sum_{i=1}^N f(x_i) = \\frac{1}{N}\\sum_{i=1}^N x_i$$ \n",
    "\n",
    "where $x_i = 1$ if the toss gives head."
   ]
  },
  {
   "cell_type": "markdown",
   "metadata": {
    "colab_type": "text",
    "id": "KpTgSEa2pKLa"
   },
   "source": [
    "Let's toss a \"fair\" coin N times and record the results for each toss.\n",
    "\n",
    "But first, how can we simulate one toss?"
   ]
  },
  {
   "cell_type": "code",
   "execution_count": null,
   "metadata": {
    "colab": {
     "base_uri": "https://localhost:8080/",
     "height": 34
    },
    "colab_type": "code",
    "id": "odxGZRnXSmoM",
    "outputId": "37a00f28-37f9-4266-d4ad-9a3ddc6a396a"
   },
   "outputs": [],
   "source": []
  },
  {
   "cell_type": "code",
   "execution_count": null,
   "metadata": {
    "colab": {
     "base_uri": "https://localhost:8080/",
     "height": 34
    },
    "colab_type": "code",
    "id": "U9ZYKgj0SSVW",
    "outputId": "7e95e3c0-5734-452c-8f90-e2fe5e840593"
   },
   "outputs": [],
   "source": []
  },
  {
   "cell_type": "markdown",
   "metadata": {
    "colab_type": "text",
    "id": "Efi5ZoVnrhZr"
   },
   "source": [
    "Note that if we run the code snippet above again, it is likely we will get a different result. What if we run this many times? "
   ]
  },
  {
   "cell_type": "code",
   "execution_count": null,
   "metadata": {
    "colab": {
     "base_uri": "https://localhost:8080/",
     "height": 333
    },
    "colab_type": "code",
    "id": "bFTFeML5FGa0",
    "outputId": "be443173-472d-4c55-e217-4dd879d88ee7"
   },
   "outputs": [],
   "source": []
  },
  {
   "cell_type": "code",
   "execution_count": null,
   "metadata": {
    "colab": {
     "base_uri": "https://localhost:8080/",
     "height": 34
    },
    "colab_type": "code",
    "id": "NYuuPvtXCDa-",
    "outputId": "fa9e8002-f59c-4c58-d35a-f31057b6b508"
   },
   "outputs": [],
   "source": [
    "print(nheads.mean(),nheads.std())"
   ]
  },
  {
   "cell_type": "markdown",
   "metadata": {
    "colab_type": "text",
    "id": "rM1o1S8HnT62"
   },
   "source": [
    "What happens when we increase the number of numerical experiments?"
   ]
  },
  {
   "cell_type": "markdown",
   "metadata": {
    "colab_type": "text",
    "id": "9NZ-2H5LteBa"
   },
   "source": [
    "### Approximating integrals"
   ]
  },
  {
   "cell_type": "markdown",
   "metadata": {
    "colab_type": "text",
    "id": "QWpwUkiVvxq3"
   },
   "source": [
    "To approximate an integration\n",
    "\n",
    "$$ A = \\int_{x_1}^{x_2} \\int_{y_1}^{y_2} f(x,y) dx dy $$\n",
    "\n",
    "we sample points uniformily inside a domain $D = [x_1,x_2] \\times [y_1,y2]$, i.e. we let $X$ be a uniformily distributed random variable on $D$. Using Monte Carlo with N sample points, our estimate for the expected value (that a sample point is inside the circle) is:\n",
    "\n",
    "$$ S_N = \\frac{1}{N} \\sum_{i=1}^{N} f(X_i) $$\n",
    "\n",
    "which gives the approximate for the integral:\n",
    "\n",
    "$$ A_N = (x_2 - x_1)(y_2-y_1) \\frac{1}{N} \\sum_{i=1}^{N} f(X_i) $$\n",
    "\n",
    "Law of large numbers:\n",
    "\n",
    "as $N \\rightarrow \\infty$, the sample average $S_N$ converges the the expected value $E(X)$ and hence $A_N \\rightarrow A$\n"
   ]
  },
  {
   "cell_type": "markdown",
   "metadata": {
    "colab_type": "text",
    "id": "Ycw4At-YtnHb"
   },
   "source": [
    "We will use Monte Carlo Method to approximate the area of a circle of radius R = 1.\n",
    "\n",
    "Let's start with a uniform distribution on the unit square  [0,1]×[0,1] . Create a 2D array samples of shape (2, N):"
   ]
  },
  {
   "cell_type": "code",
   "execution_count": null,
   "metadata": {
    "colab": {},
    "colab_type": "code",
    "collapsed": true,
    "id": "VOcrb1ItuANJ"
   },
   "outputs": [],
   "source": [
    "N = 10**2\n",
    "samples = np.random.rand(2, N)"
   ]
  },
  {
   "cell_type": "markdown",
   "metadata": {
    "colab_type": "text",
    "id": "xrgFHRgHuLXv"
   },
   "source": [
    "Scale the sample points \"samples\", so that we have a uniform distribution inside a square $[-1,1]\\times [-1,1]$. Calculate the distance from each sample point to the origin $(0,0)$\n"
   ]
  },
  {
   "cell_type": "code",
   "execution_count": null,
   "metadata": {
    "colab": {},
    "colab_type": "code",
    "collapsed": true,
    "id": "CHci1eonuPtr"
   },
   "outputs": [],
   "source": [
    "xy = samples * 2 - 1.0 # scale sample points\n",
    "r = np.sqrt(xy[0, :]**2 + xy[1, :]**2)  # calculate radius"
   ]
  },
  {
   "cell_type": "code",
   "execution_count": null,
   "metadata": {},
   "outputs": [],
   "source": [
    "plt.plot(xy[0,:], xy[1,:], 'k.')\n",
    "plt.axis('equal')\n",
    "plt.xlabel('x')\n",
    "plt.ylabel('y');"
   ]
  },
  {
   "cell_type": "markdown",
   "metadata": {
    "colab_type": "text",
    "id": "vb-GIrEAuisk"
   },
   "source": [
    "We then count how many of these points are inside the circle centered at the origin."
   ]
  },
  {
   "cell_type": "code",
   "execution_count": null,
   "metadata": {
    "colab": {
     "base_uri": "https://localhost:8080/",
     "height": 34
    },
    "colab_type": "code",
    "id": "-IgDXBPDuWvL",
    "outputId": "5f6c7250-22f2-47a8-c14a-c6ef688f848d"
   },
   "outputs": [],
   "source": []
  },
  {
   "cell_type": "markdown",
   "metadata": {
    "colab_type": "text",
    "id": "KB2AZ1Htvnca"
   },
   "source": [
    "And the approximated value for the area is:"
   ]
  },
  {
   "cell_type": "code",
   "execution_count": null,
   "metadata": {
    "colab": {
     "base_uri": "https://localhost:8080/",
     "height": 34
    },
    "colab_type": "code",
    "id": "ifu3O7hKvmcB",
    "outputId": "0cb43347-740f-4de5-fc77-1547a44b96fa"
   },
   "outputs": [],
   "source": [
    "\n"
   ]
  },
  {
   "cell_type": "markdown",
   "metadata": {
    "colab_type": "text",
    "id": "akngnIAlvLxm"
   },
   "source": [
    "We can assign different colors to the points inside the circle and plot (just for vizualization purposes)."
   ]
  },
  {
   "cell_type": "code",
   "execution_count": null,
   "metadata": {
    "colab": {
     "base_uri": "https://localhost:8080/",
     "height": 279
    },
    "colab_type": "code",
    "collapsed": true,
    "id": "KVbBFZz2u8ur",
    "outputId": "969d095a-e802-4f2d-aeef-5bba28537c65"
   },
   "outputs": [],
   "source": [
    "plt.plot(xy[0,np.where(incircle)[0]], xy[1,np.where(incircle)[0]], 'b.')\n",
    "plt.plot(xy[0,np.where(incircle==False)[0]], xy[1,np.where(incircle==False)[0]], 'r.')\n",
    "plt.axis('equal')\n",
    "plt.xlabel('x')\n",
    "plt.ylabel('y');"
   ]
  },
  {
   "cell_type": "markdown",
   "metadata": {
    "colab_type": "text",
    "id": "W1Hcg1sLzuby"
   },
   "source": [
    "Combine all the relevant code above, so we can easily run this numerical experiment for different sample size N."
   ]
  },
  {
   "cell_type": "code",
   "execution_count": null,
   "metadata": {
    "colab": {
     "base_uri": "https://localhost:8080/",
     "height": 34
    },
    "colab_type": "code",
    "id": "1adLD05ivgXo",
    "outputId": "cc11d838-499f-4400-ae09-235763a87940"
   },
   "outputs": [],
   "source": [
    "#clear\n",
    "def determine_area(N = 10**2):\n",
    "    samples = np.random.rand(2, N)\n",
    "    xy = samples * 2 - 1.0 # scale sample points\n",
    "    r = np.sqrt(xy[0, :]**2 + xy[1, :]**2)  # calculate radius\n",
    "    incircle = (r <= 1)\n",
    "    count_incircle = incircle.sum()\n",
    "    A_approx = (2*2) * (count_incircle)/N\n",
    "    return A_approx"
   ]
  },
  {
   "cell_type": "code",
   "execution_count": null,
   "metadata": {},
   "outputs": [],
   "source": [
    "determine_area(10**4)"
   ]
  },
  {
   "cell_type": "markdown",
   "metadata": {
    "colab_type": "text",
    "id": "lZHO_7iY0QUM"
   },
   "source": [
    "Perform the same above, but now store the approximated area for different N, and plot:"
   ]
  },
  {
   "cell_type": "code",
   "execution_count": null,
   "metadata": {},
   "outputs": [],
   "source": []
  },
  {
   "cell_type": "markdown",
   "metadata": {
    "colab_type": "text",
    "id": "JjPg1zwp0_D8"
   },
   "source": [
    "The approximated area is:"
   ]
  },
  {
   "cell_type": "code",
   "execution_count": null,
   "metadata": {
    "colab": {
     "base_uri": "https://localhost:8080/",
     "height": 282
    },
    "colab_type": "code",
    "id": "f5P8RBO82H-b",
    "outputId": "28a8d28a-7128-4d65-da33-802aae137c84"
   },
   "outputs": [],
   "source": [
    "plt.plot(A_approx)"
   ]
  },
  {
   "cell_type": "markdown",
   "metadata": {
    "colab_type": "text",
    "id": "qxdOIwO41CYj"
   },
   "source": [
    "Which as expected gives an approximation for the number $\\pi$, since the circle has radius 1. Let's plot the error of our approximation:"
   ]
  },
  {
   "cell_type": "code",
   "execution_count": null,
   "metadata": {
    "colab": {
     "base_uri": "https://localhost:8080/",
     "height": 300
    },
    "colab_type": "code",
    "id": "DBsy2SHj0v9C",
    "outputId": "652d44ab-5f18-433a-d48a-f7c270e944d8"
   },
   "outputs": [],
   "source": [
    "plt.loglog(N_samples, np.abs(A_approx - np.pi), '.')\n",
    "plt.xlabel('n')\n",
    "plt.ylabel('error')"
   ]
  },
  {
   "cell_type": "code",
   "execution_count": null,
   "metadata": {
    "colab": {
     "base_uri": "https://localhost:8080/",
     "height": 300
    },
    "colab_type": "code",
    "id": "buaZ18zO1Yuh",
    "outputId": "ec1bd9d7-f1f1-4936-f2e4-d007b01a1dd8"
   },
   "outputs": [],
   "source": [
    "\n",
    "plt.loglog(N_samples, np.abs(A_approx - np.pi), '.')\n",
    "plt.xlabel('n')\n",
    "plt.ylabel('error')\n",
    "\n",
    "plt.loglog(N_samples, 1/N_samples**2, '.')\n",
    "plt.loglog(N_samples, 1/N_samples, 'r')\n",
    "plt.loglog(N_samples, 1/np.sqrt(N_samples), 'm')"
   ]
  },
  {
   "cell_type": "markdown",
   "metadata": {
    "colab_type": "text",
    "id": "nMMNj5E-5Ans"
   },
   "source": [
    "### Approximating probabilities of a Poker game"
   ]
  },
  {
   "cell_type": "markdown",
   "metadata": {
    "colab_type": "text",
    "id": "p77MexiL5V0o"
   },
   "source": [
    "What is the probability of winning a hand of Texas Holdem for a given starting hand?\n",
    "\n",
    "Assumptions for this example:\n",
    "- You are playing against only one player (the opponent)\n",
    "- Both players stay until the end of a game (all 5 dealer cards), so players do not fold.\n",
    "\n",
    "Monte Carlo simulation: for a given \"starting hand\" that we wish to obtain the winning probability, generate a set of N games and use the Texas Holdem rules to decide who wins (starting hand, opponent or there is a tie).\n",
    "\n",
    "A game is a set of 7 random cards:  2 cards for opponent + 5 cards for the dealer.\n",
    "\n",
    "For example, suppose the starting hand is 5 of clubs and 4 of diamonds. You perform N=1000 games, and counts 350 wins, 590 losses and 60 ties. Your numerical experiment estimated a probability of winning of 35%.\n",
    "\n",
    "**This is your first MP!**\n",
    "\n",
    "\n",
    "\n",
    "\n",
    "\n",
    "\n"
   ]
  },
  {
   "cell_type": "code",
   "execution_count": null,
   "metadata": {
    "colab": {},
    "colab_type": "code",
    "collapsed": true,
    "id": "_208iSaW5E8Y"
   },
   "outputs": [],
   "source": []
  },
  {
   "cell_type": "markdown",
   "metadata": {},
   "source": [
    "# Playing around with Random Number Generators"
   ]
  },
  {
   "cell_type": "code",
   "execution_count": 1,
   "metadata": {
    "collapsed": true
   },
   "outputs": [],
   "source": [
    "import numpy as np"
   ]
  },
  {
   "cell_type": "code",
   "execution_count": 6,
   "metadata": {},
   "outputs": [
    {
     "data": {
      "text/plain": [
       "array([0.16352153, 0.76995462, 0.47245686, 0.29565859, 0.59586732,\n",
       "       0.51465913, 0.68877592, 0.00980352, 0.47749462, 0.88138491])"
      ]
     },
     "execution_count": 6,
     "metadata": {},
     "output_type": "execute_result"
    }
   ],
   "source": [
    "np.random.rand(10)"
   ]
  },
  {
   "cell_type": "code",
   "execution_count": 14,
   "metadata": {},
   "outputs": [
    {
     "name": "stdout",
     "output_type": "stream",
     "text": [
      "[0.49460165 0.2280831  0.25547392 0.39632991 0.3773151  0.99657423]\n",
      "[0.4081972  0.77189399 0.76053669 0.31000935 0.3465412  0.35176482]\n",
      "[0.14546686 0.97266468 0.90917844 0.5599571  0.31359075 0.88820004]\n",
      "[0.67457307 0.39108745 0.50718412 0.5241035  0.92800093 0.57137307]\n",
      "[0.66833757 0.05225869 0.3270573  0.05640164 0.17982769 0.92593317]\n",
      "[0.93801522 0.71409271 0.73268761 0.46174768 0.93132927 0.40642024]\n",
      "[0.68320577 0.64991587 0.59876518 0.22203939 0.68235717 0.8780563 ]\n",
      "[0.79671726 0.43200225 0.91787822 0.78183368 0.72575028 0.12485469]\n",
      "[0.91630845 0.38771099 0.29492955 0.61673141 0.46784623 0.25533891]\n",
      "[0.83899589 0.1786192  0.22711417 0.65987645 0.47911625 0.07344734]\n",
      "[0.13896007 0.11230718 0.47778497 0.54029623 0.95807105 0.58379231]\n",
      "[0.52666409 0.92226269 0.91925702 0.25200886 0.68263261 0.96427612]\n",
      "[0.22696165 0.7160172  0.79776011 0.9367512  0.8537225  0.42154581]\n",
      "[0.00543987 0.03486533 0.01390537 0.58890993 0.3829931  0.11481895]\n",
      "[0.86445401 0.82165703 0.73749168 0.84034417 0.4015291  0.74862   ]\n",
      "[0.55962945 0.61323757 0.29810165 0.60237917 0.42567684 0.53854438]\n",
      "[0.48672986 0.49989164 0.91745948 0.26287702 0.04969769 0.46269203]\n",
      "[0.40821902 0.48704348 0.07051578 0.58210861 0.9870218  0.20908846]\n",
      "[0.21237612 0.96113505 0.70695408 0.59296821 0.38085241 0.6387405 ]\n",
      "[0.50242857 0.08979307 0.29717467 0.82814423 0.17545597 0.90448946]\n"
     ]
    }
   ],
   "source": [
    "np.random.seed(50)\n",
    "for x in range(0, 20):\n",
    "    numbers = np.random.rand(6)\n",
    "    print(numbers)"
   ]
  },
  {
   "cell_type": "code",
   "execution_count": null,
   "metadata": {
    "collapsed": true
   },
   "outputs": [],
   "source": []
  },
  {
   "cell_type": "markdown",
   "metadata": {},
   "source": [
    "# Random Numbers"
   ]
  },
  {
   "cell_type": "code",
   "execution_count": 1,
   "metadata": {
    "collapsed": true
   },
   "outputs": [],
   "source": [
    "import matplotlib.pyplot as plt\n",
    "import numpy as np\n",
    "%matplotlib inline"
   ]
  },
  {
   "cell_type": "code",
   "execution_count": 7,
   "metadata": {
    "collapsed": true
   },
   "outputs": [],
   "source": [
    "s = 3 # seed\n",
    "a = 10 #37 #10 # multiplier\n",
    "c = 2 # increment\n",
    "m = 19 # modulus"
   ]
  },
  {
   "cell_type": "code",
   "execution_count": 12,
   "metadata": {},
   "outputs": [],
   "source": [
    "n = 60\n",
    "x = np.zeros(n)\n",
    "x[0] = s\n",
    "for i in range(1,n):\n",
    "    x[i] = (a * x[i-1] + c) % m\n",
    "#print(x)"
   ]
  },
  {
   "cell_type": "code",
   "execution_count": 13,
   "metadata": {},
   "outputs": [
    {
     "data": {
      "text/plain": [
       "[<matplotlib.lines.Line2D at 0x113ad4d68>]"
      ]
     },
     "execution_count": 13,
     "metadata": {},
     "output_type": "execute_result"
    },
    {
     "data": {
      "image/png": "[encoded data removed]",
      "text/plain": [
       "<Figure size 432x288 with 1 Axes>"
      ]
     },
     "metadata": {},
     "output_type": "display_data"
    }
   ],
   "source": [
    "plt.plot(x,'.')"
   ]
  },
  {
   "cell_type": "code",
   "execution_count": 14,
   "metadata": {
    "collapsed": true
   },
   "outputs": [],
   "source": [
    "s = 8\n",
    "a = 1664525\n",
    "c = 1013904223\n",
    "m = 2**32"
   ]
  },
  {
   "cell_type": "code",
   "execution_count": 15,
   "metadata": {
    "collapsed": true
   },
   "outputs": [],
   "source": [
    "n = 300\n",
    "x = np.zeros(n)\n",
    "x[0] = s\n",
    "for i in range(1,n):\n",
    "    x[i] = (a * x[i-1] + c) % m\n",
    "#print(x)"
   ]
  },
  {
   "cell_type": "code",
   "execution_count": 16,
   "metadata": {},
   "outputs": [
    {
     "data": {
      "text/plain": [
       "[<matplotlib.lines.Line2D at 0x113b99ac8>]"
      ]
     },
     "execution_count": 16,
     "metadata": {},
     "output_type": "execute_result"
    },
    {
     "data": {
      "image/png": "[encoded data removed]",
      "text/plain": [
       "<Figure size 432x288 with 1 Axes>"
      ]
     },
     "metadata": {},
     "output_type": "display_data"
    }
   ],
   "source": [
    "plt.plot(x,'.')"
   ]
  },
  {
   "cell_type": "code",
   "execution_count": null,
   "metadata": {
    "collapsed": true
   },
   "outputs": [],
   "source": []
  },
  {
   "cell_type": "markdown",
   "metadata": {},
   "source": [
    "# Ratio of a Circle to a Box"
   ]
  },
  {
   "cell_type": "code",
   "execution_count": 1,
   "metadata": {
    "collapsed": true
   },
   "outputs": [],
   "source": [
    "import matplotlib.pyplot as plt\n",
    "import numpy as np\n",
    "%matplotlib inline"
   ]
  },
  {
   "cell_type": "code",
   "execution_count": 2,
   "metadata": {
    "collapsed": true
   },
   "outputs": [],
   "source": [
    "np.random.seed(908)  # a not-so-random starting seed"
   ]
  },
  {
   "cell_type": "markdown",
   "metadata": {},
   "source": [
    "Let's start with a uniform distribution on the unit square  [0,1]×[0,1] . Create a 2D array samples of shape (2, nsamples):"
   ]
  },
  {
   "cell_type": "code",
   "execution_count": 3,
   "metadata": {
    "collapsed": true
   },
   "outputs": [],
   "source": [
    "nsamples = 10**5\n",
    "samples = np.random.rand(2, nsamples)"
   ]
  },
  {
   "cell_type": "markdown",
   "metadata": {},
   "source": [
    "Scale the sample points \"samples\", so that we have a uniform distribution inside a square $[-1,1]\\times [-1,1]$. Calculate the distance from each sample point to the origin $(0,0)$"
   ]
  },
  {
   "cell_type": "code",
   "execution_count": 4,
   "metadata": {},
   "outputs": [
    {
     "data": {
      "image/png": "[encoded data removed]",
      "text/plain": [
       "<Figure size 432x288 with 1 Axes>"
      ]
     },
     "metadata": {},
     "output_type": "display_data"
    }
   ],
   "source": [
    "xy = samples * 2 - 1.0 # scale sample points\n",
    "r = np.sqrt(xy[0, :]**2 + xy[1, :]**2)  # calculate radius\n",
    "\n",
    "## talk about here how we can reduce the calculation by removing the sqrt\n",
    "plt.plot(xy[0,:], xy[1,:], 'k.')\n",
    "plt.axis('equal')\n",
    "plt.xlabel('x')\n",
    "plt.ylabel('y');"
   ]
  },
  {
   "cell_type": "markdown",
   "metadata": {},
   "source": [
    "If the distance is less than 1 (radius of the circle), then the sample point is inside the circle."
   ]
  },
  {
   "cell_type": "code",
   "execution_count": 5,
   "metadata": {},
   "outputs": [
    {
     "data": {
      "text/plain": [
       "array([ True,  True,  True, ..., False, False,  True])"
      ]
     },
     "execution_count": 5,
     "metadata": {},
     "output_type": "execute_result"
    }
   ],
   "source": [
    "incircle = (r <= 1.0)\n",
    "n = np.arange(1, nsamples+1)\n",
    "incircle"
   ]
  },
  {
   "cell_type": "code",
   "execution_count": 6,
   "metadata": {},
   "outputs": [
    {
     "data": {
      "text/plain": [
       "array([4.        , 4.        , 4.        , ..., 3.13634273, 3.13631136,\n",
       "       3.13632   ])"
      ]
     },
     "execution_count": 6,
     "metadata": {},
     "output_type": "execute_result"
    }
   ],
   "source": [
    "countincircle = 4 * incircle.cumsum() / n\n",
    "countincircle"
   ]
  },
  {
   "cell_type": "code",
   "execution_count": 7,
   "metadata": {},
   "outputs": [
    {
     "data": {
      "image/png": "[encoded data removed]",
      "text/plain": [
       "<Figure size 432x288 with 1 Axes>"
      ]
     },
     "metadata": {},
     "output_type": "display_data"
    }
   ],
   "source": [
    "plt.plot(xy[0,np.where(incircle)[0]], xy[1,np.where(incircle)[0]], 'b.')\n",
    "plt.plot(xy[0,np.where(incircle==False)[0]], xy[1,np.where(incircle==False)[0]], 'r.')\n",
    "plt.axis('equal')\n",
    "plt.xlabel('x')\n",
    "plt.ylabel('y');"
   ]
  },
  {
   "cell_type": "markdown",
   "metadata": {},
   "source": [
    "## Aproximation for $\\pi$ for increasing values of `n` (number of sample points)"
   ]
  },
  {
   "cell_type": "markdown",
   "metadata": {},
   "source": [
    "The approximation for $\\pi$ when we use `n` sample points is:"
   ]
  },
  {
   "cell_type": "code",
   "execution_count": 8,
   "metadata": {},
   "outputs": [
    {
     "name": "stdout",
     "output_type": "stream",
     "text": [
      "3.13632\n"
     ]
    }
   ],
   "source": [
    "pi_approx = countincircle[-1]\n",
    "print(pi_approx)"
   ]
  },
  {
   "cell_type": "code",
   "execution_count": 9,
   "metadata": {},
   "outputs": [
    {
     "data": {
      "image/png": "[encoded data removed]",
      "text/plain": [
       "<Figure size 432x288 with 1 Axes>"
      ]
     },
     "metadata": {},
     "output_type": "display_data"
    }
   ],
   "source": [
    "plt.plot(n, countincircle, '.')\n",
    "plt.xlabel('n')\n",
    "plt.ylabel('count in circle');\n"
   ]
  },
  {
   "cell_type": "code",
   "execution_count": 10,
   "metadata": {},
   "outputs": [
    {
     "data": {
      "text/plain": [
       "Text(0, 0.5, 'error')"
      ]
     },
     "execution_count": 10,
     "metadata": {},
     "output_type": "execute_result"
    },
    {
     "data": {
      "image/png": "[encoded data removed]",
      "text/plain": [
       "<Figure size 432x288 with 1 Axes>"
      ]
     },
     "metadata": {},
     "output_type": "display_data"
    }
   ],
   "source": [
    "error = np.abs(countincircle - np.pi)\n",
    "plt.loglog(n, error, '.')\n",
    "plt.xlabel('n')\n",
    "plt.ylabel('error')"
   ]
  },
  {
   "cell_type": "code",
   "execution_count": 11,
   "metadata": {},
   "outputs": [
    {
     "data": {
      "text/plain": [
       "[<matplotlib.lines.Line2D at 0x1167dc588>]"
      ]
     },
     "execution_count": 11,
     "metadata": {},
     "output_type": "execute_result"
    },
    {
     "data": {
      "image/png": "[encoded data removed]",
      "text/plain": [
       "<Figure size 432x288 with 1 Axes>"
      ]
     },
     "metadata": {},
     "output_type": "display_data"
    }
   ],
   "source": [
    "error = np.abs(countincircle - np.pi)\n",
    "plt.loglog(n, error, '.')\n",
    "plt.xlabel('n')\n",
    "plt.ylabel('error')\n",
    "\n",
    "plt.loglog(n, 1/n**2, '.')\n",
    "plt.loglog(n, 1/n, 'r')\n",
    "plt.loglog(n, 1/np.sqrt(n), 'm')"
   ]
  },
  {
   "cell_type": "code",
   "execution_count": null,
   "metadata": {
    "collapsed": true
   },
   "outputs": [],
   "source": []
  }
 ],
 "metadata": {
  "colab": {
   "name": "MonteCarloMethods.ipynb",
   "provenance": [],
   "toc_visible": true
  },
  "kernelspec": {
   "display_name": "Python 3",
   "language": "python",
   "name": "python3"
  },
  "language_info": {
   "codemirror_mode": {
    "name": "ipython",
    "version": 3
   },
   "file_extension": ".py",
   "mimetype": "text/x-python",
   "name": "python",
   "nbconvert_exporter": "python",
   "pygments_lexer": "ipython3",
   "version": "3.7.6"
  },
  "widgets": {
   "state": {},
   "version": "1.1.2"
  }
 },
 "nbformat": 4,
 "nbformat_minor": 2
}
